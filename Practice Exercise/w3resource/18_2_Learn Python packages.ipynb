{
 "cells": [
  {
   "cell_type": "markdown",
   "id": "473b0952-b049-430c-b54b-8ce35cdf4f6f",
   "metadata": {},
   "source": [
    "# Python urllib3"
   ]
  },
  {
   "cell_type": "markdown",
   "id": "991730c9-1bc6-4960-90f1-3a40406cbc6a",
   "metadata": {},
   "source": [
    "Making Requests"
   ]
  },
  {
   "cell_type": "code",
   "execution_count": 1,
   "id": "0ce89d9b-da58-46cb-b08b-a4575367c046",
   "metadata": {},
   "outputs": [],
   "source": [
    "import urllib3"
   ]
  },
  {
   "cell_type": "code",
   "execution_count": 7,
   "id": "e04bedd8-6370-47fe-b5ea-2f689cd54e13",
   "metadata": {},
   "outputs": [
    {
     "name": "stdout",
     "output_type": "stream",
     "text": [
      "b'User-agent: *\\nDisallow: /deny\\n'\n",
      "200\n"
     ]
    }
   ],
   "source": [
    "res = urllib3.request(\"GET\", \"http://httpbin.org/robots.txt\")\n",
    "print(res.data)\n",
    "print(res.status)"
   ]
  },
  {
   "cell_type": "code",
   "execution_count": 9,
   "id": "0c42590c-80da-4a1d-b513-dd411b7520c6",
   "metadata": {},
   "outputs": [
    {
     "name": "stdout",
     "output_type": "stream",
     "text": [
      "b'User-agent: *\\nDisallow: /deny\\n'\n"
     ]
    }
   ],
   "source": [
    "http = urllib3.PoolManager()\n",
    "res = http.request(\"GET\", \"http://httpbin.org/robots.txt\")\n",
    "print(res.data)"
   ]
  },
  {
   "cell_type": "code",
   "execution_count": 11,
   "id": "df558e4f-49cc-49d1-8cfe-f3b1eec19061",
   "metadata": {},
   "outputs": [
    {
     "name": "stdout",
     "output_type": "stream",
     "text": [
      "b'<!DOCTYPE HTML PUBLIC \"-//W3C//DTD HTML 3.2 Final//EN\">\\n<title>405 Method Not Allowed</title>\\n<h1>Method Not Allowed</h1>\\n<p>The method is not allowed for the requested URL.</p>\\n'\n"
     ]
    }
   ],
   "source": [
    "http = urllib3.PoolManager()\n",
    "resp = http.request(\n",
    "    \"GET\",\n",
    "    \"https://httpbin.org/post\",\n",
    "    fields={\"hello\": \"world\"} #  Add custom form fields\n",
    ")\n",
    "\n",
    "print(resp.data)"
   ]
  },
  {
   "cell_type": "code",
   "execution_count": 12,
   "id": "35eef687-fa21-4e9a-97b5-64327c266369",
   "metadata": {},
   "outputs": [
    {
     "name": "stdout",
     "output_type": "stream",
     "text": [
      "b'{\\n  \"args\": {}, \\n  \"data\": \"\", \\n  \"files\": {}, \\n  \"form\": {\\n    \"hello\": \"world\"\\n  }, \\n  \"headers\": {\\n    \"Accept-Encoding\": \"identity\", \\n    \"Content-Length\": \"129\", \\n    \"Content-Type\": \"multipart/form-data; boundary=ca05d707e8f289ec2dfc1d2e7658432f\", \\n    \"Host\": \"httpbin.org\", \\n    \"User-Agent\": \"python-urllib3/2.2.3\", \\n    \"X-Amzn-Trace-Id\": \"Root=1-678104ff-5b7eb6d23d7a4ef666e69e94\"\\n  }, \\n  \"json\": null, \\n  \"origin\": \"123.201.110.130\", \\n  \"url\": \"https://httpbin.org/post\"\\n}\\n'\n"
     ]
    }
   ],
   "source": [
    "http = urllib3.PoolManager()\n",
    "resp = http.request(\n",
    "    \"POST\",\n",
    "    \"https://httpbin.org/post\",\n",
    "    fields={\"hello\": \"world\"} #  Add custom form fields\n",
    ")\n",
    "\n",
    "print(resp.data)"
   ]
  },
  {
   "cell_type": "markdown",
   "id": "c3c9dbd1-465e-47b9-a600-c917ef205b8b",
   "metadata": {},
   "source": [
    "Response content"
   ]
  },
  {
   "cell_type": "code",
   "execution_count": 16,
   "id": "c40b7153-912e-4627-9d65-0fd2b1618c65",
   "metadata": {},
   "outputs": [
    {
     "name": "stdout",
     "output_type": "stream",
     "text": [
      "200\n",
      "b'{\\n  \"origin\": \"123.201.110.130\"\\n}\\n'\n",
      "HTTPHeaderDict({'Date': 'Fri, 10 Jan 2025 11:38:33 GMT', 'Content-Type': 'application/json', 'Content-Length': '34', 'Connection': 'keep-alive', 'Server': 'gunicorn/19.9.0', 'Access-Control-Allow-Origin': '*', 'Access-Control-Allow-Credentials': 'true'})\n"
     ]
    }
   ],
   "source": [
    "import urllib3\n",
    "\n",
    "# Making the request (The request function returns HTTPResponse object)\n",
    "resp = urllib3.request(\"GET\", \"https://httpbin.org/ip\")\n",
    "\n",
    "print(resp.status)\n",
    "# 200\n",
    "print(resp.data)         # Binary data\n",
    "# b\"{\\n  \"origin\": \"104.232.115.37\"\\n}\\n\"\n",
    "print(resp.headers)\n",
    "# HTTPHeaderDict({\"Content-Length\": \"32\", ...})"
   ]
  },
  {
   "cell_type": "code",
   "execution_count": 17,
   "id": "6db3614b-5134-429e-a972-a70885558556",
   "metadata": {},
   "outputs": [
    {
     "name": "stdout",
     "output_type": "stream",
     "text": [
      "{'origin': '123.201.110.130'}\n"
     ]
    }
   ],
   "source": [
    "print(resp.json())    # Json data"
   ]
  },
  {
   "cell_type": "markdown",
   "id": "c20a02dd-a563-4ed3-a75f-95660600e0c6",
   "metadata": {},
   "source": [
    "Using io Wrappers with Response Content"
   ]
  },
  {
   "cell_type": "code",
   "execution_count": 24,
   "id": "c086bc27-8399-4ff9-ae39-714cbd951542",
   "metadata": {},
   "outputs": [
    {
     "name": "stdout",
     "output_type": "stream",
     "text": [
      "<!doctype html>\n",
      " <html>\n",
      " <head>\n",
      "     <title>Example Domain</title>\n",
      " \n",
      "     <meta charset=\"utf-8\" />\n",
      "     <meta http-equiv=\"Content-type\" content=\"text/html; charset=utf-8\" />\n",
      "     <meta name=\"viewport\" content=\"width=device-width, initial-scale=1\" />\n",
      "     <style type=\"text/css\">\n",
      "     body {\n",
      "         background-color: #f0f0f2;\n",
      "         margin: 0;\n",
      "         padding: 0;\n",
      "         font-family: -apple-system, system-ui, BlinkMacSystemFont, \"Segoe UI\", \"Open Sans\", \"Helvetica Neue\", Helvetica, Arial, sans-serif;\n",
      "         \n",
      "     }\n",
      "     div {\n",
      "         width: 600px;\n",
      "         margin: 5em auto;\n",
      "         padding: 2em;\n",
      "         background-color: #fdfdff;\n",
      "         border-radius: 0.5em;\n",
      "         box-shadow: 2px 3px 7px 2px rgba(0,0,0,0.02);\n",
      "     }\n",
      "     a:link, a:visited {\n",
      "         color: #38488f;\n",
      "         text-decoration: none;\n",
      "     }\n",
      "     @media (max-width: 700px) {\n",
      "         div {\n",
      "             margin: 0 auto;\n",
      "             width: auto;\n",
      "         }\n",
      "     }\n",
      "     </style>    \n",
      " </head>\n",
      " \n",
      " <body>\n",
      " <div>\n",
      "     <h1>Example Domain</h1>\n",
      "     <p>This domain is for use in illustrative examples in documents. You may use this\n",
      "     domain in literature without prior coordination or asking for permission.</p>\n",
      "     <p><a href=\"https://www.iana.org/domains/example\">More information...</a></p>\n",
      " </div>\n",
      " </body>\n",
      " </html>\n",
      " "
     ]
    }
   ],
   "source": [
    "import io\n",
    "import urllib3\n",
    "\n",
    "resp = urllib3.request(\"GET\", \"https://example.com\", preload_content=False)\n",
    "resp.auto_close = False\n",
    "\n",
    "for line in io.TextIOWrapper(resp):\n",
    "    print(line, end=\" \")"
   ]
  },
  {
   "cell_type": "markdown",
   "id": "dd58ef4d-1cb4-4404-ae12-b79def56fb8f",
   "metadata": {},
   "source": [
    "Certificate Verification"
   ]
  },
  {
   "cell_type": "code",
   "execution_count": 22,
   "id": "fea83b15-83b0-4d3e-af44-783a3ec1a651",
   "metadata": {},
   "outputs": [
    {
     "name": "stdout",
     "output_type": "stream",
     "text": [
      "Verification Failed!!\n"
     ]
    }
   ],
   "source": [
    "import certifi\n",
    "import urllib3\n",
    "\n",
    "http = urllib3.PoolManager(\n",
    "    cert_reqs=\"CERT_REQUIRED\",\n",
    "    ca_certs=certifi.where()\n",
    ")\n",
    "\n",
    "http.request(\"GET\", \"https://httpbin.org/\")\n",
    "# (No exception)\n",
    "\n",
    "try:\n",
    "    http.request(\"GET\", \"https://expired.badssl.com\")\n",
    "    # urllib3.exceptions.SSLError ...\n",
    "except:\n",
    "    print(\"Verification Failed!!\")"
   ]
  },
  {
   "cell_type": "markdown",
   "id": "73e2db42-8328-487e-81b5-e18353cc55fd",
   "metadata": {},
   "source": [
    "Write a Python program that performs a simple HTTP GET request to a public API (e.g., JSONPlaceholder) and prints the response"
   ]
  },
  {
   "cell_type": "code",
   "execution_count": 23,
   "id": "e0f152b7-16a6-48cf-ab86-cb62679e939a",
   "metadata": {},
   "outputs": [
    {
     "name": "stdout",
     "output_type": "stream",
     "text": [
      "Response Data:\n",
      "{\n",
      "  \"userId\": 1,\n",
      "  \"id\": 1,\n",
      "  \"title\": \"sunt aut facere repellat provident occaecati excepturi optio reprehenderit\",\n",
      "  \"body\": \"quia et suscipit\\nsuscipit recusandae consequuntur expedita et cum\\nreprehenderit molestiae ut ut quas totam\\nnostrum rerum est autem sunt rem eveniet architecto\"\n",
      "}\n"
     ]
    }
   ],
   "source": [
    "import urllib3\n",
    "\n",
    "# Create a PoolManager instance to manage HTTP connections\n",
    "http = urllib3.PoolManager()\n",
    "\n",
    "# Define the API endpoint URL\n",
    "api_url = 'https://jsonplaceholder.typicode.com/posts/1'\n",
    "\n",
    "# Make a GET request to the API endpoint\n",
    "response = http.request('GET', api_url)\n",
    "\n",
    "# Check if the request was successful (status code 200)\n",
    "if response.status == 200:\n",
    "    # Print the response data (decoded as UTF-8)\n",
    "    print(\"Response Data:\")\n",
    "    print(response.data.decode('utf-8'))\n",
    "else:\n",
    "    # Print an error message if the request was not successful\n",
    "    print(f\"Error: Unable to fetch data. Status Code: {response.status}\")\n"
   ]
  },
  {
   "cell_type": "code",
   "execution_count": null,
   "id": "23dd8101-4762-486a-b835-ace0dd0d4105",
   "metadata": {},
   "outputs": [],
   "source": []
  }
 ],
 "metadata": {
  "kernelspec": {
   "display_name": "Python 3 (ipykernel)",
   "language": "python",
   "name": "python3"
  },
  "language_info": {
   "codemirror_mode": {
    "name": "ipython",
    "version": 3
   },
   "file_extension": ".py",
   "mimetype": "text/x-python",
   "name": "python",
   "nbconvert_exporter": "python",
   "pygments_lexer": "ipython3",
   "version": "3.12.7"
  }
 },
 "nbformat": 4,
 "nbformat_minor": 5
}
