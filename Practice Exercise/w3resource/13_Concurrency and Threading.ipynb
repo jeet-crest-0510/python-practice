{
 "cells": [
  {
   "cell_type": "markdown",
   "id": "e3f0aaa9-db4b-48e3-89fe-a2314bc0e949",
   "metadata": {
    "jp-MarkdownHeadingCollapsed": true
   },
   "source": [
    "# Multi-threading and Concurrency"
   ]
  },
  {
   "cell_type": "code",
   "execution_count": 1,
   "id": "b7843f30-d66b-4806-81c5-e2fb8d3ee856",
   "metadata": {},
   "outputs": [],
   "source": [
    "class Hello:\n",
    "    def run(self):\n",
    "        for i in range(5):\n",
    "            print(\"Hello\")\n",
    "\n",
    "class Hii:\n",
    "    def run(self):\n",
    "        for i in range(5):\n",
    "            print(\"Hii\")"
   ]
  },
  {
   "cell_type": "code",
   "execution_count": 2,
   "id": "b949cd32-547f-4e54-b689-ac6b772b6f4c",
   "metadata": {},
   "outputs": [
    {
     "name": "stdout",
     "output_type": "stream",
     "text": [
      "Hello\n",
      "Hello\n",
      "Hello\n",
      "Hello\n",
      "Hello\n",
      "Hii\n",
      "Hii\n",
      "Hii\n",
      "Hii\n",
      "Hii\n"
     ]
    }
   ],
   "source": [
    "t1 = Hello()\n",
    "t2 = Hii()\n",
    "\n",
    "t1.run()\n",
    "t2.run()"
   ]
  },
  {
   "cell_type": "code",
   "execution_count": 3,
   "id": "62817a82-ace2-4d83-8bc8-372c061dfeac",
   "metadata": {},
   "outputs": [],
   "source": [
    "from threading import *"
   ]
  },
  {
   "cell_type": "code",
   "execution_count": 18,
   "id": "ff710bc4-8e49-4404-a344-035bf713ea20",
   "metadata": {},
   "outputs": [],
   "source": [
    "import time"
   ]
  },
  {
   "cell_type": "code",
   "execution_count": 19,
   "id": "5de938f5-a84d-48b5-bcb4-0f98d21e4fb2",
   "metadata": {},
   "outputs": [],
   "source": [
    "class Hello(Thread):\n",
    "    def run(self):\n",
    "        for i in range(10):\n",
    "            time.sleep(1)\n",
    "            print(\"Hello\")\n",
    "\n",
    "class Hii(Thread):\n",
    "    def run(self):\n",
    "        for i in range(10):\n",
    "            time.sleep(1)\n",
    "            print(\"Hii\")"
   ]
  },
  {
   "cell_type": "code",
   "execution_count": 28,
   "id": "ae32ad8f-510b-4981-b14b-38efc29d3409",
   "metadata": {},
   "outputs": [],
   "source": [
    "t1 = Hello()\n",
    "t2 = Hii()"
   ]
  },
  {
   "cell_type": "code",
   "execution_count": 21,
   "id": "b3a07c50-7560-47e9-9973-d072b68cbb75",
   "metadata": {},
   "outputs": [
    {
     "name": "stdout",
     "output_type": "stream",
     "text": [
      "Hello\n",
      "Hello\n",
      "Hello\n",
      "Hello\n",
      "Hello\n",
      "Hello\n",
      "Hello\n",
      "Hello\n",
      "Hello\n",
      "Hello\n",
      "Hii\n",
      "Hii\n",
      "Hii\n",
      "Hii\n",
      "Hii\n",
      "Hii\n",
      "Hii\n",
      "Hii\n",
      "Hii\n",
      "Hii\n"
     ]
    }
   ],
   "source": [
    "t1.run()\n",
    "t2.run()"
   ]
  },
  {
   "cell_type": "code",
   "execution_count": 22,
   "id": "e6de0111-dc4b-40d0-b018-c624213308cc",
   "metadata": {},
   "outputs": [
    {
     "name": "stdout",
     "output_type": "stream",
     "text": [
      "Hello\n",
      "Hii\n",
      "Hello\n",
      "Hii\n",
      "Hello\n",
      "Hii\n",
      "Hello\n",
      "Hii\n",
      "Hello\n",
      "Hii\n",
      "HiiHello\n",
      "\n",
      "HiiHello\n",
      "\n",
      "HelloHii\n",
      "\n",
      "HiiHello\n",
      "\n",
      "HelloHii\n",
      "\n"
     ]
    }
   ],
   "source": [
    "t1.start()\n",
    "t2.start()"
   ]
  },
  {
   "cell_type": "code",
   "execution_count": 25,
   "id": "aec5f125-10e9-4365-bf7f-73978f950c45",
   "metadata": {},
   "outputs": [
    {
     "name": "stdout",
     "output_type": "stream",
     "text": [
      "Hello\n",
      "Hii\n",
      "Hello\n",
      "Hii\n",
      "Hello\n",
      "Hii\n",
      "Hello\n",
      "Hii\n",
      "Hello\n",
      "Hii\n",
      "Hello\n",
      "Hii\n",
      "Hello\n",
      "Hii\n",
      "Hello\n",
      "Hii\n",
      "Hello\n",
      "Hii\n",
      "Hello\n",
      "Hii\n"
     ]
    }
   ],
   "source": [
    "t1.start()\n",
    "time.sleep(0.2)\n",
    "t2.start()"
   ]
  },
  {
   "cell_type": "code",
   "execution_count": 27,
   "id": "074a35c1-0ead-4d65-a56c-c166ba4eeedb",
   "metadata": {},
   "outputs": [
    {
     "name": "stdout",
     "output_type": "stream",
     "text": [
      "Bye\n",
      "Hello\n",
      "Hii\n",
      "Hello\n",
      "Hii\n",
      "Hello\n",
      "Hii\n",
      "Hello\n",
      "Hii\n",
      "Hello\n",
      "Hii\n",
      "Hello\n",
      "Hii\n",
      "Hello\n",
      "Hii\n",
      "Hello\n",
      "Hii\n",
      "Hello\n",
      "Hii\n",
      "Hello\n",
      "Hii\n"
     ]
    }
   ],
   "source": [
    "t1.start()\n",
    "time.sleep(0.2)\n",
    "t2.start()\n",
    "\n",
    "print(\"Bye\")"
   ]
  },
  {
   "cell_type": "code",
   "execution_count": 29,
   "id": "ff2adf06-0149-4425-8e1b-525cbaa168c6",
   "metadata": {},
   "outputs": [
    {
     "name": "stdout",
     "output_type": "stream",
     "text": [
      "Hello\n",
      "Hii\n",
      "Hello\n",
      "Hii\n",
      "Hello\n",
      "Hii\n",
      "Hello\n",
      "Hii\n",
      "Hello\n",
      "Hii\n",
      "Hello\n",
      "Hii\n",
      "Hello\n",
      "Hii\n",
      "Hello\n",
      "Hii\n",
      "Hello\n",
      "Hii\n",
      "Hello\n",
      "Hii\n",
      "Bye\n"
     ]
    }
   ],
   "source": [
    "t1.start()\n",
    "time.sleep(0.2)\n",
    "t2.start()\n",
    "\n",
    "t1.join()\n",
    "t2.join()\n",
    "print(\"Bye\")"
   ]
  },
  {
   "cell_type": "markdown",
   "id": "f98cdc03-8828-4e29-a24b-48354c808332",
   "metadata": {},
   "source": [
    "Write a Python program to create multiple threads and print their names."
   ]
  },
  {
   "cell_type": "code",
   "execution_count": 30,
   "id": "ad407fb4-c7d2-433a-835c-7c49ddffa3fd",
   "metadata": {},
   "outputs": [],
   "source": [
    "from threading import *"
   ]
  },
  {
   "cell_type": "code",
   "execution_count": 32,
   "id": "e9e46ded-4b86-4ffd-8485-fc1957a1acae",
   "metadata": {},
   "outputs": [
    {
     "name": "stdout",
     "output_type": "stream",
     "text": [
      "Current thread name: Thread-33 (print_thread_names)\n",
      "Current thread name: Thread-34 (print_thread_names)\n",
      "Current thread name: Thread-35 (print_thread_names)\n",
      "Current thread name: Thread-36 (print_thread_names)\n",
      "Current thread name: Thread-37 (print_thread_names)\n",
      "Current thread name: Thread-38 (print_thread_names)\n",
      "Current thread name: Thread-39 (print_thread_names)\n",
      "Current thread name: Thread-40 (print_thread_names)\n",
      "Current thread name: Thread-41 (print_thread_names)\n",
      "Current thread name: Thread-42 (print_thread_names)\n"
     ]
    }
   ],
   "source": [
    "def print_thread_names():\n",
    "    print(\"Current thread name:\", current_thread().name)\n",
    "    \n",
    "threads = []\n",
    "for i in range(10):\n",
    "    thread = Thread(target=print_thread_names)\n",
    "    threads.append(thread)\n",
    "    thread.start()\n",
    "\n",
    "# Wait for all threads to complete\n",
    "for thread in threads:\n",
    "    thread.join()\n"
   ]
  },
  {
   "cell_type": "markdown",
   "id": "d09f3af9-8eb4-406b-aaaa-f9ec0f40a7d1",
   "metadata": {},
   "source": [
    "Write a  Python program that creates two threads to find and print even and odd numbers from 30 to 50."
   ]
  },
  {
   "cell_type": "code",
   "execution_count": 42,
   "id": "e5918d82-5dae-4894-a03d-a0c269b02caf",
   "metadata": {},
   "outputs": [
    {
     "name": "stdout",
     "output_type": "stream",
     "text": [
      "Even numbers: 30\n",
      "Odd numbers: 31\n",
      "Odd numbers: 33\n",
      "Odd numbers: 35\n",
      "Odd numbers: 37\n",
      "Odd numbers: 39\n",
      "Odd numbers: 41\n",
      "Odd numbers: 43\n",
      "Odd numbers: 45\n",
      "Odd numbers: 47\n",
      "Odd numbers: 49\n",
      "Even numbers: 32\n",
      "Even numbers: 34\n",
      "Even numbers: 36\n",
      "Even numbers: 38\n",
      "Even numbers: 40\n",
      "Even numbers: 42\n",
      "Even numbers: 44\n",
      "Even numbers: 46\n",
      "Even numbers: 48\n",
      "Even numbers: 50\n"
     ]
    }
   ],
   "source": [
    "def print_even_numbers():\n",
    "    for i in range(30, 51, 2):\n",
    "        print(f\"Even numbers: {i}\")\n",
    "        time.sleep(0.2)\n",
    "\n",
    "def print_odd_numbers():\n",
    "    for i in range(31, 51, 2):\n",
    "        print(f\"Odd numbers: {i}\")\n",
    "        #time.sleep(0.2)\n",
    "\n",
    "even_thread = Thread(target=print_even_numbers)\n",
    "odd_thread = Thread(target=print_odd_numbers)\n",
    "\n",
    "even_thread.start()\n",
    "odd_thread.start()\n",
    "\n",
    "even_thread.join()\n",
    "odd_thread.join()"
   ]
  },
  {
   "cell_type": "markdown",
   "id": "85400f82-7033-4007-94b5-27e754e7dea5",
   "metadata": {},
   "source": [
    "Write a  Python program to implement a multi-threaded quicksort algorithm."
   ]
  },
  {
   "cell_type": "code",
   "execution_count": 43,
   "id": "89afb337-46b6-4559-890a-05999fa15105",
   "metadata": {},
   "outputs": [
    {
     "name": "stdout",
     "output_type": "stream",
     "text": [
      "Original array: [4, 5, 8, 3, 0, 5, 3, 9, 4, 3]\n",
      "Sorted array: [0, 3, 3, 3, 4, 4, 5, 5, 8, 9]\n"
     ]
    }
   ],
   "source": [
    "def partition(nums, low, high):\n",
    "    i = low - 1\n",
    "    pivot = nums[high]\n",
    "  \n",
    "    for j in range(low, high):\n",
    "        if nums[j] <= pivot:\n",
    "            i = i + 1\n",
    "            nums[i], nums[j] = nums[j], nums[i]\n",
    "  \n",
    "    nums[i + 1], nums[high] = nums[high], nums[i + 1]\n",
    "    return i + 1\n",
    "\n",
    "def quick_sort(nums, low, high):\n",
    "    if low < high:\n",
    "        pi = partition(nums, low, high)\n",
    "  \n",
    "        # Create two threads to sort the two halves of the array concurrently\n",
    "        left_thread = Thread(target=quick_sort, args=(nums, low, pi - 1))\n",
    "        right_thread = Thread(target=quick_sort, args=(nums, pi + 1, high))\n",
    "  \n",
    "        # Start the threads\n",
    "        left_thread.start()\n",
    "        right_thread.start()\n",
    "  \n",
    "        # Wait for both threads to finish\n",
    "        left_thread.join()\n",
    "        right_thread.join()\n",
    "\n",
    "\n",
    "arr = [4, 5, 8, 3, 0, 5, 3, 9, 4, 3]\n",
    "print(\"Original array:\", arr)\n",
    "\n",
    "quick_sort(arr, 0, len(arr) - 1)\n",
    "\n",
    "print(\"Sorted array:\", arr)\n"
   ]
  },
  {
   "cell_type": "markdown",
   "id": "61a4ed42-5a3d-4503-bf69-450bf85cfeb5",
   "metadata": {},
   "source": [
    "Write a  Python program that performs concurrent HTTP  requests using threads."
   ]
  },
  {
   "cell_type": "code",
   "execution_count": 44,
   "id": "95382c1a-0379-4a3d-b499-895b27a2ae9d",
   "metadata": {},
   "outputs": [],
   "source": [
    "import requests"
   ]
  },
  {
   "cell_type": "code",
   "execution_count": 47,
   "id": "b41fc9a1-42c3-40af-954c-9ff1f21dd912",
   "metadata": {},
   "outputs": [
    {
     "name": "stdout",
     "output_type": "stream",
     "text": [
      "Response from https://www.example.com: 200\n",
      "Response from https://www.google.com: 200\n",
      "Response from https://www.wikipedia.org: 200\n",
      "Response from https://www.python.org: 200\n"
     ]
    }
   ],
   "source": [
    "def make_request(url):\n",
    "    response = requests.get(url)\n",
    "    print(f\"Response from {url}: {response.status_code}\")\n",
    "\n",
    "urls = [\n",
    "    \"https://www.example.com\",\n",
    "    \"https://www.google.com\",\n",
    "    \"https://www.wikipedia.org\",\n",
    "    \"https://www.python.org\"\n",
    "]\n",
    "\n",
    "threads = []\n",
    "for url in urls:\n",
    "    thread = Thread(target=make_request, args=(url,))\n",
    "    thread.start()\n",
    "    time.sleep(1)\n",
    "    threads.append(thread)\n",
    "\n",
    "for thread in threads:\n",
    "    thread.join()\n"
   ]
  },
  {
   "cell_type": "code",
   "execution_count": 48,
   "id": "0a6b82ce-e1dc-42a7-a168-3232a3d6d8a3",
   "metadata": {},
   "outputs": [
    {
     "name": "stdout",
     "output_type": "stream",
     "text": [
      "Response from https://www.python.org: 200\n",
      "Response from https://www.wikipedia.org: 200\n",
      "Response from https://www.google.com: 200\n",
      "Response from https://www.example.com: 200\n"
     ]
    }
   ],
   "source": [
    "def make_request(url):\n",
    "    response = requests.get(url)\n",
    "    print(f\"Response from {url}: {response.status_code}\")\n",
    "\n",
    "urls = [\n",
    "    \"https://www.example.com\",\n",
    "    \"https://www.google.com\",\n",
    "    \"https://www.wikipedia.org\",\n",
    "    \"https://www.python.org\"\n",
    "]\n",
    "\n",
    "threads = []\n",
    "for url in urls:\n",
    "    thread = Thread(target=make_request, args=(url,))\n",
    "    thread.start()\n",
    "    threads.append(thread)\n",
    "\n",
    "for thread in threads:\n",
    "    thread.join()\n"
   ]
  },
  {
   "cell_type": "markdown",
   "id": "77a94ccd-f7c5-42bd-b561-d461b3929856",
   "metadata": {},
   "source": [
    "# Asynchronous Programming"
   ]
  },
  {
   "cell_type": "code",
   "execution_count": 49,
   "id": "005d2f9b-5291-46e9-b4f6-1700653ce5c2",
   "metadata": {},
   "outputs": [],
   "source": [
    "import time"
   ]
  },
  {
   "cell_type": "code",
   "execution_count": 62,
   "id": "3534b837-905a-4d27-8a20-09259c6e10fe",
   "metadata": {},
   "outputs": [],
   "source": [
    "def coffee():\n",
    "    print(\"Start Coffee()\")\n",
    "    time.sleep(3)\n",
    "    print(\"End Coffee()\")\n",
    "    return \"Coffee Ready\"\n",
    "\n",
    "def Toast():\n",
    "    print(\"Start Toast()\")\n",
    "    time.sleep(2)\n",
    "    print(\"End Toast()\")\n",
    "    return \"Toast Ready\""
   ]
  },
  {
   "cell_type": "code",
   "execution_count": 63,
   "id": "c649eb27-c947-4076-944e-89c122dc0f60",
   "metadata": {},
   "outputs": [
    {
     "name": "stdout",
     "output_type": "stream",
     "text": [
      "Start Coffee()\n",
      "End Coffee()\n",
      "Start Toast()\n",
      "End Toast()\n",
      "Elapsed Time: 5.001657724380493 s\n"
     ]
    }
   ],
   "source": [
    "start = time.time()\n",
    "coffee()\n",
    "Toast()\n",
    "end = time.time()\n",
    "print(f\"Elapsed Time: {end - start} s\")"
   ]
  },
  {
   "cell_type": "code",
   "execution_count": 64,
   "id": "be47a8d2-8146-4181-887d-93150ed3c02a",
   "metadata": {},
   "outputs": [],
   "source": [
    "import asyncio"
   ]
  },
  {
   "cell_type": "code",
   "execution_count": 76,
   "id": "21892dba-2cce-4eef-a829-0da5286ebccc",
   "metadata": {},
   "outputs": [],
   "source": [
    "async def coffee():\n",
    "    print(\"Start Coffee()\")\n",
    "    await asyncio.sleep(3)\n",
    "    print(\"End Coffee()\")\n",
    "    \n",
    "    return \"Coffee Ready\"\n",
    "\n",
    "async def Toast():\n",
    "    print(\"Start Toast()\")\n",
    "    await asyncio.sleep(3)\n",
    "    print(\"End Toast()\")\n",
    "    \n",
    "    return \"Toast Ready\""
   ]
  },
  {
   "cell_type": "code",
   "execution_count": 66,
   "id": "f17c7c71-78c0-4a83-9781-510ce725c92e",
   "metadata": {},
   "outputs": [
    {
     "name": "stdout",
     "output_type": "stream",
     "text": [
      "Elapsed Time: 0.0009980201721191406 s\n",
      "Start Coffee()\n",
      "Start Toast()\n",
      "End Coffee()\n",
      "End Toast()\n"
     ]
    }
   ],
   "source": [
    "start = time.time()\n",
    "asyncio.create_task(coffee())\n",
    "asyncio.create_task(Toast())\n",
    "end = time.time()\n",
    "print(f\"Elapsed Time: {end - start} s\")"
   ]
  },
  {
   "cell_type": "code",
   "execution_count": 78,
   "id": "1e6760d1-bcda-4e08-8ada-07842a2b62a7",
   "metadata": {},
   "outputs": [
    {
     "name": "stdout",
     "output_type": "stream",
     "text": [
      "Start Coffee()\n",
      "Start Toast()\n",
      "End Coffee()\n",
      "End Toast()\n",
      "Elapsed Time: 3.0013625621795654 s\n"
     ]
    }
   ],
   "source": [
    "start = time.time()\n",
    "f1 = asyncio.create_task(coffee())\n",
    "f2 = asyncio.create_task(Toast())\n",
    "r1 = await f1\n",
    "r2 = await f2\n",
    "end = time.time()\n",
    "print(f\"Elapsed Time: {end - start} s\")"
   ]
  },
  {
   "cell_type": "code",
   "execution_count": 81,
   "id": "a5140c4c-13de-4ada-b7b6-97533990a181",
   "metadata": {},
   "outputs": [
    {
     "name": "stdout",
     "output_type": "stream",
     "text": [
      "Start Coffee()\n",
      "Start Toast()\n",
      "End Coffee()\n",
      "End Toast()\n",
      "Elapsed Time: 3.001246690750122 s\n"
     ]
    }
   ],
   "source": [
    "start = time.time()\n",
    "batch = asyncio.gather(coffee(), Toast())\n",
    "r1, r2 = await batch\n",
    "end = time.time()\n",
    "print(f\"Elapsed Time: {end - start} s\")"
   ]
  },
  {
   "cell_type": "code",
   "execution_count": 82,
   "id": "a0ce27ec-83c6-4552-ade2-90aed506781d",
   "metadata": {},
   "outputs": [
    {
     "name": "stdout",
     "output_type": "stream",
     "text": [
      "Elapsed Time: 0.0 s\n",
      "Start Coffee()\n",
      "Start Toast()\n",
      "End Coffee()\n",
      "End Toast()\n"
     ]
    }
   ],
   "source": [
    "start = time.time()\n",
    "batch = asyncio.gather(coffee(), Toast())\n",
    "# r1, r2 = await batch\n",
    "end = time.time()\n",
    "print(f\"Elapsed Time: {end - start} s\")"
   ]
  },
  {
   "cell_type": "code",
   "execution_count": 83,
   "id": "80c8edd7-04a5-4e78-ac0a-91a810d917f0",
   "metadata": {},
   "outputs": [
    {
     "name": "stdout",
     "output_type": "stream",
     "text": [
      "Start Coffee()\n",
      "Start Toast()\n",
      "Start Coffee()\n",
      "End Coffee()\n",
      "End Toast()\n",
      "End Coffee()\n",
      "Elapsed Time: 3.0125906467437744 s\n"
     ]
    }
   ],
   "source": [
    "start = time.time()\n",
    "batch = asyncio.gather(coffee(), Toast(), coffee())\n",
    "r1, r2, r3 = await batch\n",
    "end = time.time()\n",
    "print(f\"Elapsed Time: {end - start} s\")"
   ]
  },
  {
   "cell_type": "code",
   "execution_count": 85,
   "id": "d9523e53-4abd-48ef-9e8d-c16ac77b6551",
   "metadata": {},
   "outputs": [
    {
     "name": "stdout",
     "output_type": "stream",
     "text": [
      "Start Toast()\n",
      "Start Coffee()\n",
      "End Toast()\n",
      "End Coffee()\n",
      "Elapsed Time: 3.0150511264801025 s\n"
     ]
    }
   ],
   "source": [
    "start = time.time()\n",
    "batch = asyncio.gather(Toast(), coffee())\n",
    "r1, r2 = await batch\n",
    "end = time.time()\n",
    "print(f\"Elapsed Time: {end - start} s\")"
   ]
  },
  {
   "cell_type": "code",
   "execution_count": null,
   "id": "162f19ad-4a3b-42c5-aff1-6e44c9ec908b",
   "metadata": {},
   "outputs": [],
   "source": [
    "async def main():\n",
    "    start = time.time()\n",
    "    f1 = asyncio.create_task(coffee())\n",
    "    f2 = asyncio.create_task(Toast())\n",
    "    r1 = await f1\n",
    "    r2 = await f2\n",
    "    end = time.time()\n",
    "    print(f\"Elapsed Time: {end - start} s\")\n",
    "\n",
    "if __name__ == \"__main__\":\n",
    "    asyncio.run(main())"
   ]
  },
  {
   "attachments": {
    "82234348-d070-4ba9-89ad-5063d75e1bdb.png": {
     "image/png": "[encoded data removed]"
    }
   },
   "cell_type": "markdown",
   "id": "567e319f-65b1-45d7-a898-53b583ab473f",
   "metadata": {},
   "source": [
    "In VsCode: \n",
    "![image.png](attachment:82234348-d070-4ba9-89ad-5063d75e1bdb.png)"
   ]
  },
  {
   "cell_type": "markdown",
   "id": "ebd46084-2b62-4382-ba8a-a08ddc0e2acd",
   "metadata": {},
   "source": [
    "Write a Python program that creates three asynchronous functions and displays their respective names with different delays (1 second, 2 seconds, and 3 seconds)."
   ]
  },
  {
   "cell_type": "code",
   "execution_count": 94,
   "id": "bed35c12-8035-4161-a677-0e1961919bfe",
   "metadata": {},
   "outputs": [
    {
     "data": {
      "text/plain": [
       "<_GatheringFuture pending>"
      ]
     },
     "execution_count": 94,
     "metadata": {},
     "output_type": "execute_result"
    },
    {
     "name": "stdout",
     "output_type": "stream",
     "text": [
      "Asyn. function-1\n",
      "Asyn. function-4\n",
      "Asyn. function-3\n"
     ]
    }
   ],
   "source": [
    "async def display_name_with_delay(name, delay):\n",
    "    await asyncio.sleep(delay)\n",
    "    print(name)\n",
    "    \n",
    "\n",
    "tasks = [\n",
    "    display_name_with_delay(\"Asyn. function-1\", 1),\n",
    "    display_name_with_delay(\"Asyn. function-3\", 3),\n",
    "    display_name_with_delay(\"Asyn. function-4\", 1)\n",
    "]    \n",
    "asyncio.gather(*tasks)"
   ]
  },
  {
   "cell_type": "markdown",
   "id": "9965723f-3162-4d18-985a-7b0c4ad4ee3b",
   "metadata": {},
   "source": [
    "Write a Python program that runs multiple asynchronous tasks concurrently using asyncio.gather() and measures the time taken."
   ]
  },
  {
   "cell_type": "code",
   "execution_count": 95,
   "id": "781924f8-d0eb-47a4-ba7f-e81936579ad8",
   "metadata": {},
   "outputs": [
    {
     "name": "stdout",
     "output_type": "stream",
     "text": [
      "Task-1 started\n",
      "Task-2 started\n",
      "Task-3 started\n",
      "\n",
      "Task-2 completed\n",
      "Task-3 completed\n",
      "Task-1 completed\n",
      "\n",
      "All tasks completed in 4.02 seconds\n"
     ]
    }
   ],
   "source": [
    "async def task1():\n",
    "    print(\"Task-1 started\")\n",
    "    await asyncio.sleep(4)\n",
    "    print(\"Task-1 completed\")\n",
    "    \n",
    "async def task2():\n",
    "    print(\"Task-2 started\")\n",
    "    await asyncio.sleep(1)\n",
    "    print(\"Task-2 completed\")\n",
    "    \n",
    "async def task3():\n",
    "    print(\"Task-3 started\\n\")\n",
    "    await asyncio.sleep(2)\n",
    "    print(\"Task-3 completed\")\n",
    "\n",
    "start_time = time.time()    \n",
    "await asyncio.gather(task1(), task2(), task3())    \n",
    "end_time = time.time()\n",
    "elapsed_time = end_time - start_time\n",
    "print(\"\\nAll tasks completed in {:.2f} seconds\".format(elapsed_time))\n",
    "\n"
   ]
  },
  {
   "cell_type": "markdown",
   "id": "57391564-dc28-4a7c-b450-afddbdce3a8e",
   "metadata": {},
   "source": [
    "Write a Python program to create a coroutine that simulates a time-consuming task and use asyncio.CancelledError to handle task cancellation."
   ]
  },
  {
   "cell_type": "code",
   "execution_count": 98,
   "id": "7a0fadba-4d2b-4327-ab64-707f02416aa8",
   "metadata": {},
   "outputs": [
    {
     "name": "stdout",
     "output_type": "stream",
     "text": [
      "Time-consuming task started...\n",
      "Step 1 started\n",
      "Step 1 completed\n",
      "Step 2 started\n",
      "Step 2 completed\n",
      "Step 3 started\n",
      "Time consuming task was cancelled\n",
      "Main coroutine caught task cancellation!\n"
     ]
    }
   ],
   "source": [
    "import random\n",
    "\n",
    "async def time_consuming_task():\n",
    "    print('Time-consuming task started...')\n",
    "    try:\n",
    "        for i in range(1, 6):\n",
    "            print(f'Step {i} started')\n",
    "            await asyncio.sleep(random.randint(1,5))\n",
    "            print(f'Step {i} completed')\n",
    "    except asyncio.CancelledError:\n",
    "        print('Time consuming task was cancelled')\n",
    "        raise\n",
    "        \n",
    "task = asyncio.create_task(time_consuming_task())\n",
    "await asyncio.sleep(7)    \n",
    "task.cancel()\n",
    "try:\n",
    "    await task\n",
    "except asyncio.CancelledError:\n",
    "    print('Main coroutine caught task cancellation!')\n"
   ]
  },
  {
   "cell_type": "markdown",
   "id": "5803dae2-6514-4cff-876f-f488ee4701df",
   "metadata": {},
   "source": [
    "Write a Python program that implements a timeout for an asynchronous operation using asyncio.wait_for()."
   ]
  },
  {
   "cell_type": "code",
   "execution_count": 101,
   "id": "b043f2dc-1e63-490c-a55d-405890c630ca",
   "metadata": {},
   "outputs": [
    {
     "name": "stdout",
     "output_type": "stream",
     "text": [
      "Starting long operation for 8 seconds...\n",
      "Timeout occurred after waiting for 4 seconds\n"
     ]
    }
   ],
   "source": [
    "async def time_consuming_task(duration):\n",
    "    print(f'Starting long operation for {duration} seconds...')\n",
    "    await asyncio.sleep(duration)\n",
    "    return f'Long operation completed in {duration} seconds'\n",
    "    \n",
    "timeout = 4\n",
    "try:\n",
    "    result = await asyncio.wait_for(time_consuming_task(8), timeout)\n",
    "    print(result)\n",
    "except asyncio.TimeoutError:\n",
    "    print(f'Timeout occurred after waiting for {timeout} seconds')\n",
    "\n"
   ]
  },
  {
   "cell_type": "markdown",
   "id": "61eb7f8f-fb3b-461f-8f93-196a79861532",
   "metadata": {},
   "source": [
    "Write a Python program that uses asyncio queues to simulate a producer-consumer scenario with multiple producers and a single consumer."
   ]
  },
  {
   "cell_type": "code",
   "execution_count": null,
   "id": "8bfb60c6-b281-43e1-82a4-07d77ec4d451",
   "metadata": {},
   "outputs": [
    {
     "name": "stdout",
     "output_type": "stream",
     "text": [
      "Producer 0 produced-> Item: 0-0\n",
      "Producer 1 produced-> Item: 1-0\n",
      "Producer 2 produced-> Item: 2-0\n",
      "Consumer consumed Item: 0-0\n",
      "Consumer consumed Item: 1-0\n",
      "Consumer consumed Item: 2-0\n",
      "Producer 1 produced-> Item: 1-1\n",
      "Consumer consumed Item: 1-1\n",
      "Producer 2 produced-> Item: 2-1\n",
      "Consumer consumed Item: 2-1\n",
      "Producer 0 produced-> Item: 0-1\n",
      "Producer 1 produced-> Item: 1-2\n",
      "Consumer consumed Item: 0-1\n",
      "Consumer consumed Item: 1-2\n",
      "Producer 2 produced-> Item: 2-2\n",
      "Producer 0 produced-> Item: 0-2\n",
      "Consumer consumed Item: 2-2\n",
      "Consumer consumed Item: 0-2\n"
     ]
    }
   ],
   "source": [
    "import asyncio\n",
    "import random\n",
    "\n",
    "async def producer(queue, id):\n",
    "    for i in range(3):\n",
    "        item = f\"Item: {id}-{i}\"\n",
    "        await queue.put(item)\n",
    "        print(f\"Producer {id} produced-> {item}\")\n",
    "        await asyncio.sleep(random.uniform(0.1, 0.5))\n",
    "        \n",
    "async def consumer(queue):\n",
    "    while True:\n",
    "        item = await queue.get()\n",
    "        if item is None:\n",
    "            break\n",
    "        print(f\"Consumer consumed {item}\")\n",
    "        # queue.task_done()\n",
    "        \n",
    "\n",
    "queue = asyncio.Queue()\n",
    "producers = [asyncio.create_task(producer(queue, i)) for i in range(3)]\n",
    "consumer_task = asyncio.create_task(consumer(queue))\n",
    "await asyncio.gather(*producers)\n",
    "await queue.join()\n",
    "await queue.put(None)  # Signal the consumer to stop\n",
    "await consumer_task\n",
    "\n"
   ]
  },
  {
   "cell_type": "code",
   "execution_count": null,
   "id": "2ec34295-3f4c-442e-931d-850cf3c9467a",
   "metadata": {},
   "outputs": [],
   "source": []
  }
 ],
 "metadata": {
  "kernelspec": {
   "display_name": "Python 3 (ipykernel)",
   "language": "python",
   "name": "python3"
  },
  "language_info": {
   "codemirror_mode": {
    "name": "ipython",
    "version": 3
   },
   "file_extension": ".py",
   "mimetype": "text/x-python",
   "name": "python",
   "nbconvert_exporter": "python",
   "pygments_lexer": "ipython3",
   "version": "3.12.7"
  }
 },
 "nbformat": 4,
 "nbformat_minor": 5
}
