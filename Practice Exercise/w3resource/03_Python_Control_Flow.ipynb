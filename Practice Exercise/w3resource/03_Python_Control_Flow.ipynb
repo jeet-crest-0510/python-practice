{
 "cells": [
  {
   "cell_type": "markdown",
   "id": "b0cb77fc-6670-43eb-af9e-3958ec61c5ac",
   "metadata": {},
   "source": [
    "# Python Conditional Statements and loops"
   ]
  },
  {
   "cell_type": "markdown",
   "id": "a8c21d6b-6032-4140-b02e-6c3416434022",
   "metadata": {},
   "source": [
    "Write a Python program to create the multiplication table (from 1 to 10) of a number."
   ]
  },
  {
   "cell_type": "code",
   "execution_count": 3,
   "id": "cbc8fd87-95ca-4a88-8156-29dfeb306a74",
   "metadata": {},
   "outputs": [],
   "source": [
    "def mul(n):\n",
    "    for i in range(1, 11):\n",
    "        print(f\"{n} * {i} = {n*i}\")"
   ]
  },
  {
   "cell_type": "code",
   "execution_count": 4,
   "id": "930ee7d2-6a8e-44dc-922b-b96cd7fe2701",
   "metadata": {},
   "outputs": [
    {
     "name": "stdout",
     "output_type": "stream",
     "text": [
      "5 * 1 = 5\n",
      "5 * 2 = 10\n",
      "5 * 3 = 15\n",
      "5 * 4 = 20\n",
      "5 * 5 = 25\n",
      "5 * 6 = 30\n",
      "5 * 7 = 35\n",
      "5 * 8 = 40\n",
      "5 * 9 = 45\n",
      "5 * 10 = 50\n"
     ]
    }
   ],
   "source": [
    "mul(5)"
   ]
  },
  {
   "cell_type": "code",
   "execution_count": 5,
   "id": "e010365d-69bf-41f4-a91e-d73b030100d0",
   "metadata": {},
   "outputs": [
    {
     "name": "stdout",
     "output_type": "stream",
     "text": [
      "12 * 1 = 12\n",
      "12 * 2 = 24\n",
      "12 * 3 = 36\n",
      "12 * 4 = 48\n",
      "12 * 5 = 60\n",
      "12 * 6 = 72\n",
      "12 * 7 = 84\n",
      "12 * 8 = 96\n",
      "12 * 9 = 108\n",
      "12 * 10 = 120\n"
     ]
    }
   ],
   "source": [
    "mul(12)"
   ]
  },
  {
   "cell_type": "markdown",
   "id": "1c8539dd-59e8-426a-81da-550b64670211",
   "metadata": {},
   "source": [
    "Write a Python program to construct the following pattern, using a nested loop number.\n",
    "1\n",
    "22\n",
    "333\n",
    "4444\n",
    "55555\n",
    "666666\n",
    "7777777\n",
    "88888888\n",
    "999999999"
   ]
  },
  {
   "cell_type": "code",
   "execution_count": 8,
   "id": "b7687b66-543f-451a-91bb-abe4e75d6f2d",
   "metadata": {},
   "outputs": [
    {
     "name": "stdout",
     "output_type": "stream",
     "text": [
      "1\n",
      "22\n",
      "333\n",
      "4444\n",
      "55555\n",
      "666666\n",
      "7777777\n",
      "88888888\n",
      "999999999\n"
     ]
    }
   ],
   "source": [
    "for i in range(1, 10):\n",
    "    for j in range(1,i+1):\n",
    "        print(i, end='')\n",
    "    print()"
   ]
  },
  {
   "cell_type": "markdown",
   "id": "b7692675-e7f3-474b-bb7f-ea529743592d",
   "metadata": {},
   "source": [
    "# Python: Recursion"
   ]
  },
  {
   "cell_type": "markdown",
   "id": "aa4d5403-05e7-48f2-bf52-f9cf8f77b1e7",
   "metadata": {},
   "source": [
    "Write a Python program to calculate the value of 'a' to the power of 'b' using recursion."
   ]
  },
  {
   "cell_type": "code",
   "execution_count": 10,
   "id": "81ea6bd7-f34c-4501-b4d4-8c2a6409b35b",
   "metadata": {},
   "outputs": [],
   "source": [
    "def pow(a,b):\n",
    "    if b == 1:\n",
    "        return a\n",
    "    return a * pow(a, b-1)"
   ]
  },
  {
   "cell_type": "code",
   "execution_count": 11,
   "id": "2babc39b-3de7-4435-b7c2-b90e64ebf621",
   "metadata": {},
   "outputs": [
    {
     "data": {
      "text/plain": [
       "16"
      ]
     },
     "execution_count": 11,
     "metadata": {},
     "output_type": "execute_result"
    }
   ],
   "source": [
    "pow(2,4)"
   ]
  },
  {
   "cell_type": "code",
   "execution_count": 12,
   "id": "44d06e74-40c2-4d46-bc76-a1420ceeef74",
   "metadata": {},
   "outputs": [
    {
     "data": {
      "text/plain": [
       "81"
      ]
     },
     "execution_count": 12,
     "metadata": {},
     "output_type": "execute_result"
    }
   ],
   "source": [
    "pow(3,4)"
   ]
  },
  {
   "cell_type": "markdown",
   "id": "1e1546de-bded-40cc-b652-58c54341dcfe",
   "metadata": {},
   "source": [
    "Write a Python program to find the greatest common divisor (GCD) of two integers using recursion."
   ]
  },
  {
   "cell_type": "code",
   "execution_count": 47,
   "id": "56242708-a0bf-4829-8d26-f82c50e035dd",
   "metadata": {},
   "outputs": [],
   "source": [
    "def gcd(a,b,i=2):\n",
    "    if a<=1 or b<=1 or i>a or i>b:\n",
    "        return 1\n",
    "    if a%i==0 and b%i==0:\n",
    "        #print(i)\n",
    "        return i*gcd(a/i,b/i,i)\n",
    "        \n",
    "    return 1*gcd(a,b,i+1)"
   ]
  },
  {
   "cell_type": "code",
   "execution_count": 51,
   "id": "4c5d4186-104e-4858-9bcc-46d63778be2a",
   "metadata": {},
   "outputs": [
    {
     "data": {
      "text/plain": [
       "4"
      ]
     },
     "execution_count": 51,
     "metadata": {},
     "output_type": "execute_result"
    }
   ],
   "source": [
    "gcd(16,60)"
   ]
  },
  {
   "cell_type": "code",
   "execution_count": null,
   "id": "bdb1839f-a796-447c-b5af-be1cf27a241a",
   "metadata": {},
   "outputs": [],
   "source": []
  }
 ],
 "metadata": {
  "kernelspec": {
   "display_name": "Python 3 (ipykernel)",
   "language": "python",
   "name": "python3"
  },
  "language_info": {
   "codemirror_mode": {
    "name": "ipython",
    "version": 3
   },
   "file_extension": ".py",
   "mimetype": "text/x-python",
   "name": "python",
   "nbconvert_exporter": "python",
   "pygments_lexer": "ipython3",
   "version": "3.12.7"
  }
 },
 "nbformat": 4,
 "nbformat_minor": 5
}
