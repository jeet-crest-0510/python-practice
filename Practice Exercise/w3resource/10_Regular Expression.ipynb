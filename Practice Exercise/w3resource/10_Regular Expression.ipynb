{
 "cells": [
  {
   "cell_type": "markdown",
   "id": "513f89d2-6fe2-402c-9a37-6a34b31f8e9d",
   "metadata": {},
   "source": [
    "Write a Python program that takes a string with some words. For two consecutive words in the said string, check whether the first word ends with a vowel and the next word begins with a vowel. If the program meets the condition, return true, otherwise false. Only one space is allowed between the words."
   ]
  },
  {
   "cell_type": "code",
   "execution_count": 1,
   "id": "4ed1f6c2-e48c-4686-b2f3-60487639403e",
   "metadata": {},
   "outputs": [],
   "source": [
    "import re"
   ]
  },
  {
   "cell_type": "code",
   "execution_count": 12,
   "id": "42a4e207-a7fb-4850-9183-36c86582a6bf",
   "metadata": {},
   "outputs": [],
   "source": [
    "pattern = r\"[aeiou]\\s[aeiou]\""
   ]
  },
  {
   "cell_type": "code",
   "execution_count": 13,
   "id": "522a5ae4-3d96-4fc7-b759-765a416f3bdb",
   "metadata": {},
   "outputs": [
    {
     "name": "stdout",
     "output_type": "stream",
     "text": [
      "True\n"
     ]
    }
   ],
   "source": [
    "s = \"These exercises can be used for practice.\"\n",
    "if re.search(pattern,s.lower()):\n",
    "    print(\"True\")\n",
    "else:\n",
    "    print(\"False\")"
   ]
  },
  {
   "cell_type": "code",
   "execution_count": 14,
   "id": "170e5185-0763-400f-afee-69ee4db8daba",
   "metadata": {},
   "outputs": [
    {
     "name": "stdout",
     "output_type": "stream",
     "text": [
      "False\n"
     ]
    }
   ],
   "source": [
    "s = \"Following exercises should be removed for practice.\"\n",
    "if re.search(pattern,s.lower()):\n",
    "    print(\"True\")\n",
    "else:\n",
    "    print(\"False\")"
   ]
  },
  {
   "cell_type": "code",
   "execution_count": 15,
   "id": "8b3d2ee0-a37d-4fe3-9677-ffb425cb166c",
   "metadata": {},
   "outputs": [
    {
     "name": "stdout",
     "output_type": "stream",
     "text": [
      "True\n"
     ]
    }
   ],
   "source": [
    "s = \"I use these stories in my classroom.\"\n",
    "if re.search(pattern,s.lower()):\n",
    "    print(\"True\")\n",
    "else:\n",
    "    print(\"False\")"
   ]
  },
  {
   "cell_type": "code",
   "execution_count": null,
   "id": "4b9a7775-38bb-43cb-85e0-d25120de0e72",
   "metadata": {},
   "outputs": [],
   "source": []
  }
 ],
 "metadata": {
  "kernelspec": {
   "display_name": "Python 3 (ipykernel)",
   "language": "python",
   "name": "python3"
  },
  "language_info": {
   "codemirror_mode": {
    "name": "ipython",
    "version": 3
   },
   "file_extension": ".py",
   "mimetype": "text/x-python",
   "name": "python",
   "nbconvert_exporter": "python",
   "pygments_lexer": "ipython3",
   "version": "3.12.7"
  }
 },
 "nbformat": 4,
 "nbformat_minor": 5
}
