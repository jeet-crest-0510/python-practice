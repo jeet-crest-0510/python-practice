{
 "cells": [
  {
   "cell_type": "markdown",
   "id": "50e39bd1-ddfa-496a-95a0-fbe830ceb90a",
   "metadata": {},
   "source": [
    "Write a Python program to create a file where all letters of English alphabet are listed by specified number of letters on each line."
   ]
  },
  {
   "cell_type": "code",
   "execution_count": 1,
   "id": "def00629-500a-4b4c-81a0-da965393afc1",
   "metadata": {},
   "outputs": [
    {
     "data": {
      "text/plain": [
       "'C:\\\\Users\\\\JeetPrajapati\\\\Desktop\\\\Learning\\\\Python Practice\\\\python-practice\\\\Practice Exercise\\\\w3resource'"
      ]
     },
     "execution_count": 1,
     "metadata": {},
     "output_type": "execute_result"
    }
   ],
   "source": [
    "pwd()"
   ]
  },
  {
   "cell_type": "code",
   "execution_count": 6,
   "id": "b8af1521-51ab-42a7-bcc6-339415da239e",
   "metadata": {},
   "outputs": [],
   "source": [
    "with open(\"09_file1.txt\",\"w\") as f:\n",
    "    for i in range(1,27,3):\n",
    "        # f.write(f\"{i}) {chr(i + 64)}\\n\")\n",
    "        if i+64 == 91: break\n",
    "        f.write(chr(i + 64))\n",
    "        if i+65 == 91: break\n",
    "        f.write(chr(i + 65))\n",
    "        if i+66 == 91: break\n",
    "        f.write(f\"{chr(i + 66)}\\n\")"
   ]
  },
  {
   "cell_type": "markdown",
   "id": "45023980-528d-4def-9dc4-d7bc09674add",
   "metadata": {},
   "source": [
    "Write a Python program to write a Python dictionary to a csv file. After writing the CSV file read the CSV file and display the content."
   ]
  },
  {
   "cell_type": "code",
   "execution_count": 14,
   "id": "8e7dea6e-533d-4ff6-b539-9114f5bb9697",
   "metadata": {},
   "outputs": [],
   "source": [
    "import csv"
   ]
  },
  {
   "cell_type": "code",
   "execution_count": 17,
   "id": "037c2202-43fb-492e-a83e-3a201be10c39",
   "metadata": {},
   "outputs": [],
   "source": [
    "dict = {\n",
    "    \"Name\": [\"Jeet\", \"Jay\", \"Meet\"],\n",
    "    \"Age\": [20, 21, 20]\n",
    "}"
   ]
  },
  {
   "cell_type": "code",
   "execution_count": 24,
   "id": "f4babbef-446d-4ce1-916f-ced5f5420503",
   "metadata": {},
   "outputs": [],
   "source": [
    "with open(\"09_file2.csv\",\"w\", newline=\"\") as f:\n",
    "    csv_writer = csv.writer(f)\n",
    "    csv_writer.writerow(dict.keys())\n",
    "    csv_writer.writerows(zip(*dict.values()))"
   ]
  },
  {
   "cell_type": "code",
   "execution_count": 28,
   "id": "c81e4cec-7812-4362-8829-d7be8ca16b3f",
   "metadata": {},
   "outputs": [
    {
     "name": "stdout",
     "output_type": "stream",
     "text": [
      "['Name', 'Age'] ['Jeet', '20'] ['Jay', '21'] ['Meet', '20']\n",
      "[['Name', 'Age'], ['Jeet', '20'], ['Jay', '21'], ['Meet', '20']]\n"
     ]
    }
   ],
   "source": [
    "with open(\"09_file2.csv\",\"r\") as f:\n",
    "    csv_reader = csv.reader(f)\n",
    "    data = list(csv_reader)\n",
    "    print(*data)\n",
    "    print(data)"
   ]
  },
  {
   "cell_type": "code",
   "execution_count": 32,
   "id": "6ddee5ee-854b-431e-9bd2-be3faf81e61a",
   "metadata": {},
   "outputs": [
    {
     "data": {
      "text/plain": [
       "'Jeet'"
      ]
     },
     "execution_count": 32,
     "metadata": {},
     "output_type": "execute_result"
    }
   ],
   "source": [
    "data[1][0]"
   ]
  },
  {
   "cell_type": "code",
   "execution_count": null,
   "id": "9b3de023-6356-48d3-8658-32d5f7703337",
   "metadata": {},
   "outputs": [],
   "source": []
  }
 ],
 "metadata": {
  "kernelspec": {
   "display_name": "Python 3 (ipykernel)",
   "language": "python",
   "name": "python3"
  },
  "language_info": {
   "codemirror_mode": {
    "name": "ipython",
    "version": 3
   },
   "file_extension": ".py",
   "mimetype": "text/x-python",
   "name": "python",
   "nbconvert_exporter": "python",
   "pygments_lexer": "ipython3",
   "version": "3.12.7"
  }
 },
 "nbformat": 4,
 "nbformat_minor": 5
}
