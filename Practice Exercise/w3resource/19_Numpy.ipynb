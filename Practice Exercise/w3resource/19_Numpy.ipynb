{
 "cells": [
  {
   "cell_type": "markdown",
   "id": "6292f4d6-9c7a-485e-bb03-13665cd8d75c",
   "metadata": {
    "jp-MarkdownHeadingCollapsed": true
   },
   "source": [
    "# Python NumPy Basic"
   ]
  },
  {
   "cell_type": "markdown",
   "id": "9f75fad7-c012-4e5b-b3b0-9e74eda119ac",
   "metadata": {},
   "source": [
    "Write a NumPy program to create an element-wise comparison (greater, greater_equal, less and less_equal) of two given arrays."
   ]
  },
  {
   "cell_type": "code",
   "execution_count": 1,
   "id": "03cb398a-be94-417d-a918-68d52188e65a",
   "metadata": {},
   "outputs": [],
   "source": [
    "import numpy as np"
   ]
  },
  {
   "cell_type": "code",
   "execution_count": 2,
   "id": "effcbca8-1015-4617-b94e-b13e1585a8f9",
   "metadata": {},
   "outputs": [],
   "source": [
    "n1 = np.array([1,2,3,4,5])\n",
    "n2 = np.array([5,4,3,2,1])"
   ]
  },
  {
   "cell_type": "code",
   "execution_count": 3,
   "id": "f92d97f2-8f7f-4353-9efb-83b5da356e07",
   "metadata": {},
   "outputs": [
    {
     "name": "stdout",
     "output_type": "stream",
     "text": [
      "[1 2 3 4 5]\n",
      "[5 4 3 2 1]\n"
     ]
    }
   ],
   "source": [
    "print(n1)\n",
    "print(n2)"
   ]
  },
  {
   "cell_type": "code",
   "execution_count": 6,
   "id": "b61d7ebd-a928-475e-bdc4-69bad2b9ffaf",
   "metadata": {},
   "outputs": [
    {
     "name": "stdout",
     "output_type": "stream",
     "text": [
      "[False False False  True  True]\n",
      "[False False  True  True  True]\n",
      "[ True  True False False False]\n",
      "[ True  True  True False False]\n"
     ]
    }
   ],
   "source": [
    "print(np.greater(n1,n2))\n",
    "print(np.greater_equal(n1,n2))\n",
    "print(np.less(n1,n2))\n",
    "print(np.less_equal(n1,n2))"
   ]
  },
  {
   "cell_type": "code",
   "execution_count": 7,
   "id": "52d30a71-798b-4a25-bc3c-249fe5ca0dfa",
   "metadata": {},
   "outputs": [
    {
     "name": "stdout",
     "output_type": "stream",
     "text": [
      "[False False  True False False]\n"
     ]
    }
   ],
   "source": [
    "print(np.equal(n1,n2))"
   ]
  },
  {
   "cell_type": "code",
   "execution_count": 8,
   "id": "9c88c19d-587c-4efe-8c5d-7747684f6952",
   "metadata": {},
   "outputs": [
    {
     "name": "stdout",
     "output_type": "stream",
     "text": [
      "False\n"
     ]
    }
   ],
   "source": [
    "print(np.allclose(n1,n2))"
   ]
  },
  {
   "cell_type": "code",
   "execution_count": 9,
   "id": "b17730f0-2caf-4590-9893-b72aa7d239ee",
   "metadata": {},
   "outputs": [],
   "source": [
    "n1 = np.array([1,2,3,4,5])\n",
    "n2 = np.array([1,2,3,4,5])"
   ]
  },
  {
   "cell_type": "code",
   "execution_count": 10,
   "id": "d699f7d0-f392-4c49-bccf-65c28b960f9c",
   "metadata": {},
   "outputs": [
    {
     "name": "stdout",
     "output_type": "stream",
     "text": [
      "True\n"
     ]
    }
   ],
   "source": [
    "print(np.allclose(n1,n2))"
   ]
  },
  {
   "cell_type": "code",
   "execution_count": 15,
   "id": "91cfdbf5-5d38-4c7f-a7eb-23b461576836",
   "metadata": {},
   "outputs": [],
   "source": [
    "n1 = np.array([0.9999997,2,3,4,5])\n",
    "n2 = np.array([0.9999998,2,3,4,5])"
   ]
  },
  {
   "cell_type": "code",
   "execution_count": 16,
   "id": "ef539fd8-e9ce-46d8-adda-8638db91e954",
   "metadata": {},
   "outputs": [
    {
     "name": "stdout",
     "output_type": "stream",
     "text": [
      "True\n"
     ]
    }
   ],
   "source": [
    "print(np.allclose(n1,n2))"
   ]
  },
  {
   "cell_type": "code",
   "execution_count": 17,
   "id": "aaa20948-ebe6-4aab-b7d8-f490e530718a",
   "metadata": {},
   "outputs": [
    {
     "name": "stdout",
     "output_type": "stream",
     "text": [
      "Size of the memory occupied by the said array:\n",
      "40 bytes\n"
     ]
    }
   ],
   "source": [
    "print(\"Size of the memory occupied by the said array:\")\n",
    "print(\"%d bytes\" % (n1.size * n1.itemsize)) "
   ]
  },
  {
   "cell_type": "markdown",
   "id": "363b7ee5-d5e9-4f61-aeab-68ee587bbc13",
   "metadata": {},
   "source": [
    "Create Array of Zeros, Ones, Fives"
   ]
  },
  {
   "cell_type": "code",
   "execution_count": 19,
   "id": "fde72822-67dd-4bae-8026-06ddee225e8c",
   "metadata": {},
   "outputs": [
    {
     "name": "stdout",
     "output_type": "stream",
     "text": [
      "[0. 0. 0. 0. 0.]\n"
     ]
    }
   ],
   "source": [
    "n0 = np.zeros(5)\n",
    "print(n0)"
   ]
  },
  {
   "cell_type": "code",
   "execution_count": 20,
   "id": "b563c7f6-0db4-4744-a67b-7aaaac65796c",
   "metadata": {},
   "outputs": [
    {
     "name": "stdout",
     "output_type": "stream",
     "text": [
      "[1. 1. 1. 1. 1.]\n"
     ]
    }
   ],
   "source": [
    "n1 = np.ones(5)\n",
    "print(n1)"
   ]
  },
  {
   "cell_type": "code",
   "execution_count": 21,
   "id": "128c43e2-f80e-4af2-b24c-827c2b256eeb",
   "metadata": {},
   "outputs": [
    {
     "name": "stdout",
     "output_type": "stream",
     "text": [
      "[5. 5. 5. 5. 5.]\n"
     ]
    }
   ],
   "source": [
    "n5 = np.ones(5) * 5\n",
    "print(n5)"
   ]
  },
  {
   "cell_type": "markdown",
   "id": "472a1387-6412-471f-a902-c010b288db44",
   "metadata": {},
   "source": [
    "Create Array of Even Integers 30 to 70"
   ]
  },
  {
   "cell_type": "code",
   "execution_count": 22,
   "id": "d5c9d3bb-1551-44bf-968b-1f23484cf63e",
   "metadata": {},
   "outputs": [
    {
     "name": "stdout",
     "output_type": "stream",
     "text": [
      "[30 32 34 36 38 40 42 44 46 48 50 52 54 56 58 60 62 64 66 68 70]\n"
     ]
    }
   ],
   "source": [
    "arr1 = np.arange(30,71, 2)\n",
    "print(arr1)"
   ]
  },
  {
   "cell_type": "markdown",
   "id": "20933b33-6c1c-449b-bca1-e1f24d9ad7a6",
   "metadata": {},
   "source": [
    "Create 3x3 Identity Matrix"
   ]
  },
  {
   "cell_type": "code",
   "execution_count": 23,
   "id": "aa40f4e7-c9a6-44c7-8eab-00885d44b44c",
   "metadata": {},
   "outputs": [
    {
     "data": {
      "text/plain": [
       "array([[1., 0., 0.],\n",
       "       [0., 1., 0.],\n",
       "       [0., 0., 1.]])"
      ]
     },
     "execution_count": 23,
     "metadata": {},
     "output_type": "execute_result"
    }
   ],
   "source": [
    "arr1 = np.identity(3)\n",
    "arr1"
   ]
  },
  {
   "cell_type": "markdown",
   "id": "65d6ada8-e36f-47ab-a1b8-5b82805eaefd",
   "metadata": {},
   "source": [
    "Generate a random number between 0 and 1"
   ]
  },
  {
   "cell_type": "code",
   "execution_count": 30,
   "id": "9f4bfcda-034f-4542-8e40-7e242c8620eb",
   "metadata": {},
   "outputs": [
    {
     "data": {
      "text/plain": [
       "1.7901348846604128"
      ]
     },
     "execution_count": 30,
     "metadata": {},
     "output_type": "execute_result"
    }
   ],
   "source": [
    "n = np.random.normal(0,1,1)\n",
    "n[0]"
   ]
  },
  {
   "cell_type": "code",
   "execution_count": 31,
   "id": "378ea879-230c-4ed1-a89a-c2afe05c22eb",
   "metadata": {},
   "outputs": [
    {
     "data": {
      "text/plain": [
       "array([ 0.03910387, -1.42392062,  1.92171166, -0.6883528 ,  2.12068764,\n",
       "        0.82121993,  0.38173246, -0.15699309,  0.86283006,  1.29339695,\n",
       "        0.53999392, -1.17250413,  1.4695691 , -0.24807502, -0.60889923])"
      ]
     },
     "execution_count": 31,
     "metadata": {},
     "output_type": "execute_result"
    }
   ],
   "source": [
    "n = np.random.normal(0,1,15)\n",
    "n"
   ]
  },
  {
   "cell_type": "markdown",
   "id": "5055bf42-0abf-4c86-99b7-56596284c1d4",
   "metadata": {},
   "source": [
    "Write a  NumPy program to create a 3X4 array and iterate over it."
   ]
  },
  {
   "cell_type": "code",
   "execution_count": 33,
   "id": "9747424b-215d-40e4-8615-445d5e2ba923",
   "metadata": {},
   "outputs": [
    {
     "data": {
      "text/plain": [
       "array([[ 1,  2,  3,  4],\n",
       "       [ 5,  6,  7,  8],\n",
       "       [ 9, 10, 11, 12]])"
      ]
     },
     "execution_count": 33,
     "metadata": {},
     "output_type": "execute_result"
    }
   ],
   "source": [
    "arr1 = np.arange(1,13).reshape(3,4)\n",
    "arr1"
   ]
  },
  {
   "cell_type": "code",
   "execution_count": 35,
   "id": "4ddbe85e-8d3e-4683-b87b-edc1c7cdc67d",
   "metadata": {},
   "outputs": [
    {
     "name": "stdout",
     "output_type": "stream",
     "text": [
      "1 2 3 4 \n",
      "5 6 7 8 \n",
      "9 10 11 12 \n"
     ]
    }
   ],
   "source": [
    "for x in arr1:\n",
    "    for y in x:\n",
    "        print(y, end = \" \")\n",
    "    print()"
   ]
  },
  {
   "cell_type": "code",
   "execution_count": 36,
   "id": "1d17c5a3-a285-4681-98be-8afe384a316a",
   "metadata": {},
   "outputs": [
    {
     "name": "stdout",
     "output_type": "stream",
     "text": [
      "1 2 3 4 5 6 7 8 9 10 11 12 "
     ]
    }
   ],
   "source": [
    "for x in np.nditer(arr1):\n",
    "    print(x, end = \" \")"
   ]
  },
  {
   "cell_type": "markdown",
   "id": "38b0beb0-4ea6-4703-ac86-cb3809e8dd67",
   "metadata": {},
   "source": [
    "Write a  NumPy program to create a vector of length 10 with values ​​evenly distributed between 5 and 50."
   ]
  },
  {
   "cell_type": "code",
   "execution_count": 38,
   "id": "34e30648-9219-47c2-9883-f08a92afedce",
   "metadata": {},
   "outputs": [
    {
     "data": {
      "text/plain": [
       "array([ 5., 10., 15., 20., 25., 30., 35., 40., 45., 50.])"
      ]
     },
     "execution_count": 38,
     "metadata": {},
     "output_type": "execute_result"
    }
   ],
   "source": [
    "arr = np.linspace(5, 50, 10)\n",
    "arr"
   ]
  },
  {
   "cell_type": "markdown",
   "id": "1540b45c-ea45-4fd0-8e44-e4f34bdbb566",
   "metadata": {},
   "source": [
    "Write a  NumPy program to create a vector with values ​​from 0 to 20 and change the sign of the numbers in the range from 9 to 15."
   ]
  },
  {
   "cell_type": "code",
   "execution_count": 39,
   "id": "0320d8eb-812d-4f05-9d4d-a2b2a4607375",
   "metadata": {},
   "outputs": [],
   "source": [
    "arr = np.arange(0,21)"
   ]
  },
  {
   "cell_type": "code",
   "execution_count": 40,
   "id": "5f1c1b9a-fe13-4aa5-b34b-bbc5875ac280",
   "metadata": {},
   "outputs": [
    {
     "data": {
      "text/plain": [
       "array([ 0,  1,  2,  3,  4,  5,  6,  7,  8,  9, 10, 11, 12, 13, 14, 15, 16,\n",
       "       17, 18, 19, 20])"
      ]
     },
     "execution_count": 40,
     "metadata": {},
     "output_type": "execute_result"
    }
   ],
   "source": [
    "arr"
   ]
  },
  {
   "cell_type": "code",
   "execution_count": 47,
   "id": "aaa27796-7476-485a-a556-7cd24245125b",
   "metadata": {},
   "outputs": [],
   "source": [
    "arr[(arr>=9) & (arr<=15)] *= -1"
   ]
  },
  {
   "cell_type": "code",
   "execution_count": 48,
   "id": "60b8fe6e-49da-4f47-b7e2-cf3b37cbc3cc",
   "metadata": {},
   "outputs": [
    {
     "data": {
      "text/plain": [
       "array([  0,   1,   2,   3,   4,   5,   6,   7,   8,  -9, -10, -11, -12,\n",
       "       -13, -14, -15,  16,  17,  18,  19,  20])"
      ]
     },
     "execution_count": 48,
     "metadata": {},
     "output_type": "execute_result"
    }
   ],
   "source": [
    "arr"
   ]
  },
  {
   "cell_type": "markdown",
   "id": "b486bfe8-3463-413d-addf-af56f64fff1e",
   "metadata": {},
   "source": [
    "Write a NumPy program to create a 3x4 matrix filled with values from 10 to 21."
   ]
  },
  {
   "cell_type": "code",
   "execution_count": 49,
   "id": "cb74170c-d642-4710-980f-8683d219631d",
   "metadata": {},
   "outputs": [
    {
     "data": {
      "text/plain": [
       "array([[10, 11, 12, 13],\n",
       "       [14, 15, 16, 17],\n",
       "       [18, 19, 20, 21]])"
      ]
     },
     "execution_count": 49,
     "metadata": {},
     "output_type": "execute_result"
    }
   ],
   "source": [
    "arr = np.arange(10,22).reshape(3,4)\n",
    "arr"
   ]
  },
  {
   "cell_type": "code",
   "execution_count": 50,
   "id": "4b933fa8-b00d-4642-bf6b-9ca01227b34b",
   "metadata": {},
   "outputs": [
    {
     "data": {
      "text/plain": [
       "(3, 4)"
      ]
     },
     "execution_count": 50,
     "metadata": {},
     "output_type": "execute_result"
    }
   ],
   "source": [
    "arr.shape"
   ]
  },
  {
   "cell_type": "code",
   "execution_count": 51,
   "id": "69734c76-5b19-408b-8a37-bccf3ccdb9a7",
   "metadata": {},
   "outputs": [
    {
     "data": {
      "text/plain": [
       "2"
      ]
     },
     "execution_count": 51,
     "metadata": {},
     "output_type": "execute_result"
    }
   ],
   "source": [
    "arr.ndim"
   ]
  },
  {
   "cell_type": "code",
   "execution_count": 52,
   "id": "fcfc0b7b-aa19-4137-a88b-b2ce8dc1496e",
   "metadata": {},
   "outputs": [
    {
     "data": {
      "text/plain": [
       "12"
      ]
     },
     "execution_count": 52,
     "metadata": {},
     "output_type": "execute_result"
    }
   ],
   "source": [
    "arr.size"
   ]
  },
  {
   "cell_type": "markdown",
   "id": "e082c4b4-bffb-41b8-926b-405d7b64655a",
   "metadata": {},
   "source": [
    "10x10 Matrix Border 1, Inside 0"
   ]
  },
  {
   "cell_type": "code",
   "execution_count": 70,
   "id": "5a6ca924-cca7-462a-8dbc-152d41e4e600",
   "metadata": {},
   "outputs": [],
   "source": [
    "arr = np.ones(100).reshape(10,10)"
   ]
  },
  {
   "cell_type": "code",
   "execution_count": 71,
   "id": "50a5848c-3937-407b-8e4f-8ff45a0ea4ed",
   "metadata": {},
   "outputs": [
    {
     "data": {
      "text/plain": [
       "array([[1., 1., 1., 1., 1., 1., 1., 1., 1., 1.],\n",
       "       [1., 1., 1., 1., 1., 1., 1., 1., 1., 1.],\n",
       "       [1., 1., 1., 1., 1., 1., 1., 1., 1., 1.],\n",
       "       [1., 1., 1., 1., 1., 1., 1., 1., 1., 1.],\n",
       "       [1., 1., 1., 1., 1., 1., 1., 1., 1., 1.],\n",
       "       [1., 1., 1., 1., 1., 1., 1., 1., 1., 1.],\n",
       "       [1., 1., 1., 1., 1., 1., 1., 1., 1., 1.],\n",
       "       [1., 1., 1., 1., 1., 1., 1., 1., 1., 1.],\n",
       "       [1., 1., 1., 1., 1., 1., 1., 1., 1., 1.],\n",
       "       [1., 1., 1., 1., 1., 1., 1., 1., 1., 1.]])"
      ]
     },
     "execution_count": 71,
     "metadata": {},
     "output_type": "execute_result"
    }
   ],
   "source": [
    "arr"
   ]
  },
  {
   "cell_type": "code",
   "execution_count": 72,
   "id": "1ce883e0-b3c7-4e2c-8c4d-fce655a248a6",
   "metadata": {},
   "outputs": [],
   "source": [
    "arr[1:-1, 1: -1] = 0"
   ]
  },
  {
   "cell_type": "code",
   "execution_count": 73,
   "id": "5b23a09d-4b0d-48ac-8409-253f5cf64345",
   "metadata": {},
   "outputs": [
    {
     "data": {
      "text/plain": [
       "array([[1., 1., 1., 1., 1., 1., 1., 1., 1., 1.],\n",
       "       [1., 0., 0., 0., 0., 0., 0., 0., 0., 1.],\n",
       "       [1., 0., 0., 0., 0., 0., 0., 0., 0., 1.],\n",
       "       [1., 0., 0., 0., 0., 0., 0., 0., 0., 1.],\n",
       "       [1., 0., 0., 0., 0., 0., 0., 0., 0., 1.],\n",
       "       [1., 0., 0., 0., 0., 0., 0., 0., 0., 1.],\n",
       "       [1., 0., 0., 0., 0., 0., 0., 0., 0., 1.],\n",
       "       [1., 0., 0., 0., 0., 0., 0., 0., 0., 1.],\n",
       "       [1., 0., 0., 0., 0., 0., 0., 0., 0., 1.],\n",
       "       [1., 1., 1., 1., 1., 1., 1., 1., 1., 1.]])"
      ]
     },
     "execution_count": 73,
     "metadata": {},
     "output_type": "execute_result"
    }
   ],
   "source": [
    "arr"
   ]
  },
  {
   "cell_type": "markdown",
   "id": "abe6cbe7-d9b8-4391-87d7-bde6dea63af2",
   "metadata": {},
   "source": [
    "Write a NumPy program to create a 5x5 zero matrix with elements on the main diagonal equal to 1, 2, 3, 4, "
   ]
  },
  {
   "cell_type": "code",
   "execution_count": 80,
   "id": "53db8a56-ba54-4753-af60-2187017f5651",
   "metadata": {},
   "outputs": [
    {
     "data": {
      "text/plain": [
       "array([[1, 0, 0, 0, 0],\n",
       "       [0, 2, 0, 0, 0],\n",
       "       [0, 0, 3, 0, 0],\n",
       "       [0, 0, 0, 4, 0],\n",
       "       [0, 0, 0, 0, 5]])"
      ]
     },
     "execution_count": 80,
     "metadata": {},
     "output_type": "execute_result"
    }
   ],
   "source": [
    "arr = np.diag([1,2,3,4,5])\n",
    "arr"
   ]
  },
  {
   "cell_type": "markdown",
   "id": "028f7f5f-826c-420c-ab83-84c77ef3b323",
   "metadata": {},
   "source": [
    "Write a NumPy program to create a 4x4 matrix in which 0 and 1 are staggered, with zeros on the main diagonal."
   ]
  },
  {
   "cell_type": "code",
   "execution_count": 81,
   "id": "307c23aa-fb3a-4453-9b72-d6945dc3e78b",
   "metadata": {},
   "outputs": [
    {
     "data": {
      "text/plain": [
       "array([[0., 0., 0., 0.],\n",
       "       [0., 0., 0., 0.],\n",
       "       [0., 0., 0., 0.],\n",
       "       [0., 0., 0., 0.]])"
      ]
     },
     "execution_count": 81,
     "metadata": {},
     "output_type": "execute_result"
    }
   ],
   "source": [
    "arr = np.zeros((4,4))\n",
    "arr"
   ]
  },
  {
   "cell_type": "code",
   "execution_count": 82,
   "id": "46ae0456-a8c1-4156-a5d1-7f9104464d11",
   "metadata": {},
   "outputs": [],
   "source": [
    "arr[::2,1::2]=1\n",
    "arr[1::2, ::2] = 1"
   ]
  },
  {
   "cell_type": "code",
   "execution_count": 83,
   "id": "be27fed8-724b-4b24-bdfc-20d091d2ad02",
   "metadata": {},
   "outputs": [
    {
     "data": {
      "text/plain": [
       "array([[0., 1., 0., 1.],\n",
       "       [1., 0., 1., 0.],\n",
       "       [0., 1., 0., 1.],\n",
       "       [1., 0., 1., 0.]])"
      ]
     },
     "execution_count": 83,
     "metadata": {},
     "output_type": "execute_result"
    }
   ],
   "source": [
    "arr"
   ]
  },
  {
   "cell_type": "markdown",
   "id": "e83be788-8ca0-4519-bf1c-e5bd5dcf4e67",
   "metadata": {},
   "source": [
    "Write a  NumPy program to create a 3x3x3 array filled with arbitrary values."
   ]
  },
  {
   "cell_type": "code",
   "execution_count": 85,
   "id": "fc4c8e57-4722-42e9-94d2-ae5ebee748bf",
   "metadata": {},
   "outputs": [
    {
     "data": {
      "text/plain": [
       "array([[[0.97017192, 0.47814245, 0.45480165],\n",
       "        [0.72415095, 0.1793291 , 0.91585834],\n",
       "        [0.45462006, 0.1039112 , 0.45170776]],\n",
       "\n",
       "       [[0.83569009, 0.98684503, 0.87161833],\n",
       "        [0.51324928, 0.57230337, 0.95708359],\n",
       "        [0.28512195, 0.45849866, 0.68293175]],\n",
       "\n",
       "       [[0.36751592, 0.94945768, 0.82116402],\n",
       "        [0.6615522 , 0.02668616, 0.77755021],\n",
       "        [0.43781013, 0.8637542 , 0.6347407 ]]])"
      ]
     },
     "execution_count": 85,
     "metadata": {},
     "output_type": "execute_result"
    }
   ],
   "source": [
    "arr = np.random.random((3,3,3))\n",
    "arr"
   ]
  },
  {
   "cell_type": "markdown",
   "id": "020cfde5-ff9b-4ed3-8dd7-465dbbdcde1b",
   "metadata": {},
   "source": [
    "Write a NumPy program to compute the sum of all elements, the sum of each column and the sum of each row in a given array."
   ]
  },
  {
   "cell_type": "code",
   "execution_count": 86,
   "id": "7b2b5aa6-1d87-4306-b41f-fa29c8bb1076",
   "metadata": {},
   "outputs": [
    {
     "data": {
      "text/plain": [
       "array([[1., 1., 1., 1.],\n",
       "       [1., 1., 1., 1.],\n",
       "       [1., 1., 1., 1.],\n",
       "       [1., 1., 1., 1.]])"
      ]
     },
     "execution_count": 86,
     "metadata": {},
     "output_type": "execute_result"
    }
   ],
   "source": [
    "arr = np.ones((4,4))\n",
    "arr"
   ]
  },
  {
   "cell_type": "code",
   "execution_count": 88,
   "id": "f8b6de24-bec2-4531-a513-046e713a5bee",
   "metadata": {},
   "outputs": [
    {
     "data": {
      "text/plain": [
       "16.0"
      ]
     },
     "execution_count": 88,
     "metadata": {},
     "output_type": "execute_result"
    }
   ],
   "source": [
    "np.sum(arr)"
   ]
  },
  {
   "cell_type": "code",
   "execution_count": 89,
   "id": "571ecf86-2507-412a-ba85-61cfa383fb63",
   "metadata": {},
   "outputs": [
    {
     "data": {
      "text/plain": [
       "array([4., 4., 4., 4.])"
      ]
     },
     "execution_count": 89,
     "metadata": {},
     "output_type": "execute_result"
    }
   ],
   "source": [
    "np.sum(arr, axis = 0)"
   ]
  },
  {
   "cell_type": "code",
   "execution_count": 90,
   "id": "b0d7031b-1464-4b3c-a701-97544ece95ce",
   "metadata": {},
   "outputs": [
    {
     "data": {
      "text/plain": [
       "array([4., 4., 4., 4.])"
      ]
     },
     "execution_count": 90,
     "metadata": {},
     "output_type": "execute_result"
    }
   ],
   "source": [
    "np.sum(arr, axis = 1)"
   ]
  },
  {
   "cell_type": "markdown",
   "id": "9dfd4206-43c6-4f62-b457-a311e87056ad",
   "metadata": {},
   "source": [
    "Write a  NumPy program to sort a given array by row and column in ascending order"
   ]
  },
  {
   "cell_type": "code",
   "execution_count": 91,
   "id": "a770e6be-17f8-47f4-af13-93fe53d47fc2",
   "metadata": {},
   "outputs": [
    {
     "data": {
      "text/plain": [
       "array([[5.54, 3.38, 7.99],\n",
       "       [3.54, 4.38, 6.99],\n",
       "       [1.54, 2.39, 9.29]])"
      ]
     },
     "execution_count": 91,
     "metadata": {},
     "output_type": "execute_result"
    }
   ],
   "source": [
    "nums = np.array([[5.54, 3.38, 7.99],\n",
    "              [3.54, 4.38, 6.99],\n",
    "              [1.54, 2.39, 9.29]])\n",
    "nums"
   ]
  },
  {
   "cell_type": "code",
   "execution_count": 93,
   "id": "ef901453-239a-48ca-859b-42ff557bb94b",
   "metadata": {},
   "outputs": [
    {
     "data": {
      "text/plain": [
       "array([[3.38, 5.54, 7.99],\n",
       "       [3.54, 4.38, 6.99],\n",
       "       [1.54, 2.39, 9.29]])"
      ]
     },
     "execution_count": 93,
     "metadata": {},
     "output_type": "execute_result"
    }
   ],
   "source": [
    "np.sort(nums)"
   ]
  },
  {
   "cell_type": "code",
   "execution_count": 94,
   "id": "90112a9e-71f2-4b69-9797-8b4a8a938760",
   "metadata": {},
   "outputs": [
    {
     "data": {
      "text/plain": [
       "array([[1.54, 2.39, 6.99],\n",
       "       [3.54, 3.38, 7.99],\n",
       "       [5.54, 4.38, 9.29]])"
      ]
     },
     "execution_count": 94,
     "metadata": {},
     "output_type": "execute_result"
    }
   ],
   "source": [
    "np.sort(nums, axis = 0)"
   ]
  },
  {
   "cell_type": "markdown",
   "id": "a0455a97-1feb-4a96-8af0-fae3f7cc4362",
   "metadata": {},
   "source": [
    "Write a NumPy program to create a 4x4 array. Create an array from said array by swapping first and last, second and third columns."
   ]
  },
  {
   "cell_type": "code",
   "execution_count": 101,
   "id": "972ed3be-af69-4794-a664-32cdf72438b4",
   "metadata": {},
   "outputs": [],
   "source": [
    "arr = np.arange(1,17).reshape(4,4)"
   ]
  },
  {
   "cell_type": "code",
   "execution_count": 102,
   "id": "f9b6f6b4-cf46-407b-9642-3b621bd46049",
   "metadata": {},
   "outputs": [
    {
     "data": {
      "text/plain": [
       "array([[ 1,  2,  3,  4],\n",
       "       [ 5,  6,  7,  8],\n",
       "       [ 9, 10, 11, 12],\n",
       "       [13, 14, 15, 16]])"
      ]
     },
     "execution_count": 102,
     "metadata": {},
     "output_type": "execute_result"
    }
   ],
   "source": [
    "arr"
   ]
  },
  {
   "cell_type": "code",
   "execution_count": 103,
   "id": "7b6652ce-c7cd-4cd6-a3bb-ebab4b095d72",
   "metadata": {},
   "outputs": [
    {
     "data": {
      "text/plain": [
       "array([[ 4,  2,  3,  1],\n",
       "       [ 8,  6,  7,  5],\n",
       "       [12, 10, 11,  9],\n",
       "       [16, 14, 15, 13]])"
      ]
     },
     "execution_count": 103,
     "metadata": {},
     "output_type": "execute_result"
    }
   ],
   "source": [
    "arr[:: , [0,-1]] = arr[::, [-1,0]]\n",
    "arr"
   ]
  },
  {
   "cell_type": "code",
   "execution_count": 104,
   "id": "3354cfda-81af-4050-8666-2845f09d5851",
   "metadata": {},
   "outputs": [
    {
     "data": {
      "text/plain": [
       "array([[ 4,  3,  2,  1],\n",
       "       [ 8,  7,  6,  5],\n",
       "       [12, 11, 10,  9],\n",
       "       [16, 15, 14, 13]])"
      ]
     },
     "execution_count": 104,
     "metadata": {},
     "output_type": "execute_result"
    }
   ],
   "source": [
    "arr[:: , [1,2]] = arr[::, [2,1]]\n",
    "arr"
   ]
  },
  {
   "cell_type": "markdown",
   "id": "104d14e7-fa88-405b-bcc9-4d52ed7c79d2",
   "metadata": {},
   "source": [
    "Write a  NumPy program to swap rows and columns of a given array in reverse order."
   ]
  },
  {
   "cell_type": "code",
   "execution_count": 105,
   "id": "1513cfc8-0397-49a3-b984-5bbc85b0ed57",
   "metadata": {},
   "outputs": [
    {
     "data": {
      "text/plain": [
       "array([[ 1,  2,  3,  4],\n",
       "       [ 5,  6,  7,  8],\n",
       "       [ 9, 10, 11, 12],\n",
       "       [13, 14, 15, 16]])"
      ]
     },
     "execution_count": 105,
     "metadata": {},
     "output_type": "execute_result"
    }
   ],
   "source": [
    "arr = np.arange(1,17).reshape(4,4)\n",
    "arr"
   ]
  },
  {
   "cell_type": "code",
   "execution_count": 106,
   "id": "a909d084-5666-4ff3-8696-0d6d26209e4d",
   "metadata": {},
   "outputs": [
    {
     "data": {
      "text/plain": [
       "array([[16, 15, 14, 13],\n",
       "       [12, 11, 10,  9],\n",
       "       [ 8,  7,  6,  5],\n",
       "       [ 4,  3,  2,  1]])"
      ]
     },
     "execution_count": 106,
     "metadata": {},
     "output_type": "execute_result"
    }
   ],
   "source": [
    "arr[::-1, ::-1]"
   ]
  },
  {
   "cell_type": "markdown",
   "id": "8c161202-2e72-4908-b05a-47349a9a625c",
   "metadata": {},
   "source": [
    "Write a NumPy program to multiply two given arrays of the same size element-by-element."
   ]
  },
  {
   "cell_type": "code",
   "execution_count": 107,
   "id": "e66fcf64-cb2b-49a1-b227-9142c7bd7eec",
   "metadata": {},
   "outputs": [],
   "source": [
    "nums1 = np.array([[2, 5, 2],\n",
    "              [1, 5, 5]])\n",
    "\n",
    "nums2 = np.array([[5, 3, 4],\n",
    "              [3, 2, 5]])"
   ]
  },
  {
   "cell_type": "code",
   "execution_count": 108,
   "id": "7218b03d-6884-4e93-b569-2b668875d3fb",
   "metadata": {},
   "outputs": [
    {
     "data": {
      "text/plain": [
       "array([[10, 15,  8],\n",
       "       [ 3, 10, 25]])"
      ]
     },
     "execution_count": 108,
     "metadata": {},
     "output_type": "execute_result"
    }
   ],
   "source": [
    "nums1 * nums2"
   ]
  },
  {
   "cell_type": "markdown",
   "id": "a469d506-9ffd-4bca-abca-73da5e05198a",
   "metadata": {
    "jp-MarkdownHeadingCollapsed": true
   },
   "source": [
    "# NumPy: Array Object "
   ]
  },
  {
   "cell_type": "markdown",
   "id": "41fd21fe-12fa-4018-abf0-e5bab882ee89",
   "metadata": {},
   "source": [
    "Write a NumPy program to convert Centigrade degrees into Fahrenheit degrees. Centigrade values are stored in a NumPy array."
   ]
  },
  {
   "cell_type": "code",
   "execution_count": 109,
   "id": "72825f94-a0ef-4086-8dc4-6c149d8ca326",
   "metadata": {},
   "outputs": [
    {
     "name": "stdout",
     "output_type": "stream",
     "text": [
      "Values in Fahrenheit degrees:\n",
      "[ 0.   12.   45.21 34.   99.91 32.  ]\n",
      "Values in  Centigrade degrees:\n",
      "[-17.78 -11.11   7.34   1.11  37.73   0.  ]\n"
     ]
    }
   ],
   "source": [
    "import numpy as np\n",
    "\n",
    "fvalues = [0, 12, 45.21, 34, 99.91, 32]\n",
    "\n",
    "F = np.array(fvalues)\n",
    "\n",
    "print(\"Values in Fahrenheit degrees:\")\n",
    "print(F)\n",
    "\n",
    "print(\"Values in  Centigrade degrees:\")\n",
    "print(np.round((5 * F / 9 - 5 * 32 / 9), 2)) "
   ]
  },
  {
   "cell_type": "markdown",
   "id": "e29962bb-42c3-4232-821e-967945ae36c8",
   "metadata": {},
   "source": [
    "Write a  NumPy program to find the 4th element of a specified array."
   ]
  },
  {
   "cell_type": "code",
   "execution_count": 111,
   "id": "f96b064a-43c2-4fd8-ad69-52544c7537a3",
   "metadata": {},
   "outputs": [
    {
     "name": "stdout",
     "output_type": "stream",
     "text": [
      "[[ 2  4  5]\n",
      " [ 6  8 10]]\n",
      "Fourth element of the array:\n",
      "6\n"
     ]
    }
   ],
   "source": [
    "x = np.array([[2, 4, 5], [6, 8, 10]], np.int32)\n",
    "\n",
    "print(x)\n",
    "\n",
    "e1 = x.flat[3]\n",
    "\n",
    "print(\"Fourth element of the array:\")\n",
    "print(e1) \n"
   ]
  },
  {
   "cell_type": "markdown",
   "id": "87ed1eec-53b4-40e0-a949-2c595908d6e5",
   "metadata": {},
   "source": [
    "Write a NumPy program to create an array which is the average of every consecutive triplet of elements in a given array."
   ]
  },
  {
   "cell_type": "code",
   "execution_count": 114,
   "id": "1abff020-4fc0-43bf-8b4d-aef5ec77b2d5",
   "metadata": {},
   "outputs": [
    {
     "name": "stdout",
     "output_type": "stream",
     "text": [
      "Original array:\n",
      "[  1   2   3   2   4   6   1   2  12   0 -12   6]\n",
      "Average of every consecutive triplet of elements of the said array:\n",
      "[ 2.  4.  5. -2.]\n"
     ]
    }
   ],
   "source": [
    "arr1 = np.array([1, 2, 3, 2, 4, 6, 1, 2, 12, 0, -12, 6])\n",
    "\n",
    "print(\"Original array:\")\n",
    "print(arr1)\n",
    "\n",
    "result = np.mean(arr1.reshape(-1, 3), axis=1)\n",
    "\n",
    "print(\"Average of every consecutive triplet of elements of the said array:\")\n",
    "print(result) "
   ]
  },
  {
   "cell_type": "markdown",
   "id": "a97b64d9-f9c1-4f35-9f94-bf8ae9f4bbbd",
   "metadata": {},
   "source": [
    "Write a NumPy program to extract all the rows from a given array where a specific column starts with a given character."
   ]
  },
  {
   "cell_type": "code",
   "execution_count": 115,
   "id": "6a5f7aea-9a3a-4039-8451-9419b597c56f",
   "metadata": {},
   "outputs": [
    {
     "name": "stdout",
     "output_type": "stream",
     "text": [
      "Original array:\n",
      "[['01' 'V' 'Debby Pramod']\n",
      " ['02' 'V' 'Artemiy Ellie']\n",
      " ['03' 'V' 'Baptist Kamal']\n",
      " ['04' 'V' 'Lavanya Davide']\n",
      " ['05' 'V' 'Fulton Antwan']\n",
      " ['06' 'V' 'Euanthe Sandeep']\n",
      " ['07' 'V' 'Endzela Sanda']\n",
      " ['08' 'V' 'Victoire Waman']\n",
      " ['09' 'V' 'Briar Nur']\n",
      " ['10' 'V' 'Rose Lykos']]\n",
      "\n",
      "Student name starting with E :\n",
      "[['06' 'V' 'Euanthe Sandeep']\n",
      " ['07' 'V' 'Endzela Sanda']]\n",
      "\n",
      "Student id starting with 1 :\n",
      "[['10' 'V' 'Rose Lykos']]\n"
     ]
    }
   ],
   "source": [
    "np.set_printoptions(linewidth=100)\n",
    "\n",
    "student =  np.array([\n",
    "    ['01', 'V', 'Debby Pramod'],\n",
    "    ['02', 'V', 'Artemiy Ellie'],\n",
    "    ['03', 'V', 'Baptist Kamal'],\n",
    "    ['04', 'V', 'Lavanya Davide'],\n",
    "    ['05', 'V', 'Fulton Antwan'],\n",
    "    ['06', 'V', 'Euanthe Sandeep'],\n",
    "    ['07', 'V', 'Endzela Sanda'],\n",
    "    ['08', 'V', 'Victoire Waman'],\n",
    "    ['09', 'V', 'Briar Nur'],\n",
    "    ['10', 'V', 'Rose Lykos']\n",
    "])\n",
    "\n",
    "print(\"Original array:\")\n",
    "print(student)\n",
    "\n",
    "char = 'E'\n",
    "result = student[np.char.startswith(student[:, 2], char)]\n",
    "print(\"\\nStudent name starting with\", char, \":\")\n",
    "print(result)\n",
    "\n",
    "char = '1'\n",
    "result = student[np.char.startswith(student[:, 0], char)]\n",
    "print(\"\\nStudent id starting with\", char, \":\")\n",
    "print(result)"
   ]
  },
  {
   "cell_type": "markdown",
   "id": "ac065a52-255d-4d41-a0a1-41e60ddb8d7a",
   "metadata": {},
   "source": [
    "Write a NumPy program to extract all the rows to compute the student weight from a given array (student information) where a specific column starts with a given character."
   ]
  },
  {
   "cell_type": "code",
   "execution_count": 116,
   "id": "73bf11ad-f983-45f9-9a38-c97f9747e70f",
   "metadata": {},
   "outputs": [],
   "source": [
    "student = np.array([\n",
    "    ['01', 'V', 'Debby Pramod', 30.21],\n",
    "    ['02', 'V', 'Artemiy Ellie', 29.32],\n",
    "    ['03', 'V', 'Baptist Kamal', 31.00],\n",
    "    ['04', 'V', 'Lavanya Davide', 30.22],\n",
    "    ['05', 'V', 'Fulton Antwan', 30.21],\n",
    "    ['06', 'V', 'Euanthe Sandeep', 31.00],\n",
    "    ['07', 'V', 'Endzela Sanda', 32.00],\n",
    "    ['08', 'V', 'Victoire Waman', 29.21],\n",
    "    ['09', 'V', 'Briar Nur', 30.00],\n",
    "    ['10', 'V', 'Rose Lykos', 32.00]\n",
    "])"
   ]
  },
  {
   "cell_type": "code",
   "execution_count": 117,
   "id": "e6ac84fe-7d4c-4bf1-86fe-10b8b9fb469f",
   "metadata": {},
   "outputs": [
    {
     "name": "stdout",
     "output_type": "stream",
     "text": [
      "\n",
      "Total weight, where student name starts with E\n",
      "63.0\n",
      "\n",
      "Total weight, where student name starts with D\n",
      "30.21\n"
     ]
    }
   ],
   "source": [
    "char = 'E'\n",
    "result = student[np.char.startswith(student[:, 2], char)]\n",
    "print(\"\\nTotal weight, where student name starts with\", char)\n",
    "print(np.round(result[:, 3].astype(float).sum(), 2))\n",
    "\n",
    "char = 'D'\n",
    "result = student[np.char.startswith(student[:, 2], char)]\n",
    "print(\"\\nTotal weight, where student name starts with\", char)\n",
    "print(np.round(result[:, 3].astype(float).sum(), 2)) "
   ]
  },
  {
   "cell_type": "markdown",
   "id": "0b3774cd-8ef7-47fd-a2e5-ae904c8367a0",
   "metadata": {
    "jp-MarkdownHeadingCollapsed": true
   },
   "source": [
    "# Python NumPy Mathematics"
   ]
  },
  {
   "cell_type": "markdown",
   "id": "4bde8260-1ddc-45f1-a8b2-13c4c95c315f",
   "metadata": {},
   "source": [
    "Write a NumPy program to create a random array with 1000 elements and compute the average, variance, standard deviation of the array elements."
   ]
  },
  {
   "cell_type": "code",
   "execution_count": 119,
   "id": "6dd6703e-b4a5-4f28-b695-983a41c28d15",
   "metadata": {},
   "outputs": [
    {
     "name": "stdout",
     "output_type": "stream",
     "text": [
      "Average of the array elements:\n",
      "0.04874310104135422\n",
      "Standard deviation of the array elements:\n",
      "1.0175094918469607\n",
      "Variance of the array elements:\n",
      "1.03532556599866\n"
     ]
    }
   ],
   "source": [
    "import numpy as np\n",
    "\n",
    "x = np.random.randn(1000)\n",
    "\n",
    "# print(x)\n",
    "\n",
    "print(\"Average of the array elements:\")\n",
    "mean = x.mean() \n",
    "print(mean)\n",
    "\n",
    "print(\"Standard deviation of the array elements:\")\n",
    "std = x.std()  \n",
    "print(std)\n",
    "\n",
    "print(\"Variance of the array elements:\")\n",
    "var = x.var() \n",
    "print(var) "
   ]
  },
  {
   "cell_type": "markdown",
   "id": "10d9a6d0-ccc8-4903-9f87-4b189c6e98d7",
   "metadata": {},
   "source": [
    "Write a NumPy program to compute xy, element-wise where x, y are two given arrays."
   ]
  },
  {
   "cell_type": "code",
   "execution_count": 123,
   "id": "e4f5639b-485b-4285-b4b3-bd33382db2cf",
   "metadata": {},
   "outputs": [],
   "source": [
    "arr1 = np.array([[1,2,3,4],[1,2,3,4]])\n",
    "arr2 = np.array([[1,2,1,2],[2,1,2,1]])"
   ]
  },
  {
   "cell_type": "code",
   "execution_count": 124,
   "id": "584abc38-9aee-40dd-8b04-02dc7a999612",
   "metadata": {},
   "outputs": [
    {
     "data": {
      "text/plain": [
       "array([[1, 2, 3, 4],\n",
       "       [1, 2, 3, 4]])"
      ]
     },
     "execution_count": 124,
     "metadata": {},
     "output_type": "execute_result"
    }
   ],
   "source": [
    "arr1"
   ]
  },
  {
   "cell_type": "code",
   "execution_count": 125,
   "id": "3541322b-69e1-4bcd-adcd-65f0b9608ebf",
   "metadata": {},
   "outputs": [
    {
     "data": {
      "text/plain": [
       "array([[1, 2, 1, 2],\n",
       "       [2, 1, 2, 1]])"
      ]
     },
     "execution_count": 125,
     "metadata": {},
     "output_type": "execute_result"
    }
   ],
   "source": [
    "arr2"
   ]
  },
  {
   "cell_type": "code",
   "execution_count": 126,
   "id": "cf45f2b8-5e61-4a59-a93a-6e8820a768b5",
   "metadata": {},
   "outputs": [
    {
     "data": {
      "text/plain": [
       "array([[ 1,  4,  3, 16],\n",
       "       [ 1,  2,  9,  4]])"
      ]
     },
     "execution_count": 126,
     "metadata": {},
     "output_type": "execute_result"
    }
   ],
   "source": [
    "arr1 ** arr2"
   ]
  },
  {
   "cell_type": "markdown",
   "id": "da81b995-69cd-4b92-ada0-cc40cfe6f25f",
   "metadata": {},
   "source": [
    "Write a NumPy program to compute an element-wise indication of the sign for all elements in a given array."
   ]
  },
  {
   "cell_type": "code",
   "execution_count": 128,
   "id": "64da4319-1148-45ac-91b3-1a98b2021743",
   "metadata": {},
   "outputs": [
    {
     "name": "stdout",
     "output_type": "stream",
     "text": [
      "Original array;\n",
      "[ 1  3  5  0 -1 -7  0  5]\n",
      "[ 1  1  1  0 -1 -1  0  1]\n"
     ]
    }
   ],
   "source": [
    "x = np.array([1, 3, 5, 0, -1, -7, 0, 5])\n",
    "\n",
    "print(\"Original array;\")\n",
    "print(x)\n",
    "\n",
    "r1 = np.sign(x)\n",
    "print(r1)"
   ]
  },
  {
   "cell_type": "markdown",
   "id": "c1b806d7-eeb5-4787-86f3-bc86cbbfac1e",
   "metadata": {
    "jp-MarkdownHeadingCollapsed": true
   },
   "source": [
    "# NumPy Linear Algebra"
   ]
  },
  {
   "cell_type": "markdown",
   "id": "d895a1ee-9a08-41f9-870b-c0a248e5d638",
   "metadata": {},
   "source": [
    "Write a NumPy program to compute the determinant of a given square array."
   ]
  },
  {
   "cell_type": "code",
   "execution_count": 129,
   "id": "adf89c04-fd99-40f5-a54e-2334cf4fdab4",
   "metadata": {},
   "outputs": [],
   "source": [
    "arr1 = np.arange(1,10).reshape(3,3)"
   ]
  },
  {
   "cell_type": "code",
   "execution_count": 130,
   "id": "18307d08-e8c4-4815-96f9-225f191dd81c",
   "metadata": {},
   "outputs": [
    {
     "data": {
      "text/plain": [
       "array([[1, 2, 3],\n",
       "       [4, 5, 6],\n",
       "       [7, 8, 9]])"
      ]
     },
     "execution_count": 130,
     "metadata": {},
     "output_type": "execute_result"
    }
   ],
   "source": [
    "arr1"
   ]
  },
  {
   "cell_type": "code",
   "execution_count": 131,
   "id": "bb3b14fa-e56b-4bad-8975-b46e5749d1d6",
   "metadata": {},
   "outputs": [
    {
     "data": {
      "text/plain": [
       "-9.51619735392994e-16"
      ]
     },
     "execution_count": 131,
     "metadata": {},
     "output_type": "execute_result"
    }
   ],
   "source": [
    "np.linalg.det(arr1)"
   ]
  },
  {
   "cell_type": "code",
   "execution_count": 134,
   "id": "c56ffa30-6e18-464b-8a2d-b9830c504914",
   "metadata": {},
   "outputs": [
    {
     "data": {
      "text/plain": [
       "array([[0, 1],\n",
       "       [2, 3]])"
      ]
     },
     "execution_count": 134,
     "metadata": {},
     "output_type": "execute_result"
    }
   ],
   "source": [
    "arr2 = np.array([[0,1],[2,3]])\n",
    "arr2"
   ]
  },
  {
   "cell_type": "code",
   "execution_count": 135,
   "id": "f57ca4ed-4a0d-4a51-a481-47905541729d",
   "metadata": {},
   "outputs": [
    {
     "data": {
      "text/plain": [
       "-2.0"
      ]
     },
     "execution_count": 135,
     "metadata": {},
     "output_type": "execute_result"
    }
   ],
   "source": [
    "np.linalg.det(arr2)"
   ]
  },
  {
   "cell_type": "markdown",
   "id": "8c153508-48ca-47d3-bc59-f688ac951a02",
   "metadata": {},
   "source": [
    "Write a  NumPy program to compute the multiplication of two given matrixes."
   ]
  },
  {
   "cell_type": "code",
   "execution_count": 141,
   "id": "4848a951-32f2-48e6-818d-405415056de5",
   "metadata": {},
   "outputs": [
    {
     "name": "stdout",
     "output_type": "stream",
     "text": [
      "[[1 0]\n",
      " [0 1]]\n",
      "[[1 2]\n",
      " [3 4]]\n"
     ]
    }
   ],
   "source": [
    "p = np.array([[1, 0], [0, 1]])\n",
    "q = np.array([[1, 2], [3, 4]])\n",
    "print(p)\n",
    "print(q)"
   ]
  },
  {
   "cell_type": "code",
   "execution_count": 142,
   "id": "c6ed7192-2eec-4589-b203-c4509ed33220",
   "metadata": {},
   "outputs": [
    {
     "data": {
      "text/plain": [
       "array([[1, 2],\n",
       "       [3, 4]])"
      ]
     },
     "execution_count": 142,
     "metadata": {},
     "output_type": "execute_result"
    }
   ],
   "source": [
    "p.dot(q)"
   ]
  },
  {
   "cell_type": "code",
   "execution_count": 144,
   "id": "9611cf9f-5980-4302-96e6-dbde3cb02ac5",
   "metadata": {},
   "outputs": [
    {
     "data": {
      "text/plain": [
       "array([[1, 2],\n",
       "       [3, 4]])"
      ]
     },
     "execution_count": 144,
     "metadata": {},
     "output_type": "execute_result"
    }
   ],
   "source": [
    "p @ q"
   ]
  },
  {
   "cell_type": "markdown",
   "id": "6c1c720e-1011-472e-b24c-0f296823c5dc",
   "metadata": {},
   "source": [
    "Write a NumPy program to compute the eigenvalues and right eigenvectors of a given square array.\n",
    "\n"
   ]
  },
  {
   "cell_type": "code",
   "execution_count": 146,
   "id": "3cd938d4-7cd0-4edd-b789-44d74da9e65d",
   "metadata": {},
   "outputs": [
    {
     "name": "stdout",
     "output_type": "stream",
     "text": [
      "Original matrix:\n",
      "[[ 3 -2]\n",
      " [ 1  0]]\n",
      "Eigenvalues of the said matrix [2. 1.]\n",
      "Eigenvectors of the said matrix [[0.89442719 0.70710678]\n",
      " [0.4472136  0.70710678]]\n"
     ]
    }
   ],
   "source": [
    "m = np.mat(\"3 -2; 1 0\")\n",
    "\n",
    "print(\"Original matrix:\")\n",
    "print(m)\n",
    "\n",
    "w, v = np.linalg.eig(m)\n",
    "\n",
    "print(\"Eigenvalues of the said matrix\", w)\n",
    "\n",
    "print(\"Eigenvectors of the said matrix\", v) "
   ]
  },
  {
   "cell_type": "markdown",
   "id": "b6d61886-19bd-400a-b042-5b8c71de792a",
   "metadata": {},
   "source": [
    "Write a NumPy program to compute the sum of the diagonal element of a given array."
   ]
  },
  {
   "cell_type": "code",
   "execution_count": 147,
   "id": "918768c2-6980-4f34-89b0-c401fd3074c1",
   "metadata": {},
   "outputs": [
    {
     "data": {
      "text/plain": [
       "array([[0, 1, 2],\n",
       "       [3, 4, 5],\n",
       "       [6, 7, 8]])"
      ]
     },
     "execution_count": 147,
     "metadata": {},
     "output_type": "execute_result"
    }
   ],
   "source": [
    "arr = np.arange(9).reshape(3,3)\n",
    "arr"
   ]
  },
  {
   "cell_type": "code",
   "execution_count": 148,
   "id": "41c5da49-1bd6-4bb7-828f-3b58bf1d5e49",
   "metadata": {},
   "outputs": [
    {
     "data": {
      "text/plain": [
       "12"
      ]
     },
     "execution_count": 148,
     "metadata": {},
     "output_type": "execute_result"
    }
   ],
   "source": [
    "np.trace(arr)"
   ]
  },
  {
   "cell_type": "markdown",
   "id": "6d45fb46-1890-40f1-a755-58db57ffda9b",
   "metadata": {
    "jp-MarkdownHeadingCollapsed": true
   },
   "source": [
    "# Python NumPy Statistics"
   ]
  },
  {
   "cell_type": "markdown",
   "id": "868c6d9d-2e7f-4b30-ae1d-eaa3e9513f7e",
   "metadata": {},
   "source": [
    "Write a Python program to find the maximum and minimum value of a given flattened array."
   ]
  },
  {
   "cell_type": "code",
   "execution_count": 154,
   "id": "569dd7ea-5c7c-4ddf-a7e0-a52b706420a5",
   "metadata": {},
   "outputs": [
    {
     "data": {
      "text/plain": [
       "array([[0, 1, 2],\n",
       "       [3, 4, 5],\n",
       "       [6, 7, 8]])"
      ]
     },
     "execution_count": 154,
     "metadata": {},
     "output_type": "execute_result"
    }
   ],
   "source": [
    "arr = np.arange(9).reshape(3,3)\n",
    "arr"
   ]
  },
  {
   "cell_type": "code",
   "execution_count": 155,
   "id": "1ab33bfd-05f6-435b-963c-be97c6846f4b",
   "metadata": {},
   "outputs": [
    {
     "data": {
      "text/plain": [
       "8"
      ]
     },
     "execution_count": 155,
     "metadata": {},
     "output_type": "execute_result"
    }
   ],
   "source": [
    "np.max(arr)"
   ]
  },
  {
   "cell_type": "code",
   "execution_count": 156,
   "id": "9219e4d4-af20-4cb4-9c85-efb8d3e1afd4",
   "metadata": {},
   "outputs": [
    {
     "data": {
      "text/plain": [
       "0"
      ]
     },
     "execution_count": 156,
     "metadata": {},
     "output_type": "execute_result"
    }
   ],
   "source": [
    "np.min(arr)"
   ]
  },
  {
   "cell_type": "code",
   "execution_count": 157,
   "id": "aceb8d51-344b-43de-9d25-fbdef9ceccea",
   "metadata": {},
   "outputs": [
    {
     "data": {
      "text/plain": [
       "array([2, 5, 8])"
      ]
     },
     "execution_count": 157,
     "metadata": {},
     "output_type": "execute_result"
    }
   ],
   "source": [
    "np.max(arr, axis=1)"
   ]
  },
  {
   "cell_type": "code",
   "execution_count": 158,
   "id": "6a7e2ce0-67b9-48f8-80fc-f7b44e6231e1",
   "metadata": {},
   "outputs": [
    {
     "data": {
      "text/plain": [
       "array([2, 5, 8])"
      ]
     },
     "execution_count": 158,
     "metadata": {},
     "output_type": "execute_result"
    }
   ],
   "source": [
    "np.amax(arr, axis = 1)"
   ]
  },
  {
   "cell_type": "code",
   "execution_count": 160,
   "id": "22d7ff91-77b7-4bb9-a20d-ff04424e3e2a",
   "metadata": {},
   "outputs": [
    {
     "data": {
      "text/plain": [
       "array([0, 1, 2])"
      ]
     },
     "execution_count": 160,
     "metadata": {},
     "output_type": "execute_result"
    }
   ],
   "source": [
    "np.amin(arr, axis = 0)"
   ]
  },
  {
   "cell_type": "code",
   "execution_count": 162,
   "id": "8e4543ac-ca58-4a2b-bd41-ef579f964337",
   "metadata": {},
   "outputs": [
    {
     "data": {
      "text/plain": [
       "array([6, 6, 6])"
      ]
     },
     "execution_count": 162,
     "metadata": {},
     "output_type": "execute_result"
    }
   ],
   "source": [
    "np.amax(arr, axis = 0) - np.amin(arr, axis = 0)"
   ]
  },
  {
   "cell_type": "code",
   "execution_count": 164,
   "id": "f0dfeec8-f4ba-4f52-9d12-83f5dbbec30e",
   "metadata": {},
   "outputs": [
    {
     "data": {
      "text/plain": [
       "4.0"
      ]
     },
     "execution_count": 164,
     "metadata": {},
     "output_type": "execute_result"
    }
   ],
   "source": [
    "np.median(arr)"
   ]
  },
  {
   "cell_type": "code",
   "execution_count": 165,
   "id": "fa465e64-fb0b-4ef1-9d19-0bf3327ac04b",
   "metadata": {},
   "outputs": [
    {
     "data": {
      "text/plain": [
       "4.0"
      ]
     },
     "execution_count": 165,
     "metadata": {},
     "output_type": "execute_result"
    }
   ],
   "source": [
    "np.mean(arr)"
   ]
  },
  {
   "cell_type": "code",
   "execution_count": 167,
   "id": "6afe86ff-f69c-435f-8768-59bb566e347a",
   "metadata": {},
   "outputs": [
    {
     "data": {
      "text/plain": [
       "2.581988897471611"
      ]
     },
     "execution_count": 167,
     "metadata": {},
     "output_type": "execute_result"
    }
   ],
   "source": [
    "np.std(arr)"
   ]
  },
  {
   "cell_type": "code",
   "execution_count": 168,
   "id": "045c5998-b30b-4517-ab0e-82f5705591a4",
   "metadata": {},
   "outputs": [
    {
     "data": {
      "text/plain": [
       "6.666666666666667"
      ]
     },
     "execution_count": 168,
     "metadata": {},
     "output_type": "execute_result"
    }
   ],
   "source": [
    "np.var(arr)"
   ]
  },
  {
   "cell_type": "code",
   "execution_count": 169,
   "id": "766a886e-4a35-465d-b770-7d5764eb4768",
   "metadata": {},
   "outputs": [
    {
     "data": {
      "text/plain": [
       "array([[1., 1., 1.],\n",
       "       [1., 1., 1.],\n",
       "       [1., 1., 1.]])"
      ]
     },
     "execution_count": 169,
     "metadata": {},
     "output_type": "execute_result"
    }
   ],
   "source": [
    "np.cov(arr)"
   ]
  },
  {
   "cell_type": "markdown",
   "id": "77412113-177d-40fe-ac38-168157773154",
   "metadata": {},
   "source": [
    "Write a Python program to count number of occurrences of each value in a given array of non-negative integers."
   ]
  },
  {
   "cell_type": "code",
   "execution_count": 172,
   "id": "57872c40-3448-4461-9427-539b822acd82",
   "metadata": {},
   "outputs": [
    {
     "data": {
      "text/plain": [
       "[0, 1, 6, 1, 4, 1, 2, 2, 7, 6, 20]"
      ]
     },
     "execution_count": 172,
     "metadata": {},
     "output_type": "execute_result"
    }
   ],
   "source": [
    "arr = [0, 1, 6, 1, 4, 1, 2, 2, 7,6, 20] \n",
    "arr"
   ]
  },
  {
   "cell_type": "code",
   "execution_count": 173,
   "id": "9f1e5d43-30d4-47a3-972f-d6633499f87f",
   "metadata": {},
   "outputs": [
    {
     "data": {
      "text/plain": [
       "array([1, 3, 2, 0, 1, 0, 2, 1, 0, 0, 0, 0, 0, 0, 0, 0, 0, 0, 0, 0, 1], dtype=int64)"
      ]
     },
     "execution_count": 173,
     "metadata": {},
     "output_type": "execute_result"
    }
   ],
   "source": [
    "np.bincount(arr)"
   ]
  },
  {
   "cell_type": "markdown",
   "id": "6e776850-d3a5-41a8-92ec-7436b4d73574",
   "metadata": {
    "jp-MarkdownHeadingCollapsed": true
   },
   "source": [
    "# Python NumPy Random"
   ]
  },
  {
   "cell_type": "markdown",
   "id": "d995fd14-f4af-468f-a259-d92f2677e5d3",
   "metadata": {},
   "source": [
    "Write a NumPy program to generate five random numbers from the normal distribution."
   ]
  },
  {
   "cell_type": "code",
   "execution_count": 176,
   "id": "ba3011d5-078e-4cc0-b518-a517e0c17196",
   "metadata": {},
   "outputs": [
    {
     "data": {
      "text/plain": [
       "array([ 1.11777342, -1.0316151 , -0.9797329 ,  1.21655166, -1.19987501])"
      ]
     },
     "execution_count": 176,
     "metadata": {},
     "output_type": "execute_result"
    }
   ],
   "source": [
    "arr = np.random.normal(size=5)\n",
    "arr"
   ]
  },
  {
   "cell_type": "markdown",
   "id": "8c9c970f-edcf-4514-a300-fdc8facc097f",
   "metadata": {},
   "source": [
    "Write a NumPy program to generate six random integers between 10 and 30."
   ]
  },
  {
   "cell_type": "code",
   "execution_count": 179,
   "id": "18ef0443-13d4-4668-9aeb-5bfb2ae2c127",
   "metadata": {},
   "outputs": [
    {
     "data": {
      "text/plain": [
       "array([27, 27, 16, 28, 13, 10])"
      ]
     },
     "execution_count": 179,
     "metadata": {},
     "output_type": "execute_result"
    }
   ],
   "source": [
    "arr = np.random.randint(10,30,6)\n",
    "arr"
   ]
  },
  {
   "cell_type": "markdown",
   "id": "c10b9345-2096-4b5a-815c-84d4c5a59943",
   "metadata": {},
   "source": [
    "Write a NumPy program to create a 5x5 array with random values and find the minimum and maximum values."
   ]
  },
  {
   "cell_type": "code",
   "execution_count": 181,
   "id": "6f3bdb6d-877f-4616-8260-d5b03295105b",
   "metadata": {},
   "outputs": [
    {
     "data": {
      "text/plain": [
       "array([[0.76257014, 0.16984971, 0.03127142, 0.43443167, 0.59264923],\n",
       "       [0.24941478, 0.34071812, 0.50735093, 0.10166503, 0.57714216],\n",
       "       [0.50766599, 0.47445391, 0.35744949, 0.61639748, 0.07282713],\n",
       "       [0.4541708 , 0.56848962, 0.64119845, 0.86336204, 0.3327014 ],\n",
       "       [0.80424291, 0.18183058, 0.54583513, 0.62098991, 0.53823936]])"
      ]
     },
     "execution_count": 181,
     "metadata": {},
     "output_type": "execute_result"
    }
   ],
   "source": [
    "arr = np.random.random((5,5))\n",
    "arr"
   ]
  },
  {
   "cell_type": "code",
   "execution_count": 182,
   "id": "745dd9f8-bf79-48e8-b144-67f7d6b3b78a",
   "metadata": {},
   "outputs": [
    {
     "data": {
      "text/plain": [
       "0.03127142108371894"
      ]
     },
     "execution_count": 182,
     "metadata": {},
     "output_type": "execute_result"
    }
   ],
   "source": [
    "arr.min()"
   ]
  },
  {
   "cell_type": "code",
   "execution_count": 183,
   "id": "fdcfb559-3b07-4931-a9d2-7b7487aa65e2",
   "metadata": {},
   "outputs": [
    {
     "data": {
      "text/plain": [
       "0.8633620384369814"
      ]
     },
     "execution_count": 183,
     "metadata": {},
     "output_type": "execute_result"
    }
   ],
   "source": [
    "arr.max()"
   ]
  },
  {
   "cell_type": "code",
   "execution_count": 184,
   "id": "05c050f9-6320-44ee-881e-775cfae49513",
   "metadata": {},
   "outputs": [],
   "source": [
    "x = arr[1:3, :]"
   ]
  },
  {
   "cell_type": "code",
   "execution_count": 185,
   "id": "8c8cb609-4e97-425d-aa33-472251e3f5fd",
   "metadata": {},
   "outputs": [
    {
     "data": {
      "text/plain": [
       "array([[0.24941478, 0.34071812, 0.50735093, 0.10166503, 0.57714216],\n",
       "       [0.50766599, 0.47445391, 0.35744949, 0.61639748, 0.07282713]])"
      ]
     },
     "execution_count": 185,
     "metadata": {},
     "output_type": "execute_result"
    }
   ],
   "source": [
    "x"
   ]
  },
  {
   "cell_type": "code",
   "execution_count": 186,
   "id": "65c9342a-b64e-405e-9ad0-b22511fb2043",
   "metadata": {},
   "outputs": [
    {
     "data": {
      "text/plain": [
       "array([[0.76257014, 0.16984971, 0.03127142, 0.43443167, 0.59264923],\n",
       "       [0.24941478, 0.34071812, 0.50735093, 0.10166503, 0.57714216],\n",
       "       [0.50766599, 0.47445391, 0.35744949, 0.61639748, 0.07282713],\n",
       "       [0.4541708 , 0.56848962, 0.64119845, 0.86336204, 0.3327014 ],\n",
       "       [0.80424291, 0.18183058, 0.54583513, 0.62098991, 0.53823936]])"
      ]
     },
     "execution_count": 186,
     "metadata": {},
     "output_type": "execute_result"
    }
   ],
   "source": [
    "arr"
   ]
  },
  {
   "cell_type": "code",
   "execution_count": 187,
   "id": "45ca1e40-9732-475a-a78a-4f50cc9b974f",
   "metadata": {},
   "outputs": [],
   "source": [
    "np.random.shuffle(arr)"
   ]
  },
  {
   "cell_type": "code",
   "execution_count": 188,
   "id": "07467577-2e08-4a6b-a96b-73f0ba72d743",
   "metadata": {},
   "outputs": [
    {
     "data": {
      "text/plain": [
       "array([[0.76257014, 0.16984971, 0.03127142, 0.43443167, 0.59264923],\n",
       "       [0.80424291, 0.18183058, 0.54583513, 0.62098991, 0.53823936],\n",
       "       [0.4541708 , 0.56848962, 0.64119845, 0.86336204, 0.3327014 ],\n",
       "       [0.24941478, 0.34071812, 0.50735093, 0.10166503, 0.57714216],\n",
       "       [0.50766599, 0.47445391, 0.35744949, 0.61639748, 0.07282713]])"
      ]
     },
     "execution_count": 188,
     "metadata": {},
     "output_type": "execute_result"
    }
   ],
   "source": [
    "arr"
   ]
  },
  {
   "cell_type": "markdown",
   "id": "6e0dbe6a-bbba-4d17-b695-bb9c7665d5c0",
   "metadata": {},
   "source": [
    "Write a NumPy program to get the n largest values of an array."
   ]
  },
  {
   "cell_type": "code",
   "execution_count": 189,
   "id": "2a33c228-4622-4653-8703-c8a6eee38597",
   "metadata": {},
   "outputs": [],
   "source": [
    "arr = np.arange(10)"
   ]
  },
  {
   "cell_type": "code",
   "execution_count": 193,
   "id": "6266269e-66b3-4cda-b966-e5ee90be6914",
   "metadata": {},
   "outputs": [
    {
     "name": "stdout",
     "output_type": "stream",
     "text": [
      "[6 7 8 9]\n"
     ]
    }
   ],
   "source": [
    "n = 4\n",
    "print(arr[np.argsort(arr)[-n:]]) "
   ]
  },
  {
   "cell_type": "markdown",
   "id": "f1157aa2-bf75-4689-9267-0fbccd5056ef",
   "metadata": {},
   "source": [
    "Create a three-dimension array, fill the array elements with values using unsigned integer (0 to 255)"
   ]
  },
  {
   "cell_type": "code",
   "execution_count": 194,
   "id": "8a3b8e8b-fc23-46cd-9424-f69155eacd50",
   "metadata": {},
   "outputs": [
    {
     "data": {
      "text/plain": [
       "array([[[ 43, 196, 118, 111,  91],\n",
       "        [ 94, 174, 144,  68, 200],\n",
       "        [185, 251,  24, 238, 102],\n",
       "        ...,\n",
       "        [ 47, 208, 132,  78, 163],\n",
       "        [ 95,  29,  47,  71,  27],\n",
       "        [ 68, 147, 143,  23,  69]],\n",
       "\n",
       "       [[183, 167,  63,  63, 186],\n",
       "        [ 11,  22,  72, 109, 217],\n",
       "        [ 49,  72, 189, 222,  95],\n",
       "        ...,\n",
       "        [ 70, 255,  66, 189,  93],\n",
       "        [ 36, 197, 217, 173,  23],\n",
       "        [180, 144,  38,  43,  88]],\n",
       "\n",
       "       [[  1, 111,  58,  46, 176],\n",
       "        [ 15,  78, 156, 112,  16],\n",
       "        [113, 195,  77,  40,  48],\n",
       "        ...,\n",
       "        [ 39,  81, 255, 171,  64],\n",
       "        [ 11,  67,  74, 187,  86],\n",
       "        [140, 228, 115, 211,  88]],\n",
       "\n",
       "       ...,\n",
       "\n",
       "       [[166, 173, 120, 219, 167],\n",
       "        [149, 249,  41, 200, 141],\n",
       "        [190, 131,  28,  44, 141],\n",
       "        ...,\n",
       "        [ 22, 197, 248, 170,  12],\n",
       "        [232,  67,  21, 119,  22],\n",
       "        [ 11, 162, 202, 253, 236]],\n",
       "\n",
       "       [[201,  74,  56, 153, 252],\n",
       "        [137,  14, 232, 239, 229],\n",
       "        [ 25, 158, 117,  38,  31],\n",
       "        ...,\n",
       "        [233,  45, 251,  20, 223],\n",
       "        [152, 224,  20,  92,  38],\n",
       "        [ 76,   5, 138, 116,  76]],\n",
       "\n",
       "       [[106, 251,   3, 252, 255],\n",
       "        [ 28, 228,  59,  42, 253],\n",
       "        [ 84,  75,  12, 104, 157],\n",
       "        ...,\n",
       "        [ 30,  23, 215, 163, 228],\n",
       "        [204, 127, 163,  78, 248],\n",
       "        [247, 112, 139,  66, 254]]])"
      ]
     },
     "execution_count": 194,
     "metadata": {},
     "output_type": "execute_result"
    }
   ],
   "source": [
    "arr = np.random.randint(0,256, size = (300, 400, 5))\n",
    "arr"
   ]
  },
  {
   "cell_type": "markdown",
   "id": "268f6963-5c9d-45dd-9215-56c6281b8e87",
   "metadata": {
    "jp-MarkdownHeadingCollapsed": true
   },
   "source": [
    "# Sorting and Searching"
   ]
  },
  {
   "cell_type": "markdown",
   "id": "9ca1afbf-1cb7-4d69-b419-599504854ed5",
   "metadata": {},
   "source": [
    "Write a NumPy program to sort a given array of shape 2 along the first axis, last axis and on flattened array."
   ]
  },
  {
   "cell_type": "code",
   "execution_count": 195,
   "id": "a609e27a-6603-48d1-9d38-67db1535d987",
   "metadata": {},
   "outputs": [
    {
     "name": "stdout",
     "output_type": "stream",
     "text": [
      "Original array:\n",
      "[[10 40]\n",
      " [30 20]]\n",
      "Sort the array along the first axis:\n",
      "[[10 20]\n",
      " [30 40]]\n",
      "Sort the array along the last axis:\n",
      "[[10 40]\n",
      " [20 30]]\n",
      "Sort the flattened array:\n",
      "[10 20 30 40]\n"
     ]
    }
   ],
   "source": [
    "import numpy as np\n",
    "\n",
    "a = np.array([[10, 40], [30, 20]])\n",
    "\n",
    "print(\"Original array:\")\n",
    "print(a)\n",
    "\n",
    "print(\"Sort the array along the first axis:\")\n",
    "print(np.sort(a, axis=0))\n",
    "\n",
    "print(\"Sort the array along the last axis:\")\n",
    "print(np.sort(a))\n",
    "\n",
    "print(\"Sort the flattened array:\")\n",
    "print(np.sort(a, axis=None)) "
   ]
  },
  {
   "cell_type": "markdown",
   "id": "babec012-ab76-439a-b2ea-cdafe8e5dc4a",
   "metadata": {},
   "source": [
    "Write a NumPy program to create a structured array from given student name, height, class and their data types. Now sort by class, then height if class are equal."
   ]
  },
  {
   "cell_type": "code",
   "execution_count": 197,
   "id": "c677caaf-6820-4752-9d08-e1414f8ab56a",
   "metadata": {},
   "outputs": [
    {
     "name": "stdout",
     "output_type": "stream",
     "text": [
      "Original array:\n",
      "[(b'James', 5, 48.5 ) (b'Nail', 6, 52.5 ) (b'Paul', 5, 42.1 ) (b'Pit', 5, 40.11)]\n",
      "Sort by class, then height if class are equal:\n",
      "[(b'Pit', 5, 40.11) (b'Paul', 5, 42.1 ) (b'James', 5, 48.5 ) (b'Nail', 6, 52.5 )]\n"
     ]
    }
   ],
   "source": [
    "data_type = [('name', 'S15'), ('class', int), ('height', float)]\n",
    "\n",
    "students_details = [('James', 5, 48.5), ('Nail', 6, 52.5), ('Paul', 5, 42.10), ('Pit', 5, 40.11)]\n",
    "\n",
    "students = np.array(students_details, dtype=data_type)\n",
    "\n",
    "print(\"Original array:\")\n",
    "print(students)\n",
    "\n",
    "print(\"Sort by class, then height if class are equal:\")\n",
    "print(np.sort(students, order=['class', 'height'])) "
   ]
  },
  {
   "cell_type": "markdown",
   "id": "0c5e9b02-3456-4b9b-8990-806b4aca5999",
   "metadata": {},
   "source": [
    "Write a  NumPy program to partition a given array in a specified position and move all the smaller elements values to the left of the partition, and the remaining values to the right, in arbitrary order (based on random choice)."
   ]
  },
  {
   "cell_type": "code",
   "execution_count": 198,
   "id": "86499bd0-7e05-4b30-a301-15fd82f04d2f",
   "metadata": {},
   "outputs": [
    {
     "name": "stdout",
     "output_type": "stream",
     "text": [
      "Original array:\n",
      "[ 70  50  20  30 -11  60  50  40]\n",
      "\n",
      "After partitioning on 4 the position:\n",
      "[-11  30  20  40  50  50  60  70]\n"
     ]
    }
   ],
   "source": [
    "nums = np.array([70, 50, 20, 30, -11, 60, 50, 40])\n",
    "\n",
    "print(\"Original array:\")\n",
    "print(nums)\n",
    "\n",
    "print(\"\\nAfter partitioning on 4 the position:\")\n",
    "print(np.partition(nums, 4)) "
   ]
  },
  {
   "cell_type": "markdown",
   "id": "72a9219b-d5c8-45c8-9e3e-c2a255b05cc9",
   "metadata": {
    "jp-MarkdownHeadingCollapsed": true
   },
   "source": [
    "# NumPy Advanced Indexing"
   ]
  },
  {
   "cell_type": "markdown",
   "id": "56c5c59e-f9e3-45fe-bb12-f30af269df90",
   "metadata": {},
   "source": [
    " Write a NumPy program that creates a 2D NumPy array of random integers. Use boolean indexing to select all elements greater than a specified value."
   ]
  },
  {
   "cell_type": "code",
   "execution_count": 199,
   "id": "944a07a1-e41a-4822-8b0b-4b141ff2c719",
   "metadata": {},
   "outputs": [],
   "source": [
    "import numpy as np"
   ]
  },
  {
   "cell_type": "code",
   "execution_count": 210,
   "id": "e9702e4e-cd39-488c-992a-49c6e6677959",
   "metadata": {},
   "outputs": [
    {
     "data": {
      "text/plain": [
       "array([[ 2, 15,  8,  2],\n",
       "       [ 2,  4,  0, 13],\n",
       "       [ 3,  3,  8, 13],\n",
       "       [ 5,  2,  4, 11]])"
      ]
     },
     "execution_count": 210,
     "metadata": {},
     "output_type": "execute_result"
    }
   ],
   "source": [
    "arr = np.random.randint(0, 16, size = (4,4))\n",
    "arr"
   ]
  },
  {
   "cell_type": "code",
   "execution_count": 211,
   "id": "baf35135-af15-4a67-99b3-8f04eae2e809",
   "metadata": {},
   "outputs": [
    {
     "data": {
      "text/plain": [
       "array([15, 13, 13, 11])"
      ]
     },
     "execution_count": 211,
     "metadata": {},
     "output_type": "execute_result"
    }
   ],
   "source": [
    "arr[arr>10]"
   ]
  },
  {
   "cell_type": "markdown",
   "id": "b8098c75-b766-4ee4-ac39-0429cdeff76f",
   "metadata": {},
   "source": [
    "Write a NumPy program that creates a 5D NumPy array. Use boolean indexing to select elements along specific dimensions based on conditions applied to other dimensions."
   ]
  },
  {
   "cell_type": "code",
   "execution_count": 212,
   "id": "ea63325a-4d61-4915-a7ac-79d4c2808163",
   "metadata": {},
   "outputs": [
    {
     "name": "stdout",
     "output_type": "stream",
     "text": [
      "Original 5D array shape: (3, 4, 2, 3, 5)\n",
      "Condition (elements > 50):\n",
      " [[[[[False False  True  True  True]\n",
      "    [ True  True False  True False]\n",
      "    [False  True  True False False]]\n",
      "\n",
      "   [[ True False False  True False]\n",
      "    [ True  True  True False False]\n",
      "    [ True  True  True  True False]]]\n",
      "\n",
      "\n",
      "  [[[False False  True  True False]\n",
      "    [False  True False  True  True]\n",
      "    [ True  True False False  True]]\n",
      "\n",
      "   [[False  True  True False False]\n",
      "    [False  True False False  True]\n",
      "    [ True  True False  True False]]]\n",
      "\n",
      "\n",
      "  [[[False False  True False False]\n",
      "    [False False False False False]\n",
      "    [False  True  True False False]]\n",
      "\n",
      "   [[ True  True False False False]\n",
      "    [ True  True  True False False]\n",
      "    [ True  True False False False]]]\n",
      "\n",
      "\n",
      "  [[[False  True  True  True False]\n",
      "    [False  True False  True  True]\n",
      "    [ True False False False  True]]\n",
      "\n",
      "   [[ True  True  True  True False]\n",
      "    [False  True  True  True False]\n",
      "    [False  True  True False  True]]]]\n",
      "\n",
      "\n",
      "\n",
      " [[[[False  True False  True False]\n",
      "    [ True False False  True False]\n",
      "    [ True  True  True  True  True]]\n",
      "\n",
      "   [[False  True False  True  True]\n",
      "    [False  True False  True  True]\n",
      "    [ True False False  True False]]]\n",
      "\n",
      "\n",
      "  [[[False False False  True False]\n",
      "    [ True  True  True  True  True]\n",
      "    [ True False False  True False]]\n",
      "\n",
      "   [[False False False  True False]\n",
      "    [False False False  True False]\n",
      "    [ True  True  True False False]]]\n",
      "\n",
      "\n",
      "  [[[ True  True  True  True  True]\n",
      "    [False False False False  True]\n",
      "    [False False  True False False]]\n",
      "\n",
      "   [[False False False  True  True]\n",
      "    [False  True False False  True]\n",
      "    [ True  True  True  True False]]]\n",
      "\n",
      "\n",
      "  [[[ True False  True  True  True]\n",
      "    [False False False False False]\n",
      "    [False  True False  True False]]\n",
      "\n",
      "   [[False  True  True  True  True]\n",
      "    [ True  True  True  True False]\n",
      "    [False  True False  True False]]]]\n",
      "\n",
      "\n",
      "\n",
      " [[[[False False  True  True False]\n",
      "    [ True False False False False]\n",
      "    [False  True False False False]]\n",
      "\n",
      "   [[ True  True False  True False]\n",
      "    [ True  True  True  True  True]\n",
      "    [False  True  True  True  True]]]\n",
      "\n",
      "\n",
      "  [[[ True False  True False False]\n",
      "    [False False False False False]\n",
      "    [ True False False False  True]]\n",
      "\n",
      "   [[ True False False False False]\n",
      "    [ True False  True False  True]\n",
      "    [False False  True  True False]]]\n",
      "\n",
      "\n",
      "  [[[ True  True False False False]\n",
      "    [False False False False False]\n",
      "    [ True  True  True  True False]]\n",
      "\n",
      "   [[ True False False False  True]\n",
      "    [False False  True False False]\n",
      "    [False False False False  True]]]\n",
      "\n",
      "\n",
      "  [[[ True False False  True False]\n",
      "    [ True  True False False  True]\n",
      "    [ True False False False  True]]\n",
      "\n",
      "   [[ True  True  True  True False]\n",
      "    [False False  True  True  True]\n",
      "    [ True  True False  True  True]]]]]\n",
      "Selected elements based on condition:\n",
      " [60 72 77 80 55 76 63 59 86 94 93 71 55 68 74 79 75 83 98 55 58 66 86 53 70 83 88 76 94 73 84 76 67\n",
      " 82 67 87 71 62 85 74 89 63 76 64 80 99 83 91 83 62 58 88 58 89 71 65 70 86 73 81 98 86 96 85 54 59\n",
      " 72 56 95 81 68 71 67 90 57 82 90 58 88 63 77 60 98 81 73 55 70 87 62 56 87 97 95 81 69 88 70 53 63\n",
      " 85 76 82 65 93 55 60 79 82 85 90 96 86 73 71 68 99 95 56 75 59 95 69 72 67 89 83 99 91 51 64 52 85\n",
      " 82 67 96 87 65 86 96 54 58 99 84 87 67 60 93 84 71 98 85 87 52 65 81 99 71 59 72 55 80 67 92 99 68\n",
      " 70 58 86 72 60 60 69 75 64 81]\n",
      "Shape of selected elements: (175,)\n"
     ]
    }
   ],
   "source": [
    "array_5d = np.random.randint(0, 100, size=(3, 4, 2, 3, 5))\n",
    "\n",
    "condition = array_5d > 50\n",
    "\n",
    "selected_elements = array_5d[condition]\n",
    "\n",
    "print('Original 5D array shape:', array_5d.shape)\n",
    "print('Condition (elements > 50):\\n', condition)\n",
    "print('Selected elements based on condition:\\n', selected_elements)\n",
    "print('Shape of selected elements:', selected_elements.shape)"
   ]
  },
  {
   "cell_type": "markdown",
   "id": "f56219a4-d555-47b7-b476-b27b8311c853",
   "metadata": {},
   "source": [
    "Write a NumPy program that creates a 2D NumPy array and uses a mask array (boolean array) for indexing to select a subset of elements that match the mask criteria."
   ]
  },
  {
   "cell_type": "code",
   "execution_count": 213,
   "id": "795f6ae2-3653-4bcc-b54f-002ea6b8ae84",
   "metadata": {},
   "outputs": [
    {
     "data": {
      "text/plain": [
       "array([[5, 2, 6],\n",
       "       [8, 8, 3],\n",
       "       [4, 1, 9]])"
      ]
     },
     "execution_count": 213,
     "metadata": {},
     "output_type": "execute_result"
    }
   ],
   "source": [
    "arr = np.random.randint(0,10, size = (3,3))\n",
    "arr"
   ]
  },
  {
   "cell_type": "code",
   "execution_count": 215,
   "id": "cf050205-3a2c-4a26-ada6-fca9b095bf3b",
   "metadata": {},
   "outputs": [
    {
     "data": {
      "text/plain": [
       "array([[1, 0, 1],\n",
       "       [0, 1, 1],\n",
       "       [0, 0, 1]])"
      ]
     },
     "execution_count": 215,
     "metadata": {},
     "output_type": "execute_result"
    }
   ],
   "source": [
    "boolarr = np.random.randint(0,2, size = (3,3))\n",
    "boolarr"
   ]
  },
  {
   "cell_type": "code",
   "execution_count": 221,
   "id": "ca1e3d01-bfc5-44bb-8600-c1321d39c3a4",
   "metadata": {},
   "outputs": [
    {
     "data": {
      "text/plain": [
       "array([[ True, False,  True],\n",
       "       [False,  True,  True],\n",
       "       [False, False,  True]])"
      ]
     },
     "execution_count": 221,
     "metadata": {},
     "output_type": "execute_result"
    }
   ],
   "source": [
    "b = boolarr==1\n",
    "b"
   ]
  },
  {
   "cell_type": "code",
   "execution_count": 222,
   "id": "ccb092dd-6826-4de6-abd9-bfd3ba8a5eca",
   "metadata": {},
   "outputs": [
    {
     "data": {
      "text/plain": [
       "array([5, 6, 8, 3, 9])"
      ]
     },
     "execution_count": 222,
     "metadata": {},
     "output_type": "execute_result"
    }
   ],
   "source": [
    "arr[b]"
   ]
  },
  {
   "cell_type": "markdown",
   "id": "f5213b7d-a2c7-4379-86d2-d28654b30783",
   "metadata": {
    "jp-MarkdownHeadingCollapsed": true
   },
   "source": [
    "# Python NumPy DateTime"
   ]
  },
  {
   "cell_type": "code",
   "execution_count": 233,
   "id": "f5ac9fd0-c096-4773-bc6c-649319938516",
   "metadata": {},
   "outputs": [
    {
     "data": {
      "text/plain": [
       "numpy.datetime64('2025-01-13')"
      ]
     },
     "execution_count": 233,
     "metadata": {},
     "output_type": "execute_result"
    }
   ],
   "source": [
    "np.datetime64('today')"
   ]
  },
  {
   "cell_type": "markdown",
   "id": "09476a5a-3a49-4a11-a2b3-0452ca017e8a",
   "metadata": {},
   "source": [
    "Write a NumPy program to display all the dates for the month of March, 2017."
   ]
  },
  {
   "cell_type": "code",
   "execution_count": 226,
   "id": "eaa5b230-cf34-4f68-8344-703c918368f9",
   "metadata": {},
   "outputs": [
    {
     "name": "stdout",
     "output_type": "stream",
     "text": [
      "March, 2017\n",
      "['2017-03-01' '2017-03-02' '2017-03-03' '2017-03-04' '2017-03-05' '2017-03-06' '2017-03-07'\n",
      " '2017-03-08' '2017-03-09' '2017-03-10' '2017-03-11' '2017-03-12' '2017-03-13' '2017-03-14'\n",
      " '2017-03-15' '2017-03-16' '2017-03-17' '2017-03-18' '2017-03-19' '2017-03-20' '2017-03-21'\n",
      " '2017-03-22' '2017-03-23' '2017-03-24' '2017-03-25' '2017-03-26' '2017-03-27' '2017-03-28'\n",
      " '2017-03-29' '2017-03-30' '2017-03-31']\n"
     ]
    }
   ],
   "source": [
    "import numpy as np\n",
    "\n",
    "print(\"March, 2017\")\n",
    "print(np.arange('2017-03', '2017-04', dtype='datetime64[D]'))"
   ]
  },
  {
   "cell_type": "markdown",
   "id": "e30f34f5-8810-47e4-b848-fccb8f218af6",
   "metadata": {},
   "source": [
    "Write a NumPy program to get the dates of yesterday, today and tomorrow."
   ]
  },
  {
   "cell_type": "code",
   "execution_count": 232,
   "id": "263508d2-fb65-4142-8d67-32773f2a7bfb",
   "metadata": {},
   "outputs": [
    {
     "name": "stdout",
     "output_type": "stream",
     "text": [
      "Yestraday:  2025-01-12\n",
      "Today:  2025-01-13\n",
      "Tomorrow:  2025-01-14\n"
     ]
    }
   ],
   "source": [
    "import numpy as np\n",
    "\n",
    "yesterday = np.datetime64('today', 'D') - np.timedelta64(1, 'D')\n",
    "print(\"Yestraday: \", yesterday)\n",
    "\n",
    "today = np.datetime64('today', 'D')\n",
    "print(\"Today: \", today)\n",
    "\n",
    "tomorrow = np.datetime64('today', 'D') + np.timedelta64(1, 'D')\n",
    "print(\"Tomorrow: \", tomorrow) "
   ]
  },
  {
   "cell_type": "code",
   "execution_count": 235,
   "id": "24ab5db1-ffa7-4421-b8a3-4a7b066f4dc2",
   "metadata": {},
   "outputs": [
    {
     "name": "stdout",
     "output_type": "stream",
     "text": [
      "29 days\n"
     ]
    }
   ],
   "source": [
    "print(np.datetime64('2024-03-01') - np.datetime64('2024-02-01'))"
   ]
  },
  {
   "cell_type": "markdown",
   "id": "c46ca7be-90f9-4ac3-9c9a-eadbb64bb6cb",
   "metadata": {},
   "source": [
    "Write a NumPy program to find the number of weekdays in March 2017.\n",
    "Note: \"busday\" default of Monday through Friday being valid days."
   ]
  },
  {
   "cell_type": "code",
   "execution_count": 236,
   "id": "29931fd8-6d72-44b9-ad4a-5dd4ea9ea868",
   "metadata": {},
   "outputs": [
    {
     "name": "stdout",
     "output_type": "stream",
     "text": [
      "Number of weekdays in March 2017:\n",
      "23\n"
     ]
    }
   ],
   "source": [
    "print(\"Number of weekdays in March 2017:\")\n",
    "print(np.busday_count('2017-03', '2017-04')) "
   ]
  },
  {
   "cell_type": "code",
   "execution_count": 237,
   "id": "a168a39e-4033-47ad-b98a-4b3d0622da2f",
   "metadata": {},
   "outputs": [
    {
     "name": "stdout",
     "output_type": "stream",
     "text": [
      "First Monday in May 2017:\n",
      "2017-05-01\n"
     ]
    }
   ],
   "source": [
    "print(\"First Monday in May 2017:\")\n",
    "print(np.busday_offset('2017-05', 0, roll='forward', weekmask='Mon')) "
   ]
  },
  {
   "cell_type": "markdown",
   "id": "751cf4b4-bc48-43ef-a853-84ab8fb2c487",
   "metadata": {},
   "source": [
    "Write a NumPy program to convert numpy datetime64 to Timestamp."
   ]
  },
  {
   "cell_type": "code",
   "execution_count": 240,
   "id": "5fff313e-a11b-449d-928f-b1a28531c285",
   "metadata": {},
   "outputs": [
    {
     "name": "stdout",
     "output_type": "stream",
     "text": [
      "Current date:\n",
      "2025-01-13 07:21:18.523578\n",
      "Timestamp:\n",
      "1736752878.523578\n",
      "UTC from Timestamp:\n"
     ]
    },
    {
     "name": "stderr",
     "output_type": "stream",
     "text": [
      "C:\\Users\\JeetPrajapati\\AppData\\Local\\Temp\\ipykernel_30732\\2337296769.py:4: DeprecationWarning: datetime.datetime.utcnow() is deprecated and scheduled for removal in a future version. Use timezone-aware objects to represent datetimes in UTC: datetime.datetime.now(datetime.UTC).\n",
      "  dt = datetime.utcnow()\n",
      "C:\\Users\\JeetPrajapati\\AppData\\Local\\Temp\\ipykernel_30732\\2337296769.py:14: DeprecationWarning: parsing timezone aware datetimes is deprecated; this will raise an error in the future\n",
      "  ts = (dt64 - np.datetime64('1970-01-01T00:00:00Z')) / np.timedelta64(1, 's')\n"
     ]
    },
    {
     "ename": "AttributeError",
     "evalue": "type object 'datetime.datetime' has no attribute 'utcfromtimestampnow'",
     "output_type": "error",
     "traceback": [
      "\u001b[1;31m---------------------------------------------------------------------------\u001b[0m",
      "\u001b[1;31mAttributeError\u001b[0m                            Traceback (most recent call last)",
      "Cell \u001b[1;32mIn[240], line 20\u001b[0m\n\u001b[0;32m     17\u001b[0m \u001b[38;5;28mprint\u001b[39m(ts)\n\u001b[0;32m     19\u001b[0m \u001b[38;5;28mprint\u001b[39m(\u001b[38;5;124m\"\u001b[39m\u001b[38;5;124mUTC from Timestamp:\u001b[39m\u001b[38;5;124m\"\u001b[39m)\n\u001b[1;32m---> 20\u001b[0m \u001b[38;5;28mprint\u001b[39m(datetime\u001b[38;5;241m.\u001b[39mutcfromtimestampnow(ts))\n",
      "\u001b[1;31mAttributeError\u001b[0m: type object 'datetime.datetime' has no attribute 'utcfromtimestampnow'"
     ]
    }
   ],
   "source": [
    "import numpy as np\n",
    "from datetime import datetime\n",
    "\n",
    "dt = datetime.utcnow()\n",
    "\n",
    "print(\"Current date:\")\n",
    "print(dt)\n",
    "\n",
    "dt64 = np.datetime64(dt)\n",
    "\n",
    "# Calculating the timestamp from the datetime64 object\n",
    "# The timestamp is calculated by subtracting the datetime '1970-01-01T00:00:00Z' from the current datetime\n",
    "# Then it's divided by the number of seconds in one unit of timedelta64 to get the timestamp\n",
    "ts = (dt64 - np.datetime64('1970-01-01T00:00:00Z')) / np.timedelta64(1, 's')\n",
    "\n",
    "print(\"Timestamp:\")\n",
    "print(ts)\n",
    "\n",
    "print(\"UTC from Timestamp:\")\n",
    "print(datetime.utcfromtimestampnow(ts))"
   ]
  },
  {
   "cell_type": "markdown",
   "id": "a561b341-0c1a-4028-abe5-033f6b9bb029",
   "metadata": {
    "jp-MarkdownHeadingCollapsed": true
   },
   "source": [
    "# Python NumPy String"
   ]
  },
  {
   "cell_type": "markdown",
   "id": "98e85a4b-cb91-4a49-87a8-2d63095205cc",
   "metadata": {},
   "source": [
    "Write a NumPy program to concatenate element-wise two arrays of string."
   ]
  },
  {
   "cell_type": "code",
   "execution_count": 247,
   "id": "772062d9-bc70-44d4-96c9-b8dc89504c88",
   "metadata": {},
   "outputs": [],
   "source": [
    "import numpy as np"
   ]
  },
  {
   "cell_type": "code",
   "execution_count": 249,
   "id": "4756cd16-66f2-4735-8844-49461e544ca2",
   "metadata": {},
   "outputs": [],
   "source": [
    "n1 = np.array(['Hello', 'language'], dtype = np.str_)\n",
    "n2 = np.array(['World', 'Python'], dtype = np.str_)"
   ]
  },
  {
   "cell_type": "code",
   "execution_count": 250,
   "id": "26404004-0d4f-4849-a2e1-8de029a46508",
   "metadata": {},
   "outputs": [
    {
     "name": "stdout",
     "output_type": "stream",
     "text": [
      "['Hello' 'language']\n",
      "['World' 'Python']\n"
     ]
    }
   ],
   "source": [
    "print(n1)\n",
    "print(n2)"
   ]
  },
  {
   "cell_type": "code",
   "execution_count": 255,
   "id": "6eef505a-9b00-41e9-b840-bf9498b3ee9f",
   "metadata": {},
   "outputs": [],
   "source": [
    "n3 = np.char.add(n1,\" \")\n",
    "n4 = np.char.add(n3,n2)"
   ]
  },
  {
   "cell_type": "code",
   "execution_count": 256,
   "id": "7f6cbdcb-d1b3-4b48-9fba-904efabfa89e",
   "metadata": {},
   "outputs": [
    {
     "data": {
      "text/plain": [
       "array(['Hello World', 'language Python'], dtype='<U15')"
      ]
     },
     "execution_count": 256,
     "metadata": {},
     "output_type": "execute_result"
    }
   ],
   "source": [
    "n4"
   ]
  },
  {
   "cell_type": "markdown",
   "id": "24a9f2b7-bea7-463c-b24c-9646c1d761ce",
   "metadata": {},
   "source": [
    "Write a NumPy program to repeat all the elements three times of a given array of string"
   ]
  },
  {
   "cell_type": "code",
   "execution_count": 257,
   "id": "7744cc90-80ed-42ea-9d92-68f6a2454994",
   "metadata": {},
   "outputs": [],
   "source": [
    "n1 = np.array(['Python','c++','java'],dtype=str)"
   ]
  },
  {
   "cell_type": "code",
   "execution_count": 258,
   "id": "f3ccab27-e125-4cac-ad54-2e79ae03e82c",
   "metadata": {},
   "outputs": [
    {
     "data": {
      "text/plain": [
       "array(['Python', 'c++', 'java'], dtype='<U6')"
      ]
     },
     "execution_count": 258,
     "metadata": {},
     "output_type": "execute_result"
    }
   ],
   "source": [
    "n1"
   ]
  },
  {
   "cell_type": "code",
   "execution_count": 259,
   "id": "c7b1613a-24fc-4112-a7c5-fd16d35548fd",
   "metadata": {},
   "outputs": [
    {
     "data": {
      "text/plain": [
       "array(['PythonPythonPython', 'c++c++c++', 'javajavajava'], dtype='<U18')"
      ]
     },
     "execution_count": 259,
     "metadata": {},
     "output_type": "execute_result"
    }
   ],
   "source": [
    "n2 = np.char.multiply(n1,3)\n",
    "n2"
   ]
  },
  {
   "cell_type": "markdown",
   "id": "6956b655-12af-4780-a5c7-50c7ca5864d1",
   "metadata": {},
   "source": [
    "Write a NumPy program to capitalize the first letter, lowercase, uppercase, swapcase, title-case of all the elements of a given array."
   ]
  },
  {
   "cell_type": "code",
   "execution_count": 261,
   "id": "3e7e7192-0039-48a8-a080-e43abec985df",
   "metadata": {},
   "outputs": [
    {
     "data": {
      "text/plain": [
       "array(['PYTHON', 'C++', 'JAVA'], dtype='<U6')"
      ]
     },
     "execution_count": 261,
     "metadata": {},
     "output_type": "execute_result"
    }
   ],
   "source": [
    "n3 = np.char.upper(n1)\n",
    "n3"
   ]
  },
  {
   "cell_type": "code",
   "execution_count": 262,
   "id": "2dc388a1-5431-49d8-a2e0-218aa566cee5",
   "metadata": {},
   "outputs": [
    {
     "data": {
      "text/plain": [
       "array(['Python', 'C++', 'Java'], dtype='<U6')"
      ]
     },
     "execution_count": 262,
     "metadata": {},
     "output_type": "execute_result"
    }
   ],
   "source": [
    "n3 = np.char.title(n1)\n",
    "n3"
   ]
  },
  {
   "cell_type": "code",
   "execution_count": 263,
   "id": "40b46be5-be3f-402a-8317-fc080c8ae5f7",
   "metadata": {},
   "outputs": [
    {
     "data": {
      "text/plain": [
       "array(['Python', 'C++', 'Java'], dtype='<U6')"
      ]
     },
     "execution_count": 263,
     "metadata": {},
     "output_type": "execute_result"
    }
   ],
   "source": [
    "n3 = np.char.capitalize(n1)\n",
    "n3"
   ]
  },
  {
   "cell_type": "code",
   "execution_count": 264,
   "id": "fe63680a-1fed-496b-afb4-46dc1370549b",
   "metadata": {},
   "outputs": [
    {
     "data": {
      "text/plain": [
       "array(['python', 'c++', 'java'], dtype='<U6')"
      ]
     },
     "execution_count": 264,
     "metadata": {},
     "output_type": "execute_result"
    }
   ],
   "source": [
    "n3 = np.char.lower(n1)\n",
    "n3"
   ]
  },
  {
   "cell_type": "code",
   "execution_count": 265,
   "id": "781d20ee-0b80-456c-bdf3-216c8ae80284",
   "metadata": {},
   "outputs": [
    {
     "data": {
      "text/plain": [
       "array(['pYTHON', 'C++', 'JAVA'], dtype='<U6')"
      ]
     },
     "execution_count": 265,
     "metadata": {},
     "output_type": "execute_result"
    }
   ],
   "source": [
    "n3 = np.char.swapcase(n1)\n",
    "n3"
   ]
  },
  {
   "cell_type": "markdown",
   "id": "816af412-8085-41a2-aa7a-7f9204141ad6",
   "metadata": {},
   "source": [
    "Write a NumPy program to split a given text into lines and split the single line into array values."
   ]
  },
  {
   "cell_type": "code",
   "execution_count": 266,
   "id": "c1076aac-ff29-497a-810f-8344e113fda3",
   "metadata": {},
   "outputs": [],
   "source": [
    "student = \"\"\"01\tV\tDebby Pramod\n",
    "02\tV\tArtemiy Ellie\n",
    "03\tV\tBaptist Kamal\n",
    "04\tV\tLavanya Davide\n",
    "05\tV\tFulton Antwan\n",
    "06\tV\tEuanthe Sandeep\n",
    "07\tV\tEndzela Sanda\n",
    "08\tV\tVictoire Waman\n",
    "09\tV\tBriar Nur\n",
    "10\tV\tRose Lykos\"\"\""
   ]
  },
  {
   "cell_type": "code",
   "execution_count": 267,
   "id": "8bac594a-4fa6-43bf-af17-1ea4862a4f89",
   "metadata": {},
   "outputs": [
    {
     "data": {
      "text/plain": [
       "'01\\tV\\tDebby Pramod\\n02\\tV\\tArtemiy Ellie\\n03\\tV\\tBaptist Kamal\\n04\\tV\\tLavanya Davide\\n05\\tV\\tFulton Antwan\\n06\\tV\\tEuanthe Sandeep\\n07\\tV\\tEndzela Sanda\\n08\\tV\\tVictoire Waman\\n09\\tV\\tBriar Nur\\n10\\tV\\tRose Lykos'"
      ]
     },
     "execution_count": 267,
     "metadata": {},
     "output_type": "execute_result"
    }
   ],
   "source": [
    "student"
   ]
  },
  {
   "cell_type": "code",
   "execution_count": 272,
   "id": "0e0ab6f0-63f8-450e-b29d-a22bbed7fabc",
   "metadata": {},
   "outputs": [
    {
     "data": {
      "text/plain": [
       "[['01', 'V', 'Debby Pramod'],\n",
       " ['02', 'V', 'Artemiy Ellie'],\n",
       " ['03', 'V', 'Baptist Kamal'],\n",
       " ['04', 'V', 'Lavanya Davide'],\n",
       " ['05', 'V', 'Fulton Antwan'],\n",
       " ['06', 'V', 'Euanthe Sandeep'],\n",
       " ['07', 'V', 'Endzela Sanda'],\n",
       " ['08', 'V', 'Victoire Waman'],\n",
       " ['09', 'V', 'Briar Nur'],\n",
       " ['10', 'V', 'Rose Lykos']]"
      ]
     },
     "execution_count": 272,
     "metadata": {},
     "output_type": "execute_result"
    }
   ],
   "source": [
    "text = []\n",
    "\n",
    "for s in student.splitlines():\n",
    "    text.append(s.split('\\t'))\n",
    "    \n",
    "text"
   ]
  },
  {
   "cell_type": "code",
   "execution_count": 273,
   "id": "bff5d167-c520-47de-bcdf-cbd12e405476",
   "metadata": {},
   "outputs": [
    {
     "data": {
      "text/plain": [
       "array([['01', 'V', 'Debby Pramod'],\n",
       "       ['02', 'V', 'Artemiy Ellie'],\n",
       "       ['03', 'V', 'Baptist Kamal'],\n",
       "       ['04', 'V', 'Lavanya Davide'],\n",
       "       ['05', 'V', 'Fulton Antwan'],\n",
       "       ['06', 'V', 'Euanthe Sandeep'],\n",
       "       ['07', 'V', 'Endzela Sanda'],\n",
       "       ['08', 'V', 'Victoire Waman'],\n",
       "       ['09', 'V', 'Briar Nur'],\n",
       "       ['10', 'V', 'Rose Lykos']], dtype='<U15')"
      ]
     },
     "execution_count": 273,
     "metadata": {},
     "output_type": "execute_result"
    }
   ],
   "source": [
    "n1 = np.array(text)\n",
    "n1"
   ]
  },
  {
   "cell_type": "markdown",
   "id": "122e6334-2da0-40e3-b18a-916867eff495",
   "metadata": {
    "jp-MarkdownHeadingCollapsed": true
   },
   "source": [
    "# NumPy Broadcasting"
   ]
  },
  {
   "cell_type": "markdown",
   "id": "5d6af691-71a4-4cf8-a9c0-69af48f93d90",
   "metadata": {},
   "source": [
    "Write a NumPy program that performs element-wise addition using broadcasting."
   ]
  },
  {
   "cell_type": "code",
   "execution_count": 275,
   "id": "f53bda1a-de24-41db-98e2-9421a32fa72c",
   "metadata": {},
   "outputs": [],
   "source": [
    "n1 = np.arange(10)\n",
    "n2 = np.ones(10)"
   ]
  },
  {
   "cell_type": "code",
   "execution_count": 276,
   "id": "96ae62c6-ca5c-42ff-b91c-42249056372a",
   "metadata": {},
   "outputs": [
    {
     "name": "stdout",
     "output_type": "stream",
     "text": [
      "[0 1 2 3 4 5 6 7 8 9]\n",
      "[1. 1. 1. 1. 1. 1. 1. 1. 1. 1.]\n",
      "[ 1.  2.  3.  4.  5.  6.  7.  8.  9. 10.]\n"
     ]
    }
   ],
   "source": [
    "print(n1)\n",
    "print(n2)\n",
    "print(n1+n2)"
   ]
  },
  {
   "cell_type": "code",
   "execution_count": 277,
   "id": "9b7a5d2b-2c99-4060-a294-d76c03304f95",
   "metadata": {},
   "outputs": [
    {
     "data": {
      "text/plain": [
       "array([10, 11, 12, 13, 14, 15, 16, 17, 18, 19])"
      ]
     },
     "execution_count": 277,
     "metadata": {},
     "output_type": "execute_result"
    }
   ],
   "source": [
    "n1 + 10"
   ]
  },
  {
   "cell_type": "markdown",
   "id": "bbf523f7-ce39-402a-9807-39ec40fe2020",
   "metadata": {},
   "source": [
    "Write a NumPy program that creates a 2D array x of shape (3, 4) and a 1D array y of shape (4,). Subtract y from each row of x using broadcasting."
   ]
  },
  {
   "cell_type": "code",
   "execution_count": 284,
   "id": "8332eee4-a710-4830-9a85-10103e0c0a26",
   "metadata": {},
   "outputs": [
    {
     "data": {
      "text/plain": [
       "array([[ 1,  2,  3,  4],\n",
       "       [ 5,  6,  7,  8],\n",
       "       [ 9, 10, 11, 12]])"
      ]
     },
     "execution_count": 284,
     "metadata": {},
     "output_type": "execute_result"
    }
   ],
   "source": [
    "n1 = np.arange(1,13).reshape((3,4))\n",
    "n1"
   ]
  },
  {
   "cell_type": "code",
   "execution_count": 285,
   "id": "bf7feb01-ebac-4c72-957c-38b8c2fed90f",
   "metadata": {},
   "outputs": [
    {
     "data": {
      "text/plain": [
       "array([1, 2, 3, 4])"
      ]
     },
     "execution_count": 285,
     "metadata": {},
     "output_type": "execute_result"
    }
   ],
   "source": [
    "n2 = np.arange(1,5).reshape(4,)\n",
    "n2"
   ]
  },
  {
   "cell_type": "code",
   "execution_count": 286,
   "id": "17c71450-fe9d-4514-b51e-2e521819308d",
   "metadata": {},
   "outputs": [
    {
     "data": {
      "text/plain": [
       "array([[0, 0, 0, 0],\n",
       "       [4, 4, 4, 4],\n",
       "       [8, 8, 8, 8]])"
      ]
     },
     "execution_count": 286,
     "metadata": {},
     "output_type": "execute_result"
    }
   ],
   "source": [
    "n1 - n2"
   ]
  },
  {
   "cell_type": "markdown",
   "id": "103ed7e9-4747-46e9-8b36-7e8ad0fc18f2",
   "metadata": {},
   "source": [
    "Write a NumPy program that Multiplies each column of a 2D array x of shape (7, 3) by a 1D array y of shape (7,) using broadcasting."
   ]
  },
  {
   "cell_type": "code",
   "execution_count": 287,
   "id": "72909f9a-4217-4d3d-9d8a-f76013d05228",
   "metadata": {},
   "outputs": [
    {
     "name": "stdout",
     "output_type": "stream",
     "text": [
      "[[ 1  2  3]\n",
      " [ 4  5  6]\n",
      " [ 7  8  9]\n",
      " [10 11 12]\n",
      " [13 14 15]\n",
      " [16 17 18]\n",
      " [19 20 21]]\n",
      "[1 2 3 4 5 6 7]\n"
     ]
    }
   ],
   "source": [
    "n1 = np.arange(1,22).reshape(7,3)\n",
    "print(n1)\n",
    "n2 = np.arange(1,8).reshape(7,)\n",
    "print(n2)"
   ]
  },
  {
   "cell_type": "code",
   "execution_count": 293,
   "id": "ea1d7fbd-6b25-471f-ac69-8830b35d8c09",
   "metadata": {},
   "outputs": [
    {
     "data": {
      "text/plain": [
       "array([[  1,   2,   3],\n",
       "       [  8,  10,  12],\n",
       "       [ 21,  24,  27],\n",
       "       [ 40,  44,  48],\n",
       "       [ 65,  70,  75],\n",
       "       [ 96, 102, 108],\n",
       "       [133, 140, 147]])"
      ]
     },
     "execution_count": 293,
     "metadata": {},
     "output_type": "execute_result"
    }
   ],
   "source": [
    "n1 * n2[:, np.newaxis]"
   ]
  },
  {
   "cell_type": "markdown",
   "id": "3b58830c-3324-41fa-b9cc-442c3b9e48a7",
   "metadata": {
    "jp-MarkdownHeadingCollapsed": true
   },
   "source": [
    "# NumPy Memory Layout"
   ]
  },
  {
   "attachments": {
    "a1d67478-796d-4544-894a-9eff93117057.png": {
     "image/png": "[encoded data removed]"
    }
   },
   "cell_type": "markdown",
   "id": "c3058ca4-6600-4017-a14e-471fe172f85a",
   "metadata": {},
   "source": [
    "![image.png](attachment:a1d67478-796d-4544-894a-9eff93117057.png)"
   ]
  },
  {
   "cell_type": "markdown",
   "id": "d46157f3-7b6f-493b-8196-1806e008c4a1",
   "metadata": {},
   "source": [
    "Write NumPy program to create a 3D array of shape (2, 3, 4) and print its strides."
   ]
  },
  {
   "cell_type": "code",
   "execution_count": 294,
   "id": "46cf8560-b360-4bed-8fe8-f227e05056d9",
   "metadata": {},
   "outputs": [
    {
     "name": "stdout",
     "output_type": "stream",
     "text": [
      "Strides of the array: (48, 16, 4)\n"
     ]
    }
   ],
   "source": [
    "import numpy as np\n",
    "\n",
    "x = np.array([[[1, 2, 3, 4], \n",
    "               [5, 6, 7, 8], \n",
    "               [9, 10, 11, 12]],\n",
    "\n",
    "              [[13, 14, 15, 16], \n",
    "               [17, 18, 19, 20], \n",
    "               [21, 22, 23, 24]]])\n",
    "\n",
    "print(\"Strides of the array:\", x.strides)"
   ]
  },
  {
   "cell_type": "markdown",
   "id": "996b1b7a-77bd-4c18-b347-d504ff7e1a0d",
   "metadata": {},
   "source": [
    "Write a NumPy program to create a 2D array of shape (4, 4), then use ravel() to flatten it and print the result."
   ]
  },
  {
   "cell_type": "code",
   "execution_count": 295,
   "id": "8c376177-b01b-4619-9a82-142e15b6343c",
   "metadata": {},
   "outputs": [
    {
     "name": "stdout",
     "output_type": "stream",
     "text": [
      "[ 1  2  3  4  5  6  7  8  9 10 11 12 13 14 15 16]\n"
     ]
    }
   ],
   "source": [
    "import numpy as np\n",
    "\n",
    "array_2d = np.array([[1, 2, 3, 4],\n",
    "                     [5, 6, 7, 8],\n",
    "                     [9, 10, 11, 12],\n",
    "                     [13, 14, 15, 16]])\n",
    "\n",
    "flattened_array = array_2d.ravel()\n",
    "\n",
    "print(flattened_array)"
   ]
  },
  {
   "cell_type": "markdown",
   "id": "69db7caa-4f71-43e1-a6c8-e23e91e35a32",
   "metadata": {},
   "source": [
    "Write a NumPy program that creates a 2D array of shape (6, 2) and use reshape() to change it into a 3D array of shape (2, 3, 2). Print the new array."
   ]
  },
  {
   "cell_type": "code",
   "execution_count": 296,
   "id": "9a928b01-737c-40ea-b170-2a2cbcd5c3ef",
   "metadata": {},
   "outputs": [
    {
     "data": {
      "text/plain": [
       "array([[ 0,  1],\n",
       "       [ 2,  3],\n",
       "       [ 4,  5],\n",
       "       [ 6,  7],\n",
       "       [ 8,  9],\n",
       "       [10, 11]])"
      ]
     },
     "execution_count": 296,
     "metadata": {},
     "output_type": "execute_result"
    }
   ],
   "source": [
    "arr1 = np.arange(12).reshape(6,2)\n",
    "arr1"
   ]
  },
  {
   "cell_type": "code",
   "execution_count": 297,
   "id": "b5dc9f14-aad5-40a5-b101-16837f41315e",
   "metadata": {},
   "outputs": [
    {
     "data": {
      "text/plain": [
       "array([[[ 0,  1],\n",
       "        [ 2,  3],\n",
       "        [ 4,  5]],\n",
       "\n",
       "       [[ 6,  7],\n",
       "        [ 8,  9],\n",
       "        [10, 11]]])"
      ]
     },
     "execution_count": 297,
     "metadata": {},
     "output_type": "execute_result"
    }
   ],
   "source": [
    "arr2 = arr1.reshape(2,3,2)\n",
    "arr2"
   ]
  },
  {
   "cell_type": "markdown",
   "id": "7e6ee127-fed4-49a9-9eb0-a124f4696782",
   "metadata": {},
   "source": [
    "Write a NumPy program that creates a 3D array of shape (2, 4, 4) and print the strides. Then, flatten it with ravel(order='F') and print the flattened array."
   ]
  },
  {
   "cell_type": "code",
   "execution_count": 298,
   "id": "c8666c76-022b-4360-94c2-c5f42dc07a93",
   "metadata": {},
   "outputs": [
    {
     "data": {
      "text/plain": [
       "array([[[ 0,  1,  2,  3],\n",
       "        [ 4,  5,  6,  7],\n",
       "        [ 8,  9, 10, 11],\n",
       "        [12, 13, 14, 15]],\n",
       "\n",
       "       [[16, 17, 18, 19],\n",
       "        [20, 21, 22, 23],\n",
       "        [24, 25, 26, 27],\n",
       "        [28, 29, 30, 31]]])"
      ]
     },
     "execution_count": 298,
     "metadata": {},
     "output_type": "execute_result"
    }
   ],
   "source": [
    "arr = np.arange(32).reshape(2,4,4)\n",
    "arr"
   ]
  },
  {
   "cell_type": "code",
   "execution_count": 299,
   "id": "2df8a90e-e6de-4b3d-8ace-15ea54be86fa",
   "metadata": {},
   "outputs": [
    {
     "data": {
      "text/plain": [
       "(64, 16, 4)"
      ]
     },
     "execution_count": 299,
     "metadata": {},
     "output_type": "execute_result"
    }
   ],
   "source": [
    "arr.strides"
   ]
  },
  {
   "cell_type": "code",
   "execution_count": 300,
   "id": "5c36bf88-3af8-4d2c-8ff5-36dc0c2ad70f",
   "metadata": {},
   "outputs": [
    {
     "data": {
      "text/plain": [
       "array([ 0, 16,  4, 20,  8, 24, 12, 28,  1, 17,  5, 21,  9, 25, 13, 29,  2, 18,  6, 22, 10, 26, 14,\n",
       "       30,  3, 19,  7, 23, 11, 27, 15, 31])"
      ]
     },
     "execution_count": 300,
     "metadata": {},
     "output_type": "execute_result"
    }
   ],
   "source": [
    "arr.ravel(order = 'F')"
   ]
  },
  {
   "cell_type": "markdown",
   "id": "66b8f9b0-af12-496d-bab7-4df2100f7a4e",
   "metadata": {},
   "source": [
    "Write a NumPy program that creates a 2D array of shape (4, 5) and use flatten(order='C') and flatten(order='F'). Print both flattened arrays."
   ]
  },
  {
   "cell_type": "code",
   "execution_count": 301,
   "id": "66e66df9-027c-4f63-81a9-d6803676ecf0",
   "metadata": {},
   "outputs": [
    {
     "name": "stdout",
     "output_type": "stream",
     "text": [
      "Flattened array in 'C' order: [ 1  2  3  4  5  6  7  8  9 10 11 12 13 14 15 16 17 18 19 20]\n",
      "Flattened array in 'F' order: [ 1  6 11 16  2  7 12 17  3  8 13 18  4  9 14 19  5 10 15 20]\n"
     ]
    }
   ],
   "source": [
    "import numpy as np\n",
    "\n",
    "array_2d = np.array([[1, 2, 3, 4, 5],\n",
    "                     [6, 7, 8, 9, 10],\n",
    "                     [11, 12, 13, 14, 15],\n",
    "                     [16, 17, 18, 19, 20]])\n",
    "\n",
    "flattened_c = array_2d.flatten(order='C')\n",
    "\n",
    "print(\"Flattened array in 'C' order:\", flattened_c)\n",
    "\n",
    "flattened_f = array_2d.flatten(order='F')\n",
    "\n",
    "print(\"Flattened array in 'F' order:\", flattened_f)"
   ]
  },
  {
   "cell_type": "markdown",
   "id": "a1f8329f-c67c-4644-9e9b-7c7b65ed912f",
   "metadata": {
    "jp-MarkdownHeadingCollapsed": true
   },
   "source": [
    "# NumPy Performance Optimization"
   ]
  },
  {
   "cell_type": "markdown",
   "id": "93831be1-4da7-458b-ab42-7f4e7e95a0b5",
   "metadata": {},
   "source": [
    "Optimizing NumPy Code with Numba"
   ]
  },
  {
   "cell_type": "code",
   "execution_count": 302,
   "id": "6645bb64-ba85-446b-8bc5-42ed10c7d231",
   "metadata": {},
   "outputs": [
    {
     "name": "stdout",
     "output_type": "stream",
     "text": [
      "3.28 ms ± 412 μs per loop (mean ± std. dev. of 7 runs, 100 loops each)\n",
      "2.18 ms ± 128 μs per loop (mean ± std. dev. of 7 runs, 1 loop each)\n"
     ]
    }
   ],
   "source": [
    "import numpy as np\n",
    "from numba import njit\n",
    "\n",
    "# NumPy array addition\n",
    "def numpy_add(a, b):\n",
    "    return a + b\n",
    "\n",
    "# Numba-optimized array addition\n",
    "@njit\n",
    "def numba_add(a, b):\n",
    "    return a + b\n",
    "\n",
    "# Example usage\n",
    "a = np.arange(1000000)\n",
    "b = np.arange(1000000)\n",
    "\n",
    "%timeit numpy_add(a, b)  # Original NumPy code\n",
    "%timeit numba_add(a, b)  # Numba-optimized code\n"
   ]
  },
  {
   "cell_type": "markdown",
   "id": "67cbc10c-b737-4640-ae3a-735bc8967874",
   "metadata": {},
   "source": [
    "Write a NumPy program that creates a large 1D array and write a function to calculate the sum of its elements using a for loop. Then, optimize it using NumPy's built-in functions."
   ]
  },
  {
   "cell_type": "code",
   "execution_count": 309,
   "id": "efc5b75b-e05f-4b2a-aa4b-467fc63764e1",
   "metadata": {},
   "outputs": [],
   "source": [
    "import time"
   ]
  },
  {
   "cell_type": "code",
   "execution_count": 317,
   "id": "13b85b4b-7aa7-40aa-9425-ea3bc66ecfe9",
   "metadata": {},
   "outputs": [
    {
     "data": {
      "text/plain": [
       "array([     0,      1,      2, ..., 999997, 999998, 999999])"
      ]
     },
     "execution_count": 317,
     "metadata": {},
     "output_type": "execute_result"
    }
   ],
   "source": [
    "arr = np.arange(1000000)\n",
    "arr"
   ]
  },
  {
   "cell_type": "code",
   "execution_count": 318,
   "id": "bf0e8561-c897-4f56-9c47-826c467cbba5",
   "metadata": {},
   "outputs": [],
   "source": [
    "def sum_arr(arr):\n",
    "    sum1 = 0\n",
    "    for item in arr:\n",
    "        sum1+=item\n",
    "    print(sum1)"
   ]
  },
  {
   "cell_type": "code",
   "execution_count": 319,
   "id": "fa0f5477-cca0-4f49-8a0f-0f094b48d35b",
   "metadata": {},
   "outputs": [
    {
     "name": "stderr",
     "output_type": "stream",
     "text": [
      "C:\\Users\\JeetPrajapati\\AppData\\Local\\Temp\\ipykernel_30732\\134073060.py:4: RuntimeWarning: overflow encountered in scalar add\n",
      "  sum1+=item\n"
     ]
    },
    {
     "name": "stdout",
     "output_type": "stream",
     "text": [
      "1783293664\n",
      "Timing using Loop: 0.2523179054260254\n",
      "1783293664\n",
      "Timing using Built-in Function: 0.0009989738464355469\n"
     ]
    }
   ],
   "source": [
    "time1 = time.time()\n",
    "sum_arr(arr)\n",
    "time2 = time.time()\n",
    "print(f\"Timing using Loop: {time2-time1}\")\n",
    "\n",
    "time1 = time.time()\n",
    "print(np.sum(arr))\n",
    "time2 = time.time()\n",
    "print(f\"Timing using Built-in Function: {time2-time1}\")"
   ]
  },
  {
   "cell_type": "markdown",
   "id": "2810ed03-419a-411b-8ed4-037c1f256e72",
   "metadata": {},
   "source": [
    "Write a NumPy program that creates a large NumPy array and write a function to reverse its elements using a for loop. Optimize it using NumPy's slicing operations.\n"
   ]
  },
  {
   "cell_type": "code",
   "execution_count": 320,
   "id": "77308b51-ff6f-4aa8-9f83-5624460a453c",
   "metadata": {},
   "outputs": [
    {
     "name": "stdout",
     "output_type": "stream",
     "text": [
      "Timing using Loop: 0.5664844512939453\n",
      "Timing using Slicing: 0.0\n",
      "First 10 elements of the array reversed using for loop:\n",
      "[ 10560 385463  30333 331549 997783 304479  37600 641184 538198 396857]\n",
      "First 10 elements of the array reversed using NumPy slicing:\n",
      "[ 10560 385463  30333 331549 997783 304479  37600 641184 538198 396857]\n"
     ]
    }
   ],
   "source": [
    "large_array = np.random.randint(1, 1000000, size=1000000)\n",
    "\n",
    "def reverse_with_loop(arr):\n",
    "    reversed_array = np.empty_like(arr)\n",
    "    for i in range(len(arr)):\n",
    "        reversed_array[i] = arr[len(arr) - 1 - i]\n",
    "    return reversed_array\n",
    "\n",
    "time1 = time.time()\n",
    "reversed_with_loop = reverse_with_loop(large_array)\n",
    "time2 = time.time()\n",
    "print(f\"Timing using Loop: {time2-time1}\")\n",
    "\n",
    "time1 = time.time()\n",
    "reversed_with_numpy = large_array[::-1]\n",
    "time2 = time.time()\n",
    "print(f\"Timing using Slicing: {time2-time1}\")\n",
    "\n",
    "print(\"First 10 elements of the array reversed using for loop:\")\n",
    "print(reversed_with_loop[:10])\n",
    "\n",
    "print(\"First 10 elements of the array reversed using NumPy slicing:\")\n",
    "print(reversed_with_numpy[:10])"
   ]
  },
  {
   "cell_type": "markdown",
   "id": "c1f9b1c4-cfa9-4c74-8e83-44de8e89af9d",
   "metadata": {
    "jp-MarkdownHeadingCollapsed": true
   },
   "source": [
    "# Interoperatibility"
   ]
  },
  {
   "cell_type": "markdown",
   "id": "6382561e-0962-4dd1-9cdc-3d195c11a1c4",
   "metadata": {},
   "source": [
    "Write a NumPy program to convert a Python list to a NumPy array and print the array."
   ]
  },
  {
   "cell_type": "code",
   "execution_count": 321,
   "id": "c045d274-a531-49bd-801b-c768962cd471",
   "metadata": {},
   "outputs": [
    {
     "name": "stdout",
     "output_type": "stream",
     "text": [
      "[1, 2, 3, 4, 5]\n",
      "<class 'list'>\n",
      "[1 2 3 4 5]\n",
      "<class 'numpy.ndarray'>\n"
     ]
    }
   ],
   "source": [
    "list1 = [1,2,3,4,5]\n",
    "arr = np.array(list1)\n",
    "\n",
    "print(list1)\n",
    "print(type(list1))\n",
    "\n",
    "print(arr)\n",
    "print(type(arr))"
   ]
  },
  {
   "cell_type": "markdown",
   "id": "98435a38-5383-40ce-9a19-1bc669a3a3ee",
   "metadata": {},
   "source": [
    "Write a NumPy program to convert a NumPy array to a native Python list and print the list."
   ]
  },
  {
   "cell_type": "code",
   "execution_count": 322,
   "id": "ffcf868f-afec-41f4-aac7-8acd18268c48",
   "metadata": {},
   "outputs": [
    {
     "name": "stdout",
     "output_type": "stream",
     "text": [
      "['a' 'b' 'c' 'd']\n",
      "<class 'numpy.ndarray'>\n"
     ]
    }
   ],
   "source": [
    "arr = np.array(['a','b','c','d'])\n",
    "print(arr)\n",
    "print(type(arr))"
   ]
  },
  {
   "cell_type": "code",
   "execution_count": 324,
   "id": "73dbd2cf-d343-4a95-b84e-71dbc293908a",
   "metadata": {},
   "outputs": [
    {
     "name": "stdout",
     "output_type": "stream",
     "text": [
      "['a', 'b', 'c', 'd']\n",
      "<class 'list'>\n"
     ]
    }
   ],
   "source": [
    "list1 = arr.tolist()\n",
    "print(list1)\n",
    "print(type(list1))"
   ]
  },
  {
   "cell_type": "markdown",
   "id": "2066037e-40cf-46d8-876e-2455b5aaacf4",
   "metadata": {},
   "source": [
    "Write a NumPy program to append a NumPy array to a Python list and print the result."
   ]
  },
  {
   "cell_type": "code",
   "execution_count": 326,
   "id": "51064c11-f6ff-4f96-b99b-428f858d5740",
   "metadata": {},
   "outputs": [
    {
     "name": "stdout",
     "output_type": "stream",
     "text": [
      "[1, 2, 3, 4, 5]\n",
      "<class 'list'>\n",
      "[6 7 8 9]\n",
      "<class 'numpy.ndarray'>\n"
     ]
    }
   ],
   "source": [
    "list1 = [1,2,3,4,5]\n",
    "print(list1)\n",
    "print(type(list1))\n",
    "\n",
    "arr = np.array([6,7,8,9])\n",
    "print(arr)\n",
    "print(type(arr))"
   ]
  },
  {
   "cell_type": "code",
   "execution_count": 327,
   "id": "f27ef7dc-3aed-43aa-b7f2-2465571c8bc6",
   "metadata": {},
   "outputs": [
    {
     "name": "stdout",
     "output_type": "stream",
     "text": [
      "[1, 2, 3, 4, 5, 6, 7, 8, 9]\n",
      "<class 'list'>\n"
     ]
    }
   ],
   "source": [
    "list1 += arr.tolist()\n",
    "print(list1)\n",
    "print(type(list1))"
   ]
  },
  {
   "cell_type": "markdown",
   "id": "a3fe4681-e6ce-445b-b8ba-d2167218e475",
   "metadata": {
    "jp-MarkdownHeadingCollapsed": true
   },
   "source": [
    "# NumPy I/O Operations"
   ]
  },
  {
   "cell_type": "markdown",
   "id": "9a2b9a59-3de4-4f2a-8353-b2a9b58f5901",
   "metadata": {},
   "source": [
    "Write a NumPy program that reads data from a CSV file into a NumPy array. The CSV file contains numeric data."
   ]
  },
  {
   "cell_type": "code",
   "execution_count": 328,
   "id": "ee098373-2080-4223-828d-61d4232e977e",
   "metadata": {},
   "outputs": [
    {
     "data": {
      "text/plain": [
       "'C:\\\\Users\\\\JeetPrajapati\\\\Desktop\\\\Learning\\\\Python Practice\\\\python-practice\\\\Practice Exercise\\\\w3resource'"
      ]
     },
     "execution_count": 328,
     "metadata": {},
     "output_type": "execute_result"
    }
   ],
   "source": [
    "import os \n",
    "os.getcwd()"
   ]
  },
  {
   "cell_type": "code",
   "execution_count": 332,
   "id": "e7b83a1a-e419-4818-84e6-1b784aca9426",
   "metadata": {},
   "outputs": [],
   "source": [
    "import csv"
   ]
  },
  {
   "cell_type": "code",
   "execution_count": 334,
   "id": "03371252-898e-4c4d-8308-faf505b0697e",
   "metadata": {},
   "outputs": [
    {
     "name": "stdout",
     "output_type": "stream",
     "text": [
      "[['10' '12' '95']\n",
      " ['11' '13' '90']\n",
      " ['12' '34' '85']\n",
      " ['13' '21' '96']\n",
      " ['14' '55' '95']]\n",
      "<class 'numpy.ndarray'>\n"
     ]
    }
   ],
   "source": [
    "with open('19_data.csv','r') as f:\n",
    "    data = csv.reader(f)\n",
    "    datalist = []\n",
    "    for d in data:\n",
    "        datalist.append(d)\n",
    "    arr = np.array(datalist)\n",
    "    print(arr)\n",
    "    print(type(arr))"
   ]
  },
  {
   "cell_type": "markdown",
   "id": "c5913a7d-22ba-4aa0-8eed-2ad2ccbe6fc8",
   "metadata": {},
   "source": [
    "Write a NumPy program that saves a NumPy array as an image file (e.g., PNG) using an image processing library like PIL or opencv."
   ]
  },
  {
   "cell_type": "code",
   "execution_count": 340,
   "id": "cb154680-5794-4fb5-88ff-3cac33fd6748",
   "metadata": {},
   "outputs": [],
   "source": [
    "from PIL import Image\n",
    "import numpy as np\n",
    "\n",
    "array_data = np.linspace(1,100,1024).reshape(32,32)\n",
    "array_data = array_data.astype(np.uint8)\n",
    "\n",
    "image_file_name = '19_numpy.png'\n",
    "\n",
    "image = Image.fromarray(array_data)\n",
    "\n",
    "image.save(image_file_name)\n",
    "\n",
    "loaded_image = Image.open(image_file_name)\n",
    "loaded_image.show()"
   ]
  },
  {
   "cell_type": "markdown",
   "id": "2976ab40-259d-4dc6-ba33-376615de9d80",
   "metadata": {},
   "source": [
    "Write a NumPy array to a CSV file with a custom delimiter and then read it back into a NumPy array using the same delimiter.\n",
    "\n"
   ]
  },
  {
   "cell_type": "code",
   "execution_count": 341,
   "id": "d9a5776d-b8c8-4126-87dd-e70a0dc82cf4",
   "metadata": {},
   "outputs": [
    {
     "name": "stdout",
     "output_type": "stream",
     "text": [
      "Loaded array:\n",
      " [[1. 2. 3.]\n",
      " [4. 5. 6.]\n",
      " [7. 8. 9.]]\n"
     ]
    }
   ],
   "source": [
    "import numpy as np\n",
    "\n",
    "array_to_save = np.array([[1, 2, 3], [4, 5, 6], [7, 8, 9]])\n",
    "\n",
    "csv_file_name = '19_arr_to_csv.csv'\n",
    "\n",
    "np.savetxt(csv_file_name, array_to_save, delimiter=';', fmt='%d')\n",
    "\n",
    "loaded_array = np.loadtxt(csv_file_name, delimiter=';')\n",
    "\n",
    "print('Loaded array:\\n', loaded_array)"
   ]
  },
  {
   "cell_type": "markdown",
   "id": "c39bc040-bacf-47e9-a41d-1c0b52eb2888",
   "metadata": {
    "jp-MarkdownHeadingCollapsed": true
   },
   "source": [
    "# NumPy Universal Functions"
   ]
  },
  {
   "cell_type": "markdown",
   "id": "1b8abf0b-c002-46b5-8334-ff8e1cdcb435",
   "metadata": {},
   "source": [
    "Write a Numpy program that creates a custom ufunc that adds 10 to every element in a NumPy array. Use this ufunc on a 1D array of integers."
   ]
  },
  {
   "cell_type": "code",
   "execution_count": 345,
   "id": "ee8b61eb-22b4-4317-af00-0c2209a58093",
   "metadata": {},
   "outputs": [
    {
     "name": "stdout",
     "output_type": "stream",
     "text": [
      "Original 1D array: [1 2 3 4 5]\n",
      "Resulting array after applying add_ten_ufunc: [11 12 13 14 15]\n"
     ]
    }
   ],
   "source": [
    "import numpy as np\n",
    "\n",
    "def add_ten(x,y):\n",
    "    return x + y\n",
    "\n",
    "add_ten_ufunc = np.frompyfunc(add_ten, 2, 1)\n",
    "\n",
    "array_1d = np.array([1, 2, 3, 4, 5])\n",
    "\n",
    "result_array = add_ten_ufunc(array_1d, 10)\n",
    "\n",
    "print('Original 1D array:', array_1d)\n",
    "print('Resulting array after applying add_ten_ufunc:', result_array)"
   ]
  },
  {
   "cell_type": "markdown",
   "id": "cd21305f-b0b5-483e-8319-fb156fbdc9e7",
   "metadata": {},
   "source": [
    "Write a NumPy program that uses np.maximum.reduce to find the maximum element along a specified axis of a 2D array."
   ]
  },
  {
   "cell_type": "code",
   "execution_count": 351,
   "id": "a781fe31-421b-4a20-be52-c17f92bfc0cd",
   "metadata": {},
   "outputs": [
    {
     "name": "stdout",
     "output_type": "stream",
     "text": [
      "Original 2D Array:\n",
      "[[1 2 3]\n",
      " [4 5 6]\n",
      " [7 8 9]]\n",
      "\n",
      "Maximum elements along axis 0:\n",
      "[7 8 9]\n",
      "\n",
      "Maximum elements along axis 1:\n",
      "[3 6 9]\n"
     ]
    }
   ],
   "source": [
    "import numpy as np\n",
    "\n",
    "array_2d = np.array([[1, 2, 3], [4, 5, 6], [7, 8, 9]])\n",
    "\n",
    "max_elements_axis0 = np.maximum.reduce(array_2d, axis=0)\n",
    "\n",
    "max_elements_axis1 = np.maximum.reduce(array_2d, axis=1)\n",
    "\n",
    "print(\"Original 2D Array:\")\n",
    "print(array_2d)\n",
    "\n",
    "print(\"\\nMaximum elements along axis 0:\")\n",
    "print(max_elements_axis0)\n",
    "\n",
    "print(\"\\nMaximum elements along axis 1:\")\n",
    "print(max_elements_axis1)\n"
   ]
  },
  {
   "cell_type": "markdown",
   "id": "0e460117-bbae-4b34-b0bc-d0d60f083a65",
   "metadata": {
    "jp-MarkdownHeadingCollapsed": true
   },
   "source": [
    "# NumPy Masked Arrays"
   ]
  },
  {
   "cell_type": "markdown",
   "id": "44977739-3057-402c-b541-be9d203d5598",
   "metadata": {},
   "source": [
    "Write a NumPy program that creates a masked array from a regular NumPy array with some specified values masked."
   ]
  },
  {
   "cell_type": "code",
   "execution_count": 352,
   "id": "582485d0-ecd5-4db8-9e55-8b1ad6b67263",
   "metadata": {},
   "outputs": [
    {
     "name": "stdout",
     "output_type": "stream",
     "text": [
      "Original Array:\n",
      "[ 1  2  3  4  5  6  7  8  9 10]\n",
      "\n",
      "Masked Array:\n",
      "[1 -- 3 -- 5 -- 7 -- 9 --]\n"
     ]
    }
   ],
   "source": [
    "import numpy as np \n",
    "\n",
    "data = np.array([1, 2, 3, 4, 5, 6, 7, 8, 9, 10])\n",
    "\n",
    "mask = np.array([False, True, False, True, False, True, False, True, False, True])\n",
    "\n",
    "masked_array = np.ma.masked_array(data, mask=mask)\n",
    "\n",
    "print(\"Original Array:\")\n",
    "print(data)\n",
    "\n",
    "print(\"\\nMasked Array:\")\n",
    "print(masked_array)"
   ]
  },
  {
   "cell_type": "code",
   "execution_count": 354,
   "id": "c7366cd4-dfa7-4873-99e8-cfbf49fabd1d",
   "metadata": {},
   "outputs": [
    {
     "name": "stdout",
     "output_type": "stream",
     "text": [
      "\n",
      "Masked Array:\n",
      "[-- 2 -- 4 -- 6 -- 8 -- 10]\n"
     ]
    }
   ],
   "source": [
    "masked_array = np.ma.masked_array(data, mask=data%2==1)\n",
    "\n",
    "print(\"\\nMasked Array:\")\n",
    "print(masked_array)"
   ]
  },
  {
   "cell_type": "markdown",
   "id": "da35c018-a312-43ff-a4ba-b306ee6c2b8a",
   "metadata": {},
   "source": [
    "Write a NumPy program that creates a masked array and applies a mathematical function (e.g., sin, cos) only to the unmasked elements."
   ]
  },
  {
   "cell_type": "code",
   "execution_count": 355,
   "id": "b0115236-140b-4eb2-9c90-4ad8e6e3bbcd",
   "metadata": {},
   "outputs": [
    {
     "name": "stdout",
     "output_type": "stream",
     "text": [
      "Original 2D array:\n",
      " [[94  0 15 48 74]\n",
      " [79 20 51 41 20]\n",
      " [55 18 13 65 76]\n",
      " [37 30 27 31 64]\n",
      " [ 8 87  9 44 52]]\n",
      "Masked array (values < 20 are masked):\n",
      " [[94 -- -- 48 74]\n",
      " [79 20 51 41 20]\n",
      " [55 -- -- 65 76]\n",
      " [37 30 27 31 64]\n",
      " [-- 87 -- 44 52]]\n",
      "Result array after applying sin to unmasked elements:\n",
      " [[-0.24525198546765434 -- -- -0.7682546613236668 -0.9851462604682474]\n",
      " [-0.4441126687075084 0.9129452507276277 0.6702291758433747 -0.158622668804709 0.9129452507276277]\n",
      " [-0.9997551733586199 -- -- 0.8268286794901034 0.5661076368981803]\n",
      " [-0.6435381333569995 -0.9880316240928618 0.956375928404503 -0.404037645323065 0.9200260381967907]\n",
      " [-- -0.8218178366308225 -- 0.017701925105413577 0.9866275920404853]]\n"
     ]
    }
   ],
   "source": [
    "import numpy as np\n",
    "import numpy.ma as ma\n",
    "\n",
    "array_2d = np.random.randint(0, 100, size=(5, 5))\n",
    "\n",
    "condition = array_2d < 20\n",
    "\n",
    "masked_array = ma.masked_array(array_2d, mask=condition)\n",
    "\n",
    "result_array = ma.sin(masked_array)\n",
    "\n",
    "print('Original 2D array:\\n', array_2d)\n",
    "print('Masked array (values < 20 are masked):\\n', masked_array)\n",
    "print('Result array after applying sin to unmasked elements:\\n', result_array)"
   ]
  },
  {
   "cell_type": "markdown",
   "id": "6016b7c5-6ab8-4c43-8105-8e48a77d1e44",
   "metadata": {},
   "source": [
    "Write a NumPy program that creates a masked array and checks if any masked elements are present."
   ]
  },
  {
   "cell_type": "code",
   "execution_count": 356,
   "id": "6a2a524e-0cd1-4328-9a95-cd0699732a36",
   "metadata": {},
   "outputs": [
    {
     "name": "stdout",
     "output_type": "stream",
     "text": [
      "Original 2D array:\n",
      " [[77 79 81 88 93]\n",
      " [66 48 26  1 53]\n",
      " [96  3 86 59 17]\n",
      " [68 84 72 59 37]\n",
      " [ 2 26 26 55 15]]\n",
      "Masked array (values < 20 are masked):\n",
      " [[77 79 81 88 93]\n",
      " [66 48 26 -- 53]\n",
      " [96 -- 86 59 --]\n",
      " [68 84 72 59 37]\n",
      " [-- 26 26 55 --]]\n",
      "Any masked elements present?: True\n"
     ]
    }
   ],
   "source": [
    "import numpy as np\n",
    "import numpy.ma as ma\n",
    "\n",
    "array_2d = np.random.randint(0, 100, size=(5, 5))\n",
    "\n",
    "condition = array_2d < 20\n",
    "\n",
    "masked_array = ma.masked_array(array_2d, mask=condition)\n",
    "\n",
    "has_masked_elements = masked_array.mask.any()\n",
    "\n",
    "print('Original 2D array:\\n', array_2d)\n",
    "print('Masked array (values < 20 are masked):\\n', masked_array)\n",
    "print('Any masked elements present?:', has_masked_elements)"
   ]
  },
  {
   "cell_type": "markdown",
   "id": "6aa58409-6767-4e62-a02c-34e567f1d82e",
   "metadata": {
    "jp-MarkdownHeadingCollapsed": true
   },
   "source": [
    "# NumPy Structured Arrays"
   ]
  },
  {
   "cell_type": "markdown",
   "id": "2758f75b-b6e8-4c97-802d-f99deab6b85e",
   "metadata": {},
   "source": [
    "Write a NumPy program that creates a structured array with fields for 'name' (string), 'age' (integer), and 'height' (float). Populate it with sample data for five individuals."
   ]
  },
  {
   "cell_type": "code",
   "execution_count": 360,
   "id": "06c1ec17-c1d9-4e59-8057-4a24f72e25cd",
   "metadata": {},
   "outputs": [],
   "source": [
    "datatype = [('name','U10'), ('age','i4'), ('height','f4')]"
   ]
  },
  {
   "cell_type": "code",
   "execution_count": 361,
   "id": "74e8fbe3-176c-4dce-9184-fdc186402010",
   "metadata": {},
   "outputs": [],
   "source": [
    "arr = np.array(\n",
    "    [\n",
    "        (\"Jeet\", 20, 171.2),\n",
    "        (\"Jay\", 21, 180.4),\n",
    "        (\"Meet\", 21, 177.6)\n",
    "    ],\n",
    "    dtype = datatype\n",
    ")"
   ]
  },
  {
   "cell_type": "code",
   "execution_count": 362,
   "id": "21352e5e-7c33-47ba-a15d-0fc56249b0e3",
   "metadata": {},
   "outputs": [
    {
     "data": {
      "text/plain": [
       "array([('Jeet', 20, 171.2), ('Jay', 21, 180.4), ('Meet', 21, 177.6)],\n",
       "      dtype=[('name', '<U10'), ('age', '<i4'), ('height', '<f4')])"
      ]
     },
     "execution_count": 362,
     "metadata": {},
     "output_type": "execute_result"
    }
   ],
   "source": [
    "arr"
   ]
  },
  {
   "cell_type": "markdown",
   "id": "d900de08-645f-4ba2-bead-dea0b6d76b45",
   "metadata": {},
   "source": [
    "Write a NumPy program to broadcast a value (e.g., set all 'height' values to 6.0) across the 'height' field in the structured array created with fields for 'name' (string), 'age' (integer), and 'height' (float)."
   ]
  },
  {
   "cell_type": "code",
   "execution_count": 363,
   "id": "65ee2173-d6a3-4835-a6df-653effae06bd",
   "metadata": {},
   "outputs": [],
   "source": [
    "arr['height'] = 6"
   ]
  },
  {
   "cell_type": "code",
   "execution_count": 364,
   "id": "ffa14c49-afb9-47e6-8701-4e0e05c90ad1",
   "metadata": {},
   "outputs": [
    {
     "data": {
      "text/plain": [
       "array([('Jeet', 20, 6.), ('Jay', 21, 6.), ('Meet', 21, 6.)],\n",
       "      dtype=[('name', '<U10'), ('age', '<i4'), ('height', '<f4')])"
      ]
     },
     "execution_count": 364,
     "metadata": {},
     "output_type": "execute_result"
    }
   ],
   "source": [
    "arr"
   ]
  },
  {
   "cell_type": "markdown",
   "id": "d038f9cf-550a-4f54-9809-07a0c3ce3c52",
   "metadata": {
    "jp-MarkdownHeadingCollapsed": true
   },
   "source": [
    "# NumPy Integration with SciPy"
   ]
  },
  {
   "cell_type": "markdown",
   "id": "f50b7e65-e80a-4257-af79-4b76adbba059",
   "metadata": {},
   "source": [
    "Write a NumPy program that creates a NumPy array of random numbers and uses SciPy to compute the statistical properties (mean, median, variance) of the array."
   ]
  },
  {
   "cell_type": "code",
   "execution_count": 365,
   "id": "c7523363-1bfb-4ecd-9ea6-58a02c0a3a79",
   "metadata": {},
   "outputs": [
    {
     "name": "stdout",
     "output_type": "stream",
     "text": [
      "Mean: 0.4940305255157924\n",
      "Median: 0.49755189138306977\n",
      "Variance: 0.08981151377741642\n"
     ]
    }
   ],
   "source": [
    "import numpy as np\n",
    "from scipy import stats\n",
    "\n",
    "data = np.random.rand(100)\n",
    "\n",
    "mean = stats.tmean(data)\n",
    "\n",
    "median = np.median(data)\n",
    "\n",
    "variance = stats.tvar(data)\n",
    "\n",
    "print(\"Mean:\", mean)\n",
    "print(\"Median:\", median)\n",
    "print(\"Variance:\", variance)"
   ]
  },
  {
   "cell_type": "markdown",
   "id": "b240051f-3d6b-4119-8152-da7b6f85090f",
   "metadata": {
    "jp-MarkdownHeadingCollapsed": true
   },
   "source": [
    "# Advanced NumPy"
   ]
  },
  {
   "cell_type": "markdown",
   "id": "46af248a-4079-4eb8-b98c-9bd6d0438c9a",
   "metadata": {},
   "source": [
    "Write a NumPy program to create a 4x4 array with random values and shift all elements one position to the right"
   ]
  },
  {
   "cell_type": "code",
   "execution_count": 366,
   "id": "cad4d574-9cea-4ef4-abf2-06a12116b6f3",
   "metadata": {},
   "outputs": [
    {
     "name": "stdout",
     "output_type": "stream",
     "text": [
      "Original Array:\n",
      " [[0.30071158 0.52305495 0.36368101 0.83419212]\n",
      " [0.17276001 0.16491549 0.05592953 0.9843079 ]\n",
      " [0.82896978 0.03363358 0.06854378 0.62390794]\n",
      " [0.8064602  0.42893048 0.9161889  0.58929171]]\n",
      "Array after shifting all elements one position to the right:\n",
      " [[0.83419212 0.30071158 0.52305495 0.36368101]\n",
      " [0.9843079  0.17276001 0.16491549 0.05592953]\n",
      " [0.62390794 0.82896978 0.03363358 0.06854378]\n",
      " [0.58929171 0.8064602  0.42893048 0.9161889 ]]\n"
     ]
    }
   ],
   "source": [
    "import numpy as np\n",
    "\n",
    "array = np.random.random((4, 4))\n",
    "\n",
    "print(\"Original Array:\\n\", array)\n",
    "\n",
    "shifted_array = np.roll(array, shift=1, axis=1)\n",
    "\n",
    "print(\"Array after shifting all elements one position to the right:\\n\", shifted_array)"
   ]
  },
  {
   "cell_type": "markdown",
   "id": "0aa47d91-0c67-42eb-b7c0-59c2b6278fd1",
   "metadata": {},
   "source": [
    "Write a NumPy program to create a 4x4 array with random values and rotate the array 90 degrees counterclockwise."
   ]
  },
  {
   "cell_type": "code",
   "execution_count": 367,
   "id": "6bfe5912-fbcb-4857-976f-b8d0b5f36a64",
   "metadata": {},
   "outputs": [
    {
     "name": "stdout",
     "output_type": "stream",
     "text": [
      "Original Array:\n",
      " [[0.23207927 0.43125495 0.8459325  0.7279606 ]\n",
      " [0.55499787 0.34931094 0.71967693 0.47786294]\n",
      " [0.99335673 0.23866698 0.88592683 0.94626758]\n",
      " [0.38120883 0.53231958 0.06389823 0.32198647]]\n",
      "Array after 90 degrees counterclockwise rotation:\n",
      " [[0.7279606  0.47786294 0.94626758 0.32198647]\n",
      " [0.8459325  0.71967693 0.88592683 0.06389823]\n",
      " [0.43125495 0.34931094 0.23866698 0.53231958]\n",
      " [0.23207927 0.55499787 0.99335673 0.38120883]]\n"
     ]
    }
   ],
   "source": [
    "import numpy as np\n",
    "\n",
    "array = np.random.random((4, 4))\n",
    "\n",
    "print(\"Original Array:\\n\", array)\n",
    "\n",
    "rotated_array = np.rot90(array)\n",
    "\n",
    "print(\"Array after 90 degrees counterclockwise rotation:\\n\", rotated_array)"
   ]
  },
  {
   "cell_type": "markdown",
   "id": "11aa6ed7-c929-4765-a553-2040dd94618c",
   "metadata": {},
   "source": [
    "Write a NumPy program to create a 4x4 array with random values and shift all elements one position downwards."
   ]
  },
  {
   "cell_type": "code",
   "execution_count": 368,
   "id": "71995e5b-29fa-4cb9-bc56-25da257389b2",
   "metadata": {},
   "outputs": [
    {
     "name": "stdout",
     "output_type": "stream",
     "text": [
      "Original Array:\n",
      " [[0.45052086 0.14316933 0.0280395  0.56967686]\n",
      " [0.51129346 0.66932798 0.97726397 0.79204431]\n",
      " [0.77646802 0.94589962 0.4317323  0.62381898]\n",
      " [0.78007786 0.60116183 0.10379118 0.59977758]]\n",
      "Array after shifting all elements one position downwards:\n",
      " [[0.78007786 0.60116183 0.10379118 0.59977758]\n",
      " [0.45052086 0.14316933 0.0280395  0.56967686]\n",
      " [0.51129346 0.66932798 0.97726397 0.79204431]\n",
      " [0.77646802 0.94589962 0.4317323  0.62381898]]\n"
     ]
    }
   ],
   "source": [
    "import numpy as np\n",
    "\n",
    "array = np.random.random((4, 4))\n",
    "\n",
    "print(\"Original Array:\\n\", array)\n",
    "\n",
    "shifted_array = np.roll(array, shift=1, axis=0)\n",
    "\n",
    "print(\"Array after shifting all elements one position downwards:\\n\", shifted_array)"
   ]
  },
  {
   "cell_type": "markdown",
   "id": "57626040-0a13-4ca8-9eff-3788f2f09d53",
   "metadata": {
    "jp-MarkdownHeadingCollapsed": true
   },
   "source": [
    "# Mastering NumPy"
   ]
  },
  {
   "cell_type": "markdown",
   "id": "a6e54d06-0c76-4a52-8e7c-3f9a68ae3945",
   "metadata": {},
   "source": [
    "Multiply a 5x3 matrix by a 3x2 matrix."
   ]
  },
  {
   "cell_type": "code",
   "execution_count": 369,
   "id": "768f812f-83da-4148-8529-87bf84e3934a",
   "metadata": {},
   "outputs": [
    {
     "name": "stdout",
     "output_type": "stream",
     "text": [
      "[[0.61506191 0.09554043]\n",
      " [0.6034807  0.13148291]\n",
      " [0.98256174 0.22550417]\n",
      " [1.23503119 0.25722845]\n",
      " [1.08767295 0.21078546]]\n"
     ]
    }
   ],
   "source": [
    "import numpy as np\n",
    "\n",
    "mat1 = np.random.random((5, 3))\n",
    "mat2 = np.random.random((3, 2))\n",
    "result = np.dot(mat1, mat2)\n",
    "print(result)"
   ]
  },
  {
   "cell_type": "markdown",
   "id": "7deae43f-cc6f-4f3e-b4d3-5ade9318a7e7",
   "metadata": {},
   "source": [
    "Reverse a 1D array (first element becomes the last).\n",
    "\n"
   ]
  },
  {
   "cell_type": "code",
   "execution_count": 370,
   "id": "1d829adf-a7b1-4a65-a962-417a902f03ee",
   "metadata": {},
   "outputs": [
    {
     "name": "stdout",
     "output_type": "stream",
     "text": [
      "[9 8 7 6 5 4 3 2 1 0]\n"
     ]
    }
   ],
   "source": [
    "import numpy as np\n",
    "\n",
    "arr = np.arange(10)\n",
    "reversed_arr = np.flip(arr)\n",
    "print(reversed_arr)"
   ]
  },
  {
   "cell_type": "markdown",
   "id": "b417594b-202e-4d46-8af9-60198534602e",
   "metadata": {},
   "source": [
    "Find the indices where elements of two arrays match.\n",
    "\n"
   ]
  },
  {
   "cell_type": "code",
   "execution_count": 371,
   "id": "d32e9a60-35a8-418e-b562-46db5d3b3b65",
   "metadata": {},
   "outputs": [
    {
     "name": "stdout",
     "output_type": "stream",
     "text": [
      "(array([1, 3, 4], dtype=int64),)\n"
     ]
    }
   ],
   "source": [
    "import numpy as np\n",
    "arr1 = np.array([1, 2, 3, 4, 5])\n",
    "arr2 = np.array([3, 2, 8, 4, 5])\n",
    "matching_indices = np.where(arr1 == arr2)\n",
    "print(matching_indices)"
   ]
  },
  {
   "cell_type": "markdown",
   "id": "5ca72204-d1e4-4fce-b936-4abfd9edc921",
   "metadata": {},
   "source": [
    "Create a 1D array and remove all duplicate values.\n",
    "\n"
   ]
  },
  {
   "cell_type": "code",
   "execution_count": 372,
   "id": "bb78cb4c-8bc6-4c38-af90-34977d297319",
   "metadata": {},
   "outputs": [
    {
     "name": "stdout",
     "output_type": "stream",
     "text": [
      "[1 2 3 4 5]\n"
     ]
    }
   ],
   "source": [
    "import numpy as np\n",
    "\n",
    "arr = np.array([1, 2, 3, 2, 4, 5, 1])\n",
    "unique_arr = np.unique(arr)\n",
    "print(unique_arr)"
   ]
  },
  {
   "cell_type": "markdown",
   "id": "45db02bb-00fb-4cef-a1a5-598c54aaef42",
   "metadata": {},
   "source": [
    "Create a 2D array with random integers and replace all values greater than a certain threshold with that threshold.\n",
    "\n"
   ]
  },
  {
   "cell_type": "code",
   "execution_count": 374,
   "id": "5c18770c-5541-4eab-9396-c12b74ca2451",
   "metadata": {},
   "outputs": [
    {
     "data": {
      "text/plain": [
       "array([[0.77729603, 0.3299928 , 0.78222399, 0.43727391],\n",
       "       [0.85564999, 0.93056321, 0.01919257, 0.73297896],\n",
       "       [0.52265861, 0.26743756, 0.26169262, 0.56474379],\n",
       "       [0.03546946, 0.63905658, 0.74191178, 0.36750976]])"
      ]
     },
     "execution_count": 374,
     "metadata": {},
     "output_type": "execute_result"
    }
   ],
   "source": [
    "arr = np.random.random((4,4))\n",
    "arr"
   ]
  },
  {
   "cell_type": "code",
   "execution_count": 375,
   "id": "807fc638-6f56-4a74-a5c7-3a240fb221ee",
   "metadata": {},
   "outputs": [
    {
     "data": {
      "text/plain": [
       "array([[1.        , 0.3299928 , 1.        , 0.43727391],\n",
       "       [1.        , 1.        , 0.01919257, 1.        ],\n",
       "       [1.        , 0.26743756, 0.26169262, 1.        ],\n",
       "       [0.03546946, 1.        , 1.        , 0.36750976]])"
      ]
     },
     "execution_count": 375,
     "metadata": {},
     "output_type": "execute_result"
    }
   ],
   "source": [
    "arr[arr > 0.5] = 1 \n",
    "arr"
   ]
  },
  {
   "cell_type": "code",
   "execution_count": null,
   "id": "525baa64-15f3-4a09-9da4-93643814c501",
   "metadata": {},
   "outputs": [],
   "source": []
  }
 ],
 "metadata": {
  "kernelspec": {
   "display_name": "Python 3 (ipykernel)",
   "language": "python",
   "name": "python3"
  },
  "language_info": {
   "codemirror_mode": {
    "name": "ipython",
    "version": 3
   },
   "file_extension": ".py",
   "mimetype": "text/x-python",
   "name": "python",
   "nbconvert_exporter": "python",
   "pygments_lexer": "ipython3",
   "version": "3.12.7"
  }
 },
 "nbformat": 4,
 "nbformat_minor": 5
}
