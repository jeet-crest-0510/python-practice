{
 "cells": [
  {
   "cell_type": "markdown",
   "id": "27e69e2d-aa47-4efd-8ae3-b26814f1a610",
   "metadata": {},
   "source": [
    "Sort words alphabetically by first character."
   ]
  },
  {
   "cell_type": "code",
   "execution_count": 2,
   "id": "1f2e3319-3ccf-456b-849f-40aa21d5d87a",
   "metadata": {},
   "outputs": [
    {
     "name": "stdout",
     "output_type": "stream",
     "text": [
      "Black Green Pink Red White\n"
     ]
    }
   ],
   "source": [
    "s = \"Red Green Black White Pink\"\n",
    "\n",
    "list = s.split()\n",
    "\n",
    "list.sort()\n",
    "print(' '.join(list))"
   ]
  },
  {
   "cell_type": "markdown",
   "id": "363b0b7f-2f4e-49e2-915d-7ce29915be19",
   "metadata": {},
   "source": [
    "Write a Python program to access only unique key value of a Python object."
   ]
  },
  {
   "cell_type": "code",
   "execution_count": 3,
   "id": "264cd850-f0eb-47d3-9a48-8f2726221862",
   "metadata": {},
   "outputs": [],
   "source": [
    "import json"
   ]
  },
  {
   "cell_type": "code",
   "execution_count": 4,
   "id": "be80b039-6b4c-4aed-b428-f1f0465ad411",
   "metadata": {},
   "outputs": [
    {
     "name": "stdout",
     "output_type": "stream",
     "text": [
      "Original Python object:\n",
      "{\"a\":  1, \"a\":  2, \"a\":  3, \"a\": 4, \"b\": 1, \"b\": 2}\n",
      "\n",
      "Unique Key in a JSON object:\n",
      "{'a': 4, 'b': 2}\n"
     ]
    }
   ],
   "source": [
    "python_obj = '{\"a\":  1, \"a\":  2, \"a\":  3, \"a\": 4, \"b\": 1, \"b\": 2}'\n",
    "\n",
    "print(\"Original Python object:\")\n",
    "print(python_obj)\n",
    "\n",
    "json_obj = json.loads(python_obj)\n",
    "\n",
    "print(\"\\nUnique Key in a JSON object:\")\n",
    "print(json_obj) "
   ]
  },
  {
   "cell_type": "markdown",
   "id": "ae91f424-a9a0-47c4-8778-4d69df9ada0d",
   "metadata": {},
   "source": [
    "Write a Python program that takes a list of integers and finds all pairs of integers that differ by three. Return all pairs of integers in a list."
   ]
  },
  {
   "cell_type": "code",
   "execution_count": 5,
   "id": "63c88339-686a-474b-8b2a-196eb52588f2",
   "metadata": {},
   "outputs": [
    {
     "name": "stdout",
     "output_type": "stream",
     "text": [
      "[[1, 4], [2, 5]]\n"
     ]
    }
   ],
   "source": [
    "list = [1, 2, 3, 4, 5]\n",
    "res=[]\n",
    "\n",
    "for i, x in enumerate(sorted(list)):\n",
    "    for y in list[i+1:]:\n",
    "        if y == x+3:\n",
    "            res.append([x,y])\n",
    "\n",
    "print(res)"
   ]
  },
  {
   "cell_type": "markdown",
   "id": "fd2d76a2-2464-4034-a84a-a0ccfb3d0d4a",
   "metadata": {},
   "source": [
    "Write a Python program to find all the pairs in a list whose sum is equal to a given value."
   ]
  },
  {
   "cell_type": "code",
   "execution_count": 6,
   "id": "d2e0038d-6fcb-44bf-8d86-55bc39f9703b",
   "metadata": {},
   "outputs": [
    {
     "name": "stdout",
     "output_type": "stream",
     "text": [
      "[[1, 9], [2, 8], [3, 7], [4, 6]]\n"
     ]
    }
   ],
   "source": [
    "nums = [1, 2, 3, 4, 5, 6, 7, 8, 9]\n",
    "val = 10\n",
    "result = []\n",
    "\n",
    "for i, x in enumerate(sorted(nums)):\n",
    "    for y in nums[i+1:]:\n",
    "        if x+y == val:\n",
    "            result.append([x,y])\n",
    "print(result)"
   ]
  },
  {
   "cell_type": "markdown",
   "id": "ccc54387-b7ad-4f59-bf87-51d3d72ceea2",
   "metadata": {},
   "source": [
    "Write a Python program to find the key of the maximum value in a dictionary."
   ]
  },
  {
   "cell_type": "code",
   "execution_count": 14,
   "id": "8736ad33-704b-4032-8aee-f89a652de73f",
   "metadata": {},
   "outputs": [
    {
     "name": "stdout",
     "output_type": "stream",
     "text": [
      "Max: Roxanne\n",
      "Min: Theodore\n"
     ]
    }
   ],
   "source": [
    "dict = {'Theodore': 19, 'Roxanne': 22, 'Mathew': 21, 'Betty': 20}\n",
    "\n",
    "print(f\"Max: {max(dict, key = dict.get)}\")\n",
    "print(f\"Min: {min(dict, key = dict.get)}\")"
   ]
  },
  {
   "cell_type": "markdown",
   "id": "9c12450a-5c05-4a8f-a516-cd3ca05b28d5",
   "metadata": {},
   "source": [
    "Write a Python program to convert a given list of tuples to a list of lists."
   ]
  },
  {
   "cell_type": "code",
   "execution_count": 19,
   "id": "9ffb762d-85ee-471e-b53a-b9668c0413df",
   "metadata": {},
   "outputs": [
    {
     "name": "stdout",
     "output_type": "stream",
     "text": [
      "[[1, 2], [2, 3, 5], [3, 4], [2, 3, 4, 2]]\n"
     ]
    }
   ],
   "source": [
    "lt = [(1, 2), (2, 3, 5), (3, 4), (2, 3, 4, 2)]\n",
    "ll = []\n",
    "\n",
    "for x in lt:\n",
    "    l=[]\n",
    "    for y in x:\n",
    "        l.append(y)\n",
    "    ll.append(l)\n",
    "\n",
    "print(ll)"
   ]
  },
  {
   "cell_type": "markdown",
   "id": "b1d3b905-0caa-4357-93da-c9aa74a362ec",
   "metadata": {},
   "source": [
    "Write a Python program to remove all duplicates from a given list of strings and return a list of unique strings. Use the Python set data type."
   ]
  },
  {
   "cell_type": "code",
   "execution_count": 20,
   "id": "5dada957-3360-4812-aac2-451fefc017a3",
   "metadata": {},
   "outputs": [
    {
     "name": "stdout",
     "output_type": "stream",
     "text": [
      "{'qux', 'abc', 'baz', 'foo', 'bar'}\n"
     ]
    }
   ],
   "source": [
    "strs = ['foo', 'bar', 'abc', 'foo', 'qux', 'bar', 'baz']\n",
    "\n",
    "print(set(strs))"
   ]
  },
  {
   "cell_type": "markdown",
   "id": "696ee990-69cb-491c-b0d8-bd53f4a34541",
   "metadata": {},
   "source": [
    "Write a Python program to compare two unordered lists (not sets)."
   ]
  },
  {
   "cell_type": "code",
   "execution_count": 21,
   "id": "b27cb527-2150-426e-8752-6d68d5a4e9f6",
   "metadata": {},
   "outputs": [
    {
     "name": "stdout",
     "output_type": "stream",
     "text": [
      "False\n"
     ]
    }
   ],
   "source": [
    "from collections import Counter\n",
    "\n",
    "n1 = [20, 10, 30, 10, 20, 30]\n",
    "n2 = [30, 20, 10, 30, 20, 50]\n",
    "\n",
    "print(Counter(n1) == Counter(n2))"
   ]
  },
  {
   "cell_type": "markdown",
   "id": "c3664705-fea1-4a06-9b9f-834df5697ef1",
   "metadata": {},
   "source": [
    "Write a  Python program to find the missing number in a given array of numbers between 10 and 20."
   ]
  },
  {
   "cell_type": "code",
   "execution_count": 23,
   "id": "62cc3c86-c5bc-4fb6-a778-1c2c5a3b92e5",
   "metadata": {},
   "outputs": [
    {
     "name": "stdout",
     "output_type": "stream",
     "text": [
      "Original array:\n",
      "10 11 12 13 14 16 17 18 19 20 \n",
      "Missing number in the said array (10-20):  15\n"
     ]
    }
   ],
   "source": [
    "import array as arr\n",
    "\n",
    "array_num = arr.array('i', [10, 11, 12, 13, 14, 16, 17, 18, 19, 20])\n",
    "\n",
    "print(\"Original array:\")\n",
    "for i in range(len(array_num)):    \n",
    "    print(array_num[i], end=' ')\n",
    "\n",
    "n = sum(i for i in range(10,21)) - sum(array_num)\n",
    "\n",
    "print(\"\\nMissing number in the said array (10-20): \", n)"
   ]
  },
  {
   "cell_type": "markdown",
   "id": "df731afc-d3a7-4b28-90d5-bc491380b807",
   "metadata": {},
   "source": [
    "Write a Python program to get unique enumeration values."
   ]
  },
  {
   "cell_type": "code",
   "execution_count": 30,
   "id": "e6608598-6ab5-411b-8096-df18ab7255f0",
   "metadata": {},
   "outputs": [
    {
     "name": "stdout",
     "output_type": "stream",
     "text": [
      "Afghanistan: 93\n",
      "Algeria: 213\n",
      "Andorra: 376\n",
      "Angola: 244\n",
      "India: 355\n"
     ]
    }
   ],
   "source": [
    "import enum\n",
    "class Countries(enum.Enum):\n",
    "    Afghanistan = 93\n",
    "    Algeria = 213\n",
    "    Andorra = 376\n",
    "    Angola = 244\n",
    "    India = 355\n",
    "    Albania = 355\n",
    "    USA = 213\n",
    "\n",
    "for result in Countries:\n",
    "    print(f'{result.name}: {result.value}')"
   ]
  }
 ],
 "metadata": {
  "kernelspec": {
   "display_name": "Python 3 (ipykernel)",
   "language": "python",
   "name": "python3"
  },
  "language_info": {
   "codemirror_mode": {
    "name": "ipython",
    "version": 3
   },
   "file_extension": ".py",
   "mimetype": "text/x-python",
   "name": "python",
   "nbconvert_exporter": "python",
   "pygments_lexer": "ipython3",
   "version": "3.12.7"
  }
 },
 "nbformat": 4,
 "nbformat_minor": 5
}
