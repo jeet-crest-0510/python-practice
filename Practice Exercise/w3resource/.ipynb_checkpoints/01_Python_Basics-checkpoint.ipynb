{
 "cells": [
  {
   "cell_type": "markdown",
   "id": "cdd71795-5dbc-483b-aaf0-74c9853455ea",
   "metadata": {
    "jp-MarkdownHeadingCollapsed": true
   },
   "source": [
    "# Python Basic (Part -I) "
   ]
  },
  {
   "cell_type": "markdown",
   "id": "b2f6a3e5-9ee4-4e8b-b9f7-141bd793a1fc",
   "metadata": {},
   "source": [
    "Cube Sum of Smaller Integers"
   ]
  },
  {
   "cell_type": "code",
   "execution_count": 1,
   "id": "35f6c372-5f8f-49cb-8f89-df2d3914ecc7",
   "metadata": {},
   "outputs": [],
   "source": [
    "def sum_of_cubes(n):\n",
    "    n-=1\n",
    "    sum = 0\n",
    "    while n>0:\n",
    "        sum += n**3\n",
    "        n -= 1\n",
    "    return sum"
   ]
  },
  {
   "cell_type": "code",
   "execution_count": 2,
   "id": "e625aa7c-3a85-4c44-8822-bb2c06b54c93",
   "metadata": {},
   "outputs": [
    {
     "name": "stdout",
     "output_type": "stream",
     "text": [
      "100\n"
     ]
    }
   ],
   "source": [
    "n = 5\n",
    "print(sum_of_cubes(n))"
   ]
  },
  {
   "cell_type": "markdown",
   "id": "a4b0af5d-3f1b-4db5-bd13-d1ec3c34c029",
   "metadata": {},
   "source": [
    "Odd Product Pair Checker"
   ]
  },
  {
   "cell_type": "code",
   "execution_count": 3,
   "id": "0bd1a93f-7ca4-4e2b-b2dc-481110749d3d",
   "metadata": {},
   "outputs": [],
   "source": [
    "def product_check(list):\n",
    "    cnt = 0\n",
    "    for l in list:\n",
    "        if l%2 == 1:\n",
    "            cnt+=1\n",
    "            if cnt==2:\n",
    "                return True\n",
    "            \n",
    "    return False"
   ]
  },
  {
   "cell_type": "code",
   "execution_count": 4,
   "id": "e2997834-d8c5-4b96-9e23-4d785a5e4e96",
   "metadata": {},
   "outputs": [],
   "source": [
    "seq = [2,3,4,5]"
   ]
  },
  {
   "cell_type": "code",
   "execution_count": 5,
   "id": "0bffd5b4-e0df-4c72-be45-82f80a05ad53",
   "metadata": {},
   "outputs": [
    {
     "data": {
      "text/plain": [
       "True"
      ]
     },
     "execution_count": 5,
     "metadata": {},
     "output_type": "execute_result"
    }
   ],
   "source": [
    "product_check(seq)"
   ]
  },
  {
   "cell_type": "code",
   "execution_count": 6,
   "id": "d0035efc-dc7c-409b-843d-412013a685c5",
   "metadata": {},
   "outputs": [],
   "source": [
    "seq = [2,3,4,6,8]"
   ]
  },
  {
   "cell_type": "code",
   "execution_count": 7,
   "id": "54d60773-9599-4f62-b976-eb939f1cf716",
   "metadata": {},
   "outputs": [
    {
     "data": {
      "text/plain": [
       "False"
      ]
     },
     "execution_count": 7,
     "metadata": {},
     "output_type": "execute_result"
    }
   ],
   "source": [
    "product_check(seq)"
   ]
  },
  {
   "cell_type": "markdown",
   "id": "f74b07c0-747f-4026-855e-815c5b7846bc",
   "metadata": {
    "jp-MarkdownHeadingCollapsed": true
   },
   "source": [
    "# Python Basic (Part-II) "
   ]
  },
  {
   "cell_type": "markdown",
   "id": "cb478f35-e976-4526-afe8-c1f51e193959",
   "metadata": {},
   "source": [
    "NxN Square of Integer"
   ]
  },
  {
   "cell_type": "code",
   "execution_count": 12,
   "id": "b7cf4af2-2928-41d9-a4ea-aefa11e0c20c",
   "metadata": {},
   "outputs": [],
   "source": [
    "def square_mat(n):\n",
    "    mat = []\n",
    "    for i in range(n):\n",
    "        mat.append([n]*n)\n",
    "    return mat"
   ]
  },
  {
   "cell_type": "code",
   "execution_count": 13,
   "id": "56bba9c5-82b2-4c76-b425-4caa9871a625",
   "metadata": {},
   "outputs": [
    {
     "name": "stdout",
     "output_type": "stream",
     "text": [
      "[[4, 4, 4, 4], [4, 4, 4, 4], [4, 4, 4, 4], [4, 4, 4, 4]]\n"
     ]
    }
   ],
   "source": [
    "print(square_mat(4))"
   ]
  },
  {
   "cell_type": "code",
   "execution_count": 14,
   "id": "3ee5c3ce-88c7-47c7-86c2-bd061e654320",
   "metadata": {},
   "outputs": [
    {
     "name": "stdout",
     "output_type": "stream",
     "text": [
      "[[10, 10, 10, 10, 10, 10, 10, 10, 10, 10], [10, 10, 10, 10, 10, 10, 10, 10, 10, 10], [10, 10, 10, 10, 10, 10, 10, 10, 10, 10], [10, 10, 10, 10, 10, 10, 10, 10, 10, 10], [10, 10, 10, 10, 10, 10, 10, 10, 10, 10], [10, 10, 10, 10, 10, 10, 10, 10, 10, 10], [10, 10, 10, 10, 10, 10, 10, 10, 10, 10], [10, 10, 10, 10, 10, 10, 10, 10, 10, 10], [10, 10, 10, 10, 10, 10, 10, 10, 10, 10], [10, 10, 10, 10, 10, 10, 10, 10, 10, 10]]\n"
     ]
    }
   ],
   "source": [
    "print(square_mat(10))"
   ]
  },
  {
   "cell_type": "markdown",
   "id": "cc0b7ac3-ebdc-47b6-a27a-22f55a9c1c28",
   "metadata": {},
   "source": [
    "Cube Root Reduction Steps"
   ]
  },
  {
   "cell_type": "code",
   "execution_count": 20,
   "id": "97309d89-f603-4eae-89b9-0be3be4b6ab9",
   "metadata": {},
   "outputs": [],
   "source": [
    "def red(n):\n",
    "    c = 0\n",
    "    while n>=3:\n",
    "        n = n ** (1/3)\n",
    "        c+=1\n",
    "    return \"Not a positive Number\" if n<0 else c"
   ]
  },
  {
   "cell_type": "code",
   "execution_count": 21,
   "id": "e73f48db-6f5b-44c0-9da9-b0e1473a1ae9",
   "metadata": {},
   "outputs": [
    {
     "name": "stdout",
     "output_type": "stream",
     "text": [
      "2\n"
     ]
    }
   ],
   "source": [
    "print(red(1000))"
   ]
  },
  {
   "cell_type": "code",
   "execution_count": 22,
   "id": "5372601f-2b53-4c09-a910-482db4e4e479",
   "metadata": {},
   "outputs": [
    {
     "name": "stdout",
     "output_type": "stream",
     "text": [
      "Not a positive Number\n"
     ]
    }
   ],
   "source": [
    "print(red(-1000))"
   ]
  },
  {
   "cell_type": "markdown",
   "id": "5e5d484d-7ce9-40cc-84b5-c5e0aaff6beb",
   "metadata": {},
   "source": [
    "# Python Programming Puzzles"
   ]
  },
  {
   "cell_type": "markdown",
   "id": "f280b4a7-3271-4b94-a1f1-6960578c7047",
   "metadata": {},
   "source": [
    "Replace Spaces with Underscore and Hyphen"
   ]
  },
  {
   "cell_type": "code",
   "execution_count": 23,
   "id": "5822e68b-96e7-42e4-aade-8243f0cd70dc",
   "metadata": {},
   "outputs": [
    {
     "name": "stdout",
     "output_type": "stream",
     "text": [
      "   Hello, world!  This is   so   easy!   \n"
     ]
    }
   ],
   "source": [
    "s = '-Hello,_world!__This_is-so-easy!-'\n",
    "output = s.replace('-',' '*3).replace('_',' ')\n",
    "print(output)"
   ]
  },
  {
   "cell_type": "markdown",
   "id": "a545cbef-3d06-4c5e-8e91-5aa9149aeffe",
   "metadata": {},
   "source": [
    " Four Even Integers Summing to n"
   ]
  },
  {
   "cell_type": "code",
   "execution_count": 28,
   "id": "31c56f3e-fb29-4ba5-8335-65520b3b982d",
   "metadata": {},
   "outputs": [],
   "source": [
    "def even_int(n):\n",
    "    if n<8:\n",
    "        print(\"Not Possible\")\n",
    "    else:\n",
    "        if n%2 == 0:\n",
    "            list = [n-6,2,2,2]\n",
    "            print(list)\n",
    "        else:\n",
    "            print(\"Not Possible\")"
   ]
  },
  {
   "cell_type": "code",
   "execution_count": 29,
   "id": "78046345-7bd7-4a2c-8603-571f1609c000",
   "metadata": {},
   "outputs": [
    {
     "name": "stdout",
     "output_type": "stream",
     "text": [
      "Not Possible\n"
     ]
    }
   ],
   "source": [
    "even_int(7)"
   ]
  },
  {
   "cell_type": "code",
   "execution_count": 30,
   "id": "962ff4d0-9cdd-40cd-b361-6510d4a8d414",
   "metadata": {},
   "outputs": [
    {
     "name": "stdout",
     "output_type": "stream",
     "text": [
      "[4, 2, 2, 2]\n"
     ]
    }
   ],
   "source": [
    "even_int(10)"
   ]
  },
  {
   "cell_type": "markdown",
   "id": "e29f2c7f-60ac-4d4a-960d-e542e29a21e8",
   "metadata": {},
   "source": [
    "# Mastering Python"
   ]
  },
  {
   "cell_type": "markdown",
   "id": "d3e3024d-9e9c-4fcb-9bcf-4a09a1a19a79",
   "metadata": {},
   "source": [
    "Remove all whitespaces from a string."
   ]
  },
  {
   "cell_type": "code",
   "execution_count": 31,
   "id": "3a0c67d5-a3a0-483e-b613-87d84967c839",
   "metadata": {},
   "outputs": [
    {
     "name": "stdout",
     "output_type": "stream",
     "text": [
      "JEET\n"
     ]
    }
   ],
   "source": [
    "s = \" J E E T \"\n",
    "s_without_whitespace = s.replace(' ', '')\n",
    "print(s_without_whitespace)"
   ]
  },
  {
   "cell_type": "markdown",
   "id": "fd6427f8-565d-4f83-b92a-3331ab860789",
   "metadata": {},
   "source": [
    "Replace all occurrences of a substring in a string."
   ]
  },
  {
   "cell_type": "code",
   "execution_count": 32,
   "id": "1f9fd89a-bcb8-40c3-ade9-5d68db864b03",
   "metadata": {},
   "outputs": [
    {
     "name": "stdout",
     "output_type": "stream",
     "text": [
      "Hello universe, welcome to the universe of Python family.\n"
     ]
    }
   ],
   "source": [
    "s = \"Hello world, welcome to the world of Python family.\"\n",
    "new_s = s.replace('world', 'universe')\n",
    "print(new_s)"
   ]
  },
  {
   "cell_type": "code",
   "execution_count": null,
   "id": "dc834a32-ac13-444e-a484-00d4075bee72",
   "metadata": {},
   "outputs": [],
   "source": []
  }
 ],
 "metadata": {
  "kernelspec": {
   "display_name": "Python 3 (ipykernel)",
   "language": "python",
   "name": "python3"
  },
  "language_info": {
   "codemirror_mode": {
    "name": "ipython",
    "version": 3
   },
   "file_extension": ".py",
   "mimetype": "text/x-python",
   "name": "python",
   "nbconvert_exporter": "python",
   "pygments_lexer": "ipython3",
   "version": "3.12.7"
  }
 },
 "nbformat": 4,
 "nbformat_minor": 5
}
