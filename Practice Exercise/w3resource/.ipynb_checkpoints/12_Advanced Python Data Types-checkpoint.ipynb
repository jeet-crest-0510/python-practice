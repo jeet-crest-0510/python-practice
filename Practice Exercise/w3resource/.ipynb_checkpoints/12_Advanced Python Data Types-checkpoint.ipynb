{
 "cells": [
  {
   "cell_type": "markdown",
   "id": "de0939f0-721b-45b5-8b97-350e0ff5669c",
   "metadata": {},
   "source": [
    "Write a Python program that checks a simple authentication system. The program verifies the provided username and password against predefined usernames and passwords by using boolean checks."
   ]
  },
  {
   "cell_type": "code",
   "execution_count": 2,
   "id": "8799494c-581f-4f46-bb0f-763a6f5b9f74",
   "metadata": {},
   "outputs": [],
   "source": [
    "import getpass"
   ]
  },
  {
   "cell_type": "code",
   "execution_count": 1,
   "id": "210509bf-3480-4575-9a35-81ca3ac22fcb",
   "metadata": {},
   "outputs": [],
   "source": [
    "username = \"crest123\"\n",
    "password = \"crest@123\""
   ]
  },
  {
   "cell_type": "code",
   "execution_count": 3,
   "id": "f3c59e7d-59b5-4119-a337-eaba46040fc5",
   "metadata": {},
   "outputs": [
    {
     "name": "stdin",
     "output_type": "stream",
     "text": [
      "Enter the Username crest123\n",
      "Enter the Password ········\n"
     ]
    },
    {
     "name": "stdout",
     "output_type": "stream",
     "text": [
      "Incorrect Username or Password!!\n"
     ]
    },
    {
     "name": "stdin",
     "output_type": "stream",
     "text": [
      "Enter the Username crest123\n",
      "Enter the Password ········\n"
     ]
    },
    {
     "name": "stdout",
     "output_type": "stream",
     "text": [
      "Authentication Successfull!!\n"
     ]
    }
   ],
   "source": [
    "while True:\n",
    "    user = input(\"Enter the Username\")\n",
    "    pw = getpass.getpass(\"Enter the Password\")\n",
    "    if username == user and password == pw:\n",
    "        print(\"Authentication Successfull!!\")\n",
    "        break\n",
    "    print(\"Incorrect Username or Password!!\")"
   ]
  },
  {
   "cell_type": "markdown",
   "id": "e1813ac8-b85c-444a-a161-c5ceb92018c3",
   "metadata": {},
   "source": [
    "Write a Python function that replaces all occurrences of a substring in a string with another substring. Returns None if the original string is empty."
   ]
  },
  {
   "cell_type": "code",
   "execution_count": 5,
   "id": "ed4e3a97-25ff-4c1f-ac7a-6aa53ca42ac5",
   "metadata": {},
   "outputs": [],
   "source": [
    "s1 = \"Hello Jeet\"\n",
    "s2 = \"\"\n",
    "sub1 = \"Jeet\"\n",
    "sub2 = \"Jay\""
   ]
  },
  {
   "cell_type": "code",
   "execution_count": 9,
   "id": "4d19fb2a-ea2d-4908-9913-bf4bca976e07",
   "metadata": {},
   "outputs": [],
   "source": [
    "def fun(s, sub1, sub2):\n",
    "    if s:\n",
    "        s = s.replace(sub1,sub2)\n",
    "        return s\n",
    "    else:\n",
    "        return None"
   ]
  },
  {
   "cell_type": "code",
   "execution_count": 10,
   "id": "1c754bcb-35de-450c-ba5e-6b3af18664b6",
   "metadata": {},
   "outputs": [
    {
     "name": "stdout",
     "output_type": "stream",
     "text": [
      "Hello Jeet\n",
      "Hello Jay\n"
     ]
    }
   ],
   "source": [
    "res = fun(s1, sub1, sub2)\n",
    "print(s1)\n",
    "if res:\n",
    "    print(res)\n",
    "else:\n",
    "    print(\"String is empty\")"
   ]
  },
  {
   "cell_type": "code",
   "execution_count": 11,
   "id": "a977db59-8b32-45da-bb27-4c98b16ece77",
   "metadata": {},
   "outputs": [
    {
     "name": "stdout",
     "output_type": "stream",
     "text": [
      "\n",
      "String is empty\n"
     ]
    }
   ],
   "source": [
    "res = fun(s2, sub1, sub2)\n",
    "print(s2)\n",
    "if res:\n",
    "    print(res)\n",
    "else:\n",
    "    print(\"String is empty\")"
   ]
  },
  {
   "cell_type": "markdown",
   "id": "55abfb30-8b92-45d6-ab47-794b265a7907",
   "metadata": {},
   "source": [
    "Write a Python program to convert a given string to bytes using different encodings like UTF-8, UTF-16, ASCII etc."
   ]
  },
  {
   "cell_type": "code",
   "execution_count": 12,
   "id": "42268bf6-035b-4b58-9b57-8db48446b304",
   "metadata": {},
   "outputs": [
    {
     "name": "stdout",
     "output_type": "stream",
     "text": [
      "Encoding: UTF-8\n",
      "Original String: Python\n",
      "Encoded Bytes: b'Python'\n",
      "Decoded String: Python\n",
      "========================================\n",
      "Encoding: UTF-16\n",
      "Original String: Python\n",
      "Encoded Bytes: b'\\xff\\xfeP\\x00y\\x00t\\x00h\\x00o\\x00n\\x00'\n",
      "Decoded String: Python\n",
      "========================================\n",
      "Encoding: ASCII\n",
      "Original String: Python\n",
      "Encoded Bytes: b'Python'\n",
      "Decoded String: Python\n",
      "========================================\n"
     ]
    }
   ],
   "source": [
    "def convert_to_bytes(input_string, encoding):\n",
    "    try:\n",
    "        encoded_bytes = input_string.encode(encoding)\n",
    "        return encoded_bytes\n",
    "    except Exception as e:\n",
    "        print(\"Error:\", e)\n",
    "        return None\n",
    "\n",
    "def main():\n",
    "    try:\n",
    "        input_string = \"Python\"\n",
    "        \n",
    "        encodings = [\"utf-8\", \"utf-16\", \"ascii\"]\n",
    "        for encoding in encodings:\n",
    "            encoded_bytes = convert_to_bytes(input_string, encoding)\n",
    "            if encoded_bytes is not None:\n",
    "                print(f\"Encoding: {encoding.upper()}\")\n",
    "                print(\"Original String:\", input_string)\n",
    "                print(\"Encoded Bytes:\", encoded_bytes)\n",
    "                print(\"Decoded String:\", encoded_bytes.decode(encoding))\n",
    "                print(\"=\" * 40)\n",
    "    except Exception as e:\n",
    "        print(\"An error occurred:\", e)\n",
    "\n",
    "if __name__ == \"__main__\":\n",
    "    main()\n"
   ]
  },
  {
   "cell_type": "code",
   "execution_count": 52,
   "id": "06af271e-b2d4-4448-b6c4-a877436f5a9b",
   "metadata": {},
   "outputs": [],
   "source": [
    "x = bytes('python', encoding = 'utf-8')"
   ]
  },
  {
   "cell_type": "code",
   "execution_count": 53,
   "id": "66667dfd-0d74-4947-904d-603679dba097",
   "metadata": {},
   "outputs": [
    {
     "data": {
      "text/plain": [
       "b'python'"
      ]
     },
     "execution_count": 53,
     "metadata": {},
     "output_type": "execute_result"
    }
   ],
   "source": [
    "x"
   ]
  },
  {
   "cell_type": "code",
   "execution_count": 54,
   "id": "30f3ece1-22cb-4200-9fd2-76a69036d33b",
   "metadata": {},
   "outputs": [
    {
     "name": "stdout",
     "output_type": "stream",
     "text": [
      "112\n",
      "121\n",
      "116\n",
      "104\n",
      "111\n",
      "110\n"
     ]
    }
   ],
   "source": [
    "for i in x:\n",
    "    print(i)"
   ]
  },
  {
   "cell_type": "code",
   "execution_count": 62,
   "id": "9dcb026d-11ad-44d0-a892-0516ec5ab881",
   "metadata": {},
   "outputs": [
    {
     "ename": "AttributeError",
     "evalue": "'bytes' object has no attribute 'append'",
     "output_type": "error",
     "traceback": [
      "\u001b[1;31m---------------------------------------------------------------------------\u001b[0m",
      "\u001b[1;31mAttributeError\u001b[0m                            Traceback (most recent call last)",
      "Cell \u001b[1;32mIn[62], line 1\u001b[0m\n\u001b[1;32m----> 1\u001b[0m x\u001b[38;5;241m.\u001b[39mappend(\u001b[38;5;241m1\u001b[39m)\n",
      "\u001b[1;31mAttributeError\u001b[0m: 'bytes' object has no attribute 'append'"
     ]
    }
   ],
   "source": [
    "x.append(1)"
   ]
  },
  {
   "cell_type": "code",
   "execution_count": 56,
   "id": "0258f788-79a0-4d34-a4bb-76b08cbe0c34",
   "metadata": {},
   "outputs": [],
   "source": [
    "y = bytearray('hello', 'utf-8')"
   ]
  },
  {
   "cell_type": "code",
   "execution_count": 57,
   "id": "1eacc2f6-c9a5-4b78-998c-b6b7d002bea6",
   "metadata": {},
   "outputs": [
    {
     "data": {
      "text/plain": [
       "bytearray(b'hello')"
      ]
     },
     "execution_count": 57,
     "metadata": {},
     "output_type": "execute_result"
    }
   ],
   "source": [
    "y"
   ]
  },
  {
   "cell_type": "code",
   "execution_count": 58,
   "id": "4407701a-c9b1-41ad-ac25-f037f62bc483",
   "metadata": {},
   "outputs": [
    {
     "name": "stdout",
     "output_type": "stream",
     "text": [
      "104\n",
      "101\n",
      "108\n",
      "108\n",
      "111\n"
     ]
    }
   ],
   "source": [
    "for i in y:\n",
    "    print(i)"
   ]
  },
  {
   "cell_type": "code",
   "execution_count": 60,
   "id": "df66fbab-991e-46ff-bfc2-2a3307de053f",
   "metadata": {},
   "outputs": [],
   "source": [
    "y.append(1)"
   ]
  },
  {
   "cell_type": "code",
   "execution_count": 61,
   "id": "520dc529-83f7-4a87-9987-501d25bfeace",
   "metadata": {},
   "outputs": [
    {
     "data": {
      "text/plain": [
       "bytearray(b'hello\\x01')"
      ]
     },
     "execution_count": 61,
     "metadata": {},
     "output_type": "execute_result"
    }
   ],
   "source": [
    "y"
   ]
  },
  {
   "cell_type": "markdown",
   "id": "ca969719-a9aa-4ad1-963c-05217c1305e1",
   "metadata": {},
   "source": [
    "Write a  Python function that converts a bytearray to a bytes object."
   ]
  },
  {
   "cell_type": "code",
   "execution_count": 51,
   "id": "d56b31e9-ab93-4e3a-93d0-53766475b414",
   "metadata": {},
   "outputs": [
    {
     "name": "stdout",
     "output_type": "stream",
     "text": [
      "Original Bytearray: bytearray(b'\\x0c3\\n\\x0f_f\\x84u')\n",
      "Bytes Object: b'\\x0c3\\n\\x0f_f\\x84u'\n",
      "An error occurred: 'utf-8' codec can't decode byte 0x84 in position 6: invalid start byte\n"
     ]
    }
   ],
   "source": [
    "def bytearray_to_bytes(bytearray_obj):\n",
    "    bytes_obj = bytes(bytearray_obj)\n",
    "    return bytes_obj\n",
    "\n",
    "def main():\n",
    "    try:\n",
    "        original_bytearray = bytearray([12, 51, 10, 15, 95, 102, 132, 117])\n",
    "        \n",
    "        bytes_result = bytearray_to_bytes(original_bytearray)\n",
    "        \n",
    "        print(\"Original Bytearray:\", original_bytearray)\n",
    "        print(\"Bytes Object:\", bytes_result)\n",
    "        print(\"Decoded String:\", bytes_result.decode(\"utf-8\"))\n",
    "    except Exception as e:\n",
    "        print(\"An error occurred:\", e)\n",
    "\n",
    "if __name__ == \"__main__\":\n",
    "    main()"
   ]
  },
  {
   "cell_type": "markdown",
   "id": "f517d4c7-8c5e-4f4d-8004-996607bf5b05",
   "metadata": {},
   "source": [
    "memoryview"
   ]
  },
  {
   "cell_type": "code",
   "execution_count": 67,
   "id": "ff467bc9-025c-49db-b9ae-b6000bc1e289",
   "metadata": {},
   "outputs": [
    {
     "name": "stdout",
     "output_type": "stream",
     "text": [
      "Memory View Length: 17\n",
      "First 8 Bytes: <memory at 0x000001C5302E3340>\n"
     ]
    }
   ],
   "source": [
    "def main():\n",
    "    try:\n",
    "        data = b\"Python Exercises!\"\n",
    "        # Create memory view on data\n",
    "        mem_data  = memoryview(data)        \n",
    "        print(\"Memory View Length:\", len(mem_data))\n",
    "        # Print first 8 bytes\n",
    "        print(\"First 8 Bytes:\", mem_data[:8])\n",
    "    except Exception as e:\n",
    "        print(\"An error occurred:\", e)\n",
    "\n",
    "if __name__ == \"__main__\":\n",
    "    main()\n"
   ]
  },
  {
   "cell_type": "code",
   "execution_count": 68,
   "id": "e90d7d3d-a8aa-41a6-8cd2-3a3d2f6e4aae",
   "metadata": {},
   "outputs": [
    {
     "name": "stdout",
     "output_type": "stream",
     "text": [
      "Before update: bytearray(b'XYZ')\n",
      "After update: bytearray(b'XYJ')\n"
     ]
    }
   ],
   "source": [
    "byte_array = bytearray('XYZ', 'utf-8')\n",
    "print('Before update:', byte_array)\n",
    "\n",
    "mem_view = memoryview(byte_array)\n",
    "\n",
    "mem_view[2] = 74\n",
    "print('After update:', byte_array)\n"
   ]
  },
  {
   "cell_type": "markdown",
   "id": "29f83935-9460-415e-af80-1fcb619ff205",
   "metadata": {},
   "source": [
    " Write a Python program that creates a memory view from a list of integers and print the hex values of each element."
   ]
  },
  {
   "cell_type": "code",
   "execution_count": 69,
   "id": "838b2d47-ae4c-45d4-a7f7-cdd999904de3",
   "metadata": {},
   "outputs": [
    {
     "name": "stdout",
     "output_type": "stream",
     "text": [
      "Original list values: [8, 16, 42, 92, 128]\n",
      "Hex Values of said list elements:\n",
      "0x8\n",
      "0x10\n",
      "0x2a\n",
      "0x5c\n",
      "0x80\n"
     ]
    }
   ],
   "source": [
    "def test(memory_view):\n",
    "    for element in memory_view:\n",
    "        print(hex(element))\n",
    "\n",
    "def main():\n",
    "    nums = [8, 16, 42, 92, 128]\n",
    "    print(\"Original list values:\",nums)\n",
    "\n",
    "    memory_view = memoryview(bytearray(nums))\n",
    "\n",
    "    print(\"Hex Values of said list elements:\")\n",
    "    test(memory_view)\n",
    "\n",
    "if __name__ == \"__main__\":\n",
    "    main()\n"
   ]
  },
  {
   "cell_type": "markdown",
   "id": "470e6d41-84d2-41a3-8f94-cf03584299d5",
   "metadata": {},
   "source": [
    "Write a Python program that generates a frozenset containing the squares of all odd numbers from 1 to 15 using set comprehension."
   ]
  },
  {
   "cell_type": "code",
   "execution_count": 72,
   "id": "a1a4c64a-aa1a-4f7a-8929-a50338614ca3",
   "metadata": {},
   "outputs": [],
   "source": [
    "fs = frozenset({x**2 for x in range(1,16) if x%2==1})"
   ]
  },
  {
   "cell_type": "code",
   "execution_count": 73,
   "id": "0caea258-6a87-433b-b06c-6927bdb6b5c1",
   "metadata": {},
   "outputs": [
    {
     "data": {
      "text/plain": [
       "frozenset({1, 9, 25, 49, 81, 121, 169, 225})"
      ]
     },
     "execution_count": 73,
     "metadata": {},
     "output_type": "execute_result"
    }
   ],
   "source": [
    "fs"
   ]
  },
  {
   "cell_type": "markdown",
   "id": "034aabba-371b-4bf3-9224-f29331c62018",
   "metadata": {},
   "source": [
    "Write a Python program that defines a NamedTuple named \"Car\" with fields 'make', 'model', 'year', and 'engine' (a NamedTuple representing engine details). Create an instance of the \"Car\" NamedTuple and print its attributes."
   ]
  },
  {
   "cell_type": "code",
   "execution_count": 74,
   "id": "7aea76f7-d2b5-4732-8fc5-5a359790b9e6",
   "metadata": {},
   "outputs": [],
   "source": [
    "from collections import namedtuple"
   ]
  },
  {
   "cell_type": "code",
   "execution_count": 80,
   "id": "d5ccf184-1c03-40e6-a52c-85516f71a121",
   "metadata": {},
   "outputs": [],
   "source": [
    "Car = namedtuple('Car',['make', 'model', 'year', 'engine'])"
   ]
  },
  {
   "cell_type": "code",
   "execution_count": 81,
   "id": "2e79c4c7-8a8a-49f7-b248-51511eddb5e3",
   "metadata": {},
   "outputs": [],
   "source": [
    "Engine = namedtuple('Engine', ['type', 'cylinders'])"
   ]
  },
  {
   "cell_type": "code",
   "execution_count": 82,
   "id": "08eec65b-f808-4feb-bcf9-94b8b8e8e21f",
   "metadata": {},
   "outputs": [
    {
     "data": {
      "text/plain": [
       "__main__.Car"
      ]
     },
     "execution_count": 82,
     "metadata": {},
     "output_type": "execute_result"
    }
   ],
   "source": [
    "car"
   ]
  },
  {
   "cell_type": "code",
   "execution_count": 83,
   "id": "d0c57287-e7da-44ef-b0f3-627d34a284ca",
   "metadata": {},
   "outputs": [
    {
     "data": {
      "text/plain": [
       "__main__.Engine"
      ]
     },
     "execution_count": 83,
     "metadata": {},
     "output_type": "execute_result"
    }
   ],
   "source": [
    "engine"
   ]
  },
  {
   "cell_type": "code",
   "execution_count": 84,
   "id": "b7e42b84-d42e-40ed-9c2d-3be0854a6733",
   "metadata": {},
   "outputs": [],
   "source": [
    "e1 = Engine(type='1.5L', cylinders=4)"
   ]
  },
  {
   "cell_type": "code",
   "execution_count": 85,
   "id": "7f232cbb-474e-4dd4-9cc2-1c5334b15201",
   "metadata": {},
   "outputs": [],
   "source": [
    "c1 = Car(make='Honda', model='City', year=2020, engine=e1)"
   ]
  },
  {
   "cell_type": "code",
   "execution_count": 86,
   "id": "1fb048cc-c26f-44d1-bee0-b3a729954e31",
   "metadata": {},
   "outputs": [
    {
     "data": {
      "text/plain": [
       "Car(make='Honda', model='City', year=2020, engine=Engine(type='1.5L', cylinders=4))"
      ]
     },
     "execution_count": 86,
     "metadata": {},
     "output_type": "execute_result"
    }
   ],
   "source": [
    "c1"
   ]
  },
  {
   "cell_type": "code",
   "execution_count": 87,
   "id": "9ab7a9bc-d556-4099-bb37-81e1b980bab4",
   "metadata": {},
   "outputs": [
    {
     "data": {
      "text/plain": [
       "Engine(type='1.5L', cylinders=4)"
      ]
     },
     "execution_count": 87,
     "metadata": {},
     "output_type": "execute_result"
    }
   ],
   "source": [
    "e1"
   ]
  },
  {
   "cell_type": "code",
   "execution_count": 89,
   "id": "5b2d430f-b230-440b-9f0a-c64fbc491bc7",
   "metadata": {},
   "outputs": [
    {
     "data": {
      "text/plain": [
       "'Honda'"
      ]
     },
     "execution_count": 89,
     "metadata": {},
     "output_type": "execute_result"
    }
   ],
   "source": [
    "c1.make"
   ]
  },
  {
   "cell_type": "code",
   "execution_count": 91,
   "id": "002fe6d2-81b9-419d-80fa-eaf62cf2ee87",
   "metadata": {},
   "outputs": [
    {
     "data": {
      "text/plain": [
       "'1.5L'"
      ]
     },
     "execution_count": 91,
     "metadata": {},
     "output_type": "execute_result"
    }
   ],
   "source": [
    "c1.engine.type"
   ]
  },
  {
   "cell_type": "markdown",
   "id": "f803c198-c032-4b11-b701-ff31983ca310",
   "metadata": {},
   "source": [
    "OrderedDict"
   ]
  },
  {
   "cell_type": "code",
   "execution_count": 93,
   "id": "5c1d2e7e-f8e0-4492-9ecd-a3da23bffc07",
   "metadata": {},
   "outputs": [],
   "source": [
    "from collections import OrderedDict"
   ]
  },
  {
   "cell_type": "code",
   "execution_count": 101,
   "id": "76afeb2d-7d46-43b4-9847-6340fb493890",
   "metadata": {},
   "outputs": [
    {
     "name": "stdout",
     "output_type": "stream",
     "text": [
      "This is a Dict:\n",
      "\n",
      "b 2\n",
      "a 1\n",
      "c 3\n",
      "d 4\n",
      "\n",
      "This is an Ordered Dict:\n",
      "\n",
      "b 2\n",
      "a 1\n",
      "c 3\n",
      "d 4\n"
     ]
    }
   ],
   "source": [
    "print(\"This is a Dict:\\n\")\n",
    "d = {}\n",
    "d['b'] = 2\n",
    "d['a'] = 1\n",
    "d['c'] = 3\n",
    "d['d'] = 4\n",
    "\n",
    "for key, value in d.items():\n",
    "    print(key, value)\n",
    "\n",
    "print(\"\\nThis is an Ordered Dict:\\n\")\n",
    "od = OrderedDict()\n",
    "od['b'] = 2\n",
    "od['a'] = 1\n",
    "od['c'] = 3\n",
    "od['d'] = 4\n",
    "\n",
    "for key, value in od.items():\n",
    "    print(key, value)"
   ]
  },
  {
   "cell_type": "code",
   "execution_count": 102,
   "id": "5ec218ca-b9f5-4072-9c73-68a1e4ac3f05",
   "metadata": {},
   "outputs": [
    {
     "data": {
      "text/plain": [
       "OrderedDict([('b', 2), ('a', 1), ('c', 3), ('d', 4)])"
      ]
     },
     "execution_count": 102,
     "metadata": {},
     "output_type": "execute_result"
    }
   ],
   "source": [
    "od"
   ]
  },
  {
   "cell_type": "code",
   "execution_count": 103,
   "id": "c75a8f00-b4d3-4ecd-b33a-3c419cc141eb",
   "metadata": {},
   "outputs": [
    {
     "data": {
      "text/plain": [
       "{'b': 2, 'a': 1, 'c': 3, 'd': 4}"
      ]
     },
     "execution_count": 103,
     "metadata": {},
     "output_type": "execute_result"
    }
   ],
   "source": [
    "d"
   ]
  },
  {
   "cell_type": "markdown",
   "id": "0e922318-bb01-4592-9ff5-953c67951326",
   "metadata": {},
   "source": [
    "Write a Python function that takes a list of words and returns an OrderedDict where keys are the words and values are the lengths of the words."
   ]
  },
  {
   "cell_type": "code",
   "execution_count": 104,
   "id": "11dbcbaa-dc46-4e50-b2b1-fc482a4d96d7",
   "metadata": {},
   "outputs": [],
   "source": [
    "words = [\"Red\", \"Green\", \"Pink\", \"White\", \"Orange\"]"
   ]
  },
  {
   "cell_type": "code",
   "execution_count": 105,
   "id": "c5e0ad5c-4b39-4ed5-ab02-d47b7a2214f2",
   "metadata": {},
   "outputs": [
    {
     "data": {
      "text/plain": [
       "OrderedDict([('Red', 3),\n",
       "             ('Green', 5),\n",
       "             ('Pink', 4),\n",
       "             ('White', 5),\n",
       "             ('Orange', 6)])"
      ]
     },
     "execution_count": 105,
     "metadata": {},
     "output_type": "execute_result"
    }
   ],
   "source": [
    "od = OrderedDict()\n",
    "for w in words:\n",
    "    od[w] = len(w)\n",
    "\n",
    "od"
   ]
  },
  {
   "cell_type": "markdown",
   "id": "1948fb30-204c-4056-bc1e-45ef5e68c463",
   "metadata": {},
   "source": [
    "Write a Python program that creates a 'Counter' for a list of items and uses dictionary-style access to update the count of specific items."
   ]
  },
  {
   "cell_type": "code",
   "execution_count": 106,
   "id": "e99abe61-4afc-4169-a60e-bdcc240ffa9e",
   "metadata": {},
   "outputs": [
    {
     "name": "stdout",
     "output_type": "stream",
     "text": [
      "Original Counter:\n",
      "Counter({'Red': 4, 'Black': 2, 'Pink': 2, 'Green': 1, 'Orange': 1, 'White': 1})\n",
      "\n",
      "Updated Counter:\n",
      "Counter({'Red': 6, 'Black': 2, 'Pink': 2, 'Green': 1, 'White': 1, 'Orange': 0})\n"
     ]
    }
   ],
   "source": [
    "from collections import Counter\n",
    "\n",
    "\n",
    "items = ['Red', 'Green', 'Black', 'Black', 'Red', 'Red', 'Orange', 'Pink', 'Pink', 'Red', 'White']\n",
    "    \n",
    "counter = Counter(items)\n",
    "    \n",
    "print(\"Original Counter:\")\n",
    "print(counter)\n",
    "    \n",
    "counter['Red'] += 2\n",
    "counter['Orange'] -= 1\n",
    "    \n",
    "print(\"\\nUpdated Counter:\")\n",
    "print(counter)"
   ]
  },
  {
   "cell_type": "markdown",
   "id": "9fbf6906-9df9-4d86-9d51-9eda8ac73011",
   "metadata": {},
   "source": [
    "Ellipses or ..."
   ]
  },
  {
   "cell_type": "code",
   "execution_count": 107,
   "id": "242b6b8c-858d-4f70-a0be-778ba068e993",
   "metadata": {},
   "outputs": [
    {
     "name": "stdout",
     "output_type": "stream",
     "text": [
      "[[[0.88379295 0.78940168]\n",
      "  [0.44971315 0.15330181]]\n",
      "\n",
      " [[0.97363601 0.68601103]\n",
      "  [0.78296392 0.7913071 ]]]\n",
      "[[[0.88379295 0.78940168]\n",
      "  [0.44971315 0.15330181]]\n",
      "\n",
      " [[0.97363601 0.68601103]\n",
      "  [0.78296392 0.7913071 ]]]\n"
     ]
    }
   ],
   "source": [
    "# importing numpy\n",
    "import numpy as np\n",
    "\n",
    "array = np.random.rand(2, 2, 2, 2)\n",
    "print(array[..., 0])\n",
    "print(array[Ellipsis, 0])\n"
   ]
  },
  {
   "cell_type": "code",
   "execution_count": 108,
   "id": "80e64418-3159-4631-948b-52e5d8acd72b",
   "metadata": {},
   "outputs": [
    {
     "name": "stdout",
     "output_type": "stream",
     "text": [
      "<function foo at 0x000001C52FA97880>\n"
     ]
    }
   ],
   "source": [
    "def foo(x = ...):\n",
    "\treturn x\n",
    "\n",
    "print(foo)"
   ]
  },
  {
   "cell_type": "code",
   "execution_count": 110,
   "id": "1fbb533e-1e71-4fde-877e-4d54f2683ef9",
   "metadata": {},
   "outputs": [
    {
     "name": "stdout",
     "output_type": "stream",
     "text": [
      "<function foo at 0x000001C530425300>\n"
     ]
    }
   ],
   "source": [
    "def foo(x = ...):\n",
    "\t...\n",
    "\n",
    "print(foo)"
   ]
  },
  {
   "cell_type": "code",
   "execution_count": 111,
   "id": "d49e54e9-cb47-4185-bdbd-11bdc381d875",
   "metadata": {},
   "outputs": [],
   "source": [
    "# Argument type is assumed as type: Any\n",
    "def foo(x: ...) -> None:\n",
    "              ..."
   ]
  },
  {
   "cell_type": "code",
   "execution_count": 112,
   "id": "26c85be9-486c-43d1-bbd0-8353ef52ba14",
   "metadata": {},
   "outputs": [
    {
     "data": {
      "text/plain": [
       "function"
      ]
     },
     "execution_count": 112,
     "metadata": {},
     "output_type": "execute_result"
    }
   ],
   "source": [
    "type(foo)"
   ]
  },
  {
   "cell_type": "markdown",
   "id": "1a6cb211-f0a1-4f07-ad52-7e61d3f47e28",
   "metadata": {},
   "source": [
    "Write a Python program that creates a custom class with an 'init' method. Use 'ellipsis' to indicate that some attributes may be added dynamically."
   ]
  },
  {
   "cell_type": "code",
   "execution_count": 113,
   "id": "b54105be-a3e0-4a0c-8791-a5f35f6c655c",
   "metadata": {},
   "outputs": [
    {
     "name": "stdout",
     "output_type": "stream",
     "text": [
      "Attribute 1: Red\n",
      "Attribute 2: Green\n",
      "Attribute 3: White\n",
      "Attribute 4: Ellipsis\n",
      "Modified Attribute 4: Orange\n"
     ]
    }
   ],
   "source": [
    "class MyClass:\n",
    "    def __init__(self, attribute1, attribute2, attribute3, attribute4=...):\n",
    "        self.attribute1 = attribute1\n",
    "        self.attribute2 = attribute2\n",
    "        self.attribute3 = attribute3\n",
    "        self.attribute4 = attribute4\n",
    "\n",
    "    def set_attribute4(self, value):\n",
    "        self.attribute4 = value\n",
    "\n",
    "obj = MyClass(\"Red\", \"Green\", \"White\")\n",
    "\n",
    "print(\"Attribute 1:\", obj.attribute1)\n",
    "print(\"Attribute 2:\", obj.attribute2)\n",
    "print(\"Attribute 3:\", obj.attribute3)\n",
    "print(\"Attribute 4:\", obj.attribute4)  # Attribute 4 is represented by '...'\n",
    "\n",
    "# Dynamically add a value to attribute3\n",
    "obj.set_attribute4(\"Orange\")\n",
    "\n",
    "# Access and print the modified attribute3\n",
    "print(\"Modified Attribute 4:\", obj.attribute4)\n"
   ]
  },
  {
   "cell_type": "code",
   "execution_count": null,
   "id": "5042929d-ed11-4e19-abbf-ff149e9644d1",
   "metadata": {},
   "outputs": [],
   "source": []
  }
 ],
 "metadata": {
  "kernelspec": {
   "display_name": "Python 3 (ipykernel)",
   "language": "python",
   "name": "python3"
  },
  "language_info": {
   "codemirror_mode": {
    "name": "ipython",
    "version": 3
   },
   "file_extension": ".py",
   "mimetype": "text/x-python",
   "name": "python",
   "nbconvert_exporter": "python",
   "pygments_lexer": "ipython3",
   "version": "3.12.7"
  }
 },
 "nbformat": 4,
 "nbformat_minor": 5
}
