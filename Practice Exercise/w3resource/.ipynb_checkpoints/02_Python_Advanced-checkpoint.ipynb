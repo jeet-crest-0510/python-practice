{
 "cells": [
  {
   "cell_type": "markdown",
   "id": "6b69aa1a-46af-4445-96a8-f1e45f0f26da",
   "metadata": {},
   "source": [
    "Write a  Python function that performs matrix multiplication using list comprehensions."
   ]
  },
  {
   "cell_type": "code",
   "execution_count": 1,
   "id": "4d6aef2a-0bb7-41d8-a61c-9452864f3dd5",
   "metadata": {},
   "outputs": [],
   "source": [
    "A = [[1,2,3], [4,5,6]]\n",
    "B = [[1,2], [3,4], [5,6]]"
   ]
  },
  {
   "cell_type": "code",
   "execution_count": 2,
   "id": "3b73c325-ac6f-417a-bf35-11810dfeb390",
   "metadata": {},
   "outputs": [
    {
     "data": {
      "text/plain": [
       "[[1, 2, 3], [4, 5, 6]]"
      ]
     },
     "execution_count": 2,
     "metadata": {},
     "output_type": "execute_result"
    }
   ],
   "source": [
    "A"
   ]
  },
  {
   "cell_type": "code",
   "execution_count": 3,
   "id": "f1301d21-304e-425e-b60b-c11344e4ac7d",
   "metadata": {},
   "outputs": [
    {
     "data": {
      "text/plain": [
       "[[1, 2], [3, 4], [5, 6]]"
      ]
     },
     "execution_count": 3,
     "metadata": {},
     "output_type": "execute_result"
    }
   ],
   "source": [
    "B"
   ]
  },
  {
   "cell_type": "code",
   "execution_count": 14,
   "id": "2749d46e-3742-4a06-801b-5172e6763bb7",
   "metadata": {},
   "outputs": [],
   "source": [
    "def matrix_mul(A,B):\n",
    "    if len(A[0]) != len(B):\n",
    "        raise ValueError(\"Number of columns in A must equal number of rows in B\")\n",
    "        \n",
    "    result = [[sum(A[i][k]*B[k][j] for k in range(len(B))) for j in range(len(B[0]))] for i in range(len(A))]\n",
    "    \n",
    "    return result"
   ]
  },
  {
   "cell_type": "code",
   "execution_count": 15,
   "id": "8f59349a-bff0-4659-ac10-6be3013c9a39",
   "metadata": {},
   "outputs": [
    {
     "name": "stdout",
     "output_type": "stream",
     "text": [
      "[[22, 28], [49, 64]]\n"
     ]
    }
   ],
   "source": [
    "print(matrix_mul(A,B))"
   ]
  },
  {
   "cell_type": "markdown",
   "id": "0933b9aa-e76d-4f26-8aed-a232898c2899",
   "metadata": {},
   "source": [
    "Write a Python program to create a class-based decorator that logs the execution time of methods."
   ]
  },
  {
   "cell_type": "code",
   "execution_count": 18,
   "id": "19b31af3-2280-41ba-95d6-b2d59d995d33",
   "metadata": {},
   "outputs": [
    {
     "name": "stdout",
     "output_type": "stream",
     "text": [
      "Execution time of example_method: 0.1316 seconds\n"
     ]
    }
   ],
   "source": [
    "import time  \n",
    "\n",
    "class LogExecutionTime:  # Define a class for the decorator\n",
    "    def __init__(self, func):  # Initialize the decorator with the function to be decorated\n",
    "        self.func = func  # Store the function to be decorated\n",
    "\n",
    "    def __get__(self, instance, owner):  # Define the descriptor method to handle instance methods\n",
    "        return lambda *args, **kwargs: self(instance)  # Return a lambda that passes the instance\n",
    "\n",
    "    def __call__(self, instance):  # Make the class instance callable\n",
    "        start_time = time.time() \n",
    "        result = self.func(instance)  # Call the original function with its arguments\n",
    "        end_time = time.time() \n",
    "        execution_time = end_time - start_time  \n",
    "        print(f\"Execution time of {self.func.__name__}: {execution_time:.4f} seconds\")  \n",
    "        return result \n",
    "\n",
    "\n",
    "class ExampleClass:  # Define an example class to demonstrate the decorator\n",
    "    @LogExecutionTime  # Apply the decorator to the method\n",
    "    def example_method(self):  # Define a method in the class\n",
    "        for _ in range(1000000):  # A sample computation to add some delay\n",
    "            pass  \n",
    "\n",
    "example = ExampleClass()  # Create an instance of the ExampleClass\n",
    "example.example_method()  # Call the decorated method to see the execution time log\n"
   ]
  },
  {
   "cell_type": "code",
   "execution_count": null,
   "id": "30f18bef-729b-4412-a633-710d0da3047c",
   "metadata": {},
   "outputs": [],
   "source": []
  }
 ],
 "metadata": {
  "kernelspec": {
   "display_name": "Python 3 (ipykernel)",
   "language": "python",
   "name": "python3"
  },
  "language_info": {
   "codemirror_mode": {
    "name": "ipython",
    "version": 3
   },
   "file_extension": ".py",
   "mimetype": "text/x-python",
   "name": "python",
   "nbconvert_exporter": "python",
   "pygments_lexer": "ipython3",
   "version": "3.12.7"
  }
 },
 "nbformat": 4,
 "nbformat_minor": 5
}
