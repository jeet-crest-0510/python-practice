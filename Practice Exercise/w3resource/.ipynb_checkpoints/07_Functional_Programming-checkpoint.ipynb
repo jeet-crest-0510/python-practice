{
 "cells": [
  {
   "cell_type": "markdown",
   "id": "2c56081b-479c-470d-bfdd-b74205858c65",
   "metadata": {},
   "source": [
    " Write a Python program that invokes a function after a specified period of time."
   ]
  },
  {
   "cell_type": "code",
   "execution_count": 1,
   "id": "483bfa7b-e8f0-47ea-95b7-e4c75ddc1cd5",
   "metadata": {},
   "outputs": [],
   "source": [
    "def cube(n):\n",
    "    return n**3"
   ]
  },
  {
   "cell_type": "code",
   "execution_count": 2,
   "id": "def076a6-a1aa-4788-96cb-0c567881f831",
   "metadata": {},
   "outputs": [],
   "source": [
    "import time"
   ]
  },
  {
   "cell_type": "code",
   "execution_count": 3,
   "id": "956bcb33-d7c3-4f3c-bbd2-66b5da3df7e5",
   "metadata": {},
   "outputs": [
    {
     "name": "stdout",
     "output_type": "stream",
     "text": [
      "Cube of 1: 1\n",
      "Cube of 2: 8\n",
      "Cube of 3: 27\n",
      "Cube of 4: 64\n",
      "Cube of 5: 125\n"
     ]
    }
   ],
   "source": [
    "list1 = [1,2,3,4,5]\n",
    "\n",
    "for l in list1:\n",
    "    print(f\"Cube of {l}: {cube(l)}\")\n",
    "    time.sleep(2)"
   ]
  },
  {
   "cell_type": "markdown",
   "id": "360ea45f-84e9-4a29-b7c8-af300c7f1e71",
   "metadata": {},
   "source": [
    "Write a Python program to remove None values from a given list using the lambda function."
   ]
  },
  {
   "cell_type": "code",
   "execution_count": 4,
   "id": "dd585411-edd8-468d-9ad9-80775d05cbfd",
   "metadata": {},
   "outputs": [],
   "source": [
    "def removeNone(List):\n",
    "    result = []\n",
    "    result += filter(lambda x: x is not None, List)\n",
    "    return result"
   ]
  },
  {
   "cell_type": "code",
   "execution_count": 5,
   "id": "6a0979e8-e9c0-4f29-b6dd-d49d9e902131",
   "metadata": {},
   "outputs": [],
   "source": [
    "list1 = [1, 2, None, 4, 5, None]"
   ]
  },
  {
   "cell_type": "code",
   "execution_count": 6,
   "id": "d82a8036-dae0-4cdf-870c-43b79803b262",
   "metadata": {},
   "outputs": [
    {
     "data": {
      "text/plain": [
       "[1, 2, None, 4, 5, None]"
      ]
     },
     "execution_count": 6,
     "metadata": {},
     "output_type": "execute_result"
    }
   ],
   "source": [
    "list1"
   ]
  },
  {
   "cell_type": "code",
   "execution_count": 7,
   "id": "837fb03a-8a94-4a21-b673-ec77c5e227c2",
   "metadata": {},
   "outputs": [
    {
     "name": "stdout",
     "output_type": "stream",
     "text": [
      "[1, 2, 4, 5]\n"
     ]
    }
   ],
   "source": [
    "print(removeNone(list1))"
   ]
  },
  {
   "cell_type": "markdown",
   "id": "12616351-f23d-493a-9009-390abd6e7063",
   "metadata": {},
   "source": [
    "Write a Python program to convert a given list of tuples to a list of strings using the map function."
   ]
  },
  {
   "cell_type": "code",
   "execution_count": 8,
   "id": "9ffee172-e906-49ca-90ac-9d3cdde0a40c",
   "metadata": {},
   "outputs": [],
   "source": [
    "def tuple_to_str(List):\n",
    "    result = []\n",
    "    result += map(lambda l: str(l[0] + \" \"+ l[1]),List)\n",
    "    return result"
   ]
  },
  {
   "cell_type": "code",
   "execution_count": 9,
   "id": "e68d3377-bcb5-4165-9645-30a8ee00a9ef",
   "metadata": {},
   "outputs": [],
   "source": [
    "listT = [('red', 'pink'), ('white', 'black'), ('orange', 'green')]"
   ]
  },
  {
   "cell_type": "code",
   "execution_count": 10,
   "id": "5b9325c4-2b2a-43d9-bf0c-e1a0aa83318b",
   "metadata": {},
   "outputs": [
    {
     "data": {
      "text/plain": [
       "[('red', 'pink'), ('white', 'black'), ('orange', 'green')]"
      ]
     },
     "execution_count": 10,
     "metadata": {},
     "output_type": "execute_result"
    }
   ],
   "source": [
    "listT"
   ]
  },
  {
   "cell_type": "code",
   "execution_count": 11,
   "id": "dc969eac-eedd-4f89-b1fa-774c16465ae5",
   "metadata": {},
   "outputs": [
    {
     "name": "stdout",
     "output_type": "stream",
     "text": [
      "['red pink', 'white black', 'orange green']\n"
     ]
    }
   ],
   "source": [
    "print(tuple_to_str(listT))"
   ]
  },
  {
   "cell_type": "markdown",
   "id": "1c64b6be-7255-49af-8726-9ffa43de4732",
   "metadata": {},
   "source": [
    "Write a  Python program to extract a non-zero block from a given integer list."
   ]
  },
  {
   "cell_type": "code",
   "execution_count": 12,
   "id": "73f652b9-5d23-45b6-a4c2-9cafc1c75014",
   "metadata": {},
   "outputs": [],
   "source": [
    "import itertools"
   ]
  },
  {
   "cell_type": "code",
   "execution_count": 13,
   "id": "068311f9-7850-4aa1-8e2f-28064b2fa286",
   "metadata": {},
   "outputs": [
    {
     "name": "stdout",
     "output_type": "stream",
     "text": [
      "[3, 4, 6, 2, 0, 0, 0, 0, 0, 0, 6, 7, 6, 9, 10, 0, 0, 0, 0, 0, 7, 4, 4, 0, 0, 0, 0, 0, 0, 5, 3, 2, 9, 7, 1]\n"
     ]
    }
   ],
   "source": [
    "nums = [3,4,6,2,0,0,0,0,0,0,6,7,6,9,10,0,0,0,0,0,7,4,4,0,0,0,0,0,0,5,3,2,9,7,1]\n",
    "print(nums)"
   ]
  },
  {
   "cell_type": "code",
   "execution_count": 14,
   "id": "3a003176-1462-4af9-b5c5-7e8ef854af0e",
   "metadata": {},
   "outputs": [],
   "source": [
    "result = [ list(x[1]) for x in itertools.groupby(nums, lambda x: x==0) if not x[0]]"
   ]
  },
  {
   "cell_type": "code",
   "execution_count": 15,
   "id": "bcd36fbe-75fb-485e-a4d5-a40c0461564d",
   "metadata": {},
   "outputs": [],
   "source": [
    "result = [ list(tuple(x[1])) for x in itertools.groupby(nums, lambda x: x==0) if not x[0]]"
   ]
  },
  {
   "cell_type": "code",
   "execution_count": 16,
   "id": "e62bc157-a656-4acf-aec2-ac2d200fd248",
   "metadata": {},
   "outputs": [
    {
     "data": {
      "text/plain": [
       "[[3, 4, 6, 2], [6, 7, 6, 9, 10], [7, 4, 4], [5, 3, 2, 9, 7, 1]]"
      ]
     },
     "execution_count": 16,
     "metadata": {},
     "output_type": "execute_result"
    }
   ],
   "source": [
    "result"
   ]
  },
  {
   "cell_type": "code",
   "execution_count": 17,
   "id": "bab68f2d-aba8-4685-8f38-2507ae8be707",
   "metadata": {},
   "outputs": [],
   "source": [
    "res = itertools.groupby(nums, lambda x : x == 0)"
   ]
  },
  {
   "cell_type": "code",
   "execution_count": 18,
   "id": "6287682a-98ab-412a-8da7-635cf451380b",
   "metadata": {},
   "outputs": [],
   "source": [
    "result = [ tuple(x[1]) for x in res if not x[0] ]"
   ]
  },
  {
   "cell_type": "code",
   "execution_count": 19,
   "id": "9513c022-8742-42be-b84e-76a2a0771e29",
   "metadata": {},
   "outputs": [
    {
     "data": {
      "text/plain": [
       "[(3, 4, 6, 2), (6, 7, 6, 9, 10), (7, 4, 4), (5, 3, 2, 9, 7, 1)]"
      ]
     },
     "execution_count": 19,
     "metadata": {},
     "output_type": "execute_result"
    }
   ],
   "source": [
    "result"
   ]
  },
  {
   "cell_type": "code",
   "execution_count": 20,
   "id": "1bf12a77-fab3-4a8f-a8f8-c80294cfed2e",
   "metadata": {},
   "outputs": [
    {
     "name": "stdout",
     "output_type": "stream",
     "text": [
      "[3, 4, 6, 2, 0, 0, 0, 0, 0, 0, 6, 7, 6, 9, 10, 0, 0, 0, 0, 0, 7, 4, 4, 0, 0, 0, 0, 0, 0, 5, 3, 2, 9, 7, 1]\n"
     ]
    }
   ],
   "source": [
    "nums = [3,4,6,2,0,0,0,0,0,0,6,7,6,9,10,0,0,0,0,0,7,4,4,0,0,0,0,0,0,5,3,2,9,7,1]\n",
    "print(nums)"
   ]
  },
  {
   "cell_type": "code",
   "execution_count": 21,
   "id": "0ccfdd4e-c9af-4cd7-b62f-77cbe077a01b",
   "metadata": {},
   "outputs": [],
   "source": [
    "res = itertools.groupby(nums, lambda x : x == 0)"
   ]
  },
  {
   "cell_type": "code",
   "execution_count": 22,
   "id": "28a7f910-3c52-4cd0-82fa-c749c6f2cf47",
   "metadata": {},
   "outputs": [],
   "source": [
    "result = [[v for v in x[1]] for x in res if not x[0] ]"
   ]
  },
  {
   "cell_type": "code",
   "execution_count": 23,
   "id": "980c5e29-e7e8-4ebb-ab26-4b0ea333b669",
   "metadata": {},
   "outputs": [
    {
     "data": {
      "text/plain": [
       "[[3, 4, 6, 2], [6, 7, 6, 9, 10], [7, 4, 4], [5, 3, 2, 9, 7, 1]]"
      ]
     },
     "execution_count": 23,
     "metadata": {},
     "output_type": "execute_result"
    }
   ],
   "source": [
    "result"
   ]
  },
  {
   "cell_type": "markdown",
   "id": "43659c80-9911-4f99-a7a8-49f8742bf4aa",
   "metadata": {},
   "source": [
    "Write a Python program that creates a list of tuples, each containing a city name and its population. Use the filter function to extract cities with a population greater than 2 million."
   ]
  },
  {
   "cell_type": "code",
   "execution_count": 28,
   "id": "5ae81bae-6cea-4943-9292-6dc4f5a37ebd",
   "metadata": {},
   "outputs": [],
   "source": [
    "cities = [\n",
    "    (\"New York\", 8500000),\n",
    "    (\"Los Angeles\", 4000000),\n",
    "    (\"Chicago\", 2700000),\n",
    "    (\"Houston\", 2300000),\n",
    "    (\"Phoenix\", 1600000),\n",
    "    (\"Philadelphia\", 1500000),\n",
    "    (\"San Antonio\", 1500000),\n",
    "]"
   ]
  },
  {
   "cell_type": "code",
   "execution_count": 29,
   "id": "37b80b62-27eb-45ec-9797-f46f0b478423",
   "metadata": {},
   "outputs": [],
   "source": [
    "filtered_data = filter(lambda x: x[1] > 2000000, cities)"
   ]
  },
  {
   "cell_type": "code",
   "execution_count": 30,
   "id": "56903177-e68c-46eb-bbec-ae4d71dc095c",
   "metadata": {},
   "outputs": [
    {
     "data": {
      "text/plain": [
       "[('New York', 8500000),\n",
       " ('Los Angeles', 4000000),\n",
       " ('Chicago', 2700000),\n",
       " ('Houston', 2300000)]"
      ]
     },
     "execution_count": 30,
     "metadata": {},
     "output_type": "execute_result"
    }
   ],
   "source": [
    "list(filtered_data)"
   ]
  },
  {
   "cell_type": "code",
   "execution_count": null,
   "id": "dd1105e9-61c0-4c2d-9170-510833602ecb",
   "metadata": {},
   "outputs": [],
   "source": []
  },
  {
   "cell_type": "code",
   "execution_count": null,
   "id": "ba916ebd-5b78-435a-8123-a19c33bf77bc",
   "metadata": {},
   "outputs": [],
   "source": []
  }
 ],
 "metadata": {
  "kernelspec": {
   "display_name": "Python 3 (ipykernel)",
   "language": "python",
   "name": "python3"
  },
  "language_info": {
   "codemirror_mode": {
    "name": "ipython",
    "version": 3
   },
   "file_extension": ".py",
   "mimetype": "text/x-python",
   "name": "python",
   "nbconvert_exporter": "python",
   "pygments_lexer": "ipython3",
   "version": "3.12.7"
  }
 },
 "nbformat": 4,
 "nbformat_minor": 5
}
