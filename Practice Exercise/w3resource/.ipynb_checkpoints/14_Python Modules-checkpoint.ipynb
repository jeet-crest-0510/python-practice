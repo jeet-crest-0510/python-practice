{
 "cells": [
  {
   "cell_type": "markdown",
   "id": "f9fc4a43-e13a-4181-8e17-43b3ab9f94e7",
   "metadata": {
    "jp-MarkdownHeadingCollapsed": true
   },
   "source": [
    "# Built-in Modules"
   ]
  },
  {
   "cell_type": "markdown",
   "id": "fadf4096-77b7-4fde-8640-22a1a6b42c80",
   "metadata": {},
   "source": [
    "Write a Python program to set a random seed and get a random number between 0 and 1. Use random.random."
   ]
  },
  {
   "cell_type": "code",
   "execution_count": 1,
   "id": "0c4dc0c0-37a0-436a-beeb-c8a980eaf481",
   "metadata": {},
   "outputs": [],
   "source": [
    "import random"
   ]
  },
  {
   "cell_type": "code",
   "execution_count": 29,
   "id": "6a1b1c75-5f3f-46f2-b5d9-06a4099345fd",
   "metadata": {},
   "outputs": [],
   "source": [
    "random.seed(2)\n",
    "num = random.random()"
   ]
  },
  {
   "cell_type": "code",
   "execution_count": 30,
   "id": "916b9e67-7948-4ec6-8e23-fee64464280d",
   "metadata": {},
   "outputs": [
    {
     "data": {
      "text/plain": [
       "0.9560342718892494"
      ]
     },
     "execution_count": 30,
     "metadata": {},
     "output_type": "execute_result"
    }
   ],
   "source": [
    "num"
   ]
  },
  {
   "cell_type": "code",
   "execution_count": 31,
   "id": "e7996b34-4795-4338-8ca6-068af23ce2fd",
   "metadata": {},
   "outputs": [],
   "source": [
    "import types"
   ]
  },
  {
   "cell_type": "code",
   "execution_count": 32,
   "id": "20b31dd4-4950-4760-888f-d687302b91c5",
   "metadata": {},
   "outputs": [
    {
     "name": "stdout",
     "output_type": "stream",
     "text": [
      "<class 'function'>\n"
     ]
    }
   ],
   "source": [
    "print(types.FunctionType)"
   ]
  },
  {
   "cell_type": "markdown",
   "id": "744542ca-104c-4fd8-b589-a786d5664775",
   "metadata": {},
   "source": [
    "Write a Python program to check if a function is a user-defined function or not. Use types.FunctionType, types.LambdaType()"
   ]
  },
  {
   "cell_type": "code",
   "execution_count": 33,
   "id": "efa39a1d-7153-4afd-97b1-a03d330e07cd",
   "metadata": {},
   "outputs": [
    {
     "name": "stdout",
     "output_type": "stream",
     "text": [
      "True\n",
      "True\n",
      "True\n",
      "True\n",
      "False\n",
      "False\n",
      "False\n",
      "False\n"
     ]
    }
   ],
   "source": [
    "import types\n",
    "def func(): \n",
    "    return 1\n",
    "\n",
    "print(isinstance(func, types.FunctionType))\n",
    "print(isinstance(func, types.LambdaType))\n",
    "print(isinstance(lambda x: x, types.FunctionType))\n",
    "print(isinstance(lambda x: x, types.LambdaType))\n",
    "print(isinstance(max, types.FunctionType))\n",
    "print(isinstance(max, types.LambdaType))\n",
    "print(isinstance(abs, types.FunctionType))\n",
    "print(isinstance(abs, types.LambdaType))"
   ]
  },
  {
   "cell_type": "markdown",
   "id": "f2c41eea-7ecd-44d6-a534-7039944c970a",
   "metadata": {},
   "source": [
    "Write a Python program to check if a given value is compiled code or not. Also check if a given value is a module or not. Use types.CodeType, types.ModuleType()"
   ]
  },
  {
   "cell_type": "code",
   "execution_count": 35,
   "id": "59df73ce-e3de-49a9-a15a-5c38e3063884",
   "metadata": {},
   "outputs": [
    {
     "name": "stdout",
     "output_type": "stream",
     "text": [
      "Check if a given value is compiled code:\n",
      "True\n",
      "False\n",
      "\n",
      "Check if a given value is a module:\n",
      "True\n"
     ]
    }
   ],
   "source": [
    "import types\n",
    "\n",
    "print(\"Check if a given value is compiled code:\")\n",
    "\n",
    "code = compile(\"print('Hello')\", \"sample\", \"exec\")\n",
    "print(isinstance(code, types.CodeType))\n",
    "print(isinstance(\"print(abs(-111))\", types.CodeType))\n",
    "\n",
    "print(\"\\nCheck if a given value is a module:\")\n",
    "print(isinstance(types, types.ModuleType))"
   ]
  },
  {
   "cell_type": "markdown",
   "id": "1eb6878c-6263-4519-a853-2ea9710ed954",
   "metadata": {},
   "source": [
    "Write a  Python program to construct a Decimal from a float and a Decimal from a string. Also represent the decimal value as a tuple. Use decimal.Decimal"
   ]
  },
  {
   "cell_type": "code",
   "execution_count": 37,
   "id": "c602fcdc-3795-46b0-a0c2-7b5f591ff19c",
   "metadata": {},
   "outputs": [
    {
     "name": "stdout",
     "output_type": "stream",
     "text": [
      "Construct a Decimal from a float:\n",
      "3.14158999999999988261834005243144929409027099609375\n",
      "DecimalTuple(sign=0, digits=(3, 1, 4, 1, 5, 8, 9, 9, 9, 9, 9, 9, 9, 9, 9, 9, 8, 8, 2, 6, 1, 8, 3, 4, 0, 0, 5, 2, 4, 3, 1, 4, 4, 9, 2, 9, 4, 0, 9, 0, 2, 7, 0, 9, 9, 6, 0, 9, 3, 7, 5), exponent=-50)\n",
      "\n",
      "Construct a Decimal from a string:\n",
      "123.25\n",
      "DecimalTuple(sign=0, digits=(1, 2, 3, 2, 5), exponent=-2)\n"
     ]
    }
   ],
   "source": [
    "import decimal\n",
    "\n",
    "print(\"Construct a Decimal from a float:\")\n",
    "pi_val = decimal.Decimal(3.14159)\n",
    "print(pi_val)\n",
    "\n",
    "print(pi_val.as_tuple())\n",
    "\n",
    "print(\"\\nConstruct a Decimal from a string:\")\n",
    "num_str = decimal.Decimal(\"123.25\")\n",
    "print(num_str)\n",
    "\n",
    "print(num_str.as_tuple())"
   ]
  },
  {
   "cell_type": "markdown",
   "id": "626c162e-79f7-4a82-9bb1-43835ca58c2b",
   "metadata": {},
   "source": [
    "Write a  Python program to display a given decimal value in scientific notation. Use decimal.Decimal"
   ]
  },
  {
   "cell_type": "code",
   "execution_count": 39,
   "id": "e14e707e-f288-4e47-8963-837dc485ee49",
   "metadata": {},
   "outputs": [
    {
     "name": "stdout",
     "output_type": "stream",
     "text": [
      "Original decimal value: 40800000000.00000000000000\n",
      "Scientific notation of the said decimal value:\n",
      "4.080000E+10\n",
      "4.08E+10\n",
      "\n",
      "Original decimal value: 40000000000.00000000000000\n",
      "Scientific notation of the said decimal value:\n",
      "4.000000E+10\n",
      "4E+10\n",
      "\n",
      "Original decimal value: 40812300000.00000000000000\n",
      "Scientific notation of the said decimal value:\n",
      "4.081230E+10\n",
      "4.08123E+10\n"
     ]
    }
   ],
   "source": [
    "import decimal\n",
    "\n",
    "def format_e(n):\n",
    "    a = '%E' % n\n",
    "    print(a)\n",
    "    return a.split('E')[0].rstrip('0').rstrip('.') + 'E' + a.split('E')[1]\n",
    "\n",
    "print(\"Original decimal value: \"+ \"40800000000.00000000000000\")\n",
    "print(\"Scientific notation of the said decimal value:\")\n",
    "print(format_e(decimal.Decimal('40800000000.00000000000000')))\n",
    "\n",
    "print(\"\\nOriginal decimal value: \"+ \"40000000000.00000000000000\")\n",
    "print(\"Scientific notation of the said decimal value:\")\n",
    "print(format_e(decimal.Decimal('40000000000.00000000000000')))\n",
    "\n",
    "print(\"\\nOriginal decimal value: \"+ \"40812300000.00000000000000\")\n",
    "print(\"Scientific notation of the said decimal value:\")\n",
    "print(format_e(decimal.Decimal('40812300000.00000000000000')))\n"
   ]
  },
  {
   "cell_type": "markdown",
   "id": "019cc9ba-70ad-4179-8648-9556f71ed894",
   "metadata": {},
   "source": [
    "Write a  Python program to create a shallow copy of a given list. Use copy.copy"
   ]
  },
  {
   "cell_type": "code",
   "execution_count": 40,
   "id": "e560b3a6-ce32-4a2a-805f-91d603b8d4d2",
   "metadata": {},
   "outputs": [
    {
     "name": "stdout",
     "output_type": "stream",
     "text": [
      "Original list:  [1, [2, 3, 4]]\n",
      "\n",
      "Copy of the said list:\n",
      "[1, [2, 3, 4]]\n",
      "\n",
      "Change the value of an element of the original list:\n",
      "[1, [2, 10, 4]]\n",
      "\n",
      "Second list:\n",
      "[1, [2, 10, 4]]\n",
      "\n",
      "Original list:\n",
      "[[1], [2]]\n",
      "\n",
      "Copy of the said list:\n",
      "[[1], [2]]\n",
      "\n",
      "Change the value of an element of the original list:\n",
      "\n",
      "First list:\n",
      "[[0], [2]]\n",
      "\n",
      "Second list:\n",
      "[[0], [2]]\n"
     ]
    }
   ],
   "source": [
    "import copy\n",
    "\n",
    "nums_x = [1, [2, 3, 4]]\n",
    "print(\"Original list: \", nums_x)\n",
    "\n",
    "nums_y = copy.copy(nums_x)\n",
    "print(\"\\nCopy of the said list:\")\n",
    "print(nums_y)\n",
    "\n",
    "print(\"\\nChange the value of an element of the original list:\")\n",
    "nums_x[1][1] = 10\n",
    "print(nums_x)\n",
    "print(\"\\nSecond list:\")\n",
    "print(nums_y)\n",
    "\n",
    "nums =  [[1], [2]]\n",
    "nums_copy = copy.copy(nums)\n",
    "print(\"\\nOriginal list:\")\n",
    "print(nums)\n",
    "print(\"\\nCopy of the said list:\")\n",
    "print(nums_copy)\n",
    "\n",
    "print(\"\\nChange the value of an element of the original list:\")\n",
    "nums[0][0] = 0\n",
    "print(\"\\nFirst list:\")\n",
    "print(nums)\n",
    "print(\"\\nSecond list:\")\n",
    "print(nums_copy)\n"
   ]
  },
  {
   "cell_type": "markdown",
   "id": "670f8d70-caf9-428f-adf6-37d75e0520c8",
   "metadata": {},
   "source": [
    "Write a Python program to create a deep copy of a given list. Use copy.copy"
   ]
  },
  {
   "cell_type": "code",
   "execution_count": 41,
   "id": "7c95f4fd-60cd-421c-803f-86dfcb2810c2",
   "metadata": {},
   "outputs": [
    {
     "name": "stdout",
     "output_type": "stream",
     "text": [
      "Original list:  [1, [2, 3, 4]]\n",
      "\n",
      "Deep copy of the said list:\n",
      "[1, [2, 3, 4]]\n",
      "\n",
      "Change the value of an element of the original list:\n",
      "[1, [2, 10, 4]]\n",
      "\n",
      "Copy of the second list (Deep copy):\n",
      "[1, [2, 3, 4]]\n",
      "\n",
      "Original list:\n",
      "[[1, 2, 3], [4, 5, 6]]\n",
      "\n",
      "Deep copy of the said list:\n",
      "[[1, 2, 3], [4, 5, 6]]\n",
      "\n",
      "Change the value of some elements of the original list:\n",
      "\n",
      "Original list:\n",
      "[[1, 2, 55], [4, 77, 6]]\n",
      "\n",
      "Second list (Deep copy):\n",
      "[[1, 2, 3], [4, 5, 6]]\n"
     ]
    }
   ],
   "source": [
    "import copy\n",
    "\n",
    "nums_x = [1, [2, 3, 4]]\n",
    "print(\"Original list: \", nums_x)\n",
    "\n",
    "nums_y = copy.deepcopy(nums_x)\n",
    "print(\"\\nDeep copy of the said list:\")\n",
    "print(nums_y)\n",
    "\n",
    "print(\"\\nChange the value of an element of the original list:\")\n",
    "nums_x[1][1] = 10\n",
    "print(nums_x)\n",
    "print(\"\\nCopy of the second list (Deep copy):\")\n",
    "print(nums_y)\n",
    "\n",
    "nums = [[1, 2, 3], [4, 5, 6]]\n",
    "deep_copy = copy.deepcopy(nums)\n",
    "\n",
    "print(\"\\nOriginal list:\")\n",
    "print(nums)\n",
    "print(\"\\nDeep copy of the said list:\")\n",
    "print(deep_copy)\n",
    "\n",
    "print(\"\\nChange the value of some elements of the original list:\")\n",
    "nums[0][2] = 55\n",
    "nums[1][1] = 77\n",
    "\n",
    "print(\"\\nOriginal list:\")\n",
    "print(nums)\n",
    "print(\"\\nSecond list (Deep copy):\")\n",
    "print(deep_copy)\n"
   ]
  },
  {
   "cell_type": "markdown",
   "id": "1394a108-f91e-4f12-93ee-7141ae4bf730",
   "metadata": {},
   "source": [
    "Write a Python program to write dictionaries and a list of dictionaries to a given CSV file. Use csv.reader"
   ]
  },
  {
   "cell_type": "code",
   "execution_count": 42,
   "id": "899b1a33-9acf-4496-8614-61fdc3c72673",
   "metadata": {},
   "outputs": [],
   "source": [
    "import csv"
   ]
  },
  {
   "cell_type": "code",
   "execution_count": 45,
   "id": "6229a441-8719-4d89-ae9f-a0975b6ec175",
   "metadata": {},
   "outputs": [],
   "source": [
    "with open('14_modules.csv','w', newline='') as f:\n",
    "    writer = csv.DictWriter(f, fieldnames=[\"name\", \"city\"])\n",
    "    writer.writeheader()\n",
    "    writer.writerow({\"name\":\"Jeet\", \"city\": \"anjar\"})\n",
    "    writer.writerow({\"city\":\"anand\", \"name\":\"jay\"})"
   ]
  },
  {
   "cell_type": "code",
   "execution_count": 46,
   "id": "a08e810e-0513-471e-aa98-2c29906dd2be",
   "metadata": {},
   "outputs": [
    {
     "name": "stdout",
     "output_type": "stream",
     "text": [
      "['name', 'city']\n",
      "['Jeet', 'anjar']\n",
      "['jay', 'anand']\n"
     ]
    }
   ],
   "source": [
    "with open('14_modules.csv','r') as f:\n",
    "    reader = csv.reader(f)\n",
    "    for r in reader:\n",
    "        print(r)"
   ]
  },
  {
   "cell_type": "markdown",
   "id": "f698ac0e-bdc6-4da5-9bdb-12130682f173",
   "metadata": {
    "jp-MarkdownHeadingCollapsed": true
   },
   "source": [
    "# Python Operating System Services, Python Math, Python Requests"
   ]
  },
  {
   "cell_type": "markdown",
   "id": "14190059-a3bc-4669-8f1b-ff89af48079e",
   "metadata": {},
   "source": [
    "Write a Python program to get the name of the operating system (Platform independent), information of the current operating system, current working directory, print files and directories in the current directory, and raise errors if the path or file name is invalid."
   ]
  },
  {
   "cell_type": "code",
   "execution_count": 51,
   "id": "9a3ab5c0-8d5e-4797-80dd-9f0dc8f90d5c",
   "metadata": {},
   "outputs": [
    {
     "name": "stdout",
     "output_type": "stream",
     "text": [
      "Operating System: nt\n",
      "\n",
      "Current Working Directory:  C:\\Users\\JeetPrajapati\\Desktop\\Learning\\Python Practice\\python-practice\\Practice Exercise\\w3resource\n",
      "\n",
      "List of files and directories in the current directory:\n",
      "['.ipynb_checkpoints', '01_Python_Basics.ipynb', '02_Python_Advanced.ipynb', '03_Python_Control_Flow.ipynb', '04_Python_Datatypes.ipynb', '05_Classes.ipynb', '06_Python_Concepts.ipynb', '06_unittest.py', '07_Functional_Programming.ipynb', '08_Date and Time.ipynb', '09_File Handling.ipynb', '09_file1.txt', '09_file2.csv', '10_Regular Expression.ipynb', '11_Data Structures and Algorithms.ipynb', '12_Advanced Python Data Types.ipynb', '13_async1.py', '13_Concurrency and Threading.ipynb', '14_modules.csv', '14_Python Modules.ipynb']\n",
      "\n",
      "Test if a specified file exists or not:\n",
      "Not accessed or problem in reading: abc.txt\n"
     ]
    }
   ],
   "source": [
    "import os\n",
    "\n",
    "print(\"Operating System:\",os.name)\n",
    "# print(\"\\nInformation of current operating system: \",os.uname)\n",
    "print(\"\\nCurrent Working Directory: \",os.getcwd())\n",
    "print(\"\\nList of files and directories in the current directory:\")\n",
    "print(os.listdir('.'))\n",
    "print(\"\\nTest if a specified file exists or not:\")\n",
    "try:\n",
    "   filename = 'abc.txt'\n",
    "   f = open(filename, 'r')\n",
    "   text = f.read()\n",
    "   f.close()\n",
    "except IOError:\n",
    "   print('Not accessed or problem in reading: ' + filename)"
   ]
  },
  {
   "cell_type": "markdown",
   "id": "04e9055c-10ef-4bc9-a501-0d4806de2a5b",
   "metadata": {},
   "source": [
    "Write a  Python program to write a string to a buffer and retrieve the value written, at the end discard buffer memory."
   ]
  },
  {
   "cell_type": "code",
   "execution_count": 64,
   "id": "7b0f4ea6-fff1-4488-b595-863994c092ed",
   "metadata": {},
   "outputs": [
    {
     "name": "stdout",
     "output_type": "stream",
     "text": [
      "Python Exercises, Practice, Solution\n"
     ]
    }
   ],
   "source": [
    "import io\n",
    "# Write a string to a buffer\n",
    "output = io.StringIO()\n",
    "output.write('Python Exercises, Practice, Solution')\n",
    "\n",
    "# Retrieve the value written\n",
    "print(output.getvalue())\n",
    "\n",
    "# Discard buffer memory\n",
    "output.close()"
   ]
  },
  {
   "cell_type": "markdown",
   "id": "ff836ccc-b7a6-4def-99ca-59539ffb98d3",
   "metadata": {},
   "source": [
    "Write a  Python program to run an  operating system command using the OS module."
   ]
  },
  {
   "cell_type": "code",
   "execution_count": 68,
   "id": "b5a67544-3d8a-4d83-9376-e34708ba81fa",
   "metadata": {},
   "outputs": [
    {
     "data": {
      "text/plain": [
       "0"
      ]
     },
     "execution_count": 68,
     "metadata": {},
     "output_type": "execute_result"
    }
   ],
   "source": [
    "import os\n",
    "\n",
    "if os.name == \"nt\":\n",
    "    command = \"dir\"\n",
    "else:\n",
    "   command = \"ls -l\"\n",
    "\n",
    "os.system(command)\n"
   ]
  },
  {
   "cell_type": "markdown",
   "id": "8448f35d-95c8-400b-8f55-dbdc751f80e2",
   "metadata": {},
   "source": [
    "Write a Python program to calculate the sum of all prime numbers in a given list of positive integers."
   ]
  },
  {
   "cell_type": "code",
   "execution_count": 73,
   "id": "ca1f2700-983e-46a2-ac91-d1e7ba95ac96",
   "metadata": {},
   "outputs": [],
   "source": [
    "def isPrime(n):\n",
    "    if n == 1:\n",
    "        return False\n",
    "    for i in range(2,n//2 + 1):\n",
    "        if n%i == 0:\n",
    "            return False\n",
    "            \n",
    "    return True"
   ]
  },
  {
   "cell_type": "code",
   "execution_count": 78,
   "id": "73f56ee5-23ca-4e06-8f61-94a43e6c1d59",
   "metadata": {},
   "outputs": [
    {
     "name": "stdout",
     "output_type": "stream",
     "text": [
      "17\n"
     ]
    }
   ],
   "source": [
    "List = [1,2,3,4,5,6,7,8]\n",
    "sum1 = 0\n",
    "\n",
    "if List:\n",
    "    for x in List:\n",
    "        if isPrime(x):\n",
    "            sum1+=x\n",
    "    print(sum1)\n",
    "else:\n",
    "    print(\"List is Empty\")\n"
   ]
  },
  {
   "cell_type": "markdown",
   "id": "fbdad20a-d94c-49d0-991d-5e109461adb5",
   "metadata": {},
   "source": [
    "Write a  Python program that takes an integer and rearranges the digits to create two maximum and minimum numbers."
   ]
  },
  {
   "cell_type": "code",
   "execution_count": 85,
   "id": "e43614a7-19f9-42aa-ae48-af1e48f54481",
   "metadata": {},
   "outputs": [
    {
     "name": "stdout",
     "output_type": "stream",
     "text": [
      "Original number: 1254\n",
      "Rearrange the digits of the said number to get Maximum and Minimum numbers:\n",
      "Maximum and Minimum Numbers: (5421, 1245)\n",
      "\n",
      "Original number: 6\n",
      "Rearrange the digits of the said number to get Maximum and Minimum numbers:\n",
      "Maximum and Minimum Numbers: (6, 6)\n",
      "\n",
      "Original number: 1000\n",
      "Rearrange the digits of the said number to get Maximum and Minimum numbers:\n",
      "Maximum and Minimum Numbers: (1000, 1)\n"
     ]
    }
   ],
   "source": [
    "def test(n):\n",
    "    temp = []\n",
    "    for e in str(n):\n",
    "        temp.append(e)\n",
    "    max_num = \"\".join(sorted(temp)[::-1])\n",
    "    min_num = \"\".join(sorted(temp))        \n",
    "    return int(max_num), int(min_num)\n",
    "                                      \n",
    "n = 1254\n",
    "print(\"Original number:\", n)\n",
    "print(\"Rearrange the digits of the said number to get Maximum and Minimum numbers:\")\n",
    "print(\"Maximum and Minimum Numbers:\",test(n))\n",
    "\n",
    "n = 6\n",
    "print(\"\\nOriginal number:\", n)\n",
    "print(\"Rearrange the digits of the said number to get Maximum and Minimum numbers:\")\n",
    "print(\"Maximum and Minimum Numbers:\",test(n))\n",
    "\n",
    "n = 1000\n",
    "print(\"\\nOriginal number:\", n)\n",
    "print(\"Rearrange the digits of the said number to get Maximum and Minimum numbers:\")\n",
    "print(\"Maximum and Minimum Numbers:\",test(n))"
   ]
  },
  {
   "cell_type": "markdown",
   "id": "099c689e-6a36-4fec-8b5a-f4a385d5b67d",
   "metadata": {},
   "source": [
    "Write a Python program to find the Requests module version, licence, copyright information, author, author email, document url, title and description."
   ]
  },
  {
   "cell_type": "code",
   "execution_count": 87,
   "id": "0b4c01c3-42e2-4bcf-bd90-cac3939f3297",
   "metadata": {},
   "outputs": [
    {
     "name": "stdout",
     "output_type": "stream",
     "text": [
      "Python Requests module - version: 2.32.3\n",
      "Licence: Apache-2.0\n",
      "Copyright: Copyright Kenneth Reitz\n",
      "Author: Kenneth Reitz\n",
      "Author email: me@kennethreitz.org\n",
      "Document url, title, description:\n",
      "https://requests.readthedocs.io\n",
      "requests\n",
      "Python HTTP for Humans.\n"
     ]
    }
   ],
   "source": [
    "import requests\n",
    "\n",
    "print(\"Python Requests module - version:\",requests.__version__)\n",
    "print(\"Licence:\",requests. __license__)\n",
    "print(\"Copyright:\",requests.__copyright__)\n",
    "print(\"Author:\",requests.__author__)\n",
    "print(\"Author email:\",requests.__author_email__)\n",
    "print(\"Document url, title, description:\")\n",
    "print(requests.__url__)\n",
    "print(requests.__title__)\n",
    "print(requests.__description__)"
   ]
  },
  {
   "cell_type": "markdown",
   "id": "34d9a090-7da6-44ec-8c6a-6161937c26fa",
   "metadata": {},
   "source": [
    "Write a  Python program to check the status code issued by a  server in response to a client's request made to the server. Print all of the methods and attributes available to objects on a successful request.\n",
    "\n",
    "All HTTP response status codes are separated into five classes or categories. The first digit of the status code defines the class of response, while the last two digits do not have any classifying or categorization role. There are five classes defined by the standard:\n",
    "1xx informational response – the request was received, continuing process\n",
    "2xx successful – the request was successfully received, understood, and accepted\n",
    "3xx redirection – further action needs to be taken in order to complete the request\n",
    "4xx client error – the request contains bad syntax or cannot be fulfilled\n",
    "5xx server error – the server failed to fulfil an apparently valid request"
   ]
  },
  {
   "cell_type": "code",
   "execution_count": 88,
   "id": "428c8989-dfa5-433c-a149-22fcde286230",
   "metadata": {},
   "outputs": [
    {
     "name": "stdout",
     "output_type": "stream",
     "text": [
      "Response of https://google.com/:\n",
      "200\n",
      "Response of https://amazon.com/:\n",
      "503\n",
      "Response of https://w3resource.com/:\n",
      "200\n",
      "\n",
      "Methods and attributes available to objects on successful\n",
      "request of https://w3resource.com:\n",
      "\n",
      "['__attrs__', '__bool__', '__class__', '__delattr__', '__dict__', '__dir__', '__doc__', '__enter__', '__eq__', '__exit__', '__format__', '__ge__', '__getattribute__', '__getstate__', '__gt__', '__hash__', '__init__', '__init_subclass__', '__iter__', '__le__', '__lt__', '__module__', '__ne__', '__new__', '__nonzero__', '__reduce__', '__reduce_ex__', '__repr__', '__setattr__', '__setstate__', '__sizeof__', '__str__', '__subclasshook__', '__weakref__', '_content', '_content_consumed', '_next', 'apparent_encoding', 'close', 'connection', 'content', 'cookies', 'elapsed', 'encoding', 'headers', 'history', 'is_permanent_redirect', 'is_redirect', 'iter_content', 'iter_lines', 'json', 'links', 'next', 'ok', 'raise_for_status', 'raw', 'reason', 'request', 'status_code', 'text', 'url']\n"
     ]
    }
   ],
   "source": [
    "import requests\n",
    "\n",
    "res = requests.get('https://google.com/')\n",
    "print(\"Response of https://google.com/:\")\n",
    "print(res.status_code)\n",
    "res = requests.get('https://amazon.com/')\n",
    "print(\"Response of https://amazon.com/:\")\n",
    "print(res.status_code)\n",
    "res = requests.get('https://w3resource.com/')\n",
    "print(\"Response of https://w3resource.com/:\")\n",
    "print(res.status_code)\n",
    "print(\"\\nMethods and attributes available to objects on successful\\nrequest of https://w3resource.com:\\n\")\n",
    "print(dir(res)) "
   ]
  },
  {
   "cell_type": "markdown",
   "id": "8b3326de-0ff6-42cf-9659-0067b3783442",
   "metadata": {},
   "source": [
    "Write a  Python program to send a request to a web page, and print the response text and content. Also get the raw socket response from the  server."
   ]
  },
  {
   "cell_type": "code",
   "execution_count": null,
   "id": "83ab820f-7eaa-4278-9938-cc808b99e9ad",
   "metadata": {},
   "outputs": [],
   "source": [
    "import requests\n",
    "\n",
    "res = requests.get('https://www.google.com/')\n",
    "print(\"Response text of https://google.com/:\")\n",
    "print(res.text)\n",
    "print(\"\\n==============================================================================\")\n",
    "print(\"\\nContent of the said url:\")\n",
    "print(res.content)\n",
    "print(\"\\n==============================================================================\")\n",
    "print(\"\\nRaw data of the said url:\")\n",
    "r = requests.get('https://api.github.com/events', stream = True)\n",
    "print(r.raw)\n",
    "print(r.raw.read(15))\n"
   ]
  },
  {
   "cell_type": "markdown",
   "id": "164f62a2-8ecf-4355-9c07-bff119fee752",
   "metadata": {},
   "source": [
    "Write a  Python program to verify the SSL certificate for a website that is certified."
   ]
  },
  {
   "cell_type": "code",
   "execution_count": 91,
   "id": "b0d71080-1be7-4784-96c7-aa91de170c04",
   "metadata": {},
   "outputs": [
    {
     "name": "stderr",
     "output_type": "stream",
     "text": [
      "C:\\Users\\JeetPrajapati\\anaconda3\\Lib\\site-packages\\urllib3\\connectionpool.py:1099: InsecureRequestWarning: Unverified HTTPS request is being made to host 'rigaux.org'. Adding certificate verification is strongly advised. See: https://urllib3.readthedocs.io/en/latest/advanced-usage.html#tls-warnings\n",
      "  warnings.warn(\n"
     ]
    },
    {
     "name": "stdout",
     "output_type": "stream",
     "text": [
      "<Response [200]>\n",
      "\n",
      "=======================================================\n",
      "\n",
      "<Response [200]>\n",
      "\n",
      "=======================================================\n",
      "\n",
      "<Response [200]>\n"
     ]
    }
   ],
   "source": [
    "import requests   \n",
    "#Requests ignore verifying the SSL certificate if you set verify to False\n",
    "# Making a get request \n",
    "response = requests.get('https://rigaux.org/', verify=False)\n",
    "print(response) \n",
    "print(\"\\n=======================================================\\n\")\n",
    "#Requests verifies SSL certificates for HTTPS requests, just like a web browser.\n",
    "response1 = requests.get('https://google.com/')\n",
    "print(response1)\n",
    "print(\"\\n=======================================================\\n\")\n",
    "#Requests ignore verifying the SSL certificate if you set verify to True (Default value)\n",
    "response1 = requests.get('https://rigaux.org/', verify=True)\n",
    "print(response1) \n"
   ]
  },
  {
   "cell_type": "markdown",
   "id": "9627e1b8-3f84-4919-9291-5ea5fcbfdf4a",
   "metadata": {},
   "source": [
    "# SQLite Database"
   ]
  },
  {
   "cell_type": "code",
   "execution_count": 92,
   "id": "e19fdd44-e624-46f5-b66c-22036184d78b",
   "metadata": {},
   "outputs": [],
   "source": [
    "import sqlite3"
   ]
  },
  {
   "cell_type": "code",
   "execution_count": 94,
   "id": "1cc60054-5c7d-49ca-ab79-ee98468d7f35",
   "metadata": {},
   "outputs": [],
   "source": [
    "con = sqlite3.connect(\"C:\\\\Users\\\\JeetPrajapati\\\\Desktop\\\\Learning\\\\Python Practice\\\\python-practice\\\\Practice Exercise\\\\w3resource\\\\demo.db\")"
   ]
  },
  {
   "cell_type": "code",
   "execution_count": 95,
   "id": "ec710b1a-42d8-474d-92fd-c57db65dc221",
   "metadata": {},
   "outputs": [],
   "source": [
    "cursor = con.cursor()"
   ]
  },
  {
   "cell_type": "code",
   "execution_count": 101,
   "id": "dc313f4d-964f-4b3d-961c-4f487ef9a022",
   "metadata": {},
   "outputs": [
    {
     "data": {
      "text/plain": [
       "<sqlite3.Cursor at 0x13a22a061c0>"
      ]
     },
     "execution_count": 101,
     "metadata": {},
     "output_type": "execute_result"
    }
   ],
   "source": [
    "cursor.execute('''CREATE TABLE PERSON (FIRST_NAME TEXT, CITY TEXT) ''')"
   ]
  },
  {
   "cell_type": "code",
   "execution_count": 102,
   "id": "6a1f913b-4775-41fb-b800-5e39f1c42d0c",
   "metadata": {},
   "outputs": [],
   "source": [
    "con.commit()"
   ]
  },
  {
   "cell_type": "code",
   "execution_count": 111,
   "id": "b82a2341-b663-455b-8197-402829819a39",
   "metadata": {},
   "outputs": [],
   "source": [
    "data1 = [\n",
    "    (\"Jeet\", \"Anjar\"),\n",
    "    (\"Jay\", \"Anand\"),\n",
    "    (\"Meet\",\"Surat\")\n",
    "]"
   ]
  },
  {
   "cell_type": "code",
   "execution_count": 105,
   "id": "cc29bc04-a90e-4a3e-b13a-908bdd514abd",
   "metadata": {},
   "outputs": [
    {
     "data": {
      "text/plain": [
       "<sqlite3.Cursor at 0x13a21e308c0>"
      ]
     },
     "execution_count": 105,
     "metadata": {},
     "output_type": "execute_result"
    }
   ],
   "source": [
    "con.executemany(\"INSERT INTO PERSON (FIRST_NAME, CITY) VALUES (?,?)\",data1)"
   ]
  },
  {
   "cell_type": "code",
   "execution_count": 109,
   "id": "effed6ea-0e00-40dd-a33c-8c6de9400228",
   "metadata": {},
   "outputs": [],
   "source": [
    "data = cursor.execute(\"SELECT * FROM PERSON\")"
   ]
  },
  {
   "cell_type": "code",
   "execution_count": 110,
   "id": "7fce85cb-509b-4937-ae02-5e07f9763fa2",
   "metadata": {},
   "outputs": [
    {
     "name": "stdout",
     "output_type": "stream",
     "text": [
      "('Jeet', 'Anjar')\n",
      "('Jay', 'Anand')\n",
      "('Meet', 'Surat')\n"
     ]
    }
   ],
   "source": [
    "for d in data:\n",
    "    print(d)"
   ]
  },
  {
   "cell_type": "markdown",
   "id": "4bbf3826-8505-45a5-8e0a-e722d56cb5ca",
   "metadata": {},
   "source": [
    "Write a Python program to create a backup of a SQLite database."
   ]
  },
  {
   "cell_type": "code",
   "execution_count": 113,
   "id": "187f3499-aa39-4a89-8424-cf6bd4721bbe",
   "metadata": {},
   "outputs": [
    {
     "name": "stdout",
     "output_type": "stream",
     "text": [
      "Backup performed successfully.\n",
      "Saved as mydatabase_dump.sql\n"
     ]
    }
   ],
   "source": [
    "import sqlite3\n",
    "import io\n",
    "\n",
    "conn = sqlite3.connect(\"C:\\\\Users\\\\JeetPrajapati\\\\Desktop\\\\Learning\\\\Python Practice\\\\python-practice\\\\Practice Exercise\\\\w3resource\\\\demo.db\")\n",
    "\n",
    "with io.open('clientes_dump.sql', 'w') as f:\n",
    "   for linha in conn.iterdump():\n",
    "       f.write('%s\\n' % linha)\n",
    "print('Backup performed successfully.')\n",
    "print('Saved as mydatabase_dump.sql')\n",
    "conn.close()\n"
   ]
  },
  {
   "cell_type": "code",
   "execution_count": null,
   "id": "47aa6afe-7d1b-447b-bc18-4ab8ee71a790",
   "metadata": {},
   "outputs": [],
   "source": []
  }
 ],
 "metadata": {
  "kernelspec": {
   "display_name": "Python 3 (ipykernel)",
   "language": "python",
   "name": "python3"
  },
  "language_info": {
   "codemirror_mode": {
    "name": "ipython",
    "version": 3
   },
   "file_extension": ".py",
   "mimetype": "text/x-python",
   "name": "python",
   "nbconvert_exporter": "python",
   "pygments_lexer": "ipython3",
   "version": "3.12.7"
  }
 },
 "nbformat": 4,
 "nbformat_minor": 5
}
