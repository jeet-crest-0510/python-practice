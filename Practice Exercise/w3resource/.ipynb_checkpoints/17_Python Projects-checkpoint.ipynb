{
 "cells": [
  {
   "cell_type": "markdown",
   "id": "d206ce16-14f3-49af-9cd4-f36074336977",
   "metadata": {
    "jp-MarkdownHeadingCollapsed": true
   },
   "source": [
    "# Python Project: Numbers"
   ]
  },
  {
   "cell_type": "markdown",
   "id": "54bc59bb-941a-4d98-977f-b351c948c399",
   "metadata": {},
   "source": [
    "Create a  Python project to get the value of Pi to n number of decimal places."
   ]
  },
  {
   "cell_type": "code",
   "execution_count": 2,
   "id": "66219067-1780-4716-b356-22073b3d9561",
   "metadata": {},
   "outputs": [],
   "source": [
    "from mpmath import mp"
   ]
  },
  {
   "cell_type": "code",
   "execution_count": 7,
   "id": "1140f1a1-c1e1-4640-8315-9760220795e7",
   "metadata": {},
   "outputs": [],
   "source": [
    "def pi_val(n):\n",
    "    mp.dps = n+1\n",
    "    return mp.pi"
   ]
  },
  {
   "cell_type": "code",
   "execution_count": 8,
   "id": "02c35480-74cb-44de-bba4-559705de1640",
   "metadata": {},
   "outputs": [
    {
     "name": "stdout",
     "output_type": "stream",
     "text": [
      "Value of pi upto 40 decimals:\n",
      " 3.1415926535897932384626433832795028841972\n"
     ]
    }
   ],
   "source": [
    "n=40\n",
    "print(f\"Value of pi upto {n} decimals:\\n {pi_val(n)}\")"
   ]
  },
  {
   "cell_type": "markdown",
   "id": "2a911979-59a0-424d-bdfb-6300237632ea",
   "metadata": {},
   "source": [
    "Create a Python project to perform some simple statistics on a list of values."
   ]
  },
  {
   "cell_type": "code",
   "execution_count": 10,
   "id": "1cb74848-45fa-4076-b399-60640902f2a0",
   "metadata": {},
   "outputs": [],
   "source": [
    "import statistics"
   ]
  },
  {
   "cell_type": "code",
   "execution_count": 11,
   "id": "7c0da3ed-d01b-4eda-96a2-0ceb80b1c5f0",
   "metadata": {},
   "outputs": [],
   "source": [
    "list1 = [1,2,3,4,5,1,2,34,20]"
   ]
  },
  {
   "cell_type": "code",
   "execution_count": 12,
   "id": "c5c2eb3c-ea17-431f-979a-5fe510727eba",
   "metadata": {},
   "outputs": [
    {
     "name": "stdout",
     "output_type": "stream",
     "text": [
      "List: [1, 2, 3, 4, 5, 1, 2, 34, 20]\n"
     ]
    }
   ],
   "source": [
    "print(f\"List: {list1}\")"
   ]
  },
  {
   "cell_type": "code",
   "execution_count": 15,
   "id": "a8828899-dd14-4321-965f-4512b809bb92",
   "metadata": {},
   "outputs": [
    {
     "name": "stdout",
     "output_type": "stream",
     "text": [
      "Mean: 8\n"
     ]
    }
   ],
   "source": [
    "print(f\"Mean: {statistics.mean(list1)}\")"
   ]
  },
  {
   "cell_type": "code",
   "execution_count": 16,
   "id": "34988415-fe47-4323-951b-601fa92260a9",
   "metadata": {},
   "outputs": [
    {
     "name": "stdout",
     "output_type": "stream",
     "text": [
      "Median: 3\n"
     ]
    }
   ],
   "source": [
    "print(f\"Median: {statistics.median(list1)}\")"
   ]
  },
  {
   "cell_type": "code",
   "execution_count": 17,
   "id": "4462783f-814d-45d9-89ca-0b58720bb12e",
   "metadata": {},
   "outputs": [
    {
     "name": "stdout",
     "output_type": "stream",
     "text": [
      "Mode: 1\n"
     ]
    }
   ],
   "source": [
    "print(f\"Mode: {statistics.mode(list1)}\")"
   ]
  },
  {
   "cell_type": "code",
   "execution_count": 24,
   "id": "d1827385-e272-4cfb-9e65-2a7c82504b6d",
   "metadata": {},
   "outputs": [
    {
     "name": "stdout",
     "output_type": "stream",
     "text": [
      "Population Standard Deviation: 10.749676997731399\n"
     ]
    }
   ],
   "source": [
    "print(f\"Population Standard Deviation: {statistics.pstdev(list1)}\")"
   ]
  },
  {
   "cell_type": "code",
   "execution_count": 25,
   "id": "a46a3b04-b530-4b28-a88d-11c3add421a4",
   "metadata": {},
   "outputs": [
    {
     "name": "stdout",
     "output_type": "stream",
     "text": [
      "Sample Standard Deviation: 11.40175425099138\n"
     ]
    }
   ],
   "source": [
    "print(f\"Sample Standard Deviation: {statistics.stdev(list1)}\")"
   ]
  },
  {
   "cell_type": "code",
   "execution_count": 26,
   "id": "893251df-a166-4f96-82dc-75f705c99f26",
   "metadata": {},
   "outputs": [
    {
     "name": "stdout",
     "output_type": "stream",
     "text": [
      "Population Variance: 115.55555555555556\n"
     ]
    }
   ],
   "source": [
    "print(f\"Population Variance: {statistics.pvariance(list1)}\")"
   ]
  },
  {
   "cell_type": "code",
   "execution_count": 27,
   "id": "9a8e3b22-2cb9-48c4-8aa9-590f335d87f6",
   "metadata": {},
   "outputs": [
    {
     "name": "stdout",
     "output_type": "stream",
     "text": [
      "Sample Variance: 130\n"
     ]
    }
   ],
   "source": [
    "print(f\"Sample Variance: {statistics.variance(list1)}\")"
   ]
  },
  {
   "cell_type": "code",
   "execution_count": 30,
   "id": "2f39df04-384c-45ce-a136-57a313600f24",
   "metadata": {},
   "outputs": [
    {
     "name": "stdout",
     "output_type": "stream",
     "text": [
      "Counter: Counter({1: 2, 2: 2, 3: 1, 4: 1, 5: 1, 34: 1, 20: 1})\n"
     ]
    }
   ],
   "source": [
    "print(f\"Counter: {statistics.Counter(list1)}\")"
   ]
  },
  {
   "cell_type": "code",
   "execution_count": 18,
   "id": "9e37402f-f4e5-45e9-a8bd-64c71fe10166",
   "metadata": {},
   "outputs": [
    {
     "data": {
      "text/plain": [
       "['Counter',\n",
       " 'Decimal',\n",
       " 'Fraction',\n",
       " 'LinearRegression',\n",
       " 'NormalDist',\n",
       " 'StatisticsError',\n",
       " '_SQRT2',\n",
       " '__all__',\n",
       " '__annotations__',\n",
       " '__builtins__',\n",
       " '__cached__',\n",
       " '__doc__',\n",
       " '__file__',\n",
       " '__loader__',\n",
       " '__name__',\n",
       " '__package__',\n",
       " '__spec__',\n",
       " '_coerce',\n",
       " '_convert',\n",
       " '_decimal_sqrt_of_frac',\n",
       " '_exact_ratio',\n",
       " '_fail_neg',\n",
       " '_float_sqrt_of_frac',\n",
       " '_integer_sqrt_of_frac_rto',\n",
       " '_isfinite',\n",
       " '_mean_stdev',\n",
       " '_normal_dist_inv_cdf',\n",
       " '_rank',\n",
       " '_sqrt_bit_width',\n",
       " '_ss',\n",
       " '_sum',\n",
       " 'bisect_left',\n",
       " 'bisect_right',\n",
       " 'correlation',\n",
       " 'count',\n",
       " 'covariance',\n",
       " 'defaultdict',\n",
       " 'erf',\n",
       " 'exp',\n",
       " 'fabs',\n",
       " 'fmean',\n",
       " 'fsum',\n",
       " 'geometric_mean',\n",
       " 'groupby',\n",
       " 'harmonic_mean',\n",
       " 'hypot',\n",
       " 'itemgetter',\n",
       " 'linear_regression',\n",
       " 'log',\n",
       " 'math',\n",
       " 'mean',\n",
       " 'median',\n",
       " 'median_grouped',\n",
       " 'median_high',\n",
       " 'median_low',\n",
       " 'mode',\n",
       " 'multimode',\n",
       " 'namedtuple',\n",
       " 'numbers',\n",
       " 'pstdev',\n",
       " 'pvariance',\n",
       " 'quantiles',\n",
       " 'random',\n",
       " 'reduce',\n",
       " 'repeat',\n",
       " 'sqrt',\n",
       " 'stdev',\n",
       " 'sumprod',\n",
       " 'sys',\n",
       " 'tau',\n",
       " 'variance']"
      ]
     },
     "execution_count": 18,
     "metadata": {},
     "output_type": "execute_result"
    }
   ],
   "source": [
    "dir(statistics)"
   ]
  },
  {
   "cell_type": "markdown",
   "id": "c13f43a6-b22d-4c39-997e-1f1165a9dda1",
   "metadata": {
    "jp-MarkdownHeadingCollapsed": true
   },
   "source": [
    "# Python Projects: Web programming"
   ]
  },
  {
   "cell_type": "markdown",
   "id": "6f371276-7e29-42e1-87bb-fef2c797c580",
   "metadata": {},
   "source": [
    "Create a Python project to get the title, genre, rating and the url of the specific movie from IMDb movie database."
   ]
  },
  {
   "cell_type": "code",
   "execution_count": 36,
   "id": "ffa1f2ca-01c5-4f9d-98b8-4f5be7804482",
   "metadata": {},
   "outputs": [],
   "source": [
    "import requests\n",
    "import bs4"
   ]
  },
  {
   "cell_type": "code",
   "execution_count": 58,
   "id": "b11c0537-1130-4874-bd88-66b8834343f1",
   "metadata": {},
   "outputs": [],
   "source": [
    "def imdb_top(n):\n",
    "    result = requests.get(f\"https://www.imdb.com/search/title/?title_type=feature&sort=user_rating,desc&count={n}\")\n",
    "    soup = bs4.BeautifulSoup(result.content,\"html.parser\")\n",
    "    print(result.text)\n",
    "\n",
    "    for m in soup.select(\".sc-300a8231-0 gTnHyA\"):\n",
    "        print(\"\\n\" + m[0].a.h3.text)  # movie's name\n",
    "\n",
    "    # sc-300a8231-0 gTnHyA\n",
    "    # sc-300a8231-0 gTnHyA"
   ]
  },
  {
   "cell_type": "code",
   "execution_count": 59,
   "id": "ab21d8b5-a207-45a5-8d86-703c09d56188",
   "metadata": {},
   "outputs": [
    {
     "name": "stdout",
     "output_type": "stream",
     "text": [
      "<html>\n",
      "<head><title>403 Forbidden</title></head>\n",
      "<body>\n",
      "<center><h1>403 Forbidden</h1></center>\n",
      "</body>\n",
      "</html>\n",
      "\n"
     ]
    }
   ],
   "source": [
    "imdb_top(5)"
   ]
  },
  {
   "cell_type": "markdown",
   "id": "b84a3060-99b4-4289-b945-7d63e65e1eef",
   "metadata": {},
   "source": [
    "Create a Python project to fetch job title and location from indeed website."
   ]
  },
  {
   "cell_type": "code",
   "execution_count": 3,
   "id": "e435d675-a5b6-406e-8aae-9aa5be408924",
   "metadata": {},
   "outputs": [],
   "source": [
    "import requests\n",
    "from bs4 import BeautifulSoup"
   ]
  },
  {
   "cell_type": "code",
   "execution_count": 51,
   "id": "ea447fb9-4342-4e6a-88c3-296464733343",
   "metadata": {},
   "outputs": [],
   "source": [
    "def job_Search(location):\n",
    "    url = f\"https://in.indeed.com/jobs?q=&l={location}\"\n",
    "    res = requests.get(url)\n",
    "    # print(res.text)\n",
    "    soup = BeautifulSoup(res.text,'html.parser')\n",
    "    print(soup.select('span'))\n",
    "    # jobTitle css-1psdjh5 eu4oa1w0\n",
    "    # data2 = soup.find('div','.css-1ac2h1w.eu4oa1w0')\n",
    "    # print(data1)"
   ]
  },
  {
   "cell_type": "code",
   "execution_count": 52,
   "id": "b5323a01-79af-4a51-95bb-b0e1afc6a079",
   "metadata": {},
   "outputs": [
    {
     "name": "stdout",
     "output_type": "stream",
     "text": [
      "[<span class=\"icon-profile\"></span>, <span>Sign in</span>, <span style=\"font-style:italic\">8ff9bf497cbc3a29</span>, <span style=\"font-style:italic\">123.201.110.130</span>, <span>  →</span>]\n"
     ]
    }
   ],
   "source": [
    "job_Search('Ahmedabad')"
   ]
  },
  {
   "cell_type": "code",
   "execution_count": 53,
   "id": "e368d49f-f320-45d4-a89e-a3b31954200d",
   "metadata": {},
   "outputs": [],
   "source": [
    "# mainContentTable css-1v69ab7 eu4oa1w0\n",
    "# mainContentTable css-1v69ab7 eu4oa1w0"
   ]
  },
  {
   "cell_type": "markdown",
   "id": "3d3d18ff-cf35-4c2f-9be5-6c9a5706c741",
   "metadata": {},
   "source": [
    "Create a Python project to get the current stock price of specified companies."
   ]
  },
  {
   "cell_type": "code",
   "execution_count": 54,
   "id": "250947c8-5eae-429e-96b3-78849ff89e92",
   "metadata": {},
   "outputs": [],
   "source": [
    "import requests\n",
    "import bs4"
   ]
  },
  {
   "cell_type": "code",
   "execution_count": 91,
   "id": "a544bb6c-c676-4f0c-bfa7-e1e79abe3875",
   "metadata": {},
   "outputs": [],
   "source": [
    "def getdata(n):\n",
    "    url = \"https://finance.yahoo.com/markets/stocks/gainers/\"\n",
    "    res = requests.get(url)\n",
    "    # print(res.text)\n",
    "    soup = bs4.BeautifulSoup(res.text,'html.parser')\n",
    "    # Table\n",
    "    # data1 = soup.select('.markets-table.freeze-col.yf-paf8n5.fixedLayout span')\n",
    "    # Table Body\n",
    "    for i in range(n):\n",
    "        print(f\"Comapany: {i+1}\")\n",
    "        data1 = soup.select(\".body.yf-paf8n5 tr\")[i]\n",
    "        # print(data1)\n",
    "        data2 = data1.select('td')[1]\n",
    "        data3 = data1.select('td')[3]\n",
    "        print(f\"Name of Company: {data2.getText()}\")\n",
    "        print(f\"Stock Price: {data3.getText()}\\n\")\n",
    "    "
   ]
  },
  {
   "cell_type": "code",
   "execution_count": 93,
   "id": "4237f9b7-adfc-41a1-8917-72b6893779ac",
   "metadata": {},
   "outputs": [
    {
     "name": "stdout",
     "output_type": "stream",
     "text": [
      "Comapany: 1\n",
      "Name of Company: Catalyst Pharmaceuticals, Inc.  \n",
      "Stock Price:  22.80 +3.27 (+16.74%) \n",
      "\n",
      "Comapany: 2\n",
      "Name of Company: eBay Inc.  \n",
      "Stock Price:  69.40 +6.23 (+9.86%) \n",
      "\n",
      "Comapany: 3\n",
      "Name of Company: Equinox Gold Corp.  \n",
      "Stock Price:  5.80 +0.52 (+9.85%) \n",
      "\n",
      "Comapany: 4\n",
      "Name of Company: GDS Holdings Limited  \n",
      "Stock Price:  28.84 +2.38 (+8.99%) \n",
      "\n",
      "Comapany: 5\n",
      "Name of Company: AAR Corp.  \n",
      "Stock Price:  67.09 +5.34 (+8.65%) \n",
      "\n",
      "Comapany: 6\n",
      "Name of Company: Arcadium Lithium plc  \n",
      "Stock Price:  5.69 +0.44 (+8.38%) \n",
      "\n",
      "Comapany: 7\n",
      "Name of Company: The GEO Group, Inc.  \n",
      "Stock Price:  31.07 +2.38 (+8.30%) \n",
      "\n",
      "Comapany: 8\n",
      "Name of Company: Arcadium Lithium plc  \n",
      "Stock Price:  5.70 +0.43 (+8.16%) \n",
      "\n",
      "Comapany: 9\n",
      "Name of Company: Roku, Inc.  \n",
      "Stock Price:  83.00 +5.01 (+6.42%) \n",
      "\n",
      "Comapany: 10\n",
      "Name of Company: Oscar Health, Inc.  \n",
      "Stock Price:  15.29 +0.90 (+6.25%) \n",
      "\n"
     ]
    }
   ],
   "source": [
    "getdata(10)"
   ]
  },
  {
   "cell_type": "markdown",
   "id": "4c448340-3ec6-4d06-9265-d05bb07a1b8c",
   "metadata": {
    "jp-MarkdownHeadingCollapsed": true
   },
   "source": [
    "# 100 Python Projects for Beginners"
   ]
  },
  {
   "cell_type": "markdown",
   "id": "5d4d39b9-b90d-4471-948a-9724ef75d583",
   "metadata": {},
   "source": [
    "Basic Movie Database: Create a simple movie database with features like adding, editing, and deleting movies."
   ]
  },
  {
   "cell_type": "code",
   "execution_count": 120,
   "id": "5b0b8887-ffcb-40d1-9bfd-f5b72c758650",
   "metadata": {},
   "outputs": [],
   "source": [
    "# Using List of Dictionaries\n",
    "movies = []"
   ]
  },
  {
   "cell_type": "code",
   "execution_count": 121,
   "id": "63662b5e-3721-4941-9a85-e3c57388eee4",
   "metadata": {},
   "outputs": [],
   "source": [
    "def add_movie(title, director, year, genre):\n",
    "    movie = {\n",
    "        \"id\" : len(movies)+1,\n",
    "        \"title\" : title,\n",
    "        \"director\" : director,\n",
    "        \"year\" : year,\n",
    "        \"genre\" : genre\n",
    "    }\n",
    "    movies.append(movie)\n",
    "    print(f\"Movie '{title}' Inserted Successfully!!\")\n",
    "\n",
    "def edit_movie(movie_id, new_title=None, new_director=None, new_year=None, new_genre=None):\n",
    "    for m in movies:\n",
    "        if m[\"id\"] == movie_id:\n",
    "            if new_title:\n",
    "                m[\"title\"] = new_title\n",
    "            if new_director:\n",
    "                m[\"director\"] = new_director\n",
    "            if new_year:\n",
    "                m[\"year\"] = new_year\n",
    "            if new_genre:\n",
    "                m[\"genre\"] = new_genre\n",
    "            print(f\"Movie '{movie_id}' Updated Successfully!!\")\n",
    "            return\n",
    "    print(\"Movie doesn't Exists!!\")\n",
    "    return\n",
    "\n",
    "def delete_movie(movie_id):\n",
    "    index = 0\n",
    "    for m in movies:\n",
    "        if m[\"id\"] == movie_id:\n",
    "            movies.pop(index)\n",
    "        index += 1\n",
    "\n",
    "def view_movies():\n",
    "    for m in movies:\n",
    "        print(m)\n",
    "\n",
    "def search_movie_by_title(title):\n",
    "    for m in movies:\n",
    "        if m[\"title\"] == title:\n",
    "            print(f\"Movie with title '{title}': {m}\")\n",
    "            return\n",
    "    print(f\"Movie '{title}' doesn't Exists!!\")"
   ]
  },
  {
   "cell_type": "code",
   "execution_count": 122,
   "id": "edda0570-013c-4be0-a8e2-ad3889a23a32",
   "metadata": {},
   "outputs": [
    {
     "name": "stdout",
     "output_type": "stream",
     "text": [
      "Movie 'Inception' Inserted Successfully!!\n",
      "Movie 'The Matrix' Inserted Successfully!!\n",
      "{'id': 1, 'title': 'Inception', 'director': 'Christopher Nolan', 'year': 2010, 'genre': 'Science Fiction'}\n",
      "{'id': 2, 'title': 'The Matrix', 'director': 'Wachowski Sisters', 'year': 1999, 'genre': 'Science Fiction'}\n",
      "Movie '1' Updated Successfully!!\n",
      "{'id': 1, 'title': 'Inception: The Dream', 'director': 'Christopher Nolan', 'year': 2010, 'genre': 'Science Fiction'}\n",
      "Movie 'Inception' doesn't Exists!!\n",
      "Movie with title 'Inception: The Dream': {'id': 1, 'title': 'Inception: The Dream', 'director': 'Christopher Nolan', 'year': 2010, 'genre': 'Science Fiction'}\n"
     ]
    }
   ],
   "source": [
    "add_movie(\"Inception\", \"Christopher Nolan\", 2010, \"Science Fiction\")\n",
    "add_movie(\"The Matrix\", \"Wachowski Sisters\", 1999, \"Science Fiction\")\n",
    "view_movies()\n",
    "edit_movie(1, new_title=\"Inception: The Dream\")\n",
    "delete_movie(2)\n",
    "view_movies()\n",
    "search_movie_by_title(\"Inception\")\n",
    "search_movie_by_title(\"Inception: The Dream\")"
   ]
  },
  {
   "cell_type": "markdown",
   "id": "ba03e056-6564-4adb-a891-d2e9539bef15",
   "metadata": {},
   "source": [
    "# Python Project: COVID-19 "
   ]
  },
  {
   "cell_type": "markdown",
   "id": "6eebf81f-5b5a-4515-85f7-02741ef8a7ed",
   "metadata": {},
   "source": [
    "Write a Python program to display first 5 rows from COVID-19 dataset. Also print the dataset information and check the missing values."
   ]
  },
  {
   "cell_type": "code",
   "execution_count": 29,
   "id": "a9fb7bcb-cf46-4129-acb8-30e97e9e2b87",
   "metadata": {},
   "outputs": [],
   "source": [
    "import pandas as pd"
   ]
  },
  {
   "cell_type": "code",
   "execution_count": 30,
   "id": "b9482936-279d-4e52-a4b0-a232bfa7daf2",
   "metadata": {},
   "outputs": [],
   "source": [
    "data = pd.read_csv(\"https://raw.githubusercontent.com/CSSEGISandData/COVID-19/master/csse_covid_19_data/csse_covid_19_daily_reports/03-17-2020.csv\")"
   ]
  },
  {
   "cell_type": "code",
   "execution_count": 31,
   "id": "b0142d25-1fa3-4779-8978-a01320706012",
   "metadata": {},
   "outputs": [
    {
     "data": {
      "text/plain": [
       "Index(['Province/State', 'Country/Region', 'Last Update', 'Confirmed',\n",
       "       'Deaths', 'Recovered', 'Latitude', 'Longitude'],\n",
       "      dtype='object')"
      ]
     },
     "execution_count": 31,
     "metadata": {},
     "output_type": "execute_result"
    }
   ],
   "source": [
    "data.columns"
   ]
  },
  {
   "cell_type": "code",
   "execution_count": 32,
   "id": "3fdfc2d6-4bb1-4392-83d6-4709a0a06584",
   "metadata": {},
   "outputs": [
    {
     "data": {
      "text/plain": [
       "(312, 8)"
      ]
     },
     "execution_count": 32,
     "metadata": {},
     "output_type": "execute_result"
    }
   ],
   "source": [
    "data.shape"
   ]
  },
  {
   "cell_type": "code",
   "execution_count": 33,
   "id": "83f05719-b90e-47f9-b9e5-19be48d07afe",
   "metadata": {},
   "outputs": [
    {
     "data": {
      "text/html": [
       "<div>\n",
       "<style scoped>\n",
       "    .dataframe tbody tr th:only-of-type {\n",
       "        vertical-align: middle;\n",
       "    }\n",
       "\n",
       "    .dataframe tbody tr th {\n",
       "        vertical-align: top;\n",
       "    }\n",
       "\n",
       "    .dataframe thead th {\n",
       "        text-align: right;\n",
       "    }\n",
       "</style>\n",
       "<table border=\"1\" class=\"dataframe\">\n",
       "  <thead>\n",
       "    <tr style=\"text-align: right;\">\n",
       "      <th></th>\n",
       "      <th>Province/State</th>\n",
       "      <th>Country/Region</th>\n",
       "      <th>Last Update</th>\n",
       "      <th>Confirmed</th>\n",
       "      <th>Deaths</th>\n",
       "      <th>Recovered</th>\n",
       "      <th>Latitude</th>\n",
       "      <th>Longitude</th>\n",
       "    </tr>\n",
       "  </thead>\n",
       "  <tbody>\n",
       "    <tr>\n",
       "      <th>0</th>\n",
       "      <td>Hubei</td>\n",
       "      <td>China</td>\n",
       "      <td>2020-03-17T11:53:10</td>\n",
       "      <td>67799</td>\n",
       "      <td>3111</td>\n",
       "      <td>56003</td>\n",
       "      <td>30.9756</td>\n",
       "      <td>112.2707</td>\n",
       "    </tr>\n",
       "    <tr>\n",
       "      <th>1</th>\n",
       "      <td>NaN</td>\n",
       "      <td>Italy</td>\n",
       "      <td>2020-03-17T18:33:02</td>\n",
       "      <td>31506</td>\n",
       "      <td>2503</td>\n",
       "      <td>2941</td>\n",
       "      <td>41.8719</td>\n",
       "      <td>12.5674</td>\n",
       "    </tr>\n",
       "    <tr>\n",
       "      <th>2</th>\n",
       "      <td>NaN</td>\n",
       "      <td>Iran</td>\n",
       "      <td>2020-03-17T15:13:09</td>\n",
       "      <td>16169</td>\n",
       "      <td>988</td>\n",
       "      <td>5389</td>\n",
       "      <td>32.4279</td>\n",
       "      <td>53.6880</td>\n",
       "    </tr>\n",
       "    <tr>\n",
       "      <th>3</th>\n",
       "      <td>NaN</td>\n",
       "      <td>Spain</td>\n",
       "      <td>2020-03-17T20:53:02</td>\n",
       "      <td>11748</td>\n",
       "      <td>533</td>\n",
       "      <td>1028</td>\n",
       "      <td>40.4637</td>\n",
       "      <td>-3.7492</td>\n",
       "    </tr>\n",
       "    <tr>\n",
       "      <th>4</th>\n",
       "      <td>NaN</td>\n",
       "      <td>Germany</td>\n",
       "      <td>2020-03-17T18:53:02</td>\n",
       "      <td>9257</td>\n",
       "      <td>24</td>\n",
       "      <td>67</td>\n",
       "      <td>51.1657</td>\n",
       "      <td>10.4515</td>\n",
       "    </tr>\n",
       "  </tbody>\n",
       "</table>\n",
       "</div>"
      ],
      "text/plain": [
       "  Province/State Country/Region          Last Update  Confirmed  Deaths  \\\n",
       "0          Hubei          China  2020-03-17T11:53:10      67799    3111   \n",
       "1            NaN          Italy  2020-03-17T18:33:02      31506    2503   \n",
       "2            NaN           Iran  2020-03-17T15:13:09      16169     988   \n",
       "3            NaN          Spain  2020-03-17T20:53:02      11748     533   \n",
       "4            NaN        Germany  2020-03-17T18:53:02       9257      24   \n",
       "\n",
       "   Recovered  Latitude  Longitude  \n",
       "0      56003   30.9756   112.2707  \n",
       "1       2941   41.8719    12.5674  \n",
       "2       5389   32.4279    53.6880  \n",
       "3       1028   40.4637    -3.7492  \n",
       "4         67   51.1657    10.4515  "
      ]
     },
     "execution_count": 33,
     "metadata": {},
     "output_type": "execute_result"
    }
   ],
   "source": [
    "data.head(5)"
   ]
  },
  {
   "cell_type": "code",
   "execution_count": 34,
   "id": "983929cb-37d8-4340-a9e4-187a49beb666",
   "metadata": {},
   "outputs": [
    {
     "name": "stdout",
     "output_type": "stream",
     "text": [
      "<class 'pandas.core.frame.DataFrame'>\n",
      "RangeIndex: 312 entries, 0 to 311\n",
      "Data columns (total 8 columns):\n",
      " #   Column          Non-Null Count  Dtype  \n",
      "---  ------          --------------  -----  \n",
      " 0   Province/State  154 non-null    object \n",
      " 1   Country/Region  312 non-null    object \n",
      " 2   Last Update     312 non-null    object \n",
      " 3   Confirmed       312 non-null    int64  \n",
      " 4   Deaths          312 non-null    int64  \n",
      " 5   Recovered       312 non-null    int64  \n",
      " 6   Latitude        309 non-null    float64\n",
      " 7   Longitude       309 non-null    float64\n",
      "dtypes: float64(2), int64(3), object(3)\n",
      "memory usage: 19.6+ KB\n"
     ]
    }
   ],
   "source": [
    "data.info()"
   ]
  },
  {
   "cell_type": "code",
   "execution_count": 35,
   "id": "9498590c-9e96-4e1d-a4cc-69d316d3e06a",
   "metadata": {},
   "outputs": [
    {
     "data": {
      "text/plain": [
       "Province/State    158\n",
       "Country/Region      0\n",
       "Last Update         0\n",
       "Confirmed           0\n",
       "Deaths              0\n",
       "Recovered           0\n",
       "Latitude            3\n",
       "Longitude           3\n",
       "dtype: int64"
      ]
     },
     "execution_count": 35,
     "metadata": {},
     "output_type": "execute_result"
    }
   ],
   "source": [
    "data.isna().sum()"
   ]
  },
  {
   "cell_type": "markdown",
   "id": "d013cd57-f1af-4450-92ac-dce3430bbda5",
   "metadata": {},
   "source": [
    "Write a Python program to get the latest number of confirmed, deaths, recovered and active cases of Novel Coronavirus (COVID-19) Country wise."
   ]
  },
  {
   "cell_type": "code",
   "execution_count": 36,
   "id": "0db8a5e5-51cf-488b-9cf1-7f22b8b84481",
   "metadata": {},
   "outputs": [],
   "source": [
    "data['active'] = data.Confirmed - data.Recovered - data.Deaths"
   ]
  },
  {
   "cell_type": "code",
   "execution_count": 37,
   "id": "bc50223a-fddb-4aa1-97cf-ddb737adf21e",
   "metadata": {},
   "outputs": [
    {
     "data": {
      "text/html": [
       "<div>\n",
       "<style scoped>\n",
       "    .dataframe tbody tr th:only-of-type {\n",
       "        vertical-align: middle;\n",
       "    }\n",
       "\n",
       "    .dataframe tbody tr th {\n",
       "        vertical-align: top;\n",
       "    }\n",
       "\n",
       "    .dataframe thead th {\n",
       "        text-align: right;\n",
       "    }\n",
       "</style>\n",
       "<table border=\"1\" class=\"dataframe\">\n",
       "  <thead>\n",
       "    <tr style=\"text-align: right;\">\n",
       "      <th></th>\n",
       "      <th>Province/State</th>\n",
       "      <th>Country/Region</th>\n",
       "      <th>Last Update</th>\n",
       "      <th>Confirmed</th>\n",
       "      <th>Deaths</th>\n",
       "      <th>Recovered</th>\n",
       "      <th>Latitude</th>\n",
       "      <th>Longitude</th>\n",
       "      <th>active</th>\n",
       "    </tr>\n",
       "  </thead>\n",
       "  <tbody>\n",
       "    <tr>\n",
       "      <th>0</th>\n",
       "      <td>Hubei</td>\n",
       "      <td>China</td>\n",
       "      <td>2020-03-17T11:53:10</td>\n",
       "      <td>67799</td>\n",
       "      <td>3111</td>\n",
       "      <td>56003</td>\n",
       "      <td>30.9756</td>\n",
       "      <td>112.2707</td>\n",
       "      <td>8685</td>\n",
       "    </tr>\n",
       "    <tr>\n",
       "      <th>1</th>\n",
       "      <td>NaN</td>\n",
       "      <td>Italy</td>\n",
       "      <td>2020-03-17T18:33:02</td>\n",
       "      <td>31506</td>\n",
       "      <td>2503</td>\n",
       "      <td>2941</td>\n",
       "      <td>41.8719</td>\n",
       "      <td>12.5674</td>\n",
       "      <td>26062</td>\n",
       "    </tr>\n",
       "    <tr>\n",
       "      <th>2</th>\n",
       "      <td>NaN</td>\n",
       "      <td>Iran</td>\n",
       "      <td>2020-03-17T15:13:09</td>\n",
       "      <td>16169</td>\n",
       "      <td>988</td>\n",
       "      <td>5389</td>\n",
       "      <td>32.4279</td>\n",
       "      <td>53.6880</td>\n",
       "      <td>9792</td>\n",
       "    </tr>\n",
       "    <tr>\n",
       "      <th>3</th>\n",
       "      <td>NaN</td>\n",
       "      <td>Spain</td>\n",
       "      <td>2020-03-17T20:53:02</td>\n",
       "      <td>11748</td>\n",
       "      <td>533</td>\n",
       "      <td>1028</td>\n",
       "      <td>40.4637</td>\n",
       "      <td>-3.7492</td>\n",
       "      <td>10187</td>\n",
       "    </tr>\n",
       "    <tr>\n",
       "      <th>4</th>\n",
       "      <td>NaN</td>\n",
       "      <td>Germany</td>\n",
       "      <td>2020-03-17T18:53:02</td>\n",
       "      <td>9257</td>\n",
       "      <td>24</td>\n",
       "      <td>67</td>\n",
       "      <td>51.1657</td>\n",
       "      <td>10.4515</td>\n",
       "      <td>9166</td>\n",
       "    </tr>\n",
       "  </tbody>\n",
       "</table>\n",
       "</div>"
      ],
      "text/plain": [
       "  Province/State Country/Region          Last Update  Confirmed  Deaths  \\\n",
       "0          Hubei          China  2020-03-17T11:53:10      67799    3111   \n",
       "1            NaN          Italy  2020-03-17T18:33:02      31506    2503   \n",
       "2            NaN           Iran  2020-03-17T15:13:09      16169     988   \n",
       "3            NaN          Spain  2020-03-17T20:53:02      11748     533   \n",
       "4            NaN        Germany  2020-03-17T18:53:02       9257      24   \n",
       "\n",
       "   Recovered  Latitude  Longitude  active  \n",
       "0      56003   30.9756   112.2707    8685  \n",
       "1       2941   41.8719    12.5674   26062  \n",
       "2       5389   32.4279    53.6880    9792  \n",
       "3       1028   40.4637    -3.7492   10187  \n",
       "4         67   51.1657    10.4515    9166  "
      ]
     },
     "execution_count": 37,
     "metadata": {},
     "output_type": "execute_result"
    }
   ],
   "source": [
    "data.head(5)"
   ]
  },
  {
   "cell_type": "code",
   "execution_count": 51,
   "id": "7c547621-eda2-418c-8bf8-4e106a4189d6",
   "metadata": {},
   "outputs": [],
   "source": [
    "data['Total'] = data.groupby('Country/Region')['active'].transform('sum')"
   ]
  },
  {
   "cell_type": "code",
   "execution_count": 55,
   "id": "bd79934c-6a80-4c9f-849d-215cec110e0a",
   "metadata": {},
   "outputs": [
    {
     "data": {
      "text/html": [
       "<div>\n",
       "<style scoped>\n",
       "    .dataframe tbody tr th:only-of-type {\n",
       "        vertical-align: middle;\n",
       "    }\n",
       "\n",
       "    .dataframe tbody tr th {\n",
       "        vertical-align: top;\n",
       "    }\n",
       "\n",
       "    .dataframe thead th {\n",
       "        text-align: right;\n",
       "    }\n",
       "</style>\n",
       "<table border=\"1\" class=\"dataframe\">\n",
       "  <thead>\n",
       "    <tr style=\"text-align: right;\">\n",
       "      <th></th>\n",
       "      <th>Province/State</th>\n",
       "      <th>Country/Region</th>\n",
       "      <th>Last Update</th>\n",
       "      <th>Confirmed</th>\n",
       "      <th>Deaths</th>\n",
       "      <th>Recovered</th>\n",
       "      <th>Latitude</th>\n",
       "      <th>Longitude</th>\n",
       "      <th>active</th>\n",
       "      <th>Total</th>\n",
       "    </tr>\n",
       "  </thead>\n",
       "  <tbody>\n",
       "    <tr>\n",
       "      <th>0</th>\n",
       "      <td>Hubei</td>\n",
       "      <td>China</td>\n",
       "      <td>2020-03-17T11:53:10</td>\n",
       "      <td>67799</td>\n",
       "      <td>3111</td>\n",
       "      <td>56003</td>\n",
       "      <td>30.9756</td>\n",
       "      <td>112.2707</td>\n",
       "      <td>8685</td>\n",
       "      <td>9030</td>\n",
       "    </tr>\n",
       "    <tr>\n",
       "      <th>1</th>\n",
       "      <td>NaN</td>\n",
       "      <td>Italy</td>\n",
       "      <td>2020-03-17T18:33:02</td>\n",
       "      <td>31506</td>\n",
       "      <td>2503</td>\n",
       "      <td>2941</td>\n",
       "      <td>41.8719</td>\n",
       "      <td>12.5674</td>\n",
       "      <td>26062</td>\n",
       "      <td>26062</td>\n",
       "    </tr>\n",
       "    <tr>\n",
       "      <th>2</th>\n",
       "      <td>NaN</td>\n",
       "      <td>Iran</td>\n",
       "      <td>2020-03-17T15:13:09</td>\n",
       "      <td>16169</td>\n",
       "      <td>988</td>\n",
       "      <td>5389</td>\n",
       "      <td>32.4279</td>\n",
       "      <td>53.6880</td>\n",
       "      <td>9792</td>\n",
       "      <td>9792</td>\n",
       "    </tr>\n",
       "    <tr>\n",
       "      <th>3</th>\n",
       "      <td>NaN</td>\n",
       "      <td>Spain</td>\n",
       "      <td>2020-03-17T20:53:02</td>\n",
       "      <td>11748</td>\n",
       "      <td>533</td>\n",
       "      <td>1028</td>\n",
       "      <td>40.4637</td>\n",
       "      <td>-3.7492</td>\n",
       "      <td>10187</td>\n",
       "      <td>10187</td>\n",
       "    </tr>\n",
       "    <tr>\n",
       "      <th>4</th>\n",
       "      <td>NaN</td>\n",
       "      <td>Germany</td>\n",
       "      <td>2020-03-17T18:53:02</td>\n",
       "      <td>9257</td>\n",
       "      <td>24</td>\n",
       "      <td>67</td>\n",
       "      <td>51.1657</td>\n",
       "      <td>10.4515</td>\n",
       "      <td>9166</td>\n",
       "      <td>9166</td>\n",
       "    </tr>\n",
       "  </tbody>\n",
       "</table>\n",
       "</div>"
      ],
      "text/plain": [
       "  Province/State Country/Region          Last Update  Confirmed  Deaths  \\\n",
       "0          Hubei          China  2020-03-17T11:53:10      67799    3111   \n",
       "1            NaN          Italy  2020-03-17T18:33:02      31506    2503   \n",
       "2            NaN           Iran  2020-03-17T15:13:09      16169     988   \n",
       "3            NaN          Spain  2020-03-17T20:53:02      11748     533   \n",
       "4            NaN        Germany  2020-03-17T18:53:02       9257      24   \n",
       "\n",
       "   Recovered  Latitude  Longitude  active  Total  \n",
       "0      56003   30.9756   112.2707    8685   9030  \n",
       "1       2941   41.8719    12.5674   26062  26062  \n",
       "2       5389   32.4279    53.6880    9792   9792  \n",
       "3       1028   40.4637    -3.7492   10187  10187  \n",
       "4         67   51.1657    10.4515    9166   9166  "
      ]
     },
     "execution_count": 55,
     "metadata": {},
     "output_type": "execute_result"
    }
   ],
   "source": [
    "data.head(5)"
   ]
  },
  {
   "cell_type": "code",
   "execution_count": 58,
   "id": "9b59bd3c-9aa8-4b4f-9ee1-f910c567af25",
   "metadata": {},
   "outputs": [
    {
     "data": {
      "text/html": [
       "<div>\n",
       "<style scoped>\n",
       "    .dataframe tbody tr th:only-of-type {\n",
       "        vertical-align: middle;\n",
       "    }\n",
       "\n",
       "    .dataframe tbody tr th {\n",
       "        vertical-align: top;\n",
       "    }\n",
       "\n",
       "    .dataframe thead th {\n",
       "        text-align: right;\n",
       "    }\n",
       "</style>\n",
       "<table border=\"1\" class=\"dataframe\">\n",
       "  <thead>\n",
       "    <tr style=\"text-align: right;\">\n",
       "      <th></th>\n",
       "      <th>Province/State</th>\n",
       "      <th>Country/Region</th>\n",
       "      <th>Last Update</th>\n",
       "      <th>Confirmed</th>\n",
       "      <th>Deaths</th>\n",
       "      <th>Recovered</th>\n",
       "      <th>Latitude</th>\n",
       "      <th>Longitude</th>\n",
       "      <th>active</th>\n",
       "      <th>Total</th>\n",
       "    </tr>\n",
       "  </thead>\n",
       "  <tbody>\n",
       "    <tr>\n",
       "      <th>1</th>\n",
       "      <td>NaN</td>\n",
       "      <td>Italy</td>\n",
       "      <td>2020-03-17T18:33:02</td>\n",
       "      <td>31506</td>\n",
       "      <td>2503</td>\n",
       "      <td>2941</td>\n",
       "      <td>41.8719</td>\n",
       "      <td>12.5674</td>\n",
       "      <td>26062</td>\n",
       "      <td>26062</td>\n",
       "    </tr>\n",
       "  </tbody>\n",
       "</table>\n",
       "</div>"
      ],
      "text/plain": [
       "  Province/State Country/Region          Last Update  Confirmed  Deaths  \\\n",
       "1            NaN          Italy  2020-03-17T18:33:02      31506    2503   \n",
       "\n",
       "   Recovered  Latitude  Longitude  active  Total  \n",
       "1       2941   41.8719    12.5674   26062  26062  "
      ]
     },
     "execution_count": 58,
     "metadata": {},
     "output_type": "execute_result"
    }
   ],
   "source": [
    "data[data['Total'] == data['Total'].max()]"
   ]
  },
  {
   "cell_type": "code",
   "execution_count": null,
   "id": "f0ea8908-d8c8-4052-aebd-3a8a6ee76eed",
   "metadata": {},
   "outputs": [],
   "source": []
  }
 ],
 "metadata": {
  "kernelspec": {
   "display_name": "Python 3 (ipykernel)",
   "language": "python",
   "name": "python3"
  },
  "language_info": {
   "codemirror_mode": {
    "name": "ipython",
    "version": 3
   },
   "file_extension": ".py",
   "mimetype": "text/x-python",
   "name": "python",
   "nbconvert_exporter": "python",
   "pygments_lexer": "ipython3",
   "version": "3.12.7"
  }
 },
 "nbformat": 4,
 "nbformat_minor": 5
}
