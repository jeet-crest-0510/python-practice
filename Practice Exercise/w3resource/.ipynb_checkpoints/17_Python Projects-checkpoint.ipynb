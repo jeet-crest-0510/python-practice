{
 "cells": [
  {
   "cell_type": "markdown",
   "id": "d206ce16-14f3-49af-9cd4-f36074336977",
   "metadata": {},
   "source": [
    "# Python Project: Numbers"
   ]
  },
  {
   "cell_type": "markdown",
   "id": "54bc59bb-941a-4d98-977f-b351c948c399",
   "metadata": {},
   "source": [
    "Create a  Python project to get the value of Pi to n number of decimal places."
   ]
  },
  {
   "cell_type": "code",
   "execution_count": 2,
   "id": "66219067-1780-4716-b356-22073b3d9561",
   "metadata": {},
   "outputs": [],
   "source": [
    "from mpmath import mp"
   ]
  },
  {
   "cell_type": "code",
   "execution_count": 7,
   "id": "1140f1a1-c1e1-4640-8315-9760220795e7",
   "metadata": {},
   "outputs": [],
   "source": [
    "def pi_val(n):\n",
    "    mp.dps = n+1\n",
    "    return mp.pi"
   ]
  },
  {
   "cell_type": "code",
   "execution_count": 8,
   "id": "02c35480-74cb-44de-bba4-559705de1640",
   "metadata": {},
   "outputs": [
    {
     "name": "stdout",
     "output_type": "stream",
     "text": [
      "Value of pi upto 40 decimals:\n",
      " 3.1415926535897932384626433832795028841972\n"
     ]
    }
   ],
   "source": [
    "n=40\n",
    "print(f\"Value of pi upto {n} decimals:\\n {pi_val(n)}\")"
   ]
  },
  {
   "cell_type": "markdown",
   "id": "2a911979-59a0-424d-bdfb-6300237632ea",
   "metadata": {},
   "source": [
    "Create a Python project to perform some simple statistics on a list of values."
   ]
  },
  {
   "cell_type": "code",
   "execution_count": 10,
   "id": "1cb74848-45fa-4076-b399-60640902f2a0",
   "metadata": {},
   "outputs": [],
   "source": [
    "import statistics"
   ]
  },
  {
   "cell_type": "code",
   "execution_count": 11,
   "id": "7c0da3ed-d01b-4eda-96a2-0ceb80b1c5f0",
   "metadata": {},
   "outputs": [],
   "source": [
    "list1 = [1,2,3,4,5,1,2,34,20]"
   ]
  },
  {
   "cell_type": "code",
   "execution_count": 12,
   "id": "c5c2eb3c-ea17-431f-979a-5fe510727eba",
   "metadata": {},
   "outputs": [
    {
     "name": "stdout",
     "output_type": "stream",
     "text": [
      "List: [1, 2, 3, 4, 5, 1, 2, 34, 20]\n"
     ]
    }
   ],
   "source": [
    "print(f\"List: {list1}\")"
   ]
  },
  {
   "cell_type": "code",
   "execution_count": 15,
   "id": "a8828899-dd14-4321-965f-4512b809bb92",
   "metadata": {},
   "outputs": [
    {
     "name": "stdout",
     "output_type": "stream",
     "text": [
      "Mean: 8\n"
     ]
    }
   ],
   "source": [
    "print(f\"Mean: {statistics.mean(list1)}\")"
   ]
  },
  {
   "cell_type": "code",
   "execution_count": 16,
   "id": "34988415-fe47-4323-951b-601fa92260a9",
   "metadata": {},
   "outputs": [
    {
     "name": "stdout",
     "output_type": "stream",
     "text": [
      "Median: 3\n"
     ]
    }
   ],
   "source": [
    "print(f\"Median: {statistics.median(list1)}\")"
   ]
  },
  {
   "cell_type": "code",
   "execution_count": 17,
   "id": "4462783f-814d-45d9-89ca-0b58720bb12e",
   "metadata": {},
   "outputs": [
    {
     "name": "stdout",
     "output_type": "stream",
     "text": [
      "Mode: 1\n"
     ]
    }
   ],
   "source": [
    "print(f\"Mode: {statistics.mode(list1)}\")"
   ]
  },
  {
   "cell_type": "code",
   "execution_count": 24,
   "id": "d1827385-e272-4cfb-9e65-2a7c82504b6d",
   "metadata": {},
   "outputs": [
    {
     "name": "stdout",
     "output_type": "stream",
     "text": [
      "Population Standard Deviation: 10.749676997731399\n"
     ]
    }
   ],
   "source": [
    "print(f\"Population Standard Deviation: {statistics.pstdev(list1)}\")"
   ]
  },
  {
   "cell_type": "code",
   "execution_count": 25,
   "id": "a46a3b04-b530-4b28-a88d-11c3add421a4",
   "metadata": {},
   "outputs": [
    {
     "name": "stdout",
     "output_type": "stream",
     "text": [
      "Sample Standard Deviation: 11.40175425099138\n"
     ]
    }
   ],
   "source": [
    "print(f\"Sample Standard Deviation: {statistics.stdev(list1)}\")"
   ]
  },
  {
   "cell_type": "code",
   "execution_count": 26,
   "id": "893251df-a166-4f96-82dc-75f705c99f26",
   "metadata": {},
   "outputs": [
    {
     "name": "stdout",
     "output_type": "stream",
     "text": [
      "Population Variance: 115.55555555555556\n"
     ]
    }
   ],
   "source": [
    "print(f\"Population Variance: {statistics.pvariance(list1)}\")"
   ]
  },
  {
   "cell_type": "code",
   "execution_count": 27,
   "id": "9a8e3b22-2cb9-48c4-8aa9-590f335d87f6",
   "metadata": {},
   "outputs": [
    {
     "name": "stdout",
     "output_type": "stream",
     "text": [
      "Sample Variance: 130\n"
     ]
    }
   ],
   "source": [
    "print(f\"Sample Variance: {statistics.variance(list1)}\")"
   ]
  },
  {
   "cell_type": "code",
   "execution_count": 30,
   "id": "2f39df04-384c-45ce-a136-57a313600f24",
   "metadata": {},
   "outputs": [
    {
     "name": "stdout",
     "output_type": "stream",
     "text": [
      "Counter: Counter({1: 2, 2: 2, 3: 1, 4: 1, 5: 1, 34: 1, 20: 1})\n"
     ]
    }
   ],
   "source": [
    "print(f\"Counter: {statistics.Counter(list1)}\")"
   ]
  },
  {
   "cell_type": "code",
   "execution_count": 18,
   "id": "9e37402f-f4e5-45e9-a8bd-64c71fe10166",
   "metadata": {},
   "outputs": [
    {
     "data": {
      "text/plain": [
       "['Counter',\n",
       " 'Decimal',\n",
       " 'Fraction',\n",
       " 'LinearRegression',\n",
       " 'NormalDist',\n",
       " 'StatisticsError',\n",
       " '_SQRT2',\n",
       " '__all__',\n",
       " '__annotations__',\n",
       " '__builtins__',\n",
       " '__cached__',\n",
       " '__doc__',\n",
       " '__file__',\n",
       " '__loader__',\n",
       " '__name__',\n",
       " '__package__',\n",
       " '__spec__',\n",
       " '_coerce',\n",
       " '_convert',\n",
       " '_decimal_sqrt_of_frac',\n",
       " '_exact_ratio',\n",
       " '_fail_neg',\n",
       " '_float_sqrt_of_frac',\n",
       " '_integer_sqrt_of_frac_rto',\n",
       " '_isfinite',\n",
       " '_mean_stdev',\n",
       " '_normal_dist_inv_cdf',\n",
       " '_rank',\n",
       " '_sqrt_bit_width',\n",
       " '_ss',\n",
       " '_sum',\n",
       " 'bisect_left',\n",
       " 'bisect_right',\n",
       " 'correlation',\n",
       " 'count',\n",
       " 'covariance',\n",
       " 'defaultdict',\n",
       " 'erf',\n",
       " 'exp',\n",
       " 'fabs',\n",
       " 'fmean',\n",
       " 'fsum',\n",
       " 'geometric_mean',\n",
       " 'groupby',\n",
       " 'harmonic_mean',\n",
       " 'hypot',\n",
       " 'itemgetter',\n",
       " 'linear_regression',\n",
       " 'log',\n",
       " 'math',\n",
       " 'mean',\n",
       " 'median',\n",
       " 'median_grouped',\n",
       " 'median_high',\n",
       " 'median_low',\n",
       " 'mode',\n",
       " 'multimode',\n",
       " 'namedtuple',\n",
       " 'numbers',\n",
       " 'pstdev',\n",
       " 'pvariance',\n",
       " 'quantiles',\n",
       " 'random',\n",
       " 'reduce',\n",
       " 'repeat',\n",
       " 'sqrt',\n",
       " 'stdev',\n",
       " 'sumprod',\n",
       " 'sys',\n",
       " 'tau',\n",
       " 'variance']"
      ]
     },
     "execution_count": 18,
     "metadata": {},
     "output_type": "execute_result"
    }
   ],
   "source": [
    "dir(statistics)"
   ]
  },
  {
   "cell_type": "markdown",
   "id": "c13f43a6-b22d-4c39-997e-1f1165a9dda1",
   "metadata": {},
   "source": [
    "# Python Projects: Web programming"
   ]
  },
  {
   "cell_type": "markdown",
   "id": "6f371276-7e29-42e1-87bb-fef2c797c580",
   "metadata": {},
   "source": [
    "Create a Python project to get the title, genre, rating and the url of the specific movie from IMDb movie database."
   ]
  },
  {
   "cell_type": "code",
   "execution_count": 36,
   "id": "ffa1f2ca-01c5-4f9d-98b8-4f5be7804482",
   "metadata": {},
   "outputs": [],
   "source": [
    "import requests\n",
    "import bs4"
   ]
  },
  {
   "cell_type": "code",
   "execution_count": 58,
   "id": "b11c0537-1130-4874-bd88-66b8834343f1",
   "metadata": {},
   "outputs": [],
   "source": [
    "def imdb_top(n):\n",
    "    result = requests.get(f\"https://www.imdb.com/search/title/?title_type=feature&sort=user_rating,desc&count={n}\")\n",
    "    soup = bs4.BeautifulSoup(result.content,\"html.parser\")\n",
    "    print(result.text)\n",
    "\n",
    "    for m in soup.select(\".sc-300a8231-0 gTnHyA\"):\n",
    "        print(\"\\n\" + m[0].a.h3.text)  # movie's name\n",
    "\n",
    "    # sc-300a8231-0 gTnHyA\n",
    "    # sc-300a8231-0 gTnHyA"
   ]
  },
  {
   "cell_type": "code",
   "execution_count": 59,
   "id": "ab21d8b5-a207-45a5-8d86-703c09d56188",
   "metadata": {},
   "outputs": [
    {
     "name": "stdout",
     "output_type": "stream",
     "text": [
      "<html>\n",
      "<head><title>403 Forbidden</title></head>\n",
      "<body>\n",
      "<center><h1>403 Forbidden</h1></center>\n",
      "</body>\n",
      "</html>\n",
      "\n"
     ]
    }
   ],
   "source": [
    "imdb_top(5)"
   ]
  },
  {
   "cell_type": "markdown",
   "id": "b84a3060-99b4-4289-b945-7d63e65e1eef",
   "metadata": {},
   "source": [
    "Create a Python project to fetch job title and location from indeed website."
   ]
  },
  {
   "cell_type": "code",
   "execution_count": 61,
   "id": "e435d675-a5b6-406e-8aae-9aa5be408924",
   "metadata": {},
   "outputs": [],
   "source": [
    "import requests\n",
    "from bs4 import BeautifulSoup"
   ]
  },
  {
   "cell_type": "code",
   "execution_count": 97,
   "id": "ea447fb9-4342-4e6a-88c3-296464733343",
   "metadata": {},
   "outputs": [],
   "source": [
    "def job_Search(location):\n",
    "    url = f\"https://in.indeed.com/jobs?q=&l={location}\"\n",
    "    res = requests.get(url)\n",
    "    # print(res.text)\n",
    "    soup = BeautifulSoup(res.text,'html.parser')\n",
    "    data1 = soup.select('li')\n",
    "    data2 = soup.select('.css-1ac2h1w.eu4oa1w0')\n",
    "    print(data2)"
   ]
  },
  {
   "cell_type": "code",
   "execution_count": 98,
   "id": "b5323a01-79af-4a51-95bb-b0e1afc6a079",
   "metadata": {},
   "outputs": [
    {
     "name": "stdout",
     "output_type": "stream",
     "text": [
      "[]\n"
     ]
    }
   ],
   "source": [
    "job_Search('Ahmedabad')"
   ]
  },
  {
   "cell_type": "code",
   "execution_count": null,
   "id": "e368d49f-f320-45d4-a89e-a3b31954200d",
   "metadata": {},
   "outputs": [],
   "source": []
  }
 ],
 "metadata": {
  "kernelspec": {
   "display_name": "Python 3 (ipykernel)",
   "language": "python",
   "name": "python3"
  },
  "language_info": {
   "codemirror_mode": {
    "name": "ipython",
    "version": 3
   },
   "file_extension": ".py",
   "mimetype": "text/x-python",
   "name": "python",
   "nbconvert_exporter": "python",
   "pygments_lexer": "ipython3",
   "version": "3.12.7"
  }
 },
 "nbformat": 4,
 "nbformat_minor": 5
}
