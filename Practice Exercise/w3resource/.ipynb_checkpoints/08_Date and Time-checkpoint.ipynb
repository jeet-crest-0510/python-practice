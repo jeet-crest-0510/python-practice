{
 "cells": [
  {
   "cell_type": "markdown",
   "id": "409d3578-2ec2-40ce-b944-d36245492d5f",
   "metadata": {
    "jp-MarkdownHeadingCollapsed": true
   },
   "source": [
    "# DateTime "
   ]
  },
  {
   "cell_type": "markdown",
   "id": "03482aea-4557-4bb3-aae6-f27d162c12df",
   "metadata": {},
   "source": [
    "Write a Python program that takes a tuple containing 9 elements corresponding to structure time as an argument and returns a string representing it."
   ]
  },
  {
   "cell_type": "code",
   "execution_count": 14,
   "id": "cc5d1748-938c-401b-a723-7a8a990d1f9a",
   "metadata": {},
   "outputs": [],
   "source": [
    "import datetime\n",
    "import time"
   ]
  },
  {
   "cell_type": "code",
   "execution_count": 15,
   "id": "efe951a6-48ff-4e99-8548-df283e94fa98",
   "metadata": {},
   "outputs": [],
   "source": [
    "today = datetime.date.today()"
   ]
  },
  {
   "cell_type": "code",
   "execution_count": 16,
   "id": "3ac284e4-b81f-40a9-a08c-88cf74622ace",
   "metadata": {},
   "outputs": [
    {
     "data": {
      "text/plain": [
       "'Wed Jan  8 00:00:00 2025'"
      ]
     },
     "execution_count": 16,
     "metadata": {},
     "output_type": "execute_result"
    }
   ],
   "source": [
    "today.ctime()"
   ]
  },
  {
   "cell_type": "code",
   "execution_count": 17,
   "id": "54175aed-7688-4b32-bee7-788abd039cfe",
   "metadata": {},
   "outputs": [
    {
     "name": "stdout",
     "output_type": "stream",
     "text": [
      "Result: Sun Jan 22 02:34:06 2020\n"
     ]
    }
   ],
   "source": [
    "# Define a tuple 't' representing a specific time: (year, month, day, hour, minute, second, day of the week, day of the year, daylight saving time)\n",
    "t = (2020, 1, 22, 2, 34, 6, 6, 362, 0)\n",
    "\n",
    "# Convert the given time tuple 't' into a string representing the local time and store it in the variable 'result'\n",
    "result = time.asctime(t)\n",
    "\n",
    "# Print a message indicating the result of the conversion\n",
    "print(\"Result:\", result)"
   ]
  },
  {
   "cell_type": "code",
   "execution_count": 18,
   "id": "f1179293-3f63-4781-8803-d18d444014b2",
   "metadata": {},
   "outputs": [
    {
     "data": {
      "text/plain": [
       "'Wed Jan  8 12:09:05 2025'"
      ]
     },
     "execution_count": 18,
     "metadata": {},
     "output_type": "execute_result"
    }
   ],
   "source": [
    "time.asctime()"
   ]
  },
  {
   "cell_type": "markdown",
   "id": "63ac12bc-c7cb-4ea4-a5a4-d93c1fc073aa",
   "metadata": {},
   "source": [
    "Write a Python program to parse a string representing time and return the time structure."
   ]
  },
  {
   "cell_type": "code",
   "execution_count": 21,
   "id": "e3993831-f0d1-47e2-8833-dbc9903e9df4",
   "metadata": {},
   "outputs": [
    {
     "name": "stdout",
     "output_type": "stream",
     "text": [
      "String representing time: 22 January, 2020\n",
      "time.struct_time(tm_year=2020, tm_mon=1, tm_mday=22, tm_hour=0, tm_min=0, tm_sec=0, tm_wday=2, tm_yday=22, tm_isdst=-1)\n"
     ]
    }
   ],
   "source": [
    "time_string = \"22 January, 2020\"\n",
    "print(\"String representing time:\", time_string)\n",
    "\n",
    "# Parse the time string using the specified format and store the result in the variable 'result'\n",
    "result = time.strptime(time_string, \"%d %B, %Y\")\n",
    "print(result)"
   ]
  },
  {
   "cell_type": "code",
   "execution_count": 22,
   "id": "11f262a4-4cd8-4e17-8792-37c2f6e9b62e",
   "metadata": {},
   "outputs": [
    {
     "name": "stdout",
     "output_type": "stream",
     "text": [
      "\n",
      "String representing time: 30 Nov 00\n",
      "time.struct_time(tm_year=2000, tm_mon=11, tm_mday=30, tm_hour=0, tm_min=0, tm_sec=0, tm_wday=3, tm_yday=335, tm_isdst=-1)\n"
     ]
    }
   ],
   "source": [
    "time_string = \"30 Nov 00\"\n",
    "print(\"\\nString representing time:\", time_string)\n",
    "result = time.strptime(time_string, \"%d %b %y\")\n",
    "print(result)"
   ]
  },
  {
   "cell_type": "code",
   "execution_count": 23,
   "id": "5c4c0555-2c3b-4da3-b881-711e1e03c616",
   "metadata": {},
   "outputs": [
    {
     "name": "stdout",
     "output_type": "stream",
     "text": [
      "\n",
      "String representing time: 04/11/15 11:55:23\n",
      "time.struct_time(tm_year=2015, tm_mon=4, tm_mday=11, tm_hour=11, tm_min=55, tm_sec=23, tm_wday=5, tm_yday=101, tm_isdst=-1)\n"
     ]
    }
   ],
   "source": [
    "time_string = '04/11/15 11:55:23'\n",
    "print(\"\\nString representing time:\", time_string)\n",
    "result = time.strptime(time_string, \"%m/%d/%y %H:%M:%S\")\n",
    "print(result)"
   ]
  },
  {
   "cell_type": "code",
   "execution_count": 24,
   "id": "578005e4-0c53-4a89-b405-08c9b8a3bb5c",
   "metadata": {},
   "outputs": [
    {
     "name": "stdout",
     "output_type": "stream",
     "text": [
      "\n",
      "String representing time: 12-11-2019\n",
      "time.struct_time(tm_year=2019, tm_mon=12, tm_mday=11, tm_hour=0, tm_min=0, tm_sec=0, tm_wday=2, tm_yday=345, tm_isdst=-1)\n"
     ]
    }
   ],
   "source": [
    "time_string = '12-11-2019'\n",
    "print(\"\\nString representing time:\", time_string)\n",
    "result = time.strptime(time_string, \"%m-%d-%Y\")\n",
    "print(result)"
   ]
  },
  {
   "cell_type": "code",
   "execution_count": 25,
   "id": "c08e34cc-183c-48ed-be46-2c49be1c13e2",
   "metadata": {},
   "outputs": [
    {
     "name": "stdout",
     "output_type": "stream",
     "text": [
      "\n",
      "String representing time: 13::55::26\n",
      "time.struct_time(tm_year=1900, tm_mon=1, tm_mday=1, tm_hour=13, tm_min=55, tm_sec=26, tm_wday=0, tm_yday=1, tm_isdst=-1)\n"
     ]
    }
   ],
   "source": [
    "time_string = '13::55::26'\n",
    "print(\"\\nString representing time:\", time_string)\n",
    "result = time.strptime(time_string, \"%H::%M::%S\")\n",
    "print(result)"
   ]
  },
  {
   "cell_type": "markdown",
   "id": "53546e64-18e4-4dd7-b527-d28430115893",
   "metadata": {},
   "source": [
    "# Pendulum"
   ]
  },
  {
   "cell_type": "code",
   "execution_count": 26,
   "id": "0c936b4d-85fd-4725-bc4a-a89062ae99b5",
   "metadata": {},
   "outputs": [],
   "source": [
    "import pendulum"
   ]
  },
  {
   "cell_type": "code",
   "execution_count": 31,
   "id": "042dc753-6de0-4c86-a669-6e10fff346ae",
   "metadata": {},
   "outputs": [],
   "source": [
    "datetime = pendulum.now()"
   ]
  },
  {
   "cell_type": "code",
   "execution_count": 32,
   "id": "a2ba8add-77ef-403e-9d4d-6bb865c379cd",
   "metadata": {},
   "outputs": [
    {
     "data": {
      "text/plain": [
       "DateTime(2025, 1, 8, 12, 59, 41, 701718, tzinfo=Timezone('Asia/Calcutta'))"
      ]
     },
     "execution_count": 32,
     "metadata": {},
     "output_type": "execute_result"
    }
   ],
   "source": [
    "datetime"
   ]
  },
  {
   "cell_type": "code",
   "execution_count": 33,
   "id": "17df6300-903c-4215-8322-34fea50df06d",
   "metadata": {},
   "outputs": [
    {
     "data": {
      "text/plain": [
       "DateTime(2025, 1, 10, 12, 59, 41, 701718, tzinfo=Timezone('Asia/Calcutta'))"
      ]
     },
     "execution_count": 33,
     "metadata": {},
     "output_type": "execute_result"
    }
   ],
   "source": [
    "datetime.add(days= 2)"
   ]
  },
  {
   "cell_type": "code",
   "execution_count": 35,
   "id": "6896f39f-e520-4cca-9567-a7c04c15c652",
   "metadata": {},
   "outputs": [
    {
     "data": {
      "text/plain": [
       "'2025-01-08 12:59:41'"
      ]
     },
     "execution_count": 35,
     "metadata": {},
     "output_type": "execute_result"
    }
   ],
   "source": [
    "datetime.format('YYYY-MM-DD hh:mm:ss')"
   ]
  },
  {
   "cell_type": "code",
   "execution_count": 36,
   "id": "af9dc366-2909-40af-8639-d5ac2cf24ff4",
   "metadata": {},
   "outputs": [],
   "source": [
    "london_datetime = pendulum.now('Europe/London')"
   ]
  },
  {
   "cell_type": "code",
   "execution_count": 37,
   "id": "d9c3f097-482c-4d73-8f98-2f4a5c45a7ca",
   "metadata": {},
   "outputs": [
    {
     "data": {
      "text/plain": [
       "DateTime(2025, 1, 8, 7, 35, 18, 511378, tzinfo=Timezone('Europe/London'))"
      ]
     },
     "execution_count": 37,
     "metadata": {},
     "output_type": "execute_result"
    }
   ],
   "source": [
    "london_datetime"
   ]
  },
  {
   "cell_type": "code",
   "execution_count": 38,
   "id": "8cba3c84-13e6-4051-9e7f-956440031f37",
   "metadata": {},
   "outputs": [],
   "source": [
    "asia_time = london_datetime.in_tz('Asia/Calcutta')"
   ]
  },
  {
   "cell_type": "code",
   "execution_count": 39,
   "id": "babf85c1-25c4-4677-9f59-d116514d9bef",
   "metadata": {},
   "outputs": [
    {
     "data": {
      "text/plain": [
       "DateTime(2025, 1, 8, 13, 5, 18, 511378, tzinfo=Timezone('Asia/Calcutta'))"
      ]
     },
     "execution_count": 39,
     "metadata": {},
     "output_type": "execute_result"
    }
   ],
   "source": [
    "asia_time"
   ]
  },
  {
   "cell_type": "markdown",
   "id": "42f7609d-6af1-42ba-8c77-c06b41e89962",
   "metadata": {},
   "source": [
    "Write a Python program to find the difference in days between two arbitrary dates using Pendulum module."
   ]
  },
  {
   "cell_type": "code",
   "execution_count": 40,
   "id": "837e60cf-cdb0-4347-8523-c7e08671bb12",
   "metadata": {},
   "outputs": [
    {
     "name": "stdout",
     "output_type": "stream",
     "text": [
      "Difference in days between 2018-03-15 and 2018-04-20: 36 days\n"
     ]
    }
   ],
   "source": [
    "date_str1 = \"2018-03-15\"\n",
    "date_str2 = \"2018-04-20\"\n",
    "\n",
    "date1 = pendulum.parse(date_str1)\n",
    "date2 = pendulum.parse(date_str2)\n",
    "\n",
    "days_difference = date2.diff(date1).in_days()\n",
    "\n",
    "print(f\"Difference in days between {date_str1} and {date_str2}: {days_difference} days\")"
   ]
  },
  {
   "cell_type": "markdown",
   "id": "b7b9309c-8e8d-49b3-8353-34a763febaee",
   "metadata": {},
   "source": [
    "Write a Python program to add 3 hours and 30 minutes to the current date and time, then subtract 1 day using Pendulum module."
   ]
  },
  {
   "cell_type": "code",
   "execution_count": 41,
   "id": "b67fb758-2659-4cac-a702-7755109e769e",
   "metadata": {},
   "outputs": [
    {
     "name": "stdout",
     "output_type": "stream",
     "text": [
      "Current Date and Time: 2025-01-08 13:11:50.059260+05:30\n",
      "After adding 3 hours and 30 minutes: 2025-01-08 16:41:50.059260+05:30\n",
      "After subtracting 1 day: 2025-01-07 16:41:50.059260+05:30\n"
     ]
    }
   ],
   "source": [
    "current_datetime = pendulum.now()\n",
    "\n",
    "new_datetime = current_datetime.add(hours=3, minutes=30)\n",
    "\n",
    "result_datetime = new_datetime.subtract(days=1)\n",
    "\n",
    "print(\"Current Date and Time:\", current_datetime)\n",
    "print(\"After adding 3 hours and 30 minutes:\", new_datetime)\n",
    "print(\"After subtracting 1 day:\", result_datetime)\n"
   ]
  },
  {
   "cell_type": "markdown",
   "id": "d964da3a-5c1d-4928-abb2-ff500934852b",
   "metadata": {},
   "source": [
    "Write a Python program to find the human-readable difference between two arbitrary dates (e.g., \"2 weeks and 3 days ago\") using Pendulum module."
   ]
  },
  {
   "cell_type": "code",
   "execution_count": 46,
   "id": "7e174772-9b18-43b3-b173-c65306d694ac",
   "metadata": {},
   "outputs": [
    {
     "name": "stdout",
     "output_type": "stream",
     "text": [
      "Difference between 2019-03-15 and 2019-04-20: <Interval [2019-03-15 00:00:00+00:00 -> 2019-04-20 00:00:00+00:00]>\n",
      "Difference between 2019-03-15 and 2019-04-20: 1 month\n"
     ]
    }
   ],
   "source": [
    "date_str1 = \"2019-03-15\"\n",
    "date_str2 = \"2019-04-20\"\n",
    "\n",
    "date1 = pendulum.parse(date_str1)\n",
    "date2 = pendulum.parse(date_str2)\n",
    "\n",
    "difference = date2.diff(date1)\n",
    "print(f\"Difference between {date_str1} and {date_str2}: {difference}\")\n",
    "\n",
    "human_readable_difference = date2.diff_for_humans(date1, absolute=True)\n",
    "print(f\"Difference between {date_str1} and {date_str2}: {human_readable_difference}\")\n"
   ]
  },
  {
   "cell_type": "markdown",
   "id": "09d116b9-2777-4353-948d-af43b6df8bb4",
   "metadata": {},
   "source": [
    "Write a Python program to determine if the current year is a leap year using Pendulum module."
   ]
  },
  {
   "cell_type": "code",
   "execution_count": 47,
   "id": "cdefef39-90c7-4bc9-b7fa-896c0f3e4883",
   "metadata": {},
   "outputs": [
    {
     "name": "stdout",
     "output_type": "stream",
     "text": [
      "2025 is not a leap year.\n"
     ]
    }
   ],
   "source": [
    "import calendar\n",
    "\n",
    "current_year = pendulum.now().year\n",
    "\n",
    "is_leap_year = calendar.isleap(current_year)\n",
    "\n",
    "if is_leap_year:\n",
    "    print(f\"{current_year} is a leap year.\")\n",
    "else:\n",
    "    print(f\"{current_year} is not a leap year.\")\n"
   ]
  },
  {
   "cell_type": "markdown",
   "id": "96c9b912-bb05-4978-8651-81f1b5c62d00",
   "metadata": {},
   "source": [
    "Write a Python program to print the start and end dates of the current month"
   ]
  },
  {
   "cell_type": "code",
   "execution_count": 50,
   "id": "94d17e90-23f0-416a-9b53-1c564ceaa9cd",
   "metadata": {},
   "outputs": [
    {
     "name": "stdout",
     "output_type": "stream",
     "text": [
      "First day of the current month: 2025-01-01 00:00:00+05:30\n",
      "Last day of the current month: 2025-01-31 23:59:59.999999+05:30\n"
     ]
    }
   ],
   "source": [
    "current_datetime = pendulum.now()\n",
    "\n",
    "first_day_of_month = current_datetime.start_of('month')  #'week'\n",
    "last_day_of_month = current_datetime.end_of('month')\n",
    "\n",
    "print(\"First day of the current month:\", first_day_of_month)\n",
    "print(\"Last day of the current month:\", last_day_of_month)"
   ]
  },
  {
   "cell_type": "markdown",
   "id": "725dbaec-3ac9-402e-99d5-80c03e77ca09",
   "metadata": {},
   "source": [
    "Write a  Python program to check if the current day is a weekday or a weekend day using Pendulum module."
   ]
  },
  {
   "cell_type": "code",
   "execution_count": 51,
   "id": "b24133d6-b286-4afa-850b-088576cad998",
   "metadata": {},
   "outputs": [
    {
     "name": "stdout",
     "output_type": "stream",
     "text": [
      "Today is a weekday.\n"
     ]
    }
   ],
   "source": [
    "current_datetime = pendulum.now()\n",
    "\n",
    "# Get the day of the week (1 for Monday, 2 for Tuesday, ..., 7 for Sunday)\n",
    "day_of_week = current_datetime.day_of_week\n",
    "\n",
    "is_weekday = day_of_week >= 1 and day_of_week <= 5\n",
    "\n",
    "is_weekend = day_of_week == 6 or day_of_week == 7\n",
    "\n",
    "if is_weekday:\n",
    "    print(\"Today is a weekday.\")\n",
    "elif is_weekend:\n",
    "    print(\"Today is a weekend day.\")\n",
    "else:\n",
    "    print(\"Error in day detection.\")"
   ]
  },
  {
   "cell_type": "markdown",
   "id": "fc6ba188-4687-4cd9-b682-48d62504c2a0",
   "metadata": {},
   "source": [
    "Write a Python program to find the overlapping period from two given two time intervals using Pendulum module."
   ]
  },
  {
   "cell_type": "code",
   "execution_count": 52,
   "id": "fe0a74ea-45f8-4a8e-90a9-ebdbd698c430",
   "metadata": {},
   "outputs": [
    {
     "name": "stdout",
     "output_type": "stream",
     "text": [
      "There is an overlapping period from 2020-03-15 10:30:00+00:00 to 2020-03-15 12:00:00+00:00.\n"
     ]
    }
   ],
   "source": [
    "interval1_start = \"2020-03-15T08:00:00\"\n",
    "interval1_end = \"2020-03-15T12:00:00\"\n",
    "\n",
    "interval2_start = \"2020-03-15T10:30:00\"\n",
    "interval2_end = \"2020-03-15T14:00:00\"\n",
    "\n",
    "# Parse the time intervals into Pendulum objects\n",
    "interval1_start_time = pendulum.parse(interval1_start)\n",
    "interval1_end_time = pendulum.parse(interval1_end)\n",
    "\n",
    "interval2_start_time = pendulum.parse(interval2_start)\n",
    "interval2_end_time = pendulum.parse(interval2_end)\n",
    "\n",
    "# Find the overlapping period\n",
    "overlap_start = max(interval1_start_time, interval2_start_time)\n",
    "overlap_end = min(interval1_end_time, interval2_end_time)\n",
    "\n",
    "# Check if there is an overlap\n",
    "if overlap_start <= overlap_end:\n",
    "    print(f\"There is an overlapping period from {overlap_start} to {overlap_end}.\")\n",
    "else:\n",
    "    print(\"There is no overlapping period.\")\n"
   ]
  },
  {
   "cell_type": "markdown",
   "id": "9a4d1df1-1ccb-4975-8e5a-42afd55f7583",
   "metadata": {},
   "source": [
    "Write a Python program to convert the current date and time to a Unix timestamp using Pendulum module."
   ]
  },
  {
   "cell_type": "code",
   "execution_count": 53,
   "id": "f72044dd-bf8f-4c51-b916-6fcb2773219c",
   "metadata": {},
   "outputs": [
    {
     "name": "stdout",
     "output_type": "stream",
     "text": [
      "Unix timestamp for the current date and time: 1736322935.011917\n"
     ]
    }
   ],
   "source": [
    "current_datetime = pendulum.now()\n",
    "\n",
    "# Convert the current date and time to a Unix timestamp\n",
    "unix_timestamp = current_datetime.timestamp()\n",
    "\n",
    "print(\"Unix timestamp for the current date and time:\", unix_timestamp)"
   ]
  },
  {
   "cell_type": "markdown",
   "id": "ea5f4524-f2ac-41ea-9228-638cf2b22bbd",
   "metadata": {},
   "source": [
    "Write a Python program to calculate the person's age from a given birthdate using Pendulum module."
   ]
  },
  {
   "cell_type": "code",
   "execution_count": 54,
   "id": "78eb73b2-44cc-4b22-b7e0-34646f226615",
   "metadata": {},
   "outputs": [
    {
     "name": "stdout",
     "output_type": "stream",
     "text": [
      "The person's age with birthdate 2003-10-05 is 21 years.\n"
     ]
    }
   ],
   "source": [
    "\n",
    "def calculate_age(birthdate):\n",
    "    current_date = pendulum.now()\n",
    "\n",
    "    birthdate = pendulum.parse(birthdate)\n",
    "\n",
    "    age = current_date.diff(birthdate).in_years()\n",
    "\n",
    "    return age\n",
    "\n",
    "birthdate_str = \"2003-10-05\"\n",
    "\n",
    "person_age = calculate_age(birthdate_str)\n",
    "\n",
    "print(f\"The person's age with birthdate {birthdate_str} is {person_age} years.\")\n"
   ]
  },
  {
   "cell_type": "markdown",
   "id": "2b2edd5e-1622-467f-9e75-e8708f6b24ec",
   "metadata": {},
   "source": [
    "Write a Python program to calculate and print the amount of time until the next Saturday using Pendulum module."
   ]
  },
  {
   "cell_type": "code",
   "execution_count": 55,
   "id": "7de352f5-6f1f-4fcf-a97a-a4ec9cf23faf",
   "metadata": {},
   "outputs": [
    {
     "name": "stdout",
     "output_type": "stream",
     "text": [
      "Time until the next Saturday: 4 days\n"
     ]
    }
   ],
   "source": [
    "current_datetime = pendulum.now()\n",
    "\n",
    "# Calculate the days remaining until the next Saturday (ISO weekday 6)\n",
    "days_until_saturday = (6 - current_datetime.weekday()) % 7\n",
    "\n",
    "# Calculate the next Saturday's date\n",
    "next_saturday = current_datetime.add(days=days_until_saturday)\n",
    "\n",
    "time_until_saturday = current_datetime.diff(next_saturday)\n",
    "\n",
    "print(f\"Time until the next Saturday: {time_until_saturday.in_words()}\")"
   ]
  },
  {
   "cell_type": "markdown",
   "id": "0d7cb05c-f1c6-4b4c-96ab-f1e2293085c3",
   "metadata": {},
   "source": [
    "Write a Python program to calculate and print the time remaining until that event of a given a future date and time using Pendulum module."
   ]
  },
  {
   "cell_type": "code",
   "execution_count": 57,
   "id": "d3dd0502-da23-4cc2-b61c-559f627b96f8",
   "metadata": {},
   "outputs": [
    {
     "name": "stdout",
     "output_type": "stream",
     "text": [
      "Time remaining until the event (2025-12-31 18:00:00): 11 months 3 weeks 2 days 9 hours 50 minutes 39 seconds\n"
     ]
    }
   ],
   "source": [
    "def time_until_event(event_datetime):\n",
    "    current_datetime = pendulum.now()\n",
    "\n",
    "    time_until_event = current_datetime.diff(event_datetime)\n",
    "\n",
    "    print(f\"Time remaining until the event ({event_datetime.format('YYYY-MM-DD HH:mm:ss')}): {time_until_event.in_words()}\")\n",
    "\n",
    "future_event_str = \"2025-12-31 18:00:00\"\n",
    "\n",
    "future_event_datetime = pendulum.parse(future_event_str)\n",
    "\n",
    "time_until_event(future_event_datetime)"
   ]
  },
  {
   "cell_type": "markdown",
   "id": "692c7a3b-98cd-46b8-b3fb-632ddb9f8e6f",
   "metadata": {},
   "source": [
    "Write a Python program that creates a countdown timer that prints the remaining time in seconds every second until reaching zero using Pendulum module."
   ]
  },
  {
   "cell_type": "code",
   "execution_count": 2,
   "id": "e40e9c2e-298a-46af-bb61-35b14d8606db",
   "metadata": {},
   "outputs": [],
   "source": [
    "import time\n",
    "import pendulum"
   ]
  },
  {
   "cell_type": "code",
   "execution_count": 9,
   "id": "ca697a88-8076-449d-84da-02ea21029be6",
   "metadata": {},
   "outputs": [],
   "source": [
    "def countdown(end_time):\n",
    "    current = pendulum.now()\n",
    "    diff = end_time.diff(current)\n",
    "    \n",
    "    while diff.total_seconds() > 0:\n",
    "        print(f\"Remaining Time: {diff.total_seconds()} seconds\")\n",
    "        time.sleep(1)\n",
    "        current = pendulum.now()\n",
    "        diff = end_time.diff(current)\n",
    "        \n",
    "    print(\"CountDown Completed!!\")"
   ]
  },
  {
   "cell_type": "code",
   "execution_count": 10,
   "id": "87122225-c905-4fb2-88f3-937897a69353",
   "metadata": {},
   "outputs": [
    {
     "name": "stdout",
     "output_type": "stream",
     "text": [
      "Remaining Time: 19825.156287 seconds\n",
      "Remaining Time: 19824.155556 seconds\n",
      "Remaining Time: 19823.154475 seconds\n",
      "Remaining Time: 19822.153802 seconds\n",
      "Remaining Time: 19821.153073 seconds\n",
      "Remaining Time: 19820.152094 seconds\n",
      "Remaining Time: 19819.151335 seconds\n",
      "Remaining Time: 19818.150596 seconds\n",
      "Remaining Time: 19817.142849 seconds\n",
      "Remaining Time: 19816.141526 seconds\n",
      "Remaining Time: 19815.140524 seconds\n",
      "Remaining Time: 19814.139621 seconds\n",
      "Remaining Time: 19813.139263 seconds\n",
      "Remaining Time: 19812.138795 seconds\n",
      "Remaining Time: 19811.138088 seconds\n",
      "Remaining Time: 19810.137408 seconds\n",
      "Remaining Time: 19809.136593 seconds\n",
      "Remaining Time: 19808.135787 seconds\n",
      "Remaining Time: 19807.135019 seconds\n",
      "Remaining Time: 19806.134222 seconds\n",
      "Remaining Time: 19805.133237 seconds\n",
      "Remaining Time: 19804.132406 seconds\n",
      "Remaining Time: 19803.131714 seconds\n",
      "Remaining Time: 19802.130938 seconds\n",
      "Remaining Time: 19801.130233 seconds\n",
      "Remaining Time: 19800.128878 seconds\n",
      "Remaining Time: 19799.12847 seconds\n",
      "Remaining Time: 19798.128112 seconds\n",
      "Remaining Time: 19797.127 seconds\n",
      "Remaining Time: 19796.125677 seconds\n",
      "Remaining Time: 19795.125339 seconds\n"
     ]
    },
    {
     "ename": "KeyboardInterrupt",
     "evalue": "",
     "output_type": "error",
     "traceback": [
      "\u001b[1;31m---------------------------------------------------------------------------\u001b[0m",
      "\u001b[1;31mKeyboardInterrupt\u001b[0m                         Traceback (most recent call last)",
      "Cell \u001b[1;32mIn[10], line 3\u001b[0m\n\u001b[0;32m      1\u001b[0m end_time \u001b[38;5;241m=\u001b[39m \u001b[38;5;124m\"\u001b[39m\u001b[38;5;124m2025-01-08 13:59:00\u001b[39m\u001b[38;5;124m\"\u001b[39m\n\u001b[0;32m      2\u001b[0m end_time \u001b[38;5;241m=\u001b[39m pendulum\u001b[38;5;241m.\u001b[39mparse(end_time)\n\u001b[1;32m----> 3\u001b[0m countdown(end_time)\n",
      "Cell \u001b[1;32mIn[9], line 7\u001b[0m, in \u001b[0;36mcountdown\u001b[1;34m(end_time)\u001b[0m\n\u001b[0;32m      5\u001b[0m \u001b[38;5;28;01mwhile\u001b[39;00m diff\u001b[38;5;241m.\u001b[39mtotal_seconds() \u001b[38;5;241m>\u001b[39m \u001b[38;5;241m0\u001b[39m:\n\u001b[0;32m      6\u001b[0m     \u001b[38;5;28mprint\u001b[39m(\u001b[38;5;124mf\u001b[39m\u001b[38;5;124m\"\u001b[39m\u001b[38;5;124mRemaining Time: \u001b[39m\u001b[38;5;132;01m{\u001b[39;00mdiff\u001b[38;5;241m.\u001b[39mtotal_seconds()\u001b[38;5;132;01m}\u001b[39;00m\u001b[38;5;124m seconds\u001b[39m\u001b[38;5;124m\"\u001b[39m)\n\u001b[1;32m----> 7\u001b[0m     time\u001b[38;5;241m.\u001b[39msleep(\u001b[38;5;241m1\u001b[39m)\n\u001b[0;32m      8\u001b[0m     current \u001b[38;5;241m=\u001b[39m pendulum\u001b[38;5;241m.\u001b[39mnow()\n\u001b[0;32m      9\u001b[0m     diff \u001b[38;5;241m=\u001b[39m end_time\u001b[38;5;241m.\u001b[39mdiff(current)\n",
      "\u001b[1;31mKeyboardInterrupt\u001b[0m: "
     ]
    }
   ],
   "source": [
    "end_time = \"2025-01-08 13:59:00\"\n",
    "end_time = pendulum.parse(end_time)\n",
    "countdown(end_time)"
   ]
  },
  {
   "cell_type": "code",
   "execution_count": null,
   "id": "3b804859-54b0-4f82-ba86-b2052d7b0551",
   "metadata": {},
   "outputs": [],
   "source": []
  }
 ],
 "metadata": {
  "kernelspec": {
   "display_name": "Python 3 (ipykernel)",
   "language": "python",
   "name": "python3"
  },
  "language_info": {
   "codemirror_mode": {
    "name": "ipython",
    "version": 3
   },
   "file_extension": ".py",
   "mimetype": "text/x-python",
   "name": "python",
   "nbconvert_exporter": "python",
   "pygments_lexer": "ipython3",
   "version": "3.12.7"
  }
 },
 "nbformat": 4,
 "nbformat_minor": 5
}
