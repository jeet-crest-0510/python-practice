{
 "cells": [
  {
   "cell_type": "markdown",
   "id": "27576774-5369-4430-bd93-77eeaa8984f6",
   "metadata": {
    "jp-MarkdownHeadingCollapsed": true
   },
   "source": [
    "# Pandas Data Series"
   ]
  },
  {
   "cell_type": "markdown",
   "id": "02154fbe-6251-4c9c-a224-e806e6ac52bb",
   "metadata": {},
   "source": [
    "Write a Pandas program to create and display a one-dimensional array-like object containing an array of data using Pandas module.\n"
   ]
  },
  {
   "cell_type": "code",
   "execution_count": 1,
   "id": "3b5c3d1f-4173-4bef-8046-fa1995ca9f3a",
   "metadata": {},
   "outputs": [],
   "source": [
    "import pandas as pd"
   ]
  },
  {
   "cell_type": "code",
   "execution_count": 2,
   "id": "5c4c482d-1020-4bf8-87d0-6d1bae8e6570",
   "metadata": {},
   "outputs": [
    {
     "data": {
      "text/plain": [
       "[1, 2, 3, 4, 5]"
      ]
     },
     "execution_count": 2,
     "metadata": {},
     "output_type": "execute_result"
    }
   ],
   "source": [
    "arr = [1,2,3,4,5]\n",
    "arr"
   ]
  },
  {
   "cell_type": "code",
   "execution_count": 3,
   "id": "cbe9eff2-2f9a-4e33-96cd-c6180a16b068",
   "metadata": {},
   "outputs": [
    {
     "name": "stdout",
     "output_type": "stream",
     "text": [
      "0    1\n",
      "1    2\n",
      "2    3\n",
      "3    4\n",
      "4    5\n",
      "dtype: int64\n",
      "2\n"
     ]
    }
   ],
   "source": [
    "var = pd.Series(arr)\n",
    "print(var)\n",
    "print(var[1])"
   ]
  },
  {
   "cell_type": "code",
   "execution_count": 5,
   "id": "0595f7b6-3f85-485b-8a6f-22f65f3e92f8",
   "metadata": {},
   "outputs": [
    {
     "name": "stdout",
     "output_type": "stream",
     "text": [
      "[1, 2, 3, 4, 5]\n",
      "<class 'list'>\n"
     ]
    }
   ],
   "source": [
    "var1 = var.tolist()\n",
    "print(var1)\n",
    "print(type(var1))"
   ]
  },
  {
   "cell_type": "markdown",
   "id": "5f4a1316-af6c-4e4e-944c-664cdc0d2d02",
   "metadata": {},
   "source": [
    "Write a Pandas program to add, subtract, multiple and divide two Pandas Series."
   ]
  },
  {
   "cell_type": "code",
   "execution_count": 6,
   "id": "e91bc84a-ec55-4e58-9589-4dc88069be4a",
   "metadata": {},
   "outputs": [
    {
     "name": "stdout",
     "output_type": "stream",
     "text": [
      "0    1\n",
      "1    2\n",
      "2    3\n",
      "3    4\n",
      "4    5\n",
      "dtype: int64\n",
      "0    2\n",
      "1    3\n",
      "2    4\n",
      "3    5\n",
      "4    6\n",
      "dtype: int64\n"
     ]
    }
   ],
   "source": [
    "a = [1,2,3,4,5]\n",
    "b = [2,3,4,5,6]\n",
    "s1 = pd.Series(a)\n",
    "s2 = pd.Series(b)\n",
    "\n",
    "print(s1)\n",
    "print(s2)"
   ]
  },
  {
   "cell_type": "code",
   "execution_count": 7,
   "id": "31ee780a-9501-46a4-a9ac-55e2c1567497",
   "metadata": {},
   "outputs": [
    {
     "data": {
      "text/plain": [
       "0     3\n",
       "1     5\n",
       "2     7\n",
       "3     9\n",
       "4    11\n",
       "dtype: int64"
      ]
     },
     "execution_count": 7,
     "metadata": {},
     "output_type": "execute_result"
    }
   ],
   "source": [
    "s1 + s2"
   ]
  },
  {
   "cell_type": "code",
   "execution_count": 8,
   "id": "83e98246-3cb2-431d-92d9-1fb9d3ba7783",
   "metadata": {},
   "outputs": [
    {
     "data": {
      "text/plain": [
       "0    1\n",
       "1    1\n",
       "2    1\n",
       "3    1\n",
       "4    1\n",
       "dtype: int64"
      ]
     },
     "execution_count": 8,
     "metadata": {},
     "output_type": "execute_result"
    }
   ],
   "source": [
    "s2 - s1"
   ]
  },
  {
   "cell_type": "code",
   "execution_count": 9,
   "id": "3dcd5b5c-bc30-47a2-8cc1-4d05420647ac",
   "metadata": {},
   "outputs": [
    {
     "data": {
      "text/plain": [
       "0   -1\n",
       "1   -1\n",
       "2   -1\n",
       "3   -1\n",
       "4   -1\n",
       "dtype: int64"
      ]
     },
     "execution_count": 9,
     "metadata": {},
     "output_type": "execute_result"
    }
   ],
   "source": [
    "s1 - s2"
   ]
  },
  {
   "cell_type": "code",
   "execution_count": 10,
   "id": "ecdec297-87fb-46ba-b45d-7f09e8eeb289",
   "metadata": {},
   "outputs": [
    {
     "data": {
      "text/plain": [
       "0     2\n",
       "1     6\n",
       "2    12\n",
       "3    20\n",
       "4    30\n",
       "dtype: int64"
      ]
     },
     "execution_count": 10,
     "metadata": {},
     "output_type": "execute_result"
    }
   ],
   "source": [
    "s1 * s2"
   ]
  },
  {
   "cell_type": "code",
   "execution_count": 11,
   "id": "b0751320-353f-4f32-9657-e51bba17659e",
   "metadata": {},
   "outputs": [
    {
     "data": {
      "text/plain": [
       "0    2.000000\n",
       "1    1.500000\n",
       "2    1.333333\n",
       "3    1.250000\n",
       "4    1.200000\n",
       "dtype: float64"
      ]
     },
     "execution_count": 11,
     "metadata": {},
     "output_type": "execute_result"
    }
   ],
   "source": [
    "s2/s1"
   ]
  },
  {
   "cell_type": "markdown",
   "id": "ee7f8f86-6d32-4281-914b-2ed38c02adb5",
   "metadata": {},
   "source": [
    "Write a Pandas program to convert the first column of a DataFrame as a Series."
   ]
  },
  {
   "cell_type": "code",
   "execution_count": 13,
   "id": "ba501f7a-b119-4750-9c62-8eb092cee98d",
   "metadata": {},
   "outputs": [
    {
     "name": "stdout",
     "output_type": "stream",
     "text": [
      "Original DataFrame\n",
      "   col1  col2  col3\n",
      "0     1     4     7\n",
      "1     2     5     5\n",
      "2     3     6     8\n",
      "3     4     9    12\n",
      "4     7     5     1\n",
      "5    11     0    11\n",
      "\n",
      "1st column as a Series:\n",
      "0     1\n",
      "1     2\n",
      "2     3\n",
      "3     4\n",
      "4     7\n",
      "5    11\n",
      "Name: col1, dtype: int64\n",
      "<class 'pandas.core.series.Series'>\n"
     ]
    }
   ],
   "source": [
    "import pandas as pd\n",
    "\n",
    "d = {'col1': [1, 2, 3, 4, 7, 11], 'col2': [4, 5, 6, 9, 5, 0], 'col3': [7, 5, 8, 12, 1, 11]}\n",
    "df = pd.DataFrame(data=d)\n",
    "\n",
    "print(\"Original DataFrame\")\n",
    "print(df)\n",
    "\n",
    "s1 = df.iloc[:, 0]\n",
    "\n",
    "print(\"\\n1st column as a Series:\")\n",
    "print(s1)\n",
    "print(type(s1)) \n"
   ]
  },
  {
   "cell_type": "markdown",
   "id": "9d34bf30-8463-4ac7-a938-ac6aa8943f5b",
   "metadata": {},
   "source": [
    "Write a Pandas program to create a subset of a given series based on value and condition.\n",
    "\n"
   ]
  },
  {
   "cell_type": "code",
   "execution_count": 14,
   "id": "b9ecbdcf-35c2-4e3e-be1d-f3b2b22819a9",
   "metadata": {},
   "outputs": [
    {
     "name": "stdout",
     "output_type": "stream",
     "text": [
      "Original Data Series:\n",
      "0      0\n",
      "1      1\n",
      "2      2\n",
      "3      3\n",
      "4      4\n",
      "5      5\n",
      "6      6\n",
      "7      7\n",
      "8      8\n",
      "9      9\n",
      "10    10\n",
      "dtype: int64\n",
      "\n",
      "Subset of the above Data Series:\n",
      "0    0\n",
      "1    1\n",
      "2    2\n",
      "3    3\n",
      "4    4\n",
      "5    5\n",
      "dtype: int64\n"
     ]
    }
   ],
   "source": [
    "import pandas as pd\n",
    "\n",
    "s = pd.Series([0,1,2,3,4,5,6,7,8,9,10])\n",
    "\n",
    "print(\"Original Data Series:\")\n",
    "print(s)\n",
    "print(\"\\nSubset of the above Data Series:\")\n",
    "n = 6\n",
    "new_s = s[s < n]\n",
    "print(new_s)"
   ]
  },
  {
   "cell_type": "markdown",
   "id": "8cd94150-7015-4241-af54-b8d69e6ad191",
   "metadata": {},
   "source": [
    "Write a  Pandas program to compute the minimum, 25th percentile, median, 75th, and maximum of a given series."
   ]
  },
  {
   "cell_type": "code",
   "execution_count": 15,
   "id": "4a4ee4e6-acd7-4cf6-9381-6aa9f6eb61cc",
   "metadata": {},
   "outputs": [
    {
     "name": "stdout",
     "output_type": "stream",
     "text": [
      "Original Series:\n",
      "0      3.000938\n",
      "1     11.370722\n",
      "2     14.612143\n",
      "3      8.990256\n",
      "4     13.925283\n",
      "5     12.056875\n",
      "6     10.884719\n",
      "7      5.719827\n",
      "8      9.242017\n",
      "9     11.020006\n",
      "10     8.167892\n",
      "11    11.740654\n",
      "12     7.665620\n",
      "13    13.267388\n",
      "14    12.690883\n",
      "15     9.582355\n",
      "16     7.874878\n",
      "17    14.118931\n",
      "18     8.247458\n",
      "19     5.526727\n",
      "dtype: float64\n",
      "\n",
      "Minimum, 25th percentile, median, 75th, and maximum of a given series:\n",
      "[ 3.00093811  8.09463867 10.23353705 12.21537733 14.61214321]\n"
     ]
    }
   ],
   "source": [
    "import pandas as pd\n",
    "import numpy as np\n",
    "\n",
    "num_state = np.random.RandomState(100)\n",
    "num_series = pd.Series(num_state.normal(10, 4, 20))\n",
    "\n",
    "print(\"Original Series:\")\n",
    "print(num_series)\n",
    "\n",
    "result = np.percentile(num_series, q=[0, 25, 50, 75, 100])\n",
    "\n",
    "print(\"\\nMinimum, 25th percentile, median, 75th, and maximum of a given series:\")\n",
    "print(result)\n"
   ]
  },
  {
   "cell_type": "markdown",
   "id": "96a4a55e-01a4-4684-88a5-26e1bcbec843",
   "metadata": {},
   "source": [
    "Write a Pandas program to check the equality of two given series."
   ]
  },
  {
   "cell_type": "code",
   "execution_count": 16,
   "id": "8d2ec523-feb6-41c4-9d0f-acc70c301b2d",
   "metadata": {},
   "outputs": [
    {
     "name": "stdout",
     "output_type": "stream",
     "text": [
      "Original Series:\n",
      "0    1\n",
      "1    8\n",
      "2    7\n",
      "3    5\n",
      "4    6\n",
      "5    5\n",
      "6    3\n",
      "7    4\n",
      "8    7\n",
      "9    1\n",
      "dtype: int64\n",
      "0    1\n",
      "1    8\n",
      "2    7\n",
      "3    5\n",
      "4    6\n",
      "5    5\n",
      "6    3\n",
      "7    4\n",
      "8    7\n",
      "9    1\n",
      "dtype: int64\n",
      "Check 2 series are equal or not?\n",
      "0    True\n",
      "1    True\n",
      "2    True\n",
      "3    True\n",
      "4    True\n",
      "5    True\n",
      "6    True\n",
      "7    True\n",
      "8    True\n",
      "9    True\n",
      "dtype: bool\n"
     ]
    }
   ],
   "source": [
    "import pandas as pd\n",
    "\n",
    "nums1 = pd.Series([1, 8, 7, 5, 6, 5, 3, 4, 7, 1])\n",
    "nums2 = pd.Series([1, 8, 7, 5, 6, 5, 3, 4, 7, 1])\n",
    "\n",
    "print(\"Original Series:\")\n",
    "print(nums1)\n",
    "print(nums2)\n",
    "\n",
    "print(\"Check 2 series are equal or not?\")\n",
    "print(nums1 == nums2)\n"
   ]
  },
  {
   "cell_type": "markdown",
   "id": "9e712e04-0b57-4e7a-81a1-117f2d6fcc09",
   "metadata": {},
   "source": [
    "Write a  Pandas program to check inequality over the index axis of a given dataframe and a given series."
   ]
  },
  {
   "cell_type": "code",
   "execution_count": 17,
   "id": "bdfd8d8a-35dc-41a8-ba6b-b30c04362545",
   "metadata": {},
   "outputs": [
    {
     "name": "stdout",
     "output_type": "stream",
     "text": [
      "Original DataFrame:\n",
      "      W     X   Y   Z\n",
      "0  68.0  78.0  84  86\n",
      "1  75.0  75.0  94  97\n",
      "2  86.0   NaN  89  96\n",
      "3  80.0  80.0  86  72\n",
      "4   NaN  86.0  86  83\n",
      "\n",
      "Original Series:\n",
      "0    68.0\n",
      "1    75.0\n",
      "2    86.0\n",
      "3    80.0\n",
      "4     NaN\n",
      "dtype: float64\n",
      "\n",
      "Check for inequality of the said series & dataframe:\n",
      "       W      X     Y     Z\n",
      "0  False   True  True  True\n",
      "1  False  False  True  True\n",
      "2  False   True  True  True\n",
      "3  False  False  True  True\n",
      "4   True   True  True  True\n"
     ]
    }
   ],
   "source": [
    "import pandas as pd\n",
    "\n",
    "df_data = pd.DataFrame({'W':[68,75,86,80,None],'X':[78,75,None,80,86], 'Y':[84,94,89,86,86],'Z':[86,97,96,72,83]});\n",
    "sr_data = pd.Series([68, 75, 86, 80, None]) \n",
    "\n",
    "print(\"Original DataFrame:\")\n",
    "print(df_data)\n",
    "print(\"\\nOriginal Series:\")\n",
    "print(sr_data)\n",
    "print(\"\\nCheck for inequality of the said series & dataframe:\")\n",
    "print(df_data.ne(sr_data, axis = 0))\n"
   ]
  },
  {
   "cell_type": "markdown",
   "id": "5eec590a-7d0a-446b-b523-c087fc587a1f",
   "metadata": {
    "jp-MarkdownHeadingCollapsed": true
   },
   "source": [
    "# Pandas DataFrame"
   ]
  },
  {
   "cell_type": "markdown",
   "id": "325708e3-e266-409b-96e8-97dabc60b1db",
   "metadata": {},
   "source": [
    "Write a Pandas program to create a dataframe from a dictionary and display it.\n",
    "Sample data: {'X':[78,85,96,80,86], 'Y':[84,94,89,83,86],'Z':[86,97,96,72,83]}\n",
    "\n"
   ]
  },
  {
   "cell_type": "code",
   "execution_count": 18,
   "id": "46d0a643-1ce2-45c2-b0c0-8104af6dbe45",
   "metadata": {},
   "outputs": [],
   "source": [
    "import pandas as pd"
   ]
  },
  {
   "cell_type": "code",
   "execution_count": 19,
   "id": "b2e1d2c5-5350-48c3-a0f7-4bcdfce8ef1a",
   "metadata": {},
   "outputs": [
    {
     "name": "stdout",
     "output_type": "stream",
     "text": [
      "    X   Y   Z\n",
      "0  78  84  86\n",
      "1  85  94  97\n",
      "2  96  89  96\n",
      "3  80  83  72\n",
      "4  86  86  83\n"
     ]
    }
   ],
   "source": [
    "dict1 = {\n",
    "    'X': [78,85,96,80,86],\n",
    "    'Y': [84,94,89,83,86],\n",
    "    'Z': [86,97,96,72,83]\n",
    "}\n",
    "\n",
    "pf = pd.DataFrame(dict1)\n",
    "print(pf)"
   ]
  },
  {
   "cell_type": "code",
   "execution_count": 20,
   "id": "222e5a0b-f393-470c-90db-8982b4f3ed71",
   "metadata": {},
   "outputs": [
    {
     "name": "stdout",
     "output_type": "stream",
     "text": [
      "<class 'pandas.core.frame.DataFrame'>\n",
      "RangeIndex: 6 entries, 0 to 5\n",
      "Data columns (total 3 columns):\n",
      " #   Column  Non-Null Count  Dtype\n",
      "---  ------  --------------  -----\n",
      " 0   col1    6 non-null      int64\n",
      " 1   col2    6 non-null      int64\n",
      " 2   col3    6 non-null      int64\n",
      "dtypes: int64(3)\n",
      "memory usage: 276.0 bytes\n"
     ]
    }
   ],
   "source": [
    "df.info()"
   ]
  },
  {
   "cell_type": "markdown",
   "id": "29167a74-bc5f-468c-9b37-c96f19aad1c7",
   "metadata": {},
   "source": [
    "Write a Pandas program to get the first 3 rows of a given DataFrame.\n",
    "Sample Python dictionary data and list labels:\n",
    "exam_data = {'name': ['Anastasia', 'Dima', 'Katherine', 'James', 'Emily', 'Michael', 'Matthew', 'Laura', 'Kevin', 'Jonas'],\n",
    "'score': [12.5, 9, 16.5, np.nan, 9, 20, 14.5, np.nan, 8, 19],\n",
    "'attempts': [1, 3, 2, 3, 2, 3, 1, 1, 2, 1],\n",
    "'qualify': ['yes', 'no', 'yes', 'no', 'no', 'yes', 'yes', 'no', 'no', 'yes']}\n",
    "labels = ['a', 'b', 'c', 'd', 'e', 'f', 'g', 'h', 'i', 'j']"
   ]
  },
  {
   "cell_type": "code",
   "execution_count": 21,
   "id": "62022632-d174-403e-9c99-a4fe4c0cdc3f",
   "metadata": {},
   "outputs": [],
   "source": [
    "data = {\n",
    "    'name': ['Anastasia', 'Dima', 'Katherine', 'James', 'Emily', 'Michael', 'Matthew', 'Laura', 'Kevin', 'Jonas'], \n",
    "    'score': [12.5, 9, 16.5, np.nan, 9, 20, 14.5, np.nan, 8, 19], \n",
    "    'attempts': [1, 3, 2, 3, 2, 3, 1, 1, 2, 1], \n",
    "    'qualify': ['yes', 'no', 'yes', 'no', 'no', 'yes', 'yes', 'no', 'no', 'yes']\n",
    "}\n",
    "\n",
    "labels = ['a', 'b', 'c', 'd', 'e', 'f', 'g', 'h', 'i', 'j']"
   ]
  },
  {
   "cell_type": "code",
   "execution_count": 22,
   "id": "6b62c83c-f189-4408-b570-0ed10302d4d6",
   "metadata": {},
   "outputs": [
    {
     "name": "stdout",
     "output_type": "stream",
     "text": [
      "        name  score  attempts qualify\n",
      "a  Anastasia   12.5         1     yes\n",
      "b       Dima    9.0         3      no\n",
      "c  Katherine   16.5         2     yes\n",
      "d      James    NaN         3      no\n",
      "e      Emily    9.0         2      no\n",
      "f    Michael   20.0         3     yes\n",
      "g    Matthew   14.5         1     yes\n",
      "h      Laura    NaN         1      no\n",
      "i      Kevin    8.0         2      no\n",
      "j      Jonas   19.0         1     yes\n"
     ]
    }
   ],
   "source": [
    "df = pd.DataFrame(data, labels)\n",
    "print(df)"
   ]
  },
  {
   "cell_type": "markdown",
   "id": "1c76d2ee-0a65-4287-b019-452cdb34dc9b",
   "metadata": {},
   "source": [
    "Write a Pandas program to select the 'name' and 'score' columns from the following DataFrame."
   ]
  },
  {
   "cell_type": "code",
   "execution_count": 25,
   "id": "535a8593-db5e-4a40-8d4d-2a1da473cdb2",
   "metadata": {},
   "outputs": [
    {
     "data": {
      "text/html": [
       "<div>\n",
       "<style scoped>\n",
       "    .dataframe tbody tr th:only-of-type {\n",
       "        vertical-align: middle;\n",
       "    }\n",
       "\n",
       "    .dataframe tbody tr th {\n",
       "        vertical-align: top;\n",
       "    }\n",
       "\n",
       "    .dataframe thead th {\n",
       "        text-align: right;\n",
       "    }\n",
       "</style>\n",
       "<table border=\"1\" class=\"dataframe\">\n",
       "  <thead>\n",
       "    <tr style=\"text-align: right;\">\n",
       "      <th></th>\n",
       "      <th>name</th>\n",
       "      <th>score</th>\n",
       "    </tr>\n",
       "  </thead>\n",
       "  <tbody>\n",
       "    <tr>\n",
       "      <th>a</th>\n",
       "      <td>Anastasia</td>\n",
       "      <td>12.5</td>\n",
       "    </tr>\n",
       "    <tr>\n",
       "      <th>b</th>\n",
       "      <td>Dima</td>\n",
       "      <td>9.0</td>\n",
       "    </tr>\n",
       "    <tr>\n",
       "      <th>c</th>\n",
       "      <td>Katherine</td>\n",
       "      <td>16.5</td>\n",
       "    </tr>\n",
       "    <tr>\n",
       "      <th>d</th>\n",
       "      <td>James</td>\n",
       "      <td>NaN</td>\n",
       "    </tr>\n",
       "    <tr>\n",
       "      <th>e</th>\n",
       "      <td>Emily</td>\n",
       "      <td>9.0</td>\n",
       "    </tr>\n",
       "    <tr>\n",
       "      <th>f</th>\n",
       "      <td>Michael</td>\n",
       "      <td>20.0</td>\n",
       "    </tr>\n",
       "    <tr>\n",
       "      <th>g</th>\n",
       "      <td>Matthew</td>\n",
       "      <td>14.5</td>\n",
       "    </tr>\n",
       "    <tr>\n",
       "      <th>h</th>\n",
       "      <td>Laura</td>\n",
       "      <td>NaN</td>\n",
       "    </tr>\n",
       "    <tr>\n",
       "      <th>i</th>\n",
       "      <td>Kevin</td>\n",
       "      <td>8.0</td>\n",
       "    </tr>\n",
       "    <tr>\n",
       "      <th>j</th>\n",
       "      <td>Jonas</td>\n",
       "      <td>19.0</td>\n",
       "    </tr>\n",
       "  </tbody>\n",
       "</table>\n",
       "</div>"
      ],
      "text/plain": [
       "        name  score\n",
       "a  Anastasia   12.5\n",
       "b       Dima    9.0\n",
       "c  Katherine   16.5\n",
       "d      James    NaN\n",
       "e      Emily    9.0\n",
       "f    Michael   20.0\n",
       "g    Matthew   14.5\n",
       "h      Laura    NaN\n",
       "i      Kevin    8.0\n",
       "j      Jonas   19.0"
      ]
     },
     "execution_count": 25,
     "metadata": {},
     "output_type": "execute_result"
    }
   ],
   "source": [
    "df[['name','score']]"
   ]
  },
  {
   "cell_type": "markdown",
   "id": "c220b204-c555-4544-9dbe-ccc83ebf71c8",
   "metadata": {},
   "source": [
    "Write a  Pandas program to select the rows where the number of attempts in the examination is greater than 2."
   ]
  },
  {
   "cell_type": "code",
   "execution_count": 28,
   "id": "44d4d8fb-7e60-486c-b4ad-43a657d84607",
   "metadata": {},
   "outputs": [
    {
     "data": {
      "text/html": [
       "<div>\n",
       "<style scoped>\n",
       "    .dataframe tbody tr th:only-of-type {\n",
       "        vertical-align: middle;\n",
       "    }\n",
       "\n",
       "    .dataframe tbody tr th {\n",
       "        vertical-align: top;\n",
       "    }\n",
       "\n",
       "    .dataframe thead th {\n",
       "        text-align: right;\n",
       "    }\n",
       "</style>\n",
       "<table border=\"1\" class=\"dataframe\">\n",
       "  <thead>\n",
       "    <tr style=\"text-align: right;\">\n",
       "      <th></th>\n",
       "      <th>name</th>\n",
       "      <th>score</th>\n",
       "      <th>attempts</th>\n",
       "      <th>qualify</th>\n",
       "    </tr>\n",
       "  </thead>\n",
       "  <tbody>\n",
       "    <tr>\n",
       "      <th>b</th>\n",
       "      <td>Dima</td>\n",
       "      <td>9.0</td>\n",
       "      <td>3</td>\n",
       "      <td>no</td>\n",
       "    </tr>\n",
       "    <tr>\n",
       "      <th>d</th>\n",
       "      <td>James</td>\n",
       "      <td>NaN</td>\n",
       "      <td>3</td>\n",
       "      <td>no</td>\n",
       "    </tr>\n",
       "    <tr>\n",
       "      <th>f</th>\n",
       "      <td>Michael</td>\n",
       "      <td>20.0</td>\n",
       "      <td>3</td>\n",
       "      <td>yes</td>\n",
       "    </tr>\n",
       "  </tbody>\n",
       "</table>\n",
       "</div>"
      ],
      "text/plain": [
       "      name  score  attempts qualify\n",
       "b     Dima    9.0         3      no\n",
       "d    James    NaN         3      no\n",
       "f  Michael   20.0         3     yes"
      ]
     },
     "execution_count": 28,
     "metadata": {},
     "output_type": "execute_result"
    }
   ],
   "source": [
    "df[df['attempts'] > 2]"
   ]
  },
  {
   "cell_type": "code",
   "execution_count": 30,
   "id": "cb443597-7c8d-46d7-a9e7-34f9da99c747",
   "metadata": {},
   "outputs": [
    {
     "data": {
      "text/plain": [
       "(10, 4)"
      ]
     },
     "execution_count": 30,
     "metadata": {},
     "output_type": "execute_result"
    }
   ],
   "source": [
    "df.shape"
   ]
  },
  {
   "cell_type": "markdown",
   "id": "6526d84d-6257-49ef-af18-5a86fe9257d1",
   "metadata": {},
   "source": [
    "Write a  Pandas program to add one row in an existing DataFrame.\n"
   ]
  },
  {
   "cell_type": "code",
   "execution_count": 39,
   "id": "13b03b8c-2c71-48a2-919b-667a598ce2b6",
   "metadata": {},
   "outputs": [
    {
     "name": "stdout",
     "output_type": "stream",
     "text": [
      "Original DataFrame\n",
      "   col1  col2  col3\n",
      "0     1     4     7\n",
      "1     4     5     8\n",
      "2     3     6     9\n",
      "3     4     7     0\n",
      "4     5     8     1\n",
      "After add one row:\n",
      "   col1  col2  col3\n",
      "0     1     4     7\n",
      "1     4     5     8\n",
      "2     3     6     9\n",
      "3     4     7     0\n",
      "4     5     8     1\n",
      "5    10    11    12\n"
     ]
    }
   ],
   "source": [
    "import pandas as pd\n",
    "\n",
    "d = {'col1': [1, 4, 3, 4, 5], 'col2': [4, 5, 6, 7, 8], 'col3': [7, 8, 9, 0, 1]}\n",
    "df = pd.DataFrame(data=d)\n",
    "\n",
    "print(\"Original DataFrame\")\n",
    "print(df)\n",
    "\n",
    "print('After add one row:')\n",
    "df2 = {'col1': 10, 'col2': 11, 'col3': 12}\n",
    "df.loc[len(df)] = df2\n",
    "print(df)\n"
   ]
  },
  {
   "cell_type": "markdown",
   "id": "d652bf79-43ec-456f-82e2-d858dd56111b",
   "metadata": {},
   "source": [
    "Write a Pandas program to remove infinite values from a given DataFrame."
   ]
  },
  {
   "cell_type": "code",
   "execution_count": 40,
   "id": "48420f64-c2fe-4cdc-9fe6-83bb946ada82",
   "metadata": {},
   "outputs": [
    {
     "name": "stdout",
     "output_type": "stream",
     "text": [
      "Original DataFrame:\n",
      "        0\n",
      "0  1000.0\n",
      "1  2000.0\n",
      "2  3000.0\n",
      "3 -4000.0\n",
      "4     inf\n",
      "5    -inf\n",
      "Removing infinite values:\n",
      "        0\n",
      "0  1000.0\n",
      "1  2000.0\n",
      "2  3000.0\n",
      "3 -4000.0\n",
      "4     NaN\n",
      "5     NaN\n"
     ]
    }
   ],
   "source": [
    "import pandas as pd\n",
    "\n",
    "df = pd.DataFrame([1000, 2000, 3000, -4000, np.inf, -np.inf])\n",
    "\n",
    "print(\"Original DataFrame:\")\n",
    "print(df)\n",
    "\n",
    "print(\"Removing infinite values:\")\n",
    "df = df.replace([np.inf, -np.inf], np.nan)\n",
    "print(df)\n"
   ]
  },
  {
   "cell_type": "markdown",
   "id": "cdd50fd6-70f4-4403-aad8-91c8319d7ad4",
   "metadata": {},
   "source": [
    "Write a  Pandas program to insert a given column at a specific column index in a DataFrame."
   ]
  },
  {
   "cell_type": "code",
   "execution_count": 44,
   "id": "5995c68b-16da-443f-a199-dcd0d3f65a12",
   "metadata": {},
   "outputs": [
    {
     "name": "stdout",
     "output_type": "stream",
     "text": [
      "Original DataFrame\n",
      "   col2  col3\n",
      "0     4     7\n",
      "1     5     8\n",
      "2     6    12\n",
      "3     9     1\n",
      "4     5    11\n",
      "   col2  col3  col1\n",
      "0     4     7     1\n",
      "1     5     8     2\n",
      "2     6    12     3\n",
      "3     9     1     4\n",
      "4     5    11     7\n"
     ]
    }
   ],
   "source": [
    "import pandas as pd\n",
    "\n",
    "d = {'col2': [4, 5, 6, 9, 5], 'col3': [7, 8, 12, 1, 11]}\n",
    "df = pd.DataFrame(data=d)\n",
    "\n",
    "print(\"Original DataFrame\")\n",
    "print(df)\n",
    "\n",
    "new_col = [1, 2, 3, 4, 7] \n",
    "\n",
    "df.insert(loc=2, column='col1', value=new_col)\n",
    "\n",
    "print(df)"
   ]
  },
  {
   "cell_type": "markdown",
   "id": "a886e487-763f-488c-bab1-3c4b97cd4c76",
   "metadata": {},
   "source": [
    "Write a Pandas program to get topmost n records within each group of a DataFrame."
   ]
  },
  {
   "cell_type": "code",
   "execution_count": 45,
   "id": "52642116-9571-4d93-aada-74fbe3c47c37",
   "metadata": {},
   "outputs": [
    {
     "name": "stdout",
     "output_type": "stream",
     "text": [
      "Original DataFrame\n",
      "   col1  col2  col3\n",
      "0     1     4     7\n",
      "1     2     5     5\n",
      "2     3     6     8\n",
      "3     4     9    12\n",
      "4     7     5     1\n",
      "5    11     0    11\n",
      "\n",
      "topmost n records within each group of a DataFrame:\n",
      "   col1  col2  col3\n",
      "5    11     0    11\n",
      "4     7     5     1\n",
      "3     4     9    12\n",
      "   col1  col2  col3\n",
      "3     4     9    12\n",
      "2     3     6     8\n",
      "1     2     5     5\n",
      "   col1  col2  col3\n",
      "3     4     9    12\n",
      "5    11     0    11\n",
      "2     3     6     8\n"
     ]
    }
   ],
   "source": [
    "import pandas as pd\n",
    "\n",
    "d = {'col1': [1, 2, 3, 4, 7, 11], 'col2': [4, 5, 6, 9, 5, 0], 'col3': [7, 5, 8, 12, 1,11]}\n",
    "df = pd.DataFrame(data=d)\n",
    "\n",
    "print(\"Original DataFrame\")\n",
    "print(df)\n",
    "\n",
    "print(\"\\ntopmost n records within each group of a DataFrame:\")\n",
    "df1 = df.nlargest(3, 'col1')\n",
    "print(df1)\n",
    "\n",
    "df2 = df.nlargest(3, 'col2')\n",
    "print(df2)\n",
    "\n",
    "df3 = df.nlargest(3, 'col3')\n",
    "print(df3)\n"
   ]
  },
  {
   "cell_type": "markdown",
   "id": "b84f9494-cb90-477f-804c-79239cec86d6",
   "metadata": {},
   "source": [
    "Write a  Pandas program to add a prefix or suffix to all columns of a given DataFrame."
   ]
  },
  {
   "cell_type": "code",
   "execution_count": 46,
   "id": "e5430753-141d-48ca-a55c-d482af344543",
   "metadata": {},
   "outputs": [
    {
     "name": "stdout",
     "output_type": "stream",
     "text": [
      "Original DataFrame\n",
      "    W   X   Y   Z\n",
      "0  68  78  84  86\n",
      "1  75  85  94  97\n",
      "2  86  96  89  96\n",
      "3  80  80  83  72\n",
      "4  66  86  86  83\n",
      "\n",
      "Add prefix:\n",
      "   A_W  A_X  A_Y  A_Z\n",
      "0   68   78   84   86\n",
      "1   75   85   94   97\n",
      "2   86   96   89   96\n",
      "3   80   80   83   72\n",
      "4   66   86   86   83\n",
      "\n",
      "Add suffix:\n",
      "   W_1  X_1  Y_1  Z_1\n",
      "0   68   78   84   86\n",
      "1   75   85   94   97\n",
      "2   86   96   89   96\n",
      "3   80   80   83   72\n",
      "4   66   86   86   83\n"
     ]
    }
   ],
   "source": [
    "import pandas as pd\n",
    "\n",
    "df = pd.DataFrame({'W':[68,75,86,80,66],'X':[78,85,96,80,86], 'Y':[84,94,89,83,86],'Z':[86,97,96,72,83]});\n",
    "\n",
    "print(\"Original DataFrame\")\n",
    "print(df)\n",
    "\n",
    "print(\"\\nAdd prefix:\")\n",
    "print(df.add_prefix(\"A_\"))\n",
    "\n",
    "print(\"\\nAdd suffix:\")\n",
    "print(df.add_suffix(\"_1\"))\n"
   ]
  },
  {
   "cell_type": "markdown",
   "id": "7c252435-ac96-43eb-aaeb-9532889c5242",
   "metadata": {},
   "source": [
    "Write a Pandas program to get lowest n records within each group of a given DataFrame."
   ]
  },
  {
   "cell_type": "code",
   "execution_count": 47,
   "id": "03ab6d78-6808-4492-a970-c58771889a58",
   "metadata": {},
   "outputs": [
    {
     "name": "stdout",
     "output_type": "stream",
     "text": [
      "Original DataFrame\n",
      "   col1  col2  col3\n",
      "0     1     4     7\n",
      "1     2     5     5\n",
      "2     3     6     8\n",
      "3     4     9    12\n",
      "4     7     5     1\n",
      "5    11     0    11\n",
      "\n",
      "Lowest n records within each group of a DataFrame:\n",
      "   col1  col2  col3\n",
      "0     1     4     7\n",
      "1     2     5     5\n",
      "2     3     6     8\n",
      "   col1  col2  col3\n",
      "5    11     0    11\n",
      "0     1     4     7\n",
      "1     2     5     5\n",
      "   col1  col2  col3\n",
      "4     7     5     1\n",
      "1     2     5     5\n",
      "0     1     4     7\n"
     ]
    }
   ],
   "source": [
    "import pandas as pd\n",
    "\n",
    "d = {'col1': [1, 2, 3, 4, 7, 11], 'col2': [4, 5, 6, 9, 5, 0], 'col3': [7, 5, 8, 12, 1,11]}\n",
    "df = pd.DataFrame(data=d)\n",
    "\n",
    "print(\"Original DataFrame\")\n",
    "print(df)\n",
    "\n",
    "print(\"\\nLowest n records within each group of a DataFrame:\")\n",
    "df1 = df.nsmallest(3, 'col1')\n",
    "print(df1)\n",
    "\n",
    "df2 = df.nsmallest(3, 'col2')\n",
    "print(df2)\n",
    "\n",
    "df3 = df.nsmallest(3, 'col3')\n",
    "print(df3)\n"
   ]
  },
  {
   "cell_type": "markdown",
   "id": "1858127c-1f94-4583-9761-21ea1b5bd586",
   "metadata": {
    "jp-MarkdownHeadingCollapsed": true
   },
   "source": [
    "# Pandas Index"
   ]
  },
  {
   "cell_type": "markdown",
   "id": "d83b1794-1708-4ba7-b0ab-918767d9ef79",
   "metadata": {},
   "source": [
    "Write a  Pandas program to display the default index and set a column as an Index in a given dataframe"
   ]
  },
  {
   "cell_type": "code",
   "execution_count": 48,
   "id": "658b1926-200e-4eb3-abc6-ccfc3f50516d",
   "metadata": {},
   "outputs": [
    {
     "name": "stdout",
     "output_type": "stream",
     "text": [
      "Default Index:\n",
      "  school_code class            name date_Of_Birth  weight  address t_id\n",
      "0        s001     V  Alberto Franco    15/05/2002      35  street1   t1\n",
      "1        s002     V    Gino Mcneill    17/05/2002      32  street2   t2\n",
      "2        s003    VI     Ryan Parkes    16/02/1999      33  street3   t3\n",
      "3        s001    VI    Eesha Hinton    25/09/1998      30  street1   t4\n",
      "4        s002     V    Gino Mcneill    11/05/2002      31  street2   t5\n",
      "5        s004    VI    David Parkes    15/09/1997      32  street4   t6\n",
      "\n",
      "school_code as new Index:\n",
      "            class            name date_Of_Birth  weight  address t_id\n",
      "school_code                                                          \n",
      "s001            V  Alberto Franco    15/05/2002      35  street1   t1\n",
      "s002            V    Gino Mcneill    17/05/2002      32  street2   t2\n",
      "s003           VI     Ryan Parkes    16/02/1999      33  street3   t3\n",
      "s001           VI    Eesha Hinton    25/09/1998      30  street1   t4\n",
      "s002            V    Gino Mcneill    11/05/2002      31  street2   t5\n",
      "s004           VI    David Parkes    15/09/1997      32  street4   t6\n",
      "\n",
      "t_id as new Index:\n",
      "     school_code class            name date_Of_Birth  weight  address\n",
      "t_id                                                                 \n",
      "t1          s001     V  Alberto Franco    15/05/2002      35  street1\n",
      "t2          s002     V    Gino Mcneill    17/05/2002      32  street2\n",
      "t3          s003    VI     Ryan Parkes    16/02/1999      33  street3\n",
      "t4          s001    VI    Eesha Hinton    25/09/1998      30  street1\n",
      "t5          s002     V    Gino Mcneill    11/05/2002      31  street2\n",
      "t6          s004    VI    David Parkes    15/09/1997      32  street4\n"
     ]
    }
   ],
   "source": [
    "import pandas as pd\n",
    "\n",
    "df = pd.DataFrame({\n",
    "    'school_code': ['s001','s002','s003','s001','s002','s004'],\n",
    "    'class': ['V', 'V', 'VI', 'VI', 'V', 'VI'],\n",
    "    'name': ['Alberto Franco','Gino Mcneill','Ryan Parkes', 'Eesha Hinton', 'Gino Mcneill', 'David Parkes'],\n",
    "    'date_Of_Birth': ['15/05/2002','17/05/2002','16/02/1999','25/09/1998','11/05/2002','15/09/1997'],\n",
    "    'weight': [35, 32, 33, 30, 31, 32],\n",
    "    'address': ['street1', 'street2', 'street3', 'street1', 'street2', 'street4'],\n",
    "    't_id':['t1', 't2', 't3', 't4', 't5', 't6']})\n",
    "\n",
    "print(\"Default Index:\")\n",
    "print(df.head(10))\n",
    "\n",
    "print(\"\\nschool_code as new Index:\")\n",
    "df1 = df.set_index('school_code')\n",
    "print(df1)\n",
    "\n",
    "print(\"\\nt_id as new Index:\")\n",
    "df2 = df.set_index('t_id')\n",
    "print(df2)\n"
   ]
  },
  {
   "cell_type": "markdown",
   "id": "c770d5fc-4a40-4e55-bd63-3bfa9035bc42",
   "metadata": {},
   "source": [
    " Write a Pandas program to create a multi Index frame using two columns and using an Index and a column."
   ]
  },
  {
   "cell_type": "code",
   "execution_count": 49,
   "id": "23e1bcf2-ad2c-43ef-b579-218e271303c4",
   "metadata": {},
   "outputs": [
    {
     "name": "stdout",
     "output_type": "stream",
     "text": [
      "Original DataFrame:\n",
      "  school_code class            name date_Of_Birth  weight  address t_id\n",
      "0        s001     V  Alberto Franco    15/05/2002      35  street1   t1\n",
      "1        s002     V    Gino Mcneill    17/05/2002      32  street2   t2\n",
      "2        s003    VI     Ryan Parkes    16/02/1999      33  street3   t3\n",
      "3        s001    VI    Eesha Hinton    25/09/1998      30  street1   t4\n",
      "4        s002     V    Gino Mcneill    11/05/2002      31  street2   t5\n",
      "5        s004    VI    David Parkes    15/09/1997      32  street4   t6\n",
      "\n",
      "MultiIndex using columns 't_id' and ‘school_code’:\n",
      "                 class            name date_Of_Birth  weight  address\n",
      "t_id school_code                                                     \n",
      "t1   s001            V  Alberto Franco    15/05/2002      35  street1\n",
      "t2   s002            V    Gino Mcneill    17/05/2002      32  street2\n",
      "t3   s003           VI     Ryan Parkes    16/02/1999      33  street3\n",
      "t4   s001           VI    Eesha Hinton    25/09/1998      30  street1\n",
      "t5   s002            V    Gino Mcneill    11/05/2002      31  street2\n",
      "t6   s004           VI    David Parkes    15/09/1997      32  street4\n",
      "\n",
      "MultiIndex using an Index and a column:\n",
      "       school_code class            name date_Of_Birth  weight  address\n",
      "  t_id                                                                 \n",
      "0 t1          s001     V  Alberto Franco    15/05/2002      35  street1\n",
      "1 t2          s002     V    Gino Mcneill    17/05/2002      32  street2\n",
      "2 t3          s003    VI     Ryan Parkes    16/02/1999      33  street3\n",
      "3 t4          s001    VI    Eesha Hinton    25/09/1998      30  street1\n",
      "4 t5          s002     V    Gino Mcneill    11/05/2002      31  street2\n",
      "5 t6          s004    VI    David Parkes    15/09/1997      32  street4\n"
     ]
    }
   ],
   "source": [
    "import pandas as pd\n",
    "\n",
    "df = pd.DataFrame({\n",
    "    'school_code': ['s001','s002','s003','s001','s002','s004'],\n",
    "    'class': ['V', 'V', 'VI', 'VI', 'V', 'VI'],\n",
    "    'name': ['Alberto Franco','Gino Mcneill','Ryan Parkes', 'Eesha Hinton', 'Gino Mcneill', 'David Parkes'],\n",
    "    'date_Of_Birth': ['15/05/2002','17/05/2002','16/02/1999','25/09/1998','11/05/2002','15/09/1997'],\n",
    "    'weight': [35, 32, 33, 30, 31, 32],\n",
    "    'address': ['street1', 'street2', 'street3', 'street1', 'street2', 'street4'],\n",
    "    't_id':['t1', 't2', 't3', 't4', 't5', 't6']})\n",
    "\n",
    "print(\"Original DataFrame:\")\n",
    "print(df)\n",
    "\n",
    "print(\"\\nMultiIndex using columns 't_id' and ‘school_code’:\")\n",
    "df1 = df.set_index(['t_id', 'school_code'])\n",
    "print(df1)\n",
    "\n",
    "print(\"\\nMultiIndex using an Index and a column:\")\n",
    "df2 = df.set_index([pd.Index([0, 1, 2, 3, 4, 5]), 't_id'])\n",
    "print(df2)\n"
   ]
  },
  {
   "cell_type": "markdown",
   "id": "258ebab7-1b89-49d8-b59f-833782b4fa46",
   "metadata": {},
   "source": [
    "Write a  Pandas program to start index with different value rather than 0 in a given DataFrame."
   ]
  },
  {
   "cell_type": "code",
   "execution_count": 50,
   "id": "eb1d2926-e497-40f6-b3ec-3afd53898e84",
   "metadata": {},
   "outputs": [
    {
     "name": "stdout",
     "output_type": "stream",
     "text": [
      "Original DataFrame:\n",
      "  school_code class            name date_of_birth  weight\n",
      "0        s001     V  Alberto Franco    15/05/2002      35\n",
      "1        s002     V    Gino Mcneill    17/05/2002      37\n",
      "2        s003    VI     Ryan Parkes    16/02/1999      33\n",
      "3        s001    VI    Eesha Hinton    25/09/1998      30\n",
      "4        s002     V    Gino Mcneill    11/05/2002      31\n",
      "5        s004    VI    David Parkes    15/09/1997      32\n",
      "\n",
      "Default Index Range:\n",
      "RangeIndex(start=0, stop=6, step=1)\n",
      "\n",
      "New Index Range:\n",
      "RangeIndex(start=10, stop=16, step=1)\n",
      "\n",
      "DataFrame with new index:\n",
      "   school_code class            name date_of_birth  weight\n",
      "10        s001     V  Alberto Franco    15/05/2002      35\n",
      "11        s002     V    Gino Mcneill    17/05/2002      37\n",
      "12        s003    VI     Ryan Parkes    16/02/1999      33\n",
      "13        s001    VI    Eesha Hinton    25/09/1998      30\n",
      "14        s002     V    Gino Mcneill    11/05/2002      31\n",
      "15        s004    VI    David Parkes    15/09/1997      32\n"
     ]
    }
   ],
   "source": [
    "import pandas as pd\n",
    "\n",
    "df = pd.DataFrame({\n",
    "    'school_code': ['s001','s002','s003','s001','s002','s004'],\n",
    "    'class': ['V', 'V', 'VI', 'VI', 'V', 'VI'],\n",
    "    'name': ['Alberto Franco','Gino Mcneill','Ryan Parkes', 'Eesha Hinton', 'Gino Mcneill', 'David Parkes'],\n",
    "    'date_of_birth': ['15/05/2002','17/05/2002','16/02/1999','25/09/1998','11/05/2002','15/09/1997'],\n",
    "    'weight': [35, 37, 33, 30, 31, 32]})\n",
    "     \n",
    "print(\"Original DataFrame:\")\n",
    "print(df)\n",
    "\n",
    "print(\"\\nDefault Index Range:\")\n",
    "print(df.index)\n",
    "\n",
    "df.index += 10 \n",
    "\n",
    "print(\"\\nNew Index Range:\")\n",
    "print(df.index)\n",
    "print(\"\\nDataFrame with new index:\")\n",
    "print(df)\n"
   ]
  },
  {
   "cell_type": "markdown",
   "id": "b6920594-78f6-489a-a0b8-20d556364a89",
   "metadata": {},
   "source": [
    "Write a Pandas program to select rows by filtering on one or more column(s) in a multi-index dataframe."
   ]
  },
  {
   "cell_type": "code",
   "execution_count": 54,
   "id": "3958c8c3-9c07-427f-a986-4a76f2ea44dc",
   "metadata": {},
   "outputs": [
    {
     "name": "stdout",
     "output_type": "stream",
     "text": [
      "Original DataFrame:\n",
      "  school_code class            name date_of_birth  weight tcode\n",
      "0        s001     V  Alberto Franco    15/05/2002      35    t1\n",
      "1        s002     V    Gino Mcneill    17/05/2002      37    t2\n",
      "2        s003    VI     Ryan Parkes    16/02/1999      33    t3\n",
      "3        s001    VI    Eesha Hinton    25/09/1998      30    t4\n",
      "4        s002     V    Gino Mcneill    11/05/2002      31    t5\n",
      "5        s004    VI    David Parkes    15/09/1997      32    t6\n",
      "\n",
      "Create MultiIndex on 'tcode' and 'school_code':\n",
      "                  class            name date_of_birth  weight\n",
      "tcode school_code                                            \n",
      "t1    s001            V  Alberto Franco    15/05/2002      35\n",
      "t2    s002            V    Gino Mcneill    17/05/2002      37\n",
      "t3    s003           VI     Ryan Parkes    16/02/1999      33\n",
      "t4    s001           VI    Eesha Hinton    25/09/1998      30\n",
      "t5    s002            V    Gino Mcneill    11/05/2002      31\n",
      "t6    s004           VI    David Parkes    15/09/1997      32\n",
      "\n",
      "Select rows(s) from 'tcode' column:\n",
      "                  class          name date_of_birth  weight\n",
      "tcode school_code                                          \n",
      "t2    s002            V  Gino Mcneill    17/05/2002      37\n",
      "\n",
      "Select rows(s) from 'school_code' column:\n",
      "                  class            name date_of_birth  weight\n",
      "tcode school_code                                            \n",
      "t1    s001            V  Alberto Franco    15/05/2002      35\n",
      "t4    s001           VI    Eesha Hinton    25/09/1998      30\n",
      "\n",
      "Select rows(s) from 'tcode' and 'scode' columns:\n",
      "                  class            name date_of_birth  weight\n",
      "tcode school_code                                            \n",
      "t1    s001            V  Alberto Franco    15/05/2002      35\n",
      "t4    s001           VI    Eesha Hinton    25/09/1998      30\n"
     ]
    }
   ],
   "source": [
    "import pandas as pd\n",
    "\n",
    "df = pd.DataFrame({\n",
    "    'school_code': ['s001','s002','s003','s001','s002','s004'],\n",
    "    'class': ['V', 'V', 'VI', 'VI', 'V', 'VI'],\n",
    "    'name': ['Alberto Franco','Gino Mcneill','Ryan Parkes', 'Eesha Hinton', 'Gino Mcneill', 'David Parkes'],\n",
    "    'date_of_birth': ['15/05/2002','17/05/2002','16/02/1999','25/09/1998','11/05/2002','15/09/1997'],\n",
    "    'weight': [35, 37, 33, 30, 31, 32],\n",
    "    'tcode': ['t1', 't2', 't3', 't4', 't5', 't6']}) \n",
    "\n",
    "print(\"Original DataFrame:\")\n",
    "print(df)\n",
    "\n",
    "print(\"\\nCreate MultiIndex on 'tcode' and 'school_code':\")\n",
    "df = df.set_index(['tcode', 'school_code'])\n",
    "print(df)\n",
    "\n",
    "print(\"\\nSelect rows(s) from 'tcode' column:\")\n",
    "print(df.query(\"tcode == 't2'\"))\n",
    "\n",
    "print(\"\\nSelect rows(s) from 'school_code' column:\")\n",
    "print(df.query(\"school_code == 's001'\"))\n",
    "\n",
    "print(\"\\nSelect rows(s) from 'tcode' and 'scode' columns:\")\n",
    "print(df.query((\"tcode == 't1'\") and (\"school_code == 's001'\")))\n"
   ]
  },
  {
   "cell_type": "markdown",
   "id": "4a6c293e-7933-4e71-93a3-cc28c2400d50",
   "metadata": {
    "jp-MarkdownHeadingCollapsed": true
   },
   "source": [
    "# Pandas String and Regular Expression"
   ]
  },
  {
   "cell_type": "markdown",
   "id": "71a93ba2-38b1-4f35-be6e-7cc3cf8063dd",
   "metadata": {},
   "source": [
    "Write a Pandas program to convert all the string values to upper, lower cases in a given pandas series. Also find the length of the string values."
   ]
  },
  {
   "cell_type": "code",
   "execution_count": 1,
   "id": "5ee4ff9a-c4e8-4141-92c2-673b92fad7eb",
   "metadata": {},
   "outputs": [],
   "source": [
    "import pandas as pd"
   ]
  },
  {
   "cell_type": "code",
   "execution_count": 2,
   "id": "1bdb9328-5a68-4b7d-b67d-3dbac7aad0f9",
   "metadata": {},
   "outputs": [
    {
     "name": "stdout",
     "output_type": "stream",
     "text": [
      "0    Jeet\n",
      "1    Meet\n",
      "2     Jay\n",
      "dtype: object\n"
     ]
    }
   ],
   "source": [
    "s1 = pd.Series(['Jeet', 'Meet', 'Jay'])\n",
    "print(s1)"
   ]
  },
  {
   "cell_type": "code",
   "execution_count": 4,
   "id": "aa43fe1a-c621-435d-890f-00a00c8e759e",
   "metadata": {},
   "outputs": [
    {
     "name": "stdout",
     "output_type": "stream",
     "text": [
      "0    JEET\n",
      "1    MEET\n",
      "2     JAY\n",
      "dtype: object\n"
     ]
    }
   ],
   "source": [
    "su = s1.str.upper()\n",
    "print(su)"
   ]
  },
  {
   "cell_type": "code",
   "execution_count": 5,
   "id": "277177eb-e6e5-4594-a989-343426a0dede",
   "metadata": {},
   "outputs": [
    {
     "name": "stdout",
     "output_type": "stream",
     "text": [
      "0    jeet\n",
      "1    meet\n",
      "2     jay\n",
      "dtype: object\n"
     ]
    }
   ],
   "source": [
    "sl = s1.str.lower()\n",
    "print(sl)"
   ]
  },
  {
   "cell_type": "code",
   "execution_count": 7,
   "id": "1aa05bf0-6b2b-460f-8a92-1aa31fd71a7d",
   "metadata": {},
   "outputs": [
    {
     "name": "stdout",
     "output_type": "stream",
     "text": [
      "0    4\n",
      "1    4\n",
      "2    3\n",
      "dtype: int64\n"
     ]
    }
   ],
   "source": [
    "print(s1.str.len())"
   ]
  },
  {
   "cell_type": "markdown",
   "id": "1df99603-9816-44b9-8d2b-4303d5675a6f",
   "metadata": {},
   "source": [
    "Write a Pandas program to remove whitespaces, left sided whitespaces and right sided whitespaces of the string values of a given pandas series."
   ]
  },
  {
   "cell_type": "code",
   "execution_count": 9,
   "id": "518d96b1-e3d6-42ad-9441-7b8fe9e86704",
   "metadata": {},
   "outputs": [
    {
     "name": "stdout",
     "output_type": "stream",
     "text": [
      "0     Jeet \n",
      "1      Meet\n",
      "2      Jay \n",
      "dtype: object\n"
     ]
    }
   ],
   "source": [
    "s2 = pd.Series([' Jeet ', ' Meet', 'Jay '])\n",
    "print(s2)"
   ]
  },
  {
   "cell_type": "code",
   "execution_count": 10,
   "id": "59ccfafd-5569-42c2-b45d-8d5bfdc3863c",
   "metadata": {},
   "outputs": [
    {
     "data": {
      "text/plain": [
       "0    Jeet\n",
       "1    Meet\n",
       "2     Jay\n",
       "dtype: object"
      ]
     },
     "execution_count": 10,
     "metadata": {},
     "output_type": "execute_result"
    }
   ],
   "source": [
    "s2.str.strip()"
   ]
  },
  {
   "cell_type": "code",
   "execution_count": 12,
   "id": "b7725c8a-2848-47b9-8b1c-45f1bf213434",
   "metadata": {},
   "outputs": [
    {
     "name": "stdout",
     "output_type": "stream",
     "text": [
      "0     Jeet \n",
      "1      Meet\n",
      "2      Jay \n",
      "dtype: object\n"
     ]
    }
   ],
   "source": [
    "print(s2)"
   ]
  },
  {
   "cell_type": "code",
   "execution_count": 13,
   "id": "7ae0e2a7-b47f-4bfb-801e-e7a7b191c01e",
   "metadata": {},
   "outputs": [
    {
     "data": {
      "text/plain": [
       "0    Jeet \n",
       "1     Meet\n",
       "2     Jay \n",
       "dtype: object"
      ]
     },
     "execution_count": 13,
     "metadata": {},
     "output_type": "execute_result"
    }
   ],
   "source": [
    "s2.str.lstrip()"
   ]
  },
  {
   "cell_type": "code",
   "execution_count": 15,
   "id": "3fd80f51-93a2-4afe-a873-be6dfe5c4f83",
   "metadata": {},
   "outputs": [
    {
     "data": {
      "text/plain": [
       "0     Jeet\n",
       "1     Meet\n",
       "2      Jay\n",
       "dtype: object"
      ]
     },
     "execution_count": 15,
     "metadata": {},
     "output_type": "execute_result"
    }
   ],
   "source": [
    "s2.str.rstrip()"
   ]
  },
  {
   "cell_type": "markdown",
   "id": "fd008617-a993-4c77-9af2-c75ff03f48ab",
   "metadata": {},
   "source": [
    "Write a Pandas program to extract words starting with capital words from a given column of a given DataFrame."
   ]
  },
  {
   "cell_type": "code",
   "execution_count": 37,
   "id": "d08c0910-5930-4c39-ad64-cf2859595bf4",
   "metadata": {},
   "outputs": [],
   "source": [
    "df = pd.DataFrame({\n",
    "    'company_code': ['Abcd','EFGF', 'zefsalf', 'sdfslew', 'zekfsdf'],\n",
    "    'date_of_sale': ['12/05/2002','16/02/1999','05/09/1998','12/02/2022','15/09/1997'],\n",
    "    'address': ['9910 Surrey Avenue','92 N. Bishop Avenue','9910 Golden Star Avenue', '102 Dunbar St.', '17 West Livingston Court']\n",
    "})"
   ]
  },
  {
   "cell_type": "code",
   "execution_count": 38,
   "id": "c0410098-5bfb-49ef-b400-087456ff0492",
   "metadata": {},
   "outputs": [
    {
     "data": {
      "text/plain": [
       "0    Abcd\n",
       "1    EFGF\n",
       "Name: company_code, dtype: object"
      ]
     },
     "execution_count": 38,
     "metadata": {},
     "output_type": "execute_result"
    }
   ],
   "source": [
    "df['company_code'][df['company_code'].str.match(r'^[A-Z]+\\w+')]"
   ]
  },
  {
   "cell_type": "code",
   "execution_count": 39,
   "id": "439feca0-c161-4b45-951f-8701260a0062",
   "metadata": {},
   "outputs": [
    {
     "data": {
      "text/plain": [
       "0             [Surrey, Avenue]\n",
       "1             [Bishop, Avenue]\n",
       "2       [Golden, Star, Avenue]\n",
       "3                 [Dunbar, St]\n",
       "4    [West, Livingston, Court]\n",
       "Name: address, dtype: object"
      ]
     },
     "execution_count": 39,
     "metadata": {},
     "output_type": "execute_result"
    }
   ],
   "source": [
    "d1 = df['address'].str.findall(r'\\b[A-Z]\\w+')\n",
    "d1"
   ]
  },
  {
   "cell_type": "markdown",
   "id": "e7d08fc3-d292-477e-add9-e59175ada0ff",
   "metadata": {},
   "source": [
    "Write a Pandas program to remove the html tags within the specified column of a given DataFrame."
   ]
  },
  {
   "cell_type": "code",
   "execution_count": 47,
   "id": "f00bfd01-52ea-4151-94b3-c7b5d24de3b4",
   "metadata": {},
   "outputs": [],
   "source": [
    "import re"
   ]
  },
  {
   "cell_type": "code",
   "execution_count": 41,
   "id": "a46e6e2f-ca70-4a83-b41f-63c0d60c8b3f",
   "metadata": {},
   "outputs": [],
   "source": [
    "df = pd.DataFrame({\n",
    "    'company_code': ['Abcd','EFGF', 'zefsalf', 'sdfslew', 'zekfsdf'],\n",
    "    'date_of_sale': ['12/05/2002','16/02/1999','05/09/1998','12/02/2022','15/09/1997'],\n",
    "    'address': ['9910 Surrey <b>Avenue</b>','92 N. Bishop Avenue','9910 <br>Golden Star Avenue', '102 Dunbar <i></i>St.', '17 West Livingston Court']\n",
    "})"
   ]
  },
  {
   "cell_type": "code",
   "execution_count": 59,
   "id": "32637415-c9e4-4a7e-8cec-88640e90af04",
   "metadata": {},
   "outputs": [
    {
     "data": {
      "text/plain": [
       "0                9910 Surrey \n",
       "1         92 N. Bishop Avenue\n",
       "2     9910 Golden Star Avenue\n",
       "3              102 Dunbar St.\n",
       "4    17 West Livingston Court\n",
       "Name: address, dtype: object"
      ]
     },
     "execution_count": 59,
     "metadata": {},
     "output_type": "execute_result"
    }
   ],
   "source": [
    "words = df['address'].apply(lambda w : re.sub(r'<.*>','',w))\n",
    "words"
   ]
  },
  {
   "cell_type": "code",
   "execution_count": 60,
   "id": "ec9a63ca-d523-49ef-b3d2-584004878bcb",
   "metadata": {},
   "outputs": [
    {
     "data": {
      "text/plain": [
       "0          9910 Surrey Avenue\n",
       "1         92 N. Bishop Avenue\n",
       "2     9910 Golden Star Avenue\n",
       "3              102 Dunbar St.\n",
       "4    17 West Livingston Court\n",
       "Name: address, dtype: object"
      ]
     },
     "execution_count": 60,
     "metadata": {},
     "output_type": "execute_result"
    }
   ],
   "source": [
    "words = df['address'].apply(lambda w : re.sub(r'<.*?>','',w))\n",
    "words"
   ]
  },
  {
   "cell_type": "markdown",
   "id": "9c2cae09-31ba-4b64-b678-d2e345682f7c",
   "metadata": {
    "jp-MarkdownHeadingCollapsed": true
   },
   "source": [
    "# Pandas Joining and merging DataFrame"
   ]
  },
  {
   "cell_type": "markdown",
   "id": "22cdc7b1-a647-4e92-bfb7-745d7a18d3ca",
   "metadata": {},
   "source": [
    "merge() is a powerful and flexible function for joining DataFrames based on common columns or indices (similar to SQL joins).\n",
    "join() is often used when you want to join based on the index or a specific column in one of the DataFrames.\n",
    "concat() is best used when you want to stack DataFrames along a particular axis (rows or columns)."
   ]
  },
  {
   "cell_type": "markdown",
   "id": "9a79d198-aab3-4103-a43d-6bedca943098",
   "metadata": {},
   "source": [
    "Write a Pandas program to join the two given dataframes along rows and assign all data."
   ]
  },
  {
   "cell_type": "code",
   "execution_count": 61,
   "id": "4cdfb0ba-b795-4812-9c65-20e1e938f6c5",
   "metadata": {},
   "outputs": [],
   "source": [
    "student_data1 = pd.DataFrame({\n",
    "        'student_id': ['S1', 'S2', 'S3', 'S4', 'S5'],\n",
    "         'name': ['Danniella Fenton', 'Ryder Storey', 'Bryce Jensen', 'Ed Bernal', 'Kwame Morin'], \n",
    "        'marks': [200, 210, 190, 222, 199]})\n",
    "\n",
    "student_data2 = pd.DataFrame({\n",
    "        'student_id': ['S4', 'S5', 'S6', 'S7', 'S8'],\n",
    "        'name': ['Scarlette Fisher', 'Carla Williamson', 'Dante Morse', 'Kaiser William', 'Madeeha Preston'], \n",
    "        'marks': [201, 200, 198, 219, 201]})"
   ]
  },
  {
   "cell_type": "code",
   "execution_count": 62,
   "id": "39e25ae1-87ff-46c9-83f4-8dc17650c98e",
   "metadata": {},
   "outputs": [
    {
     "name": "stdout",
     "output_type": "stream",
     "text": [
      "  student_id              name  marks\n",
      "0         S1  Danniella Fenton    200\n",
      "1         S2      Ryder Storey    210\n",
      "2         S3      Bryce Jensen    190\n",
      "3         S4         Ed Bernal    222\n",
      "4         S5       Kwame Morin    199\n"
     ]
    }
   ],
   "source": [
    "print(student_data1)"
   ]
  },
  {
   "cell_type": "code",
   "execution_count": 63,
   "id": "6610081c-3566-4f3a-b01d-5e8e495e53f0",
   "metadata": {},
   "outputs": [
    {
     "name": "stdout",
     "output_type": "stream",
     "text": [
      "  student_id              name  marks\n",
      "0         S4  Scarlette Fisher    201\n",
      "1         S5  Carla Williamson    200\n",
      "2         S6       Dante Morse    198\n",
      "3         S7    Kaiser William    219\n",
      "4         S8   Madeeha Preston    201\n"
     ]
    }
   ],
   "source": [
    "print(student_data2)"
   ]
  },
  {
   "cell_type": "code",
   "execution_count": 65,
   "id": "fedb4e18-e72c-4b29-8555-ae8b9a9b8410",
   "metadata": {},
   "outputs": [
    {
     "data": {
      "text/html": [
       "<div>\n",
       "<style scoped>\n",
       "    .dataframe tbody tr th:only-of-type {\n",
       "        vertical-align: middle;\n",
       "    }\n",
       "\n",
       "    .dataframe tbody tr th {\n",
       "        vertical-align: top;\n",
       "    }\n",
       "\n",
       "    .dataframe thead th {\n",
       "        text-align: right;\n",
       "    }\n",
       "</style>\n",
       "<table border=\"1\" class=\"dataframe\">\n",
       "  <thead>\n",
       "    <tr style=\"text-align: right;\">\n",
       "      <th></th>\n",
       "      <th>student_id</th>\n",
       "      <th>name</th>\n",
       "      <th>marks</th>\n",
       "    </tr>\n",
       "  </thead>\n",
       "  <tbody>\n",
       "    <tr>\n",
       "      <th>0</th>\n",
       "      <td>S1</td>\n",
       "      <td>Danniella Fenton</td>\n",
       "      <td>200</td>\n",
       "    </tr>\n",
       "    <tr>\n",
       "      <th>1</th>\n",
       "      <td>S2</td>\n",
       "      <td>Ryder Storey</td>\n",
       "      <td>210</td>\n",
       "    </tr>\n",
       "    <tr>\n",
       "      <th>2</th>\n",
       "      <td>S3</td>\n",
       "      <td>Bryce Jensen</td>\n",
       "      <td>190</td>\n",
       "    </tr>\n",
       "    <tr>\n",
       "      <th>3</th>\n",
       "      <td>S4</td>\n",
       "      <td>Ed Bernal</td>\n",
       "      <td>222</td>\n",
       "    </tr>\n",
       "    <tr>\n",
       "      <th>4</th>\n",
       "      <td>S5</td>\n",
       "      <td>Kwame Morin</td>\n",
       "      <td>199</td>\n",
       "    </tr>\n",
       "    <tr>\n",
       "      <th>0</th>\n",
       "      <td>S4</td>\n",
       "      <td>Scarlette Fisher</td>\n",
       "      <td>201</td>\n",
       "    </tr>\n",
       "    <tr>\n",
       "      <th>1</th>\n",
       "      <td>S5</td>\n",
       "      <td>Carla Williamson</td>\n",
       "      <td>200</td>\n",
       "    </tr>\n",
       "    <tr>\n",
       "      <th>2</th>\n",
       "      <td>S6</td>\n",
       "      <td>Dante Morse</td>\n",
       "      <td>198</td>\n",
       "    </tr>\n",
       "    <tr>\n",
       "      <th>3</th>\n",
       "      <td>S7</td>\n",
       "      <td>Kaiser William</td>\n",
       "      <td>219</td>\n",
       "    </tr>\n",
       "    <tr>\n",
       "      <th>4</th>\n",
       "      <td>S8</td>\n",
       "      <td>Madeeha Preston</td>\n",
       "      <td>201</td>\n",
       "    </tr>\n",
       "  </tbody>\n",
       "</table>\n",
       "</div>"
      ],
      "text/plain": [
       "  student_id              name  marks\n",
       "0         S1  Danniella Fenton    200\n",
       "1         S2      Ryder Storey    210\n",
       "2         S3      Bryce Jensen    190\n",
       "3         S4         Ed Bernal    222\n",
       "4         S5       Kwame Morin    199\n",
       "0         S4  Scarlette Fisher    201\n",
       "1         S5  Carla Williamson    200\n",
       "2         S6       Dante Morse    198\n",
       "3         S7    Kaiser William    219\n",
       "4         S8   Madeeha Preston    201"
      ]
     },
     "execution_count": 65,
     "metadata": {},
     "output_type": "execute_result"
    }
   ],
   "source": [
    "s = pd.concat([student_data1,student_data2], axis = 0)\n",
    "s"
   ]
  },
  {
   "cell_type": "markdown",
   "id": "b3d7ce53-548d-4d35-9848-99d44f11ce6e",
   "metadata": {},
   "source": [
    "Write a Pandas program to join the two given dataframes along columns and assign all data."
   ]
  },
  {
   "cell_type": "code",
   "execution_count": 71,
   "id": "23dcbb95-a2a9-429f-9479-9728e7c3d66c",
   "metadata": {},
   "outputs": [
    {
     "data": {
      "text/html": [
       "<div>\n",
       "<style scoped>\n",
       "    .dataframe tbody tr th:only-of-type {\n",
       "        vertical-align: middle;\n",
       "    }\n",
       "\n",
       "    .dataframe tbody tr th {\n",
       "        vertical-align: top;\n",
       "    }\n",
       "\n",
       "    .dataframe thead th {\n",
       "        text-align: right;\n",
       "    }\n",
       "</style>\n",
       "<table border=\"1\" class=\"dataframe\">\n",
       "  <thead>\n",
       "    <tr style=\"text-align: right;\">\n",
       "      <th></th>\n",
       "      <th>student_id</th>\n",
       "      <th>name</th>\n",
       "      <th>marks</th>\n",
       "      <th>student_id</th>\n",
       "      <th>name</th>\n",
       "      <th>marks</th>\n",
       "    </tr>\n",
       "  </thead>\n",
       "  <tbody>\n",
       "    <tr>\n",
       "      <th>0</th>\n",
       "      <td>S1</td>\n",
       "      <td>Danniella Fenton</td>\n",
       "      <td>200</td>\n",
       "      <td>S4</td>\n",
       "      <td>Scarlette Fisher</td>\n",
       "      <td>201</td>\n",
       "    </tr>\n",
       "    <tr>\n",
       "      <th>1</th>\n",
       "      <td>S2</td>\n",
       "      <td>Ryder Storey</td>\n",
       "      <td>210</td>\n",
       "      <td>S5</td>\n",
       "      <td>Carla Williamson</td>\n",
       "      <td>200</td>\n",
       "    </tr>\n",
       "    <tr>\n",
       "      <th>2</th>\n",
       "      <td>S3</td>\n",
       "      <td>Bryce Jensen</td>\n",
       "      <td>190</td>\n",
       "      <td>S6</td>\n",
       "      <td>Dante Morse</td>\n",
       "      <td>198</td>\n",
       "    </tr>\n",
       "    <tr>\n",
       "      <th>3</th>\n",
       "      <td>S4</td>\n",
       "      <td>Ed Bernal</td>\n",
       "      <td>222</td>\n",
       "      <td>S7</td>\n",
       "      <td>Kaiser William</td>\n",
       "      <td>219</td>\n",
       "    </tr>\n",
       "    <tr>\n",
       "      <th>4</th>\n",
       "      <td>S5</td>\n",
       "      <td>Kwame Morin</td>\n",
       "      <td>199</td>\n",
       "      <td>S8</td>\n",
       "      <td>Madeeha Preston</td>\n",
       "      <td>201</td>\n",
       "    </tr>\n",
       "  </tbody>\n",
       "</table>\n",
       "</div>"
      ],
      "text/plain": [
       "  student_id              name  marks student_id              name  marks\n",
       "0         S1  Danniella Fenton    200         S4  Scarlette Fisher    201\n",
       "1         S2      Ryder Storey    210         S5  Carla Williamson    200\n",
       "2         S3      Bryce Jensen    190         S6       Dante Morse    198\n",
       "3         S4         Ed Bernal    222         S7    Kaiser William    219\n",
       "4         S5       Kwame Morin    199         S8   Madeeha Preston    201"
      ]
     },
     "execution_count": 71,
     "metadata": {},
     "output_type": "execute_result"
    }
   ],
   "source": [
    "s = pd.concat([student_data1,student_data2], axis = 1)\n",
    "s"
   ]
  },
  {
   "cell_type": "markdown",
   "id": "9d4d1185-49d6-4765-84f3-9d83182d8280",
   "metadata": {},
   "source": [
    "Write a Pandas program to join the two dataframes using the common column of both dataframes."
   ]
  },
  {
   "cell_type": "code",
   "execution_count": 75,
   "id": "aa424982-e669-447f-bdf2-4117923d9ea2",
   "metadata": {},
   "outputs": [
    {
     "data": {
      "text/html": [
       "<div>\n",
       "<style scoped>\n",
       "    .dataframe tbody tr th:only-of-type {\n",
       "        vertical-align: middle;\n",
       "    }\n",
       "\n",
       "    .dataframe tbody tr th {\n",
       "        vertical-align: top;\n",
       "    }\n",
       "\n",
       "    .dataframe thead th {\n",
       "        text-align: right;\n",
       "    }\n",
       "</style>\n",
       "<table border=\"1\" class=\"dataframe\">\n",
       "  <thead>\n",
       "    <tr style=\"text-align: right;\">\n",
       "      <th></th>\n",
       "      <th>student_id</th>\n",
       "      <th>name_x</th>\n",
       "      <th>marks_x</th>\n",
       "      <th>name_y</th>\n",
       "      <th>marks_y</th>\n",
       "    </tr>\n",
       "  </thead>\n",
       "  <tbody>\n",
       "    <tr>\n",
       "      <th>0</th>\n",
       "      <td>S4</td>\n",
       "      <td>Ed Bernal</td>\n",
       "      <td>222</td>\n",
       "      <td>Scarlette Fisher</td>\n",
       "      <td>201</td>\n",
       "    </tr>\n",
       "    <tr>\n",
       "      <th>1</th>\n",
       "      <td>S5</td>\n",
       "      <td>Kwame Morin</td>\n",
       "      <td>199</td>\n",
       "      <td>Carla Williamson</td>\n",
       "      <td>200</td>\n",
       "    </tr>\n",
       "  </tbody>\n",
       "</table>\n",
       "</div>"
      ],
      "text/plain": [
       "  student_id       name_x  marks_x            name_y  marks_y\n",
       "0         S4    Ed Bernal      222  Scarlette Fisher      201\n",
       "1         S5  Kwame Morin      199  Carla Williamson      200"
      ]
     },
     "execution_count": 75,
     "metadata": {},
     "output_type": "execute_result"
    }
   ],
   "source": [
    "s = pd.merge(student_data1, student_data2, 'inner', on='student_id')\n",
    "s"
   ]
  },
  {
   "cell_type": "markdown",
   "id": "3f6d783e-31aa-4a74-bd65-013e69b9649b",
   "metadata": {},
   "source": [
    "Write a Pandas program to merge two given dataframes with different columns."
   ]
  },
  {
   "cell_type": "code",
   "execution_count": 76,
   "id": "eefdf808-3aaf-41c7-a036-7107ea2be471",
   "metadata": {},
   "outputs": [],
   "source": [
    "data1 = pd.DataFrame({'key1': ['K0', 'K0', 'K1', 'K2'],\n",
    "                     'key2': ['K0', 'K1', 'K0', 'K1'],\n",
    "                     'P': ['P0', 'P1', 'P2', 'P3'],\n",
    "                     'Q': ['Q0', 'Q1', 'Q2', 'Q3']}) \n",
    "data2 = pd.DataFrame({'key1': ['K0', 'K1', 'K1', 'K2'],\n",
    "                      'key2': ['K0', 'K0', 'K0', 'K0'],\n",
    "                      'R': ['R0', 'R1', 'R2', 'R3'],\n",
    "                      'S': ['S0', 'S1', 'S2', 'S3']})"
   ]
  },
  {
   "cell_type": "code",
   "execution_count": 79,
   "id": "63fd4438-2d1d-4aee-add6-b60af26e6d8f",
   "metadata": {},
   "outputs": [
    {
     "data": {
      "text/html": [
       "<div>\n",
       "<style scoped>\n",
       "    .dataframe tbody tr th:only-of-type {\n",
       "        vertical-align: middle;\n",
       "    }\n",
       "\n",
       "    .dataframe tbody tr th {\n",
       "        vertical-align: top;\n",
       "    }\n",
       "\n",
       "    .dataframe thead th {\n",
       "        text-align: right;\n",
       "    }\n",
       "</style>\n",
       "<table border=\"1\" class=\"dataframe\">\n",
       "  <thead>\n",
       "    <tr style=\"text-align: right;\">\n",
       "      <th></th>\n",
       "      <th>key1</th>\n",
       "      <th>key2</th>\n",
       "      <th>P</th>\n",
       "      <th>Q</th>\n",
       "      <th>R</th>\n",
       "      <th>S</th>\n",
       "    </tr>\n",
       "  </thead>\n",
       "  <tbody>\n",
       "    <tr>\n",
       "      <th>0</th>\n",
       "      <td>K0</td>\n",
       "      <td>K0</td>\n",
       "      <td>P0</td>\n",
       "      <td>Q0</td>\n",
       "      <td>NaN</td>\n",
       "      <td>NaN</td>\n",
       "    </tr>\n",
       "    <tr>\n",
       "      <th>1</th>\n",
       "      <td>K0</td>\n",
       "      <td>K1</td>\n",
       "      <td>P1</td>\n",
       "      <td>Q1</td>\n",
       "      <td>NaN</td>\n",
       "      <td>NaN</td>\n",
       "    </tr>\n",
       "    <tr>\n",
       "      <th>2</th>\n",
       "      <td>K1</td>\n",
       "      <td>K0</td>\n",
       "      <td>P2</td>\n",
       "      <td>Q2</td>\n",
       "      <td>NaN</td>\n",
       "      <td>NaN</td>\n",
       "    </tr>\n",
       "    <tr>\n",
       "      <th>3</th>\n",
       "      <td>K2</td>\n",
       "      <td>K1</td>\n",
       "      <td>P3</td>\n",
       "      <td>Q3</td>\n",
       "      <td>NaN</td>\n",
       "      <td>NaN</td>\n",
       "    </tr>\n",
       "    <tr>\n",
       "      <th>4</th>\n",
       "      <td>K0</td>\n",
       "      <td>K0</td>\n",
       "      <td>NaN</td>\n",
       "      <td>NaN</td>\n",
       "      <td>R0</td>\n",
       "      <td>S0</td>\n",
       "    </tr>\n",
       "    <tr>\n",
       "      <th>5</th>\n",
       "      <td>K1</td>\n",
       "      <td>K0</td>\n",
       "      <td>NaN</td>\n",
       "      <td>NaN</td>\n",
       "      <td>R1</td>\n",
       "      <td>S1</td>\n",
       "    </tr>\n",
       "    <tr>\n",
       "      <th>6</th>\n",
       "      <td>K1</td>\n",
       "      <td>K0</td>\n",
       "      <td>NaN</td>\n",
       "      <td>NaN</td>\n",
       "      <td>R2</td>\n",
       "      <td>S2</td>\n",
       "    </tr>\n",
       "    <tr>\n",
       "      <th>7</th>\n",
       "      <td>K2</td>\n",
       "      <td>K0</td>\n",
       "      <td>NaN</td>\n",
       "      <td>NaN</td>\n",
       "      <td>R3</td>\n",
       "      <td>S3</td>\n",
       "    </tr>\n",
       "  </tbody>\n",
       "</table>\n",
       "</div>"
      ],
      "text/plain": [
       "  key1 key2    P    Q    R    S\n",
       "0   K0   K0   P0   Q0  NaN  NaN\n",
       "1   K0   K1   P1   Q1  NaN  NaN\n",
       "2   K1   K0   P2   Q2  NaN  NaN\n",
       "3   K2   K1   P3   Q3  NaN  NaN\n",
       "4   K0   K0  NaN  NaN   R0   S0\n",
       "5   K1   K0  NaN  NaN   R1   S1\n",
       "6   K1   K0  NaN  NaN   R2   S2\n",
       "7   K2   K0  NaN  NaN   R3   S3"
      ]
     },
     "execution_count": 79,
     "metadata": {},
     "output_type": "execute_result"
    }
   ],
   "source": [
    "pd.concat([data1,data2], axis = 0, ignore_index=True)"
   ]
  },
  {
   "cell_type": "markdown",
   "id": "aa9edf34-ca25-46c9-a3ab-c6e0ba9f7b6a",
   "metadata": {},
   "source": [
    " Write a Pandas program to Combine two DataFrame objects by filling null values in one DataFrame with non-null values from other DataFrame."
   ]
  },
  {
   "cell_type": "code",
   "execution_count": 80,
   "id": "582fd530-9b8b-4234-b32b-2df82792f1e7",
   "metadata": {},
   "outputs": [],
   "source": [
    "df1 = pd.DataFrame({'A': [None, 0, None], 'B': [3, 4, 5]})\n",
    "df2 = pd.DataFrame({'A': [1, 1, 3], 'B': [3, None, 3]})"
   ]
  },
  {
   "cell_type": "code",
   "execution_count": 81,
   "id": "9ca958c0-8103-42b1-8d7e-91ed67ddd9e3",
   "metadata": {},
   "outputs": [
    {
     "name": "stdout",
     "output_type": "stream",
     "text": [
      "     A  B\n",
      "0  NaN  3\n",
      "1  0.0  4\n",
      "2  NaN  5\n"
     ]
    }
   ],
   "source": [
    "print(df1)"
   ]
  },
  {
   "cell_type": "code",
   "execution_count": 82,
   "id": "78ce06b2-b4bb-4f0f-b9b9-bd10519de133",
   "metadata": {},
   "outputs": [
    {
     "name": "stdout",
     "output_type": "stream",
     "text": [
      "   A    B\n",
      "0  1  3.0\n",
      "1  1  NaN\n",
      "2  3  3.0\n"
     ]
    }
   ],
   "source": [
    "print(df2)"
   ]
  },
  {
   "cell_type": "code",
   "execution_count": 83,
   "id": "fdc77010-5de1-4b78-b0cc-e156573de531",
   "metadata": {},
   "outputs": [
    {
     "data": {
      "text/html": [
       "<div>\n",
       "<style scoped>\n",
       "    .dataframe tbody tr th:only-of-type {\n",
       "        vertical-align: middle;\n",
       "    }\n",
       "\n",
       "    .dataframe tbody tr th {\n",
       "        vertical-align: top;\n",
       "    }\n",
       "\n",
       "    .dataframe thead th {\n",
       "        text-align: right;\n",
       "    }\n",
       "</style>\n",
       "<table border=\"1\" class=\"dataframe\">\n",
       "  <thead>\n",
       "    <tr style=\"text-align: right;\">\n",
       "      <th></th>\n",
       "      <th>A</th>\n",
       "      <th>B</th>\n",
       "    </tr>\n",
       "  </thead>\n",
       "  <tbody>\n",
       "    <tr>\n",
       "      <th>0</th>\n",
       "      <td>1.0</td>\n",
       "      <td>3.0</td>\n",
       "    </tr>\n",
       "    <tr>\n",
       "      <th>1</th>\n",
       "      <td>0.0</td>\n",
       "      <td>4.0</td>\n",
       "    </tr>\n",
       "    <tr>\n",
       "      <th>2</th>\n",
       "      <td>3.0</td>\n",
       "      <td>5.0</td>\n",
       "    </tr>\n",
       "  </tbody>\n",
       "</table>\n",
       "</div>"
      ],
      "text/plain": [
       "     A    B\n",
       "0  1.0  3.0\n",
       "1  0.0  4.0\n",
       "2  3.0  5.0"
      ]
     },
     "execution_count": 83,
     "metadata": {},
     "output_type": "execute_result"
    }
   ],
   "source": [
    "df1.combine_first(df2)"
   ]
  },
  {
   "cell_type": "code",
   "execution_count": 84,
   "id": "8b70a59c-eb9c-4cbc-81ad-44a20859f36a",
   "metadata": {},
   "outputs": [
    {
     "data": {
      "text/html": [
       "<div>\n",
       "<style scoped>\n",
       "    .dataframe tbody tr th:only-of-type {\n",
       "        vertical-align: middle;\n",
       "    }\n",
       "\n",
       "    .dataframe tbody tr th {\n",
       "        vertical-align: top;\n",
       "    }\n",
       "\n",
       "    .dataframe thead th {\n",
       "        text-align: right;\n",
       "    }\n",
       "</style>\n",
       "<table border=\"1\" class=\"dataframe\">\n",
       "  <thead>\n",
       "    <tr style=\"text-align: right;\">\n",
       "      <th></th>\n",
       "      <th>A</th>\n",
       "      <th>B</th>\n",
       "    </tr>\n",
       "  </thead>\n",
       "  <tbody>\n",
       "    <tr>\n",
       "      <th>0</th>\n",
       "      <td>1.0</td>\n",
       "      <td>3.0</td>\n",
       "    </tr>\n",
       "    <tr>\n",
       "      <th>1</th>\n",
       "      <td>1.0</td>\n",
       "      <td>4.0</td>\n",
       "    </tr>\n",
       "    <tr>\n",
       "      <th>2</th>\n",
       "      <td>3.0</td>\n",
       "      <td>3.0</td>\n",
       "    </tr>\n",
       "  </tbody>\n",
       "</table>\n",
       "</div>"
      ],
      "text/plain": [
       "     A    B\n",
       "0  1.0  3.0\n",
       "1  1.0  4.0\n",
       "2  3.0  3.0"
      ]
     },
     "execution_count": 84,
     "metadata": {},
     "output_type": "execute_result"
    }
   ],
   "source": [
    "df2.combine_first(df1)"
   ]
  },
  {
   "cell_type": "markdown",
   "id": "47bbc184-e827-4e63-8792-6cab529f57b5",
   "metadata": {
    "jp-MarkdownHeadingCollapsed": true
   },
   "source": [
    "# Pandas Grouping and Aggregating "
   ]
  },
  {
   "cell_type": "markdown",
   "id": "808b2a19-cc26-4360-ab44-4f6d49a0102f",
   "metadata": {},
   "source": [
    "Write a Pandas program to split the following dataframe into groups based on school code. Also check the type of GroupBy object."
   ]
  },
  {
   "cell_type": "code",
   "execution_count": 85,
   "id": "ef4ad909-0b03-4586-bb85-bba5fc51cca4",
   "metadata": {},
   "outputs": [],
   "source": [
    "import pandas as pd"
   ]
  },
  {
   "cell_type": "code",
   "execution_count": 86,
   "id": "c550aee4-bed4-48f0-92ce-12618ba29df8",
   "metadata": {},
   "outputs": [],
   "source": [
    "student_data = pd.DataFrame({\n",
    "    'school_code': ['s001','s002','s003','s001','s002','s004'],\n",
    "    'class': ['V', 'V', 'VI', 'VI', 'V', 'VI'],\n",
    "    'name': ['Alberto Franco','Gino Mcneill','Ryan Parkes', 'Eesha Hinton', 'Gino Mcneill', 'David Parkes'],\n",
    "    'date_Of_Birth ': ['15/05/2002','17/05/2002','16/02/1999','25/09/1998','11/05/2002','15/09/1997'],\n",
    "    'age': [12, 12, 13, 13, 14, 12],\n",
    "    'height': [173, 192, 186, 167, 151, 159],\n",
    "    'weight': [35, 32, 33, 30, 31, 32],\n",
    "    'address': ['street1', 'street2', 'street3', 'street1', 'street2', 'street4']},\n",
    "    index=['S1', 'S2', 'S3', 'S4', 'S5', 'S6'])"
   ]
  },
  {
   "cell_type": "code",
   "execution_count": 91,
   "id": "535f247e-524d-468b-84c7-3c098b094494",
   "metadata": {},
   "outputs": [
    {
     "name": "stdout",
     "output_type": "stream",
     "text": [
      "   school_code class            name date_Of_Birth   age  height  weight  \\\n",
      "S1        s001     V  Alberto Franco     15/05/2002   12     173      35   \n",
      "S2        s002     V    Gino Mcneill     17/05/2002   12     192      32   \n",
      "S3        s003    VI     Ryan Parkes     16/02/1999   13     186      33   \n",
      "S4        s001    VI    Eesha Hinton     25/09/1998   13     167      30   \n",
      "S5        s002     V    Gino Mcneill     11/05/2002   14     151      31   \n",
      "S6        s004    VI    David Parkes     15/09/1997   12     159      32   \n",
      "\n",
      "    address  \n",
      "S1  street1  \n",
      "S2  street2  \n",
      "S3  street3  \n",
      "S4  street1  \n",
      "S5  street2  \n",
      "S6  street4  \n"
     ]
    }
   ],
   "source": [
    "print(student_data)"
   ]
  },
  {
   "cell_type": "code",
   "execution_count": 96,
   "id": "f6f2f4d2-e2d4-4014-a1da-a8f102a4fa6f",
   "metadata": {},
   "outputs": [
    {
     "name": "stdout",
     "output_type": "stream",
     "text": [
      "<class 'pandas.core.groupby.generic.DataFrameGroupBy'>\n"
     ]
    }
   ],
   "source": [
    "s = student_data.groupby('school_code')\n",
    "print(type(s))"
   ]
  },
  {
   "cell_type": "code",
   "execution_count": 97,
   "id": "20b93dcf-c34f-4fc1-b6ec-4bd852ada834",
   "metadata": {},
   "outputs": [
    {
     "name": "stdout",
     "output_type": "stream",
     "text": [
      "s001\n",
      "   school_code class            name date_Of_Birth   age  height  weight  \\\n",
      "S1        s001     V  Alberto Franco     15/05/2002   12     173      35   \n",
      "S4        s001    VI    Eesha Hinton     25/09/1998   13     167      30   \n",
      "\n",
      "    address  \n",
      "S1  street1  \n",
      "S4  street1  \n",
      "s002\n",
      "   school_code class          name date_Of_Birth   age  height  weight  \\\n",
      "S2        s002     V  Gino Mcneill     17/05/2002   12     192      32   \n",
      "S5        s002     V  Gino Mcneill     11/05/2002   14     151      31   \n",
      "\n",
      "    address  \n",
      "S2  street2  \n",
      "S5  street2  \n",
      "s003\n",
      "   school_code class         name date_Of_Birth   age  height  weight  address\n",
      "S3        s003    VI  Ryan Parkes     16/02/1999   13     186      33  street3\n",
      "s004\n",
      "   school_code class          name date_Of_Birth   age  height  weight  \\\n",
      "S6        s004    VI  David Parkes     15/09/1997   12     159      32   \n",
      "\n",
      "    address  \n",
      "S6  street4  \n"
     ]
    }
   ],
   "source": [
    "for name, group in s:\n",
    "    print(name)\n",
    "    print(group)"
   ]
  },
  {
   "cell_type": "markdown",
   "id": "2340759d-b0e8-4e64-a84d-49fa7a02456b",
   "metadata": {},
   "source": [
    "Write a Pandas program to split the following dataframe by school code and get mean, min, and max value of age for each school."
   ]
  },
  {
   "cell_type": "code",
   "execution_count": 98,
   "id": "19b28a97-5725-4b3a-97b7-a41f4c87a0cc",
   "metadata": {},
   "outputs": [
    {
     "data": {
      "text/plain": [
       "school_code\n",
       "s001    12.5\n",
       "s002    13.0\n",
       "s003    13.0\n",
       "s004    12.0\n",
       "Name: age, dtype: float64"
      ]
     },
     "execution_count": 98,
     "metadata": {},
     "output_type": "execute_result"
    }
   ],
   "source": [
    "s['age'].mean()"
   ]
  },
  {
   "cell_type": "code",
   "execution_count": 101,
   "id": "22450b47-8033-4619-a5ce-5ea96302fd6c",
   "metadata": {},
   "outputs": [
    {
     "data": {
      "text/html": [
       "<div>\n",
       "<style scoped>\n",
       "    .dataframe tbody tr th:only-of-type {\n",
       "        vertical-align: middle;\n",
       "    }\n",
       "\n",
       "    .dataframe tbody tr th {\n",
       "        vertical-align: top;\n",
       "    }\n",
       "\n",
       "    .dataframe thead th {\n",
       "        text-align: right;\n",
       "    }\n",
       "</style>\n",
       "<table border=\"1\" class=\"dataframe\">\n",
       "  <thead>\n",
       "    <tr style=\"text-align: right;\">\n",
       "      <th></th>\n",
       "      <th>min</th>\n",
       "      <th>max</th>\n",
       "    </tr>\n",
       "    <tr>\n",
       "      <th>school_code</th>\n",
       "      <th></th>\n",
       "      <th></th>\n",
       "    </tr>\n",
       "  </thead>\n",
       "  <tbody>\n",
       "    <tr>\n",
       "      <th>s001</th>\n",
       "      <td>12</td>\n",
       "      <td>13</td>\n",
       "    </tr>\n",
       "    <tr>\n",
       "      <th>s002</th>\n",
       "      <td>12</td>\n",
       "      <td>14</td>\n",
       "    </tr>\n",
       "    <tr>\n",
       "      <th>s003</th>\n",
       "      <td>13</td>\n",
       "      <td>13</td>\n",
       "    </tr>\n",
       "    <tr>\n",
       "      <th>s004</th>\n",
       "      <td>12</td>\n",
       "      <td>12</td>\n",
       "    </tr>\n",
       "  </tbody>\n",
       "</table>\n",
       "</div>"
      ],
      "text/plain": [
       "             min  max\n",
       "school_code          \n",
       "s001          12   13\n",
       "s002          12   14\n",
       "s003          13   13\n",
       "s004          12   12"
      ]
     },
     "execution_count": 101,
     "metadata": {},
     "output_type": "execute_result"
    }
   ],
   "source": [
    "s['age'].agg(['min','max'])"
   ]
  },
  {
   "cell_type": "markdown",
   "id": "a6fc10ce-2010-42ff-9a73-6860b4bf77d4",
   "metadata": {},
   "source": [
    "Write a Pandas program to split a given dataset using group by on multiple columns and drop last n rows of from each group."
   ]
  },
  {
   "cell_type": "code",
   "execution_count": 102,
   "id": "b6cf71de-f48a-4780-bdea-5b6849227f7e",
   "metadata": {},
   "outputs": [
    {
     "data": {
      "text/html": [
       "<div>\n",
       "<style scoped>\n",
       "    .dataframe tbody tr th:only-of-type {\n",
       "        vertical-align: middle;\n",
       "    }\n",
       "\n",
       "    .dataframe tbody tr th {\n",
       "        vertical-align: top;\n",
       "    }\n",
       "\n",
       "    .dataframe thead th {\n",
       "        text-align: right;\n",
       "    }\n",
       "</style>\n",
       "<table border=\"1\" class=\"dataframe\">\n",
       "  <thead>\n",
       "    <tr style=\"text-align: right;\">\n",
       "      <th></th>\n",
       "      <th>ord_no</th>\n",
       "      <th>purch_amt</th>\n",
       "      <th>ord_date</th>\n",
       "      <th>customer_id</th>\n",
       "      <th>salesman_id</th>\n",
       "    </tr>\n",
       "  </thead>\n",
       "  <tbody>\n",
       "    <tr>\n",
       "      <th>0</th>\n",
       "      <td>70001</td>\n",
       "      <td>150.50</td>\n",
       "      <td>2012-10-05</td>\n",
       "      <td>3002</td>\n",
       "      <td>5002</td>\n",
       "    </tr>\n",
       "    <tr>\n",
       "      <th>1</th>\n",
       "      <td>70009</td>\n",
       "      <td>270.65</td>\n",
       "      <td>2012-09-10</td>\n",
       "      <td>3001</td>\n",
       "      <td>5003</td>\n",
       "    </tr>\n",
       "    <tr>\n",
       "      <th>2</th>\n",
       "      <td>70002</td>\n",
       "      <td>65.26</td>\n",
       "      <td>2012-10-05</td>\n",
       "      <td>3001</td>\n",
       "      <td>5001</td>\n",
       "    </tr>\n",
       "    <tr>\n",
       "      <th>3</th>\n",
       "      <td>70004</td>\n",
       "      <td>110.50</td>\n",
       "      <td>2012-08-17</td>\n",
       "      <td>3003</td>\n",
       "      <td>5003</td>\n",
       "    </tr>\n",
       "    <tr>\n",
       "      <th>4</th>\n",
       "      <td>70007</td>\n",
       "      <td>948.50</td>\n",
       "      <td>2012-09-10</td>\n",
       "      <td>3002</td>\n",
       "      <td>5002</td>\n",
       "    </tr>\n",
       "    <tr>\n",
       "      <th>5</th>\n",
       "      <td>70005</td>\n",
       "      <td>2400.60</td>\n",
       "      <td>2012-07-27</td>\n",
       "      <td>3002</td>\n",
       "      <td>5001</td>\n",
       "    </tr>\n",
       "    <tr>\n",
       "      <th>6</th>\n",
       "      <td>70008</td>\n",
       "      <td>5760.00</td>\n",
       "      <td>2012-09-10</td>\n",
       "      <td>3001</td>\n",
       "      <td>5001</td>\n",
       "    </tr>\n",
       "    <tr>\n",
       "      <th>7</th>\n",
       "      <td>70010</td>\n",
       "      <td>1983.43</td>\n",
       "      <td>2012-10-10</td>\n",
       "      <td>3004</td>\n",
       "      <td>5003</td>\n",
       "    </tr>\n",
       "    <tr>\n",
       "      <th>8</th>\n",
       "      <td>70003</td>\n",
       "      <td>2480.40</td>\n",
       "      <td>2012-10-10</td>\n",
       "      <td>3003</td>\n",
       "      <td>5003</td>\n",
       "    </tr>\n",
       "    <tr>\n",
       "      <th>9</th>\n",
       "      <td>70012</td>\n",
       "      <td>250.45</td>\n",
       "      <td>2012-06-27</td>\n",
       "      <td>3002</td>\n",
       "      <td>5002</td>\n",
       "    </tr>\n",
       "    <tr>\n",
       "      <th>10</th>\n",
       "      <td>70011</td>\n",
       "      <td>75.29</td>\n",
       "      <td>2012-08-17</td>\n",
       "      <td>3003</td>\n",
       "      <td>5003</td>\n",
       "    </tr>\n",
       "    <tr>\n",
       "      <th>11</th>\n",
       "      <td>70013</td>\n",
       "      <td>3045.60</td>\n",
       "      <td>2012-04-25</td>\n",
       "      <td>3001</td>\n",
       "      <td>5001</td>\n",
       "    </tr>\n",
       "  </tbody>\n",
       "</table>\n",
       "</div>"
      ],
      "text/plain": [
       "    ord_no  purch_amt    ord_date  customer_id  salesman_id\n",
       "0    70001     150.50  2012-10-05         3002         5002\n",
       "1    70009     270.65  2012-09-10         3001         5003\n",
       "2    70002      65.26  2012-10-05         3001         5001\n",
       "3    70004     110.50  2012-08-17         3003         5003\n",
       "4    70007     948.50  2012-09-10         3002         5002\n",
       "5    70005    2400.60  2012-07-27         3002         5001\n",
       "6    70008    5760.00  2012-09-10         3001         5001\n",
       "7    70010    1983.43  2012-10-10         3004         5003\n",
       "8    70003    2480.40  2012-10-10         3003         5003\n",
       "9    70012     250.45  2012-06-27         3002         5002\n",
       "10   70011      75.29  2012-08-17         3003         5003\n",
       "11   70013    3045.60  2012-04-25         3001         5001"
      ]
     },
     "execution_count": 102,
     "metadata": {},
     "output_type": "execute_result"
    }
   ],
   "source": [
    "df = pd.DataFrame({\n",
    "'ord_no':[70001,70009,70002,70004,70007,70005,70008,70010,70003,70012,70011,70013],\n",
    "'purch_amt':[150.5,270.65,65.26,110.5,948.5,2400.6,5760,1983.43,2480.4,250.45, 75.29,3045.6],\n",
    "'ord_date': ['2012-10-05','2012-09-10','2012-10-05','2012-08-17','2012-09-10','2012-07-27','2012-09-10','2012-10-10','2012-10-10','2012-06-27','2012-08-17','2012-04-25'],\n",
    "'customer_id':[3002,3001,3001,3003,3002,3002,3001,3004,3003,3002,3003,3001],\n",
    "'salesman_id':[5002,5003,5001,5003,5002,5001,5001,5003,5003,5002,5003,5001]})\n",
    "\n",
    "df"
   ]
  },
  {
   "cell_type": "code",
   "execution_count": 103,
   "id": "c1e784b9-6ebe-4c84-b9d8-165ce546815f",
   "metadata": {},
   "outputs": [
    {
     "name": "stdout",
     "output_type": "stream",
     "text": [
      "(3001, 5001)\n",
      "    ord_no  purch_amt    ord_date  customer_id  salesman_id\n",
      "2    70002      65.26  2012-10-05         3001         5001\n",
      "6    70008    5760.00  2012-09-10         3001         5001\n",
      "11   70013    3045.60  2012-04-25         3001         5001\n",
      "(3001, 5003)\n",
      "   ord_no  purch_amt    ord_date  customer_id  salesman_id\n",
      "1   70009     270.65  2012-09-10         3001         5003\n",
      "(3002, 5001)\n",
      "   ord_no  purch_amt    ord_date  customer_id  salesman_id\n",
      "5   70005     2400.6  2012-07-27         3002         5001\n",
      "(3002, 5002)\n",
      "   ord_no  purch_amt    ord_date  customer_id  salesman_id\n",
      "0   70001     150.50  2012-10-05         3002         5002\n",
      "4   70007     948.50  2012-09-10         3002         5002\n",
      "9   70012     250.45  2012-06-27         3002         5002\n",
      "(3003, 5003)\n",
      "    ord_no  purch_amt    ord_date  customer_id  salesman_id\n",
      "3    70004     110.50  2012-08-17         3003         5003\n",
      "8    70003    2480.40  2012-10-10         3003         5003\n",
      "10   70011      75.29  2012-08-17         3003         5003\n",
      "(3004, 5003)\n",
      "   ord_no  purch_amt    ord_date  customer_id  salesman_id\n",
      "7   70010    1983.43  2012-10-10         3004         5003\n"
     ]
    }
   ],
   "source": [
    "s = df.groupby(['customer_id','salesman_id'])\n",
    "for name, group in s:\n",
    "    print(name)\n",
    "    print(group)"
   ]
  },
  {
   "cell_type": "code",
   "execution_count": 109,
   "id": "7255bc2b-d13d-455d-aa80-c91337883f41",
   "metadata": {},
   "outputs": [
    {
     "name": "stdout",
     "output_type": "stream",
     "text": [
      "   ord_no  purch_amt    ord_date  customer_id  salesman_id\n",
      "0   70001     150.50  2012-10-05         3002         5002\n",
      "2   70002      65.26  2012-10-05         3001         5001\n",
      "3   70004     110.50  2012-08-17         3003         5003\n",
      "4   70007     948.50  2012-09-10         3002         5002\n",
      "6   70008    5760.00  2012-09-10         3001         5001\n",
      "8   70003    2480.40  2012-10-10         3003         5003\n"
     ]
    }
   ],
   "source": [
    "n=1\n",
    "result = df.drop(s.tail(n).index, axis=0)\n",
    "print(result)"
   ]
  },
  {
   "cell_type": "markdown",
   "id": "c57aa8e4-2aab-490f-994b-9e2cd4e30111",
   "metadata": {
    "jp-MarkdownHeadingCollapsed": true
   },
   "source": [
    "# Pandas Time Series"
   ]
  },
  {
   "cell_type": "markdown",
   "id": "6829f974-afd9-442e-9ace-87f547966ec4",
   "metadata": {},
   "source": [
    "Write a Pandas program to create\n",
    "a) Datetime object for Jan 15 2012.\n",
    "b) Specific date and time of 9:20 pm.\n",
    "c) Local date and time.\n",
    "d) A date without time.\n",
    "e) Current date.\n",
    "f) Time from a datetime.\n",
    "g) Current local time."
   ]
  },
  {
   "cell_type": "code",
   "execution_count": 110,
   "id": "913d9ad8-cca3-4456-908f-353c4b6b25bc",
   "metadata": {},
   "outputs": [],
   "source": [
    "from datetime import datetime"
   ]
  },
  {
   "cell_type": "code",
   "execution_count": 114,
   "id": "3cb04754-2482-41bf-9582-a86d78798e56",
   "metadata": {},
   "outputs": [
    {
     "name": "stdout",
     "output_type": "stream",
     "text": [
      "Datetime object for Jan 11 2012:\n",
      "2012-01-11 00:00:00\n",
      "\n",
      "Specific date and time of 9:20 pm\n",
      "2011-01-11 21:20:00\n",
      "\n",
      "Local date and time:\n",
      "2025-01-15 11:08:28.536160\n",
      "\n",
      "A date without time: \n",
      "2012-05-22\n",
      "\n",
      "Current date:\n",
      "2025-01-15\n",
      "\n",
      "Time from a datetime:\n",
      "18:12:00\n",
      "\n",
      "Current local time:\n",
      "11:08:28.537157\n"
     ]
    }
   ],
   "source": [
    "print(\"Datetime object for Jan 11 2012:\")\n",
    "print(datetime(2012, 1, 11))\n",
    "\n",
    "print(\"\\nSpecific date and time of 9:20 pm\") \n",
    "print(datetime(2011, 1, 11, 21, 20))\n",
    "\n",
    "print(\"\\nLocal date and time:\")\n",
    "print(datetime.now())\n",
    "\n",
    "print(\"\\nA date without time: \")\n",
    "print(datetime.date(datetime(2012, 5, 22)))\n",
    "\n",
    "print(\"\\nCurrent date:\")\n",
    "print(datetime.now().date())\n",
    "\n",
    "print(\"\\nTime from a datetime:\")\n",
    "print(datetime.time(datetime(2012, 12, 15, 18, 12)))\n",
    "\n",
    "print(\"\\nCurrent local time:\") \n",
    "print(datetime.now().time())\n"
   ]
  },
  {
   "cell_type": "markdown",
   "id": "ed7b1746-8513-43a9-a899-c574fb5a92bf",
   "metadata": {},
   "source": [
    "Write a Pandas program to create\n",
    "a) a specific date using timestamp.\n",
    "b) date and time using timestamp.\n",
    "c) a time adds in the current local date using timestamp.\n",
    "d) current date and time using timestamp."
   ]
  },
  {
   "cell_type": "code",
   "execution_count": 1,
   "id": "1e45f2e8-1fdc-455e-9496-cc43a3ae409a",
   "metadata": {},
   "outputs": [
    {
     "name": "stdout",
     "output_type": "stream",
     "text": [
      "\n",
      "A specific date using timestamp:\n",
      "2016-11-10 00:00:00\n",
      "\n",
      "Date and time using timestamp:\n",
      "2012-05-03 11:30:00\n",
      "\n",
      "A time adds in the current local date using timestamp:\n",
      "2025-01-15 11:30:00\n",
      "\n",
      "Current date and time using timestamp:\n",
      "2025-01-15 11:18:40.119105\n"
     ]
    }
   ],
   "source": [
    "import pandas as pd\n",
    "\n",
    "print(\"\\nA specific date using timestamp:\")\n",
    "print(pd.Timestamp('2016-11-10'))\n",
    "\n",
    "print(\"\\nDate and time using timestamp:\")\n",
    "print(pd.Timestamp('2012-05-03 11:30'))\n",
    "\n",
    "print(\"\\nA time adds in the current local date using timestamp:\")\n",
    "print(pd.Timestamp('11:30'))\n",
    "\n",
    "print(\"\\nCurrent date and time using timestamp:\")\n",
    "print(pd.Timestamp(\"now\"))\n"
   ]
  },
  {
   "cell_type": "markdown",
   "id": "404a0c3d-f90f-4035-bfb8-7a3685973322",
   "metadata": {},
   "source": [
    "Write a Pandas program create a series with a PeriodIndex which represents all the calendar month periods in 2029 and 2031. Also print the values for all periods in 2030.\n",
    "Note: PeriodIndex is an immutable ndarray holding ordinal values indicating regular periods in time such as particular years, quarters, months, etc."
   ]
  },
  {
   "cell_type": "code",
   "execution_count": 3,
   "id": "a5910ce1-3de1-45ff-a858-3a3ce1a3ca34",
   "metadata": {},
   "outputs": [
    {
     "name": "stdout",
     "output_type": "stream",
     "text": [
      "PeriodIndex which represents all the calendar month periods in 2029 and 2030:\n",
      "2029-01    11\n",
      "2029-02    13\n",
      "2029-03    19\n",
      "2029-04     4\n",
      "2029-05     3\n",
      "2029-06     5\n",
      "2029-07     6\n",
      "2029-08    11\n",
      "2029-09     9\n",
      "2029-10    35\n",
      "2029-11    22\n",
      "2029-12    11\n",
      "2030-01    35\n",
      "2030-02    34\n",
      "2030-03    12\n",
      "2030-04    35\n",
      "2030-05    10\n",
      "2030-06    14\n",
      "2030-07    20\n",
      "2030-08     8\n",
      "2030-09     5\n",
      "2030-10     7\n",
      "2030-11    15\n",
      "2030-12    13\n",
      "2031-01    10\n",
      "2031-02     9\n",
      "2031-03    26\n",
      "2031-04    10\n",
      "2031-05    16\n",
      "2031-06    16\n",
      "2031-07    21\n",
      "2031-08    16\n",
      "2031-09    18\n",
      "2031-10    33\n",
      "2031-11     5\n",
      "2031-12     6\n",
      "Freq: M, dtype: int32\n",
      "\n",
      "Values for all periods in 2030:\n",
      "2030-01    35\n",
      "2030-02    34\n",
      "2030-03    12\n",
      "2030-04    35\n",
      "2030-05    10\n",
      "2030-06    14\n",
      "2030-07    20\n",
      "2030-08     8\n",
      "2030-09     5\n",
      "2030-10     7\n",
      "2030-11    15\n",
      "2030-12    13\n",
      "Freq: M, dtype: int32\n"
     ]
    }
   ],
   "source": [
    "import pandas as pd\n",
    "import numpy as np\n",
    "\n",
    "pi = pd.Series(np.random.randint(0,36,36), \n",
    "               pd.period_range('1/1/2029', \n",
    "                               '12/31/2031', freq='M'))\n",
    "\n",
    "print(\"PeriodIndex which represents all the calendar month periods in 2029 and 2030:\")\n",
    "print(pi)\n",
    "\n",
    "print(\"\\nValues for all periods in 2030:\")\n",
    "print(pi['2030'])\n"
   ]
  },
  {
   "cell_type": "markdown",
   "id": "b74106d3-e7c3-4503-8e10-3ab681118dac",
   "metadata": {},
   "source": [
    "Write a Pandas program to create a monthly time period and display the list of names in the current local scope."
   ]
  },
  {
   "cell_type": "code",
   "execution_count": 4,
   "id": "595e1eab-db7a-4e3b-bb5d-4cd4a4e2eda6",
   "metadata": {},
   "outputs": [
    {
     "name": "stdout",
     "output_type": "stream",
     "text": [
      "Monthly time perid:  2021-11\n",
      "\n",
      "List of names in the current local scope:\n",
      "['__add__', '__array_priority__', '__class__', '__delattr__', '__dict__', '__dir__', '__doc__', '__eq__', '__format__', '__ge__', '__getattribute__', '__getstate__', '__gt__', '__hash__', '__init__', '__init_subclass__', '__le__', '__lt__', '__module__', '__ne__', '__new__', '__radd__', '__reduce__', '__reduce_cython__', '__reduce_ex__', '__repr__', '__rsub__', '__setattr__', '__setstate__', '__setstate_cython__', '__sizeof__', '__str__', '__sub__', '__subclasshook__', '__weakref__', '_add_offset', '_add_timedeltalike_scalar', '_dtype', '_from_ordinal', '_maybe_convert_freq', '_require_matching_freq', 'asfreq', 'day', 'day_of_week', 'day_of_year', 'dayofweek', 'dayofyear', 'days_in_month', 'daysinmonth', 'end_time', 'freq', 'freqstr', 'hour', 'is_leap_year', 'minute', 'month', 'now', 'ordinal', 'quarter', 'qyear', 'second', 'start_time', 'strftime', 'to_timestamp', 'week', 'weekday', 'weekofyear', 'year']\n"
     ]
    }
   ],
   "source": [
    "import pandas as pd\n",
    "\n",
    "mtp = pd.Period('2021-11','M')\n",
    "\n",
    "print(\"Monthly time perid: \",mtp)\n",
    "\n",
    "print(\"\\nList of names in the current local scope:\")\n",
    "print(dir(mtp)) \n"
   ]
  },
  {
   "cell_type": "markdown",
   "id": "ce9cfc78-74cf-40b0-bb77-ef4c28c1e1bd",
   "metadata": {
    "jp-MarkdownHeadingCollapsed": true
   },
   "source": [
    "# Pandas Filter"
   ]
  },
  {
   "cell_type": "markdown",
   "id": "7a6f5f97-d647-4203-91d3-6cf9cf5d2444",
   "metadata": {},
   "source": [
    "Write a Pandas program to display the dimensions or shape of the World alcohol consumption dataset. Also extract the column names from the dataset."
   ]
  },
  {
   "cell_type": "code",
   "execution_count": 5,
   "id": "f33fdda6-2124-4fa9-8e30-24a53102a318",
   "metadata": {},
   "outputs": [],
   "source": [
    "import pandas as pd"
   ]
  },
  {
   "cell_type": "code",
   "execution_count": 6,
   "id": "b8d85ad4-e665-477b-85ab-2aee24715a94",
   "metadata": {},
   "outputs": [],
   "source": [
    "data = pd.read_csv('20_world_alcohol.csv')"
   ]
  },
  {
   "cell_type": "code",
   "execution_count": 7,
   "id": "69bfd152-4618-4083-9702-9311376a86a2",
   "metadata": {},
   "outputs": [
    {
     "data": {
      "text/html": [
       "<div>\n",
       "<style scoped>\n",
       "    .dataframe tbody tr th:only-of-type {\n",
       "        vertical-align: middle;\n",
       "    }\n",
       "\n",
       "    .dataframe tbody tr th {\n",
       "        vertical-align: top;\n",
       "    }\n",
       "\n",
       "    .dataframe thead th {\n",
       "        text-align: right;\n",
       "    }\n",
       "</style>\n",
       "<table border=\"1\" class=\"dataframe\">\n",
       "  <thead>\n",
       "    <tr style=\"text-align: right;\">\n",
       "      <th></th>\n",
       "      <th>Year</th>\n",
       "      <th>WHO region</th>\n",
       "      <th>Country</th>\n",
       "      <th>Beverage Types</th>\n",
       "      <th>Display Value</th>\n",
       "    </tr>\n",
       "  </thead>\n",
       "  <tbody>\n",
       "    <tr>\n",
       "      <th>0</th>\n",
       "      <td>1986</td>\n",
       "      <td>Western Pacific</td>\n",
       "      <td>Viet Nam</td>\n",
       "      <td>Wine</td>\n",
       "      <td>0.00</td>\n",
       "    </tr>\n",
       "    <tr>\n",
       "      <th>1</th>\n",
       "      <td>1986</td>\n",
       "      <td>Americas</td>\n",
       "      <td>Uruguay</td>\n",
       "      <td>Other</td>\n",
       "      <td>0.50</td>\n",
       "    </tr>\n",
       "    <tr>\n",
       "      <th>2</th>\n",
       "      <td>1985</td>\n",
       "      <td>Africa</td>\n",
       "      <td>Cte d'Ivoire</td>\n",
       "      <td>Wine</td>\n",
       "      <td>1.62</td>\n",
       "    </tr>\n",
       "    <tr>\n",
       "      <th>3</th>\n",
       "      <td>1986</td>\n",
       "      <td>Americas</td>\n",
       "      <td>Colombia</td>\n",
       "      <td>Beer</td>\n",
       "      <td>4.27</td>\n",
       "    </tr>\n",
       "    <tr>\n",
       "      <th>4</th>\n",
       "      <td>1987</td>\n",
       "      <td>Americas</td>\n",
       "      <td>Saint Kitts and Nevis</td>\n",
       "      <td>Beer</td>\n",
       "      <td>1.98</td>\n",
       "    </tr>\n",
       "    <tr>\n",
       "      <th>5</th>\n",
       "      <td>1987</td>\n",
       "      <td>Americas</td>\n",
       "      <td>Guatemala</td>\n",
       "      <td>Other</td>\n",
       "      <td>0.00</td>\n",
       "    </tr>\n",
       "    <tr>\n",
       "      <th>6</th>\n",
       "      <td>1987</td>\n",
       "      <td>Africa</td>\n",
       "      <td>Mauritius</td>\n",
       "      <td>Wine</td>\n",
       "      <td>0.13</td>\n",
       "    </tr>\n",
       "    <tr>\n",
       "      <th>7</th>\n",
       "      <td>1985</td>\n",
       "      <td>Africa</td>\n",
       "      <td>Angola</td>\n",
       "      <td>Spirits</td>\n",
       "      <td>0.39</td>\n",
       "    </tr>\n",
       "    <tr>\n",
       "      <th>8</th>\n",
       "      <td>1986</td>\n",
       "      <td>Americas</td>\n",
       "      <td>Antigua and Barbuda</td>\n",
       "      <td>Spirits</td>\n",
       "      <td>1.55</td>\n",
       "    </tr>\n",
       "    <tr>\n",
       "      <th>9</th>\n",
       "      <td>1984</td>\n",
       "      <td>Africa</td>\n",
       "      <td>Nigeria</td>\n",
       "      <td>Other</td>\n",
       "      <td>6.10</td>\n",
       "    </tr>\n",
       "  </tbody>\n",
       "</table>\n",
       "</div>"
      ],
      "text/plain": [
       "   Year       WHO region                Country Beverage Types  Display Value\n",
       "0  1986  Western Pacific               Viet Nam           Wine           0.00\n",
       "1  1986         Americas                Uruguay          Other           0.50\n",
       "2  1985           Africa           Cte d'Ivoire           Wine           1.62\n",
       "3  1986         Americas               Colombia           Beer           4.27\n",
       "4  1987         Americas  Saint Kitts and Nevis           Beer           1.98\n",
       "5  1987         Americas              Guatemala          Other           0.00\n",
       "6  1987           Africa              Mauritius           Wine           0.13\n",
       "7  1985           Africa                 Angola        Spirits           0.39\n",
       "8  1986         Americas    Antigua and Barbuda        Spirits           1.55\n",
       "9  1984           Africa                Nigeria          Other           6.10"
      ]
     },
     "execution_count": 7,
     "metadata": {},
     "output_type": "execute_result"
    }
   ],
   "source": [
    "data.head(10)"
   ]
  },
  {
   "cell_type": "code",
   "execution_count": 8,
   "id": "b25ffde2-0b4d-4204-9fd7-9c5464f84e24",
   "metadata": {},
   "outputs": [
    {
     "data": {
      "text/plain": [
       "(100, 5)"
      ]
     },
     "execution_count": 8,
     "metadata": {},
     "output_type": "execute_result"
    }
   ],
   "source": [
    "data.shape"
   ]
  },
  {
   "cell_type": "code",
   "execution_count": 9,
   "id": "e2bb9106-8758-4f3f-8cee-425eaa2b81be",
   "metadata": {},
   "outputs": [
    {
     "data": {
      "text/plain": [
       "Index(['Year', 'WHO region', 'Country', 'Beverage Types', 'Display Value'], dtype='object')"
      ]
     },
     "execution_count": 9,
     "metadata": {},
     "output_type": "execute_result"
    }
   ],
   "source": [
    "data.columns"
   ]
  },
  {
   "cell_type": "markdown",
   "id": "b7606021-0160-4db2-90cb-eca48f98f9de",
   "metadata": {},
   "source": [
    "Write a Pandas program to select first 2 rows, 2 columns and specific two columns from World alcohol consumption dataset."
   ]
  },
  {
   "cell_type": "code",
   "execution_count": 10,
   "id": "952386d7-c2cb-4b78-af5f-5010a0bb2176",
   "metadata": {},
   "outputs": [
    {
     "data": {
      "text/html": [
       "<div>\n",
       "<style scoped>\n",
       "    .dataframe tbody tr th:only-of-type {\n",
       "        vertical-align: middle;\n",
       "    }\n",
       "\n",
       "    .dataframe tbody tr th {\n",
       "        vertical-align: top;\n",
       "    }\n",
       "\n",
       "    .dataframe thead th {\n",
       "        text-align: right;\n",
       "    }\n",
       "</style>\n",
       "<table border=\"1\" class=\"dataframe\">\n",
       "  <thead>\n",
       "    <tr style=\"text-align: right;\">\n",
       "      <th></th>\n",
       "      <th>Year</th>\n",
       "      <th>WHO region</th>\n",
       "      <th>Country</th>\n",
       "      <th>Beverage Types</th>\n",
       "      <th>Display Value</th>\n",
       "    </tr>\n",
       "  </thead>\n",
       "  <tbody>\n",
       "    <tr>\n",
       "      <th>0</th>\n",
       "      <td>1986</td>\n",
       "      <td>Western Pacific</td>\n",
       "      <td>Viet Nam</td>\n",
       "      <td>Wine</td>\n",
       "      <td>0.0</td>\n",
       "    </tr>\n",
       "    <tr>\n",
       "      <th>1</th>\n",
       "      <td>1986</td>\n",
       "      <td>Americas</td>\n",
       "      <td>Uruguay</td>\n",
       "      <td>Other</td>\n",
       "      <td>0.5</td>\n",
       "    </tr>\n",
       "  </tbody>\n",
       "</table>\n",
       "</div>"
      ],
      "text/plain": [
       "   Year       WHO region   Country Beverage Types  Display Value\n",
       "0  1986  Western Pacific  Viet Nam           Wine            0.0\n",
       "1  1986         Americas   Uruguay          Other            0.5"
      ]
     },
     "execution_count": 10,
     "metadata": {},
     "output_type": "execute_result"
    }
   ],
   "source": [
    "data[:2]"
   ]
  },
  {
   "cell_type": "code",
   "execution_count": 13,
   "id": "41c66f52-65cd-4418-a444-c872b6cecc68",
   "metadata": {},
   "outputs": [
    {
     "data": {
      "text/html": [
       "<div>\n",
       "<style scoped>\n",
       "    .dataframe tbody tr th:only-of-type {\n",
       "        vertical-align: middle;\n",
       "    }\n",
       "\n",
       "    .dataframe tbody tr th {\n",
       "        vertical-align: top;\n",
       "    }\n",
       "\n",
       "    .dataframe thead th {\n",
       "        text-align: right;\n",
       "    }\n",
       "</style>\n",
       "<table border=\"1\" class=\"dataframe\">\n",
       "  <thead>\n",
       "    <tr style=\"text-align: right;\">\n",
       "      <th></th>\n",
       "      <th>Year</th>\n",
       "      <th>WHO region</th>\n",
       "      <th>Country</th>\n",
       "      <th>Beverage Types</th>\n",
       "      <th>Display Value</th>\n",
       "    </tr>\n",
       "  </thead>\n",
       "  <tbody>\n",
       "    <tr>\n",
       "      <th>0</th>\n",
       "      <td>1986</td>\n",
       "      <td>Western Pacific</td>\n",
       "      <td>Viet Nam</td>\n",
       "      <td>Wine</td>\n",
       "      <td>0.0</td>\n",
       "    </tr>\n",
       "    <tr>\n",
       "      <th>1</th>\n",
       "      <td>1986</td>\n",
       "      <td>Americas</td>\n",
       "      <td>Uruguay</td>\n",
       "      <td>Other</td>\n",
       "      <td>0.5</td>\n",
       "    </tr>\n",
       "  </tbody>\n",
       "</table>\n",
       "</div>"
      ],
      "text/plain": [
       "   Year       WHO region   Country Beverage Types  Display Value\n",
       "0  1986  Western Pacific  Viet Nam           Wine            0.0\n",
       "1  1986         Americas   Uruguay          Other            0.5"
      ]
     },
     "execution_count": 13,
     "metadata": {},
     "output_type": "execute_result"
    }
   ],
   "source": [
    "data.iloc[:2]"
   ]
  },
  {
   "cell_type": "code",
   "execution_count": 14,
   "id": "c562052b-c0fb-4de5-b6ed-0fcaca0735cf",
   "metadata": {},
   "outputs": [
    {
     "data": {
      "text/html": [
       "<div>\n",
       "<style scoped>\n",
       "    .dataframe tbody tr th:only-of-type {\n",
       "        vertical-align: middle;\n",
       "    }\n",
       "\n",
       "    .dataframe tbody tr th {\n",
       "        vertical-align: top;\n",
       "    }\n",
       "\n",
       "    .dataframe thead th {\n",
       "        text-align: right;\n",
       "    }\n",
       "</style>\n",
       "<table border=\"1\" class=\"dataframe\">\n",
       "  <thead>\n",
       "    <tr style=\"text-align: right;\">\n",
       "      <th></th>\n",
       "      <th>Year</th>\n",
       "      <th>WHO region</th>\n",
       "    </tr>\n",
       "  </thead>\n",
       "  <tbody>\n",
       "    <tr>\n",
       "      <th>0</th>\n",
       "      <td>1986</td>\n",
       "      <td>Western Pacific</td>\n",
       "    </tr>\n",
       "    <tr>\n",
       "      <th>1</th>\n",
       "      <td>1986</td>\n",
       "      <td>Americas</td>\n",
       "    </tr>\n",
       "    <tr>\n",
       "      <th>2</th>\n",
       "      <td>1985</td>\n",
       "      <td>Africa</td>\n",
       "    </tr>\n",
       "    <tr>\n",
       "      <th>3</th>\n",
       "      <td>1986</td>\n",
       "      <td>Americas</td>\n",
       "    </tr>\n",
       "    <tr>\n",
       "      <th>4</th>\n",
       "      <td>1987</td>\n",
       "      <td>Americas</td>\n",
       "    </tr>\n",
       "  </tbody>\n",
       "</table>\n",
       "</div>"
      ],
      "text/plain": [
       "   Year       WHO region\n",
       "0  1986  Western Pacific\n",
       "1  1986         Americas\n",
       "2  1985           Africa\n",
       "3  1986         Americas\n",
       "4  1987         Americas"
      ]
     },
     "execution_count": 14,
     "metadata": {},
     "output_type": "execute_result"
    }
   ],
   "source": [
    "data.iloc[:5, :2]"
   ]
  },
  {
   "cell_type": "code",
   "execution_count": 15,
   "id": "29e3913d-3972-4ef5-8e81-d1ea96452170",
   "metadata": {},
   "outputs": [
    {
     "data": {
      "text/html": [
       "<div>\n",
       "<style scoped>\n",
       "    .dataframe tbody tr th:only-of-type {\n",
       "        vertical-align: middle;\n",
       "    }\n",
       "\n",
       "    .dataframe tbody tr th {\n",
       "        vertical-align: top;\n",
       "    }\n",
       "\n",
       "    .dataframe thead th {\n",
       "        text-align: right;\n",
       "    }\n",
       "</style>\n",
       "<table border=\"1\" class=\"dataframe\">\n",
       "  <thead>\n",
       "    <tr style=\"text-align: right;\">\n",
       "      <th></th>\n",
       "      <th>Country</th>\n",
       "      <th>Display Value</th>\n",
       "    </tr>\n",
       "  </thead>\n",
       "  <tbody>\n",
       "    <tr>\n",
       "      <th>0</th>\n",
       "      <td>Viet Nam</td>\n",
       "      <td>0.00</td>\n",
       "    </tr>\n",
       "    <tr>\n",
       "      <th>1</th>\n",
       "      <td>Uruguay</td>\n",
       "      <td>0.50</td>\n",
       "    </tr>\n",
       "    <tr>\n",
       "      <th>2</th>\n",
       "      <td>Cte d'Ivoire</td>\n",
       "      <td>1.62</td>\n",
       "    </tr>\n",
       "    <tr>\n",
       "      <th>3</th>\n",
       "      <td>Colombia</td>\n",
       "      <td>4.27</td>\n",
       "    </tr>\n",
       "    <tr>\n",
       "      <th>4</th>\n",
       "      <td>Saint Kitts and Nevis</td>\n",
       "      <td>1.98</td>\n",
       "    </tr>\n",
       "  </tbody>\n",
       "</table>\n",
       "</div>"
      ],
      "text/plain": [
       "                 Country  Display Value\n",
       "0               Viet Nam           0.00\n",
       "1                Uruguay           0.50\n",
       "2           Cte d'Ivoire           1.62\n",
       "3               Colombia           4.27\n",
       "4  Saint Kitts and Nevis           1.98"
      ]
     },
     "execution_count": 15,
     "metadata": {},
     "output_type": "execute_result"
    }
   ],
   "source": [
    "data[['Country', 'Display Value']].head(5)"
   ]
  },
  {
   "cell_type": "markdown",
   "id": "4b33c660-ea6a-4a4f-b798-8a090f8d18d1",
   "metadata": {},
   "source": [
    "Write a Pandas program to filter all records starting from the 'Year' column, access every other column from world alcohol consumption dataset."
   ]
  },
  {
   "cell_type": "code",
   "execution_count": 18,
   "id": "e198a9d1-5948-463c-a8f2-19b525bd9f0b",
   "metadata": {},
   "outputs": [
    {
     "name": "stdout",
     "output_type": "stream",
     "text": [
      "World alcohol consumption sample data:\n",
      "   Year       WHO region                Country Beverage Types  Display Value\n",
      "0  1986  Western Pacific               Viet Nam           Wine           0.00\n",
      "1  1986         Americas                Uruguay          Other           0.50\n",
      "2  1985           Africa           Cte d'Ivoire           Wine           1.62\n",
      "3  1986         Americas               Colombia           Beer           4.27\n",
      "4  1987         Americas  Saint Kitts and Nevis           Beer           1.98\n",
      "\n",
      "From the 'Year' column, access every other column:\n",
      "   Year                Country  Display Value\n",
      "0  1986               Viet Nam           0.00\n",
      "1  1986                Uruguay           0.50\n",
      "2  1985           Cte d'Ivoire           1.62\n",
      "3  1986               Colombia           4.27\n",
      "4  1987  Saint Kitts and Nevis           1.98\n",
      "5  1987              Guatemala           0.00\n",
      "6  1987              Mauritius           0.13\n",
      "7  1985                 Angola           0.39\n",
      "8  1986    Antigua and Barbuda           1.55\n",
      "9  1984                Nigeria           6.10\n",
      "\n",
      "Alternate solution:\n",
      "   Year                Country  Display Value\n",
      "0  1986               Viet Nam           0.00\n",
      "1  1986                Uruguay           0.50\n",
      "2  1985           Cte d'Ivoire           1.62\n",
      "3  1986               Colombia           4.27\n",
      "4  1987  Saint Kitts and Nevis           1.98\n",
      "5  1987              Guatemala           0.00\n",
      "6  1987              Mauritius           0.13\n",
      "7  1985                 Angola           0.39\n",
      "8  1986    Antigua and Barbuda           1.55\n",
      "9  1984                Nigeria           6.10\n"
     ]
    }
   ],
   "source": [
    "import pandas as pd\n",
    "\n",
    "print(\"World alcohol consumption sample data:\")\n",
    "print(data.head())\n",
    "\n",
    "print(\"\\nFrom the 'Year' column, access every other column:\")\n",
    "print(data.loc[:,'Year'::2].head(10))\n",
    "\n",
    "print(\"\\nAlternate solution:\")\n",
    "print(data.iloc[:,0::2].head(10))\n"
   ]
  },
  {
   "cell_type": "code",
   "execution_count": 22,
   "id": "e3e39735-d82a-49a2-9f66-07d531a983c8",
   "metadata": {},
   "outputs": [
    {
     "data": {
      "text/html": [
       "<div>\n",
       "<style scoped>\n",
       "    .dataframe tbody tr th:only-of-type {\n",
       "        vertical-align: middle;\n",
       "    }\n",
       "\n",
       "    .dataframe tbody tr th {\n",
       "        vertical-align: top;\n",
       "    }\n",
       "\n",
       "    .dataframe thead th {\n",
       "        text-align: right;\n",
       "    }\n",
       "</style>\n",
       "<table border=\"1\" class=\"dataframe\">\n",
       "  <thead>\n",
       "    <tr style=\"text-align: right;\">\n",
       "      <th></th>\n",
       "      <th>Year</th>\n",
       "      <th>WHO region</th>\n",
       "      <th>Country</th>\n",
       "      <th>Beverage Types</th>\n",
       "      <th>Display Value</th>\n",
       "    </tr>\n",
       "  </thead>\n",
       "  <tbody>\n",
       "    <tr>\n",
       "      <th>4</th>\n",
       "      <td>1987</td>\n",
       "      <td>Americas</td>\n",
       "      <td>Saint Kitts and Nevis</td>\n",
       "      <td>Beer</td>\n",
       "      <td>1.98</td>\n",
       "    </tr>\n",
       "    <tr>\n",
       "      <th>5</th>\n",
       "      <td>1987</td>\n",
       "      <td>Americas</td>\n",
       "      <td>Guatemala</td>\n",
       "      <td>Other</td>\n",
       "      <td>0.00</td>\n",
       "    </tr>\n",
       "    <tr>\n",
       "      <th>6</th>\n",
       "      <td>1987</td>\n",
       "      <td>Africa</td>\n",
       "      <td>Mauritius</td>\n",
       "      <td>Wine</td>\n",
       "      <td>0.13</td>\n",
       "    </tr>\n",
       "    <tr>\n",
       "      <th>10</th>\n",
       "      <td>1987</td>\n",
       "      <td>Africa</td>\n",
       "      <td>Botswana</td>\n",
       "      <td>Wine</td>\n",
       "      <td>0.20</td>\n",
       "    </tr>\n",
       "    <tr>\n",
       "      <th>11</th>\n",
       "      <td>1989</td>\n",
       "      <td>Americas</td>\n",
       "      <td>Guatemala</td>\n",
       "      <td>Beer</td>\n",
       "      <td>0.62</td>\n",
       "    </tr>\n",
       "    <tr>\n",
       "      <th>15</th>\n",
       "      <td>1987</td>\n",
       "      <td>Africa</td>\n",
       "      <td>Guinea-Bissau</td>\n",
       "      <td>Wine</td>\n",
       "      <td>0.07</td>\n",
       "    </tr>\n",
       "    <tr>\n",
       "      <th>17</th>\n",
       "      <td>1989</td>\n",
       "      <td>Africa</td>\n",
       "      <td>Seychelles</td>\n",
       "      <td>Beer</td>\n",
       "      <td>2.23</td>\n",
       "    </tr>\n",
       "    <tr>\n",
       "      <th>21</th>\n",
       "      <td>1989</td>\n",
       "      <td>Americas</td>\n",
       "      <td>Costa Rica</td>\n",
       "      <td>Spirits</td>\n",
       "      <td>4.51</td>\n",
       "    </tr>\n",
       "    <tr>\n",
       "      <th>28</th>\n",
       "      <td>1987</td>\n",
       "      <td>Western Pacific</td>\n",
       "      <td>Viet Nam</td>\n",
       "      <td>Beer</td>\n",
       "      <td>0.11</td>\n",
       "    </tr>\n",
       "    <tr>\n",
       "      <th>32</th>\n",
       "      <td>1989</td>\n",
       "      <td>Africa</td>\n",
       "      <td>Mauritius</td>\n",
       "      <td>Beer</td>\n",
       "      <td>1.60</td>\n",
       "    </tr>\n",
       "  </tbody>\n",
       "</table>\n",
       "</div>"
      ],
      "text/plain": [
       "    Year       WHO region                Country Beverage Types  Display Value\n",
       "4   1987         Americas  Saint Kitts and Nevis           Beer           1.98\n",
       "5   1987         Americas              Guatemala          Other           0.00\n",
       "6   1987           Africa              Mauritius           Wine           0.13\n",
       "10  1987           Africa               Botswana           Wine           0.20\n",
       "11  1989         Americas              Guatemala           Beer           0.62\n",
       "15  1987           Africa          Guinea-Bissau           Wine           0.07\n",
       "17  1989           Africa             Seychelles           Beer           2.23\n",
       "21  1989         Americas             Costa Rica        Spirits           4.51\n",
       "28  1987  Western Pacific               Viet Nam           Beer           0.11\n",
       "32  1989           Africa              Mauritius           Beer           1.60"
      ]
     },
     "execution_count": 22,
     "metadata": {},
     "output_type": "execute_result"
    }
   ],
   "source": [
    "data.query('Year > 1986').head(10)"
   ]
  },
  {
   "cell_type": "code",
   "execution_count": 25,
   "id": "1abc9cda-8958-4570-9660-6eb6410fd775",
   "metadata": {},
   "outputs": [
    {
     "data": {
      "text/html": [
       "<div>\n",
       "<style scoped>\n",
       "    .dataframe tbody tr th:only-of-type {\n",
       "        vertical-align: middle;\n",
       "    }\n",
       "\n",
       "    .dataframe tbody tr th {\n",
       "        vertical-align: top;\n",
       "    }\n",
       "\n",
       "    .dataframe thead th {\n",
       "        text-align: right;\n",
       "    }\n",
       "</style>\n",
       "<table border=\"1\" class=\"dataframe\">\n",
       "  <thead>\n",
       "    <tr style=\"text-align: right;\">\n",
       "      <th></th>\n",
       "      <th>Year</th>\n",
       "      <th>WHO region</th>\n",
       "      <th>Country</th>\n",
       "      <th>Beverage Types</th>\n",
       "      <th>Display Value</th>\n",
       "    </tr>\n",
       "  </thead>\n",
       "  <tbody>\n",
       "    <tr>\n",
       "      <th>4</th>\n",
       "      <td>1987</td>\n",
       "      <td>Americas</td>\n",
       "      <td>Saint Kitts and Nevis</td>\n",
       "      <td>Beer</td>\n",
       "      <td>1.98</td>\n",
       "    </tr>\n",
       "    <tr>\n",
       "      <th>5</th>\n",
       "      <td>1987</td>\n",
       "      <td>Americas</td>\n",
       "      <td>Guatemala</td>\n",
       "      <td>Other</td>\n",
       "      <td>0.00</td>\n",
       "    </tr>\n",
       "    <tr>\n",
       "      <th>6</th>\n",
       "      <td>1987</td>\n",
       "      <td>Africa</td>\n",
       "      <td>Mauritius</td>\n",
       "      <td>Wine</td>\n",
       "      <td>0.13</td>\n",
       "    </tr>\n",
       "    <tr>\n",
       "      <th>10</th>\n",
       "      <td>1987</td>\n",
       "      <td>Africa</td>\n",
       "      <td>Botswana</td>\n",
       "      <td>Wine</td>\n",
       "      <td>0.20</td>\n",
       "    </tr>\n",
       "    <tr>\n",
       "      <th>11</th>\n",
       "      <td>1989</td>\n",
       "      <td>Americas</td>\n",
       "      <td>Guatemala</td>\n",
       "      <td>Beer</td>\n",
       "      <td>0.62</td>\n",
       "    </tr>\n",
       "  </tbody>\n",
       "</table>\n",
       "</div>"
      ],
      "text/plain": [
       "    Year WHO region                Country Beverage Types  Display Value\n",
       "4   1987   Americas  Saint Kitts and Nevis           Beer           1.98\n",
       "5   1987   Americas              Guatemala          Other           0.00\n",
       "6   1987     Africa              Mauritius           Wine           0.13\n",
       "10  1987     Africa               Botswana           Wine           0.20\n",
       "11  1989   Americas              Guatemala           Beer           0.62"
      ]
     },
     "execution_count": 25,
     "metadata": {},
     "output_type": "execute_result"
    }
   ],
   "source": [
    "data[data['Year'] > 1986].head(5)"
   ]
  },
  {
   "cell_type": "markdown",
   "id": "ac976185-fd90-4d6b-b77f-f7e9263e3726",
   "metadata": {},
   "source": [
    "Write a Pandas program to filter all records starting from the 2nd row, access every 5th row from world alcohol consumption dataset."
   ]
  },
  {
   "cell_type": "code",
   "execution_count": 26,
   "id": "9215bc83-a269-44d5-ac10-905d02cf0f78",
   "metadata": {},
   "outputs": [
    {
     "data": {
      "text/html": [
       "<div>\n",
       "<style scoped>\n",
       "    .dataframe tbody tr th:only-of-type {\n",
       "        vertical-align: middle;\n",
       "    }\n",
       "\n",
       "    .dataframe tbody tr th {\n",
       "        vertical-align: top;\n",
       "    }\n",
       "\n",
       "    .dataframe thead th {\n",
       "        text-align: right;\n",
       "    }\n",
       "</style>\n",
       "<table border=\"1\" class=\"dataframe\">\n",
       "  <thead>\n",
       "    <tr style=\"text-align: right;\">\n",
       "      <th></th>\n",
       "      <th>Year</th>\n",
       "      <th>WHO region</th>\n",
       "      <th>Country</th>\n",
       "      <th>Beverage Types</th>\n",
       "      <th>Display Value</th>\n",
       "    </tr>\n",
       "  </thead>\n",
       "  <tbody>\n",
       "    <tr>\n",
       "      <th>2</th>\n",
       "      <td>1985</td>\n",
       "      <td>Africa</td>\n",
       "      <td>Cte d'Ivoire</td>\n",
       "      <td>Wine</td>\n",
       "      <td>1.62</td>\n",
       "    </tr>\n",
       "    <tr>\n",
       "      <th>7</th>\n",
       "      <td>1985</td>\n",
       "      <td>Africa</td>\n",
       "      <td>Angola</td>\n",
       "      <td>Spirits</td>\n",
       "      <td>0.39</td>\n",
       "    </tr>\n",
       "    <tr>\n",
       "      <th>12</th>\n",
       "      <td>1985</td>\n",
       "      <td>Western Pacific</td>\n",
       "      <td>Lao People's Democratic Republic</td>\n",
       "      <td>Beer</td>\n",
       "      <td>0.00</td>\n",
       "    </tr>\n",
       "    <tr>\n",
       "      <th>17</th>\n",
       "      <td>1989</td>\n",
       "      <td>Africa</td>\n",
       "      <td>Seychelles</td>\n",
       "      <td>Beer</td>\n",
       "      <td>2.23</td>\n",
       "    </tr>\n",
       "    <tr>\n",
       "      <th>22</th>\n",
       "      <td>1984</td>\n",
       "      <td>Europe</td>\n",
       "      <td>Romania</td>\n",
       "      <td>Spirits</td>\n",
       "      <td>2.67</td>\n",
       "    </tr>\n",
       "    <tr>\n",
       "      <th>27</th>\n",
       "      <td>1984</td>\n",
       "      <td>Eastern Mediterranean</td>\n",
       "      <td>Bahrain</td>\n",
       "      <td>Beer</td>\n",
       "      <td>2.22</td>\n",
       "    </tr>\n",
       "    <tr>\n",
       "      <th>32</th>\n",
       "      <td>1989</td>\n",
       "      <td>Africa</td>\n",
       "      <td>Mauritius</td>\n",
       "      <td>Beer</td>\n",
       "      <td>1.60</td>\n",
       "    </tr>\n",
       "    <tr>\n",
       "      <th>37</th>\n",
       "      <td>1986</td>\n",
       "      <td>Europe</td>\n",
       "      <td>Sweden</td>\n",
       "      <td>Beer</td>\n",
       "      <td>3.04</td>\n",
       "    </tr>\n",
       "    <tr>\n",
       "      <th>42</th>\n",
       "      <td>1984</td>\n",
       "      <td>Europe</td>\n",
       "      <td>Ukraine</td>\n",
       "      <td>Spirits</td>\n",
       "      <td>3.06</td>\n",
       "    </tr>\n",
       "    <tr>\n",
       "      <th>47</th>\n",
       "      <td>1986</td>\n",
       "      <td>Americas</td>\n",
       "      <td>Mexico</td>\n",
       "      <td>Other</td>\n",
       "      <td>0.04</td>\n",
       "    </tr>\n",
       "    <tr>\n",
       "      <th>52</th>\n",
       "      <td>1986</td>\n",
       "      <td>Eastern Mediterranean</td>\n",
       "      <td>Saudi Arabia</td>\n",
       "      <td>Wine</td>\n",
       "      <td>0.00</td>\n",
       "    </tr>\n",
       "    <tr>\n",
       "      <th>57</th>\n",
       "      <td>1989</td>\n",
       "      <td>Europe</td>\n",
       "      <td>Croatia</td>\n",
       "      <td>Wine</td>\n",
       "      <td>5.10</td>\n",
       "    </tr>\n",
       "    <tr>\n",
       "      <th>62</th>\n",
       "      <td>1987</td>\n",
       "      <td>Americas</td>\n",
       "      <td>Suriname</td>\n",
       "      <td>Other</td>\n",
       "      <td>0.00</td>\n",
       "    </tr>\n",
       "    <tr>\n",
       "      <th>67</th>\n",
       "      <td>1989</td>\n",
       "      <td>Africa</td>\n",
       "      <td>Namibia</td>\n",
       "      <td>Beer</td>\n",
       "      <td>0.00</td>\n",
       "    </tr>\n",
       "    <tr>\n",
       "      <th>72</th>\n",
       "      <td>1987</td>\n",
       "      <td>Africa</td>\n",
       "      <td>Mauritania</td>\n",
       "      <td>Other</td>\n",
       "      <td>0.00</td>\n",
       "    </tr>\n",
       "    <tr>\n",
       "      <th>77</th>\n",
       "      <td>1985</td>\n",
       "      <td>Africa</td>\n",
       "      <td>Cameroon</td>\n",
       "      <td>Spirits</td>\n",
       "      <td>0.01</td>\n",
       "    </tr>\n",
       "    <tr>\n",
       "      <th>82</th>\n",
       "      <td>1987</td>\n",
       "      <td>Europe</td>\n",
       "      <td>Ireland</td>\n",
       "      <td>Spirits</td>\n",
       "      <td>2.25</td>\n",
       "    </tr>\n",
       "    <tr>\n",
       "      <th>87</th>\n",
       "      <td>1989</td>\n",
       "      <td>Eastern Mediterranean</td>\n",
       "      <td>Iraq</td>\n",
       "      <td>Wine</td>\n",
       "      <td>0.01</td>\n",
       "    </tr>\n",
       "    <tr>\n",
       "      <th>92</th>\n",
       "      <td>1986</td>\n",
       "      <td>Africa</td>\n",
       "      <td>Eritrea</td>\n",
       "      <td>Spirits</td>\n",
       "      <td>0.00</td>\n",
       "    </tr>\n",
       "    <tr>\n",
       "      <th>97</th>\n",
       "      <td>1984</td>\n",
       "      <td>South-East Asia</td>\n",
       "      <td>Indonesia</td>\n",
       "      <td>Wine</td>\n",
       "      <td>0.00</td>\n",
       "    </tr>\n",
       "  </tbody>\n",
       "</table>\n",
       "</div>"
      ],
      "text/plain": [
       "    Year             WHO region                           Country  \\\n",
       "2   1985                 Africa                      Cte d'Ivoire   \n",
       "7   1985                 Africa                            Angola   \n",
       "12  1985        Western Pacific  Lao People's Democratic Republic   \n",
       "17  1989                 Africa                        Seychelles   \n",
       "22  1984                 Europe                           Romania   \n",
       "27  1984  Eastern Mediterranean                           Bahrain   \n",
       "32  1989                 Africa                         Mauritius   \n",
       "37  1986                 Europe                            Sweden   \n",
       "42  1984                 Europe                           Ukraine   \n",
       "47  1986               Americas                            Mexico   \n",
       "52  1986  Eastern Mediterranean                      Saudi Arabia   \n",
       "57  1989                 Europe                           Croatia   \n",
       "62  1987               Americas                          Suriname   \n",
       "67  1989                 Africa                           Namibia   \n",
       "72  1987                 Africa                        Mauritania   \n",
       "77  1985                 Africa                          Cameroon   \n",
       "82  1987                 Europe                           Ireland   \n",
       "87  1989  Eastern Mediterranean                              Iraq   \n",
       "92  1986                 Africa                           Eritrea   \n",
       "97  1984        South-East Asia                         Indonesia   \n",
       "\n",
       "   Beverage Types  Display Value  \n",
       "2            Wine           1.62  \n",
       "7         Spirits           0.39  \n",
       "12           Beer           0.00  \n",
       "17           Beer           2.23  \n",
       "22        Spirits           2.67  \n",
       "27           Beer           2.22  \n",
       "32           Beer           1.60  \n",
       "37           Beer           3.04  \n",
       "42        Spirits           3.06  \n",
       "47          Other           0.04  \n",
       "52           Wine           0.00  \n",
       "57           Wine           5.10  \n",
       "62          Other           0.00  \n",
       "67           Beer           0.00  \n",
       "72          Other           0.00  \n",
       "77        Spirits           0.01  \n",
       "82        Spirits           2.25  \n",
       "87           Wine           0.01  \n",
       "92        Spirits           0.00  \n",
       "97           Wine           0.00  "
      ]
     },
     "execution_count": 26,
     "metadata": {},
     "output_type": "execute_result"
    }
   ],
   "source": [
    "data[2::5]"
   ]
  },
  {
   "cell_type": "markdown",
   "id": "b65167c5-de95-412f-b9c4-18f60baa07db",
   "metadata": {
    "jp-MarkdownHeadingCollapsed": true
   },
   "source": [
    "# Pandas Pandas Handling Missing Values"
   ]
  },
  {
   "cell_type": "markdown",
   "id": "cf95f6bc-10ea-4a91-bcd1-52c34292bafa",
   "metadata": {},
   "source": [
    "Write a Pandas program to detect missing values of a given DataFrame. Display True or False."
   ]
  },
  {
   "cell_type": "code",
   "execution_count": 27,
   "id": "116b3433-f8e9-4004-b8fa-d133a5687330",
   "metadata": {},
   "outputs": [],
   "source": [
    "import pandas as pd\n",
    "import numpy as np"
   ]
  },
  {
   "cell_type": "code",
   "execution_count": 28,
   "id": "1fedb3b8-2a3a-437d-b667-1d2a9cbb824d",
   "metadata": {},
   "outputs": [
    {
     "name": "stdout",
     "output_type": "stream",
     "text": [
      "     ord_no  purch_amt    ord_date  customer_id  salesman_id\n",
      "0   70001.0     150.50  2012-10-05         3002       5002.0\n",
      "1       NaN     270.65  2012-09-10         3001       5003.0\n",
      "2   70002.0      65.26         NaN         3001       5001.0\n",
      "3   70004.0     110.50  2012-08-17         3003          NaN\n",
      "4       NaN     948.50  2012-09-10         3002       5002.0\n",
      "5   70005.0    2400.60  2012-07-27         3001       5001.0\n",
      "6       NaN    5760.00  2012-09-10         3001       5001.0\n",
      "7   70010.0    1983.43  2012-10-10         3004          NaN\n",
      "8   70003.0    2480.40  2012-10-10         3003       5003.0\n",
      "9   70012.0     250.45  2012-06-27         3002       5002.0\n",
      "10      NaN      75.29  2012-08-17         3001       5003.0\n",
      "11  70013.0    3045.60  2012-04-25         3001          NaN\n"
     ]
    }
   ],
   "source": [
    "df = pd.DataFrame({\n",
    "'ord_no':[70001,np.nan,70002,70004,np.nan,70005,np.nan,70010,70003,70012,np.nan,70013],\n",
    "'purch_amt':[150.5,270.65,65.26,110.5,948.5,2400.6,5760,1983.43,2480.4,250.45, 75.29,3045.6],\n",
    "'ord_date': ['2012-10-05','2012-09-10',np.nan,'2012-08-17','2012-09-10','2012-07-27','2012-09-10','2012-10-10','2012-10-10','2012-06-27','2012-08-17','2012-04-25'],\n",
    "'customer_id':[3002,3001,3001,3003,3002,3001,3001,3004,3003,3002,3001,3001],\n",
    "'salesman_id':[5002,5003,5001,np.nan,5002,5001,5001,np.nan,5003,5002,5003,np.nan]})\n",
    "\n",
    "print(df)"
   ]
  },
  {
   "cell_type": "code",
   "execution_count": 29,
   "id": "11838eed-ed58-4baa-b259-c5ef49cb82f1",
   "metadata": {},
   "outputs": [
    {
     "data": {
      "text/html": [
       "<div>\n",
       "<style scoped>\n",
       "    .dataframe tbody tr th:only-of-type {\n",
       "        vertical-align: middle;\n",
       "    }\n",
       "\n",
       "    .dataframe tbody tr th {\n",
       "        vertical-align: top;\n",
       "    }\n",
       "\n",
       "    .dataframe thead th {\n",
       "        text-align: right;\n",
       "    }\n",
       "</style>\n",
       "<table border=\"1\" class=\"dataframe\">\n",
       "  <thead>\n",
       "    <tr style=\"text-align: right;\">\n",
       "      <th></th>\n",
       "      <th>ord_no</th>\n",
       "      <th>purch_amt</th>\n",
       "      <th>ord_date</th>\n",
       "      <th>customer_id</th>\n",
       "      <th>salesman_id</th>\n",
       "    </tr>\n",
       "  </thead>\n",
       "  <tbody>\n",
       "    <tr>\n",
       "      <th>0</th>\n",
       "      <td>False</td>\n",
       "      <td>False</td>\n",
       "      <td>False</td>\n",
       "      <td>False</td>\n",
       "      <td>False</td>\n",
       "    </tr>\n",
       "    <tr>\n",
       "      <th>1</th>\n",
       "      <td>True</td>\n",
       "      <td>False</td>\n",
       "      <td>False</td>\n",
       "      <td>False</td>\n",
       "      <td>False</td>\n",
       "    </tr>\n",
       "    <tr>\n",
       "      <th>2</th>\n",
       "      <td>False</td>\n",
       "      <td>False</td>\n",
       "      <td>True</td>\n",
       "      <td>False</td>\n",
       "      <td>False</td>\n",
       "    </tr>\n",
       "    <tr>\n",
       "      <th>3</th>\n",
       "      <td>False</td>\n",
       "      <td>False</td>\n",
       "      <td>False</td>\n",
       "      <td>False</td>\n",
       "      <td>True</td>\n",
       "    </tr>\n",
       "    <tr>\n",
       "      <th>4</th>\n",
       "      <td>True</td>\n",
       "      <td>False</td>\n",
       "      <td>False</td>\n",
       "      <td>False</td>\n",
       "      <td>False</td>\n",
       "    </tr>\n",
       "    <tr>\n",
       "      <th>5</th>\n",
       "      <td>False</td>\n",
       "      <td>False</td>\n",
       "      <td>False</td>\n",
       "      <td>False</td>\n",
       "      <td>False</td>\n",
       "    </tr>\n",
       "    <tr>\n",
       "      <th>6</th>\n",
       "      <td>True</td>\n",
       "      <td>False</td>\n",
       "      <td>False</td>\n",
       "      <td>False</td>\n",
       "      <td>False</td>\n",
       "    </tr>\n",
       "    <tr>\n",
       "      <th>7</th>\n",
       "      <td>False</td>\n",
       "      <td>False</td>\n",
       "      <td>False</td>\n",
       "      <td>False</td>\n",
       "      <td>True</td>\n",
       "    </tr>\n",
       "    <tr>\n",
       "      <th>8</th>\n",
       "      <td>False</td>\n",
       "      <td>False</td>\n",
       "      <td>False</td>\n",
       "      <td>False</td>\n",
       "      <td>False</td>\n",
       "    </tr>\n",
       "    <tr>\n",
       "      <th>9</th>\n",
       "      <td>False</td>\n",
       "      <td>False</td>\n",
       "      <td>False</td>\n",
       "      <td>False</td>\n",
       "      <td>False</td>\n",
       "    </tr>\n",
       "    <tr>\n",
       "      <th>10</th>\n",
       "      <td>True</td>\n",
       "      <td>False</td>\n",
       "      <td>False</td>\n",
       "      <td>False</td>\n",
       "      <td>False</td>\n",
       "    </tr>\n",
       "    <tr>\n",
       "      <th>11</th>\n",
       "      <td>False</td>\n",
       "      <td>False</td>\n",
       "      <td>False</td>\n",
       "      <td>False</td>\n",
       "      <td>True</td>\n",
       "    </tr>\n",
       "  </tbody>\n",
       "</table>\n",
       "</div>"
      ],
      "text/plain": [
       "    ord_no  purch_amt  ord_date  customer_id  salesman_id\n",
       "0    False      False     False        False        False\n",
       "1     True      False     False        False        False\n",
       "2    False      False      True        False        False\n",
       "3    False      False     False        False         True\n",
       "4     True      False     False        False        False\n",
       "5    False      False     False        False        False\n",
       "6     True      False     False        False        False\n",
       "7    False      False     False        False         True\n",
       "8    False      False     False        False        False\n",
       "9    False      False     False        False        False\n",
       "10    True      False     False        False        False\n",
       "11   False      False     False        False         True"
      ]
     },
     "execution_count": 29,
     "metadata": {},
     "output_type": "execute_result"
    }
   ],
   "source": [
    "df.isna()"
   ]
  },
  {
   "cell_type": "markdown",
   "id": "7a775a1f-c198-407e-8758-040378656c11",
   "metadata": {},
   "source": [
    "Write a Pandas program to identify the column(s) of a given DataFrame which have at least one missing value."
   ]
  },
  {
   "cell_type": "code",
   "execution_count": 30,
   "id": "020f91e1-6b6c-4563-ac2e-ca381f518404",
   "metadata": {},
   "outputs": [
    {
     "data": {
      "text/plain": [
       "ord_no          True\n",
       "purch_amt      False\n",
       "ord_date        True\n",
       "customer_id    False\n",
       "salesman_id     True\n",
       "dtype: bool"
      ]
     },
     "execution_count": 30,
     "metadata": {},
     "output_type": "execute_result"
    }
   ],
   "source": [
    "df.isna().any()"
   ]
  },
  {
   "cell_type": "markdown",
   "id": "3302f53a-357b-45f2-9c47-1d0a2ad40d49",
   "metadata": {},
   "source": [
    "Write a Pandas program to count the number of missing values in each column of a given DataFrame.\n"
   ]
  },
  {
   "cell_type": "code",
   "execution_count": 32,
   "id": "abbf07c4-4632-4ff1-bf0c-611232043300",
   "metadata": {},
   "outputs": [
    {
     "data": {
      "text/plain": [
       "ord_no         4\n",
       "purch_amt      0\n",
       "ord_date       1\n",
       "customer_id    0\n",
       "salesman_id    3\n",
       "dtype: int64"
      ]
     },
     "execution_count": 32,
     "metadata": {},
     "output_type": "execute_result"
    }
   ],
   "source": [
    "df.isnull().sum()"
   ]
  },
  {
   "cell_type": "markdown",
   "id": "1c68e557-2292-49ff-ae16-64d1fc8d80fc",
   "metadata": {},
   "source": [
    "Write a Pandas program to replace the missing values with the most frequent values present in each column of a given DataFrame."
   ]
  },
  {
   "cell_type": "code",
   "execution_count": 35,
   "id": "fec6aefe-88ff-4e60-a06c-d82a021c2577",
   "metadata": {},
   "outputs": [
    {
     "data": {
      "text/html": [
       "<div>\n",
       "<style scoped>\n",
       "    .dataframe tbody tr th:only-of-type {\n",
       "        vertical-align: middle;\n",
       "    }\n",
       "\n",
       "    .dataframe tbody tr th {\n",
       "        vertical-align: top;\n",
       "    }\n",
       "\n",
       "    .dataframe thead th {\n",
       "        text-align: right;\n",
       "    }\n",
       "</style>\n",
       "<table border=\"1\" class=\"dataframe\">\n",
       "  <thead>\n",
       "    <tr style=\"text-align: right;\">\n",
       "      <th></th>\n",
       "      <th>ord_no</th>\n",
       "      <th>purch_amt</th>\n",
       "      <th>ord_date</th>\n",
       "      <th>customer_id</th>\n",
       "      <th>salesman_id</th>\n",
       "    </tr>\n",
       "  </thead>\n",
       "  <tbody>\n",
       "    <tr>\n",
       "      <th>0</th>\n",
       "      <td>70001.0</td>\n",
       "      <td>150.50</td>\n",
       "      <td>2012-10-05</td>\n",
       "      <td>3002</td>\n",
       "      <td>5002.0</td>\n",
       "    </tr>\n",
       "    <tr>\n",
       "      <th>1</th>\n",
       "      <td>70001.0</td>\n",
       "      <td>270.65</td>\n",
       "      <td>2012-09-10</td>\n",
       "      <td>3001</td>\n",
       "      <td>5003.0</td>\n",
       "    </tr>\n",
       "    <tr>\n",
       "      <th>2</th>\n",
       "      <td>70002.0</td>\n",
       "      <td>65.26</td>\n",
       "      <td>2012-09-10</td>\n",
       "      <td>3001</td>\n",
       "      <td>5001.0</td>\n",
       "    </tr>\n",
       "    <tr>\n",
       "      <th>3</th>\n",
       "      <td>70004.0</td>\n",
       "      <td>110.50</td>\n",
       "      <td>2012-08-17</td>\n",
       "      <td>3003</td>\n",
       "      <td>5001.0</td>\n",
       "    </tr>\n",
       "    <tr>\n",
       "      <th>4</th>\n",
       "      <td>70001.0</td>\n",
       "      <td>948.50</td>\n",
       "      <td>2012-09-10</td>\n",
       "      <td>3002</td>\n",
       "      <td>5002.0</td>\n",
       "    </tr>\n",
       "    <tr>\n",
       "      <th>5</th>\n",
       "      <td>70005.0</td>\n",
       "      <td>2400.60</td>\n",
       "      <td>2012-07-27</td>\n",
       "      <td>3001</td>\n",
       "      <td>5001.0</td>\n",
       "    </tr>\n",
       "    <tr>\n",
       "      <th>6</th>\n",
       "      <td>70001.0</td>\n",
       "      <td>5760.00</td>\n",
       "      <td>2012-09-10</td>\n",
       "      <td>3001</td>\n",
       "      <td>5001.0</td>\n",
       "    </tr>\n",
       "    <tr>\n",
       "      <th>7</th>\n",
       "      <td>70010.0</td>\n",
       "      <td>1983.43</td>\n",
       "      <td>2012-10-10</td>\n",
       "      <td>3004</td>\n",
       "      <td>5001.0</td>\n",
       "    </tr>\n",
       "    <tr>\n",
       "      <th>8</th>\n",
       "      <td>70003.0</td>\n",
       "      <td>2480.40</td>\n",
       "      <td>2012-10-10</td>\n",
       "      <td>3003</td>\n",
       "      <td>5003.0</td>\n",
       "    </tr>\n",
       "    <tr>\n",
       "      <th>9</th>\n",
       "      <td>70012.0</td>\n",
       "      <td>250.45</td>\n",
       "      <td>2012-06-27</td>\n",
       "      <td>3002</td>\n",
       "      <td>5002.0</td>\n",
       "    </tr>\n",
       "    <tr>\n",
       "      <th>10</th>\n",
       "      <td>70001.0</td>\n",
       "      <td>75.29</td>\n",
       "      <td>2012-08-17</td>\n",
       "      <td>3001</td>\n",
       "      <td>5003.0</td>\n",
       "    </tr>\n",
       "    <tr>\n",
       "      <th>11</th>\n",
       "      <td>70013.0</td>\n",
       "      <td>3045.60</td>\n",
       "      <td>2012-04-25</td>\n",
       "      <td>3001</td>\n",
       "      <td>5001.0</td>\n",
       "    </tr>\n",
       "  </tbody>\n",
       "</table>\n",
       "</div>"
      ],
      "text/plain": [
       "     ord_no  purch_amt    ord_date  customer_id  salesman_id\n",
       "0   70001.0     150.50  2012-10-05         3002       5002.0\n",
       "1   70001.0     270.65  2012-09-10         3001       5003.0\n",
       "2   70002.0      65.26  2012-09-10         3001       5001.0\n",
       "3   70004.0     110.50  2012-08-17         3003       5001.0\n",
       "4   70001.0     948.50  2012-09-10         3002       5002.0\n",
       "5   70005.0    2400.60  2012-07-27         3001       5001.0\n",
       "6   70001.0    5760.00  2012-09-10         3001       5001.0\n",
       "7   70010.0    1983.43  2012-10-10         3004       5001.0\n",
       "8   70003.0    2480.40  2012-10-10         3003       5003.0\n",
       "9   70012.0     250.45  2012-06-27         3002       5002.0\n",
       "10  70001.0      75.29  2012-08-17         3001       5003.0\n",
       "11  70013.0    3045.60  2012-04-25         3001       5001.0"
      ]
     },
     "execution_count": 35,
     "metadata": {},
     "output_type": "execute_result"
    }
   ],
   "source": [
    "df.fillna(df.mode().iloc[0])"
   ]
  },
  {
   "cell_type": "markdown",
   "id": "678d40d9-d19e-41fe-8e91-bb73f717edc2",
   "metadata": {},
   "source": [
    "Write a Pandas program to create a hitmap for more information about the distribution of missing values in a given DataFrame.\n"
   ]
  },
  {
   "cell_type": "code",
   "execution_count": 36,
   "id": "eb915e95-a051-4081-a604-737fe62f06c5",
   "metadata": {},
   "outputs": [],
   "source": [
    "import seaborn as sns\n",
    "import matplotlib.pyplot as plt"
   ]
  },
  {
   "cell_type": "code",
   "execution_count": 37,
   "id": "bc47a56b-6f2f-47ea-801d-3b1fe9f20d93",
   "metadata": {},
   "outputs": [
    {
     "data": {
      "image/png": "[encoded data removed]",
      "text/plain": [
       "<Figure size 1600x1000 with 1 Axes>"
      ]
     },
     "metadata": {},
     "output_type": "display_data"
    }
   ],
   "source": [
    "plt.figure(figsize=(16,10))\n",
    "sns.heatmap(df.isnull(), cbar=False, cmap=\"YlGnBu\")\n",
    "plt.show()"
   ]
  },
  {
   "cell_type": "markdown",
   "id": "aaa274c1-4986-450e-8d80-186fc5fe4718",
   "metadata": {
    "jp-MarkdownHeadingCollapsed": true
   },
   "source": [
    "# Pandas Style"
   ]
  },
  {
   "cell_type": "markdown",
   "id": "f4057ad4-cbbf-4f61-817a-100b0c22ae08",
   "metadata": {},
   "source": [
    "Create a dataframe of ten rows, four columns with random values. Write a Pandas program to highlight the negative numbers red and positive numbers black."
   ]
  },
  {
   "cell_type": "code",
   "execution_count": 38,
   "id": "08caff3b-fc09-4453-9e22-eeea9493acd5",
   "metadata": {},
   "outputs": [],
   "source": [
    "np.random.seed(24)\n",
    "df = pd.DataFrame({'A': np.linspace(1, 10, 10)})\n",
    "df = pd.concat([df, pd.DataFrame(np.random.randn(10, 4), columns=list('BCDE'))],\n",
    "               axis=1)"
   ]
  },
  {
   "cell_type": "code",
   "execution_count": 39,
   "id": "0ac312a0-58ab-4cac-8401-d7fcbb0a4f6a",
   "metadata": {},
   "outputs": [
    {
     "data": {
      "text/html": [
       "<div>\n",
       "<style scoped>\n",
       "    .dataframe tbody tr th:only-of-type {\n",
       "        vertical-align: middle;\n",
       "    }\n",
       "\n",
       "    .dataframe tbody tr th {\n",
       "        vertical-align: top;\n",
       "    }\n",
       "\n",
       "    .dataframe thead th {\n",
       "        text-align: right;\n",
       "    }\n",
       "</style>\n",
       "<table border=\"1\" class=\"dataframe\">\n",
       "  <thead>\n",
       "    <tr style=\"text-align: right;\">\n",
       "      <th></th>\n",
       "      <th>A</th>\n",
       "      <th>B</th>\n",
       "      <th>C</th>\n",
       "      <th>D</th>\n",
       "      <th>E</th>\n",
       "    </tr>\n",
       "  </thead>\n",
       "  <tbody>\n",
       "    <tr>\n",
       "      <th>0</th>\n",
       "      <td>1.0</td>\n",
       "      <td>1.329212</td>\n",
       "      <td>-0.770033</td>\n",
       "      <td>-0.316280</td>\n",
       "      <td>-0.990810</td>\n",
       "    </tr>\n",
       "    <tr>\n",
       "      <th>1</th>\n",
       "      <td>2.0</td>\n",
       "      <td>-1.070816</td>\n",
       "      <td>-1.438713</td>\n",
       "      <td>0.564417</td>\n",
       "      <td>0.295722</td>\n",
       "    </tr>\n",
       "    <tr>\n",
       "      <th>2</th>\n",
       "      <td>3.0</td>\n",
       "      <td>-1.626404</td>\n",
       "      <td>0.219565</td>\n",
       "      <td>0.678805</td>\n",
       "      <td>1.889273</td>\n",
       "    </tr>\n",
       "    <tr>\n",
       "      <th>3</th>\n",
       "      <td>4.0</td>\n",
       "      <td>0.961538</td>\n",
       "      <td>0.104011</td>\n",
       "      <td>-0.481165</td>\n",
       "      <td>0.850229</td>\n",
       "    </tr>\n",
       "    <tr>\n",
       "      <th>4</th>\n",
       "      <td>5.0</td>\n",
       "      <td>1.453425</td>\n",
       "      <td>1.057737</td>\n",
       "      <td>0.165562</td>\n",
       "      <td>0.515018</td>\n",
       "    </tr>\n",
       "    <tr>\n",
       "      <th>5</th>\n",
       "      <td>6.0</td>\n",
       "      <td>-1.336936</td>\n",
       "      <td>0.562861</td>\n",
       "      <td>1.392855</td>\n",
       "      <td>-0.063328</td>\n",
       "    </tr>\n",
       "    <tr>\n",
       "      <th>6</th>\n",
       "      <td>7.0</td>\n",
       "      <td>0.121668</td>\n",
       "      <td>1.207603</td>\n",
       "      <td>-0.002040</td>\n",
       "      <td>1.627796</td>\n",
       "    </tr>\n",
       "    <tr>\n",
       "      <th>7</th>\n",
       "      <td>8.0</td>\n",
       "      <td>0.354493</td>\n",
       "      <td>1.037528</td>\n",
       "      <td>-0.385684</td>\n",
       "      <td>0.519818</td>\n",
       "    </tr>\n",
       "    <tr>\n",
       "      <th>8</th>\n",
       "      <td>9.0</td>\n",
       "      <td>1.686583</td>\n",
       "      <td>-1.325963</td>\n",
       "      <td>1.428984</td>\n",
       "      <td>-2.089354</td>\n",
       "    </tr>\n",
       "    <tr>\n",
       "      <th>9</th>\n",
       "      <td>10.0</td>\n",
       "      <td>-0.129820</td>\n",
       "      <td>0.631523</td>\n",
       "      <td>-0.586538</td>\n",
       "      <td>0.290720</td>\n",
       "    </tr>\n",
       "  </tbody>\n",
       "</table>\n",
       "</div>"
      ],
      "text/plain": [
       "      A         B         C         D         E\n",
       "0   1.0  1.329212 -0.770033 -0.316280 -0.990810\n",
       "1   2.0 -1.070816 -1.438713  0.564417  0.295722\n",
       "2   3.0 -1.626404  0.219565  0.678805  1.889273\n",
       "3   4.0  0.961538  0.104011 -0.481165  0.850229\n",
       "4   5.0  1.453425  1.057737  0.165562  0.515018\n",
       "5   6.0 -1.336936  0.562861  1.392855 -0.063328\n",
       "6   7.0  0.121668  1.207603 -0.002040  1.627796\n",
       "7   8.0  0.354493  1.037528 -0.385684  0.519818\n",
       "8   9.0  1.686583 -1.325963  1.428984 -2.089354\n",
       "9  10.0 -0.129820  0.631523 -0.586538  0.290720"
      ]
     },
     "execution_count": 39,
     "metadata": {},
     "output_type": "execute_result"
    }
   ],
   "source": [
    "df"
   ]
  },
  {
   "cell_type": "code",
   "execution_count": 47,
   "id": "912e4364-833b-4ca5-8ce2-3db2c35ce024",
   "metadata": {},
   "outputs": [],
   "source": [
    "def bgc(val):\n",
    "    color = 'red' if val<0 else 'black'\n",
    "    return f'background-color: {color}'"
   ]
  },
  {
   "cell_type": "code",
   "execution_count": 48,
   "id": "edf1c76f-6860-4ebd-9bc5-a9ac4997fdf0",
   "metadata": {},
   "outputs": [
    {
     "name": "stderr",
     "output_type": "stream",
     "text": [
      "C:\\Users\\JeetPrajapati\\AppData\\Local\\Temp\\ipykernel_7052\\1049552364.py:1: FutureWarning: Styler.applymap has been deprecated. Use Styler.map instead.\n",
      "  sdf = df.style.applymap(bgc)\n"
     ]
    },
    {
     "data": {
      "text/html": [
       "<style type=\"text/css\">\n",
       "#T_87078_row0_col0, #T_87078_row0_col1, #T_87078_row1_col0, #T_87078_row1_col3, #T_87078_row1_col4, #T_87078_row2_col0, #T_87078_row2_col2, #T_87078_row2_col3, #T_87078_row2_col4, #T_87078_row3_col0, #T_87078_row3_col1, #T_87078_row3_col2, #T_87078_row3_col4, #T_87078_row4_col0, #T_87078_row4_col1, #T_87078_row4_col2, #T_87078_row4_col3, #T_87078_row4_col4, #T_87078_row5_col0, #T_87078_row5_col2, #T_87078_row5_col3, #T_87078_row6_col0, #T_87078_row6_col1, #T_87078_row6_col2, #T_87078_row6_col4, #T_87078_row7_col0, #T_87078_row7_col1, #T_87078_row7_col2, #T_87078_row7_col4, #T_87078_row8_col0, #T_87078_row8_col1, #T_87078_row8_col3, #T_87078_row9_col0, #T_87078_row9_col2, #T_87078_row9_col4 {\n",
       "  background-color: black;\n",
       "}\n",
       "#T_87078_row0_col2, #T_87078_row0_col3, #T_87078_row0_col4, #T_87078_row1_col1, #T_87078_row1_col2, #T_87078_row2_col1, #T_87078_row3_col3, #T_87078_row5_col1, #T_87078_row5_col4, #T_87078_row6_col3, #T_87078_row7_col3, #T_87078_row8_col2, #T_87078_row8_col4, #T_87078_row9_col1, #T_87078_row9_col3 {\n",
       "  background-color: red;\n",
       "}\n",
       "</style>\n",
       "<table id=\"T_87078\">\n",
       "  <thead>\n",
       "    <tr>\n",
       "      <th class=\"blank level0\" >&nbsp;</th>\n",
       "      <th id=\"T_87078_level0_col0\" class=\"col_heading level0 col0\" >A</th>\n",
       "      <th id=\"T_87078_level0_col1\" class=\"col_heading level0 col1\" >B</th>\n",
       "      <th id=\"T_87078_level0_col2\" class=\"col_heading level0 col2\" >C</th>\n",
       "      <th id=\"T_87078_level0_col3\" class=\"col_heading level0 col3\" >D</th>\n",
       "      <th id=\"T_87078_level0_col4\" class=\"col_heading level0 col4\" >E</th>\n",
       "    </tr>\n",
       "  </thead>\n",
       "  <tbody>\n",
       "    <tr>\n",
       "      <th id=\"T_87078_level0_row0\" class=\"row_heading level0 row0\" >0</th>\n",
       "      <td id=\"T_87078_row0_col0\" class=\"data row0 col0\" >1.000000</td>\n",
       "      <td id=\"T_87078_row0_col1\" class=\"data row0 col1\" >1.329212</td>\n",
       "      <td id=\"T_87078_row0_col2\" class=\"data row0 col2\" >-0.770033</td>\n",
       "      <td id=\"T_87078_row0_col3\" class=\"data row0 col3\" >-0.316280</td>\n",
       "      <td id=\"T_87078_row0_col4\" class=\"data row0 col4\" >-0.990810</td>\n",
       "    </tr>\n",
       "    <tr>\n",
       "      <th id=\"T_87078_level0_row1\" class=\"row_heading level0 row1\" >1</th>\n",
       "      <td id=\"T_87078_row1_col0\" class=\"data row1 col0\" >2.000000</td>\n",
       "      <td id=\"T_87078_row1_col1\" class=\"data row1 col1\" >-1.070816</td>\n",
       "      <td id=\"T_87078_row1_col2\" class=\"data row1 col2\" >-1.438713</td>\n",
       "      <td id=\"T_87078_row1_col3\" class=\"data row1 col3\" >0.564417</td>\n",
       "      <td id=\"T_87078_row1_col4\" class=\"data row1 col4\" >0.295722</td>\n",
       "    </tr>\n",
       "    <tr>\n",
       "      <th id=\"T_87078_level0_row2\" class=\"row_heading level0 row2\" >2</th>\n",
       "      <td id=\"T_87078_row2_col0\" class=\"data row2 col0\" >3.000000</td>\n",
       "      <td id=\"T_87078_row2_col1\" class=\"data row2 col1\" >-1.626404</td>\n",
       "      <td id=\"T_87078_row2_col2\" class=\"data row2 col2\" >0.219565</td>\n",
       "      <td id=\"T_87078_row2_col3\" class=\"data row2 col3\" >0.678805</td>\n",
       "      <td id=\"T_87078_row2_col4\" class=\"data row2 col4\" >1.889273</td>\n",
       "    </tr>\n",
       "    <tr>\n",
       "      <th id=\"T_87078_level0_row3\" class=\"row_heading level0 row3\" >3</th>\n",
       "      <td id=\"T_87078_row3_col0\" class=\"data row3 col0\" >4.000000</td>\n",
       "      <td id=\"T_87078_row3_col1\" class=\"data row3 col1\" >0.961538</td>\n",
       "      <td id=\"T_87078_row3_col2\" class=\"data row3 col2\" >0.104011</td>\n",
       "      <td id=\"T_87078_row3_col3\" class=\"data row3 col3\" >-0.481165</td>\n",
       "      <td id=\"T_87078_row3_col4\" class=\"data row3 col4\" >0.850229</td>\n",
       "    </tr>\n",
       "    <tr>\n",
       "      <th id=\"T_87078_level0_row4\" class=\"row_heading level0 row4\" >4</th>\n",
       "      <td id=\"T_87078_row4_col0\" class=\"data row4 col0\" >5.000000</td>\n",
       "      <td id=\"T_87078_row4_col1\" class=\"data row4 col1\" >1.453425</td>\n",
       "      <td id=\"T_87078_row4_col2\" class=\"data row4 col2\" >1.057737</td>\n",
       "      <td id=\"T_87078_row4_col3\" class=\"data row4 col3\" >0.165562</td>\n",
       "      <td id=\"T_87078_row4_col4\" class=\"data row4 col4\" >0.515018</td>\n",
       "    </tr>\n",
       "    <tr>\n",
       "      <th id=\"T_87078_level0_row5\" class=\"row_heading level0 row5\" >5</th>\n",
       "      <td id=\"T_87078_row5_col0\" class=\"data row5 col0\" >6.000000</td>\n",
       "      <td id=\"T_87078_row5_col1\" class=\"data row5 col1\" >-1.336936</td>\n",
       "      <td id=\"T_87078_row5_col2\" class=\"data row5 col2\" >0.562861</td>\n",
       "      <td id=\"T_87078_row5_col3\" class=\"data row5 col3\" >1.392855</td>\n",
       "      <td id=\"T_87078_row5_col4\" class=\"data row5 col4\" >-0.063328</td>\n",
       "    </tr>\n",
       "    <tr>\n",
       "      <th id=\"T_87078_level0_row6\" class=\"row_heading level0 row6\" >6</th>\n",
       "      <td id=\"T_87078_row6_col0\" class=\"data row6 col0\" >7.000000</td>\n",
       "      <td id=\"T_87078_row6_col1\" class=\"data row6 col1\" >0.121668</td>\n",
       "      <td id=\"T_87078_row6_col2\" class=\"data row6 col2\" >1.207603</td>\n",
       "      <td id=\"T_87078_row6_col3\" class=\"data row6 col3\" >-0.002040</td>\n",
       "      <td id=\"T_87078_row6_col4\" class=\"data row6 col4\" >1.627796</td>\n",
       "    </tr>\n",
       "    <tr>\n",
       "      <th id=\"T_87078_level0_row7\" class=\"row_heading level0 row7\" >7</th>\n",
       "      <td id=\"T_87078_row7_col0\" class=\"data row7 col0\" >8.000000</td>\n",
       "      <td id=\"T_87078_row7_col1\" class=\"data row7 col1\" >0.354493</td>\n",
       "      <td id=\"T_87078_row7_col2\" class=\"data row7 col2\" >1.037528</td>\n",
       "      <td id=\"T_87078_row7_col3\" class=\"data row7 col3\" >-0.385684</td>\n",
       "      <td id=\"T_87078_row7_col4\" class=\"data row7 col4\" >0.519818</td>\n",
       "    </tr>\n",
       "    <tr>\n",
       "      <th id=\"T_87078_level0_row8\" class=\"row_heading level0 row8\" >8</th>\n",
       "      <td id=\"T_87078_row8_col0\" class=\"data row8 col0\" >9.000000</td>\n",
       "      <td id=\"T_87078_row8_col1\" class=\"data row8 col1\" >1.686583</td>\n",
       "      <td id=\"T_87078_row8_col2\" class=\"data row8 col2\" >-1.325963</td>\n",
       "      <td id=\"T_87078_row8_col3\" class=\"data row8 col3\" >1.428984</td>\n",
       "      <td id=\"T_87078_row8_col4\" class=\"data row8 col4\" >-2.089354</td>\n",
       "    </tr>\n",
       "    <tr>\n",
       "      <th id=\"T_87078_level0_row9\" class=\"row_heading level0 row9\" >9</th>\n",
       "      <td id=\"T_87078_row9_col0\" class=\"data row9 col0\" >10.000000</td>\n",
       "      <td id=\"T_87078_row9_col1\" class=\"data row9 col1\" >-0.129820</td>\n",
       "      <td id=\"T_87078_row9_col2\" class=\"data row9 col2\" >0.631523</td>\n",
       "      <td id=\"T_87078_row9_col3\" class=\"data row9 col3\" >-0.586538</td>\n",
       "      <td id=\"T_87078_row9_col4\" class=\"data row9 col4\" >0.290720</td>\n",
       "    </tr>\n",
       "  </tbody>\n",
       "</table>\n"
      ],
      "text/plain": [
       "<pandas.io.formats.style.Styler at 0x1f4fa8fa360>"
      ]
     },
     "execution_count": 48,
     "metadata": {},
     "output_type": "execute_result"
    }
   ],
   "source": [
    "sdf = df.style.applymap(bgc)\n",
    "sdf"
   ]
  },
  {
   "cell_type": "code",
   "execution_count": 56,
   "id": "231ed562-5726-4291-8fea-c07b9aa453c8",
   "metadata": {},
   "outputs": [
    {
     "name": "stderr",
     "output_type": "stream",
     "text": [
      "C:\\Users\\JeetPrajapati\\AppData\\Local\\Temp\\ipykernel_7052\\4057642343.py:1: FutureWarning: Styler.applymap has been deprecated. Use Styler.map instead.\n",
      "  sdf = df.style.applymap(lambda x: 'background-color: red' if x<0 else \"\", subset = ['B','C','D','E'])\n"
     ]
    },
    {
     "data": {
      "text/html": [
       "<style type=\"text/css\">\n",
       "#T_878d5_row0_col2, #T_878d5_row0_col3, #T_878d5_row0_col4, #T_878d5_row1_col1, #T_878d5_row1_col2, #T_878d5_row2_col1, #T_878d5_row3_col3, #T_878d5_row5_col1, #T_878d5_row5_col4, #T_878d5_row6_col3, #T_878d5_row7_col3, #T_878d5_row8_col2, #T_878d5_row8_col4, #T_878d5_row9_col1, #T_878d5_row9_col3 {\n",
       "  background-color: red;\n",
       "}\n",
       "</style>\n",
       "<table id=\"T_878d5\">\n",
       "  <thead>\n",
       "    <tr>\n",
       "      <th class=\"blank level0\" >&nbsp;</th>\n",
       "      <th id=\"T_878d5_level0_col0\" class=\"col_heading level0 col0\" >A</th>\n",
       "      <th id=\"T_878d5_level0_col1\" class=\"col_heading level0 col1\" >B</th>\n",
       "      <th id=\"T_878d5_level0_col2\" class=\"col_heading level0 col2\" >C</th>\n",
       "      <th id=\"T_878d5_level0_col3\" class=\"col_heading level0 col3\" >D</th>\n",
       "      <th id=\"T_878d5_level0_col4\" class=\"col_heading level0 col4\" >E</th>\n",
       "    </tr>\n",
       "  </thead>\n",
       "  <tbody>\n",
       "    <tr>\n",
       "      <th id=\"T_878d5_level0_row0\" class=\"row_heading level0 row0\" >0</th>\n",
       "      <td id=\"T_878d5_row0_col0\" class=\"data row0 col0\" >1.000000</td>\n",
       "      <td id=\"T_878d5_row0_col1\" class=\"data row0 col1\" >1.329212</td>\n",
       "      <td id=\"T_878d5_row0_col2\" class=\"data row0 col2\" >-0.770033</td>\n",
       "      <td id=\"T_878d5_row0_col3\" class=\"data row0 col3\" >-0.316280</td>\n",
       "      <td id=\"T_878d5_row0_col4\" class=\"data row0 col4\" >-0.990810</td>\n",
       "    </tr>\n",
       "    <tr>\n",
       "      <th id=\"T_878d5_level0_row1\" class=\"row_heading level0 row1\" >1</th>\n",
       "      <td id=\"T_878d5_row1_col0\" class=\"data row1 col0\" >2.000000</td>\n",
       "      <td id=\"T_878d5_row1_col1\" class=\"data row1 col1\" >-1.070816</td>\n",
       "      <td id=\"T_878d5_row1_col2\" class=\"data row1 col2\" >-1.438713</td>\n",
       "      <td id=\"T_878d5_row1_col3\" class=\"data row1 col3\" >0.564417</td>\n",
       "      <td id=\"T_878d5_row1_col4\" class=\"data row1 col4\" >0.295722</td>\n",
       "    </tr>\n",
       "    <tr>\n",
       "      <th id=\"T_878d5_level0_row2\" class=\"row_heading level0 row2\" >2</th>\n",
       "      <td id=\"T_878d5_row2_col0\" class=\"data row2 col0\" >3.000000</td>\n",
       "      <td id=\"T_878d5_row2_col1\" class=\"data row2 col1\" >-1.626404</td>\n",
       "      <td id=\"T_878d5_row2_col2\" class=\"data row2 col2\" >0.219565</td>\n",
       "      <td id=\"T_878d5_row2_col3\" class=\"data row2 col3\" >0.678805</td>\n",
       "      <td id=\"T_878d5_row2_col4\" class=\"data row2 col4\" >1.889273</td>\n",
       "    </tr>\n",
       "    <tr>\n",
       "      <th id=\"T_878d5_level0_row3\" class=\"row_heading level0 row3\" >3</th>\n",
       "      <td id=\"T_878d5_row3_col0\" class=\"data row3 col0\" >4.000000</td>\n",
       "      <td id=\"T_878d5_row3_col1\" class=\"data row3 col1\" >0.961538</td>\n",
       "      <td id=\"T_878d5_row3_col2\" class=\"data row3 col2\" >0.104011</td>\n",
       "      <td id=\"T_878d5_row3_col3\" class=\"data row3 col3\" >-0.481165</td>\n",
       "      <td id=\"T_878d5_row3_col4\" class=\"data row3 col4\" >0.850229</td>\n",
       "    </tr>\n",
       "    <tr>\n",
       "      <th id=\"T_878d5_level0_row4\" class=\"row_heading level0 row4\" >4</th>\n",
       "      <td id=\"T_878d5_row4_col0\" class=\"data row4 col0\" >5.000000</td>\n",
       "      <td id=\"T_878d5_row4_col1\" class=\"data row4 col1\" >1.453425</td>\n",
       "      <td id=\"T_878d5_row4_col2\" class=\"data row4 col2\" >1.057737</td>\n",
       "      <td id=\"T_878d5_row4_col3\" class=\"data row4 col3\" >0.165562</td>\n",
       "      <td id=\"T_878d5_row4_col4\" class=\"data row4 col4\" >0.515018</td>\n",
       "    </tr>\n",
       "    <tr>\n",
       "      <th id=\"T_878d5_level0_row5\" class=\"row_heading level0 row5\" >5</th>\n",
       "      <td id=\"T_878d5_row5_col0\" class=\"data row5 col0\" >6.000000</td>\n",
       "      <td id=\"T_878d5_row5_col1\" class=\"data row5 col1\" >-1.336936</td>\n",
       "      <td id=\"T_878d5_row5_col2\" class=\"data row5 col2\" >0.562861</td>\n",
       "      <td id=\"T_878d5_row5_col3\" class=\"data row5 col3\" >1.392855</td>\n",
       "      <td id=\"T_878d5_row5_col4\" class=\"data row5 col4\" >-0.063328</td>\n",
       "    </tr>\n",
       "    <tr>\n",
       "      <th id=\"T_878d5_level0_row6\" class=\"row_heading level0 row6\" >6</th>\n",
       "      <td id=\"T_878d5_row6_col0\" class=\"data row6 col0\" >7.000000</td>\n",
       "      <td id=\"T_878d5_row6_col1\" class=\"data row6 col1\" >0.121668</td>\n",
       "      <td id=\"T_878d5_row6_col2\" class=\"data row6 col2\" >1.207603</td>\n",
       "      <td id=\"T_878d5_row6_col3\" class=\"data row6 col3\" >-0.002040</td>\n",
       "      <td id=\"T_878d5_row6_col4\" class=\"data row6 col4\" >1.627796</td>\n",
       "    </tr>\n",
       "    <tr>\n",
       "      <th id=\"T_878d5_level0_row7\" class=\"row_heading level0 row7\" >7</th>\n",
       "      <td id=\"T_878d5_row7_col0\" class=\"data row7 col0\" >8.000000</td>\n",
       "      <td id=\"T_878d5_row7_col1\" class=\"data row7 col1\" >0.354493</td>\n",
       "      <td id=\"T_878d5_row7_col2\" class=\"data row7 col2\" >1.037528</td>\n",
       "      <td id=\"T_878d5_row7_col3\" class=\"data row7 col3\" >-0.385684</td>\n",
       "      <td id=\"T_878d5_row7_col4\" class=\"data row7 col4\" >0.519818</td>\n",
       "    </tr>\n",
       "    <tr>\n",
       "      <th id=\"T_878d5_level0_row8\" class=\"row_heading level0 row8\" >8</th>\n",
       "      <td id=\"T_878d5_row8_col0\" class=\"data row8 col0\" >9.000000</td>\n",
       "      <td id=\"T_878d5_row8_col1\" class=\"data row8 col1\" >1.686583</td>\n",
       "      <td id=\"T_878d5_row8_col2\" class=\"data row8 col2\" >-1.325963</td>\n",
       "      <td id=\"T_878d5_row8_col3\" class=\"data row8 col3\" >1.428984</td>\n",
       "      <td id=\"T_878d5_row8_col4\" class=\"data row8 col4\" >-2.089354</td>\n",
       "    </tr>\n",
       "    <tr>\n",
       "      <th id=\"T_878d5_level0_row9\" class=\"row_heading level0 row9\" >9</th>\n",
       "      <td id=\"T_878d5_row9_col0\" class=\"data row9 col0\" >10.000000</td>\n",
       "      <td id=\"T_878d5_row9_col1\" class=\"data row9 col1\" >-0.129820</td>\n",
       "      <td id=\"T_878d5_row9_col2\" class=\"data row9 col2\" >0.631523</td>\n",
       "      <td id=\"T_878d5_row9_col3\" class=\"data row9 col3\" >-0.586538</td>\n",
       "      <td id=\"T_878d5_row9_col4\" class=\"data row9 col4\" >0.290720</td>\n",
       "    </tr>\n",
       "  </tbody>\n",
       "</table>\n"
      ],
      "text/plain": [
       "<pandas.io.formats.style.Styler at 0x1f4fa9aac30>"
      ]
     },
     "execution_count": 56,
     "metadata": {},
     "output_type": "execute_result"
    }
   ],
   "source": [
    "sdf = df.style.applymap(lambda x: 'background-color: red' if x<0 else \"\", subset = ['B','C','D','E'])\n",
    "sdf"
   ]
  },
  {
   "cell_type": "markdown",
   "id": "e7edf406-d582-433e-8496-d551753cbb8c",
   "metadata": {},
   "source": [
    "Create a dataframe of ten rows, four columns with random values. Convert some values to nan values. Write a Pandas program which will highlight the nan values."
   ]
  },
  {
   "cell_type": "code",
   "execution_count": 57,
   "id": "848d02a4-f498-4437-969e-04cc64f415f9",
   "metadata": {},
   "outputs": [],
   "source": [
    "np.random.seed(24)\n",
    "\n",
    "df = pd.DataFrame({'A': np.linspace(1, 10, 10)})\n",
    "df = pd.concat([df, pd.DataFrame(np.random.randn(10, 4), columns=list('BCDE'))],\n",
    "               axis=1)\n",
    "\n",
    "df.iloc[0, 2] = np.nan\n",
    "df.iloc[3, 3] = np.nan\n",
    "df.iloc[4, 1] = np.nan\n",
    "df.iloc[9, 4] = np.nan"
   ]
  },
  {
   "cell_type": "code",
   "execution_count": 58,
   "id": "bb7e3a0b-1a95-497f-aacc-befc35c03232",
   "metadata": {},
   "outputs": [
    {
     "data": {
      "text/html": [
       "<div>\n",
       "<style scoped>\n",
       "    .dataframe tbody tr th:only-of-type {\n",
       "        vertical-align: middle;\n",
       "    }\n",
       "\n",
       "    .dataframe tbody tr th {\n",
       "        vertical-align: top;\n",
       "    }\n",
       "\n",
       "    .dataframe thead th {\n",
       "        text-align: right;\n",
       "    }\n",
       "</style>\n",
       "<table border=\"1\" class=\"dataframe\">\n",
       "  <thead>\n",
       "    <tr style=\"text-align: right;\">\n",
       "      <th></th>\n",
       "      <th>A</th>\n",
       "      <th>B</th>\n",
       "      <th>C</th>\n",
       "      <th>D</th>\n",
       "      <th>E</th>\n",
       "    </tr>\n",
       "  </thead>\n",
       "  <tbody>\n",
       "    <tr>\n",
       "      <th>0</th>\n",
       "      <td>1.0</td>\n",
       "      <td>1.329212</td>\n",
       "      <td>NaN</td>\n",
       "      <td>-0.316280</td>\n",
       "      <td>-0.990810</td>\n",
       "    </tr>\n",
       "    <tr>\n",
       "      <th>1</th>\n",
       "      <td>2.0</td>\n",
       "      <td>-1.070816</td>\n",
       "      <td>-1.438713</td>\n",
       "      <td>0.564417</td>\n",
       "      <td>0.295722</td>\n",
       "    </tr>\n",
       "    <tr>\n",
       "      <th>2</th>\n",
       "      <td>3.0</td>\n",
       "      <td>-1.626404</td>\n",
       "      <td>0.219565</td>\n",
       "      <td>0.678805</td>\n",
       "      <td>1.889273</td>\n",
       "    </tr>\n",
       "    <tr>\n",
       "      <th>3</th>\n",
       "      <td>4.0</td>\n",
       "      <td>0.961538</td>\n",
       "      <td>0.104011</td>\n",
       "      <td>NaN</td>\n",
       "      <td>0.850229</td>\n",
       "    </tr>\n",
       "    <tr>\n",
       "      <th>4</th>\n",
       "      <td>5.0</td>\n",
       "      <td>NaN</td>\n",
       "      <td>1.057737</td>\n",
       "      <td>0.165562</td>\n",
       "      <td>0.515018</td>\n",
       "    </tr>\n",
       "    <tr>\n",
       "      <th>5</th>\n",
       "      <td>6.0</td>\n",
       "      <td>-1.336936</td>\n",
       "      <td>0.562861</td>\n",
       "      <td>1.392855</td>\n",
       "      <td>-0.063328</td>\n",
       "    </tr>\n",
       "    <tr>\n",
       "      <th>6</th>\n",
       "      <td>7.0</td>\n",
       "      <td>0.121668</td>\n",
       "      <td>1.207603</td>\n",
       "      <td>-0.002040</td>\n",
       "      <td>1.627796</td>\n",
       "    </tr>\n",
       "    <tr>\n",
       "      <th>7</th>\n",
       "      <td>8.0</td>\n",
       "      <td>0.354493</td>\n",
       "      <td>1.037528</td>\n",
       "      <td>-0.385684</td>\n",
       "      <td>0.519818</td>\n",
       "    </tr>\n",
       "    <tr>\n",
       "      <th>8</th>\n",
       "      <td>9.0</td>\n",
       "      <td>1.686583</td>\n",
       "      <td>-1.325963</td>\n",
       "      <td>1.428984</td>\n",
       "      <td>-2.089354</td>\n",
       "    </tr>\n",
       "    <tr>\n",
       "      <th>9</th>\n",
       "      <td>10.0</td>\n",
       "      <td>-0.129820</td>\n",
       "      <td>0.631523</td>\n",
       "      <td>-0.586538</td>\n",
       "      <td>NaN</td>\n",
       "    </tr>\n",
       "  </tbody>\n",
       "</table>\n",
       "</div>"
      ],
      "text/plain": [
       "      A         B         C         D         E\n",
       "0   1.0  1.329212       NaN -0.316280 -0.990810\n",
       "1   2.0 -1.070816 -1.438713  0.564417  0.295722\n",
       "2   3.0 -1.626404  0.219565  0.678805  1.889273\n",
       "3   4.0  0.961538  0.104011       NaN  0.850229\n",
       "4   5.0       NaN  1.057737  0.165562  0.515018\n",
       "5   6.0 -1.336936  0.562861  1.392855 -0.063328\n",
       "6   7.0  0.121668  1.207603 -0.002040  1.627796\n",
       "7   8.0  0.354493  1.037528 -0.385684  0.519818\n",
       "8   9.0  1.686583 -1.325963  1.428984 -2.089354\n",
       "9  10.0 -0.129820  0.631523 -0.586538       NaN"
      ]
     },
     "execution_count": 58,
     "metadata": {},
     "output_type": "execute_result"
    }
   ],
   "source": [
    "df"
   ]
  },
  {
   "cell_type": "code",
   "execution_count": 59,
   "id": "e586f421-08f1-400a-8bd4-12fa3b7c8199",
   "metadata": {},
   "outputs": [
    {
     "data": {
      "text/html": [
       "<style type=\"text/css\">\n",
       "#T_32662_row0_col2, #T_32662_row3_col3, #T_32662_row4_col1, #T_32662_row9_col4 {\n",
       "  background-color: red;\n",
       "}\n",
       "</style>\n",
       "<table id=\"T_32662\">\n",
       "  <thead>\n",
       "    <tr>\n",
       "      <th class=\"blank level0\" >&nbsp;</th>\n",
       "      <th id=\"T_32662_level0_col0\" class=\"col_heading level0 col0\" >A</th>\n",
       "      <th id=\"T_32662_level0_col1\" class=\"col_heading level0 col1\" >B</th>\n",
       "      <th id=\"T_32662_level0_col2\" class=\"col_heading level0 col2\" >C</th>\n",
       "      <th id=\"T_32662_level0_col3\" class=\"col_heading level0 col3\" >D</th>\n",
       "      <th id=\"T_32662_level0_col4\" class=\"col_heading level0 col4\" >E</th>\n",
       "    </tr>\n",
       "  </thead>\n",
       "  <tbody>\n",
       "    <tr>\n",
       "      <th id=\"T_32662_level0_row0\" class=\"row_heading level0 row0\" >0</th>\n",
       "      <td id=\"T_32662_row0_col0\" class=\"data row0 col0\" >1.000000</td>\n",
       "      <td id=\"T_32662_row0_col1\" class=\"data row0 col1\" >1.329212</td>\n",
       "      <td id=\"T_32662_row0_col2\" class=\"data row0 col2\" >nan</td>\n",
       "      <td id=\"T_32662_row0_col3\" class=\"data row0 col3\" >-0.316280</td>\n",
       "      <td id=\"T_32662_row0_col4\" class=\"data row0 col4\" >-0.990810</td>\n",
       "    </tr>\n",
       "    <tr>\n",
       "      <th id=\"T_32662_level0_row1\" class=\"row_heading level0 row1\" >1</th>\n",
       "      <td id=\"T_32662_row1_col0\" class=\"data row1 col0\" >2.000000</td>\n",
       "      <td id=\"T_32662_row1_col1\" class=\"data row1 col1\" >-1.070816</td>\n",
       "      <td id=\"T_32662_row1_col2\" class=\"data row1 col2\" >-1.438713</td>\n",
       "      <td id=\"T_32662_row1_col3\" class=\"data row1 col3\" >0.564417</td>\n",
       "      <td id=\"T_32662_row1_col4\" class=\"data row1 col4\" >0.295722</td>\n",
       "    </tr>\n",
       "    <tr>\n",
       "      <th id=\"T_32662_level0_row2\" class=\"row_heading level0 row2\" >2</th>\n",
       "      <td id=\"T_32662_row2_col0\" class=\"data row2 col0\" >3.000000</td>\n",
       "      <td id=\"T_32662_row2_col1\" class=\"data row2 col1\" >-1.626404</td>\n",
       "      <td id=\"T_32662_row2_col2\" class=\"data row2 col2\" >0.219565</td>\n",
       "      <td id=\"T_32662_row2_col3\" class=\"data row2 col3\" >0.678805</td>\n",
       "      <td id=\"T_32662_row2_col4\" class=\"data row2 col4\" >1.889273</td>\n",
       "    </tr>\n",
       "    <tr>\n",
       "      <th id=\"T_32662_level0_row3\" class=\"row_heading level0 row3\" >3</th>\n",
       "      <td id=\"T_32662_row3_col0\" class=\"data row3 col0\" >4.000000</td>\n",
       "      <td id=\"T_32662_row3_col1\" class=\"data row3 col1\" >0.961538</td>\n",
       "      <td id=\"T_32662_row3_col2\" class=\"data row3 col2\" >0.104011</td>\n",
       "      <td id=\"T_32662_row3_col3\" class=\"data row3 col3\" >nan</td>\n",
       "      <td id=\"T_32662_row3_col4\" class=\"data row3 col4\" >0.850229</td>\n",
       "    </tr>\n",
       "    <tr>\n",
       "      <th id=\"T_32662_level0_row4\" class=\"row_heading level0 row4\" >4</th>\n",
       "      <td id=\"T_32662_row4_col0\" class=\"data row4 col0\" >5.000000</td>\n",
       "      <td id=\"T_32662_row4_col1\" class=\"data row4 col1\" >nan</td>\n",
       "      <td id=\"T_32662_row4_col2\" class=\"data row4 col2\" >1.057737</td>\n",
       "      <td id=\"T_32662_row4_col3\" class=\"data row4 col3\" >0.165562</td>\n",
       "      <td id=\"T_32662_row4_col4\" class=\"data row4 col4\" >0.515018</td>\n",
       "    </tr>\n",
       "    <tr>\n",
       "      <th id=\"T_32662_level0_row5\" class=\"row_heading level0 row5\" >5</th>\n",
       "      <td id=\"T_32662_row5_col0\" class=\"data row5 col0\" >6.000000</td>\n",
       "      <td id=\"T_32662_row5_col1\" class=\"data row5 col1\" >-1.336936</td>\n",
       "      <td id=\"T_32662_row5_col2\" class=\"data row5 col2\" >0.562861</td>\n",
       "      <td id=\"T_32662_row5_col3\" class=\"data row5 col3\" >1.392855</td>\n",
       "      <td id=\"T_32662_row5_col4\" class=\"data row5 col4\" >-0.063328</td>\n",
       "    </tr>\n",
       "    <tr>\n",
       "      <th id=\"T_32662_level0_row6\" class=\"row_heading level0 row6\" >6</th>\n",
       "      <td id=\"T_32662_row6_col0\" class=\"data row6 col0\" >7.000000</td>\n",
       "      <td id=\"T_32662_row6_col1\" class=\"data row6 col1\" >0.121668</td>\n",
       "      <td id=\"T_32662_row6_col2\" class=\"data row6 col2\" >1.207603</td>\n",
       "      <td id=\"T_32662_row6_col3\" class=\"data row6 col3\" >-0.002040</td>\n",
       "      <td id=\"T_32662_row6_col4\" class=\"data row6 col4\" >1.627796</td>\n",
       "    </tr>\n",
       "    <tr>\n",
       "      <th id=\"T_32662_level0_row7\" class=\"row_heading level0 row7\" >7</th>\n",
       "      <td id=\"T_32662_row7_col0\" class=\"data row7 col0\" >8.000000</td>\n",
       "      <td id=\"T_32662_row7_col1\" class=\"data row7 col1\" >0.354493</td>\n",
       "      <td id=\"T_32662_row7_col2\" class=\"data row7 col2\" >1.037528</td>\n",
       "      <td id=\"T_32662_row7_col3\" class=\"data row7 col3\" >-0.385684</td>\n",
       "      <td id=\"T_32662_row7_col4\" class=\"data row7 col4\" >0.519818</td>\n",
       "    </tr>\n",
       "    <tr>\n",
       "      <th id=\"T_32662_level0_row8\" class=\"row_heading level0 row8\" >8</th>\n",
       "      <td id=\"T_32662_row8_col0\" class=\"data row8 col0\" >9.000000</td>\n",
       "      <td id=\"T_32662_row8_col1\" class=\"data row8 col1\" >1.686583</td>\n",
       "      <td id=\"T_32662_row8_col2\" class=\"data row8 col2\" >-1.325963</td>\n",
       "      <td id=\"T_32662_row8_col3\" class=\"data row8 col3\" >1.428984</td>\n",
       "      <td id=\"T_32662_row8_col4\" class=\"data row8 col4\" >-2.089354</td>\n",
       "    </tr>\n",
       "    <tr>\n",
       "      <th id=\"T_32662_level0_row9\" class=\"row_heading level0 row9\" >9</th>\n",
       "      <td id=\"T_32662_row9_col0\" class=\"data row9 col0\" >10.000000</td>\n",
       "      <td id=\"T_32662_row9_col1\" class=\"data row9 col1\" >-0.129820</td>\n",
       "      <td id=\"T_32662_row9_col2\" class=\"data row9 col2\" >0.631523</td>\n",
       "      <td id=\"T_32662_row9_col3\" class=\"data row9 col3\" >-0.586538</td>\n",
       "      <td id=\"T_32662_row9_col4\" class=\"data row9 col4\" >nan</td>\n",
       "    </tr>\n",
       "  </tbody>\n",
       "</table>\n"
      ],
      "text/plain": [
       "<pandas.io.formats.style.Styler at 0x1f4faa9cb30>"
      ]
     },
     "execution_count": 59,
     "metadata": {},
     "output_type": "execute_result"
    }
   ],
   "source": [
    "df.style.highlight_null(color= 'red')"
   ]
  },
  {
   "cell_type": "markdown",
   "id": "67dd4ed5-2dd5-4f03-ba99-06fcaae045ee",
   "metadata": {},
   "source": [
    "Create a dataframe of ten rows, four columns with random values. Write a Pandas program to highlight the maximum value in each column."
   ]
  },
  {
   "cell_type": "code",
   "execution_count": 60,
   "id": "975a28d9-c573-449f-8a63-501ce894735c",
   "metadata": {},
   "outputs": [
    {
     "data": {
      "text/html": [
       "<style type=\"text/css\">\n",
       "#T_33bd0_row2_col4, #T_33bd0_row6_col2, #T_33bd0_row8_col1, #T_33bd0_row8_col3, #T_33bd0_row9_col0 {\n",
       "  background-color: green;\n",
       "}\n",
       "</style>\n",
       "<table id=\"T_33bd0\">\n",
       "  <thead>\n",
       "    <tr>\n",
       "      <th class=\"blank level0\" >&nbsp;</th>\n",
       "      <th id=\"T_33bd0_level0_col0\" class=\"col_heading level0 col0\" >A</th>\n",
       "      <th id=\"T_33bd0_level0_col1\" class=\"col_heading level0 col1\" >B</th>\n",
       "      <th id=\"T_33bd0_level0_col2\" class=\"col_heading level0 col2\" >C</th>\n",
       "      <th id=\"T_33bd0_level0_col3\" class=\"col_heading level0 col3\" >D</th>\n",
       "      <th id=\"T_33bd0_level0_col4\" class=\"col_heading level0 col4\" >E</th>\n",
       "    </tr>\n",
       "  </thead>\n",
       "  <tbody>\n",
       "    <tr>\n",
       "      <th id=\"T_33bd0_level0_row0\" class=\"row_heading level0 row0\" >0</th>\n",
       "      <td id=\"T_33bd0_row0_col0\" class=\"data row0 col0\" >1.000000</td>\n",
       "      <td id=\"T_33bd0_row0_col1\" class=\"data row0 col1\" >1.329212</td>\n",
       "      <td id=\"T_33bd0_row0_col2\" class=\"data row0 col2\" >nan</td>\n",
       "      <td id=\"T_33bd0_row0_col3\" class=\"data row0 col3\" >-0.316280</td>\n",
       "      <td id=\"T_33bd0_row0_col4\" class=\"data row0 col4\" >-0.990810</td>\n",
       "    </tr>\n",
       "    <tr>\n",
       "      <th id=\"T_33bd0_level0_row1\" class=\"row_heading level0 row1\" >1</th>\n",
       "      <td id=\"T_33bd0_row1_col0\" class=\"data row1 col0\" >2.000000</td>\n",
       "      <td id=\"T_33bd0_row1_col1\" class=\"data row1 col1\" >-1.070816</td>\n",
       "      <td id=\"T_33bd0_row1_col2\" class=\"data row1 col2\" >-1.438713</td>\n",
       "      <td id=\"T_33bd0_row1_col3\" class=\"data row1 col3\" >0.564417</td>\n",
       "      <td id=\"T_33bd0_row1_col4\" class=\"data row1 col4\" >0.295722</td>\n",
       "    </tr>\n",
       "    <tr>\n",
       "      <th id=\"T_33bd0_level0_row2\" class=\"row_heading level0 row2\" >2</th>\n",
       "      <td id=\"T_33bd0_row2_col0\" class=\"data row2 col0\" >3.000000</td>\n",
       "      <td id=\"T_33bd0_row2_col1\" class=\"data row2 col1\" >-1.626404</td>\n",
       "      <td id=\"T_33bd0_row2_col2\" class=\"data row2 col2\" >0.219565</td>\n",
       "      <td id=\"T_33bd0_row2_col3\" class=\"data row2 col3\" >0.678805</td>\n",
       "      <td id=\"T_33bd0_row2_col4\" class=\"data row2 col4\" >1.889273</td>\n",
       "    </tr>\n",
       "    <tr>\n",
       "      <th id=\"T_33bd0_level0_row3\" class=\"row_heading level0 row3\" >3</th>\n",
       "      <td id=\"T_33bd0_row3_col0\" class=\"data row3 col0\" >4.000000</td>\n",
       "      <td id=\"T_33bd0_row3_col1\" class=\"data row3 col1\" >0.961538</td>\n",
       "      <td id=\"T_33bd0_row3_col2\" class=\"data row3 col2\" >0.104011</td>\n",
       "      <td id=\"T_33bd0_row3_col3\" class=\"data row3 col3\" >nan</td>\n",
       "      <td id=\"T_33bd0_row3_col4\" class=\"data row3 col4\" >0.850229</td>\n",
       "    </tr>\n",
       "    <tr>\n",
       "      <th id=\"T_33bd0_level0_row4\" class=\"row_heading level0 row4\" >4</th>\n",
       "      <td id=\"T_33bd0_row4_col0\" class=\"data row4 col0\" >5.000000</td>\n",
       "      <td id=\"T_33bd0_row4_col1\" class=\"data row4 col1\" >nan</td>\n",
       "      <td id=\"T_33bd0_row4_col2\" class=\"data row4 col2\" >1.057737</td>\n",
       "      <td id=\"T_33bd0_row4_col3\" class=\"data row4 col3\" >0.165562</td>\n",
       "      <td id=\"T_33bd0_row4_col4\" class=\"data row4 col4\" >0.515018</td>\n",
       "    </tr>\n",
       "    <tr>\n",
       "      <th id=\"T_33bd0_level0_row5\" class=\"row_heading level0 row5\" >5</th>\n",
       "      <td id=\"T_33bd0_row5_col0\" class=\"data row5 col0\" >6.000000</td>\n",
       "      <td id=\"T_33bd0_row5_col1\" class=\"data row5 col1\" >-1.336936</td>\n",
       "      <td id=\"T_33bd0_row5_col2\" class=\"data row5 col2\" >0.562861</td>\n",
       "      <td id=\"T_33bd0_row5_col3\" class=\"data row5 col3\" >1.392855</td>\n",
       "      <td id=\"T_33bd0_row5_col4\" class=\"data row5 col4\" >-0.063328</td>\n",
       "    </tr>\n",
       "    <tr>\n",
       "      <th id=\"T_33bd0_level0_row6\" class=\"row_heading level0 row6\" >6</th>\n",
       "      <td id=\"T_33bd0_row6_col0\" class=\"data row6 col0\" >7.000000</td>\n",
       "      <td id=\"T_33bd0_row6_col1\" class=\"data row6 col1\" >0.121668</td>\n",
       "      <td id=\"T_33bd0_row6_col2\" class=\"data row6 col2\" >1.207603</td>\n",
       "      <td id=\"T_33bd0_row6_col3\" class=\"data row6 col3\" >-0.002040</td>\n",
       "      <td id=\"T_33bd0_row6_col4\" class=\"data row6 col4\" >1.627796</td>\n",
       "    </tr>\n",
       "    <tr>\n",
       "      <th id=\"T_33bd0_level0_row7\" class=\"row_heading level0 row7\" >7</th>\n",
       "      <td id=\"T_33bd0_row7_col0\" class=\"data row7 col0\" >8.000000</td>\n",
       "      <td id=\"T_33bd0_row7_col1\" class=\"data row7 col1\" >0.354493</td>\n",
       "      <td id=\"T_33bd0_row7_col2\" class=\"data row7 col2\" >1.037528</td>\n",
       "      <td id=\"T_33bd0_row7_col3\" class=\"data row7 col3\" >-0.385684</td>\n",
       "      <td id=\"T_33bd0_row7_col4\" class=\"data row7 col4\" >0.519818</td>\n",
       "    </tr>\n",
       "    <tr>\n",
       "      <th id=\"T_33bd0_level0_row8\" class=\"row_heading level0 row8\" >8</th>\n",
       "      <td id=\"T_33bd0_row8_col0\" class=\"data row8 col0\" >9.000000</td>\n",
       "      <td id=\"T_33bd0_row8_col1\" class=\"data row8 col1\" >1.686583</td>\n",
       "      <td id=\"T_33bd0_row8_col2\" class=\"data row8 col2\" >-1.325963</td>\n",
       "      <td id=\"T_33bd0_row8_col3\" class=\"data row8 col3\" >1.428984</td>\n",
       "      <td id=\"T_33bd0_row8_col4\" class=\"data row8 col4\" >-2.089354</td>\n",
       "    </tr>\n",
       "    <tr>\n",
       "      <th id=\"T_33bd0_level0_row9\" class=\"row_heading level0 row9\" >9</th>\n",
       "      <td id=\"T_33bd0_row9_col0\" class=\"data row9 col0\" >10.000000</td>\n",
       "      <td id=\"T_33bd0_row9_col1\" class=\"data row9 col1\" >-0.129820</td>\n",
       "      <td id=\"T_33bd0_row9_col2\" class=\"data row9 col2\" >0.631523</td>\n",
       "      <td id=\"T_33bd0_row9_col3\" class=\"data row9 col3\" >-0.586538</td>\n",
       "      <td id=\"T_33bd0_row9_col4\" class=\"data row9 col4\" >nan</td>\n",
       "    </tr>\n",
       "  </tbody>\n",
       "</table>\n"
      ],
      "text/plain": [
       "<pandas.io.formats.style.Styler at 0x1f4fab13290>"
      ]
     },
     "execution_count": 60,
     "metadata": {},
     "output_type": "execute_result"
    }
   ],
   "source": [
    "df.style.highlight_max(color= 'green')"
   ]
  },
  {
   "cell_type": "markdown",
   "id": "1682e417-0ab8-4ccd-ad29-9de19011f7e7",
   "metadata": {},
   "source": [
    "Create a dataframe of ten rows, four columns with random values. Write a Pandas program to highlight the minimum value in each column."
   ]
  },
  {
   "cell_type": "code",
   "execution_count": 61,
   "id": "c0ca33c9-4e0d-4a1d-aad5-7f69cb9999bf",
   "metadata": {},
   "outputs": [
    {
     "data": {
      "text/html": [
       "<style type=\"text/css\">\n",
       "#T_b3b2a_row0_col0, #T_b3b2a_row1_col2, #T_b3b2a_row2_col1, #T_b3b2a_row8_col4, #T_b3b2a_row9_col3 {\n",
       "  background-color: blue;\n",
       "}\n",
       "</style>\n",
       "<table id=\"T_b3b2a\">\n",
       "  <thead>\n",
       "    <tr>\n",
       "      <th class=\"blank level0\" >&nbsp;</th>\n",
       "      <th id=\"T_b3b2a_level0_col0\" class=\"col_heading level0 col0\" >A</th>\n",
       "      <th id=\"T_b3b2a_level0_col1\" class=\"col_heading level0 col1\" >B</th>\n",
       "      <th id=\"T_b3b2a_level0_col2\" class=\"col_heading level0 col2\" >C</th>\n",
       "      <th id=\"T_b3b2a_level0_col3\" class=\"col_heading level0 col3\" >D</th>\n",
       "      <th id=\"T_b3b2a_level0_col4\" class=\"col_heading level0 col4\" >E</th>\n",
       "    </tr>\n",
       "  </thead>\n",
       "  <tbody>\n",
       "    <tr>\n",
       "      <th id=\"T_b3b2a_level0_row0\" class=\"row_heading level0 row0\" >0</th>\n",
       "      <td id=\"T_b3b2a_row0_col0\" class=\"data row0 col0\" >1.000000</td>\n",
       "      <td id=\"T_b3b2a_row0_col1\" class=\"data row0 col1\" >1.329212</td>\n",
       "      <td id=\"T_b3b2a_row0_col2\" class=\"data row0 col2\" >nan</td>\n",
       "      <td id=\"T_b3b2a_row0_col3\" class=\"data row0 col3\" >-0.316280</td>\n",
       "      <td id=\"T_b3b2a_row0_col4\" class=\"data row0 col4\" >-0.990810</td>\n",
       "    </tr>\n",
       "    <tr>\n",
       "      <th id=\"T_b3b2a_level0_row1\" class=\"row_heading level0 row1\" >1</th>\n",
       "      <td id=\"T_b3b2a_row1_col0\" class=\"data row1 col0\" >2.000000</td>\n",
       "      <td id=\"T_b3b2a_row1_col1\" class=\"data row1 col1\" >-1.070816</td>\n",
       "      <td id=\"T_b3b2a_row1_col2\" class=\"data row1 col2\" >-1.438713</td>\n",
       "      <td id=\"T_b3b2a_row1_col3\" class=\"data row1 col3\" >0.564417</td>\n",
       "      <td id=\"T_b3b2a_row1_col4\" class=\"data row1 col4\" >0.295722</td>\n",
       "    </tr>\n",
       "    <tr>\n",
       "      <th id=\"T_b3b2a_level0_row2\" class=\"row_heading level0 row2\" >2</th>\n",
       "      <td id=\"T_b3b2a_row2_col0\" class=\"data row2 col0\" >3.000000</td>\n",
       "      <td id=\"T_b3b2a_row2_col1\" class=\"data row2 col1\" >-1.626404</td>\n",
       "      <td id=\"T_b3b2a_row2_col2\" class=\"data row2 col2\" >0.219565</td>\n",
       "      <td id=\"T_b3b2a_row2_col3\" class=\"data row2 col3\" >0.678805</td>\n",
       "      <td id=\"T_b3b2a_row2_col4\" class=\"data row2 col4\" >1.889273</td>\n",
       "    </tr>\n",
       "    <tr>\n",
       "      <th id=\"T_b3b2a_level0_row3\" class=\"row_heading level0 row3\" >3</th>\n",
       "      <td id=\"T_b3b2a_row3_col0\" class=\"data row3 col0\" >4.000000</td>\n",
       "      <td id=\"T_b3b2a_row3_col1\" class=\"data row3 col1\" >0.961538</td>\n",
       "      <td id=\"T_b3b2a_row3_col2\" class=\"data row3 col2\" >0.104011</td>\n",
       "      <td id=\"T_b3b2a_row3_col3\" class=\"data row3 col3\" >nan</td>\n",
       "      <td id=\"T_b3b2a_row3_col4\" class=\"data row3 col4\" >0.850229</td>\n",
       "    </tr>\n",
       "    <tr>\n",
       "      <th id=\"T_b3b2a_level0_row4\" class=\"row_heading level0 row4\" >4</th>\n",
       "      <td id=\"T_b3b2a_row4_col0\" class=\"data row4 col0\" >5.000000</td>\n",
       "      <td id=\"T_b3b2a_row4_col1\" class=\"data row4 col1\" >nan</td>\n",
       "      <td id=\"T_b3b2a_row4_col2\" class=\"data row4 col2\" >1.057737</td>\n",
       "      <td id=\"T_b3b2a_row4_col3\" class=\"data row4 col3\" >0.165562</td>\n",
       "      <td id=\"T_b3b2a_row4_col4\" class=\"data row4 col4\" >0.515018</td>\n",
       "    </tr>\n",
       "    <tr>\n",
       "      <th id=\"T_b3b2a_level0_row5\" class=\"row_heading level0 row5\" >5</th>\n",
       "      <td id=\"T_b3b2a_row5_col0\" class=\"data row5 col0\" >6.000000</td>\n",
       "      <td id=\"T_b3b2a_row5_col1\" class=\"data row5 col1\" >-1.336936</td>\n",
       "      <td id=\"T_b3b2a_row5_col2\" class=\"data row5 col2\" >0.562861</td>\n",
       "      <td id=\"T_b3b2a_row5_col3\" class=\"data row5 col3\" >1.392855</td>\n",
       "      <td id=\"T_b3b2a_row5_col4\" class=\"data row5 col4\" >-0.063328</td>\n",
       "    </tr>\n",
       "    <tr>\n",
       "      <th id=\"T_b3b2a_level0_row6\" class=\"row_heading level0 row6\" >6</th>\n",
       "      <td id=\"T_b3b2a_row6_col0\" class=\"data row6 col0\" >7.000000</td>\n",
       "      <td id=\"T_b3b2a_row6_col1\" class=\"data row6 col1\" >0.121668</td>\n",
       "      <td id=\"T_b3b2a_row6_col2\" class=\"data row6 col2\" >1.207603</td>\n",
       "      <td id=\"T_b3b2a_row6_col3\" class=\"data row6 col3\" >-0.002040</td>\n",
       "      <td id=\"T_b3b2a_row6_col4\" class=\"data row6 col4\" >1.627796</td>\n",
       "    </tr>\n",
       "    <tr>\n",
       "      <th id=\"T_b3b2a_level0_row7\" class=\"row_heading level0 row7\" >7</th>\n",
       "      <td id=\"T_b3b2a_row7_col0\" class=\"data row7 col0\" >8.000000</td>\n",
       "      <td id=\"T_b3b2a_row7_col1\" class=\"data row7 col1\" >0.354493</td>\n",
       "      <td id=\"T_b3b2a_row7_col2\" class=\"data row7 col2\" >1.037528</td>\n",
       "      <td id=\"T_b3b2a_row7_col3\" class=\"data row7 col3\" >-0.385684</td>\n",
       "      <td id=\"T_b3b2a_row7_col4\" class=\"data row7 col4\" >0.519818</td>\n",
       "    </tr>\n",
       "    <tr>\n",
       "      <th id=\"T_b3b2a_level0_row8\" class=\"row_heading level0 row8\" >8</th>\n",
       "      <td id=\"T_b3b2a_row8_col0\" class=\"data row8 col0\" >9.000000</td>\n",
       "      <td id=\"T_b3b2a_row8_col1\" class=\"data row8 col1\" >1.686583</td>\n",
       "      <td id=\"T_b3b2a_row8_col2\" class=\"data row8 col2\" >-1.325963</td>\n",
       "      <td id=\"T_b3b2a_row8_col3\" class=\"data row8 col3\" >1.428984</td>\n",
       "      <td id=\"T_b3b2a_row8_col4\" class=\"data row8 col4\" >-2.089354</td>\n",
       "    </tr>\n",
       "    <tr>\n",
       "      <th id=\"T_b3b2a_level0_row9\" class=\"row_heading level0 row9\" >9</th>\n",
       "      <td id=\"T_b3b2a_row9_col0\" class=\"data row9 col0\" >10.000000</td>\n",
       "      <td id=\"T_b3b2a_row9_col1\" class=\"data row9 col1\" >-0.129820</td>\n",
       "      <td id=\"T_b3b2a_row9_col2\" class=\"data row9 col2\" >0.631523</td>\n",
       "      <td id=\"T_b3b2a_row9_col3\" class=\"data row9 col3\" >-0.586538</td>\n",
       "      <td id=\"T_b3b2a_row9_col4\" class=\"data row9 col4\" >nan</td>\n",
       "    </tr>\n",
       "  </tbody>\n",
       "</table>\n"
      ],
      "text/plain": [
       "<pandas.io.formats.style.Styler at 0x1f4f3aedee0>"
      ]
     },
     "execution_count": 61,
     "metadata": {},
     "output_type": "execute_result"
    }
   ],
   "source": [
    "df.style.highlight_min(color = 'blue')"
   ]
  },
  {
   "cell_type": "markdown",
   "id": "c0562f05-98c3-4fe7-9931-e235ff53cdc2",
   "metadata": {},
   "source": [
    "Create a dataframe of ten rows, four columns with random values. Write a Pandas program to display bar charts in dataframe on specified columns."
   ]
  },
  {
   "cell_type": "code",
   "execution_count": 65,
   "id": "939a4318-d66d-4448-9912-7776f4e29467",
   "metadata": {},
   "outputs": [
    {
     "data": {
      "text/html": [
       "<style type=\"text/css\">\n",
       "#T_b83a4_row0_col0 {\n",
       "  width: 10em;\n",
       "  background: linear-gradient(90deg, #d65f5f 10.0%, transparent 10.0%);\n",
       "}\n",
       "#T_b83a4_row0_col1 {\n",
       "  width: 10em;\n",
       "  background: linear-gradient(90deg, transparent 49.1%, #d65f5f 49.1%, #d65f5f 89.2%, transparent 89.2%);\n",
       "}\n",
       "#T_b83a4_row1_col0 {\n",
       "  width: 10em;\n",
       "  background: linear-gradient(90deg, #d65f5f 20.0%, transparent 20.0%);\n",
       "}\n",
       "#T_b83a4_row1_col1 {\n",
       "  width: 10em;\n",
       "  background: linear-gradient(90deg, transparent 16.8%, #d65f5f 16.8%, #d65f5f 49.1%, transparent 49.1%);\n",
       "}\n",
       "#T_b83a4_row2_col0 {\n",
       "  width: 10em;\n",
       "  background: linear-gradient(90deg, #d65f5f 30.0%, transparent 30.0%);\n",
       "}\n",
       "#T_b83a4_row2_col1 {\n",
       "  width: 10em;\n",
       "  background: linear-gradient(90deg, #d65f5f 49.1%, transparent 49.1%);\n",
       "}\n",
       "#T_b83a4_row3_col0 {\n",
       "  width: 10em;\n",
       "  background: linear-gradient(90deg, #d65f5f 40.0%, transparent 40.0%);\n",
       "}\n",
       "#T_b83a4_row3_col1 {\n",
       "  width: 10em;\n",
       "  background: linear-gradient(90deg, transparent 49.1%, #d65f5f 49.1%, #d65f5f 78.1%, transparent 78.1%);\n",
       "}\n",
       "#T_b83a4_row4_col0 {\n",
       "  width: 10em;\n",
       "  background: linear-gradient(90deg, #d65f5f 50.0%, transparent 50.0%);\n",
       "}\n",
       "#T_b83a4_row4_col1 {\n",
       "  width: 10em;\n",
       "}\n",
       "#T_b83a4_row5_col0 {\n",
       "  width: 10em;\n",
       "  background: linear-gradient(90deg, #d65f5f 60.0%, transparent 60.0%);\n",
       "}\n",
       "#T_b83a4_row5_col1 {\n",
       "  width: 10em;\n",
       "  background: linear-gradient(90deg, transparent 8.7%, #d65f5f 8.7%, #d65f5f 49.1%, transparent 49.1%);\n",
       "}\n",
       "#T_b83a4_row6_col0 {\n",
       "  width: 10em;\n",
       "  background: linear-gradient(90deg, #d65f5f 70.0%, transparent 70.0%);\n",
       "}\n",
       "#T_b83a4_row6_col1 {\n",
       "  width: 10em;\n",
       "  background: linear-gradient(90deg, transparent 49.1%, #d65f5f 49.1%, #d65f5f 52.8%, transparent 52.8%);\n",
       "}\n",
       "#T_b83a4_row7_col0 {\n",
       "  width: 10em;\n",
       "  background: linear-gradient(90deg, #d65f5f 80.0%, transparent 80.0%);\n",
       "}\n",
       "#T_b83a4_row7_col1 {\n",
       "  width: 10em;\n",
       "  background: linear-gradient(90deg, transparent 49.1%, #d65f5f 49.1%, #d65f5f 59.8%, transparent 59.8%);\n",
       "}\n",
       "#T_b83a4_row8_col0 {\n",
       "  width: 10em;\n",
       "  background: linear-gradient(90deg, #d65f5f 90.0%, transparent 90.0%);\n",
       "}\n",
       "#T_b83a4_row8_col1 {\n",
       "  width: 10em;\n",
       "  background: linear-gradient(90deg, transparent 49.1%, #d65f5f 49.1%, #d65f5f 100.0%, transparent 100.0%);\n",
       "}\n",
       "#T_b83a4_row9_col0 {\n",
       "  width: 10em;\n",
       "  background: linear-gradient(90deg, #d65f5f 100.0%, transparent 100.0%);\n",
       "}\n",
       "#T_b83a4_row9_col1 {\n",
       "  width: 10em;\n",
       "  background: linear-gradient(90deg, transparent 45.2%, #d65f5f 45.2%, #d65f5f 49.1%, transparent 49.1%);\n",
       "}\n",
       "</style>\n",
       "<table id=\"T_b83a4\">\n",
       "  <thead>\n",
       "    <tr>\n",
       "      <th class=\"blank level0\" >&nbsp;</th>\n",
       "      <th id=\"T_b83a4_level0_col0\" class=\"col_heading level0 col0\" >A</th>\n",
       "      <th id=\"T_b83a4_level0_col1\" class=\"col_heading level0 col1\" >B</th>\n",
       "      <th id=\"T_b83a4_level0_col2\" class=\"col_heading level0 col2\" >C</th>\n",
       "      <th id=\"T_b83a4_level0_col3\" class=\"col_heading level0 col3\" >D</th>\n",
       "      <th id=\"T_b83a4_level0_col4\" class=\"col_heading level0 col4\" >E</th>\n",
       "    </tr>\n",
       "  </thead>\n",
       "  <tbody>\n",
       "    <tr>\n",
       "      <th id=\"T_b83a4_level0_row0\" class=\"row_heading level0 row0\" >0</th>\n",
       "      <td id=\"T_b83a4_row0_col0\" class=\"data row0 col0\" >1.000000</td>\n",
       "      <td id=\"T_b83a4_row0_col1\" class=\"data row0 col1\" >1.329212</td>\n",
       "      <td id=\"T_b83a4_row0_col2\" class=\"data row0 col2\" >nan</td>\n",
       "      <td id=\"T_b83a4_row0_col3\" class=\"data row0 col3\" >-0.316280</td>\n",
       "      <td id=\"T_b83a4_row0_col4\" class=\"data row0 col4\" >-0.990810</td>\n",
       "    </tr>\n",
       "    <tr>\n",
       "      <th id=\"T_b83a4_level0_row1\" class=\"row_heading level0 row1\" >1</th>\n",
       "      <td id=\"T_b83a4_row1_col0\" class=\"data row1 col0\" >2.000000</td>\n",
       "      <td id=\"T_b83a4_row1_col1\" class=\"data row1 col1\" >-1.070816</td>\n",
       "      <td id=\"T_b83a4_row1_col2\" class=\"data row1 col2\" >-1.438713</td>\n",
       "      <td id=\"T_b83a4_row1_col3\" class=\"data row1 col3\" >0.564417</td>\n",
       "      <td id=\"T_b83a4_row1_col4\" class=\"data row1 col4\" >0.295722</td>\n",
       "    </tr>\n",
       "    <tr>\n",
       "      <th id=\"T_b83a4_level0_row2\" class=\"row_heading level0 row2\" >2</th>\n",
       "      <td id=\"T_b83a4_row2_col0\" class=\"data row2 col0\" >3.000000</td>\n",
       "      <td id=\"T_b83a4_row2_col1\" class=\"data row2 col1\" >-1.626404</td>\n",
       "      <td id=\"T_b83a4_row2_col2\" class=\"data row2 col2\" >0.219565</td>\n",
       "      <td id=\"T_b83a4_row2_col3\" class=\"data row2 col3\" >0.678805</td>\n",
       "      <td id=\"T_b83a4_row2_col4\" class=\"data row2 col4\" >1.889273</td>\n",
       "    </tr>\n",
       "    <tr>\n",
       "      <th id=\"T_b83a4_level0_row3\" class=\"row_heading level0 row3\" >3</th>\n",
       "      <td id=\"T_b83a4_row3_col0\" class=\"data row3 col0\" >4.000000</td>\n",
       "      <td id=\"T_b83a4_row3_col1\" class=\"data row3 col1\" >0.961538</td>\n",
       "      <td id=\"T_b83a4_row3_col2\" class=\"data row3 col2\" >0.104011</td>\n",
       "      <td id=\"T_b83a4_row3_col3\" class=\"data row3 col3\" >nan</td>\n",
       "      <td id=\"T_b83a4_row3_col4\" class=\"data row3 col4\" >0.850229</td>\n",
       "    </tr>\n",
       "    <tr>\n",
       "      <th id=\"T_b83a4_level0_row4\" class=\"row_heading level0 row4\" >4</th>\n",
       "      <td id=\"T_b83a4_row4_col0\" class=\"data row4 col0\" >5.000000</td>\n",
       "      <td id=\"T_b83a4_row4_col1\" class=\"data row4 col1\" >nan</td>\n",
       "      <td id=\"T_b83a4_row4_col2\" class=\"data row4 col2\" >1.057737</td>\n",
       "      <td id=\"T_b83a4_row4_col3\" class=\"data row4 col3\" >0.165562</td>\n",
       "      <td id=\"T_b83a4_row4_col4\" class=\"data row4 col4\" >0.515018</td>\n",
       "    </tr>\n",
       "    <tr>\n",
       "      <th id=\"T_b83a4_level0_row5\" class=\"row_heading level0 row5\" >5</th>\n",
       "      <td id=\"T_b83a4_row5_col0\" class=\"data row5 col0\" >6.000000</td>\n",
       "      <td id=\"T_b83a4_row5_col1\" class=\"data row5 col1\" >-1.336936</td>\n",
       "      <td id=\"T_b83a4_row5_col2\" class=\"data row5 col2\" >0.562861</td>\n",
       "      <td id=\"T_b83a4_row5_col3\" class=\"data row5 col3\" >1.392855</td>\n",
       "      <td id=\"T_b83a4_row5_col4\" class=\"data row5 col4\" >-0.063328</td>\n",
       "    </tr>\n",
       "    <tr>\n",
       "      <th id=\"T_b83a4_level0_row6\" class=\"row_heading level0 row6\" >6</th>\n",
       "      <td id=\"T_b83a4_row6_col0\" class=\"data row6 col0\" >7.000000</td>\n",
       "      <td id=\"T_b83a4_row6_col1\" class=\"data row6 col1\" >0.121668</td>\n",
       "      <td id=\"T_b83a4_row6_col2\" class=\"data row6 col2\" >1.207603</td>\n",
       "      <td id=\"T_b83a4_row6_col3\" class=\"data row6 col3\" >-0.002040</td>\n",
       "      <td id=\"T_b83a4_row6_col4\" class=\"data row6 col4\" >1.627796</td>\n",
       "    </tr>\n",
       "    <tr>\n",
       "      <th id=\"T_b83a4_level0_row7\" class=\"row_heading level0 row7\" >7</th>\n",
       "      <td id=\"T_b83a4_row7_col0\" class=\"data row7 col0\" >8.000000</td>\n",
       "      <td id=\"T_b83a4_row7_col1\" class=\"data row7 col1\" >0.354493</td>\n",
       "      <td id=\"T_b83a4_row7_col2\" class=\"data row7 col2\" >1.037528</td>\n",
       "      <td id=\"T_b83a4_row7_col3\" class=\"data row7 col3\" >-0.385684</td>\n",
       "      <td id=\"T_b83a4_row7_col4\" class=\"data row7 col4\" >0.519818</td>\n",
       "    </tr>\n",
       "    <tr>\n",
       "      <th id=\"T_b83a4_level0_row8\" class=\"row_heading level0 row8\" >8</th>\n",
       "      <td id=\"T_b83a4_row8_col0\" class=\"data row8 col0\" >9.000000</td>\n",
       "      <td id=\"T_b83a4_row8_col1\" class=\"data row8 col1\" >1.686583</td>\n",
       "      <td id=\"T_b83a4_row8_col2\" class=\"data row8 col2\" >-1.325963</td>\n",
       "      <td id=\"T_b83a4_row8_col3\" class=\"data row8 col3\" >1.428984</td>\n",
       "      <td id=\"T_b83a4_row8_col4\" class=\"data row8 col4\" >-2.089354</td>\n",
       "    </tr>\n",
       "    <tr>\n",
       "      <th id=\"T_b83a4_level0_row9\" class=\"row_heading level0 row9\" >9</th>\n",
       "      <td id=\"T_b83a4_row9_col0\" class=\"data row9 col0\" >10.000000</td>\n",
       "      <td id=\"T_b83a4_row9_col1\" class=\"data row9 col1\" >-0.129820</td>\n",
       "      <td id=\"T_b83a4_row9_col2\" class=\"data row9 col2\" >0.631523</td>\n",
       "      <td id=\"T_b83a4_row9_col3\" class=\"data row9 col3\" >-0.586538</td>\n",
       "      <td id=\"T_b83a4_row9_col4\" class=\"data row9 col4\" >nan</td>\n",
       "    </tr>\n",
       "  </tbody>\n",
       "</table>\n"
      ],
      "text/plain": [
       "<pandas.io.formats.style.Styler at 0x1f4fab119a0>"
      ]
     },
     "execution_count": 65,
     "metadata": {},
     "output_type": "execute_result"
    }
   ],
   "source": [
    "df.style.bar(subset= ['A','B'])"
   ]
  },
  {
   "cell_type": "markdown",
   "id": "83361276-70cf-4841-8315-a40b93f8f19d",
   "metadata": {
    "jp-MarkdownHeadingCollapsed": true
   },
   "source": [
    "# Pandas Excel Data Analysis"
   ]
  },
  {
   "cell_type": "markdown",
   "id": "a899aa86-b437-48fb-aafd-2f341fea7949",
   "metadata": {},
   "source": [
    "Write a Pandas program to import excel data (coalpublic2013.xlsx ) into a Pandas dataframe."
   ]
  },
  {
   "cell_type": "code",
   "execution_count": 70,
   "id": "e5e86533-5718-4c02-9026-aacca0128757",
   "metadata": {},
   "outputs": [
    {
     "data": {
      "text/plain": [
       "'C:\\\\Users\\\\JeetPrajapati\\\\Desktop\\\\Learning\\\\Python Practice\\\\python-practice\\\\Practice Exercise\\\\w3resource'"
      ]
     },
     "execution_count": 70,
     "metadata": {},
     "output_type": "execute_result"
    }
   ],
   "source": [
    "import os\n",
    "os.getcwd()"
   ]
  },
  {
   "cell_type": "code",
   "execution_count": 66,
   "id": "944ef883-a594-4373-8b6f-4e885e93d39b",
   "metadata": {},
   "outputs": [],
   "source": [
    "import pandas as pd"
   ]
  },
  {
   "cell_type": "code",
   "execution_count": 74,
   "id": "b1fdbd36-cc03-417b-bd5c-27711849a4e4",
   "metadata": {},
   "outputs": [
    {
     "data": {
      "text/html": [
       "<div>\n",
       "<style scoped>\n",
       "    .dataframe tbody tr th:only-of-type {\n",
       "        vertical-align: middle;\n",
       "    }\n",
       "\n",
       "    .dataframe tbody tr th {\n",
       "        vertical-align: top;\n",
       "    }\n",
       "\n",
       "    .dataframe thead th {\n",
       "        text-align: right;\n",
       "    }\n",
       "</style>\n",
       "<table border=\"1\" class=\"dataframe\">\n",
       "  <thead>\n",
       "    <tr style=\"text-align: right;\">\n",
       "      <th></th>\n",
       "      <th>Year</th>\n",
       "      <th>MSHA ID</th>\n",
       "      <th>Mine_Name</th>\n",
       "      <th>Production</th>\n",
       "      <th>Labor_Hours</th>\n",
       "    </tr>\n",
       "  </thead>\n",
       "  <tbody>\n",
       "    <tr>\n",
       "      <th>0</th>\n",
       "      <td>2013</td>\n",
       "      <td>103381</td>\n",
       "      <td>Tacoa Highwall Miner</td>\n",
       "      <td>56004</td>\n",
       "      <td>22392</td>\n",
       "    </tr>\n",
       "    <tr>\n",
       "      <th>1</th>\n",
       "      <td>2013</td>\n",
       "      <td>103404</td>\n",
       "      <td>Reid School Mine</td>\n",
       "      <td>28807</td>\n",
       "      <td>28447</td>\n",
       "    </tr>\n",
       "    <tr>\n",
       "      <th>2</th>\n",
       "      <td>2013</td>\n",
       "      <td>100759</td>\n",
       "      <td>North River #1 Underground Min</td>\n",
       "      <td>1440115</td>\n",
       "      <td>474784</td>\n",
       "    </tr>\n",
       "    <tr>\n",
       "      <th>3</th>\n",
       "      <td>2013</td>\n",
       "      <td>103246</td>\n",
       "      <td>Bear Creek</td>\n",
       "      <td>87587</td>\n",
       "      <td>29193</td>\n",
       "    </tr>\n",
       "    <tr>\n",
       "      <th>4</th>\n",
       "      <td>2013</td>\n",
       "      <td>103451</td>\n",
       "      <td>Knight Mine</td>\n",
       "      <td>147499</td>\n",
       "      <td>46393</td>\n",
       "    </tr>\n",
       "  </tbody>\n",
       "</table>\n",
       "</div>"
      ],
      "text/plain": [
       "   Year  MSHA ID                       Mine_Name  Production  Labor_Hours\n",
       "0  2013   103381            Tacoa Highwall Miner       56004        22392\n",
       "1  2013   103404                Reid School Mine       28807        28447\n",
       "2  2013   100759  North River #1 Underground Min     1440115       474784\n",
       "3  2013   103246                      Bear Creek       87587        29193\n",
       "4  2013   103451                     Knight Mine      147499        46393"
      ]
     },
     "execution_count": 74,
     "metadata": {},
     "output_type": "execute_result"
    }
   ],
   "source": [
    "data = pd.read_excel('20_coalpublic2013.xlsx')\n",
    "data.head(5)"
   ]
  },
  {
   "cell_type": "code",
   "execution_count": 75,
   "id": "b9764f35-269b-4f32-9985-e37424e3eb4e",
   "metadata": {},
   "outputs": [
    {
     "data": {
      "text/plain": [
       "Year            int64\n",
       "MSHA ID         int64\n",
       "Mine_Name      object\n",
       "Production      int64\n",
       "Labor_Hours     int64\n",
       "dtype: object"
      ]
     },
     "execution_count": 75,
     "metadata": {},
     "output_type": "execute_result"
    }
   ],
   "source": [
    "data.dtypes"
   ]
  },
  {
   "cell_type": "code",
   "execution_count": 78,
   "id": "716dda1f-82eb-43f1-b725-871ca90a6d68",
   "metadata": {},
   "outputs": [
    {
     "data": {
      "text/plain": [
       "250"
      ]
     },
     "execution_count": 78,
     "metadata": {},
     "output_type": "execute_result"
    }
   ],
   "source": [
    "data.size"
   ]
  },
  {
   "cell_type": "code",
   "execution_count": 79,
   "id": "07971fed-5f46-4424-8c73-fae846da6575",
   "metadata": {},
   "outputs": [
    {
     "data": {
      "text/plain": [
       "Index(['Year', 'MSHA ID', 'Mine_Name', 'Production', 'Labor_Hours'], dtype='object')"
      ]
     },
     "execution_count": 79,
     "metadata": {},
     "output_type": "execute_result"
    }
   ],
   "source": [
    "data.columns"
   ]
  },
  {
   "cell_type": "code",
   "execution_count": 80,
   "id": "4e2adffd-810d-4727-b72a-d9521edf8489",
   "metadata": {},
   "outputs": [
    {
     "data": {
      "text/html": [
       "<div>\n",
       "<style scoped>\n",
       "    .dataframe tbody tr th:only-of-type {\n",
       "        vertical-align: middle;\n",
       "    }\n",
       "\n",
       "    .dataframe tbody tr th {\n",
       "        vertical-align: top;\n",
       "    }\n",
       "\n",
       "    .dataframe thead th {\n",
       "        text-align: right;\n",
       "    }\n",
       "</style>\n",
       "<table border=\"1\" class=\"dataframe\">\n",
       "  <thead>\n",
       "    <tr style=\"text-align: right;\">\n",
       "      <th></th>\n",
       "      <th>Year</th>\n",
       "      <th>MSHA ID</th>\n",
       "      <th>Production</th>\n",
       "      <th>Labor_Hours</th>\n",
       "    </tr>\n",
       "  </thead>\n",
       "  <tbody>\n",
       "    <tr>\n",
       "      <th>count</th>\n",
       "      <td>50.0</td>\n",
       "      <td>5.000000e+01</td>\n",
       "      <td>5.000000e+01</td>\n",
       "      <td>5.000000e+01</td>\n",
       "    </tr>\n",
       "    <tr>\n",
       "      <th>mean</th>\n",
       "      <td>2013.0</td>\n",
       "      <td>2.311688e+05</td>\n",
       "      <td>5.570865e+05</td>\n",
       "      <td>2.219763e+05</td>\n",
       "    </tr>\n",
       "    <tr>\n",
       "      <th>std</th>\n",
       "      <td>0.0</td>\n",
       "      <td>7.167840e+05</td>\n",
       "      <td>1.368744e+06</td>\n",
       "      <td>4.577780e+05</td>\n",
       "    </tr>\n",
       "    <tr>\n",
       "      <th>min</th>\n",
       "      <td>2013.0</td>\n",
       "      <td>1.003290e+05</td>\n",
       "      <td>0.000000e+00</td>\n",
       "      <td>2.200000e+02</td>\n",
       "    </tr>\n",
       "    <tr>\n",
       "      <th>25%</th>\n",
       "      <td>2013.0</td>\n",
       "      <td>1.031550e+05</td>\n",
       "      <td>2.599225e+04</td>\n",
       "      <td>2.439375e+04</td>\n",
       "    </tr>\n",
       "    <tr>\n",
       "      <th>50%</th>\n",
       "      <td>2013.0</td>\n",
       "      <td>1.033370e+05</td>\n",
       "      <td>1.296380e+05</td>\n",
       "      <td>7.364600e+04</td>\n",
       "    </tr>\n",
       "    <tr>\n",
       "      <th>75%</th>\n",
       "      <td>2013.0</td>\n",
       "      <td>1.034085e+05</td>\n",
       "      <td>2.955160e+05</td>\n",
       "      <td>1.610015e+05</td>\n",
       "    </tr>\n",
       "    <tr>\n",
       "      <th>max</th>\n",
       "      <td>2013.0</td>\n",
       "      <td>5.000030e+06</td>\n",
       "      <td>7.602722e+06</td>\n",
       "      <td>2.464719e+06</td>\n",
       "    </tr>\n",
       "  </tbody>\n",
       "</table>\n",
       "</div>"
      ],
      "text/plain": [
       "         Year       MSHA ID    Production   Labor_Hours\n",
       "count    50.0  5.000000e+01  5.000000e+01  5.000000e+01\n",
       "mean   2013.0  2.311688e+05  5.570865e+05  2.219763e+05\n",
       "std       0.0  7.167840e+05  1.368744e+06  4.577780e+05\n",
       "min    2013.0  1.003290e+05  0.000000e+00  2.200000e+02\n",
       "25%    2013.0  1.031550e+05  2.599225e+04  2.439375e+04\n",
       "50%    2013.0  1.033370e+05  1.296380e+05  7.364600e+04\n",
       "75%    2013.0  1.034085e+05  2.955160e+05  1.610015e+05\n",
       "max    2013.0  5.000030e+06  7.602722e+06  2.464719e+06"
      ]
     },
     "execution_count": 80,
     "metadata": {},
     "output_type": "execute_result"
    }
   ],
   "source": [
    "data.describe()"
   ]
  },
  {
   "cell_type": "markdown",
   "id": "f16bb1d5-1fc6-4fa7-8d8b-ec4f14e896ff",
   "metadata": {},
   "source": [
    "Write a Pandas program to insert a column in the sixth position of the said excel sheet and fill it with NaN values."
   ]
  },
  {
   "cell_type": "code",
   "execution_count": 81,
   "id": "96ab5542-576b-4366-ad63-571dfc39eeb2",
   "metadata": {},
   "outputs": [],
   "source": [
    "import numpy as np"
   ]
  },
  {
   "cell_type": "code",
   "execution_count": 82,
   "id": "dc0c9c1b-f0c2-4613-9ea6-d26b11e41f3f",
   "metadata": {},
   "outputs": [],
   "source": [
    "data.insert(3, 'Column', np.nan)"
   ]
  },
  {
   "cell_type": "code",
   "execution_count": 83,
   "id": "05077b01-2107-4e55-965a-7283de10be11",
   "metadata": {},
   "outputs": [
    {
     "data": {
      "text/html": [
       "<div>\n",
       "<style scoped>\n",
       "    .dataframe tbody tr th:only-of-type {\n",
       "        vertical-align: middle;\n",
       "    }\n",
       "\n",
       "    .dataframe tbody tr th {\n",
       "        vertical-align: top;\n",
       "    }\n",
       "\n",
       "    .dataframe thead th {\n",
       "        text-align: right;\n",
       "    }\n",
       "</style>\n",
       "<table border=\"1\" class=\"dataframe\">\n",
       "  <thead>\n",
       "    <tr style=\"text-align: right;\">\n",
       "      <th></th>\n",
       "      <th>Year</th>\n",
       "      <th>MSHA ID</th>\n",
       "      <th>Mine_Name</th>\n",
       "      <th>Column</th>\n",
       "      <th>Production</th>\n",
       "      <th>Labor_Hours</th>\n",
       "    </tr>\n",
       "  </thead>\n",
       "  <tbody>\n",
       "    <tr>\n",
       "      <th>0</th>\n",
       "      <td>2013</td>\n",
       "      <td>103381</td>\n",
       "      <td>Tacoa Highwall Miner</td>\n",
       "      <td>NaN</td>\n",
       "      <td>56004</td>\n",
       "      <td>22392</td>\n",
       "    </tr>\n",
       "    <tr>\n",
       "      <th>1</th>\n",
       "      <td>2013</td>\n",
       "      <td>103404</td>\n",
       "      <td>Reid School Mine</td>\n",
       "      <td>NaN</td>\n",
       "      <td>28807</td>\n",
       "      <td>28447</td>\n",
       "    </tr>\n",
       "    <tr>\n",
       "      <th>2</th>\n",
       "      <td>2013</td>\n",
       "      <td>100759</td>\n",
       "      <td>North River #1 Underground Min</td>\n",
       "      <td>NaN</td>\n",
       "      <td>1440115</td>\n",
       "      <td>474784</td>\n",
       "    </tr>\n",
       "    <tr>\n",
       "      <th>3</th>\n",
       "      <td>2013</td>\n",
       "      <td>103246</td>\n",
       "      <td>Bear Creek</td>\n",
       "      <td>NaN</td>\n",
       "      <td>87587</td>\n",
       "      <td>29193</td>\n",
       "    </tr>\n",
       "    <tr>\n",
       "      <th>4</th>\n",
       "      <td>2013</td>\n",
       "      <td>103451</td>\n",
       "      <td>Knight Mine</td>\n",
       "      <td>NaN</td>\n",
       "      <td>147499</td>\n",
       "      <td>46393</td>\n",
       "    </tr>\n",
       "  </tbody>\n",
       "</table>\n",
       "</div>"
      ],
      "text/plain": [
       "   Year  MSHA ID                       Mine_Name  Column  Production  \\\n",
       "0  2013   103381            Tacoa Highwall Miner     NaN       56004   \n",
       "1  2013   103404                Reid School Mine     NaN       28807   \n",
       "2  2013   100759  North River #1 Underground Min     NaN     1440115   \n",
       "3  2013   103246                      Bear Creek     NaN       87587   \n",
       "4  2013   103451                     Knight Mine     NaN      147499   \n",
       "\n",
       "   Labor_Hours  \n",
       "0        22392  \n",
       "1        28447  \n",
       "2       474784  \n",
       "3        29193  \n",
       "4        46393  "
      ]
     },
     "execution_count": 83,
     "metadata": {},
     "output_type": "execute_result"
    }
   ],
   "source": [
    "data.head(5)"
   ]
  },
  {
   "cell_type": "markdown",
   "id": "4ff5270f-045d-4044-b8c4-b6ce8dfc2e66",
   "metadata": {},
   "source": [
    "Write a Pandas program to import excel data (coalpublic2013.xlsx ) into a dataframe and draw a bar plot where each bar will represent one of the top 10 production."
   ]
  },
  {
   "cell_type": "code",
   "execution_count": 85,
   "id": "077d8e4d-41d0-40d4-89a0-1e024ae33c16",
   "metadata": {},
   "outputs": [
    {
     "data": {
      "text/plain": [
       "49    7602722\n",
       "25    5405412\n",
       "24    2622528\n",
       "7     2269014\n",
       "48    1631584\n",
       "9     1453024\n",
       "2     1440115\n",
       "32     537429\n",
       "43     407841\n",
       "34     375715\n",
       "Name: Production, dtype: int64"
      ]
     },
     "execution_count": 85,
     "metadata": {},
     "output_type": "execute_result"
    }
   ],
   "source": [
    "sd = data['Production'].sort_values(ascending=False)\n",
    "sd.head(10)"
   ]
  },
  {
   "cell_type": "code",
   "execution_count": 86,
   "id": "cae72aa4-e2db-4aac-a9ca-327c9dca9997",
   "metadata": {},
   "outputs": [],
   "source": [
    "import matplotlib.pyplot as plt"
   ]
  },
  {
   "cell_type": "code",
   "execution_count": 87,
   "id": "cf72ce68-2d69-4f51-874b-bd801b6b53b1",
   "metadata": {},
   "outputs": [
    {
     "data": {
      "image/png": "[encoded data removed]",
      "text/plain": [
       "<Figure size 640x480 with 1 Axes>"
      ]
     },
     "metadata": {},
     "output_type": "display_data"
    }
   ],
   "source": [
    "sd.head(10).plot(kind = 'bar')\n",
    "plt.show()"
   ]
  },
  {
   "cell_type": "markdown",
   "id": "7a4c3dc6-89eb-4770-8be6-214a364fd09d",
   "metadata": {},
   "source": [
    "Write a Pandas program to import three datasheets from a given excel data (employee.xlsx ) into a single dataframe and export the result into new Excel file.\n",
    "Note: Structure of the three datasheets are same."
   ]
  },
  {
   "cell_type": "code",
   "execution_count": 102,
   "id": "335f1b42-99cb-4d7e-8c39-2363673503f5",
   "metadata": {},
   "outputs": [
    {
     "data": {
      "text/plain": [
       "dict_keys(['Sheet1', 'Sheet2', 'Sheet3'])"
      ]
     },
     "execution_count": 102,
     "metadata": {},
     "output_type": "execute_result"
    }
   ],
   "source": [
    "df = pd.read_excel('20_employee.xlsx',sheet_name=None)\n",
    "df.keys()"
   ]
  },
  {
   "cell_type": "code",
   "execution_count": 93,
   "id": "370c8cfb-4ab2-4626-b465-f7b4d78753e0",
   "metadata": {},
   "outputs": [
    {
     "data": {
      "text/html": [
       "<div>\n",
       "<style scoped>\n",
       "    .dataframe tbody tr th:only-of-type {\n",
       "        vertical-align: middle;\n",
       "    }\n",
       "\n",
       "    .dataframe tbody tr th {\n",
       "        vertical-align: top;\n",
       "    }\n",
       "\n",
       "    .dataframe thead th {\n",
       "        text-align: right;\n",
       "    }\n",
       "</style>\n",
       "<table border=\"1\" class=\"dataframe\">\n",
       "  <thead>\n",
       "    <tr style=\"text-align: right;\">\n",
       "      <th></th>\n",
       "      <th>emp_id</th>\n",
       "      <th>first_name</th>\n",
       "      <th>last_name</th>\n",
       "      <th>hire_date</th>\n",
       "    </tr>\n",
       "  </thead>\n",
       "  <tbody>\n",
       "    <tr>\n",
       "      <th>0</th>\n",
       "      <td>100</td>\n",
       "      <td>Steven</td>\n",
       "      <td>King</td>\n",
       "      <td>2003-06-17</td>\n",
       "    </tr>\n",
       "    <tr>\n",
       "      <th>1</th>\n",
       "      <td>101</td>\n",
       "      <td>Neena</td>\n",
       "      <td>Kochhar</td>\n",
       "      <td>2005-09-21</td>\n",
       "    </tr>\n",
       "    <tr>\n",
       "      <th>2</th>\n",
       "      <td>102</td>\n",
       "      <td>Lex</td>\n",
       "      <td>De Haan</td>\n",
       "      <td>2001-01-13</td>\n",
       "    </tr>\n",
       "    <tr>\n",
       "      <th>3</th>\n",
       "      <td>103</td>\n",
       "      <td>Alexander</td>\n",
       "      <td>Hunold</td>\n",
       "      <td>2006-01-03</td>\n",
       "    </tr>\n",
       "    <tr>\n",
       "      <th>4</th>\n",
       "      <td>104</td>\n",
       "      <td>Bruce</td>\n",
       "      <td>Ernst</td>\n",
       "      <td>2007-05-21</td>\n",
       "    </tr>\n",
       "  </tbody>\n",
       "</table>\n",
       "</div>"
      ],
      "text/plain": [
       "   emp_id first_name last_name  hire_date\n",
       "0     100     Steven      King 2003-06-17\n",
       "1     101      Neena   Kochhar 2005-09-21\n",
       "2     102        Lex   De Haan 2001-01-13\n",
       "3     103  Alexander    Hunold 2006-01-03\n",
       "4     104      Bruce     Ernst 2007-05-21"
      ]
     },
     "execution_count": 93,
     "metadata": {},
     "output_type": "execute_result"
    }
   ],
   "source": [
    "df1 = pd.read_excel('20_employee.xlsx',sheet_name=0)\n",
    "df1.head(5)"
   ]
  },
  {
   "cell_type": "code",
   "execution_count": 94,
   "id": "99afa8e4-fb3c-4029-95ac-889f92afdeeb",
   "metadata": {},
   "outputs": [
    {
     "data": {
      "text/html": [
       "<div>\n",
       "<style scoped>\n",
       "    .dataframe tbody tr th:only-of-type {\n",
       "        vertical-align: middle;\n",
       "    }\n",
       "\n",
       "    .dataframe tbody tr th {\n",
       "        vertical-align: top;\n",
       "    }\n",
       "\n",
       "    .dataframe thead th {\n",
       "        text-align: right;\n",
       "    }\n",
       "</style>\n",
       "<table border=\"1\" class=\"dataframe\">\n",
       "  <thead>\n",
       "    <tr style=\"text-align: right;\">\n",
       "      <th></th>\n",
       "      <th>emp_id</th>\n",
       "      <th>first_name</th>\n",
       "      <th>last_name</th>\n",
       "      <th>hire_date</th>\n",
       "    </tr>\n",
       "  </thead>\n",
       "  <tbody>\n",
       "    <tr>\n",
       "      <th>0</th>\n",
       "      <td>120</td>\n",
       "      <td>Matthew</td>\n",
       "      <td>Weiss</td>\n",
       "      <td>2004-07-18</td>\n",
       "    </tr>\n",
       "    <tr>\n",
       "      <th>1</th>\n",
       "      <td>121</td>\n",
       "      <td>Adam</td>\n",
       "      <td>Fripp</td>\n",
       "      <td>2005-04-10</td>\n",
       "    </tr>\n",
       "    <tr>\n",
       "      <th>2</th>\n",
       "      <td>122</td>\n",
       "      <td>Payam</td>\n",
       "      <td>Kaufling</td>\n",
       "      <td>2003-05-01</td>\n",
       "    </tr>\n",
       "    <tr>\n",
       "      <th>3</th>\n",
       "      <td>123</td>\n",
       "      <td>Shanta</td>\n",
       "      <td>Vollman</td>\n",
       "      <td>2005-10-10</td>\n",
       "    </tr>\n",
       "    <tr>\n",
       "      <th>4</th>\n",
       "      <td>124</td>\n",
       "      <td>Kevin</td>\n",
       "      <td>Mourgos</td>\n",
       "      <td>2007-11-16</td>\n",
       "    </tr>\n",
       "  </tbody>\n",
       "</table>\n",
       "</div>"
      ],
      "text/plain": [
       "   emp_id first_name last_name  hire_date\n",
       "0     120    Matthew     Weiss 2004-07-18\n",
       "1     121       Adam     Fripp 2005-04-10\n",
       "2     122      Payam  Kaufling 2003-05-01\n",
       "3     123     Shanta   Vollman 2005-10-10\n",
       "4     124      Kevin   Mourgos 2007-11-16"
      ]
     },
     "execution_count": 94,
     "metadata": {},
     "output_type": "execute_result"
    }
   ],
   "source": [
    "df2 = pd.read_excel('20_employee.xlsx',sheet_name=1)\n",
    "df2.head(5)"
   ]
  },
  {
   "cell_type": "code",
   "execution_count": 95,
   "id": "90076a7f-49af-4aa2-be79-37a04d32ed87",
   "metadata": {},
   "outputs": [
    {
     "data": {
      "text/html": [
       "<div>\n",
       "<style scoped>\n",
       "    .dataframe tbody tr th:only-of-type {\n",
       "        vertical-align: middle;\n",
       "    }\n",
       "\n",
       "    .dataframe tbody tr th {\n",
       "        vertical-align: top;\n",
       "    }\n",
       "\n",
       "    .dataframe thead th {\n",
       "        text-align: right;\n",
       "    }\n",
       "</style>\n",
       "<table border=\"1\" class=\"dataframe\">\n",
       "  <thead>\n",
       "    <tr style=\"text-align: right;\">\n",
       "      <th></th>\n",
       "      <th>emp_id</th>\n",
       "      <th>first_name</th>\n",
       "      <th>last_name</th>\n",
       "      <th>hire_date</th>\n",
       "    </tr>\n",
       "  </thead>\n",
       "  <tbody>\n",
       "    <tr>\n",
       "      <th>0</th>\n",
       "      <td>141</td>\n",
       "      <td>Trenna</td>\n",
       "      <td>Rajs</td>\n",
       "      <td>2003-10-17</td>\n",
       "    </tr>\n",
       "    <tr>\n",
       "      <th>1</th>\n",
       "      <td>142</td>\n",
       "      <td>Curtis</td>\n",
       "      <td>Davies</td>\n",
       "      <td>2005-01-29</td>\n",
       "    </tr>\n",
       "    <tr>\n",
       "      <th>2</th>\n",
       "      <td>143</td>\n",
       "      <td>Randall</td>\n",
       "      <td>Matos</td>\n",
       "      <td>2006-03-15</td>\n",
       "    </tr>\n",
       "    <tr>\n",
       "      <th>3</th>\n",
       "      <td>144</td>\n",
       "      <td>Peter</td>\n",
       "      <td>Vargas</td>\n",
       "      <td>2006-07-09</td>\n",
       "    </tr>\n",
       "    <tr>\n",
       "      <th>4</th>\n",
       "      <td>145</td>\n",
       "      <td>John</td>\n",
       "      <td>Russell</td>\n",
       "      <td>2004-10-01</td>\n",
       "    </tr>\n",
       "  </tbody>\n",
       "</table>\n",
       "</div>"
      ],
      "text/plain": [
       "   emp_id first_name last_name  hire_date\n",
       "0     141     Trenna      Rajs 2003-10-17\n",
       "1     142     Curtis    Davies 2005-01-29\n",
       "2     143    Randall     Matos 2006-03-15\n",
       "3     144      Peter    Vargas 2006-07-09\n",
       "4     145       John   Russell 2004-10-01"
      ]
     },
     "execution_count": 95,
     "metadata": {},
     "output_type": "execute_result"
    }
   ],
   "source": [
    "df3 = pd.read_excel('20_employee.xlsx',sheet_name=2)\n",
    "df3.head(5)"
   ]
  },
  {
   "cell_type": "code",
   "execution_count": 98,
   "id": "63c638c0-c0eb-4ef1-b7cd-6476e7c4541e",
   "metadata": {},
   "outputs": [
    {
     "data": {
      "text/html": [
       "<div>\n",
       "<style scoped>\n",
       "    .dataframe tbody tr th:only-of-type {\n",
       "        vertical-align: middle;\n",
       "    }\n",
       "\n",
       "    .dataframe tbody tr th {\n",
       "        vertical-align: top;\n",
       "    }\n",
       "\n",
       "    .dataframe thead th {\n",
       "        text-align: right;\n",
       "    }\n",
       "</style>\n",
       "<table border=\"1\" class=\"dataframe\">\n",
       "  <thead>\n",
       "    <tr style=\"text-align: right;\">\n",
       "      <th></th>\n",
       "      <th>emp_id</th>\n",
       "      <th>first_name</th>\n",
       "      <th>last_name</th>\n",
       "      <th>hire_date</th>\n",
       "    </tr>\n",
       "  </thead>\n",
       "  <tbody>\n",
       "    <tr>\n",
       "      <th>0</th>\n",
       "      <td>100</td>\n",
       "      <td>Steven</td>\n",
       "      <td>King</td>\n",
       "      <td>2003-06-17</td>\n",
       "    </tr>\n",
       "    <tr>\n",
       "      <th>1</th>\n",
       "      <td>101</td>\n",
       "      <td>Neena</td>\n",
       "      <td>Kochhar</td>\n",
       "      <td>2005-09-21</td>\n",
       "    </tr>\n",
       "    <tr>\n",
       "      <th>2</th>\n",
       "      <td>102</td>\n",
       "      <td>Lex</td>\n",
       "      <td>De Haan</td>\n",
       "      <td>2001-01-13</td>\n",
       "    </tr>\n",
       "    <tr>\n",
       "      <th>3</th>\n",
       "      <td>103</td>\n",
       "      <td>Alexander</td>\n",
       "      <td>Hunold</td>\n",
       "      <td>2006-01-03</td>\n",
       "    </tr>\n",
       "    <tr>\n",
       "      <th>4</th>\n",
       "      <td>104</td>\n",
       "      <td>Bruce</td>\n",
       "      <td>Ernst</td>\n",
       "      <td>2007-05-21</td>\n",
       "    </tr>\n",
       "  </tbody>\n",
       "</table>\n",
       "</div>"
      ],
      "text/plain": [
       "   emp_id first_name last_name  hire_date\n",
       "0     100     Steven      King 2003-06-17\n",
       "1     101      Neena   Kochhar 2005-09-21\n",
       "2     102        Lex   De Haan 2001-01-13\n",
       "3     103  Alexander    Hunold 2006-01-03\n",
       "4     104      Bruce     Ernst 2007-05-21"
      ]
     },
     "execution_count": 98,
     "metadata": {},
     "output_type": "execute_result"
    }
   ],
   "source": [
    "df = pd.concat([df1,df2,df3], ignore_index=True)\n",
    "df.head(5)"
   ]
  },
  {
   "cell_type": "code",
   "execution_count": 99,
   "id": "983c5570-1c96-49d3-85e7-d45ec3d4aee1",
   "metadata": {},
   "outputs": [
    {
     "data": {
      "text/html": [
       "<div>\n",
       "<style scoped>\n",
       "    .dataframe tbody tr th:only-of-type {\n",
       "        vertical-align: middle;\n",
       "    }\n",
       "\n",
       "    .dataframe tbody tr th {\n",
       "        vertical-align: top;\n",
       "    }\n",
       "\n",
       "    .dataframe thead th {\n",
       "        text-align: right;\n",
       "    }\n",
       "</style>\n",
       "<table border=\"1\" class=\"dataframe\">\n",
       "  <thead>\n",
       "    <tr style=\"text-align: right;\">\n",
       "      <th></th>\n",
       "      <th>emp_id</th>\n",
       "      <th>first_name</th>\n",
       "      <th>last_name</th>\n",
       "      <th>hire_date</th>\n",
       "    </tr>\n",
       "  </thead>\n",
       "  <tbody>\n",
       "    <tr>\n",
       "      <th>43</th>\n",
       "      <td>145</td>\n",
       "      <td>John</td>\n",
       "      <td>Russell</td>\n",
       "      <td>2004-10-01</td>\n",
       "    </tr>\n",
       "    <tr>\n",
       "      <th>44</th>\n",
       "      <td>146</td>\n",
       "      <td>Karen</td>\n",
       "      <td>Partners</td>\n",
       "      <td>2005-01-05</td>\n",
       "    </tr>\n",
       "    <tr>\n",
       "      <th>45</th>\n",
       "      <td>147</td>\n",
       "      <td>Alberto</td>\n",
       "      <td>Errazuriz</td>\n",
       "      <td>2005-03-10</td>\n",
       "    </tr>\n",
       "    <tr>\n",
       "      <th>46</th>\n",
       "      <td>148</td>\n",
       "      <td>Gerald</td>\n",
       "      <td>Cambrault</td>\n",
       "      <td>2007-10-15</td>\n",
       "    </tr>\n",
       "    <tr>\n",
       "      <th>47</th>\n",
       "      <td>149</td>\n",
       "      <td>Eleni</td>\n",
       "      <td>Zlotkey</td>\n",
       "      <td>2008-01-29</td>\n",
       "    </tr>\n",
       "  </tbody>\n",
       "</table>\n",
       "</div>"
      ],
      "text/plain": [
       "    emp_id first_name  last_name  hire_date\n",
       "43     145       John    Russell 2004-10-01\n",
       "44     146      Karen   Partners 2005-01-05\n",
       "45     147    Alberto  Errazuriz 2005-03-10\n",
       "46     148     Gerald  Cambrault 2007-10-15\n",
       "47     149      Eleni    Zlotkey 2008-01-29"
      ]
     },
     "execution_count": 99,
     "metadata": {},
     "output_type": "execute_result"
    }
   ],
   "source": [
    "df.tail(5)"
   ]
  },
  {
   "cell_type": "code",
   "execution_count": 100,
   "id": "2b72b9d4-fadf-4418-9e44-f8e10f5af2b6",
   "metadata": {},
   "outputs": [],
   "source": [
    "df.to_excel('20_excel_output.xlsx')"
   ]
  },
  {
   "cell_type": "code",
   "execution_count": 101,
   "id": "ebe37328-0465-4a37-9f87-29e5f1412b37",
   "metadata": {},
   "outputs": [
    {
     "data": {
      "text/html": [
       "<div>\n",
       "<style scoped>\n",
       "    .dataframe tbody tr th:only-of-type {\n",
       "        vertical-align: middle;\n",
       "    }\n",
       "\n",
       "    .dataframe tbody tr th {\n",
       "        vertical-align: top;\n",
       "    }\n",
       "\n",
       "    .dataframe thead th {\n",
       "        text-align: right;\n",
       "    }\n",
       "</style>\n",
       "<table border=\"1\" class=\"dataframe\">\n",
       "  <thead>\n",
       "    <tr style=\"text-align: right;\">\n",
       "      <th></th>\n",
       "      <th>Unnamed: 0</th>\n",
       "      <th>emp_id</th>\n",
       "      <th>first_name</th>\n",
       "      <th>last_name</th>\n",
       "      <th>hire_date</th>\n",
       "    </tr>\n",
       "  </thead>\n",
       "  <tbody>\n",
       "    <tr>\n",
       "      <th>0</th>\n",
       "      <td>0</td>\n",
       "      <td>100</td>\n",
       "      <td>Steven</td>\n",
       "      <td>King</td>\n",
       "      <td>2003-06-17</td>\n",
       "    </tr>\n",
       "    <tr>\n",
       "      <th>1</th>\n",
       "      <td>1</td>\n",
       "      <td>101</td>\n",
       "      <td>Neena</td>\n",
       "      <td>Kochhar</td>\n",
       "      <td>2005-09-21</td>\n",
       "    </tr>\n",
       "    <tr>\n",
       "      <th>2</th>\n",
       "      <td>2</td>\n",
       "      <td>102</td>\n",
       "      <td>Lex</td>\n",
       "      <td>De Haan</td>\n",
       "      <td>2001-01-13</td>\n",
       "    </tr>\n",
       "    <tr>\n",
       "      <th>3</th>\n",
       "      <td>3</td>\n",
       "      <td>103</td>\n",
       "      <td>Alexander</td>\n",
       "      <td>Hunold</td>\n",
       "      <td>2006-01-03</td>\n",
       "    </tr>\n",
       "    <tr>\n",
       "      <th>4</th>\n",
       "      <td>4</td>\n",
       "      <td>104</td>\n",
       "      <td>Bruce</td>\n",
       "      <td>Ernst</td>\n",
       "      <td>2007-05-21</td>\n",
       "    </tr>\n",
       "    <tr>\n",
       "      <th>5</th>\n",
       "      <td>5</td>\n",
       "      <td>105</td>\n",
       "      <td>David</td>\n",
       "      <td>Austin</td>\n",
       "      <td>2005-06-25</td>\n",
       "    </tr>\n",
       "    <tr>\n",
       "      <th>6</th>\n",
       "      <td>6</td>\n",
       "      <td>106</td>\n",
       "      <td>Valli</td>\n",
       "      <td>Pataballa</td>\n",
       "      <td>2006-02-05</td>\n",
       "    </tr>\n",
       "    <tr>\n",
       "      <th>7</th>\n",
       "      <td>7</td>\n",
       "      <td>107</td>\n",
       "      <td>Diana</td>\n",
       "      <td>Lorentz</td>\n",
       "      <td>2007-02-07</td>\n",
       "    </tr>\n",
       "    <tr>\n",
       "      <th>8</th>\n",
       "      <td>8</td>\n",
       "      <td>108</td>\n",
       "      <td>Nancy</td>\n",
       "      <td>Greenberg</td>\n",
       "      <td>2002-08-17</td>\n",
       "    </tr>\n",
       "    <tr>\n",
       "      <th>9</th>\n",
       "      <td>9</td>\n",
       "      <td>109</td>\n",
       "      <td>Daniel</td>\n",
       "      <td>Faviet</td>\n",
       "      <td>2002-08-16</td>\n",
       "    </tr>\n",
       "    <tr>\n",
       "      <th>10</th>\n",
       "      <td>10</td>\n",
       "      <td>110</td>\n",
       "      <td>John</td>\n",
       "      <td>Chen</td>\n",
       "      <td>2005-09-28</td>\n",
       "    </tr>\n",
       "    <tr>\n",
       "      <th>11</th>\n",
       "      <td>11</td>\n",
       "      <td>111</td>\n",
       "      <td>Ismael</td>\n",
       "      <td>Sciarra</td>\n",
       "      <td>2005-09-30</td>\n",
       "    </tr>\n",
       "    <tr>\n",
       "      <th>12</th>\n",
       "      <td>12</td>\n",
       "      <td>112</td>\n",
       "      <td>Jose Manuel</td>\n",
       "      <td>Urman</td>\n",
       "      <td>2006-03-07</td>\n",
       "    </tr>\n",
       "    <tr>\n",
       "      <th>13</th>\n",
       "      <td>13</td>\n",
       "      <td>113</td>\n",
       "      <td>Luis</td>\n",
       "      <td>Popp</td>\n",
       "      <td>2007-12-07</td>\n",
       "    </tr>\n",
       "    <tr>\n",
       "      <th>14</th>\n",
       "      <td>14</td>\n",
       "      <td>114</td>\n",
       "      <td>Den</td>\n",
       "      <td>Raphaely</td>\n",
       "      <td>2002-12-07</td>\n",
       "    </tr>\n",
       "    <tr>\n",
       "      <th>15</th>\n",
       "      <td>15</td>\n",
       "      <td>115</td>\n",
       "      <td>Alexander</td>\n",
       "      <td>Khoo</td>\n",
       "      <td>2003-05-18</td>\n",
       "    </tr>\n",
       "    <tr>\n",
       "      <th>16</th>\n",
       "      <td>16</td>\n",
       "      <td>116</td>\n",
       "      <td>Shelli</td>\n",
       "      <td>Baida</td>\n",
       "      <td>2005-12-24</td>\n",
       "    </tr>\n",
       "    <tr>\n",
       "      <th>17</th>\n",
       "      <td>17</td>\n",
       "      <td>117</td>\n",
       "      <td>Sigal</td>\n",
       "      <td>Tobias</td>\n",
       "      <td>2005-07-24</td>\n",
       "    </tr>\n",
       "    <tr>\n",
       "      <th>18</th>\n",
       "      <td>18</td>\n",
       "      <td>118</td>\n",
       "      <td>Guy</td>\n",
       "      <td>Himuro</td>\n",
       "      <td>2006-11-15</td>\n",
       "    </tr>\n",
       "    <tr>\n",
       "      <th>19</th>\n",
       "      <td>19</td>\n",
       "      <td>119</td>\n",
       "      <td>Karen</td>\n",
       "      <td>Colmenares</td>\n",
       "      <td>2007-08-10</td>\n",
       "    </tr>\n",
       "    <tr>\n",
       "      <th>20</th>\n",
       "      <td>20</td>\n",
       "      <td>120</td>\n",
       "      <td>Matthew</td>\n",
       "      <td>Weiss</td>\n",
       "      <td>2004-07-18</td>\n",
       "    </tr>\n",
       "    <tr>\n",
       "      <th>21</th>\n",
       "      <td>21</td>\n",
       "      <td>121</td>\n",
       "      <td>Adam</td>\n",
       "      <td>Fripp</td>\n",
       "      <td>2005-04-10</td>\n",
       "    </tr>\n",
       "    <tr>\n",
       "      <th>22</th>\n",
       "      <td>22</td>\n",
       "      <td>122</td>\n",
       "      <td>Payam</td>\n",
       "      <td>Kaufling</td>\n",
       "      <td>2003-05-01</td>\n",
       "    </tr>\n",
       "    <tr>\n",
       "      <th>23</th>\n",
       "      <td>23</td>\n",
       "      <td>123</td>\n",
       "      <td>Shanta</td>\n",
       "      <td>Vollman</td>\n",
       "      <td>2005-10-10</td>\n",
       "    </tr>\n",
       "    <tr>\n",
       "      <th>24</th>\n",
       "      <td>24</td>\n",
       "      <td>124</td>\n",
       "      <td>Kevin</td>\n",
       "      <td>Mourgos</td>\n",
       "      <td>2007-11-16</td>\n",
       "    </tr>\n",
       "    <tr>\n",
       "      <th>25</th>\n",
       "      <td>25</td>\n",
       "      <td>125</td>\n",
       "      <td>Julia</td>\n",
       "      <td>Nayer</td>\n",
       "      <td>2005-07-16</td>\n",
       "    </tr>\n",
       "    <tr>\n",
       "      <th>26</th>\n",
       "      <td>26</td>\n",
       "      <td>126</td>\n",
       "      <td>Irene</td>\n",
       "      <td>Mikkilineni</td>\n",
       "      <td>2006-09-28</td>\n",
       "    </tr>\n",
       "    <tr>\n",
       "      <th>27</th>\n",
       "      <td>27</td>\n",
       "      <td>127</td>\n",
       "      <td>James</td>\n",
       "      <td>Landry</td>\n",
       "      <td>2007-01-14</td>\n",
       "    </tr>\n",
       "    <tr>\n",
       "      <th>28</th>\n",
       "      <td>28</td>\n",
       "      <td>128</td>\n",
       "      <td>Steven</td>\n",
       "      <td>Markle</td>\n",
       "      <td>2008-03-08</td>\n",
       "    </tr>\n",
       "    <tr>\n",
       "      <th>29</th>\n",
       "      <td>29</td>\n",
       "      <td>129</td>\n",
       "      <td>Laura</td>\n",
       "      <td>Bissot</td>\n",
       "      <td>2005-08-20</td>\n",
       "    </tr>\n",
       "    <tr>\n",
       "      <th>30</th>\n",
       "      <td>30</td>\n",
       "      <td>130</td>\n",
       "      <td>Mozhe</td>\n",
       "      <td>Atkinson</td>\n",
       "      <td>2005-10-30</td>\n",
       "    </tr>\n",
       "    <tr>\n",
       "      <th>31</th>\n",
       "      <td>31</td>\n",
       "      <td>131</td>\n",
       "      <td>James</td>\n",
       "      <td>Marlow</td>\n",
       "      <td>2005-02-16</td>\n",
       "    </tr>\n",
       "    <tr>\n",
       "      <th>32</th>\n",
       "      <td>32</td>\n",
       "      <td>132</td>\n",
       "      <td>TJ</td>\n",
       "      <td>Olson</td>\n",
       "      <td>2007-04-10</td>\n",
       "    </tr>\n",
       "    <tr>\n",
       "      <th>33</th>\n",
       "      <td>33</td>\n",
       "      <td>133</td>\n",
       "      <td>Jason</td>\n",
       "      <td>Mallin</td>\n",
       "      <td>2004-06-14</td>\n",
       "    </tr>\n",
       "    <tr>\n",
       "      <th>34</th>\n",
       "      <td>34</td>\n",
       "      <td>134</td>\n",
       "      <td>Michael</td>\n",
       "      <td>Rogers</td>\n",
       "      <td>2006-08-26</td>\n",
       "    </tr>\n",
       "    <tr>\n",
       "      <th>35</th>\n",
       "      <td>35</td>\n",
       "      <td>135</td>\n",
       "      <td>Ki</td>\n",
       "      <td>Gee</td>\n",
       "      <td>2007-12-12</td>\n",
       "    </tr>\n",
       "    <tr>\n",
       "      <th>36</th>\n",
       "      <td>36</td>\n",
       "      <td>136</td>\n",
       "      <td>Hazel</td>\n",
       "      <td>Philtanker</td>\n",
       "      <td>2008-02-06</td>\n",
       "    </tr>\n",
       "    <tr>\n",
       "      <th>37</th>\n",
       "      <td>37</td>\n",
       "      <td>137</td>\n",
       "      <td>Renske</td>\n",
       "      <td>Ladwig</td>\n",
       "      <td>2003-07-14</td>\n",
       "    </tr>\n",
       "    <tr>\n",
       "      <th>38</th>\n",
       "      <td>38</td>\n",
       "      <td>138</td>\n",
       "      <td>Stephen</td>\n",
       "      <td>Stiles</td>\n",
       "      <td>2005-10-26</td>\n",
       "    </tr>\n",
       "    <tr>\n",
       "      <th>39</th>\n",
       "      <td>39</td>\n",
       "      <td>141</td>\n",
       "      <td>Trenna</td>\n",
       "      <td>Rajs</td>\n",
       "      <td>2003-10-17</td>\n",
       "    </tr>\n",
       "    <tr>\n",
       "      <th>40</th>\n",
       "      <td>40</td>\n",
       "      <td>142</td>\n",
       "      <td>Curtis</td>\n",
       "      <td>Davies</td>\n",
       "      <td>2005-01-29</td>\n",
       "    </tr>\n",
       "    <tr>\n",
       "      <th>41</th>\n",
       "      <td>41</td>\n",
       "      <td>143</td>\n",
       "      <td>Randall</td>\n",
       "      <td>Matos</td>\n",
       "      <td>2006-03-15</td>\n",
       "    </tr>\n",
       "    <tr>\n",
       "      <th>42</th>\n",
       "      <td>42</td>\n",
       "      <td>144</td>\n",
       "      <td>Peter</td>\n",
       "      <td>Vargas</td>\n",
       "      <td>2006-07-09</td>\n",
       "    </tr>\n",
       "    <tr>\n",
       "      <th>43</th>\n",
       "      <td>43</td>\n",
       "      <td>145</td>\n",
       "      <td>John</td>\n",
       "      <td>Russell</td>\n",
       "      <td>2004-10-01</td>\n",
       "    </tr>\n",
       "    <tr>\n",
       "      <th>44</th>\n",
       "      <td>44</td>\n",
       "      <td>146</td>\n",
       "      <td>Karen</td>\n",
       "      <td>Partners</td>\n",
       "      <td>2005-01-05</td>\n",
       "    </tr>\n",
       "    <tr>\n",
       "      <th>45</th>\n",
       "      <td>45</td>\n",
       "      <td>147</td>\n",
       "      <td>Alberto</td>\n",
       "      <td>Errazuriz</td>\n",
       "      <td>2005-03-10</td>\n",
       "    </tr>\n",
       "    <tr>\n",
       "      <th>46</th>\n",
       "      <td>46</td>\n",
       "      <td>148</td>\n",
       "      <td>Gerald</td>\n",
       "      <td>Cambrault</td>\n",
       "      <td>2007-10-15</td>\n",
       "    </tr>\n",
       "    <tr>\n",
       "      <th>47</th>\n",
       "      <td>47</td>\n",
       "      <td>149</td>\n",
       "      <td>Eleni</td>\n",
       "      <td>Zlotkey</td>\n",
       "      <td>2008-01-29</td>\n",
       "    </tr>\n",
       "  </tbody>\n",
       "</table>\n",
       "</div>"
      ],
      "text/plain": [
       "    Unnamed: 0  emp_id   first_name    last_name  hire_date\n",
       "0            0     100       Steven         King 2003-06-17\n",
       "1            1     101        Neena      Kochhar 2005-09-21\n",
       "2            2     102          Lex      De Haan 2001-01-13\n",
       "3            3     103    Alexander       Hunold 2006-01-03\n",
       "4            4     104        Bruce        Ernst 2007-05-21\n",
       "5            5     105        David       Austin 2005-06-25\n",
       "6            6     106        Valli    Pataballa 2006-02-05\n",
       "7            7     107        Diana      Lorentz 2007-02-07\n",
       "8            8     108        Nancy    Greenberg 2002-08-17\n",
       "9            9     109       Daniel       Faviet 2002-08-16\n",
       "10          10     110         John         Chen 2005-09-28\n",
       "11          11     111       Ismael      Sciarra 2005-09-30\n",
       "12          12     112  Jose Manuel        Urman 2006-03-07\n",
       "13          13     113         Luis         Popp 2007-12-07\n",
       "14          14     114          Den     Raphaely 2002-12-07\n",
       "15          15     115    Alexander         Khoo 2003-05-18\n",
       "16          16     116       Shelli        Baida 2005-12-24\n",
       "17          17     117        Sigal       Tobias 2005-07-24\n",
       "18          18     118          Guy       Himuro 2006-11-15\n",
       "19          19     119        Karen   Colmenares 2007-08-10\n",
       "20          20     120      Matthew        Weiss 2004-07-18\n",
       "21          21     121         Adam        Fripp 2005-04-10\n",
       "22          22     122        Payam     Kaufling 2003-05-01\n",
       "23          23     123       Shanta      Vollman 2005-10-10\n",
       "24          24     124        Kevin      Mourgos 2007-11-16\n",
       "25          25     125        Julia        Nayer 2005-07-16\n",
       "26          26     126        Irene  Mikkilineni 2006-09-28\n",
       "27          27     127        James       Landry 2007-01-14\n",
       "28          28     128       Steven       Markle 2008-03-08\n",
       "29          29     129        Laura       Bissot 2005-08-20\n",
       "30          30     130        Mozhe     Atkinson 2005-10-30\n",
       "31          31     131        James       Marlow 2005-02-16\n",
       "32          32     132           TJ        Olson 2007-04-10\n",
       "33          33     133        Jason       Mallin 2004-06-14\n",
       "34          34     134      Michael       Rogers 2006-08-26\n",
       "35          35     135           Ki          Gee 2007-12-12\n",
       "36          36     136        Hazel   Philtanker 2008-02-06\n",
       "37          37     137       Renske       Ladwig 2003-07-14\n",
       "38          38     138      Stephen       Stiles 2005-10-26\n",
       "39          39     141       Trenna         Rajs 2003-10-17\n",
       "40          40     142       Curtis       Davies 2005-01-29\n",
       "41          41     143      Randall        Matos 2006-03-15\n",
       "42          42     144        Peter       Vargas 2006-07-09\n",
       "43          43     145         John      Russell 2004-10-01\n",
       "44          44     146        Karen     Partners 2005-01-05\n",
       "45          45     147      Alberto    Errazuriz 2005-03-10\n",
       "46          46     148       Gerald    Cambrault 2007-10-15\n",
       "47          47     149        Eleni      Zlotkey 2008-01-29"
      ]
     },
     "execution_count": 101,
     "metadata": {},
     "output_type": "execute_result"
    }
   ],
   "source": [
    "dfi = pd.read_excel('20_excel_output.xlsx')\n",
    "dfi"
   ]
  },
  {
   "cell_type": "markdown",
   "id": "2c0dc937-fabb-48bc-b1ac-167fa5af7f19",
   "metadata": {
    "jp-MarkdownHeadingCollapsed": true
   },
   "source": [
    "# Pandas Pivot Table"
   ]
  },
  {
   "cell_type": "markdown",
   "id": "59fd4073-c6cb-478d-b837-55eb53371be3",
   "metadata": {},
   "source": [
    "Write a Pandas program to create a Pivot table with multiple indexes from a given excel sheet"
   ]
  },
  {
   "cell_type": "code",
   "execution_count": 103,
   "id": "fed637fd-f2bb-411e-8ff2-4268d7771b7a",
   "metadata": {},
   "outputs": [],
   "source": [
    "import pandas as pd"
   ]
  },
  {
   "cell_type": "code",
   "execution_count": 104,
   "id": "26adf998-f94c-4e4d-8c63-44ced893306d",
   "metadata": {},
   "outputs": [
    {
     "data": {
      "text/html": [
       "<div>\n",
       "<style scoped>\n",
       "    .dataframe tbody tr th:only-of-type {\n",
       "        vertical-align: middle;\n",
       "    }\n",
       "\n",
       "    .dataframe tbody tr th {\n",
       "        vertical-align: top;\n",
       "    }\n",
       "\n",
       "    .dataframe thead th {\n",
       "        text-align: right;\n",
       "    }\n",
       "</style>\n",
       "<table border=\"1\" class=\"dataframe\">\n",
       "  <thead>\n",
       "    <tr style=\"text-align: right;\">\n",
       "      <th></th>\n",
       "      <th>OrderDate</th>\n",
       "      <th>Region</th>\n",
       "      <th>Manager</th>\n",
       "      <th>SalesMan</th>\n",
       "      <th>Item</th>\n",
       "      <th>Units</th>\n",
       "      <th>Unit_price</th>\n",
       "      <th>Sale_amt</th>\n",
       "    </tr>\n",
       "  </thead>\n",
       "  <tbody>\n",
       "    <tr>\n",
       "      <th>0</th>\n",
       "      <td>2018-01-06</td>\n",
       "      <td>East</td>\n",
       "      <td>Martha</td>\n",
       "      <td>Alexander</td>\n",
       "      <td>Television</td>\n",
       "      <td>95.0</td>\n",
       "      <td>1198.0</td>\n",
       "      <td>113810.0</td>\n",
       "    </tr>\n",
       "    <tr>\n",
       "      <th>1</th>\n",
       "      <td>2018-01-23</td>\n",
       "      <td>Central</td>\n",
       "      <td>Hermann</td>\n",
       "      <td>Shelli</td>\n",
       "      <td>Home Theater</td>\n",
       "      <td>50.0</td>\n",
       "      <td>500.0</td>\n",
       "      <td>25000.0</td>\n",
       "    </tr>\n",
       "    <tr>\n",
       "      <th>2</th>\n",
       "      <td>2018-02-09</td>\n",
       "      <td>Central</td>\n",
       "      <td>Hermann</td>\n",
       "      <td>Luis</td>\n",
       "      <td>Television</td>\n",
       "      <td>36.0</td>\n",
       "      <td>1198.0</td>\n",
       "      <td>43128.0</td>\n",
       "    </tr>\n",
       "    <tr>\n",
       "      <th>3</th>\n",
       "      <td>2018-02-26</td>\n",
       "      <td>Central</td>\n",
       "      <td>Timothy</td>\n",
       "      <td>David</td>\n",
       "      <td>Cell Phone</td>\n",
       "      <td>27.0</td>\n",
       "      <td>225.0</td>\n",
       "      <td>6075.0</td>\n",
       "    </tr>\n",
       "    <tr>\n",
       "      <th>4</th>\n",
       "      <td>2018-03-15</td>\n",
       "      <td>West</td>\n",
       "      <td>Timothy</td>\n",
       "      <td>Stephen</td>\n",
       "      <td>Television</td>\n",
       "      <td>56.0</td>\n",
       "      <td>1198.0</td>\n",
       "      <td>67088.0</td>\n",
       "    </tr>\n",
       "  </tbody>\n",
       "</table>\n",
       "</div>"
      ],
      "text/plain": [
       "   OrderDate   Region  Manager   SalesMan          Item  Units  Unit_price  \\\n",
       "0 2018-01-06     East   Martha  Alexander    Television   95.0      1198.0   \n",
       "1 2018-01-23  Central  Hermann     Shelli  Home Theater   50.0       500.0   \n",
       "2 2018-02-09  Central  Hermann       Luis    Television   36.0      1198.0   \n",
       "3 2018-02-26  Central  Timothy      David    Cell Phone   27.0       225.0   \n",
       "4 2018-03-15     West  Timothy    Stephen    Television   56.0      1198.0   \n",
       "\n",
       "   Sale_amt  \n",
       "0  113810.0  \n",
       "1   25000.0  \n",
       "2   43128.0  \n",
       "3    6075.0  \n",
       "4   67088.0  "
      ]
     },
     "execution_count": 104,
     "metadata": {},
     "output_type": "execute_result"
    }
   ],
   "source": [
    "data = pd.read_excel('20_SaleData.xlsx')\n",
    "data.head(5)"
   ]
  },
  {
   "cell_type": "code",
   "execution_count": 105,
   "id": "0b9355bc-baf8-4fa2-98ae-c954f0d3f5ff",
   "metadata": {},
   "outputs": [
    {
     "data": {
      "text/plain": [
       "Index(['OrderDate', 'Region', 'Manager', 'SalesMan', 'Item', 'Units',\n",
       "       'Unit_price', 'Sale_amt'],\n",
       "      dtype='object')"
      ]
     },
     "execution_count": 105,
     "metadata": {},
     "output_type": "execute_result"
    }
   ],
   "source": [
    "data.keys()"
   ]
  },
  {
   "cell_type": "code",
   "execution_count": 110,
   "id": "3b90d413-a770-4d96-b9ff-27f738a85817",
   "metadata": {},
   "outputs": [
    {
     "data": {
      "text/html": [
       "<div>\n",
       "<style scoped>\n",
       "    .dataframe tbody tr th:only-of-type {\n",
       "        vertical-align: middle;\n",
       "    }\n",
       "\n",
       "    .dataframe tbody tr th {\n",
       "        vertical-align: top;\n",
       "    }\n",
       "\n",
       "    .dataframe thead tr th {\n",
       "        text-align: left;\n",
       "    }\n",
       "\n",
       "    .dataframe thead tr:last-of-type th {\n",
       "        text-align: right;\n",
       "    }\n",
       "</style>\n",
       "<table border=\"1\" class=\"dataframe\">\n",
       "  <thead>\n",
       "    <tr>\n",
       "      <th></th>\n",
       "      <th></th>\n",
       "      <th colspan=\"5\" halign=\"left\">Sale_amt</th>\n",
       "      <th colspan=\"5\" halign=\"left\">Unit_price</th>\n",
       "      <th colspan=\"5\" halign=\"left\">Units</th>\n",
       "    </tr>\n",
       "    <tr>\n",
       "      <th></th>\n",
       "      <th>Item</th>\n",
       "      <th>Cell Phone</th>\n",
       "      <th>Desk</th>\n",
       "      <th>Home Theater</th>\n",
       "      <th>Television</th>\n",
       "      <th>Video Games</th>\n",
       "      <th>Cell Phone</th>\n",
       "      <th>Desk</th>\n",
       "      <th>Home Theater</th>\n",
       "      <th>Television</th>\n",
       "      <th>Video Games</th>\n",
       "      <th>Cell Phone</th>\n",
       "      <th>Desk</th>\n",
       "      <th>Home Theater</th>\n",
       "      <th>Television</th>\n",
       "      <th>Video Games</th>\n",
       "    </tr>\n",
       "    <tr>\n",
       "      <th>OrderDate</th>\n",
       "      <th>Region</th>\n",
       "      <th></th>\n",
       "      <th></th>\n",
       "      <th></th>\n",
       "      <th></th>\n",
       "      <th></th>\n",
       "      <th></th>\n",
       "      <th></th>\n",
       "      <th></th>\n",
       "      <th></th>\n",
       "      <th></th>\n",
       "      <th></th>\n",
       "      <th></th>\n",
       "      <th></th>\n",
       "      <th></th>\n",
       "      <th></th>\n",
       "    </tr>\n",
       "  </thead>\n",
       "  <tbody>\n",
       "    <tr>\n",
       "      <th>2018-01-06</th>\n",
       "      <th>East</th>\n",
       "      <td>NaN</td>\n",
       "      <td>NaN</td>\n",
       "      <td>NaN</td>\n",
       "      <td>113810.0</td>\n",
       "      <td>NaN</td>\n",
       "      <td>NaN</td>\n",
       "      <td>NaN</td>\n",
       "      <td>NaN</td>\n",
       "      <td>1198.0</td>\n",
       "      <td>NaN</td>\n",
       "      <td>NaN</td>\n",
       "      <td>NaN</td>\n",
       "      <td>NaN</td>\n",
       "      <td>95.0</td>\n",
       "      <td>NaN</td>\n",
       "    </tr>\n",
       "    <tr>\n",
       "      <th>2018-01-23</th>\n",
       "      <th>Central</th>\n",
       "      <td>NaN</td>\n",
       "      <td>NaN</td>\n",
       "      <td>25000.0</td>\n",
       "      <td>NaN</td>\n",
       "      <td>NaN</td>\n",
       "      <td>NaN</td>\n",
       "      <td>NaN</td>\n",
       "      <td>500.0</td>\n",
       "      <td>NaN</td>\n",
       "      <td>NaN</td>\n",
       "      <td>NaN</td>\n",
       "      <td>NaN</td>\n",
       "      <td>50.0</td>\n",
       "      <td>NaN</td>\n",
       "      <td>NaN</td>\n",
       "    </tr>\n",
       "    <tr>\n",
       "      <th>2018-02-09</th>\n",
       "      <th>Central</th>\n",
       "      <td>NaN</td>\n",
       "      <td>NaN</td>\n",
       "      <td>NaN</td>\n",
       "      <td>43128.0</td>\n",
       "      <td>NaN</td>\n",
       "      <td>NaN</td>\n",
       "      <td>NaN</td>\n",
       "      <td>NaN</td>\n",
       "      <td>1198.0</td>\n",
       "      <td>NaN</td>\n",
       "      <td>NaN</td>\n",
       "      <td>NaN</td>\n",
       "      <td>NaN</td>\n",
       "      <td>36.0</td>\n",
       "      <td>NaN</td>\n",
       "    </tr>\n",
       "    <tr>\n",
       "      <th>2018-02-26</th>\n",
       "      <th>Central</th>\n",
       "      <td>6075.0</td>\n",
       "      <td>NaN</td>\n",
       "      <td>NaN</td>\n",
       "      <td>NaN</td>\n",
       "      <td>NaN</td>\n",
       "      <td>225.0</td>\n",
       "      <td>NaN</td>\n",
       "      <td>NaN</td>\n",
       "      <td>NaN</td>\n",
       "      <td>NaN</td>\n",
       "      <td>27.0</td>\n",
       "      <td>NaN</td>\n",
       "      <td>NaN</td>\n",
       "      <td>NaN</td>\n",
       "      <td>NaN</td>\n",
       "    </tr>\n",
       "    <tr>\n",
       "      <th>2018-03-15</th>\n",
       "      <th>West</th>\n",
       "      <td>NaN</td>\n",
       "      <td>NaN</td>\n",
       "      <td>NaN</td>\n",
       "      <td>67088.0</td>\n",
       "      <td>NaN</td>\n",
       "      <td>NaN</td>\n",
       "      <td>NaN</td>\n",
       "      <td>NaN</td>\n",
       "      <td>1198.0</td>\n",
       "      <td>NaN</td>\n",
       "      <td>NaN</td>\n",
       "      <td>NaN</td>\n",
       "      <td>NaN</td>\n",
       "      <td>56.0</td>\n",
       "      <td>NaN</td>\n",
       "    </tr>\n",
       "  </tbody>\n",
       "</table>\n",
       "</div>"
      ],
      "text/plain": [
       "                     Sale_amt                                           \\\n",
       "Item               Cell Phone Desk Home Theater Television Video Games   \n",
       "OrderDate  Region                                                        \n",
       "2018-01-06 East           NaN  NaN          NaN   113810.0         NaN   \n",
       "2018-01-23 Central        NaN  NaN      25000.0        NaN         NaN   \n",
       "2018-02-09 Central        NaN  NaN          NaN    43128.0         NaN   \n",
       "2018-02-26 Central     6075.0  NaN          NaN        NaN         NaN   \n",
       "2018-03-15 West           NaN  NaN          NaN    67088.0         NaN   \n",
       "\n",
       "                   Unit_price                                           \\\n",
       "Item               Cell Phone Desk Home Theater Television Video Games   \n",
       "OrderDate  Region                                                        \n",
       "2018-01-06 East           NaN  NaN          NaN     1198.0         NaN   \n",
       "2018-01-23 Central        NaN  NaN        500.0        NaN         NaN   \n",
       "2018-02-09 Central        NaN  NaN          NaN     1198.0         NaN   \n",
       "2018-02-26 Central      225.0  NaN          NaN        NaN         NaN   \n",
       "2018-03-15 West           NaN  NaN          NaN     1198.0         NaN   \n",
       "\n",
       "                        Units                                           \n",
       "Item               Cell Phone Desk Home Theater Television Video Games  \n",
       "OrderDate  Region                                                       \n",
       "2018-01-06 East           NaN  NaN          NaN       95.0         NaN  \n",
       "2018-01-23 Central        NaN  NaN         50.0        NaN         NaN  \n",
       "2018-02-09 Central        NaN  NaN          NaN       36.0         NaN  \n",
       "2018-02-26 Central       27.0  NaN          NaN        NaN         NaN  \n",
       "2018-03-15 West           NaN  NaN          NaN       56.0         NaN  "
      ]
     },
     "execution_count": 110,
     "metadata": {},
     "output_type": "execute_result"
    }
   ],
   "source": [
    "pt = pd.pivot_table(data, values=['Units', 'Unit_price', 'Sale_amt'], index= ['OrderDate', 'Region'], columns= ['Item'])\n",
    "pt.head(5)"
   ]
  },
  {
   "cell_type": "markdown",
   "id": "b414bea2-e29b-457d-bf5a-3bbf33f576cd",
   "metadata": {},
   "source": [
    "Write a Pandas program to create a Pivot table and find the total sale amount region wise, manager wise."
   ]
  },
  {
   "cell_type": "code",
   "execution_count": 112,
   "id": "3f73b6fc-57be-46a5-98a3-d42f3f206eba",
   "metadata": {},
   "outputs": [
    {
     "data": {
      "text/html": [
       "<div>\n",
       "<style scoped>\n",
       "    .dataframe tbody tr th:only-of-type {\n",
       "        vertical-align: middle;\n",
       "    }\n",
       "\n",
       "    .dataframe tbody tr th {\n",
       "        vertical-align: top;\n",
       "    }\n",
       "\n",
       "    .dataframe thead tr th {\n",
       "        text-align: left;\n",
       "    }\n",
       "</style>\n",
       "<table border=\"1\" class=\"dataframe\">\n",
       "  <thead>\n",
       "    <tr>\n",
       "      <th>Region</th>\n",
       "      <th colspan=\"4\" halign=\"left\">Central</th>\n",
       "      <th colspan=\"2\" halign=\"left\">East</th>\n",
       "      <th colspan=\"2\" halign=\"left\">West</th>\n",
       "    </tr>\n",
       "    <tr>\n",
       "      <th>Manager</th>\n",
       "      <th>Douglas</th>\n",
       "      <th>Hermann</th>\n",
       "      <th>Martha</th>\n",
       "      <th>Timothy</th>\n",
       "      <th>Douglas</th>\n",
       "      <th>Martha</th>\n",
       "      <th>Douglas</th>\n",
       "      <th>Timothy</th>\n",
       "    </tr>\n",
       "  </thead>\n",
       "  <tbody>\n",
       "    <tr>\n",
       "      <th>Sale_amt</th>\n",
       "      <td>124016.0</td>\n",
       "      <td>365108.5</td>\n",
       "      <td>199690.0</td>\n",
       "      <td>140955.0</td>\n",
       "      <td>48204.0</td>\n",
       "      <td>272803.0</td>\n",
       "      <td>66836.0</td>\n",
       "      <td>88063.0</td>\n",
       "    </tr>\n",
       "  </tbody>\n",
       "</table>\n",
       "</div>"
      ],
      "text/plain": [
       "Region     Central                                   East               West  \\\n",
       "Manager    Douglas   Hermann    Martha   Timothy  Douglas    Martha  Douglas   \n",
       "Sale_amt  124016.0  365108.5  199690.0  140955.0  48204.0  272803.0  66836.0   \n",
       "\n",
       "Region             \n",
       "Manager   Timothy  \n",
       "Sale_amt  88063.0  "
      ]
     },
     "execution_count": 112,
     "metadata": {},
     "output_type": "execute_result"
    }
   ],
   "source": [
    "pt = pd.pivot_table(data, values=['Sale_amt'], columns= ['Region', 'Manager'], aggfunc= 'sum')\n",
    "pt.head(5)"
   ]
  },
  {
   "cell_type": "code",
   "execution_count": 114,
   "id": "9e8d7ce3-6484-4b07-aa70-dd045b50ad22",
   "metadata": {},
   "outputs": [
    {
     "data": {
      "text/html": [
       "<div>\n",
       "<style scoped>\n",
       "    .dataframe tbody tr th:only-of-type {\n",
       "        vertical-align: middle;\n",
       "    }\n",
       "\n",
       "    .dataframe tbody tr th {\n",
       "        vertical-align: top;\n",
       "    }\n",
       "\n",
       "    .dataframe thead th {\n",
       "        text-align: right;\n",
       "    }\n",
       "</style>\n",
       "<table border=\"1\" class=\"dataframe\">\n",
       "  <thead>\n",
       "    <tr style=\"text-align: right;\">\n",
       "      <th></th>\n",
       "      <th></th>\n",
       "      <th>Sale_amt</th>\n",
       "    </tr>\n",
       "    <tr>\n",
       "      <th>Region</th>\n",
       "      <th>Manager</th>\n",
       "      <th></th>\n",
       "    </tr>\n",
       "  </thead>\n",
       "  <tbody>\n",
       "    <tr>\n",
       "      <th rowspan=\"4\" valign=\"top\">Central</th>\n",
       "      <th>Douglas</th>\n",
       "      <td>124016.0</td>\n",
       "    </tr>\n",
       "    <tr>\n",
       "      <th>Hermann</th>\n",
       "      <td>365108.5</td>\n",
       "    </tr>\n",
       "    <tr>\n",
       "      <th>Martha</th>\n",
       "      <td>199690.0</td>\n",
       "    </tr>\n",
       "    <tr>\n",
       "      <th>Timothy</th>\n",
       "      <td>140955.0</td>\n",
       "    </tr>\n",
       "    <tr>\n",
       "      <th rowspan=\"2\" valign=\"top\">East</th>\n",
       "      <th>Douglas</th>\n",
       "      <td>48204.0</td>\n",
       "    </tr>\n",
       "    <tr>\n",
       "      <th>Martha</th>\n",
       "      <td>272803.0</td>\n",
       "    </tr>\n",
       "    <tr>\n",
       "      <th rowspan=\"2\" valign=\"top\">West</th>\n",
       "      <th>Douglas</th>\n",
       "      <td>66836.0</td>\n",
       "    </tr>\n",
       "    <tr>\n",
       "      <th>Timothy</th>\n",
       "      <td>88063.0</td>\n",
       "    </tr>\n",
       "  </tbody>\n",
       "</table>\n",
       "</div>"
      ],
      "text/plain": [
       "                 Sale_amt\n",
       "Region  Manager          \n",
       "Central Douglas  124016.0\n",
       "        Hermann  365108.5\n",
       "        Martha   199690.0\n",
       "        Timothy  140955.0\n",
       "East    Douglas   48204.0\n",
       "        Martha   272803.0\n",
       "West    Douglas   66836.0\n",
       "        Timothy   88063.0"
      ]
     },
     "execution_count": 114,
     "metadata": {},
     "output_type": "execute_result"
    }
   ],
   "source": [
    "pt = pd.pivot_table(data, values=['Sale_amt'], index= ['Region', 'Manager'], aggfunc= 'sum')\n",
    "pt"
   ]
  },
  {
   "cell_type": "markdown",
   "id": "82cf8042-af5a-43a6-9199-38374509e962",
   "metadata": {},
   "source": [
    "Write a Pandas program to create a Pivot table and find number of adult male, adult female and children."
   ]
  },
  {
   "cell_type": "code",
   "execution_count": 116,
   "id": "7e3cb3f2-8102-4661-87fe-a4d8f2f7c9f1",
   "metadata": {},
   "outputs": [
    {
     "data": {
      "text/html": [
       "<div>\n",
       "<style scoped>\n",
       "    .dataframe tbody tr th:only-of-type {\n",
       "        vertical-align: middle;\n",
       "    }\n",
       "\n",
       "    .dataframe tbody tr th {\n",
       "        vertical-align: top;\n",
       "    }\n",
       "\n",
       "    .dataframe thead th {\n",
       "        text-align: right;\n",
       "    }\n",
       "</style>\n",
       "<table border=\"1\" class=\"dataframe\">\n",
       "  <thead>\n",
       "    <tr style=\"text-align: right;\">\n",
       "      <th></th>\n",
       "      <th>survived</th>\n",
       "      <th>pclass</th>\n",
       "      <th>sex</th>\n",
       "      <th>age</th>\n",
       "      <th>sibsp</th>\n",
       "      <th>parch</th>\n",
       "      <th>fare</th>\n",
       "      <th>embarked</th>\n",
       "      <th>class</th>\n",
       "      <th>who</th>\n",
       "      <th>adult_male</th>\n",
       "      <th>deck</th>\n",
       "      <th>embark_town</th>\n",
       "      <th>alive</th>\n",
       "      <th>alone</th>\n",
       "      <th>Unnamed: 15</th>\n",
       "    </tr>\n",
       "  </thead>\n",
       "  <tbody>\n",
       "    <tr>\n",
       "      <th>0</th>\n",
       "      <td>0</td>\n",
       "      <td>3</td>\n",
       "      <td>male</td>\n",
       "      <td>22.0</td>\n",
       "      <td>1</td>\n",
       "      <td>0</td>\n",
       "      <td>7.2500</td>\n",
       "      <td>S</td>\n",
       "      <td>Third</td>\n",
       "      <td>man</td>\n",
       "      <td>True</td>\n",
       "      <td>NaN</td>\n",
       "      <td>Southampton</td>\n",
       "      <td>no</td>\n",
       "      <td>False</td>\n",
       "      <td>NaN</td>\n",
       "    </tr>\n",
       "    <tr>\n",
       "      <th>1</th>\n",
       "      <td>1</td>\n",
       "      <td>1</td>\n",
       "      <td>female</td>\n",
       "      <td>38.0</td>\n",
       "      <td>1</td>\n",
       "      <td>0</td>\n",
       "      <td>71.2833</td>\n",
       "      <td>C</td>\n",
       "      <td>First</td>\n",
       "      <td>woman</td>\n",
       "      <td>False</td>\n",
       "      <td>C</td>\n",
       "      <td>Cherbourg</td>\n",
       "      <td>yes</td>\n",
       "      <td>False</td>\n",
       "      <td>NaN</td>\n",
       "    </tr>\n",
       "    <tr>\n",
       "      <th>2</th>\n",
       "      <td>1</td>\n",
       "      <td>3</td>\n",
       "      <td>female</td>\n",
       "      <td>26.0</td>\n",
       "      <td>0</td>\n",
       "      <td>0</td>\n",
       "      <td>7.9250</td>\n",
       "      <td>S</td>\n",
       "      <td>Third</td>\n",
       "      <td>woman</td>\n",
       "      <td>False</td>\n",
       "      <td>NaN</td>\n",
       "      <td>Southampton</td>\n",
       "      <td>yes</td>\n",
       "      <td>True</td>\n",
       "      <td>NaN</td>\n",
       "    </tr>\n",
       "    <tr>\n",
       "      <th>3</th>\n",
       "      <td>1</td>\n",
       "      <td>1</td>\n",
       "      <td>female</td>\n",
       "      <td>35.0</td>\n",
       "      <td>1</td>\n",
       "      <td>0</td>\n",
       "      <td>53.1000</td>\n",
       "      <td>S</td>\n",
       "      <td>First</td>\n",
       "      <td>woman</td>\n",
       "      <td>False</td>\n",
       "      <td>C</td>\n",
       "      <td>Southampton</td>\n",
       "      <td>yes</td>\n",
       "      <td>False</td>\n",
       "      <td>NaN</td>\n",
       "    </tr>\n",
       "    <tr>\n",
       "      <th>4</th>\n",
       "      <td>0</td>\n",
       "      <td>3</td>\n",
       "      <td>male</td>\n",
       "      <td>35.0</td>\n",
       "      <td>0</td>\n",
       "      <td>0</td>\n",
       "      <td>8.0500</td>\n",
       "      <td>S</td>\n",
       "      <td>Third</td>\n",
       "      <td>man</td>\n",
       "      <td>True</td>\n",
       "      <td>NaN</td>\n",
       "      <td>Southampton</td>\n",
       "      <td>no</td>\n",
       "      <td>True</td>\n",
       "      <td>NaN</td>\n",
       "    </tr>\n",
       "  </tbody>\n",
       "</table>\n",
       "</div>"
      ],
      "text/plain": [
       "   survived  pclass     sex   age  sibsp  parch     fare embarked  class  \\\n",
       "0         0       3    male  22.0      1      0   7.2500        S  Third   \n",
       "1         1       1  female  38.0      1      0  71.2833        C  First   \n",
       "2         1       3  female  26.0      0      0   7.9250        S  Third   \n",
       "3         1       1  female  35.0      1      0  53.1000        S  First   \n",
       "4         0       3    male  35.0      0      0   8.0500        S  Third   \n",
       "\n",
       "     who  adult_male deck  embark_town alive  alone  Unnamed: 15  \n",
       "0    man        True  NaN  Southampton    no  False          NaN  \n",
       "1  woman       False    C    Cherbourg   yes  False          NaN  \n",
       "2  woman       False  NaN  Southampton   yes   True          NaN  \n",
       "3  woman       False    C  Southampton   yes  False          NaN  \n",
       "4    man        True  NaN  Southampton    no   True          NaN  "
      ]
     },
     "execution_count": 116,
     "metadata": {},
     "output_type": "execute_result"
    }
   ],
   "source": [
    "data = pd.read_csv('20_titanic.csv')\n",
    "data.head(5)"
   ]
  },
  {
   "cell_type": "code",
   "execution_count": 117,
   "id": "f67c7483-6103-4892-93a7-244008fae629",
   "metadata": {},
   "outputs": [
    {
     "data": {
      "text/html": [
       "<div>\n",
       "<style scoped>\n",
       "    .dataframe tbody tr th:only-of-type {\n",
       "        vertical-align: middle;\n",
       "    }\n",
       "\n",
       "    .dataframe tbody tr th {\n",
       "        vertical-align: top;\n",
       "    }\n",
       "\n",
       "    .dataframe thead th {\n",
       "        text-align: right;\n",
       "    }\n",
       "</style>\n",
       "<table border=\"1\" class=\"dataframe\">\n",
       "  <thead>\n",
       "    <tr style=\"text-align: right;\">\n",
       "      <th></th>\n",
       "      <th>sex</th>\n",
       "    </tr>\n",
       "    <tr>\n",
       "      <th>who</th>\n",
       "      <th></th>\n",
       "    </tr>\n",
       "  </thead>\n",
       "  <tbody>\n",
       "    <tr>\n",
       "      <th>child</th>\n",
       "      <td>83</td>\n",
       "    </tr>\n",
       "    <tr>\n",
       "      <th>man</th>\n",
       "      <td>537</td>\n",
       "    </tr>\n",
       "    <tr>\n",
       "      <th>woman</th>\n",
       "      <td>271</td>\n",
       "    </tr>\n",
       "  </tbody>\n",
       "</table>\n",
       "</div>"
      ],
      "text/plain": [
       "       sex\n",
       "who       \n",
       "child   83\n",
       "man    537\n",
       "woman  271"
      ]
     },
     "execution_count": 117,
     "metadata": {},
     "output_type": "execute_result"
    }
   ],
   "source": [
    "pt = pd.pivot_table(data, index = 'who', values='sex', aggfunc='count')\n",
    "pt"
   ]
  },
  {
   "cell_type": "markdown",
   "id": "acb77d51-1564-4a55-9179-eb22fbb53647",
   "metadata": {},
   "source": [
    "Write a Pandas program to create a Pivot table and check missing values of children.\n"
   ]
  },
  {
   "cell_type": "code",
   "execution_count": 120,
   "id": "d9de224b-00e3-4247-96e4-1b4ba874f855",
   "metadata": {},
   "outputs": [
    {
     "data": {
      "text/plain": [
       "survived        0\n",
       "pclass          0\n",
       "sex             0\n",
       "age             0\n",
       "sibsp           0\n",
       "parch           0\n",
       "fare            0\n",
       "embarked        0\n",
       "class           0\n",
       "who             0\n",
       "adult_male      0\n",
       "deck           70\n",
       "embark_town     0\n",
       "alive           0\n",
       "alone           0\n",
       "Unnamed: 15    83\n",
       "dtype: int64"
      ]
     },
     "execution_count": 120,
     "metadata": {},
     "output_type": "execute_result"
    }
   ],
   "source": [
    "d = data[data['who'] == 'child'].isna().sum()\n",
    "d"
   ]
  },
  {
   "cell_type": "markdown",
   "id": "33e93944-b678-4cdd-929e-2aa0e15d799f",
   "metadata": {},
   "source": [
    "Write a Pandas program to create a Pivot table and find the probability of survival by class, gender, solo boarding and port of embarkation."
   ]
  },
  {
   "cell_type": "code",
   "execution_count": 121,
   "id": "0b95a0f9-c637-4d5d-8c61-8e6942f96c44",
   "metadata": {},
   "outputs": [
    {
     "name": "stdout",
     "output_type": "stream",
     "text": [
      "embark_town  Cherbourg                     Queenstown                   \\\n",
      "class            First    Second     Third      First Second     Third   \n",
      "sex    alone                                                             \n",
      "female False  1.000000  1.000000  0.611111        1.0    NaN  0.625000   \n",
      "       True   0.944444  1.000000  0.800000        NaN    1.0  0.760000   \n",
      "male   False  0.473684  0.166667  0.500000        0.0    NaN  0.100000   \n",
      "       True   0.347826  0.250000  0.151515        NaN    0.0  0.068966   \n",
      "\n",
      "embark_town  Southampton                      \n",
      "class              First    Second     Third  \n",
      "sex    alone                                  \n",
      "female False    0.941176  0.923077  0.327586  \n",
      "       True     1.000000  0.892857  0.466667  \n",
      "male   False    0.407407  0.300000  0.142857  \n",
      "       True     0.326923  0.089552  0.123762  \n"
     ]
    }
   ],
   "source": [
    "result = data.pivot_table('survived', ['sex' , 'alone' ], [ 'embark_town', 'class' ])\n",
    "print(result)"
   ]
  },
  {
   "cell_type": "markdown",
   "id": "d2858027-e3b0-4c0c-9d99-1e5cf1117c8f",
   "metadata": {
    "jp-MarkdownHeadingCollapsed": true
   },
   "source": [
    "# Pandas Datetime"
   ]
  },
  {
   "cell_type": "markdown",
   "id": "0703b724-285d-4eb8-8650-670029c40332",
   "metadata": {},
   "source": [
    "Write a Pandas program to create the todays date.\n",
    "\n"
   ]
  },
  {
   "cell_type": "code",
   "execution_count": 122,
   "id": "44417d92-f7a8-418c-af96-bf4711fa7c32",
   "metadata": {},
   "outputs": [
    {
     "name": "stdout",
     "output_type": "stream",
     "text": [
      "Today's date:\n",
      "2025-01-15 00:00:00\n"
     ]
    }
   ],
   "source": [
    "import pandas as pd\n",
    "from datetime import date\n",
    "\n",
    "now = pd.to_datetime(str(date.today()), format='%Y-%m-%d')\n",
    "\n",
    "print(\"Today's date:\")\n",
    "print(now)\n"
   ]
  },
  {
   "cell_type": "markdown",
   "id": "832f1002-2772-4310-a931-ee1bd010ce81",
   "metadata": {},
   "source": [
    "Write a Pandas program to get the current date, oldest date and number of days between Current date and oldest date of Ufo dataset."
   ]
  },
  {
   "cell_type": "code",
   "execution_count": 126,
   "id": "e64df214-bc6e-431f-97d0-db234d885339",
   "metadata": {},
   "outputs": [
    {
     "data": {
      "text/html": [
       "<div>\n",
       "<style scoped>\n",
       "    .dataframe tbody tr th:only-of-type {\n",
       "        vertical-align: middle;\n",
       "    }\n",
       "\n",
       "    .dataframe tbody tr th {\n",
       "        vertical-align: top;\n",
       "    }\n",
       "\n",
       "    .dataframe thead th {\n",
       "        text-align: right;\n",
       "    }\n",
       "</style>\n",
       "<table border=\"1\" class=\"dataframe\">\n",
       "  <thead>\n",
       "    <tr style=\"text-align: right;\">\n",
       "      <th></th>\n",
       "      <th>datetime</th>\n",
       "      <th>country</th>\n",
       "      <th>shape</th>\n",
       "      <th>duration (seconds)</th>\n",
       "      <th>latitude</th>\n",
       "      <th>longitude</th>\n",
       "    </tr>\n",
       "  </thead>\n",
       "  <tbody>\n",
       "    <tr>\n",
       "      <th>0</th>\n",
       "      <td>10/10/1949 20:30</td>\n",
       "      <td>us</td>\n",
       "      <td>cylinder</td>\n",
       "      <td>2700</td>\n",
       "      <td>29.8830556</td>\n",
       "      <td>-97.941111</td>\n",
       "    </tr>\n",
       "    <tr>\n",
       "      <th>1</th>\n",
       "      <td>10/10/1949 21:00</td>\n",
       "      <td>NaN</td>\n",
       "      <td>light</td>\n",
       "      <td>7200</td>\n",
       "      <td>29.38421</td>\n",
       "      <td>-98.581082</td>\n",
       "    </tr>\n",
       "    <tr>\n",
       "      <th>2</th>\n",
       "      <td>10/10/1955 17:00</td>\n",
       "      <td>gb</td>\n",
       "      <td>circle</td>\n",
       "      <td>20</td>\n",
       "      <td>53.2</td>\n",
       "      <td>-2.916667</td>\n",
       "    </tr>\n",
       "    <tr>\n",
       "      <th>3</th>\n",
       "      <td>10/10/1956 21:00</td>\n",
       "      <td>us</td>\n",
       "      <td>circle</td>\n",
       "      <td>20</td>\n",
       "      <td>28.9783333</td>\n",
       "      <td>-96.645833</td>\n",
       "    </tr>\n",
       "    <tr>\n",
       "      <th>4</th>\n",
       "      <td>10/10/1960 20:00</td>\n",
       "      <td>us</td>\n",
       "      <td>light</td>\n",
       "      <td>900</td>\n",
       "      <td>21.4180556</td>\n",
       "      <td>-157.803611</td>\n",
       "    </tr>\n",
       "  </tbody>\n",
       "</table>\n",
       "</div>"
      ],
      "text/plain": [
       "           datetime country     shape duration (seconds)    latitude  \\\n",
       "0  10/10/1949 20:30      us  cylinder               2700  29.8830556   \n",
       "1  10/10/1949 21:00     NaN     light               7200    29.38421   \n",
       "2  10/10/1955 17:00      gb    circle                 20        53.2   \n",
       "3  10/10/1956 21:00      us    circle                 20  28.9783333   \n",
       "4  10/10/1960 20:00      us     light                900  21.4180556   \n",
       "\n",
       "    longitude  \n",
       "0  -97.941111  \n",
       "1  -98.581082  \n",
       "2   -2.916667  \n",
       "3  -96.645833  \n",
       "4 -157.803611  "
      ]
     },
     "execution_count": 126,
     "metadata": {},
     "output_type": "execute_result"
    }
   ],
   "source": [
    "data = pd.read_csv('20_ufo.csv')\n",
    "data.head(5)"
   ]
  },
  {
   "cell_type": "code",
   "execution_count": 148,
   "id": "e050d64a-9f0c-497d-bd21-0130493d869f",
   "metadata": {
    "scrolled": true
   },
   "outputs": [
    {
     "name": "stdout",
     "output_type": "stream",
     "text": [
      "Original Dataframe:\n",
      "           datetime country     shape duration (seconds)    latitude  \\\n",
      "0  10/10/1949 20:30      us  cylinder               2700  29.8830556   \n",
      "1  10/10/1949 21:00     NaN     light               7200    29.38421   \n",
      "2  10/10/1955 17:00      gb    circle                 20        53.2   \n",
      "3  10/10/1956 21:00      us    circle                 20  28.9783333   \n",
      "4  10/10/1960 20:00      us     light                900  21.4180556   \n",
      "\n",
      "    longitude  \n",
      "0  -97.941111  \n",
      "1  -98.581082  \n",
      "2   -2.916667  \n",
      "3  -96.645833  \n",
      "4 -157.803611  \n",
      "\n",
      "Newest date of Ufo dataset:\n",
      "9/9/2013 23:00\n",
      "\n",
      "Oldest date of Ufo dataset:\n",
      "1/1/1910 24:00\n"
     ]
    }
   ],
   "source": [
    "# df['datetime'] = df['datetime'].replace(r'(\\d{2}/\\d{2}/\\d{4}) 24:00', r'\\1 00:00', regex=True)\n",
    "\n",
    "# data['datetime'] = data['datetime'].astype('datetime64[ns]')\n",
    "\n",
    "# data['datetime'] = pd.to_datetime(data['datetime'])\n",
    "\n",
    "print(\"Original Dataframe:\")\n",
    "print(data.head())\n",
    "\n",
    "print(\"\\nNewest date of Ufo dataset:\")\n",
    "print(data['datetime'].max())\n",
    "\n",
    "print(\"\\nOldest date of Ufo dataset:\")\n",
    "print(data['datetime'].min())\n",
    "\n",
    "# print(\"\\nNumber of days between Current date and oldest date of Ufo dataset:\")\n",
    "# print((data['datetime'].max().to_datetime64() - data['datetime'].min().to_datetime64()))\n"
   ]
  },
  {
   "cell_type": "code",
   "execution_count": 149,
   "id": "3cb73e55-56f0-4fe6-bca2-2e8d4c6fab70",
   "metadata": {},
   "outputs": [
    {
     "data": {
      "text/plain": [
       "datetime               object\n",
       "country                object\n",
       "shape                  object\n",
       "duration (seconds)     object\n",
       "latitude               object\n",
       "longitude             float64\n",
       "dtype: object"
      ]
     },
     "execution_count": 149,
     "metadata": {},
     "output_type": "execute_result"
    }
   ],
   "source": [
    "data.dtypes"
   ]
  },
  {
   "cell_type": "code",
   "execution_count": 158,
   "id": "0f47ddaf-d008-4c9f-a9dd-492f48be2de0",
   "metadata": {},
   "outputs": [
    {
     "name": "stderr",
     "output_type": "stream",
     "text": [
      "C:\\Users\\JeetPrajapati\\AppData\\Local\\Temp\\ipykernel_7052\\4211560806.py:1: DtypeWarning: Columns (5,9) have mixed types. Specify dtype option on import or set low_memory=False.\n",
      "  df = pd.read_csv('20_ufo1.csv')\n"
     ]
    }
   ],
   "source": [
    "df = pd.read_csv('20_ufo1.csv')"
   ]
  },
  {
   "cell_type": "code",
   "execution_count": 161,
   "id": "0a212423-cc03-41b0-bdb0-6f2a7b59abfd",
   "metadata": {},
   "outputs": [
    {
     "data": {
      "text/plain": [
       "(80332, 11)"
      ]
     },
     "execution_count": 161,
     "metadata": {},
     "output_type": "execute_result"
    }
   ],
   "source": [
    "df.shape"
   ]
  },
  {
   "cell_type": "code",
   "execution_count": 166,
   "id": "8d173d6f-0453-45e0-9ed4-f06788830489",
   "metadata": {},
   "outputs": [
    {
     "name": "stdout",
     "output_type": "stream",
     "text": [
      "Original Dataframe:\n",
      "             Date_time                city state/province country UFO_shape  \\\n",
      "39 1985-10-10 20:25:00  leeds (uk/england)            NaN      gb  triangle   \n",
      "40 1986-10-10 20:00:00      holmes/pawling             ny     NaN   chevron   \n",
      "41 1988-10-10 18:00:00           milwaukee             wi      us  triangle   \n",
      "42 1988-10-10 21:00:00      new gloucester             me      us   unknown   \n",
      "43 1988-10-10 22:00:00             boulder             co      us     light   \n",
      "\n",
      "   length_of_encounter_seconds described_duration_of_encounter  \\\n",
      "39                         600                           10min   \n",
      "40                         180                       3 minutes   \n",
      "41                         600                      10 minutes   \n",
      "42                         120                     few minutes   \n",
      "43                          60                        1 minute   \n",
      "\n",
      "                                          description date_documented  \\\n",
      "39  three light in the sky that led to a big black...        3/4/2003   \n",
      "40  Football Field Sized Chevron with bright white...       10/8/2007   \n",
      "41  A silent black triangular object with no light...        8/7/2007   \n",
      "42   I&#39m still afraid to look at the sky at night.       1/10/2009   \n",
      "43  Three Stars Begin to Move Randomly&#44 Stop&#4...       7/16/2006   \n",
      "\n",
      "      latitude   longitude  \n",
      "39        53.8   -1.583333  \n",
      "40   41.523427  -73.646795  \n",
      "41  43.0388889  -87.906389  \n",
      "42  43.9627778  -70.283056  \n",
      "43      40.015 -105.270000  \n",
      "\n",
      "Current date of Ufo dataset:\n",
      "2014-05-08 18:45:00\n",
      "\n",
      "Oldest date of Ufo dataset:\n",
      "1985-01-27 01:30:00\n",
      "\n",
      "Number of days between Current date and oldest date of Ufo dataset:\n",
      "10693\n"
     ]
    }
   ],
   "source": [
    "df['Date_time'] = df['Date_time'].replace(r'24:00', r'00:00')\n",
    "\n",
    "df['Date_time'] = df['Date_time'].astype('datetime64[ns]')\n",
    "print(\"Original Dataframe:\")\n",
    "print(df.head(5))\n",
    "\n",
    "print(\"\\nCurrent date of Ufo dataset:\")\n",
    "print(df.Date_time.max())\n",
    "\n",
    "print(\"\\nOldest date of Ufo dataset:\")\n",
    "print(df.Date_time.min())\n",
    "\n",
    "print(\"\\nNumber of days between Current date and oldest date of Ufo dataset:\")\n",
    "print((df.Date_time.max() - df.Date_time.min()).days)"
   ]
  },
  {
   "cell_type": "markdown",
   "id": "a6be396e-b79c-421d-afd4-aecb10db8bfe",
   "metadata": {},
   "source": [
    "Write a Pandas program to get all the sighting days of the unidentified flying object (ufo) which are less than or equal to 40 years (365*40 days)."
   ]
  },
  {
   "cell_type": "code",
   "execution_count": 163,
   "id": "c8197838-a46c-44aa-b22a-203ac80a56ae",
   "metadata": {},
   "outputs": [],
   "source": [
    "import datetime"
   ]
  },
  {
   "cell_type": "code",
   "execution_count": 165,
   "id": "8b428e61-70c1-4a4d-be4b-2218f9519cec",
   "metadata": {},
   "outputs": [
    {
     "name": "stdout",
     "output_type": "stream",
     "text": [
      "Original Dataframe:\n",
      "             Date_time                city state/province country UFO_shape  \\\n",
      "39 1985-10-10 20:25:00  leeds (uk/england)            NaN      gb  triangle   \n",
      "40 1986-10-10 20:00:00      holmes/pawling             ny     NaN   chevron   \n",
      "41 1988-10-10 18:00:00           milwaukee             wi      us  triangle   \n",
      "42 1988-10-10 21:00:00      new gloucester             me      us   unknown   \n",
      "43 1988-10-10 22:00:00             boulder             co      us     light   \n",
      "\n",
      "   length_of_encounter_seconds described_duration_of_encounter  \\\n",
      "39                         600                           10min   \n",
      "40                         180                       3 minutes   \n",
      "41                         600                      10 minutes   \n",
      "42                         120                     few minutes   \n",
      "43                          60                        1 minute   \n",
      "\n",
      "                                          description date_documented  \\\n",
      "39  three light in the sky that led to a big black...        3/4/2003   \n",
      "40  Football Field Sized Chevron with bright white...       10/8/2007   \n",
      "41  A silent black triangular object with no light...        8/7/2007   \n",
      "42   I&#39m still afraid to look at the sky at night.       1/10/2009   \n",
      "43  Three Stars Begin to Move Randomly&#44 Stop&#4...       7/16/2006   \n",
      "\n",
      "      latitude   longitude  \n",
      "39        53.8   -1.583333  \n",
      "40   41.523427  -73.646795  \n",
      "41  43.0388889  -87.906389  \n",
      "42  43.9627778  -70.283056  \n",
      "43      40.015 -105.270000  \n",
      "\n",
      "Current date:\n",
      "2025-01-15 15:23:53.948771\n",
      "\n",
      "Sighting days of the unidentified flying object (ufo) which are less than or equal to 40 years (365*40 days):\n",
      "             Date_time                city state/province country UFO_shape  \\\n",
      "39 1985-10-10 20:25:00  leeds (uk/england)            NaN      gb  triangle   \n",
      "40 1986-10-10 20:00:00      holmes/pawling             ny     NaN   chevron   \n",
      "41 1988-10-10 18:00:00           milwaukee             wi      us  triangle   \n",
      "42 1988-10-10 21:00:00      new gloucester             me      us   unknown   \n",
      "43 1988-10-10 22:00:00             boulder             co      us     light   \n",
      "\n",
      "   length_of_encounter_seconds described_duration_of_encounter  \\\n",
      "39                         600                           10min   \n",
      "40                         180                       3 minutes   \n",
      "41                         600                      10 minutes   \n",
      "42                         120                     few minutes   \n",
      "43                          60                        1 minute   \n",
      "\n",
      "                                          description date_documented  \\\n",
      "39  three light in the sky that led to a big black...        3/4/2003   \n",
      "40  Football Field Sized Chevron with bright white...       10/8/2007   \n",
      "41  A silent black triangular object with no light...        8/7/2007   \n",
      "42   I&#39m still afraid to look at the sky at night.       1/10/2009   \n",
      "43  Three Stars Begin to Move Randomly&#44 Stop&#4...       7/16/2006   \n",
      "\n",
      "      latitude   longitude  \n",
      "39        53.8   -1.583333  \n",
      "40   41.523427  -73.646795  \n",
      "41  43.0388889  -87.906389  \n",
      "42  43.9627778  -70.283056  \n",
      "43      40.015 -105.270000  \n"
     ]
    }
   ],
   "source": [
    "df['Date_time'] = df['Date_time'].astype('datetime64[ns]')\n",
    "\n",
    "now = pd.to_datetime('today')\n",
    "duration = datetime.timedelta(days=365*40)\n",
    "\n",
    "print(\"Original Dataframe:\")\n",
    "print(df.head(5))\n",
    "\n",
    "print(\"\\nCurrent date:\")\n",
    "print(now)\n",
    "\n",
    "print(\"\\nSighting days of the unidentified flying object (ufo) which are less than or equal to 40 years (365*40 days):\")\n",
    "df =  df[now - df['Date_time'] <= duration]\n",
    "print(df.head(5))"
   ]
  },
  {
   "cell_type": "markdown",
   "id": "318adfe5-0f17-4c23-a7f7-f6abe4a73e46",
   "metadata": {},
   "source": [
    "Write a Pandas program to create a comparison of the top 10 years in which the UFO was sighted vs each Month."
   ]
  },
  {
   "cell_type": "code",
   "execution_count": 173,
   "id": "b5ca13ce-d37b-469b-84dc-369ae12edf0b",
   "metadata": {},
   "outputs": [
    {
     "name": "stderr",
     "output_type": "stream",
     "text": [
      "C:\\Users\\JeetPrajapati\\AppData\\Local\\Temp\\ipykernel_7052\\1196074856.py:1: DtypeWarning: Columns (5,9) have mixed types. Specify dtype option on import or set low_memory=False.\n",
      "  df = pd.read_csv('20_ufo1.csv')\n"
     ]
    }
   ],
   "source": [
    "df = pd.read_csv('20_ufo1.csv')\n",
    "\n",
    "df['Date_time'] = df['Date_time'].replace(r'24:00', r'00:00', regex=True)"
   ]
  },
  {
   "cell_type": "code",
   "execution_count": 174,
   "id": "f761aa59-cc3b-44e5-9cec-b7d90e7156e0",
   "metadata": {},
   "outputs": [
    {
     "name": "stdout",
     "output_type": "stream",
     "text": [
      "\n",
      "Comparison of the top 10 years in which the UFO was sighted vs each month:\n",
      "Date_time   1    2    3    4    5    6    7    8    9    10   11   12\n",
      "Date_time                                                            \n",
      "2003       287  230  169  204  220  271  410  499  467  424  437  344\n",
      "2004       266  265  372  355  353  376  401  498  379  417  294  281\n",
      "2005       228  255  327  294  271  370  419  321  480  444  420  254\n",
      "2007       398  243  331  290  278  384  432  430  416  398  341  328\n",
      "2008       436  345  304  404  313  443  530  468  356  485  419  317\n",
      "2009       454  367  313  294  339  357  543  464  569  286  293  262\n",
      "2010       258  171  236  269  306  341  793  480  414  422  316  277\n",
      "2011       298  255  309  294  283  374  715  599  503  590  403  484\n",
      "2012       528  357  489  462  472  695  880  827  695  620  719  613\n",
      "2013       356  264  372  387  487  581  902  842  717  720  719  690\n"
     ]
    }
   ],
   "source": [
    "\n",
    "df['Date_time'] = df['Date_time'].astype('datetime64[ns]')\n",
    "\n",
    "most_sightings_years = df['Date_time'].dt.year.value_counts().head(10)\n",
    "\n",
    "def is_top_years(year):\n",
    "   if year in most_sightings_years.index:\n",
    "       return year\n",
    "       \n",
    "month_vs_year = df.pivot_table(columns=df['Date_time'].dt.month,index=df['Date_time'].dt.year.apply(is_top_years),aggfunc='count',values='city')\n",
    "\n",
    "month_vs_year.index = month_vs_year.index.astype(int)\n",
    "month_vs_year.columns = month_vs_year.columns.astype(int)\n",
    "\n",
    "print(\"\\nComparison of the top 10 years in which the UFO was sighted vs each month:\")\n",
    "print(month_vs_year.head(10))"
   ]
  },
  {
   "cell_type": "markdown",
   "id": "dbccde2b-769c-4fa0-b00b-c797927da36b",
   "metadata": {
    "jp-MarkdownHeadingCollapsed": true
   },
   "source": [
    "# Pandas Plotting"
   ]
  },
  {
   "cell_type": "code",
   "execution_count": 177,
   "id": "9a2d8b14-485e-4f13-8edc-cb364a2f8485",
   "metadata": {},
   "outputs": [],
   "source": [
    "import pandas as pd\n",
    "import matplotlib.pyplot as plt"
   ]
  },
  {
   "cell_type": "code",
   "execution_count": 176,
   "id": "8e01893c-aa12-4403-9bd5-68a4dd9dbee5",
   "metadata": {},
   "outputs": [
    {
     "data": {
      "text/html": [
       "<div>\n",
       "<style scoped>\n",
       "    .dataframe tbody tr th:only-of-type {\n",
       "        vertical-align: middle;\n",
       "    }\n",
       "\n",
       "    .dataframe tbody tr th {\n",
       "        vertical-align: top;\n",
       "    }\n",
       "\n",
       "    .dataframe thead th {\n",
       "        text-align: right;\n",
       "    }\n",
       "</style>\n",
       "<table border=\"1\" class=\"dataframe\">\n",
       "  <thead>\n",
       "    <tr style=\"text-align: right;\">\n",
       "      <th></th>\n",
       "      <th>Date</th>\n",
       "      <th>Open</th>\n",
       "      <th>High</th>\n",
       "      <th>Low</th>\n",
       "      <th>Close</th>\n",
       "      <th>Adj Close</th>\n",
       "      <th>Volume</th>\n",
       "    </tr>\n",
       "  </thead>\n",
       "  <tbody>\n",
       "    <tr>\n",
       "      <th>0</th>\n",
       "      <td>2020-04-01</td>\n",
       "      <td>1122.000000</td>\n",
       "      <td>1129.689941</td>\n",
       "      <td>1097.449951</td>\n",
       "      <td>1105.619995</td>\n",
       "      <td>1105.619995</td>\n",
       "      <td>2343100</td>\n",
       "    </tr>\n",
       "    <tr>\n",
       "      <th>1</th>\n",
       "      <td>2020-04-02</td>\n",
       "      <td>1098.260010</td>\n",
       "      <td>1126.859985</td>\n",
       "      <td>1096.400024</td>\n",
       "      <td>1120.839966</td>\n",
       "      <td>1120.839966</td>\n",
       "      <td>1964900</td>\n",
       "    </tr>\n",
       "    <tr>\n",
       "      <th>2</th>\n",
       "      <td>2020-04-03</td>\n",
       "      <td>1119.015015</td>\n",
       "      <td>1123.540039</td>\n",
       "      <td>1079.810059</td>\n",
       "      <td>1097.880005</td>\n",
       "      <td>1097.880005</td>\n",
       "      <td>2313400</td>\n",
       "    </tr>\n",
       "    <tr>\n",
       "      <th>3</th>\n",
       "      <td>2020-04-06</td>\n",
       "      <td>1138.000000</td>\n",
       "      <td>1194.660034</td>\n",
       "      <td>1130.939941</td>\n",
       "      <td>1186.920044</td>\n",
       "      <td>1186.920044</td>\n",
       "      <td>2664700</td>\n",
       "    </tr>\n",
       "    <tr>\n",
       "      <th>4</th>\n",
       "      <td>2020-04-07</td>\n",
       "      <td>1221.000000</td>\n",
       "      <td>1225.000000</td>\n",
       "      <td>1182.229980</td>\n",
       "      <td>1186.510010</td>\n",
       "      <td>1186.510010</td>\n",
       "      <td>2387300</td>\n",
       "    </tr>\n",
       "  </tbody>\n",
       "</table>\n",
       "</div>"
      ],
      "text/plain": [
       "         Date         Open         High          Low        Close  \\\n",
       "0  2020-04-01  1122.000000  1129.689941  1097.449951  1105.619995   \n",
       "1  2020-04-02  1098.260010  1126.859985  1096.400024  1120.839966   \n",
       "2  2020-04-03  1119.015015  1123.540039  1079.810059  1097.880005   \n",
       "3  2020-04-06  1138.000000  1194.660034  1130.939941  1186.920044   \n",
       "4  2020-04-07  1221.000000  1225.000000  1182.229980  1186.510010   \n",
       "\n",
       "     Adj Close   Volume  \n",
       "0  1105.619995  2343100  \n",
       "1  1120.839966  1964900  \n",
       "2  1097.880005  2313400  \n",
       "3  1186.920044  2664700  \n",
       "4  1186.510010  2387300  "
      ]
     },
     "execution_count": 176,
     "metadata": {},
     "output_type": "execute_result"
    }
   ],
   "source": [
    "data = pd.read_csv('20_alphabet_stock_data.csv')\n",
    "data.head(5)"
   ]
  },
  {
   "cell_type": "markdown",
   "id": "4f3e30c8-d68b-4349-ae21-e2ba1a947e0e",
   "metadata": {},
   "source": [
    "Write a Pandas program to create a line plot of the historical stock prices of Alphabet Inc. between two specific dates."
   ]
  },
  {
   "cell_type": "code",
   "execution_count": 181,
   "id": "7ca6befe-2219-4071-8c26-b8ae8a46ff03",
   "metadata": {},
   "outputs": [],
   "source": [
    "start_date = pd.to_datetime('2020-4-1')\n",
    "end_date = pd.to_datetime('2020-09-30')                         \n",
    "data['Date'] = pd.to_datetime(data['Date']) \n",
    "new_df = (data['Date']>= start_date) & (data['Date']<= end_date)"
   ]
  },
  {
   "cell_type": "code",
   "execution_count": 186,
   "id": "b870382c-0e85-41f8-a4c8-51bf338c7674",
   "metadata": {},
   "outputs": [],
   "source": [
    "data = data[new_df]"
   ]
  },
  {
   "cell_type": "code",
   "execution_count": 190,
   "id": "834383c2-02d6-4259-8c84-2acebcd08047",
   "metadata": {},
   "outputs": [
    {
     "data": {
      "image/png": "[encoded data removed]",
      "text/plain": [
       "<Figure size 640x480 with 1 Axes>"
      ]
     },
     "metadata": {},
     "output_type": "display_data"
    }
   ],
   "source": [
    "data.plot(x='Date', y=['High','Low'], kind='line')\n",
    "plt.xlabel('Duration')\n",
    "plt.ylabel('Price')\n",
    "plt.show()"
   ]
  },
  {
   "cell_type": "markdown",
   "id": "a134c031-57cf-4b13-9dae-33872025a722",
   "metadata": {},
   "source": [
    "Write a Pandas program to create a scatter plot of the trading volume/stock prices of Alphabet Inc. stock between two specific dates."
   ]
  },
  {
   "cell_type": "code",
   "execution_count": 193,
   "id": "058ceffa-06c2-4dd7-a05e-489c6a5d6374",
   "metadata": {},
   "outputs": [
    {
     "data": {
      "image/png": "[encoded data removed]",
      "text/plain": [
       "<Figure size 640x480 with 1 Axes>"
      ]
     },
     "metadata": {},
     "output_type": "display_data"
    }
   ],
   "source": [
    "data.plot(x = 'Volume', y= 'Close', kind='scatter')\n",
    "plt.grid(True)\n",
    "plt.show()"
   ]
  },
  {
   "cell_type": "markdown",
   "id": "17d880b1-53a6-4655-992a-d26c79b5b582",
   "metadata": {},
   "source": [
    "Write a Pandas program to create a histogram to visualize daily return distribution of Alphabet Inc. stock price between two specific dates"
   ]
  },
  {
   "cell_type": "code",
   "execution_count": 194,
   "id": "70b3e5f0-ca93-492d-a41c-dc1663bce66d",
   "metadata": {},
   "outputs": [],
   "source": [
    "data['Daily Return'] = data['Adj Close'].pct_change() * 100"
   ]
  },
  {
   "cell_type": "code",
   "execution_count": 195,
   "id": "55ed08cd-28e2-4c0a-942b-ea1be29b6b01",
   "metadata": {},
   "outputs": [
    {
     "data": {
      "text/html": [
       "<div>\n",
       "<style scoped>\n",
       "    .dataframe tbody tr th:only-of-type {\n",
       "        vertical-align: middle;\n",
       "    }\n",
       "\n",
       "    .dataframe tbody tr th {\n",
       "        vertical-align: top;\n",
       "    }\n",
       "\n",
       "    .dataframe thead th {\n",
       "        text-align: right;\n",
       "    }\n",
       "</style>\n",
       "<table border=\"1\" class=\"dataframe\">\n",
       "  <thead>\n",
       "    <tr style=\"text-align: right;\">\n",
       "      <th></th>\n",
       "      <th>Date</th>\n",
       "      <th>Open</th>\n",
       "      <th>High</th>\n",
       "      <th>Low</th>\n",
       "      <th>Close</th>\n",
       "      <th>Adj Close</th>\n",
       "      <th>Volume</th>\n",
       "      <th>Daily Return</th>\n",
       "    </tr>\n",
       "  </thead>\n",
       "  <tbody>\n",
       "    <tr>\n",
       "      <th>0</th>\n",
       "      <td>2020-04-01</td>\n",
       "      <td>1122.000000</td>\n",
       "      <td>1129.689941</td>\n",
       "      <td>1097.449951</td>\n",
       "      <td>1105.619995</td>\n",
       "      <td>1105.619995</td>\n",
       "      <td>2343100</td>\n",
       "      <td>NaN</td>\n",
       "    </tr>\n",
       "    <tr>\n",
       "      <th>1</th>\n",
       "      <td>2020-04-02</td>\n",
       "      <td>1098.260010</td>\n",
       "      <td>1126.859985</td>\n",
       "      <td>1096.400024</td>\n",
       "      <td>1120.839966</td>\n",
       "      <td>1120.839966</td>\n",
       "      <td>1964900</td>\n",
       "      <td>1.376601</td>\n",
       "    </tr>\n",
       "    <tr>\n",
       "      <th>2</th>\n",
       "      <td>2020-04-03</td>\n",
       "      <td>1119.015015</td>\n",
       "      <td>1123.540039</td>\n",
       "      <td>1079.810059</td>\n",
       "      <td>1097.880005</td>\n",
       "      <td>1097.880005</td>\n",
       "      <td>2313400</td>\n",
       "      <td>-2.048460</td>\n",
       "    </tr>\n",
       "    <tr>\n",
       "      <th>3</th>\n",
       "      <td>2020-04-06</td>\n",
       "      <td>1138.000000</td>\n",
       "      <td>1194.660034</td>\n",
       "      <td>1130.939941</td>\n",
       "      <td>1186.920044</td>\n",
       "      <td>1186.920044</td>\n",
       "      <td>2664700</td>\n",
       "      <td>8.110179</td>\n",
       "    </tr>\n",
       "    <tr>\n",
       "      <th>4</th>\n",
       "      <td>2020-04-07</td>\n",
       "      <td>1221.000000</td>\n",
       "      <td>1225.000000</td>\n",
       "      <td>1182.229980</td>\n",
       "      <td>1186.510010</td>\n",
       "      <td>1186.510010</td>\n",
       "      <td>2387300</td>\n",
       "      <td>-0.034546</td>\n",
       "    </tr>\n",
       "  </tbody>\n",
       "</table>\n",
       "</div>"
      ],
      "text/plain": [
       "        Date         Open         High          Low        Close    Adj Close  \\\n",
       "0 2020-04-01  1122.000000  1129.689941  1097.449951  1105.619995  1105.619995   \n",
       "1 2020-04-02  1098.260010  1126.859985  1096.400024  1120.839966  1120.839966   \n",
       "2 2020-04-03  1119.015015  1123.540039  1079.810059  1097.880005  1097.880005   \n",
       "3 2020-04-06  1138.000000  1194.660034  1130.939941  1186.920044  1186.920044   \n",
       "4 2020-04-07  1221.000000  1225.000000  1182.229980  1186.510010  1186.510010   \n",
       "\n",
       "    Volume  Daily Return  \n",
       "0  2343100           NaN  \n",
       "1  1964900      1.376601  \n",
       "2  2313400     -2.048460  \n",
       "3  2664700      8.110179  \n",
       "4  2387300     -0.034546  "
      ]
     },
     "execution_count": 195,
     "metadata": {},
     "output_type": "execute_result"
    }
   ],
   "source": [
    "data.head(5)"
   ]
  },
  {
   "cell_type": "code",
   "execution_count": 198,
   "id": "6fb44ccc-73de-4809-b3d1-4aa3cc9b59b6",
   "metadata": {},
   "outputs": [],
   "source": [
    "data = data.dropna()"
   ]
  },
  {
   "cell_type": "code",
   "execution_count": 199,
   "id": "ed574f8b-d5fc-4594-9870-681c6db8d3e1",
   "metadata": {},
   "outputs": [
    {
     "data": {
      "text/html": [
       "<div>\n",
       "<style scoped>\n",
       "    .dataframe tbody tr th:only-of-type {\n",
       "        vertical-align: middle;\n",
       "    }\n",
       "\n",
       "    .dataframe tbody tr th {\n",
       "        vertical-align: top;\n",
       "    }\n",
       "\n",
       "    .dataframe thead th {\n",
       "        text-align: right;\n",
       "    }\n",
       "</style>\n",
       "<table border=\"1\" class=\"dataframe\">\n",
       "  <thead>\n",
       "    <tr style=\"text-align: right;\">\n",
       "      <th></th>\n",
       "      <th>Date</th>\n",
       "      <th>Open</th>\n",
       "      <th>High</th>\n",
       "      <th>Low</th>\n",
       "      <th>Close</th>\n",
       "      <th>Adj Close</th>\n",
       "      <th>Volume</th>\n",
       "      <th>Daily Return</th>\n",
       "    </tr>\n",
       "  </thead>\n",
       "  <tbody>\n",
       "    <tr>\n",
       "      <th>1</th>\n",
       "      <td>2020-04-02</td>\n",
       "      <td>1098.260010</td>\n",
       "      <td>1126.859985</td>\n",
       "      <td>1096.400024</td>\n",
       "      <td>1120.839966</td>\n",
       "      <td>1120.839966</td>\n",
       "      <td>1964900</td>\n",
       "      <td>1.376601</td>\n",
       "    </tr>\n",
       "    <tr>\n",
       "      <th>2</th>\n",
       "      <td>2020-04-03</td>\n",
       "      <td>1119.015015</td>\n",
       "      <td>1123.540039</td>\n",
       "      <td>1079.810059</td>\n",
       "      <td>1097.880005</td>\n",
       "      <td>1097.880005</td>\n",
       "      <td>2313400</td>\n",
       "      <td>-2.048460</td>\n",
       "    </tr>\n",
       "    <tr>\n",
       "      <th>3</th>\n",
       "      <td>2020-04-06</td>\n",
       "      <td>1138.000000</td>\n",
       "      <td>1194.660034</td>\n",
       "      <td>1130.939941</td>\n",
       "      <td>1186.920044</td>\n",
       "      <td>1186.920044</td>\n",
       "      <td>2664700</td>\n",
       "      <td>8.110179</td>\n",
       "    </tr>\n",
       "    <tr>\n",
       "      <th>4</th>\n",
       "      <td>2020-04-07</td>\n",
       "      <td>1221.000000</td>\n",
       "      <td>1225.000000</td>\n",
       "      <td>1182.229980</td>\n",
       "      <td>1186.510010</td>\n",
       "      <td>1186.510010</td>\n",
       "      <td>2387300</td>\n",
       "      <td>-0.034546</td>\n",
       "    </tr>\n",
       "    <tr>\n",
       "      <th>5</th>\n",
       "      <td>2020-04-08</td>\n",
       "      <td>1206.500000</td>\n",
       "      <td>1219.069946</td>\n",
       "      <td>1188.160034</td>\n",
       "      <td>1210.280029</td>\n",
       "      <td>1210.280029</td>\n",
       "      <td>1975100</td>\n",
       "      <td>2.003356</td>\n",
       "    </tr>\n",
       "  </tbody>\n",
       "</table>\n",
       "</div>"
      ],
      "text/plain": [
       "        Date         Open         High          Low        Close    Adj Close  \\\n",
       "1 2020-04-02  1098.260010  1126.859985  1096.400024  1120.839966  1120.839966   \n",
       "2 2020-04-03  1119.015015  1123.540039  1079.810059  1097.880005  1097.880005   \n",
       "3 2020-04-06  1138.000000  1194.660034  1130.939941  1186.920044  1186.920044   \n",
       "4 2020-04-07  1221.000000  1225.000000  1182.229980  1186.510010  1186.510010   \n",
       "5 2020-04-08  1206.500000  1219.069946  1188.160034  1210.280029  1210.280029   \n",
       "\n",
       "    Volume  Daily Return  \n",
       "1  1964900      1.376601  \n",
       "2  2313400     -2.048460  \n",
       "3  2664700      8.110179  \n",
       "4  2387300     -0.034546  \n",
       "5  1975100      2.003356  "
      ]
     },
     "execution_count": 199,
     "metadata": {},
     "output_type": "execute_result"
    }
   ],
   "source": [
    "data.head(5)"
   ]
  },
  {
   "cell_type": "code",
   "execution_count": 200,
   "id": "77693387-8387-46c4-a325-901c205e1335",
   "metadata": {},
   "outputs": [
    {
     "data": {
      "image/png": "[encoded data removed]",
      "text/plain": [
       "<Figure size 1000x600 with 1 Axes>"
      ]
     },
     "metadata": {},
     "output_type": "display_data"
    }
   ],
   "source": [
    "plt.figure(figsize=(10, 6))\n",
    "data['Daily Return'].plot(kind='hist', bins=30, color='skyblue', edgecolor='black', alpha=0.7)\n",
    "\n",
    "plt.title('Daily Return Distribution of Alphabet Inc. Stock Price (April 2020 - September 2020)')\n",
    "plt.xlabel('Daily Return (%)')\n",
    "plt.ylabel('Frequency')\n",
    "plt.grid(True)\n",
    "\n",
    "plt.show()"
   ]
  },
  {
   "cell_type": "markdown",
   "id": "f811ef22-41ed-4f0f-936b-d2a578ace414",
   "metadata": {
    "jp-MarkdownHeadingCollapsed": true
   },
   "source": [
    "# Pandas Performance Optimization"
   ]
  },
  {
   "cell_type": "code",
   "execution_count": 201,
   "id": "8dd51b54-17e2-4525-85b9-c964bb2f6cef",
   "metadata": {},
   "outputs": [],
   "source": [
    "import pandas as pd  \n",
    "import numpy as np  \n",
    "import time  "
   ]
  },
  {
   "cell_type": "markdown",
   "id": "87a09c1b-758c-4f6d-9c4f-c35bf44d2e29",
   "metadata": {},
   "source": [
    "Write a Pandas program to create a large DataFrame and measure the time taken to sum a column using a for loop vs. using the sum method."
   ]
  },
  {
   "cell_type": "code",
   "execution_count": 202,
   "id": "fd04b212-7dc3-4d81-83e8-bacf1bc61068",
   "metadata": {},
   "outputs": [
    {
     "name": "stdout",
     "output_type": "stream",
     "text": [
      "Sum using for loop: 49988718\n",
      "Time taken using for loop: 0.42386603355407715 seconds\n",
      "Sum using sum method: 49988718\n",
      "Time taken using sum method: 0.001993894577026367 seconds\n"
     ]
    }
   ],
   "source": [
    "np.random.seed(0)  \n",
    "data = np.random.randint(1, 100, size=(1000000, 1))  \n",
    "df = pd.DataFrame(data, columns=['Values'])  \n",
    "\n",
    "\n",
    "start_time = time.time()  \n",
    "sum_for_loop = 0  \n",
    "for value in df['Values']:  \n",
    "    sum_for_loop += value  \n",
    "time_for_loop = time.time() - start_time \n",
    "\n",
    "start_time = time.time()  \n",
    "sum_method = df['Values'].sum()  \n",
    "time_sum_method = time.time() - start_time  \n",
    "\n",
    "print(\"Sum using for loop:\", sum_for_loop)\n",
    "print(\"Time taken using for loop:\", time_for_loop, \"seconds\")\n",
    "print(\"Sum using sum method:\", sum_method)\n",
    "print(\"Time taken using sum method:\", time_sum_method, \"seconds\")\n"
   ]
  },
  {
   "cell_type": "markdown",
   "id": "304095f3-7454-468a-8eae-e9c6336b4224",
   "metadata": {},
   "source": [
    "Write a Python program that uses the agg method to apply multiple aggregation functions to a DataFrame and compares the performance with applying each function individually."
   ]
  },
  {
   "cell_type": "code",
   "execution_count": 203,
   "id": "00cb67f6-0713-4a8a-9f06-c7d3c972e3dd",
   "metadata": {},
   "outputs": [
    {
     "name": "stdout",
     "output_type": "stream",
     "text": [
      "Time using agg method: 0.008975 seconds\n",
      "Time applying functions individually: 0.000998 seconds\n",
      "Aggregated results using agg method:\n",
      "                 A           B             C\n",
      "sum   49723.000000  509.199400  48276.000000\n",
      "mean     49.723000    0.509199     48.276000\n",
      "std      28.857183    0.296208     28.470799\n",
      "Results applying functions individually:\n",
      "{'A_sum': 49723, 'A_mean': 49.723, 'A_std': 28.857182953434812, 'B_sum': 509.19940043113445, 'B_mean': 0.5091994004311344, 'B_std': 0.2962083809189193, 'C_sum': 48276, 'C_mean': 48.276, 'C_std': 28.47079925837016}\n"
     ]
    }
   ],
   "source": [
    "\n",
    "np.random.seed(0)\n",
    "df = pd.DataFrame({\n",
    "    'A': np.random.randint(1, 100, 1000),\n",
    "    'B': np.random.rand(1000),\n",
    "    'C': np.random.randint(1, 100, 1000)\n",
    "})\n",
    "\n",
    "aggregations = {\n",
    "    'A': ['sum', 'mean', 'std'],\n",
    "    'B': ['sum', 'mean', 'std'],\n",
    "    'C': ['sum', 'mean', 'std']\n",
    "}\n",
    "\n",
    "start_time_agg = time.time()\n",
    "df_agg = df.agg(aggregations)\n",
    "time_agg = time.time() - start_time_agg\n",
    "\n",
    "start_time_individual = time.time()\n",
    "results_individual = {\n",
    "    'A_sum': df['A'].sum(),\n",
    "    'A_mean': df['A'].mean(),\n",
    "    'A_std': df['A'].std(),\n",
    "    'B_sum': df['B'].sum(),\n",
    "    'B_mean': df['B'].mean(),\n",
    "    'B_std': df['B'].std(),\n",
    "    'C_sum': df['C'].sum(),\n",
    "    'C_mean': df['C'].mean(),\n",
    "    'C_std': df['C'].std()\n",
    "}\n",
    "time_individual = time.time() - start_time_individual\n",
    "\n",
    "print(f\"Time using agg method: {time_agg:.6f} seconds\")\n",
    "print(f\"Time applying functions individually: {time_individual:.6f} seconds\")\n",
    "print(\"Aggregated results using agg method:\")\n",
    "print(df_agg)\n",
    "print(\"Results applying functions individually:\")\n",
    "print(results_individual)\n"
   ]
  },
  {
   "cell_type": "markdown",
   "id": "4a2dd2ce-ef5a-449d-99f4-11822f94481d",
   "metadata": {},
   "source": [
    "Write a Pandas program to optimize the performance of reading a large  Excel file into a DataFrame by specifying data types and using the 'usecols' parameter."
   ]
  },
  {
   "cell_type": "code",
   "execution_count": 205,
   "id": "297ab1d4-80c4-4983-984d-ab7e4ccdf817",
   "metadata": {},
   "outputs": [
    {
     "data": {
      "text/plain": [
       "OrderDate     datetime64[ns]\n",
       "Region                object\n",
       "Manager               object\n",
       "SalesMan              object\n",
       "Item                  object\n",
       "Units                float64\n",
       "Unit_price           float64\n",
       "Sale_amt             float64\n",
       "dtype: object"
      ]
     },
     "execution_count": 205,
     "metadata": {},
     "output_type": "execute_result"
    }
   ],
   "source": [
    "file_path = '20_SaleData.xlsx'\n",
    "data = pd.read_excel(file_path)\n",
    "data.dtypes"
   ]
  },
  {
   "cell_type": "code",
   "execution_count": 206,
   "id": "c5593061-802a-47bd-9b8d-8869047bd67e",
   "metadata": {},
   "outputs": [
    {
     "name": "stdout",
     "output_type": "stream",
     "text": [
      "    Region          Item  Sale_amt\n",
      "0     East    Television  113810.0\n",
      "1  Central  Home Theater   25000.0\n",
      "2  Central    Television   43128.0\n",
      "3  Central    Cell Phone    6075.0\n",
      "4     West    Television   67088.0\n"
     ]
    }
   ],
   "source": [
    "dtypes = {\n",
    "    'Region': 'object',\n",
    "    'Item': 'object',\n",
    "    'Sale_amt': 'float64'\n",
    "}\n",
    "\n",
    "usecols = ['Region', 'Item', 'Sale_amt']\n",
    "\n",
    "df = pd.read_excel(file_path, dtype=dtypes, usecols=usecols)\n",
    "\n",
    "print(df.head(5))\n"
   ]
  },
  {
   "cell_type": "markdown",
   "id": "b9ccb655-9bbc-414c-85b9-a06cd4cc7402",
   "metadata": {
    "jp-MarkdownHeadingCollapsed": true
   },
   "source": [
    "# Pandas Advanced Indexing and Slicing"
   ]
  },
  {
   "cell_type": "markdown",
   "id": "a1bc8384-3333-4b57-aa4b-3a73f1f20514",
   "metadata": {},
   "source": [
    "Write a Pandas program to select rows where the value in the 'A' column is greater than 4."
   ]
  },
  {
   "cell_type": "code",
   "execution_count": 207,
   "id": "2694e244-a77b-40f3-a3e4-fb785df947a2",
   "metadata": {},
   "outputs": [],
   "source": [
    "import pandas as pd"
   ]
  },
  {
   "cell_type": "code",
   "execution_count": 208,
   "id": "a8adbafb-a301-448f-8f61-8b62d3550296",
   "metadata": {},
   "outputs": [],
   "source": [
    "df = pd.DataFrame({\n",
    "    'A': [1, 6, 8, 3, 7],\n",
    "    'B': [5, 2, 9, 4, 1]\n",
    "})"
   ]
  },
  {
   "cell_type": "code",
   "execution_count": 209,
   "id": "0640c2c7-dd13-4991-8cf6-41fa67f1c650",
   "metadata": {},
   "outputs": [
    {
     "data": {
      "text/html": [
       "<div>\n",
       "<style scoped>\n",
       "    .dataframe tbody tr th:only-of-type {\n",
       "        vertical-align: middle;\n",
       "    }\n",
       "\n",
       "    .dataframe tbody tr th {\n",
       "        vertical-align: top;\n",
       "    }\n",
       "\n",
       "    .dataframe thead th {\n",
       "        text-align: right;\n",
       "    }\n",
       "</style>\n",
       "<table border=\"1\" class=\"dataframe\">\n",
       "  <thead>\n",
       "    <tr style=\"text-align: right;\">\n",
       "      <th></th>\n",
       "      <th>A</th>\n",
       "      <th>B</th>\n",
       "    </tr>\n",
       "  </thead>\n",
       "  <tbody>\n",
       "    <tr>\n",
       "      <th>1</th>\n",
       "      <td>6</td>\n",
       "      <td>2</td>\n",
       "    </tr>\n",
       "    <tr>\n",
       "      <th>2</th>\n",
       "      <td>8</td>\n",
       "      <td>9</td>\n",
       "    </tr>\n",
       "    <tr>\n",
       "      <th>4</th>\n",
       "      <td>7</td>\n",
       "      <td>1</td>\n",
       "    </tr>\n",
       "  </tbody>\n",
       "</table>\n",
       "</div>"
      ],
      "text/plain": [
       "   A  B\n",
       "1  6  2\n",
       "2  8  9\n",
       "4  7  1"
      ]
     },
     "execution_count": 209,
     "metadata": {},
     "output_type": "execute_result"
    }
   ],
   "source": [
    "df[df['A'] > 4]"
   ]
  },
  {
   "cell_type": "markdown",
   "id": "7908f874-865a-4567-85d6-630af386b64d",
   "metadata": {},
   "source": [
    "Write a Pandas program to set a MultiIndex and access specific data using it."
   ]
  },
  {
   "cell_type": "code",
   "execution_count": 210,
   "id": "eeb47d23-cfbe-4b87-a397-6b236c38817d",
   "metadata": {},
   "outputs": [],
   "source": [
    "df = pd.DataFrame({\n",
    "    'X': [1, 6, 8, 3, 7],\n",
    "    'Y': [5, 2, 9, 4, 1],\n",
    "    'Z': ['one', 'one', 'two', 'two', 'one']\n",
    "})\n",
    "\n",
    "df = df.set_index(['Z', 'X'])"
   ]
  },
  {
   "cell_type": "code",
   "execution_count": 211,
   "id": "ad1c9a98-d27c-4c14-82cf-3663a169accb",
   "metadata": {},
   "outputs": [
    {
     "data": {
      "text/html": [
       "<div>\n",
       "<style scoped>\n",
       "    .dataframe tbody tr th:only-of-type {\n",
       "        vertical-align: middle;\n",
       "    }\n",
       "\n",
       "    .dataframe tbody tr th {\n",
       "        vertical-align: top;\n",
       "    }\n",
       "\n",
       "    .dataframe thead th {\n",
       "        text-align: right;\n",
       "    }\n",
       "</style>\n",
       "<table border=\"1\" class=\"dataframe\">\n",
       "  <thead>\n",
       "    <tr style=\"text-align: right;\">\n",
       "      <th></th>\n",
       "      <th></th>\n",
       "      <th>Y</th>\n",
       "    </tr>\n",
       "    <tr>\n",
       "      <th>Z</th>\n",
       "      <th>X</th>\n",
       "      <th></th>\n",
       "    </tr>\n",
       "  </thead>\n",
       "  <tbody>\n",
       "    <tr>\n",
       "      <th rowspan=\"2\" valign=\"top\">one</th>\n",
       "      <th>1</th>\n",
       "      <td>5</td>\n",
       "    </tr>\n",
       "    <tr>\n",
       "      <th>6</th>\n",
       "      <td>2</td>\n",
       "    </tr>\n",
       "    <tr>\n",
       "      <th rowspan=\"2\" valign=\"top\">two</th>\n",
       "      <th>8</th>\n",
       "      <td>9</td>\n",
       "    </tr>\n",
       "    <tr>\n",
       "      <th>3</th>\n",
       "      <td>4</td>\n",
       "    </tr>\n",
       "    <tr>\n",
       "      <th>one</th>\n",
       "      <th>7</th>\n",
       "      <td>1</td>\n",
       "    </tr>\n",
       "  </tbody>\n",
       "</table>\n",
       "</div>"
      ],
      "text/plain": [
       "       Y\n",
       "Z   X   \n",
       "one 1  5\n",
       "    6  2\n",
       "two 8  9\n",
       "    3  4\n",
       "one 7  1"
      ]
     },
     "execution_count": 211,
     "metadata": {},
     "output_type": "execute_result"
    }
   ],
   "source": [
    "df"
   ]
  },
  {
   "cell_type": "code",
   "execution_count": 212,
   "id": "0b284f11-a890-4378-a1a8-ef786d1920e1",
   "metadata": {},
   "outputs": [
    {
     "data": {
      "text/plain": [
       "Y    4\n",
       "Name: (two, 3), dtype: int64"
      ]
     },
     "execution_count": 212,
     "metadata": {},
     "output_type": "execute_result"
    }
   ],
   "source": [
    "df.loc[('two',3)]"
   ]
  },
  {
   "cell_type": "markdown",
   "id": "a601240c-9679-44f5-9340-00fc2ebc8513",
   "metadata": {},
   "source": [
    "Write a Pandas program to swap the levels of a MultiIndex DataFrame."
   ]
  },
  {
   "cell_type": "code",
   "execution_count": 213,
   "id": "a2abbedd-bbf4-494a-a0aa-9a8f62a4b79b",
   "metadata": {},
   "outputs": [],
   "source": [
    "df = pd.DataFrame({\n",
    "    'X': [1, 6, 8, 3, 7],\n",
    "    'Y': [5, 2, 9, 4, 1],\n",
    "    'Z': ['one', 'one', 'two', 'two', 'one']\n",
    "})\n",
    "\n",
    "df = df.set_index(['Y', 'X'])"
   ]
  },
  {
   "cell_type": "code",
   "execution_count": 214,
   "id": "9bbc3db7-9658-41e8-b604-0b07170ac2da",
   "metadata": {},
   "outputs": [
    {
     "data": {
      "text/html": [
       "<div>\n",
       "<style scoped>\n",
       "    .dataframe tbody tr th:only-of-type {\n",
       "        vertical-align: middle;\n",
       "    }\n",
       "\n",
       "    .dataframe tbody tr th {\n",
       "        vertical-align: top;\n",
       "    }\n",
       "\n",
       "    .dataframe thead th {\n",
       "        text-align: right;\n",
       "    }\n",
       "</style>\n",
       "<table border=\"1\" class=\"dataframe\">\n",
       "  <thead>\n",
       "    <tr style=\"text-align: right;\">\n",
       "      <th></th>\n",
       "      <th></th>\n",
       "      <th>Z</th>\n",
       "    </tr>\n",
       "    <tr>\n",
       "      <th>Y</th>\n",
       "      <th>X</th>\n",
       "      <th></th>\n",
       "    </tr>\n",
       "  </thead>\n",
       "  <tbody>\n",
       "    <tr>\n",
       "      <th>5</th>\n",
       "      <th>1</th>\n",
       "      <td>one</td>\n",
       "    </tr>\n",
       "    <tr>\n",
       "      <th>2</th>\n",
       "      <th>6</th>\n",
       "      <td>one</td>\n",
       "    </tr>\n",
       "    <tr>\n",
       "      <th>9</th>\n",
       "      <th>8</th>\n",
       "      <td>two</td>\n",
       "    </tr>\n",
       "    <tr>\n",
       "      <th>4</th>\n",
       "      <th>3</th>\n",
       "      <td>two</td>\n",
       "    </tr>\n",
       "    <tr>\n",
       "      <th>1</th>\n",
       "      <th>7</th>\n",
       "      <td>one</td>\n",
       "    </tr>\n",
       "  </tbody>\n",
       "</table>\n",
       "</div>"
      ],
      "text/plain": [
       "       Z\n",
       "Y X     \n",
       "5 1  one\n",
       "2 6  one\n",
       "9 8  two\n",
       "4 3  two\n",
       "1 7  one"
      ]
     },
     "execution_count": 214,
     "metadata": {},
     "output_type": "execute_result"
    }
   ],
   "source": [
    "df"
   ]
  },
  {
   "cell_type": "code",
   "execution_count": 215,
   "id": "9c772a9a-38c2-4b26-bc3c-7a6d94cf94c8",
   "metadata": {},
   "outputs": [
    {
     "data": {
      "text/html": [
       "<div>\n",
       "<style scoped>\n",
       "    .dataframe tbody tr th:only-of-type {\n",
       "        vertical-align: middle;\n",
       "    }\n",
       "\n",
       "    .dataframe tbody tr th {\n",
       "        vertical-align: top;\n",
       "    }\n",
       "\n",
       "    .dataframe thead th {\n",
       "        text-align: right;\n",
       "    }\n",
       "</style>\n",
       "<table border=\"1\" class=\"dataframe\">\n",
       "  <thead>\n",
       "    <tr style=\"text-align: right;\">\n",
       "      <th></th>\n",
       "      <th></th>\n",
       "      <th>Z</th>\n",
       "    </tr>\n",
       "    <tr>\n",
       "      <th>X</th>\n",
       "      <th>Y</th>\n",
       "      <th></th>\n",
       "    </tr>\n",
       "  </thead>\n",
       "  <tbody>\n",
       "    <tr>\n",
       "      <th>1</th>\n",
       "      <th>5</th>\n",
       "      <td>one</td>\n",
       "    </tr>\n",
       "    <tr>\n",
       "      <th>6</th>\n",
       "      <th>2</th>\n",
       "      <td>one</td>\n",
       "    </tr>\n",
       "    <tr>\n",
       "      <th>8</th>\n",
       "      <th>9</th>\n",
       "      <td>two</td>\n",
       "    </tr>\n",
       "    <tr>\n",
       "      <th>3</th>\n",
       "      <th>4</th>\n",
       "      <td>two</td>\n",
       "    </tr>\n",
       "    <tr>\n",
       "      <th>7</th>\n",
       "      <th>1</th>\n",
       "      <td>one</td>\n",
       "    </tr>\n",
       "  </tbody>\n",
       "</table>\n",
       "</div>"
      ],
      "text/plain": [
       "       Z\n",
       "X Y     \n",
       "1 5  one\n",
       "6 2  one\n",
       "8 9  two\n",
       "3 4  two\n",
       "7 1  one"
      ]
     },
     "execution_count": 215,
     "metadata": {},
     "output_type": "execute_result"
    }
   ],
   "source": [
    "df.swaplevel()"
   ]
  },
  {
   "cell_type": "markdown",
   "id": "39fa160e-c5ee-49e6-a144-cd5c0253a1e1",
   "metadata": {},
   "source": [
    "Write a Pandas program to select rows where column 'X' > 5 and column 'Y' < 5."
   ]
  },
  {
   "cell_type": "code",
   "execution_count": 216,
   "id": "d5cf8c83-b082-45b1-88ad-00a5fc9d8efa",
   "metadata": {},
   "outputs": [],
   "source": [
    "df = pd.DataFrame({\n",
    "    'X': [1, 6, 8, 3, 7],\n",
    "    'Y': [5, 2, 9, 4, 1]\n",
    "})"
   ]
  },
  {
   "cell_type": "code",
   "execution_count": 217,
   "id": "e5b7db5c-fc57-4ff5-9d5c-451c9fd64672",
   "metadata": {},
   "outputs": [
    {
     "data": {
      "text/html": [
       "<div>\n",
       "<style scoped>\n",
       "    .dataframe tbody tr th:only-of-type {\n",
       "        vertical-align: middle;\n",
       "    }\n",
       "\n",
       "    .dataframe tbody tr th {\n",
       "        vertical-align: top;\n",
       "    }\n",
       "\n",
       "    .dataframe thead th {\n",
       "        text-align: right;\n",
       "    }\n",
       "</style>\n",
       "<table border=\"1\" class=\"dataframe\">\n",
       "  <thead>\n",
       "    <tr style=\"text-align: right;\">\n",
       "      <th></th>\n",
       "      <th>X</th>\n",
       "      <th>Y</th>\n",
       "    </tr>\n",
       "  </thead>\n",
       "  <tbody>\n",
       "    <tr>\n",
       "      <th>1</th>\n",
       "      <td>6</td>\n",
       "      <td>2</td>\n",
       "    </tr>\n",
       "    <tr>\n",
       "      <th>4</th>\n",
       "      <td>7</td>\n",
       "      <td>1</td>\n",
       "    </tr>\n",
       "  </tbody>\n",
       "</table>\n",
       "</div>"
      ],
      "text/plain": [
       "   X  Y\n",
       "1  6  2\n",
       "4  7  1"
      ]
     },
     "execution_count": 217,
     "metadata": {},
     "output_type": "execute_result"
    }
   ],
   "source": [
    "df.query('X>5 and Y<5')"
   ]
  },
  {
   "cell_type": "markdown",
   "id": "e1930e5b-96b5-4b13-bf73-33047dca011e",
   "metadata": {},
   "source": [
    " Write a Pandas program that uses MultiIndex to select data based on conditions."
   ]
  },
  {
   "cell_type": "code",
   "execution_count": 218,
   "id": "7d306b6b-c908-4fc9-9e94-8d8060f5287c",
   "metadata": {},
   "outputs": [],
   "source": [
    "df = pd.DataFrame({\n",
    "    'X': [1, 6, 8, 3, 7],\n",
    "    'Y': [5, 2, 9, 4, 1],\n",
    "    'Z': ['one', 'one', 'two', 'two', 'one']\n",
    "})"
   ]
  },
  {
   "cell_type": "code",
   "execution_count": 221,
   "id": "1ddaa045-16c4-46bb-a0de-262a99c71bd4",
   "metadata": {},
   "outputs": [
    {
     "data": {
      "text/html": [
       "<div>\n",
       "<style scoped>\n",
       "    .dataframe tbody tr th:only-of-type {\n",
       "        vertical-align: middle;\n",
       "    }\n",
       "\n",
       "    .dataframe tbody tr th {\n",
       "        vertical-align: top;\n",
       "    }\n",
       "\n",
       "    .dataframe thead th {\n",
       "        text-align: right;\n",
       "    }\n",
       "</style>\n",
       "<table border=\"1\" class=\"dataframe\">\n",
       "  <thead>\n",
       "    <tr style=\"text-align: right;\">\n",
       "      <th></th>\n",
       "      <th></th>\n",
       "      <th>X</th>\n",
       "    </tr>\n",
       "    <tr>\n",
       "      <th>Z</th>\n",
       "      <th>Y</th>\n",
       "      <th></th>\n",
       "    </tr>\n",
       "  </thead>\n",
       "  <tbody>\n",
       "    <tr>\n",
       "      <th rowspan=\"2\" valign=\"top\">one</th>\n",
       "      <th>5</th>\n",
       "      <td>1</td>\n",
       "    </tr>\n",
       "    <tr>\n",
       "      <th>2</th>\n",
       "      <td>6</td>\n",
       "    </tr>\n",
       "    <tr>\n",
       "      <th rowspan=\"2\" valign=\"top\">two</th>\n",
       "      <th>9</th>\n",
       "      <td>8</td>\n",
       "    </tr>\n",
       "    <tr>\n",
       "      <th>4</th>\n",
       "      <td>3</td>\n",
       "    </tr>\n",
       "    <tr>\n",
       "      <th>one</th>\n",
       "      <th>1</th>\n",
       "      <td>7</td>\n",
       "    </tr>\n",
       "  </tbody>\n",
       "</table>\n",
       "</div>"
      ],
      "text/plain": [
       "       X\n",
       "Z   Y   \n",
       "one 5  1\n",
       "    2  6\n",
       "two 9  8\n",
       "    4  3\n",
       "one 1  7"
      ]
     },
     "execution_count": 221,
     "metadata": {},
     "output_type": "execute_result"
    }
   ],
   "source": [
    "df = df.set_index(['Z','Y'])\n",
    "df"
   ]
  },
  {
   "cell_type": "code",
   "execution_count": 226,
   "id": "e480c3ad-3cc5-416d-9b76-0fa8f8de5a62",
   "metadata": {},
   "outputs": [
    {
     "data": {
      "text/html": [
       "<div>\n",
       "<style scoped>\n",
       "    .dataframe tbody tr th:only-of-type {\n",
       "        vertical-align: middle;\n",
       "    }\n",
       "\n",
       "    .dataframe tbody tr th {\n",
       "        vertical-align: top;\n",
       "    }\n",
       "\n",
       "    .dataframe thead th {\n",
       "        text-align: right;\n",
       "    }\n",
       "</style>\n",
       "<table border=\"1\" class=\"dataframe\">\n",
       "  <thead>\n",
       "    <tr style=\"text-align: right;\">\n",
       "      <th></th>\n",
       "      <th>X</th>\n",
       "    </tr>\n",
       "    <tr>\n",
       "      <th>Y</th>\n",
       "      <th></th>\n",
       "    </tr>\n",
       "  </thead>\n",
       "  <tbody>\n",
       "    <tr>\n",
       "      <th>9</th>\n",
       "      <td>8</td>\n",
       "    </tr>\n",
       "    <tr>\n",
       "      <th>4</th>\n",
       "      <td>3</td>\n",
       "    </tr>\n",
       "  </tbody>\n",
       "</table>\n",
       "</div>"
      ],
      "text/plain": [
       "   X\n",
       "Y   \n",
       "9  8\n",
       "4  3"
      ]
     },
     "execution_count": 226,
     "metadata": {},
     "output_type": "execute_result"
    }
   ],
   "source": [
    "df.loc[('two')]"
   ]
  },
  {
   "cell_type": "code",
   "execution_count": 227,
   "id": "1d44102d-2a75-417f-9819-576b6b637d25",
   "metadata": {},
   "outputs": [
    {
     "data": {
      "text/html": [
       "<div>\n",
       "<style scoped>\n",
       "    .dataframe tbody tr th:only-of-type {\n",
       "        vertical-align: middle;\n",
       "    }\n",
       "\n",
       "    .dataframe tbody tr th {\n",
       "        vertical-align: top;\n",
       "    }\n",
       "\n",
       "    .dataframe thead th {\n",
       "        text-align: right;\n",
       "    }\n",
       "</style>\n",
       "<table border=\"1\" class=\"dataframe\">\n",
       "  <thead>\n",
       "    <tr style=\"text-align: right;\">\n",
       "      <th></th>\n",
       "      <th>X</th>\n",
       "    </tr>\n",
       "    <tr>\n",
       "      <th>Y</th>\n",
       "      <th></th>\n",
       "    </tr>\n",
       "  </thead>\n",
       "  <tbody>\n",
       "    <tr>\n",
       "      <th>9</th>\n",
       "      <td>8</td>\n",
       "    </tr>\n",
       "    <tr>\n",
       "      <th>4</th>\n",
       "      <td>3</td>\n",
       "    </tr>\n",
       "  </tbody>\n",
       "</table>\n",
       "</div>"
      ],
      "text/plain": [
       "   X\n",
       "Y   \n",
       "9  8\n",
       "4  3"
      ]
     },
     "execution_count": 227,
     "metadata": {},
     "output_type": "execute_result"
    }
   ],
   "source": [
    "df.loc[('two', slice(None))]"
   ]
  },
  {
   "cell_type": "markdown",
   "id": "a94afd68-b6fa-4dca-b2fd-42d25d75679e",
   "metadata": {
    "jp-MarkdownHeadingCollapsed": true
   },
   "source": [
    "# Pandas SQL database Queries"
   ]
  },
  {
   "cell_type": "code",
   "execution_count": 228,
   "id": "44b1cb5c-a720-4f94-a2df-8291df792074",
   "metadata": {},
   "outputs": [],
   "source": [
    "import pandas as pd\n",
    "\n",
    "employees = pd.read_csv(r\"EMPLOYEES.csv\")\n",
    "departments = pd.read_csv(r\"DEPARTMENTS.csv\")\n",
    "job_history = pd.read_csv(r\"JOB_HISTORY.csv\")\n",
    "jobs = pd.read_csv(r\"JOBS.csv\")\n",
    "countries = pd.read_csv(r\"COUNTRIES.csv\")\n",
    "regions = pd.read_csv(r\"REGIONS.csv\")\n",
    "locations = pd.read_csv(r\"LOCATIONS.csv\")"
   ]
  },
  {
   "cell_type": "markdown",
   "id": "93d36668-07db-4238-b11e-c0b531af15e8",
   "metadata": {},
   "source": [
    "Write a Pandas program to display all the records of REGIONS file."
   ]
  },
  {
   "cell_type": "code",
   "execution_count": 230,
   "id": "3e14c762-97b0-4cd0-87df-6fd90fe65821",
   "metadata": {},
   "outputs": [
    {
     "name": "stdout",
     "output_type": "stream",
     "text": [
      "All the records from regions file:\n",
      "   REGION_ID             REGION_NAME\n",
      "0          1                  Europe\n",
      "1          2                Americas\n",
      "2          3                    Asia\n",
      "3          4  Middle East and Africa\n"
     ]
    }
   ],
   "source": [
    "print(\"All the records from regions file:\")\n",
    "print(regions)"
   ]
  },
  {
   "cell_type": "markdown",
   "id": "34fe47fa-4371-4c9e-ac68-2e3ade8b5ee2",
   "metadata": {},
   "source": [
    "Write a Pandas program to display all the location id from locations file."
   ]
  },
  {
   "cell_type": "code",
   "execution_count": 231,
   "id": "79cc4ebe-e77d-4a68-bc52-b545c9a1e188",
   "metadata": {},
   "outputs": [
    {
     "data": {
      "text/plain": [
       "Index(['location_id', 'street_address', 'postal_code', 'city',\n",
       "       'state_province', 'country_id'],\n",
       "      dtype='object')"
      ]
     },
     "execution_count": 231,
     "metadata": {},
     "output_type": "execute_result"
    }
   ],
   "source": [
    "locations.keys()"
   ]
  },
  {
   "cell_type": "code",
   "execution_count": 233,
   "id": "2a085d08-58dc-4ab2-867e-8b358f1f5dbc",
   "metadata": {},
   "outputs": [
    {
     "data": {
      "text/plain": [
       "0     1000\n",
       "1     1100\n",
       "2     1200\n",
       "3     1300\n",
       "4     1400\n",
       "5     1500\n",
       "6     1600\n",
       "7     1700\n",
       "8     1800\n",
       "9     1900\n",
       "10    2000\n",
       "11    2100\n",
       "12    2200\n",
       "13    2300\n",
       "14    2400\n",
       "15    2500\n",
       "16    2600\n",
       "17    2700\n",
       "18    2800\n",
       "19    2900\n",
       "20    3000\n",
       "21    3100\n",
       "22    3200\n",
       "Name: location_id, dtype: int64"
      ]
     },
     "execution_count": 233,
     "metadata": {},
     "output_type": "execute_result"
    }
   ],
   "source": [
    "locations['location_id']"
   ]
  },
  {
   "cell_type": "markdown",
   "id": "74055aef-e02b-42fe-9372-cecc52cc38a1",
   "metadata": {},
   "source": [
    "Write a Pandas program to extract first 7 records from employees file."
   ]
  },
  {
   "cell_type": "code",
   "execution_count": 234,
   "id": "4e4138c3-cd6b-4c9e-931a-7617126b7104",
   "metadata": {},
   "outputs": [
    {
     "data": {
      "text/html": [
       "<div>\n",
       "<style scoped>\n",
       "    .dataframe tbody tr th:only-of-type {\n",
       "        vertical-align: middle;\n",
       "    }\n",
       "\n",
       "    .dataframe tbody tr th {\n",
       "        vertical-align: top;\n",
       "    }\n",
       "\n",
       "    .dataframe thead th {\n",
       "        text-align: right;\n",
       "    }\n",
       "</style>\n",
       "<table border=\"1\" class=\"dataframe\">\n",
       "  <thead>\n",
       "    <tr style=\"text-align: right;\">\n",
       "      <th></th>\n",
       "      <th>employ_id</th>\n",
       "      <th>first_name</th>\n",
       "      <th>last_name</th>\n",
       "      <th>email</th>\n",
       "      <th>phone_number</th>\n",
       "      <th>hire_date</th>\n",
       "      <th>job_id</th>\n",
       "      <th>salary</th>\n",
       "      <th>commission_pct</th>\n",
       "      <th>manager_id</th>\n",
       "      <th>department_id</th>\n",
       "    </tr>\n",
       "  </thead>\n",
       "  <tbody>\n",
       "    <tr>\n",
       "      <th>0</th>\n",
       "      <td>100</td>\n",
       "      <td>Steven</td>\n",
       "      <td>King</td>\n",
       "      <td>SKING</td>\n",
       "      <td>515.123.4567</td>\n",
       "      <td>2003-06-17</td>\n",
       "      <td>AD_PRES</td>\n",
       "      <td>24000</td>\n",
       "      <td>NaN</td>\n",
       "      <td>NaN</td>\n",
       "      <td>90.0</td>\n",
       "    </tr>\n",
       "    <tr>\n",
       "      <th>1</th>\n",
       "      <td>101</td>\n",
       "      <td>Neena</td>\n",
       "      <td>Kochhar</td>\n",
       "      <td>NKOCHHAR</td>\n",
       "      <td>515.123.4568</td>\n",
       "      <td>2005-09-21</td>\n",
       "      <td>AD_VP</td>\n",
       "      <td>17000</td>\n",
       "      <td>NaN</td>\n",
       "      <td>100.0</td>\n",
       "      <td>90.0</td>\n",
       "    </tr>\n",
       "    <tr>\n",
       "      <th>2</th>\n",
       "      <td>102</td>\n",
       "      <td>Lex</td>\n",
       "      <td>De Haan</td>\n",
       "      <td>LDEHAAN</td>\n",
       "      <td>515.123.4569</td>\n",
       "      <td>2001-01-13</td>\n",
       "      <td>AD_VP</td>\n",
       "      <td>17000</td>\n",
       "      <td>NaN</td>\n",
       "      <td>100.0</td>\n",
       "      <td>90.0</td>\n",
       "    </tr>\n",
       "    <tr>\n",
       "      <th>3</th>\n",
       "      <td>103</td>\n",
       "      <td>Alexander</td>\n",
       "      <td>Hunold</td>\n",
       "      <td>AHUNOLD</td>\n",
       "      <td>590.423.4567</td>\n",
       "      <td>2006-01-03</td>\n",
       "      <td>IT_PROG</td>\n",
       "      <td>9000</td>\n",
       "      <td>NaN</td>\n",
       "      <td>102.0</td>\n",
       "      <td>60.0</td>\n",
       "    </tr>\n",
       "    <tr>\n",
       "      <th>4</th>\n",
       "      <td>104</td>\n",
       "      <td>Bruce</td>\n",
       "      <td>Ernst</td>\n",
       "      <td>BERNST</td>\n",
       "      <td>590.423.4568</td>\n",
       "      <td>2007-05-21</td>\n",
       "      <td>IT_PROG</td>\n",
       "      <td>6000</td>\n",
       "      <td>NaN</td>\n",
       "      <td>103.0</td>\n",
       "      <td>60.0</td>\n",
       "    </tr>\n",
       "    <tr>\n",
       "      <th>5</th>\n",
       "      <td>105</td>\n",
       "      <td>David</td>\n",
       "      <td>Austin</td>\n",
       "      <td>DAUSTIN</td>\n",
       "      <td>590.423.4569</td>\n",
       "      <td>2005-06-25</td>\n",
       "      <td>IT_PROG</td>\n",
       "      <td>4800</td>\n",
       "      <td>NaN</td>\n",
       "      <td>103.0</td>\n",
       "      <td>60.0</td>\n",
       "    </tr>\n",
       "    <tr>\n",
       "      <th>6</th>\n",
       "      <td>106</td>\n",
       "      <td>Valli</td>\n",
       "      <td>Pataballa</td>\n",
       "      <td>VPATABAL</td>\n",
       "      <td>590.423.4560</td>\n",
       "      <td>2006-02-05</td>\n",
       "      <td>IT_PROG</td>\n",
       "      <td>4800</td>\n",
       "      <td>NaN</td>\n",
       "      <td>103.0</td>\n",
       "      <td>60.0</td>\n",
       "    </tr>\n",
       "  </tbody>\n",
       "</table>\n",
       "</div>"
      ],
      "text/plain": [
       "   employ_id first_name  last_name     email  phone_number   hire_date  \\\n",
       "0        100     Steven       King     SKING  515.123.4567  2003-06-17   \n",
       "1        101      Neena    Kochhar  NKOCHHAR  515.123.4568  2005-09-21   \n",
       "2        102        Lex    De Haan   LDEHAAN  515.123.4569  2001-01-13   \n",
       "3        103  Alexander     Hunold   AHUNOLD  590.423.4567  2006-01-03   \n",
       "4        104      Bruce      Ernst    BERNST  590.423.4568  2007-05-21   \n",
       "5        105      David     Austin   DAUSTIN  590.423.4569  2005-06-25   \n",
       "6        106      Valli  Pataballa  VPATABAL  590.423.4560  2006-02-05   \n",
       "\n",
       "    job_id  salary  commission_pct  manager_id  department_id  \n",
       "0  AD_PRES   24000             NaN         NaN           90.0  \n",
       "1    AD_VP   17000             NaN       100.0           90.0  \n",
       "2    AD_VP   17000             NaN       100.0           90.0  \n",
       "3  IT_PROG    9000             NaN       102.0           60.0  \n",
       "4  IT_PROG    6000             NaN       103.0           60.0  \n",
       "5  IT_PROG    4800             NaN       103.0           60.0  \n",
       "6  IT_PROG    4800             NaN       103.0           60.0  "
      ]
     },
     "execution_count": 234,
     "metadata": {},
     "output_type": "execute_result"
    }
   ],
   "source": [
    "employees.head(7)"
   ]
  },
  {
   "cell_type": "markdown",
   "id": "83536c82-8940-4a9e-9349-3e610932e4b5",
   "metadata": {},
   "source": [
    "Write a Pandas program to select distinct department id from employees file."
   ]
  },
  {
   "cell_type": "code",
   "execution_count": 235,
   "id": "227bb71c-7e41-4cef-9b16-4f0b189d1068",
   "metadata": {},
   "outputs": [
    {
     "data": {
      "text/plain": [
       "Index(['employ_id', 'first_name', 'last_name', 'email', 'phone_number',\n",
       "       'hire_date', 'job_id', 'salary', 'commission_pct', 'manager_id',\n",
       "       'department_id'],\n",
       "      dtype='object')"
      ]
     },
     "execution_count": 235,
     "metadata": {},
     "output_type": "execute_result"
    }
   ],
   "source": [
    "employees.keys()"
   ]
  },
  {
   "cell_type": "code",
   "execution_count": 238,
   "id": "3c71b455-1349-40ad-a906-b14c5fca0ddc",
   "metadata": {},
   "outputs": [
    {
     "data": {
      "text/plain": [
       "array([ 90.,  60., 100.,  30.,  50.,  80.,  nan,  10.,  20.,  40.,  70.,\n",
       "       110.])"
      ]
     },
     "execution_count": 238,
     "metadata": {},
     "output_type": "execute_result"
    }
   ],
   "source": [
    "employees['department_id'].unique()"
   ]
  },
  {
   "cell_type": "markdown",
   "id": "87ea14d1-eec1-4240-a1b1-156dff734345",
   "metadata": {},
   "source": [
    "Write a Pandas program to display the first and last name, and department number for all employees whose last name is \"McEwen\"."
   ]
  },
  {
   "cell_type": "code",
   "execution_count": 240,
   "id": "eba9fbd1-8568-4177-8266-dba6f22c7b15",
   "metadata": {},
   "outputs": [
    {
     "data": {
      "text/html": [
       "<div>\n",
       "<style scoped>\n",
       "    .dataframe tbody tr th:only-of-type {\n",
       "        vertical-align: middle;\n",
       "    }\n",
       "\n",
       "    .dataframe tbody tr th {\n",
       "        vertical-align: top;\n",
       "    }\n",
       "\n",
       "    .dataframe thead th {\n",
       "        text-align: right;\n",
       "    }\n",
       "</style>\n",
       "<table border=\"1\" class=\"dataframe\">\n",
       "  <thead>\n",
       "    <tr style=\"text-align: right;\">\n",
       "      <th></th>\n",
       "      <th>employ_id</th>\n",
       "      <th>first_name</th>\n",
       "      <th>last_name</th>\n",
       "      <th>email</th>\n",
       "      <th>phone_number</th>\n",
       "      <th>hire_date</th>\n",
       "      <th>job_id</th>\n",
       "      <th>salary</th>\n",
       "      <th>commission_pct</th>\n",
       "      <th>manager_id</th>\n",
       "      <th>department_id</th>\n",
       "    </tr>\n",
       "  </thead>\n",
       "  <tbody>\n",
       "    <tr>\n",
       "      <th>58</th>\n",
       "      <td>158</td>\n",
       "      <td>Allan</td>\n",
       "      <td>McEwen</td>\n",
       "      <td>AMCEWEN</td>\n",
       "      <td>011.44.1345.829268</td>\n",
       "      <td>2004-08-01</td>\n",
       "      <td>SA_REP</td>\n",
       "      <td>9000</td>\n",
       "      <td>0.35</td>\n",
       "      <td>146.0</td>\n",
       "      <td>80.0</td>\n",
       "    </tr>\n",
       "  </tbody>\n",
       "</table>\n",
       "</div>"
      ],
      "text/plain": [
       "    employ_id first_name last_name    email        phone_number   hire_date  \\\n",
       "58        158      Allan    McEwen  AMCEWEN  011.44.1345.829268  2004-08-01   \n",
       "\n",
       "    job_id  salary  commission_pct  manager_id  department_id  \n",
       "58  SA_REP    9000            0.35       146.0           80.0  "
      ]
     },
     "execution_count": 240,
     "metadata": {},
     "output_type": "execute_result"
    }
   ],
   "source": [
    "data = employees.query(\"last_name == 'McEwen'\")\n",
    "data"
   ]
  },
  {
   "cell_type": "code",
   "execution_count": 242,
   "id": "07a76fbc-3535-4a8f-aa30-02c27c8399f0",
   "metadata": {},
   "outputs": [
    {
     "data": {
      "text/html": [
       "<div>\n",
       "<style scoped>\n",
       "    .dataframe tbody tr th:only-of-type {\n",
       "        vertical-align: middle;\n",
       "    }\n",
       "\n",
       "    .dataframe tbody tr th {\n",
       "        vertical-align: top;\n",
       "    }\n",
       "\n",
       "    .dataframe thead th {\n",
       "        text-align: right;\n",
       "    }\n",
       "</style>\n",
       "<table border=\"1\" class=\"dataframe\">\n",
       "  <thead>\n",
       "    <tr style=\"text-align: right;\">\n",
       "      <th></th>\n",
       "      <th>first_name</th>\n",
       "      <th>last_name</th>\n",
       "      <th>department_id</th>\n",
       "    </tr>\n",
       "  </thead>\n",
       "  <tbody>\n",
       "    <tr>\n",
       "      <th>58</th>\n",
       "      <td>Allan</td>\n",
       "      <td>McEwen</td>\n",
       "      <td>80.0</td>\n",
       "    </tr>\n",
       "  </tbody>\n",
       "</table>\n",
       "</div>"
      ],
      "text/plain": [
       "   first_name last_name  department_id\n",
       "58      Allan    McEwen           80.0"
      ]
     },
     "execution_count": 242,
     "metadata": {},
     "output_type": "execute_result"
    }
   ],
   "source": [
    "data.loc[:, ['first_name', 'last_name', 'department_id']]"
   ]
  },
  {
   "cell_type": "markdown",
   "id": "5c50a4a6-6cff-4d9c-9ae3-6df83b9791bb",
   "metadata": {},
   "source": [
    "Write a Pandas program to display the first and last name and date of joining of the employees who is either Sales Representative or Sales Man."
   ]
  },
  {
   "cell_type": "code",
   "execution_count": 243,
   "id": "a92ca89b-f641-4c9d-abbd-6e1a3a9b9f45",
   "metadata": {},
   "outputs": [
    {
     "data": {
      "text/plain": [
       "Index(['employ_id', 'first_name', 'last_name', 'email', 'phone_number',\n",
       "       'hire_date', 'job_id', 'salary', 'commission_pct', 'manager_id',\n",
       "       'department_id'],\n",
       "      dtype='object')"
      ]
     },
     "execution_count": 243,
     "metadata": {},
     "output_type": "execute_result"
    }
   ],
   "source": [
    "employees.keys()"
   ]
  },
  {
   "cell_type": "code",
   "execution_count": 245,
   "id": "30e9dca2-7970-4873-b348-f3d04dbbea13",
   "metadata": {},
   "outputs": [
    {
     "data": {
      "text/plain": [
       "Index(['job_id', 'job_title', 'min_salary', 'max_salary'], dtype='object')"
      ]
     },
     "execution_count": 245,
     "metadata": {},
     "output_type": "execute_result"
    }
   ],
   "source": [
    "jobs.keys()"
   ]
  },
  {
   "cell_type": "code",
   "execution_count": 246,
   "id": "ef1d1f31-a170-4230-a5c8-8526d5042f6b",
   "metadata": {},
   "outputs": [
    {
     "data": {
      "text/html": [
       "<div>\n",
       "<style scoped>\n",
       "    .dataframe tbody tr th:only-of-type {\n",
       "        vertical-align: middle;\n",
       "    }\n",
       "\n",
       "    .dataframe tbody tr th {\n",
       "        vertical-align: top;\n",
       "    }\n",
       "\n",
       "    .dataframe thead th {\n",
       "        text-align: right;\n",
       "    }\n",
       "</style>\n",
       "<table border=\"1\" class=\"dataframe\">\n",
       "  <thead>\n",
       "    <tr style=\"text-align: right;\">\n",
       "      <th></th>\n",
       "      <th>job_id</th>\n",
       "      <th>job_title</th>\n",
       "      <th>min_salary</th>\n",
       "      <th>max_salary</th>\n",
       "    </tr>\n",
       "  </thead>\n",
       "  <tbody>\n",
       "    <tr>\n",
       "      <th>0</th>\n",
       "      <td>AD_PRES</td>\n",
       "      <td>President</td>\n",
       "      <td>20000</td>\n",
       "      <td>40000</td>\n",
       "    </tr>\n",
       "    <tr>\n",
       "      <th>1</th>\n",
       "      <td>AD_VP</td>\n",
       "      <td>Administration Vice President</td>\n",
       "      <td>15000</td>\n",
       "      <td>30000</td>\n",
       "    </tr>\n",
       "    <tr>\n",
       "      <th>2</th>\n",
       "      <td>AD_ASST</td>\n",
       "      <td>Administration Assistant</td>\n",
       "      <td>3000</td>\n",
       "      <td>6000</td>\n",
       "    </tr>\n",
       "    <tr>\n",
       "      <th>3</th>\n",
       "      <td>FI_MGR</td>\n",
       "      <td>Finance Manager</td>\n",
       "      <td>8200</td>\n",
       "      <td>16000</td>\n",
       "    </tr>\n",
       "    <tr>\n",
       "      <th>4</th>\n",
       "      <td>FI_ACCOUNT</td>\n",
       "      <td>Accountant</td>\n",
       "      <td>4200</td>\n",
       "      <td>9000</td>\n",
       "    </tr>\n",
       "    <tr>\n",
       "      <th>5</th>\n",
       "      <td>AC_MGR</td>\n",
       "      <td>Accounting Manager</td>\n",
       "      <td>8200</td>\n",
       "      <td>16000</td>\n",
       "    </tr>\n",
       "    <tr>\n",
       "      <th>6</th>\n",
       "      <td>AC_ACCOUNT</td>\n",
       "      <td>Public Accountant</td>\n",
       "      <td>4200</td>\n",
       "      <td>9000</td>\n",
       "    </tr>\n",
       "    <tr>\n",
       "      <th>7</th>\n",
       "      <td>SA_MAN</td>\n",
       "      <td>Sales Manager</td>\n",
       "      <td>10000</td>\n",
       "      <td>20000</td>\n",
       "    </tr>\n",
       "    <tr>\n",
       "      <th>8</th>\n",
       "      <td>SA_REP</td>\n",
       "      <td>Sales Representative</td>\n",
       "      <td>6000</td>\n",
       "      <td>12000</td>\n",
       "    </tr>\n",
       "    <tr>\n",
       "      <th>9</th>\n",
       "      <td>PU_MAN</td>\n",
       "      <td>Purchasing Manager</td>\n",
       "      <td>8000</td>\n",
       "      <td>15000</td>\n",
       "    </tr>\n",
       "    <tr>\n",
       "      <th>10</th>\n",
       "      <td>PU_CLERK</td>\n",
       "      <td>Purchasing Clerk</td>\n",
       "      <td>2500</td>\n",
       "      <td>5500</td>\n",
       "    </tr>\n",
       "    <tr>\n",
       "      <th>11</th>\n",
       "      <td>ST_MAN</td>\n",
       "      <td>Stock Manager</td>\n",
       "      <td>5500</td>\n",
       "      <td>8500</td>\n",
       "    </tr>\n",
       "    <tr>\n",
       "      <th>12</th>\n",
       "      <td>ST_CLERK</td>\n",
       "      <td>Stock Clerk</td>\n",
       "      <td>2000</td>\n",
       "      <td>5000</td>\n",
       "    </tr>\n",
       "    <tr>\n",
       "      <th>13</th>\n",
       "      <td>SH_CLERK</td>\n",
       "      <td>Shipping Clerk</td>\n",
       "      <td>2500</td>\n",
       "      <td>5500</td>\n",
       "    </tr>\n",
       "    <tr>\n",
       "      <th>14</th>\n",
       "      <td>IT_PROG</td>\n",
       "      <td>Programmer</td>\n",
       "      <td>4000</td>\n",
       "      <td>10000</td>\n",
       "    </tr>\n",
       "    <tr>\n",
       "      <th>15</th>\n",
       "      <td>MK_MAN</td>\n",
       "      <td>Marketing Manager</td>\n",
       "      <td>9000</td>\n",
       "      <td>15000</td>\n",
       "    </tr>\n",
       "    <tr>\n",
       "      <th>16</th>\n",
       "      <td>MK_REP</td>\n",
       "      <td>Marketing Representative</td>\n",
       "      <td>4000</td>\n",
       "      <td>9000</td>\n",
       "    </tr>\n",
       "    <tr>\n",
       "      <th>17</th>\n",
       "      <td>HR_REP</td>\n",
       "      <td>Human Resources Representative</td>\n",
       "      <td>4000</td>\n",
       "      <td>9000</td>\n",
       "    </tr>\n",
       "    <tr>\n",
       "      <th>18</th>\n",
       "      <td>PR_REP</td>\n",
       "      <td>Public Relations Representative</td>\n",
       "      <td>4500</td>\n",
       "      <td>10500</td>\n",
       "    </tr>\n",
       "  </tbody>\n",
       "</table>\n",
       "</div>"
      ],
      "text/plain": [
       "        job_id                        job_title  min_salary  max_salary\n",
       "0      AD_PRES                        President       20000       40000\n",
       "1        AD_VP    Administration Vice President       15000       30000\n",
       "2      AD_ASST         Administration Assistant        3000        6000\n",
       "3       FI_MGR                  Finance Manager        8200       16000\n",
       "4   FI_ACCOUNT                       Accountant        4200        9000\n",
       "5       AC_MGR               Accounting Manager        8200       16000\n",
       "6   AC_ACCOUNT                Public Accountant        4200        9000\n",
       "7       SA_MAN                    Sales Manager       10000       20000\n",
       "8       SA_REP             Sales Representative        6000       12000\n",
       "9       PU_MAN               Purchasing Manager        8000       15000\n",
       "10    PU_CLERK                 Purchasing Clerk        2500        5500\n",
       "11      ST_MAN                    Stock Manager        5500        8500\n",
       "12    ST_CLERK                      Stock Clerk        2000        5000\n",
       "13    SH_CLERK                   Shipping Clerk        2500        5500\n",
       "14     IT_PROG                       Programmer        4000       10000\n",
       "15      MK_MAN                Marketing Manager        9000       15000\n",
       "16      MK_REP         Marketing Representative        4000        9000\n",
       "17      HR_REP   Human Resources Representative        4000        9000\n",
       "18      PR_REP  Public Relations Representative        4500       10500"
      ]
     },
     "execution_count": 246,
     "metadata": {},
     "output_type": "execute_result"
    }
   ],
   "source": [
    "jobs"
   ]
  },
  {
   "cell_type": "code",
   "execution_count": 254,
   "id": "83d71861-27de-45aa-bcb1-b6c6d3f6a2b1",
   "metadata": {},
   "outputs": [
    {
     "data": {
      "text/plain": [
       "7    SA_MAN\n",
       "8    SA_REP\n",
       "Name: job_id, dtype: object"
      ]
     },
     "execution_count": 254,
     "metadata": {},
     "output_type": "execute_result"
    }
   ],
   "source": [
    "jobi = jobs.query(\"job_title == 'Sales Manager' or job_title == 'Sales Representative'\")['job_id']\n",
    "jobi"
   ]
  },
  {
   "cell_type": "code",
   "execution_count": 255,
   "id": "256de882-e700-4cb3-8ef7-2365eb351815",
   "metadata": {},
   "outputs": [],
   "source": [
    "emp = employees[employees['job_id'].isin(jobi)]"
   ]
  },
  {
   "cell_type": "code",
   "execution_count": 257,
   "id": "623983d3-f500-4a4c-8d45-cb23cc34b65b",
   "metadata": {},
   "outputs": [
    {
     "data": {
      "text/html": [
       "<div>\n",
       "<style scoped>\n",
       "    .dataframe tbody tr th:only-of-type {\n",
       "        vertical-align: middle;\n",
       "    }\n",
       "\n",
       "    .dataframe tbody tr th {\n",
       "        vertical-align: top;\n",
       "    }\n",
       "\n",
       "    .dataframe thead th {\n",
       "        text-align: right;\n",
       "    }\n",
       "</style>\n",
       "<table border=\"1\" class=\"dataframe\">\n",
       "  <thead>\n",
       "    <tr style=\"text-align: right;\">\n",
       "      <th></th>\n",
       "      <th>first_name</th>\n",
       "      <th>last_name</th>\n",
       "      <th>job_id</th>\n",
       "      <th>hire_date</th>\n",
       "    </tr>\n",
       "  </thead>\n",
       "  <tbody>\n",
       "    <tr>\n",
       "      <th>45</th>\n",
       "      <td>John</td>\n",
       "      <td>Russell</td>\n",
       "      <td>SA_MAN</td>\n",
       "      <td>2004-10-01</td>\n",
       "    </tr>\n",
       "    <tr>\n",
       "      <th>46</th>\n",
       "      <td>Karen</td>\n",
       "      <td>Partners</td>\n",
       "      <td>SA_MAN</td>\n",
       "      <td>2005-01-05</td>\n",
       "    </tr>\n",
       "    <tr>\n",
       "      <th>47</th>\n",
       "      <td>Alberto</td>\n",
       "      <td>Errazuriz</td>\n",
       "      <td>SA_MAN</td>\n",
       "      <td>2005-03-10</td>\n",
       "    </tr>\n",
       "    <tr>\n",
       "      <th>48</th>\n",
       "      <td>Gerald</td>\n",
       "      <td>Cambrault</td>\n",
       "      <td>SA_MAN</td>\n",
       "      <td>2007-10-15</td>\n",
       "    </tr>\n",
       "    <tr>\n",
       "      <th>49</th>\n",
       "      <td>Eleni</td>\n",
       "      <td>Zlotkey</td>\n",
       "      <td>SA_MAN</td>\n",
       "      <td>2008-01-29</td>\n",
       "    </tr>\n",
       "    <tr>\n",
       "      <th>50</th>\n",
       "      <td>Peter</td>\n",
       "      <td>Tucker</td>\n",
       "      <td>SA_REP</td>\n",
       "      <td>2005-01-30</td>\n",
       "    </tr>\n",
       "    <tr>\n",
       "      <th>51</th>\n",
       "      <td>David</td>\n",
       "      <td>Bernstein</td>\n",
       "      <td>SA_REP</td>\n",
       "      <td>2005-03-24</td>\n",
       "    </tr>\n",
       "    <tr>\n",
       "      <th>52</th>\n",
       "      <td>Peter</td>\n",
       "      <td>Hall</td>\n",
       "      <td>SA_REP</td>\n",
       "      <td>2005-08-20</td>\n",
       "    </tr>\n",
       "    <tr>\n",
       "      <th>53</th>\n",
       "      <td>Christopher</td>\n",
       "      <td>Olsen</td>\n",
       "      <td>SA_REP</td>\n",
       "      <td>2006-03-30</td>\n",
       "    </tr>\n",
       "    <tr>\n",
       "      <th>54</th>\n",
       "      <td>Nanette</td>\n",
       "      <td>Cambrault</td>\n",
       "      <td>SA_REP</td>\n",
       "      <td>2006-12-09</td>\n",
       "    </tr>\n",
       "    <tr>\n",
       "      <th>55</th>\n",
       "      <td>Oliver</td>\n",
       "      <td>Tuvault</td>\n",
       "      <td>SA_REP</td>\n",
       "      <td>2007-11-23</td>\n",
       "    </tr>\n",
       "    <tr>\n",
       "      <th>56</th>\n",
       "      <td>Janette</td>\n",
       "      <td>King</td>\n",
       "      <td>SA_REP</td>\n",
       "      <td>2004-01-30</td>\n",
       "    </tr>\n",
       "    <tr>\n",
       "      <th>57</th>\n",
       "      <td>Patrick</td>\n",
       "      <td>Sully</td>\n",
       "      <td>SA_REP</td>\n",
       "      <td>2004-03-04</td>\n",
       "    </tr>\n",
       "    <tr>\n",
       "      <th>58</th>\n",
       "      <td>Allan</td>\n",
       "      <td>McEwen</td>\n",
       "      <td>SA_REP</td>\n",
       "      <td>2004-08-01</td>\n",
       "    </tr>\n",
       "    <tr>\n",
       "      <th>59</th>\n",
       "      <td>Lindsey</td>\n",
       "      <td>Smith</td>\n",
       "      <td>SA_REP</td>\n",
       "      <td>2005-03-10</td>\n",
       "    </tr>\n",
       "    <tr>\n",
       "      <th>60</th>\n",
       "      <td>Louise</td>\n",
       "      <td>Doran</td>\n",
       "      <td>SA_REP</td>\n",
       "      <td>2005-12-15</td>\n",
       "    </tr>\n",
       "    <tr>\n",
       "      <th>61</th>\n",
       "      <td>Sarath</td>\n",
       "      <td>Sewall</td>\n",
       "      <td>SA_REP</td>\n",
       "      <td>2006-11-03</td>\n",
       "    </tr>\n",
       "    <tr>\n",
       "      <th>62</th>\n",
       "      <td>Clara</td>\n",
       "      <td>Vishney</td>\n",
       "      <td>SA_REP</td>\n",
       "      <td>2005-11-11</td>\n",
       "    </tr>\n",
       "    <tr>\n",
       "      <th>63</th>\n",
       "      <td>Danielle</td>\n",
       "      <td>Greene</td>\n",
       "      <td>SA_REP</td>\n",
       "      <td>2007-03-19</td>\n",
       "    </tr>\n",
       "    <tr>\n",
       "      <th>64</th>\n",
       "      <td>Mattea</td>\n",
       "      <td>Marvins</td>\n",
       "      <td>SA_REP</td>\n",
       "      <td>2008-01-24</td>\n",
       "    </tr>\n",
       "    <tr>\n",
       "      <th>65</th>\n",
       "      <td>David</td>\n",
       "      <td>Lee</td>\n",
       "      <td>SA_REP</td>\n",
       "      <td>2008-02-23</td>\n",
       "    </tr>\n",
       "    <tr>\n",
       "      <th>66</th>\n",
       "      <td>Sundar</td>\n",
       "      <td>Ande</td>\n",
       "      <td>SA_REP</td>\n",
       "      <td>2008-03-24</td>\n",
       "    </tr>\n",
       "    <tr>\n",
       "      <th>67</th>\n",
       "      <td>Amit</td>\n",
       "      <td>Banda</td>\n",
       "      <td>SA_REP</td>\n",
       "      <td>2008-04-21</td>\n",
       "    </tr>\n",
       "    <tr>\n",
       "      <th>68</th>\n",
       "      <td>Lisa</td>\n",
       "      <td>Ozer</td>\n",
       "      <td>SA_REP</td>\n",
       "      <td>2005-03-11</td>\n",
       "    </tr>\n",
       "    <tr>\n",
       "      <th>69</th>\n",
       "      <td>Harrison</td>\n",
       "      <td>Bloom</td>\n",
       "      <td>SA_REP</td>\n",
       "      <td>2006-03-23</td>\n",
       "    </tr>\n",
       "    <tr>\n",
       "      <th>70</th>\n",
       "      <td>Tayler</td>\n",
       "      <td>Fox</td>\n",
       "      <td>SA_REP</td>\n",
       "      <td>2006-01-24</td>\n",
       "    </tr>\n",
       "    <tr>\n",
       "      <th>71</th>\n",
       "      <td>William</td>\n",
       "      <td>Smith</td>\n",
       "      <td>SA_REP</td>\n",
       "      <td>2007-02-23</td>\n",
       "    </tr>\n",
       "    <tr>\n",
       "      <th>72</th>\n",
       "      <td>Elizabeth</td>\n",
       "      <td>Bates</td>\n",
       "      <td>SA_REP</td>\n",
       "      <td>2007-03-24</td>\n",
       "    </tr>\n",
       "    <tr>\n",
       "      <th>73</th>\n",
       "      <td>Sundita</td>\n",
       "      <td>Kumar</td>\n",
       "      <td>SA_REP</td>\n",
       "      <td>2008-04-21</td>\n",
       "    </tr>\n",
       "    <tr>\n",
       "      <th>74</th>\n",
       "      <td>Ellen</td>\n",
       "      <td>Abel</td>\n",
       "      <td>SA_REP</td>\n",
       "      <td>2004-05-11</td>\n",
       "    </tr>\n",
       "    <tr>\n",
       "      <th>75</th>\n",
       "      <td>Alyssa</td>\n",
       "      <td>Hutton</td>\n",
       "      <td>SA_REP</td>\n",
       "      <td>2005-03-19</td>\n",
       "    </tr>\n",
       "    <tr>\n",
       "      <th>76</th>\n",
       "      <td>Jonathon</td>\n",
       "      <td>Taylor</td>\n",
       "      <td>SA_REP</td>\n",
       "      <td>2006-03-24</td>\n",
       "    </tr>\n",
       "    <tr>\n",
       "      <th>77</th>\n",
       "      <td>Jack</td>\n",
       "      <td>Livingston</td>\n",
       "      <td>SA_REP</td>\n",
       "      <td>2006-04-23</td>\n",
       "    </tr>\n",
       "    <tr>\n",
       "      <th>78</th>\n",
       "      <td>Kimberely</td>\n",
       "      <td>Grant</td>\n",
       "      <td>SA_REP</td>\n",
       "      <td>2007-05-24</td>\n",
       "    </tr>\n",
       "    <tr>\n",
       "      <th>79</th>\n",
       "      <td>Charles</td>\n",
       "      <td>Johnson</td>\n",
       "      <td>SA_REP</td>\n",
       "      <td>2008-01-04</td>\n",
       "    </tr>\n",
       "  </tbody>\n",
       "</table>\n",
       "</div>"
      ],
      "text/plain": [
       "     first_name   last_name  job_id   hire_date\n",
       "45         John     Russell  SA_MAN  2004-10-01\n",
       "46        Karen    Partners  SA_MAN  2005-01-05\n",
       "47      Alberto   Errazuriz  SA_MAN  2005-03-10\n",
       "48       Gerald   Cambrault  SA_MAN  2007-10-15\n",
       "49        Eleni     Zlotkey  SA_MAN  2008-01-29\n",
       "50        Peter      Tucker  SA_REP  2005-01-30\n",
       "51        David   Bernstein  SA_REP  2005-03-24\n",
       "52        Peter        Hall  SA_REP  2005-08-20\n",
       "53  Christopher       Olsen  SA_REP  2006-03-30\n",
       "54      Nanette   Cambrault  SA_REP  2006-12-09\n",
       "55       Oliver     Tuvault  SA_REP  2007-11-23\n",
       "56      Janette        King  SA_REP  2004-01-30\n",
       "57      Patrick       Sully  SA_REP  2004-03-04\n",
       "58        Allan      McEwen  SA_REP  2004-08-01\n",
       "59      Lindsey       Smith  SA_REP  2005-03-10\n",
       "60       Louise       Doran  SA_REP  2005-12-15\n",
       "61       Sarath      Sewall  SA_REP  2006-11-03\n",
       "62        Clara     Vishney  SA_REP  2005-11-11\n",
       "63     Danielle      Greene  SA_REP  2007-03-19\n",
       "64       Mattea     Marvins  SA_REP  2008-01-24\n",
       "65        David         Lee  SA_REP  2008-02-23\n",
       "66       Sundar        Ande  SA_REP  2008-03-24\n",
       "67         Amit       Banda  SA_REP  2008-04-21\n",
       "68         Lisa        Ozer  SA_REP  2005-03-11\n",
       "69     Harrison       Bloom  SA_REP  2006-03-23\n",
       "70       Tayler         Fox  SA_REP  2006-01-24\n",
       "71      William       Smith  SA_REP  2007-02-23\n",
       "72    Elizabeth       Bates  SA_REP  2007-03-24\n",
       "73      Sundita       Kumar  SA_REP  2008-04-21\n",
       "74        Ellen        Abel  SA_REP  2004-05-11\n",
       "75       Alyssa      Hutton  SA_REP  2005-03-19\n",
       "76     Jonathon      Taylor  SA_REP  2006-03-24\n",
       "77         Jack  Livingston  SA_REP  2006-04-23\n",
       "78    Kimberely       Grant  SA_REP  2007-05-24\n",
       "79      Charles     Johnson  SA_REP  2008-01-04"
      ]
     },
     "execution_count": 257,
     "metadata": {},
     "output_type": "execute_result"
    }
   ],
   "source": [
    "emp.loc[:, ['first_name', 'last_name', 'job_id', 'hire_date']]"
   ]
  },
  {
   "cell_type": "markdown",
   "id": "4a59a6c7-8bd0-4220-93da-9ba624369633",
   "metadata": {
    "jp-MarkdownHeadingCollapsed": true
   },
   "source": [
    "# Pandas Resampling and Frequency Conversion"
   ]
  },
  {
   "cell_type": "code",
   "execution_count": 260,
   "id": "bf5b2ddb-45ad-4bae-b5b6-c63e426258e5",
   "metadata": {},
   "outputs": [
    {
     "name": "stdout",
     "output_type": "stream",
     "text": [
      "                   date  data\n",
      "0   2023-01-01 00:00:00    40\n",
      "1   2023-01-01 01:00:00     1\n",
      "2   2023-01-01 02:00:00    89\n",
      "3   2023-01-01 03:00:00    88\n",
      "4   2023-01-01 04:00:00    30\n",
      "..                  ...   ...\n",
      "212 2023-01-09 20:00:00    88\n",
      "213 2023-01-09 21:00:00    91\n",
      "214 2023-01-09 22:00:00    61\n",
      "215 2023-01-09 23:00:00     3\n",
      "216 2023-01-10 00:00:00    19\n",
      "\n",
      "[217 rows x 2 columns]\n",
      "                 data\n",
      "date                 \n",
      "2023-01-01  48.458333\n",
      "2023-01-02  47.625000\n",
      "2023-01-03  43.166667\n",
      "2023-01-04  51.291667\n",
      "2023-01-05  48.791667\n",
      "2023-01-06  52.875000\n",
      "2023-01-07  57.791667\n",
      "2023-01-08  55.000000\n",
      "2023-01-09  50.250000\n",
      "2023-01-10  19.000000\n"
     ]
    }
   ],
   "source": [
    "import pandas as pd\n",
    "import numpy as np\n",
    "\n",
    "# Create sample time series data\n",
    "date_rng = pd.date_range(start='2023-01-01', end='2023-01-10', freq='h')\n",
    "df = pd.DataFrame(date_rng, columns=['date'])\n",
    "df['data'] = np.random.randint(0, 100, size=(len(date_rng)))\n",
    "\n",
    "print(df)\n",
    "\n",
    "df.set_index('date', inplace=True)\n",
    "\n",
    "# Downsample to daily frequency, aggregating with mean\n",
    "daily = df.resample('D').mean()\n",
    "print(daily)\n"
   ]
  },
  {
   "cell_type": "code",
   "execution_count": 261,
   "id": "e16e2830-ed25-4dbd-b924-f28ca434b4e9",
   "metadata": {},
   "outputs": [
    {
     "name": "stdout",
     "output_type": "stream",
     "text": [
      "                 data          \n",
      "                 mean   sum max\n",
      "date                           \n",
      "2023-01-01  48.458333  1163  89\n",
      "2023-01-02  47.625000  1143  99\n",
      "2023-01-03  43.166667  1036  93\n",
      "2023-01-04  51.291667  1231  96\n",
      "2023-01-05  48.791667  1171  93\n",
      "2023-01-06  52.875000  1269  94\n",
      "2023-01-07  57.791667  1387  99\n",
      "2023-01-08  55.000000  1320  96\n",
      "2023-01-09  50.250000  1206  97\n",
      "2023-01-10  19.000000    19  19\n"
     ]
    }
   ],
   "source": [
    "custom = df.resample('D').agg({'data': ['mean', 'sum', 'max']})\n",
    "print(custom)"
   ]
  },
  {
   "cell_type": "markdown",
   "id": "3d47dbf5-7379-4910-a2f2-a069036ce753",
   "metadata": {},
   "source": [
    "Write a Pandas program to resample time series data to daily frequency."
   ]
  },
  {
   "cell_type": "code",
   "execution_count": 262,
   "id": "2c74cab8-0978-4a8e-860e-ce1414bd8e4f",
   "metadata": {},
   "outputs": [],
   "source": [
    "import numpy as np\n",
    "import pandas as pd"
   ]
  },
  {
   "cell_type": "code",
   "execution_count": 267,
   "id": "15f103f1-3c0b-4ceb-8807-f792f313bf3a",
   "metadata": {},
   "outputs": [
    {
     "name": "stdout",
     "output_type": "stream",
     "text": [
      "2023-01-01 00:00:00   -0.256316\n",
      "2023-01-01 01:00:00   -0.622033\n",
      "2023-01-01 02:00:00   -1.712510\n",
      "2023-01-01 03:00:00    0.156268\n",
      "2023-01-01 04:00:00   -0.245131\n",
      "                         ...   \n",
      "2023-01-04 20:00:00    1.777148\n",
      "2023-01-04 21:00:00   -0.880694\n",
      "2023-01-04 22:00:00   -0.966094\n",
      "2023-01-04 23:00:00   -1.019398\n",
      "2023-01-05 00:00:00   -1.283794\n",
      "Freq: h, Length: 97, dtype: float64\n",
      "\n",
      "Resample to daily freq\n",
      "2023-01-01    2.975061\n",
      "2023-01-02    1.931501\n",
      "2023-01-03    1.815117\n",
      "2023-01-04    1.777148\n",
      "2023-01-05   -1.283794\n",
      "Freq: D, dtype: float64\n"
     ]
    }
   ],
   "source": [
    "date_rng = pd.date_range(start='2023-01-01', end='2023-01-05', freq='h')\n",
    "ts = pd.Series(np.random.randn(len(date_rng)), index=date_rng)\n",
    "print(ts)\n",
    "\n",
    "print(\"\\nResample to daily freq\")\n",
    "ts_daily = ts.resample('D').max()\n",
    "print(ts_daily)"
   ]
  },
  {
   "cell_type": "markdown",
   "id": "1e58e0b4-dfb9-408e-86fb-45c23b6ee82c",
   "metadata": {},
   "source": [
    "Write a Pandas program to calculate Rolling Mean of Resampled Data."
   ]
  },
  {
   "cell_type": "code",
   "execution_count": 268,
   "id": "bdc9a669-d6a3-40aa-b79b-5a9292aa1195",
   "metadata": {},
   "outputs": [
    {
     "name": "stdout",
     "output_type": "stream",
     "text": [
      "\n",
      "Resample to daily freq\n",
      "2023-01-01    1.283228\n",
      "2023-01-02    2.896131\n",
      "2023-01-03    1.387601\n",
      "2023-01-04    1.667124\n",
      "2023-01-05    1.909693\n",
      "2023-01-06    2.113599\n",
      "2023-01-07    1.072825\n",
      "2023-01-08    2.070610\n",
      "2023-01-09    1.654913\n",
      "2023-01-10   -0.283695\n",
      "Freq: D, dtype: float64\n",
      "\n",
      "Rolling Mean()\n",
      "2023-01-01         NaN\n",
      "2023-01-02         NaN\n",
      "2023-01-03    1.855653\n",
      "2023-01-04    1.983619\n",
      "2023-01-05    1.654806\n",
      "2023-01-06    1.896805\n",
      "2023-01-07    1.698705\n",
      "2023-01-08    1.752344\n",
      "2023-01-09    1.599449\n",
      "2023-01-10    1.147276\n",
      "Freq: D, dtype: float64\n"
     ]
    }
   ],
   "source": [
    "date_rng = pd.date_range(start='2023-01-01', end='2023-01-10', freq='h')\n",
    "ts = pd.Series(np.random.randn(len(date_rng)), index=date_rng)\n",
    "\n",
    "print(\"\\nResample to daily freq\")\n",
    "ts_daily = ts.resample('D').max()\n",
    "print(ts_daily)\n",
    "\n",
    "print(\"\\nRolling Mean()\")\n",
    "ts_roll = ts_daily.rolling(window=3).mean()\n",
    "print(ts_roll)"
   ]
  },
  {
   "cell_type": "markdown",
   "id": "b27d240b-42e3-4fae-9ee1-3a9032a25a06",
   "metadata": {},
   "source": [
    "Write a Pandas program to create custom Resampling periods."
   ]
  },
  {
   "cell_type": "code",
   "execution_count": 271,
   "id": "63893ad7-44a9-4c72-97e7-a170dbe54d4e",
   "metadata": {},
   "outputs": [
    {
     "name": "stdout",
     "output_type": "stream",
     "text": [
      "2023-01-01   -0.043028\n",
      "2023-01-03   -0.254085\n",
      "2023-01-05    0.084579\n",
      "2023-01-07    0.007781\n",
      "2023-01-09    0.053440\n",
      "Freq: 2D, dtype: float64\n"
     ]
    }
   ],
   "source": [
    "date_rng = pd.date_range(start='2023-01-01', end='2023-01-10', freq='h')\n",
    "ts = pd.Series(np.random.randn(len(date_rng)), index=date_rng)\n",
    "\n",
    "def custom_resample(ts, freq):\n",
    "    return ts.groupby(pd.Grouper(freq=freq)).mean()\n",
    "\n",
    "ts_custom = custom_resample(ts, '2D')\n",
    "\n",
    "print(ts_custom)"
   ]
  },
  {
   "cell_type": "markdown",
   "id": "f7ae84c1-5d6f-4a98-be57-ecc7a5b12c03",
   "metadata": {},
   "source": [
    " Write a Pandas program to calculate percentage change in Resampled data.\n"
   ]
  },
  {
   "cell_type": "code",
   "execution_count": 274,
   "id": "a212011d-23fb-4842-b17b-533d34e88de9",
   "metadata": {},
   "outputs": [
    {
     "name": "stdout",
     "output_type": "stream",
     "text": [
      "2021-01-01   -0.356993\n",
      "2021-01-02    0.013915\n",
      "2021-01-03    0.020689\n",
      "2021-01-04    0.161453\n",
      "2021-01-05    0.000683\n",
      "2021-01-06    0.170614\n",
      "2021-01-07    0.048677\n",
      "2021-01-08    0.128287\n",
      "2021-01-09   -0.086853\n",
      "2021-01-10    0.235504\n",
      "Freq: D, dtype: float64\n",
      "\n",
      "2021-01-01           NaN\n",
      "2021-01-02     -1.038978\n",
      "2021-01-03      0.486825\n",
      "2021-01-04      6.803901\n",
      "2021-01-05     -0.995771\n",
      "2021-01-06    248.902091\n",
      "2021-01-07     -0.714694\n",
      "2021-01-08      1.635461\n",
      "2021-01-09     -1.677021\n",
      "2021-01-10     -3.711528\n",
      "Freq: D, dtype: float64\n"
     ]
    }
   ],
   "source": [
    "date_rng = pd.date_range(start='2021-01-01', end='2021-01-10', freq='h')\n",
    "ts = pd.Series(np.random.randn(len(date_rng)), index=date_rng)\n",
    "\n",
    "ts_daily = ts.resample('D').mean()\n",
    "print(ts_daily)\n",
    "\n",
    "print()\n",
    "ts_pct_change = ts_daily.pct_change()\n",
    "print(ts_pct_change)"
   ]
  },
  {
   "cell_type": "markdown",
   "id": "c0a1ae1f-6597-4adf-8643-434e5383dcd6",
   "metadata": {
    "jp-MarkdownHeadingCollapsed": true
   },
   "source": [
    "# Pandas Advanced Grouping and Aggregation"
   ]
  },
  {
   "cell_type": "code",
   "execution_count": 275,
   "id": "9552b8d7-14f0-4e0a-98f6-46002c8e9b0f",
   "metadata": {},
   "outputs": [
    {
     "name": "stdout",
     "output_type": "stream",
     "text": [
      "Category\n",
      "A     90\n",
      "B    120\n",
      "Name: Values, dtype: int64\n"
     ]
    }
   ],
   "source": [
    "import pandas as pd\n",
    "import numpy as np\n",
    "\n",
    "# Sample data\n",
    "data = {\n",
    "    'Category': ['A', 'B', 'A', 'B', 'A', 'B'],\n",
    "    'SubCategory': ['X', 'X', 'Y', 'Y', 'Z', 'Z'],\n",
    "    'Values': [10, 20, 30, 40, 50, 60]\n",
    "}\n",
    "df = pd.DataFrame(data)\n",
    "\n",
    "# Basic groupby with aggregation\n",
    "result = df.groupby('Category')['Values'].sum()\n",
    "print(result)\n"
   ]
  },
  {
   "cell_type": "code",
   "execution_count": 277,
   "id": "9c195f6a-77b2-40e9-9fc2-a4baa77f145a",
   "metadata": {},
   "outputs": [
    {
     "name": "stdout",
     "output_type": "stream",
     "text": [
      "  Category SubCategory  Values  GroupMean\n",
      "0        A           X      10         90\n",
      "1        B           X      20        120\n",
      "2        A           Y      30         90\n",
      "3        B           Y      40        120\n",
      "4        A           Z      50         90\n",
      "5        B           Z      60        120\n"
     ]
    }
   ],
   "source": [
    "df['GroupMean'] = df.groupby('Category')['Values'].transform('sum')\n",
    "print(df)"
   ]
  },
  {
   "cell_type": "code",
   "execution_count": 280,
   "id": "fd35ffd1-4bc4-4400-accb-9a25901a6475",
   "metadata": {},
   "outputs": [
    {
     "name": "stdout",
     "output_type": "stream",
     "text": [
      "  Category SubCategory  Values  GroupMean\n",
      "1        B           X      20        120\n",
      "3        B           Y      40        120\n",
      "5        B           Z      60        120\n"
     ]
    }
   ],
   "source": [
    "result = df.groupby('Category').filter(lambda x: x['Values'].sum() > 90)\n",
    "print(result)"
   ]
  },
  {
   "cell_type": "markdown",
   "id": "8d463a88-f320-48f3-a14e-ca54aca1b727",
   "metadata": {},
   "source": [
    "Grouping by Multiple columns:\n",
    "Write a Pandas program to group data by multiple columns to perform complex  data analysis and aggregations."
   ]
  },
  {
   "cell_type": "code",
   "execution_count": 281,
   "id": "9dbaa92d-7361-4281-9cf2-ff32084e6648",
   "metadata": {},
   "outputs": [],
   "source": [
    "data = {\n",
    "    'Category': ['A', 'B', 'A', 'B', 'A', 'B'],\n",
    "    'SubCategory': ['X', 'X', 'Y', 'Y', 'Z', 'Z'],\n",
    "    'Values': [10, 20, 30, 40, 50, 60]\n",
    "}"
   ]
  },
  {
   "cell_type": "code",
   "execution_count": 282,
   "id": "48e8a4ac-5354-4901-be56-828bb41b8cd1",
   "metadata": {},
   "outputs": [
    {
     "data": {
      "text/html": [
       "<div>\n",
       "<style scoped>\n",
       "    .dataframe tbody tr th:only-of-type {\n",
       "        vertical-align: middle;\n",
       "    }\n",
       "\n",
       "    .dataframe tbody tr th {\n",
       "        vertical-align: top;\n",
       "    }\n",
       "\n",
       "    .dataframe thead th {\n",
       "        text-align: right;\n",
       "    }\n",
       "</style>\n",
       "<table border=\"1\" class=\"dataframe\">\n",
       "  <thead>\n",
       "    <tr style=\"text-align: right;\">\n",
       "      <th></th>\n",
       "      <th>Category</th>\n",
       "      <th>SubCategory</th>\n",
       "      <th>Values</th>\n",
       "    </tr>\n",
       "  </thead>\n",
       "  <tbody>\n",
       "    <tr>\n",
       "      <th>0</th>\n",
       "      <td>A</td>\n",
       "      <td>X</td>\n",
       "      <td>10</td>\n",
       "    </tr>\n",
       "    <tr>\n",
       "      <th>1</th>\n",
       "      <td>B</td>\n",
       "      <td>X</td>\n",
       "      <td>20</td>\n",
       "    </tr>\n",
       "    <tr>\n",
       "      <th>2</th>\n",
       "      <td>A</td>\n",
       "      <td>Y</td>\n",
       "      <td>30</td>\n",
       "    </tr>\n",
       "    <tr>\n",
       "      <th>3</th>\n",
       "      <td>B</td>\n",
       "      <td>Y</td>\n",
       "      <td>40</td>\n",
       "    </tr>\n",
       "    <tr>\n",
       "      <th>4</th>\n",
       "      <td>A</td>\n",
       "      <td>Z</td>\n",
       "      <td>50</td>\n",
       "    </tr>\n",
       "    <tr>\n",
       "      <th>5</th>\n",
       "      <td>B</td>\n",
       "      <td>Z</td>\n",
       "      <td>60</td>\n",
       "    </tr>\n",
       "  </tbody>\n",
       "</table>\n",
       "</div>"
      ],
      "text/plain": [
       "  Category SubCategory  Values\n",
       "0        A           X      10\n",
       "1        B           X      20\n",
       "2        A           Y      30\n",
       "3        B           Y      40\n",
       "4        A           Z      50\n",
       "5        B           Z      60"
      ]
     },
     "execution_count": 282,
     "metadata": {},
     "output_type": "execute_result"
    }
   ],
   "source": [
    "df = pd.DataFrame(data)\n",
    "df"
   ]
  },
  {
   "cell_type": "code",
   "execution_count": 283,
   "id": "d15b1ce2-4234-4402-8d36-78a50dd1d5de",
   "metadata": {},
   "outputs": [],
   "source": [
    "d = df.groupby(['Category','SubCategory']).sum()"
   ]
  },
  {
   "cell_type": "code",
   "execution_count": 284,
   "id": "49fdccff-8865-47e0-80e1-40c029e526e8",
   "metadata": {},
   "outputs": [
    {
     "data": {
      "text/html": [
       "<div>\n",
       "<style scoped>\n",
       "    .dataframe tbody tr th:only-of-type {\n",
       "        vertical-align: middle;\n",
       "    }\n",
       "\n",
       "    .dataframe tbody tr th {\n",
       "        vertical-align: top;\n",
       "    }\n",
       "\n",
       "    .dataframe thead th {\n",
       "        text-align: right;\n",
       "    }\n",
       "</style>\n",
       "<table border=\"1\" class=\"dataframe\">\n",
       "  <thead>\n",
       "    <tr style=\"text-align: right;\">\n",
       "      <th></th>\n",
       "      <th></th>\n",
       "      <th>Values</th>\n",
       "    </tr>\n",
       "    <tr>\n",
       "      <th>Category</th>\n",
       "      <th>SubCategory</th>\n",
       "      <th></th>\n",
       "    </tr>\n",
       "  </thead>\n",
       "  <tbody>\n",
       "    <tr>\n",
       "      <th rowspan=\"3\" valign=\"top\">A</th>\n",
       "      <th>X</th>\n",
       "      <td>10</td>\n",
       "    </tr>\n",
       "    <tr>\n",
       "      <th>Y</th>\n",
       "      <td>30</td>\n",
       "    </tr>\n",
       "    <tr>\n",
       "      <th>Z</th>\n",
       "      <td>50</td>\n",
       "    </tr>\n",
       "    <tr>\n",
       "      <th rowspan=\"3\" valign=\"top\">B</th>\n",
       "      <th>X</th>\n",
       "      <td>20</td>\n",
       "    </tr>\n",
       "    <tr>\n",
       "      <th>Y</th>\n",
       "      <td>40</td>\n",
       "    </tr>\n",
       "    <tr>\n",
       "      <th>Z</th>\n",
       "      <td>60</td>\n",
       "    </tr>\n",
       "  </tbody>\n",
       "</table>\n",
       "</div>"
      ],
      "text/plain": [
       "                      Values\n",
       "Category SubCategory        \n",
       "A        X                10\n",
       "         Y                30\n",
       "         Z                50\n",
       "B        X                20\n",
       "         Y                40\n",
       "         Z                60"
      ]
     },
     "execution_count": 284,
     "metadata": {},
     "output_type": "execute_result"
    }
   ],
   "source": [
    "d"
   ]
  },
  {
   "cell_type": "markdown",
   "id": "73fe6a72-0078-4739-9c36-56d99fd0fbe5",
   "metadata": {},
   "source": [
    " Custom Aggregation Functions:\n",
    "Write a Pandas program to implement custom aggregation functions within groupby for tailored data analysis."
   ]
  },
  {
   "cell_type": "code",
   "execution_count": 285,
   "id": "58bf7172-385e-4218-a388-a50041c6ec6c",
   "metadata": {},
   "outputs": [
    {
     "name": "stdout",
     "output_type": "stream",
     "text": [
      "Sample DataFrame:\n",
      "  Category  Value\n",
      "0        A      5\n",
      "1        A     15\n",
      "2        B     25\n",
      "3        B     35\n",
      "4        C     45\n",
      "5        C     55\n",
      "\n",
      "Group by 'Category' and apply custom aggregation:\n",
      "          Value\n",
      "Category       \n",
      "A            10\n",
      "B            10\n",
      "C            10\n"
     ]
    }
   ],
   "source": [
    "data = {'Category': ['A', 'A', 'B', 'B', 'C', 'C'],\n",
    "        'Value': [5, 15, 25, 35, 45, 55]}\n",
    "\n",
    "df = pd.DataFrame(data)\n",
    "print(\"Sample DataFrame:\")\n",
    "print(df)\n",
    "\n",
    "def custom_agg(x):\n",
    "    return x.max() - x.min()\n",
    "\n",
    "print(\"\\nGroup by 'Category' and apply custom aggregation:\")\n",
    "grouped = df.groupby('Category').agg(custom_agg)\n",
    "\n",
    "print(grouped)"
   ]
  },
  {
   "cell_type": "markdown",
   "id": "a34f0253-e39a-41b2-9d0f-0cf96355d8c1",
   "metadata": {},
   "source": [
    "GroupBy and Applying Multiple Aggregations with Named Functions:\n",
    "Write a Pandas program to apply multiple aggregations with named functions in GroupBy for detailed data analysis."
   ]
  },
  {
   "cell_type": "code",
   "execution_count": 286,
   "id": "12a9a7fe-9c58-47a4-86d2-661a65f8d1d1",
   "metadata": {},
   "outputs": [
    {
     "name": "stdout",
     "output_type": "stream",
     "text": [
      "Sample DataFrame:\n",
      "  Category  Value1  Value2\n",
      "0        A       5      50\n",
      "1        A      10     100\n",
      "2        B      15     150\n",
      "3        B      20     200\n",
      "4        C      25     250\n",
      "5        C      30     300\n",
      "\n",
      "Group by 'Category' and apply multiple named aggregations:\n",
      "          Total_Value1  Average_Value2\n",
      "Category                              \n",
      "A                   15            75.0\n",
      "B                   35           175.0\n",
      "C                   55           275.0\n"
     ]
    }
   ],
   "source": [
    "\n",
    "data = {'Category': ['A', 'A', 'B', 'B', 'C', 'C'],\n",
    "        'Value1': [5, 10, 15, 20, 25, 30],\n",
    "        'Value2': [50, 100, 150, 200, 250, 300]}\n",
    "\n",
    "df = pd.DataFrame(data)\n",
    "print(\"Sample DataFrame:\")\n",
    "print(df)\n",
    "      \n",
    "print(\"\\nGroup by 'Category' and apply multiple named aggregations:\")\n",
    "grouped = df.groupby('Category').agg(\n",
    "    Total_Value1=('Value1', 'sum'),\n",
    "    Average_Value2=('Value2', 'mean')\n",
    ")\n",
    "\n",
    "print(grouped)\n"
   ]
  },
  {
   "cell_type": "markdown",
   "id": "2dd52cbe-22d4-4fe1-b59a-86265e19a8ee",
   "metadata": {
    "jp-MarkdownHeadingCollapsed": true
   },
   "source": [
    "# Python Pandas IMDb Movies Data"
   ]
  },
  {
   "cell_type": "code",
   "execution_count": 287,
   "id": "a820851c-2970-4ec5-833b-ec77fd6916fc",
   "metadata": {},
   "outputs": [],
   "source": [
    "import pandas as pd"
   ]
  },
  {
   "cell_type": "markdown",
   "id": "06dee9ca-85f7-44ed-b1bc-84ccb6efb893",
   "metadata": {},
   "source": [
    "Write a Python Pandas program to get the columns of the DataFrame (movies_metadata.csv file)."
   ]
  },
  {
   "cell_type": "code",
   "execution_count": 297,
   "id": "28c04f0f-5721-47bb-831b-1f1b2c71e79f",
   "metadata": {},
   "outputs": [
    {
     "data": {
      "text/plain": [
       "Index(['adult', 'belongs_to_collection', 'budget', 'genres', 'homepage', 'id',\n",
       "       'imdb_id', 'original_language', 'original_title', 'overview',\n",
       "       'popularity', 'poster_path', 'production_companies',\n",
       "       'production_countries', 'release_date', 'revenue', 'runtime',\n",
       "       'spoken_languages', 'status', 'tagline', 'title', 'video',\n",
       "       'vote_average', 'vote_count'],\n",
       "      dtype='object')"
      ]
     },
     "execution_count": 297,
     "metadata": {},
     "output_type": "execute_result"
    }
   ],
   "source": [
    "df = pd.read_csv('movies_metadata.csv', encoding='ISO-8859-1',on_bad_lines='skip')\n",
    "df.columns"
   ]
  },
  {
   "cell_type": "markdown",
   "id": "8aa7ff6c-989d-4d37-ba2e-5925912ae2e7",
   "metadata": {},
   "source": [
    "Write a Pandas program to get the information of the DataFrame (movies_metadata.csv file)including data types and memory usage."
   ]
  },
  {
   "cell_type": "code",
   "execution_count": 298,
   "id": "01626229-992d-453b-9fdb-4da5814db006",
   "metadata": {},
   "outputs": [
    {
     "name": "stdout",
     "output_type": "stream",
     "text": [
      "<class 'pandas.core.frame.DataFrame'>\n",
      "RangeIndex: 49 entries, 0 to 48\n",
      "Data columns (total 24 columns):\n",
      " #   Column                 Non-Null Count  Dtype  \n",
      "---  ------                 --------------  -----  \n",
      " 0   adult                  49 non-null     bool   \n",
      " 1   belongs_to_collection  10 non-null     object \n",
      " 2   budget                 49 non-null     int64  \n",
      " 3   genres                 49 non-null     object \n",
      " 4   homepage               5 non-null      object \n",
      " 5   id                     49 non-null     int64  \n",
      " 6   imdb_id                49 non-null     object \n",
      " 7   original_language      49 non-null     object \n",
      " 8   original_title         49 non-null     object \n",
      " 9   overview               48 non-null     object \n",
      " 10  popularity             49 non-null     float64\n",
      " 11  poster_path            49 non-null     object \n",
      " 12  production_companies   49 non-null     object \n",
      " 13  production_countries   49 non-null     object \n",
      " 14  release_date           49 non-null     object \n",
      " 15  revenue                49 non-null     int64  \n",
      " 16  runtime                49 non-null     float64\n",
      " 17  spoken_languages       49 non-null     object \n",
      " 18  status                 49 non-null     object \n",
      " 19  tagline                40 non-null     object \n",
      " 20  title                  49 non-null     object \n",
      " 21  video                  49 non-null     bool   \n",
      " 22  vote_average           49 non-null     float64\n",
      " 23  vote_count             49 non-null     int64  \n",
      "dtypes: bool(2), float64(3), int64(4), object(15)\n",
      "memory usage: 8.6+ KB\n"
     ]
    }
   ],
   "source": [
    "df.info()"
   ]
  },
  {
   "cell_type": "markdown",
   "id": "f52d3c4b-2da4-4449-817b-6bf8a01b2a8a",
   "metadata": {},
   "source": [
    "Write a Pandas program to get the details of the third movie of the DataFrame (movies_metadata.csv file)."
   ]
  },
  {
   "cell_type": "code",
   "execution_count": 300,
   "id": "f26253c2-b4f8-46c7-8ee4-3cddf2cee544",
   "metadata": {},
   "outputs": [
    {
     "data": {
      "text/html": [
       "<div>\n",
       "<style scoped>\n",
       "    .dataframe tbody tr th:only-of-type {\n",
       "        vertical-align: middle;\n",
       "    }\n",
       "\n",
       "    .dataframe tbody tr th {\n",
       "        vertical-align: top;\n",
       "    }\n",
       "\n",
       "    .dataframe thead th {\n",
       "        text-align: right;\n",
       "    }\n",
       "</style>\n",
       "<table border=\"1\" class=\"dataframe\">\n",
       "  <thead>\n",
       "    <tr style=\"text-align: right;\">\n",
       "      <th></th>\n",
       "      <th>adult</th>\n",
       "      <th>belongs_to_collection</th>\n",
       "      <th>budget</th>\n",
       "      <th>genres</th>\n",
       "      <th>homepage</th>\n",
       "      <th>id</th>\n",
       "      <th>imdb_id</th>\n",
       "      <th>original_language</th>\n",
       "      <th>original_title</th>\n",
       "      <th>overview</th>\n",
       "      <th>...</th>\n",
       "      <th>release_date</th>\n",
       "      <th>revenue</th>\n",
       "      <th>runtime</th>\n",
       "      <th>spoken_languages</th>\n",
       "      <th>status</th>\n",
       "      <th>tagline</th>\n",
       "      <th>title</th>\n",
       "      <th>video</th>\n",
       "      <th>vote_average</th>\n",
       "      <th>vote_count</th>\n",
       "    </tr>\n",
       "  </thead>\n",
       "  <tbody>\n",
       "    <tr>\n",
       "      <th>0</th>\n",
       "      <td>False</td>\n",
       "      <td>{'id': 10194, 'name': 'Toy Story Collection', ...</td>\n",
       "      <td>30000000</td>\n",
       "      <td>[{'id': 16, 'name': 'Animation'}, {'id': 35, '...</td>\n",
       "      <td>http://toystory.disney.com/toy-story</td>\n",
       "      <td>862</td>\n",
       "      <td>tt0114709</td>\n",
       "      <td>en</td>\n",
       "      <td>Toy Story</td>\n",
       "      <td>Led by Woody, Andy's toys live happily in his ...</td>\n",
       "      <td>...</td>\n",
       "      <td>1995-10-30</td>\n",
       "      <td>373554033</td>\n",
       "      <td>81.0</td>\n",
       "      <td>[{'iso_639_1': 'en', 'name': 'English'}]</td>\n",
       "      <td>Released</td>\n",
       "      <td>NaN</td>\n",
       "      <td>Toy Story</td>\n",
       "      <td>False</td>\n",
       "      <td>7.7</td>\n",
       "      <td>5415</td>\n",
       "    </tr>\n",
       "    <tr>\n",
       "      <th>1</th>\n",
       "      <td>False</td>\n",
       "      <td>NaN</td>\n",
       "      <td>65000000</td>\n",
       "      <td>[{'id': 12, 'name': 'Adventure'}, {'id': 14, '...</td>\n",
       "      <td>NaN</td>\n",
       "      <td>8844</td>\n",
       "      <td>tt0113497</td>\n",
       "      <td>en</td>\n",
       "      <td>Jumanji</td>\n",
       "      <td>When siblings Judy and Peter discover an encha...</td>\n",
       "      <td>...</td>\n",
       "      <td>1995-12-15</td>\n",
       "      <td>262797249</td>\n",
       "      <td>104.0</td>\n",
       "      <td>[{'iso_639_1': 'en', 'name': 'English'}, {'iso...</td>\n",
       "      <td>Released</td>\n",
       "      <td>Roll the dice and unleash the excitement!</td>\n",
       "      <td>Jumanji</td>\n",
       "      <td>False</td>\n",
       "      <td>6.9</td>\n",
       "      <td>2413</td>\n",
       "    </tr>\n",
       "    <tr>\n",
       "      <th>2</th>\n",
       "      <td>False</td>\n",
       "      <td>{'id': 119050, 'name': 'Grumpy Old Men Collect...</td>\n",
       "      <td>0</td>\n",
       "      <td>[{'id': 10749, 'name': 'Romance'}, {'id': 35, ...</td>\n",
       "      <td>NaN</td>\n",
       "      <td>15602</td>\n",
       "      <td>tt0113228</td>\n",
       "      <td>en</td>\n",
       "      <td>Grumpier Old Men</td>\n",
       "      <td>A family wedding reignites the ancient feud be...</td>\n",
       "      <td>...</td>\n",
       "      <td>1995-12-22</td>\n",
       "      <td>0</td>\n",
       "      <td>101.0</td>\n",
       "      <td>[{'iso_639_1': 'en', 'name': 'English'}]</td>\n",
       "      <td>Released</td>\n",
       "      <td>Still Yelling. Still Fighting. Still Ready for...</td>\n",
       "      <td>Grumpier Old Men</td>\n",
       "      <td>False</td>\n",
       "      <td>6.5</td>\n",
       "      <td>92</td>\n",
       "    </tr>\n",
       "    <tr>\n",
       "      <th>3</th>\n",
       "      <td>False</td>\n",
       "      <td>NaN</td>\n",
       "      <td>16000000</td>\n",
       "      <td>[{'id': 35, 'name': 'Comedy'}, {'id': 18, 'nam...</td>\n",
       "      <td>NaN</td>\n",
       "      <td>31357</td>\n",
       "      <td>tt0114885</td>\n",
       "      <td>en</td>\n",
       "      <td>Waiting to Exhale</td>\n",
       "      <td>Cheated on, mistreated and stepped on, the wom...</td>\n",
       "      <td>...</td>\n",
       "      <td>1995-12-22</td>\n",
       "      <td>81452156</td>\n",
       "      <td>127.0</td>\n",
       "      <td>[{'iso_639_1': 'en', 'name': 'English'}]</td>\n",
       "      <td>Released</td>\n",
       "      <td>Friends are the people who let you be yourself...</td>\n",
       "      <td>Waiting to Exhale</td>\n",
       "      <td>False</td>\n",
       "      <td>6.1</td>\n",
       "      <td>34</td>\n",
       "    </tr>\n",
       "    <tr>\n",
       "      <th>4</th>\n",
       "      <td>False</td>\n",
       "      <td>{'id': 96871, 'name': 'Father of the Bride Col...</td>\n",
       "      <td>0</td>\n",
       "      <td>[{'id': 35, 'name': 'Comedy'}]</td>\n",
       "      <td>NaN</td>\n",
       "      <td>11862</td>\n",
       "      <td>tt0113041</td>\n",
       "      <td>en</td>\n",
       "      <td>Father of the Bride Part II</td>\n",
       "      <td>Just when George Banks has recovered from his ...</td>\n",
       "      <td>...</td>\n",
       "      <td>1995-02-10</td>\n",
       "      <td>76578911</td>\n",
       "      <td>106.0</td>\n",
       "      <td>[{'iso_639_1': 'en', 'name': 'English'}]</td>\n",
       "      <td>Released</td>\n",
       "      <td>Just When His World Is Back To Normal... He's ...</td>\n",
       "      <td>Father of the Bride Part II</td>\n",
       "      <td>False</td>\n",
       "      <td>5.7</td>\n",
       "      <td>173</td>\n",
       "    </tr>\n",
       "  </tbody>\n",
       "</table>\n",
       "<p>5 rows × 24 columns</p>\n",
       "</div>"
      ],
      "text/plain": [
       "   adult                              belongs_to_collection    budget  \\\n",
       "0  False  {'id': 10194, 'name': 'Toy Story Collection', ...  30000000   \n",
       "1  False                                                NaN  65000000   \n",
       "2  False  {'id': 119050, 'name': 'Grumpy Old Men Collect...         0   \n",
       "3  False                                                NaN  16000000   \n",
       "4  False  {'id': 96871, 'name': 'Father of the Bride Col...         0   \n",
       "\n",
       "                                              genres  \\\n",
       "0  [{'id': 16, 'name': 'Animation'}, {'id': 35, '...   \n",
       "1  [{'id': 12, 'name': 'Adventure'}, {'id': 14, '...   \n",
       "2  [{'id': 10749, 'name': 'Romance'}, {'id': 35, ...   \n",
       "3  [{'id': 35, 'name': 'Comedy'}, {'id': 18, 'nam...   \n",
       "4                     [{'id': 35, 'name': 'Comedy'}]   \n",
       "\n",
       "                               homepage     id    imdb_id original_language  \\\n",
       "0  http://toystory.disney.com/toy-story    862  tt0114709                en   \n",
       "1                                   NaN   8844  tt0113497                en   \n",
       "2                                   NaN  15602  tt0113228                en   \n",
       "3                                   NaN  31357  tt0114885                en   \n",
       "4                                   NaN  11862  tt0113041                en   \n",
       "\n",
       "                original_title  \\\n",
       "0                    Toy Story   \n",
       "1                      Jumanji   \n",
       "2             Grumpier Old Men   \n",
       "3            Waiting to Exhale   \n",
       "4  Father of the Bride Part II   \n",
       "\n",
       "                                            overview  ...  release_date  \\\n",
       "0  Led by Woody, Andy's toys live happily in his ...  ...    1995-10-30   \n",
       "1  When siblings Judy and Peter discover an encha...  ...    1995-12-15   \n",
       "2  A family wedding reignites the ancient feud be...  ...    1995-12-22   \n",
       "3  Cheated on, mistreated and stepped on, the wom...  ...    1995-12-22   \n",
       "4  Just when George Banks has recovered from his ...  ...    1995-02-10   \n",
       "\n",
       "     revenue runtime                                   spoken_languages  \\\n",
       "0  373554033    81.0           [{'iso_639_1': 'en', 'name': 'English'}]   \n",
       "1  262797249   104.0  [{'iso_639_1': 'en', 'name': 'English'}, {'iso...   \n",
       "2          0   101.0           [{'iso_639_1': 'en', 'name': 'English'}]   \n",
       "3   81452156   127.0           [{'iso_639_1': 'en', 'name': 'English'}]   \n",
       "4   76578911   106.0           [{'iso_639_1': 'en', 'name': 'English'}]   \n",
       "\n",
       "     status                                            tagline  \\\n",
       "0  Released                                                NaN   \n",
       "1  Released          Roll the dice and unleash the excitement!   \n",
       "2  Released  Still Yelling. Still Fighting. Still Ready for...   \n",
       "3  Released  Friends are the people who let you be yourself...   \n",
       "4  Released  Just When His World Is Back To Normal... He's ...   \n",
       "\n",
       "                         title  video vote_average vote_count  \n",
       "0                    Toy Story  False          7.7       5415  \n",
       "1                      Jumanji  False          6.9       2413  \n",
       "2             Grumpier Old Men  False          6.5         92  \n",
       "3            Waiting to Exhale  False          6.1         34  \n",
       "4  Father of the Bride Part II  False          5.7        173  \n",
       "\n",
       "[5 rows x 24 columns]"
      ]
     },
     "execution_count": 300,
     "metadata": {},
     "output_type": "execute_result"
    }
   ],
   "source": [
    "df.head()"
   ]
  },
  {
   "cell_type": "code",
   "execution_count": 301,
   "id": "2b2ae921-1629-4267-a838-cdf84c164ce9",
   "metadata": {},
   "outputs": [
    {
     "data": {
      "text/plain": [
       "adult                                                                False\n",
       "belongs_to_collection    {'id': 119050, 'name': 'Grumpy Old Men Collect...\n",
       "budget                                                                   0\n",
       "genres                   [{'id': 10749, 'name': 'Romance'}, {'id': 35, ...\n",
       "homepage                                                               NaN\n",
       "id                                                                   15602\n",
       "imdb_id                                                          tt0113228\n",
       "original_language                                                       en\n",
       "original_title                                            Grumpier Old Men\n",
       "overview                 A family wedding reignites the ancient feud be...\n",
       "popularity                                                         11.7129\n",
       "poster_path                               /6ksm1sjKMFLbO7UY2i6G1ju9SML.jpg\n",
       "production_companies     [{'name': 'Warner Bros.', 'id': 6194}, {'name'...\n",
       "production_countries     [{'iso_3166_1': 'US', 'name': 'United States o...\n",
       "release_date                                                    1995-12-22\n",
       "revenue                                                                  0\n",
       "runtime                                                              101.0\n",
       "spoken_languages                  [{'iso_639_1': 'en', 'name': 'English'}]\n",
       "status                                                            Released\n",
       "tagline                  Still Yelling. Still Fighting. Still Ready for...\n",
       "title                                                     Grumpier Old Men\n",
       "video                                                                False\n",
       "vote_average                                                           6.5\n",
       "vote_count                                                              92\n",
       "Name: 2, dtype: object"
      ]
     },
     "execution_count": 301,
     "metadata": {},
     "output_type": "execute_result"
    }
   ],
   "source": [
    "df.iloc[2]"
   ]
  },
  {
   "cell_type": "markdown",
   "id": "78d5feef-e51e-4e50-b9d7-e47a28898992",
   "metadata": {},
   "source": [
    "Write a Pandas program to calculate the number of votes garnered by the 70% movie."
   ]
  },
  {
   "cell_type": "code",
   "execution_count": 302,
   "id": "dd9b77e9-a445-42c6-b80b-aef4f1534a49",
   "metadata": {},
   "outputs": [
    {
     "name": "stdout",
     "output_type": "stream",
     "text": [
      "411.39999999999986\n"
     ]
    }
   ],
   "source": [
    "result = df['vote_count'].quantile(0.70)\n",
    "print(result)"
   ]
  },
  {
   "cell_type": "markdown",
   "id": "37c30e1a-7ff4-485c-9269-a4e882426634",
   "metadata": {},
   "source": [
    "Write a Pandas program to display the movies (title, number of votes) that received specified number of votes."
   ]
  },
  {
   "cell_type": "code",
   "execution_count": 305,
   "id": "44bd7238-a58b-4c27-841c-c637f62a64f9",
   "metadata": {},
   "outputs": [],
   "source": [
    "df1 = df[['title','vote_count']]\n",
    "df2 = df1[df1['vote_count'] > 1000]"
   ]
  },
  {
   "cell_type": "code",
   "execution_count": 306,
   "id": "01e4c0a7-d7d9-4cb5-afb1-d8787c37d9e0",
   "metadata": {},
   "outputs": [
    {
     "data": {
      "text/html": [
       "<div>\n",
       "<style scoped>\n",
       "    .dataframe tbody tr th:only-of-type {\n",
       "        vertical-align: middle;\n",
       "    }\n",
       "\n",
       "    .dataframe tbody tr th {\n",
       "        vertical-align: top;\n",
       "    }\n",
       "\n",
       "    .dataframe thead th {\n",
       "        text-align: right;\n",
       "    }\n",
       "</style>\n",
       "<table border=\"1\" class=\"dataframe\">\n",
       "  <thead>\n",
       "    <tr style=\"text-align: right;\">\n",
       "      <th></th>\n",
       "      <th>title</th>\n",
       "      <th>vote_count</th>\n",
       "    </tr>\n",
       "  </thead>\n",
       "  <tbody>\n",
       "    <tr>\n",
       "      <th>0</th>\n",
       "      <td>Toy Story</td>\n",
       "      <td>5415</td>\n",
       "    </tr>\n",
       "    <tr>\n",
       "      <th>1</th>\n",
       "      <td>Jumanji</td>\n",
       "      <td>2413</td>\n",
       "    </tr>\n",
       "    <tr>\n",
       "      <th>5</th>\n",
       "      <td>Heat</td>\n",
       "      <td>1886</td>\n",
       "    </tr>\n",
       "    <tr>\n",
       "      <th>9</th>\n",
       "      <td>GoldenEye</td>\n",
       "      <td>1194</td>\n",
       "    </tr>\n",
       "    <tr>\n",
       "      <th>15</th>\n",
       "      <td>Casino</td>\n",
       "      <td>1343</td>\n",
       "    </tr>\n",
       "    <tr>\n",
       "      <th>18</th>\n",
       "      <td>Ace Ventura: When Nature Calls</td>\n",
       "      <td>1128</td>\n",
       "    </tr>\n",
       "    <tr>\n",
       "      <th>30</th>\n",
       "      <td>Twelve Monkeys</td>\n",
       "      <td>2470</td>\n",
       "    </tr>\n",
       "    <tr>\n",
       "      <th>45</th>\n",
       "      <td>Se7en</td>\n",
       "      <td>5915</td>\n",
       "    </tr>\n",
       "    <tr>\n",
       "      <th>46</th>\n",
       "      <td>Pocahontas</td>\n",
       "      <td>1509</td>\n",
       "    </tr>\n",
       "    <tr>\n",
       "      <th>48</th>\n",
       "      <td>The Usual Suspects</td>\n",
       "      <td>3334</td>\n",
       "    </tr>\n",
       "  </tbody>\n",
       "</table>\n",
       "</div>"
      ],
      "text/plain": [
       "                             title  vote_count\n",
       "0                        Toy Story        5415\n",
       "1                          Jumanji        2413\n",
       "5                             Heat        1886\n",
       "9                        GoldenEye        1194\n",
       "15                          Casino        1343\n",
       "18  Ace Ventura: When Nature Calls        1128\n",
       "30                  Twelve Monkeys        2470\n",
       "45                           Se7en        5915\n",
       "46                      Pocahontas        1509\n",
       "48              The Usual Suspects        3334"
      ]
     },
     "execution_count": 306,
     "metadata": {},
     "output_type": "execute_result"
    }
   ],
   "source": [
    "df2"
   ]
  },
  {
   "cell_type": "markdown",
   "id": "57d7b981-43fd-433e-800d-7feaa1b5f6be",
   "metadata": {},
   "source": [
    "# Mastering NumPy: 100 Exercises"
   ]
  },
  {
   "cell_type": "markdown",
   "id": "c252f9c2-b6eb-4b03-8d46-34b980476ab0",
   "metadata": {},
   "source": [
    "Filter rows based on a column condition."
   ]
  },
  {
   "cell_type": "code",
   "execution_count": 307,
   "id": "d1428a97-0ec2-4665-92c1-0da5d20d6305",
   "metadata": {},
   "outputs": [
    {
     "name": "stdout",
     "output_type": "stream",
     "text": [
      "   X  Y\n",
      "2  3  7\n",
      "3  4  8\n"
     ]
    }
   ],
   "source": [
    "import pandas as pd\n",
    "\n",
    "data = {'X': [1, 2, 3, 4], 'Y': [5, 6, 7, 8]}\n",
    "df = pd.DataFrame(data)\n",
    "filtered_df = df[df['X'] > 2]\n",
    "print(filtered_df)"
   ]
  },
  {
   "cell_type": "markdown",
   "id": "8fe0cc09-bf8f-4186-8c0b-0ed3b45f1f35",
   "metadata": {},
   "source": [
    "Sort a DataFrame by a column.\n",
    "\n"
   ]
  },
  {
   "cell_type": "code",
   "execution_count": 308,
   "id": "eef11932-b508-49a0-b84d-ba1a3a74ce60",
   "metadata": {},
   "outputs": [
    {
     "name": "stdout",
     "output_type": "stream",
     "text": [
      "   X  Y\n",
      "3  1  5\n",
      "2  2  6\n",
      "1  3  7\n",
      "0  4  8\n"
     ]
    }
   ],
   "source": [
    "import pandas as pd\n",
    "\n",
    "data = {'X': [4, 3, 2, 1], 'Y': [8, 7, 6, 5]}\n",
    "df = pd.DataFrame(data)\n",
    "df.sort_values(by='X', inplace=True)\n",
    "print(df)\n"
   ]
  },
  {
   "cell_type": "markdown",
   "id": "c86a99e3-941e-4021-ae81-30b7c4459c56",
   "metadata": {},
   "source": [
    "Reshape a DataFrame from long to wide format."
   ]
  },
  {
   "cell_type": "code",
   "execution_count": 310,
   "id": "e307993d-d750-4b0d-9e72-d26a72be616f",
   "metadata": {},
   "outputs": [
    {
     "name": "stdout",
     "output_type": "stream",
     "text": [
      "     X    Y  Z\n",
      "0  foo  one  1\n",
      "1  foo  two  2\n",
      "2  bar  one  3\n",
      "3  bar  two  4\n",
      "\n",
      "Y    one  two\n",
      "X            \n",
      "bar    3    4\n",
      "foo    1    2\n"
     ]
    }
   ],
   "source": [
    "import pandas as pd\n",
    "\n",
    "data = {'X': ['foo', 'foo', 'bar', 'bar'], 'Y': ['one', 'two', 'one', 'two'], 'Z': [1, 2, 3, 4]}\n",
    "df = pd.DataFrame(data)\n",
    "print(df)\n",
    "\n",
    "print()\n",
    "wide_df = df.pivot(index='X', columns='Y', values='Z')\n",
    "print(wide_df) \n"
   ]
  },
  {
   "cell_type": "markdown",
   "id": "df0cb6ad-b582-40a8-9be3-31230054becb",
   "metadata": {},
   "source": [
    "Create a DataFrame with a MultiIndex."
   ]
  },
  {
   "cell_type": "code",
   "execution_count": 311,
   "id": "dc123b41-3600-4a09-85b4-52ddae11d782",
   "metadata": {},
   "outputs": [
    {
     "name": "stdout",
     "output_type": "stream",
     "text": [
      "              Value\n",
      "Group Number       \n",
      "X     1          10\n",
      "      2          20\n",
      "Y     1          30\n",
      "      2          40\n"
     ]
    }
   ],
   "source": [
    "import pandas as pd\n",
    "\n",
    "arrays = [['X', 'X', 'Y', 'Y'], [1, 2, 1, 2]]\n",
    "\n",
    "index = pd.MultiIndex.from_arrays(arrays, names=('Group', 'Number'))\n",
    "data = {'Value': [10, 20, 30, 40]}\n",
    "df = pd.DataFrame(data, index=index)\n",
    "\n",
    "print(df)\n"
   ]
  },
  {
   "cell_type": "markdown",
   "id": "1d47aa85-6bf3-46f8-b743-67991f8753c2",
   "metadata": {},
   "source": [
    "Create a DataFrame and calculate the rolling covariance for each group."
   ]
  },
  {
   "cell_type": "code",
   "execution_count": 312,
   "id": "495278f8-8776-4ef2-9884-27150307a1e7",
   "metadata": {},
   "outputs": [
    {
     "data": {
      "text/html": [
       "<div>\n",
       "<style scoped>\n",
       "    .dataframe tbody tr th:only-of-type {\n",
       "        vertical-align: middle;\n",
       "    }\n",
       "\n",
       "    .dataframe tbody tr th {\n",
       "        vertical-align: top;\n",
       "    }\n",
       "\n",
       "    .dataframe thead th {\n",
       "        text-align: right;\n",
       "    }\n",
       "</style>\n",
       "<table border=\"1\" class=\"dataframe\">\n",
       "  <thead>\n",
       "    <tr style=\"text-align: right;\">\n",
       "      <th></th>\n",
       "      <th>X</th>\n",
       "      <th>Y</th>\n",
       "      <th>Z</th>\n",
       "    </tr>\n",
       "  </thead>\n",
       "  <tbody>\n",
       "    <tr>\n",
       "      <th>0</th>\n",
       "      <td>foo</td>\n",
       "      <td>0</td>\n",
       "      <td>10</td>\n",
       "    </tr>\n",
       "    <tr>\n",
       "      <th>1</th>\n",
       "      <td>bar</td>\n",
       "      <td>1</td>\n",
       "      <td>11</td>\n",
       "    </tr>\n",
       "    <tr>\n",
       "      <th>2</th>\n",
       "      <td>foo</td>\n",
       "      <td>2</td>\n",
       "      <td>12</td>\n",
       "    </tr>\n",
       "    <tr>\n",
       "      <th>3</th>\n",
       "      <td>bar</td>\n",
       "      <td>3</td>\n",
       "      <td>13</td>\n",
       "    </tr>\n",
       "    <tr>\n",
       "      <th>4</th>\n",
       "      <td>foo</td>\n",
       "      <td>4</td>\n",
       "      <td>14</td>\n",
       "    </tr>\n",
       "    <tr>\n",
       "      <th>5</th>\n",
       "      <td>bar</td>\n",
       "      <td>5</td>\n",
       "      <td>15</td>\n",
       "    </tr>\n",
       "    <tr>\n",
       "      <th>6</th>\n",
       "      <td>foo</td>\n",
       "      <td>6</td>\n",
       "      <td>16</td>\n",
       "    </tr>\n",
       "    <tr>\n",
       "      <th>7</th>\n",
       "      <td>bar</td>\n",
       "      <td>7</td>\n",
       "      <td>17</td>\n",
       "    </tr>\n",
       "    <tr>\n",
       "      <th>8</th>\n",
       "      <td>foo</td>\n",
       "      <td>8</td>\n",
       "      <td>18</td>\n",
       "    </tr>\n",
       "    <tr>\n",
       "      <th>9</th>\n",
       "      <td>bar</td>\n",
       "      <td>9</td>\n",
       "      <td>19</td>\n",
       "    </tr>\n",
       "  </tbody>\n",
       "</table>\n",
       "</div>"
      ],
      "text/plain": [
       "     X  Y   Z\n",
       "0  foo  0  10\n",
       "1  bar  1  11\n",
       "2  foo  2  12\n",
       "3  bar  3  13\n",
       "4  foo  4  14\n",
       "5  bar  5  15\n",
       "6  foo  6  16\n",
       "7  bar  7  17\n",
       "8  foo  8  18\n",
       "9  bar  9  19"
      ]
     },
     "execution_count": 312,
     "metadata": {},
     "output_type": "execute_result"
    }
   ],
   "source": [
    "data = {'X': ['foo', 'bar', 'foo', 'bar', 'foo', 'bar', 'foo', 'bar', 'foo', 'bar'],\n",
    "        'Y': range(10), 'Z': range(10, 20)}\n",
    "\n",
    "df = pd.DataFrame(data)\n",
    "\n",
    "df"
   ]
  },
  {
   "cell_type": "code",
   "execution_count": 318,
   "id": "7850a652-9d6e-4062-bd38-6b4096b01e39",
   "metadata": {},
   "outputs": [
    {
     "name": "stderr",
     "output_type": "stream",
     "text": [
      "C:\\Users\\JeetPrajapati\\AppData\\Local\\Temp\\ipykernel_7052\\743551064.py:1: DeprecationWarning: DataFrameGroupBy.apply operated on the grouping columns. This behavior is deprecated, and in a future version of pandas the grouping columns will be excluded from the operation. Either pass `include_groups=False` to exclude the groupings or explicitly select the grouping columns after groupby to silence this warning.\n",
      "  df['rolling_cov'] = df.groupby('X').apply(lambda group: group['Y'].rolling(window=3).cov(group['Z'])).reset_index(level=0, drop=True)\n"
     ]
    }
   ],
   "source": [
    "df['rolling_cov'] = df.groupby('X').apply(lambda group: group['Y'].rolling(window=3).cov(group['Z'])).reset_index(level=0, drop=True)"
   ]
  },
  {
   "cell_type": "code",
   "execution_count": 319,
   "id": "33da0669-c6e0-4d20-bbfc-7a2cb90e7d03",
   "metadata": {},
   "outputs": [
    {
     "data": {
      "text/html": [
       "<div>\n",
       "<style scoped>\n",
       "    .dataframe tbody tr th:only-of-type {\n",
       "        vertical-align: middle;\n",
       "    }\n",
       "\n",
       "    .dataframe tbody tr th {\n",
       "        vertical-align: top;\n",
       "    }\n",
       "\n",
       "    .dataframe thead th {\n",
       "        text-align: right;\n",
       "    }\n",
       "</style>\n",
       "<table border=\"1\" class=\"dataframe\">\n",
       "  <thead>\n",
       "    <tr style=\"text-align: right;\">\n",
       "      <th></th>\n",
       "      <th>X</th>\n",
       "      <th>Y</th>\n",
       "      <th>Z</th>\n",
       "      <th>rolling_cov</th>\n",
       "    </tr>\n",
       "  </thead>\n",
       "  <tbody>\n",
       "    <tr>\n",
       "      <th>0</th>\n",
       "      <td>foo</td>\n",
       "      <td>0</td>\n",
       "      <td>10</td>\n",
       "      <td>NaN</td>\n",
       "    </tr>\n",
       "    <tr>\n",
       "      <th>1</th>\n",
       "      <td>bar</td>\n",
       "      <td>1</td>\n",
       "      <td>11</td>\n",
       "      <td>NaN</td>\n",
       "    </tr>\n",
       "    <tr>\n",
       "      <th>2</th>\n",
       "      <td>foo</td>\n",
       "      <td>2</td>\n",
       "      <td>12</td>\n",
       "      <td>NaN</td>\n",
       "    </tr>\n",
       "    <tr>\n",
       "      <th>3</th>\n",
       "      <td>bar</td>\n",
       "      <td>3</td>\n",
       "      <td>13</td>\n",
       "      <td>NaN</td>\n",
       "    </tr>\n",
       "    <tr>\n",
       "      <th>4</th>\n",
       "      <td>foo</td>\n",
       "      <td>4</td>\n",
       "      <td>14</td>\n",
       "      <td>4.0</td>\n",
       "    </tr>\n",
       "    <tr>\n",
       "      <th>5</th>\n",
       "      <td>bar</td>\n",
       "      <td>5</td>\n",
       "      <td>15</td>\n",
       "      <td>4.0</td>\n",
       "    </tr>\n",
       "    <tr>\n",
       "      <th>6</th>\n",
       "      <td>foo</td>\n",
       "      <td>6</td>\n",
       "      <td>16</td>\n",
       "      <td>4.0</td>\n",
       "    </tr>\n",
       "    <tr>\n",
       "      <th>7</th>\n",
       "      <td>bar</td>\n",
       "      <td>7</td>\n",
       "      <td>17</td>\n",
       "      <td>4.0</td>\n",
       "    </tr>\n",
       "    <tr>\n",
       "      <th>8</th>\n",
       "      <td>foo</td>\n",
       "      <td>8</td>\n",
       "      <td>18</td>\n",
       "      <td>4.0</td>\n",
       "    </tr>\n",
       "    <tr>\n",
       "      <th>9</th>\n",
       "      <td>bar</td>\n",
       "      <td>9</td>\n",
       "      <td>19</td>\n",
       "      <td>4.0</td>\n",
       "    </tr>\n",
       "  </tbody>\n",
       "</table>\n",
       "</div>"
      ],
      "text/plain": [
       "     X  Y   Z  rolling_cov\n",
       "0  foo  0  10          NaN\n",
       "1  bar  1  11          NaN\n",
       "2  foo  2  12          NaN\n",
       "3  bar  3  13          NaN\n",
       "4  foo  4  14          4.0\n",
       "5  bar  5  15          4.0\n",
       "6  foo  6  16          4.0\n",
       "7  bar  7  17          4.0\n",
       "8  foo  8  18          4.0\n",
       "9  bar  9  19          4.0"
      ]
     },
     "execution_count": 319,
     "metadata": {},
     "output_type": "execute_result"
    }
   ],
   "source": [
    "df"
   ]
  },
  {
   "cell_type": "markdown",
   "id": "c48e8352-100f-4f3c-bba5-41cdad676512",
   "metadata": {},
   "source": [
    "Create a DataFrame and calculate the expanding sum for each group."
   ]
  },
  {
   "cell_type": "code",
   "execution_count": 320,
   "id": "95a899bc-b2bb-4716-815d-bf7d39472b95",
   "metadata": {},
   "outputs": [
    {
     "name": "stdout",
     "output_type": "stream",
     "text": [
      "     X  Y  Expanding_Sum\n",
      "0  foo  0            0.0\n",
      "1  bar  1            1.0\n",
      "2  foo  2            2.0\n",
      "3  bar  3            4.0\n",
      "4  foo  4            6.0\n",
      "5  bar  5            9.0\n",
      "6  foo  6           12.0\n",
      "7  bar  7           16.0\n",
      "8  foo  8           20.0\n",
      "9  bar  9           25.0\n"
     ]
    }
   ],
   "source": [
    "import pandas as pd\n",
    "\n",
    "data = {'X': ['foo', 'bar', 'foo', 'bar', 'foo', 'bar', 'foo', 'bar', 'foo', 'bar'], 'Y': range(10)}\n",
    "df = pd.DataFrame(data)\n",
    "\n",
    "df['Expanding_Sum'] = df.groupby('X')['Y'].expanding().sum().reset_index(level=0, drop=True)\n",
    "print(df) "
   ]
  },
  {
   "cell_type": "code",
   "execution_count": null,
   "id": "f8292269-2e4a-4f0a-a55d-11a28424acc1",
   "metadata": {},
   "outputs": [],
   "source": []
  }
 ],
 "metadata": {
  "kernelspec": {
   "display_name": "Python 3 (ipykernel)",
   "language": "python",
   "name": "python3"
  },
  "language_info": {
   "codemirror_mode": {
    "name": "ipython",
    "version": 3
   },
   "file_extension": ".py",
   "mimetype": "text/x-python",
   "name": "python",
   "nbconvert_exporter": "python",
   "pygments_lexer": "ipython3",
   "version": "3.12.7"
  }
 },
 "nbformat": 4,
 "nbformat_minor": 5
}
