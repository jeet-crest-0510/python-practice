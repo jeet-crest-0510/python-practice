{
 "cells": [
  {
   "cell_type": "markdown",
   "id": "58d09c22-aa6b-4e36-96bc-719ba3827b50",
   "metadata": {},
   "source": [
    "There are two non-empty linked lists where every node contains non-negative single digit. Write a Python program to reverse and add the numbers of the two linked lists."
   ]
  },
  {
   "cell_type": "code",
   "execution_count": 4,
   "id": "2cb9fc6d-5f2e-46b4-a72e-d1c1176833d1",
   "metadata": {},
   "outputs": [],
   "source": [
    "class Node:\n",
    "    def __init__(self, data):\n",
    "        self.data = data\n",
    "        self.next = None\n",
    "\n",
    "class LinkedList:\n",
    "    def __init__(self):\n",
    "        self.head = None"
   ]
  },
  {
   "cell_type": "code",
   "execution_count": 11,
   "id": "8f1f7c37-9944-4a0a-bddd-11afb2652e9d",
   "metadata": {},
   "outputs": [],
   "source": [
    "def traversal(head):\n",
    "    while head.next != None:\n",
    "        print(head.data)\n",
    "        head = head.next\n",
    "    print(head.data)"
   ]
  },
  {
   "cell_type": "code",
   "execution_count": 22,
   "id": "43d34d75-8607-4d8e-a396-c579b338abe6",
   "metadata": {},
   "outputs": [],
   "source": [
    "def reverse_data(head):\n",
    "    s = \"\"\n",
    "    while head.next != None:\n",
    "        s += str(head.data)\n",
    "        head = head.next\n",
    "    s += str(head.data)\n",
    "    return s[::-1]"
   ]
  },
  {
   "cell_type": "code",
   "execution_count": 7,
   "id": "93447a57-d56f-4933-afa6-5f14304651b0",
   "metadata": {},
   "outputs": [],
   "source": [
    "l1 = LinkedList()"
   ]
  },
  {
   "cell_type": "code",
   "execution_count": 15,
   "id": "66a5b4e3-97b2-472b-9251-c6db5b4af778",
   "metadata": {},
   "outputs": [],
   "source": [
    "first = Node(4)\n",
    "second = Node(3)\n",
    "third = Node(2)\n",
    "l1.head = first\n",
    "first.next = second\n",
    "second.next = third"
   ]
  },
  {
   "cell_type": "code",
   "execution_count": 16,
   "id": "063e40e6-98e6-4111-87a6-7651bb729ea0",
   "metadata": {},
   "outputs": [],
   "source": [
    "l2 = LinkedList()"
   ]
  },
  {
   "cell_type": "code",
   "execution_count": 17,
   "id": "1bdb01ce-b9b9-4a55-968d-ee130bac9f28",
   "metadata": {},
   "outputs": [],
   "source": [
    "l2.head = Node(7)\n",
    "l2.head.next = Node(2)\n",
    "l2.head.next.next = Node(5)"
   ]
  },
  {
   "cell_type": "code",
   "execution_count": 18,
   "id": "a561af77-0367-4448-906a-a85891feb5e1",
   "metadata": {},
   "outputs": [
    {
     "name": "stdout",
     "output_type": "stream",
     "text": [
      "4 -> 3 -> 2\n",
      "7 -> 2 -> 5\n"
     ]
    }
   ],
   "source": [
    "traversal(l1.head)\n",
    "traversal(l2.head)"
   ]
  },
  {
   "cell_type": "code",
   "execution_count": 23,
   "id": "f5abc324-d4f0-4446-a819-d07a6d192a36",
   "metadata": {},
   "outputs": [],
   "source": [
    "s1 = reverse_data(l1.head)\n",
    "s2 = reverse_data(l2.head)"
   ]
  },
  {
   "cell_type": "code",
   "execution_count": 26,
   "id": "d05b626b-d864-4803-b755-7806c2a52de6",
   "metadata": {},
   "outputs": [
    {
     "name": "stdout",
     "output_type": "stream",
     "text": [
      "Summation: 761\n",
      "Reverse: 167\n"
     ]
    }
   ],
   "source": [
    "sum1 = int(s1) + int(s2)\n",
    "print(f\"Summation: {sum1}\")\n",
    "print(f\"Reverse: {str(sum1)[::-1]}\")"
   ]
  },
  {
   "cell_type": "markdown",
   "id": "b6bd6162-b22d-42ae-81cf-dff18bdafc7f",
   "metadata": {},
   "source": [
    "Write a Python program to calculate sum of all positive, negative integers present in a given string."
   ]
  },
  {
   "cell_type": "code",
   "execution_count": 28,
   "id": "8494ee18-c6bb-421b-898c-35f61808b49b",
   "metadata": {},
   "outputs": [],
   "source": [
    "import re"
   ]
  },
  {
   "cell_type": "code",
   "execution_count": 41,
   "id": "b46ec4ce-28d1-469e-8ed8-db7a49ebfbc6",
   "metadata": {},
   "outputs": [],
   "source": [
    "r1 = r\"-\\d+\"\n",
    "r2 = r\"\\d+\""
   ]
  },
  {
   "cell_type": "code",
   "execution_count": 42,
   "id": "352e126d-b7d5-4818-9bcf-45750de9e5f0",
   "metadata": {},
   "outputs": [],
   "source": [
    "s = \"-100#^sdfkj8902w3ir021@swf-20\""
   ]
  },
  {
   "cell_type": "code",
   "execution_count": 43,
   "id": "e6e5a706-ee8d-40d2-abdc-6f342d8077dc",
   "metadata": {},
   "outputs": [],
   "source": [
    "pos = re.findall(r2, s)\n",
    "neg = re.findall(r1, s)"
   ]
  },
  {
   "cell_type": "code",
   "execution_count": 46,
   "id": "4c6a70a8-967b-4505-bcce-2ba0d6f2aeda",
   "metadata": {},
   "outputs": [],
   "source": [
    "positive = 0\n",
    "for x in pos:\n",
    "    positive += int(x)"
   ]
  },
  {
   "cell_type": "code",
   "execution_count": 47,
   "id": "a97e4417-8cd7-489a-803d-ed780f3866a2",
   "metadata": {},
   "outputs": [],
   "source": [
    "negative = 0\n",
    "for x in neg:\n",
    "    negative += int(x)"
   ]
  },
  {
   "cell_type": "code",
   "execution_count": 49,
   "id": "9f1b3c02-1417-4a1a-87b2-9888e735da16",
   "metadata": {},
   "outputs": [
    {
     "name": "stdout",
     "output_type": "stream",
     "text": [
      "Positive Sum: 9046\n",
      "Negative Sum: -120\n"
     ]
    }
   ],
   "source": [
    "print(f\"Positive Sum: {positive}\")\n",
    "print(f\"Negative Sum: {negative}\")"
   ]
  },
  {
   "cell_type": "code",
   "execution_count": null,
   "id": "81ccf5aa-0a98-4965-ad33-27dfd657bb99",
   "metadata": {},
   "outputs": [],
   "source": []
  }
 ],
 "metadata": {
  "kernelspec": {
   "display_name": "Python 3 (ipykernel)",
   "language": "python",
   "name": "python3"
  },
  "language_info": {
   "codemirror_mode": {
    "name": "ipython",
    "version": 3
   },
   "file_extension": ".py",
   "mimetype": "text/x-python",
   "name": "python",
   "nbconvert_exporter": "python",
   "pygments_lexer": "ipython3",
   "version": "3.12.7"
  }
 },
 "nbformat": 4,
 "nbformat_minor": 5
}
