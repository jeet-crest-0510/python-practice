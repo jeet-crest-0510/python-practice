{
 "cells": [
  {
   "cell_type": "markdown",
   "id": "7fbf26e9-dd9b-4f48-953e-d308fdb8342a",
   "metadata": {},
   "source": [
    "Write a Python class named Student with two instances student1, student2 and assign values to the instances' attributes. Print all the attributes of the student1, student2 instances with their values in the given format."
   ]
  },
  {
   "cell_type": "code",
   "execution_count": 6,
   "id": "f34322a1-57bc-42d6-9148-a1bb77125524",
   "metadata": {},
   "outputs": [],
   "source": [
    "class Student:\n",
    "    def __init__(self, name, age):\n",
    "        self.name = name\n",
    "        self.age = age\n",
    "        \n",
    "    def __str__(self):\n",
    "        return (f'Name: {self.name}, Age: {self.age}')"
   ]
  },
  {
   "cell_type": "code",
   "execution_count": 7,
   "id": "3d1daff6-b8b9-485b-ad9e-1e4373a3d778",
   "metadata": {},
   "outputs": [],
   "source": [
    "s1 = Student(\"Jeet\", 21)\n",
    "s2 = Student(\"Jay\", 20)"
   ]
  },
  {
   "cell_type": "code",
   "execution_count": 8,
   "id": "971a0ea8-64f9-484f-9256-9c49871e96a6",
   "metadata": {},
   "outputs": [
    {
     "data": {
      "text/plain": [
       "<__main__.Student at 0x22454c12900>"
      ]
     },
     "execution_count": 8,
     "metadata": {},
     "output_type": "execute_result"
    }
   ],
   "source": [
    "s1"
   ]
  },
  {
   "cell_type": "code",
   "execution_count": 9,
   "id": "87a0635c-1af1-4dcb-bd8e-e8150a47b46b",
   "metadata": {},
   "outputs": [
    {
     "name": "stdout",
     "output_type": "stream",
     "text": [
      "Name: Jeet, Age: 21\n"
     ]
    }
   ],
   "source": [
    "print(s1)"
   ]
  },
  {
   "cell_type": "code",
   "execution_count": 10,
   "id": "092b9698-fea9-495c-a48b-c0e387af63e2",
   "metadata": {},
   "outputs": [
    {
     "name": "stdout",
     "output_type": "stream",
     "text": [
      "Name: Jay, Age: 20\n"
     ]
    }
   ],
   "source": [
    "print(s2)"
   ]
  },
  {
   "cell_type": "code",
   "execution_count": 11,
   "id": "b29b4d33-603c-463d-808e-a36fd1a3aaea",
   "metadata": {},
   "outputs": [
    {
     "data": {
      "text/plain": [
       "'Jeet'"
      ]
     },
     "execution_count": 11,
     "metadata": {},
     "output_type": "execute_result"
    }
   ],
   "source": [
    "s1.name"
   ]
  },
  {
   "cell_type": "code",
   "execution_count": 12,
   "id": "cac4a773-7f5d-45e3-b3f5-0da81904f6d9",
   "metadata": {},
   "outputs": [
    {
     "data": {
      "text/plain": [
       "'Jay'"
      ]
     },
     "execution_count": 12,
     "metadata": {},
     "output_type": "execute_result"
    }
   ],
   "source": [
    "s2.name"
   ]
  },
  {
   "cell_type": "code",
   "execution_count": 13,
   "id": "da2ef0dc-a72b-41db-9831-f635d5e80b13",
   "metadata": {},
   "outputs": [
    {
     "data": {
      "text/plain": [
       "__main__.Student"
      ]
     },
     "execution_count": 13,
     "metadata": {},
     "output_type": "execute_result"
    }
   ],
   "source": [
    "type(s1)"
   ]
  },
  {
   "cell_type": "code",
   "execution_count": 14,
   "id": "086a6b12-eadb-4bdf-8076-d58fd1ecc63e",
   "metadata": {},
   "outputs": [
    {
     "data": {
      "text/plain": [
       "'Student'"
      ]
     },
     "execution_count": 14,
     "metadata": {},
     "output_type": "execute_result"
    }
   ],
   "source": [
    "type(s1).__name__"
   ]
  },
  {
   "cell_type": "markdown",
   "id": "d9603fd9-8787-4364-bdfd-0a7528937881",
   "metadata": {},
   "source": [
    "Write a Python class Inventory with attributes like item_id, item_name, stock_count, and price, and methods like add_item, update_item, and check_item_details.\n",
    "Use a dictionary to store the item details, where the key is the item_id and the value is a dictionary containing the item_name, stock_count, and price."
   ]
  },
  {
   "cell_type": "code",
   "execution_count": 15,
   "id": "21b0fa73-d8ed-4fef-a0b5-5c9320038a49",
   "metadata": {},
   "outputs": [],
   "source": [
    "class Inventory:\n",
    "    def __init__(self):\n",
    "        self.inventory = {}\n",
    "        \n",
    "    def add_item(self, item_id, item_name, stock_count, price):\n",
    "        self.inventory[item_id] = {\"item_name\": item_name, \"stock_count\": stock_count, \"price\": price}\n",
    "\n",
    "    def update_item(self, item_id, stock_count, price):\n",
    "        if item_id in self.inventory:\n",
    "            self.inventory[item_id][\"stock_count\"] = stock_count\n",
    "            self.inventory[item_id][\"price\"] = price\n",
    "        else:\n",
    "            print(\"Item not found in inventory.\")\n",
    "\n",
    "    def check_item_details(self, item_id):\n",
    "        if item_id in self.inventory:\n",
    "            item = self.inventory[item_id]\n",
    "            return f\"Product Name: {item['item_name']}, Stock Count: {item['stock_count']}, Price: {item['price']}\"\n",
    "        else:\n",
    "            return \"Item not found in inventory.\""
   ]
  },
  {
   "cell_type": "code",
   "execution_count": 16,
   "id": "a327d667-55c4-46f7-b2a2-a5f3596a36af",
   "metadata": {},
   "outputs": [],
   "source": [
    "inventory = Inventory()\n",
    "\n",
    "inventory.add_item(\"I001\", \"Laptop\", 100, 500.00)\n",
    "inventory.add_item(\"I002\", \"Mobile\", 110, 450.00)\n",
    "inventory.add_item(\"I003\", \"Desktop\", 120, 500.00)\n",
    "inventory.add_item(\"I004\", \"Tablet\", 90, 550.00)"
   ]
  },
  {
   "cell_type": "code",
   "execution_count": 17,
   "id": "f19aabc4-750b-448b-bcc7-fe5239665bdf",
   "metadata": {},
   "outputs": [
    {
     "name": "stdout",
     "output_type": "stream",
     "text": [
      "Item Details:\n",
      "Product Name: Laptop, Stock Count: 100, Price: 500.0\n",
      "Product Name: Mobile, Stock Count: 110, Price: 450.0\n",
      "Product Name: Desktop, Stock Count: 120, Price: 500.0\n",
      "Product Name: Tablet, Stock Count: 90, Price: 550.0\n"
     ]
    }
   ],
   "source": [
    "print(\"Item Details:\")\n",
    "print(inventory.check_item_details(\"I001\"))\n",
    "print(inventory.check_item_details(\"I002\"))\n",
    "print(inventory.check_item_details(\"I003\"))\n",
    "print(inventory.check_item_details(\"I004\"))"
   ]
  },
  {
   "cell_type": "code",
   "execution_count": 18,
   "id": "19706fc5-1f5d-4dd6-8f78-d14a6b080994",
   "metadata": {},
   "outputs": [
    {
     "name": "stdout",
     "output_type": "stream",
     "text": [
      "\n",
      "Update the price of item code - 'I001':\n",
      "Product Name: Laptop, Stock Count: 100, Price: 505.0\n",
      "\n",
      "Update the stock of item code - 'I003':\n",
      "Product Name: Desktop, Stock Count: 115, Price: 500.0\n"
     ]
    }
   ],
   "source": [
    "print(\"\\nUpdate the price of item code - 'I001':\")\n",
    "inventory.update_item(\"I001\", 100, 505.00)\n",
    "print(inventory.check_item_details(\"I001\"))\n",
    "print(\"\\nUpdate the stock of item code - 'I003':\")\n",
    "inventory.update_item(\"I003\", 115, 500.00)\n",
    "print(inventory.check_item_details(\"I003\"))"
   ]
  },
  {
   "cell_type": "code",
   "execution_count": null,
   "id": "355878c0-89ae-4d0b-a9c0-d81b540c37f6",
   "metadata": {},
   "outputs": [],
   "source": []
  }
 ],
 "metadata": {
  "kernelspec": {
   "display_name": "Python 3 (ipykernel)",
   "language": "python",
   "name": "python3"
  },
  "language_info": {
   "codemirror_mode": {
    "name": "ipython",
    "version": 3
   },
   "file_extension": ".py",
   "mimetype": "text/x-python",
   "name": "python",
   "nbconvert_exporter": "python",
   "pygments_lexer": "ipython3",
   "version": "3.12.7"
  }
 },
 "nbformat": 4,
 "nbformat_minor": 5
}
