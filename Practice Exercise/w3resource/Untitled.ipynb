{
 "cells": [
  {
   "cell_type": "code",
   "execution_count": null,
   "id": "47581394-1fd0-457a-b461-12a6b67b7287",
   "metadata": {},
   "outputs": [],
   "source": []
  }
 ],
 "metadata": {
  "kernelspec": {
   "display_name": "",
   "name": ""
  },
  "language_info": {
   "name": ""
  }
 },
 "nbformat": 4,
 "nbformat_minor": 5
}
