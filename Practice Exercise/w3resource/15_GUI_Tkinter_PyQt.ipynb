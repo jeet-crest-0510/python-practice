{
 "cells": [
  {
   "cell_type": "markdown",
   "id": "a4172ff4-4ccc-40cd-ad54-484faee66627",
   "metadata": {
    "jp-MarkdownHeadingCollapsed": true
   },
   "source": [
    "# Tkinter Basics Learning"
   ]
  },
  {
   "cell_type": "code",
   "execution_count": 19,
   "id": "2aaea6ce-e1ed-40af-8c0d-20ec133fcc08",
   "metadata": {},
   "outputs": [],
   "source": [
    "import tkinter as tk"
   ]
  },
  {
   "cell_type": "code",
   "execution_count": 38,
   "id": "14ae4491-0373-4b1b-ac8c-1f437e9e0c90",
   "metadata": {},
   "outputs": [],
   "source": [
    "window = tk.Tk()\n",
    "window.title(\"GUI\")\n",
    "window.geometry('520x520')\n",
    "\n",
    "tk.Label(window, text = \"Hello\").pack()\n",
    "tk.Button(window, text = \"Click\").pack()\n",
    "window.mainloop()"
   ]
  },
  {
   "cell_type": "code",
   "execution_count": 52,
   "id": "ee352803-8bcf-48c2-92ec-e1decc2ee1cc",
   "metadata": {},
   "outputs": [],
   "source": [
    "window = tk.Tk()\n",
    "window.title(\"GUI\")\n",
    "window.geometry('520x520')\n",
    "\n",
    "def printv():\n",
    "    val = e1.get()\n",
    "    tk.Label(window, text = val).grid(row = 3)\n",
    "\n",
    "tk.Label(window, text = \"Enter value: \").grid(row = 0, column = 0)\n",
    "e1 = tk.Entry(window)\n",
    "e1.grid(row = 0, column = 1)\n",
    "\n",
    "btn = tk.Button(window, text = \"Print\", command = printv).grid(row = 1, column = 0)\n",
    "window.mainloop()"
   ]
  },
  {
   "cell_type": "code",
   "execution_count": 61,
   "id": "364fcb69-5429-4e91-9514-c8b75b1ad092",
   "metadata": {},
   "outputs": [],
   "source": [
    "from tkinter import *\n",
    "\n",
    "window = Tk()\n",
    "window.geometry('520x520')\n",
    "\n",
    "var1 = IntVar()\n",
    "Checkbutton(window, text='male', variable=var1).grid(row=0, sticky=E)  # W -> West, E -> East\n",
    "var2 = IntVar()\n",
    "Checkbutton(window, text='female', variable=var2).grid(row=1, sticky=W)\n",
    "mainloop()\n"
   ]
  },
  {
   "cell_type": "code",
   "execution_count": 64,
   "id": "ccfee0bd-8484-41b2-8ffb-e11300849986",
   "metadata": {},
   "outputs": [],
   "source": [
    "from tkinter import *\n",
    "\n",
    "root = Tk()\n",
    "v = IntVar()\n",
    "Radiobutton(root, text='GfG', variable=v, value=1).pack(anchor=W)\n",
    "Radiobutton(root, text='MIT', variable=v, value=2).pack(anchor=W)\n",
    "mainloop()\n"
   ]
  },
  {
   "cell_type": "code",
   "execution_count": 68,
   "id": "bb482687-2092-4543-9e5d-684fb093946e",
   "metadata": {},
   "outputs": [],
   "source": [
    "from tkinter import *\n",
    "\n",
    "top = Tk()\n",
    "top.geometry('520x520')\n",
    "\n",
    "Lb = Listbox(top)\n",
    "Lb.insert(1, 'Python')\n",
    "Lb.insert(2, 'Java')\n",
    "Lb.insert(3, 'C++')\n",
    "Lb.insert(4, 'Any other')\n",
    "Lb.pack(anchor=W)\n",
    "top.mainloop()"
   ]
  },
  {
   "cell_type": "code",
   "execution_count": 71,
   "id": "c8ea7bfc-fdec-49f3-91f0-45a5f8143666",
   "metadata": {},
   "outputs": [],
   "source": [
    "from tkinter import *\n",
    "\n",
    "root = Tk()\n",
    "root.geometry('520x520')\n",
    "\n",
    "scrollbar = Scrollbar(root)\n",
    "scrollbar.pack(side=RIGHT, fill=Y)\n",
    "mylist = Listbox(root, yscrollcommand=scrollbar.set)\n",
    "\n",
    "for line in range(100):\n",
    "    mylist.insert(END, 'This is line number' + str(line))\n",
    "    \n",
    "mylist.pack(side=LEFT, fill=BOTH)\n",
    "scrollbar.config(command=mylist.yview)\n",
    "mainloop()\n"
   ]
  },
  {
   "cell_type": "code",
   "execution_count": 73,
   "id": "3f8f9a38-d848-4405-906c-4f6d670b9a36",
   "metadata": {},
   "outputs": [],
   "source": [
    "from tkinter import *\n",
    "\n",
    "root = Tk()\n",
    "root.geometry('520x520')\n",
    "\n",
    "menu = Menu(root)\n",
    "root.config(menu=menu)\n",
    "filemenu = Menu(menu)\n",
    "menu.add_cascade(label='File', menu=filemenu)\n",
    "filemenu.add_command(label='New')\n",
    "filemenu.add_command(label='Open...')\n",
    "filemenu.add_separator()\n",
    "filemenu.add_command(label='Exit', command=root.quit)\n",
    "helpmenu = Menu(menu)\n",
    "menu.add_cascade(label='Help', menu=helpmenu)\n",
    "helpmenu.add_command(label='About')\n",
    "mainloop()\n"
   ]
  },
  {
   "cell_type": "code",
   "execution_count": 74,
   "id": "8a44e1e1-37a5-4f86-87da-61e9ae8e08b9",
   "metadata": {},
   "outputs": [],
   "source": [
    "import tkinter as tk\n",
    "from tkinter import ttk\n",
    "\n",
    "def select(event):\n",
    "    selected_item = combo_box.get()\n",
    "    label.config(text=\"Selected Item: \" + selected_item)\n",
    "\n",
    "root = tk.Tk()\n",
    "root.title(\"Combobox Example\")\n",
    "\n",
    "# Create a label\n",
    "label = tk.Label(root, text=\"Selected Item: \")\n",
    "label.pack(pady=10)\n",
    "\n",
    "# Create a Combobox widget\n",
    "combo_box = ttk.Combobox(root, values=[\"Option 1\", \"Option 2\", \"Option 3\"])\n",
    "combo_box.pack(pady=5)\n",
    "\n",
    "# Set default value\n",
    "combo_box.set(\"Option 1\")\n",
    "\n",
    "# Bind event to selection\n",
    "combo_box.bind(\"<<ComboboxSelected>>\", select)\n",
    "\n",
    "root.mainloop()\n"
   ]
  },
  {
   "cell_type": "code",
   "execution_count": 75,
   "id": "e6c7f281-0686-469b-9a7b-82ec57b91352",
   "metadata": {},
   "outputs": [],
   "source": [
    "from tkinter import *\n",
    "\n",
    "master = Tk()\n",
    "w = Scale(master, from_=0, to=42)\n",
    "w.pack()\n",
    "w = Scale(master, from_=0, to=200, orient=HORIZONTAL)\n",
    "w.pack()\n",
    "mainloop()\n"
   ]
  },
  {
   "cell_type": "code",
   "execution_count": 76,
   "id": "ff8136ba-aca5-40c8-9f8d-e02ca421a78a",
   "metadata": {},
   "outputs": [],
   "source": [
    "from tkinter import *\n",
    "\n",
    "main = Tk()\n",
    "ourMessage = 'This is our Message'\n",
    "messageVar = Message(main, text=ourMessage)\n",
    "messageVar.config(bg='lightgreen')\n",
    "messageVar.pack()\n",
    "main.mainloop()\n"
   ]
  },
  {
   "cell_type": "code",
   "execution_count": 77,
   "id": "bb5bcbdc-f144-42e7-8f01-dd233506050d",
   "metadata": {},
   "outputs": [],
   "source": [
    "from tkinter import *\n",
    "\n",
    "root = Tk()\n",
    "root.title('GfG')\n",
    "top = Toplevel()\n",
    "top.title('Python')\n",
    "top.mainloop()\n"
   ]
  },
  {
   "cell_type": "code",
   "execution_count": 78,
   "id": "d2748ec9-e59d-4390-8fbe-90a1a0aee3d4",
   "metadata": {},
   "outputs": [],
   "source": [
    "from tkinter import *\n",
    "\n",
    "master = Tk()\n",
    "w = Spinbox(master, from_=0, to=10)\n",
    "w.pack()\n",
    "mainloop()\n"
   ]
  },
  {
   "cell_type": "code",
   "execution_count": 79,
   "id": "6b12a32d-d9dd-4016-a9a5-5fcb2b57379c",
   "metadata": {},
   "outputs": [],
   "source": [
    "from tkinter import *\n",
    "\n",
    "root = Tk()\n",
    "T = Text(root, height=2, width=30)\n",
    "T.pack()\n",
    "T.insert(END, 'GeeksforGeeks\\nBEST WEBSITE\\n')\n",
    "mainloop()\n"
   ]
  },
  {
   "cell_type": "code",
   "execution_count": 80,
   "id": "2aa53e29-a0ff-4148-8e37-39e1f3ebf95c",
   "metadata": {},
   "outputs": [],
   "source": [
    "from tkinter import *\n",
    "\n",
    "master = Tk()\n",
    "w = Canvas(master, width=40, height=60)\n",
    "w.pack()\n",
    "canvas_height=20\n",
    "canvas_width=200\n",
    "y = int(canvas_height / 2)\n",
    "w.create_line(0, y, canvas_width, y )\n",
    "mainloop()\n"
   ]
  },
  {
   "cell_type": "code",
   "execution_count": 81,
   "id": "2c8ad13e-1312-4099-8f45-f6552b673399",
   "metadata": {},
   "outputs": [],
   "source": [
    "from tkinter import *\n",
    "\n",
    "top = Tk() \n",
    "mb = Menubutton ( top, text = \"GfG\") \n",
    "mb.grid() \n",
    "mb.menu = Menu ( mb, tearoff = 0 ) \n",
    "mb[\"menu\"] = mb.menu \n",
    "cVar = IntVar() \n",
    "aVar = IntVar() \n",
    "mb.menu.add_checkbutton ( label ='Contact', variable = cVar ) \n",
    "mb.menu.add_checkbutton ( label = 'About', variable = aVar ) \n",
    "mb.pack() \n",
    "top.mainloop() \n"
   ]
  },
  {
   "cell_type": "code",
   "execution_count": 82,
   "id": "543e1cb2-4aa8-44bb-b800-0aa5ce9cc56e",
   "metadata": {},
   "outputs": [],
   "source": [
    "import tkinter as tk\n",
    "from tkinter import ttk\n",
    "import time\n",
    "\n",
    "def start_progress():\n",
    "    progress.start()\n",
    "\n",
    "    # Simulate a task that takes time to complete\n",
    "    for i in range(101):\n",
    "      # Simulate some work\n",
    "        time.sleep(0.05)  \n",
    "        progress['value'] = i\n",
    "        # Update the GUI\n",
    "        root.update_idletasks()  \n",
    "    progress.stop()\n",
    "\n",
    "root = tk.Tk()\n",
    "root.title(\"Progressbar Example\")\n",
    "\n",
    "# Create a progressbar widget\n",
    "progress = ttk.Progressbar(root, orient=\"horizontal\", length=300, mode=\"determinate\")\n",
    "progress.pack(pady=20)\n",
    "\n",
    "# Button to start progress\n",
    "start_button = tk.Button(root, text=\"Start Progress\", command=start_progress)\n",
    "start_button.pack(pady=10)\n",
    "\n",
    "root.mainloop()\n"
   ]
  },
  {
   "cell_type": "code",
   "execution_count": 112,
   "id": "d49e8951-c29e-48ca-af3e-84193632e6c3",
   "metadata": {},
   "outputs": [],
   "source": [
    "import tkinter as tk\n",
    "\n",
    "root = tk.Tk()\n",
    "root.title(\"Color Options in Tkinter\")\n",
    "\n",
    "# Create a button with active background and foreground colors\n",
    "button = tk.Button(root, text=\"Click Me\", activebackground=\"blue\", activeforeground=\"white\")\n",
    "button.pack()\n",
    "\n",
    "# Create a label with background and foreground colors\n",
    "label = tk.Label(root, text=\"Hello, Tkinter!\", bg=\"lightgray\", fg=\"black\")\n",
    "label.pack()\n",
    "\n",
    "# Create an Entry widget with selection colors\n",
    "entry = tk.Entry(root, selectbackground=\"lightblue\", selectforeground=\"black\")\n",
    "entry.pack()\n",
    "\n",
    "root.mainloop()\n"
   ]
  },
  {
   "cell_type": "code",
   "execution_count": 84,
   "id": "bfa5e54a-8136-40ee-9125-d5cb62c6453b",
   "metadata": {},
   "outputs": [],
   "source": [
    "import tkinter as tk\n",
    "\n",
    "root = tk.Tk()\n",
    "root.title(\"Pack Example\")\n",
    "\n",
    "# Create three buttons\n",
    "button1 = tk.Button(root, text=\"Button 1\")\n",
    "button2 = tk.Button(root, text=\"Button 2\")\n",
    "button3 = tk.Button(root, text=\"Button 3\")\n",
    "\n",
    "# Pack the buttons vertically\n",
    "button1.pack()\n",
    "button2.pack()\n",
    "button3.pack()\n",
    "\n",
    "root.mainloop()"
   ]
  },
  {
   "cell_type": "code",
   "execution_count": 85,
   "id": "e25c59fc-c6a3-4a9b-8b71-a1cda285b97c",
   "metadata": {},
   "outputs": [],
   "source": [
    "import tkinter as tk\n",
    "\n",
    "root = tk.Tk()\n",
    "root.title(\"Grid Example\")\n",
    "\n",
    "# Create three labels\n",
    "label1 = tk.Label(root, text=\"Label 1\")\n",
    "label2 = tk.Label(root, text=\"Label 2\")\n",
    "label3 = tk.Label(root, text=\"Label 3\")\n",
    "\n",
    "# Grid the labels in a 2x2 grid\n",
    "label1.grid(row=0, column=0)\n",
    "label2.grid(row=0, column=1)\n",
    "label3.grid(row=1, column=0, columnspan=2)\n",
    "\n",
    "root.mainloop()\n"
   ]
  },
  {
   "cell_type": "code",
   "execution_count": 86,
   "id": "2407badc-604d-4427-aded-ce8f3210684c",
   "metadata": {},
   "outputs": [],
   "source": [
    "import tkinter as tk\n",
    "\n",
    "root = tk.Tk()\n",
    "root.title(\"Place Example\")\n",
    "\n",
    "# Create a label\n",
    "label = tk.Label(root, text=\"Label\")\n",
    "\n",
    "# Place the label at specific coordinates\n",
    "label.place(x=50, y=50)\n",
    "\n",
    "root.mainloop()"
   ]
  },
  {
   "cell_type": "code",
   "execution_count": 90,
   "id": "2b234605-2eef-4c13-abce-ad3b326abc44",
   "metadata": {},
   "outputs": [
    {
     "name": "stdout",
     "output_type": "stream",
     "text": [
      "Mouse moved to (197, 5)\n",
      "Mouse moved to (195, 5)\n",
      "Mouse moved to (193, 5)\n",
      "Mouse moved to (191, 6)\n",
      "Mouse moved to (190, 7)\n",
      "Mouse moved to (189, 7)\n",
      "Mouse moved to (188, 7)\n",
      "Mouse moved to (187, 7)\n",
      "Mouse moved to (186, 8)\n",
      "Mouse moved to (185, 9)\n",
      "Mouse moved to (184, 9)\n",
      "Mouse moved to (183, 10)\n",
      "Mouse moved to (182, 11)\n",
      "Mouse moved to (181, 11)\n",
      "Mouse moved to (180, 10)\n",
      "Mouse moved to (179, 9)\n",
      "Mouse moved to (178, 9)\n",
      "Left click at (178, 9)\n",
      "Mouse moved to (177, 9)\n",
      "Mouse moved to (176, 9)\n",
      "Mouse moved to (175, 9)\n",
      "Mouse moved to (175, 10)\n",
      "Mouse moved to (174, 10)\n",
      "Mouse moved to (173, 10)\n",
      "Mouse moved to (172, 10)\n",
      "Right click at (172, 10)\n",
      "Left click at (172, 10)\n",
      "Mouse moved to (172, 11)\n",
      "Mouse moved to (171, 12)\n",
      "Right click at (171, 12)\n",
      "Key pressed: a\n",
      "Key pressed: s\n",
      "Mouse moved to (172, 12)\n",
      "Mouse moved to (172, 11)\n",
      "Mouse moved to (173, 10)\n",
      "Mouse moved to (174, 10)\n",
      "Mouse moved to (175, 10)\n",
      "Mouse moved to (176, 10)\n",
      "Mouse moved to (177, 9)\n",
      "Mouse moved to (178, 8)\n",
      "Mouse moved to (178, 7)\n",
      "Mouse moved to (178, 6)\n",
      "Mouse moved to (178, 5)\n",
      "Mouse moved to (178, 4)\n",
      "Mouse moved to (178, 2)\n",
      "Mouse moved to (178, 1)\n"
     ]
    }
   ],
   "source": [
    "import tkinter as tk\n",
    "\n",
    "def on_key_press(event):\n",
    "    print(f\"Key pressed: {event.keysym}\")\n",
    "\n",
    "def on_left_click(event):\n",
    "    print(f\"Left click at ({event.x}, {event.y})\")\n",
    "\n",
    "def on_right_click(event):\n",
    "    print(f\"Right click at ({event.x}, {event.y})\")\n",
    "\n",
    "def on_mouse_motion(event):\n",
    "    print(f\"Mouse moved to ({event.x}, {event.y})\")\n",
    "\n",
    "root = tk.Tk()\n",
    "root.title(\"Advanced Event Handling Example\")\n",
    "\n",
    "root.bind(\"<KeyPress>\", on_key_press)\n",
    "root.bind(\"<Button-1>\", on_left_click)\n",
    "root.bind(\"<Button-3>\", on_right_click)\n",
    "root.bind(\"<Motion>\", on_mouse_motion)\n",
    "\n",
    "root.mainloop()"
   ]
  },
  {
   "cell_type": "code",
   "execution_count": 110,
   "id": "83bdb773-dae1-469f-a5bd-d4614b723760",
   "metadata": {},
   "outputs": [
    {
     "name": "stdout",
     "output_type": "stream",
     "text": [
      "Enter in Widget at 198, 171\n",
      "Leave from Widget at 278, 157\n",
      "Enter in Widget at 196, 151\n",
      "Mouse Left Button at 93, 113\n",
      "Button Release at 93, 113\n",
      "Mouse Right Button at 93, 113\n",
      "Button Release at 93, 113\n",
      "Leave from Widget at 183, 335\n",
      "Enter in Widget at 129, 198\n",
      "Mouse Left Button at 103, 106\n",
      "Button Release at 103, 106\n",
      "Leave from Widget at 214, 147\n",
      "Enter in Widget at 198, 16\n",
      "Leave from Widget at 161, -14\n"
     ]
    }
   ],
   "source": [
    "root = Tk()\n",
    "root.title('Event Handling')\n",
    "\n",
    "def btn1(event):\n",
    "    print(f'Mouse Left Button at {event.x}, {event.y}')\n",
    "\n",
    "def btn2(event):\n",
    "    print(f'Mouse Wheel Button at {event.x}, {event.y}')\n",
    "\n",
    "def btn3(event):\n",
    "    print(f'Mouse Right Button at {event.x}, {event.y}')\n",
    "\n",
    "def release(event):\n",
    "    print(f'Button Release at {event.x}, {event.y}')\n",
    "\n",
    "def enter(event):\n",
    "    print(f'Enter in Widget at {event.x}, {event.y}')\n",
    "\n",
    "def leave(event):\n",
    "    print(f'Leave from Widget at {event.x}, {event.y}')\n",
    "\n",
    "root.bind('<Button-1>', btn1)\n",
    "root.bind('<Button-2>', btn2)\n",
    "root.bind('<Button-3>', btn3)\n",
    "root.bind('<ButtonRelease>', release)\n",
    "root.bind('<Enter>', enter)\n",
    "root.bind('<Leave>', leave)\n",
    "\n",
    "mainloop()\n"
   ]
  },
  {
   "cell_type": "code",
   "execution_count": 109,
   "id": "f5d07f30-703e-4e60-84ae-2b445ff68e50",
   "metadata": {},
   "outputs": [],
   "source": [
    "import tkinter as tk\n",
    "\n",
    "window = tk.Tk()\n",
    "window.title(\"Image and Icons\")\n",
    "window.geometry('512x512')\n",
    "\n",
    "icon = tk.PhotoImage(file = 'C:\\\\Users\\\\JeetPrajapati\\\\Desktop\\\\Learning\\\\Python Practice\\\\icon.png')\n",
    "label = tk.Label(image=icon)\n",
    "# label = tk.Label(window, image=icon)\n",
    "# label.image = icon\n",
    "# window.iconphoto(False, icon)\n",
    "\n",
    "label.pack()\n",
    "\n",
    "window.mainloop()"
   ]
  },
  {
   "cell_type": "code",
   "execution_count": 107,
   "id": "5cd5803f-2511-4775-b5df-f62c72984b94",
   "metadata": {},
   "outputs": [],
   "source": [
    "import tkinter as tk\n",
    "from PIL import ImageTk, Image\n",
    "\n",
    "window = tk.Tk()\n",
    "window.title(\"Image and Icons\")\n",
    "window.geometry('512x512')\n",
    "\n",
    "img = ImageTk.PhotoImage(Image.open(\"C:\\\\Users\\\\JeetPrajapati\\\\Desktop\\\\Learning\\\\Python Practice\\\\icon.png\"))  \n",
    "l=Label(image=img)\n",
    "l.pack()\n",
    "\n",
    "window.mainloop()"
   ]
  },
  {
   "cell_type": "code",
   "execution_count": 108,
   "id": "def50f2b-abbc-446f-812c-9e642a319c36",
   "metadata": {},
   "outputs": [],
   "source": [
    "from tkinter import *\n",
    "from PIL import ImageTk, Image\n",
    "root = Tk()\n",
    "\n",
    "canv = Canvas(root, width=80, height=80, bg='white')\n",
    "canv.grid(row=2, column=3)\n",
    "\n",
    "img = ImageTk.PhotoImage(Image.open(\"C:\\\\Users\\\\JeetPrajapati\\\\Desktop\\\\Learning\\\\Python Practice\\\\icon.png\"))  \n",
    "canv.create_image(20, 20, anchor=NW, image=img)\n",
    "\n",
    "mainloop()"
   ]
  },
  {
   "cell_type": "markdown",
   "id": "e134f9ff-0d4c-4a54-85c2-3e8ac2e1bb41",
   "metadata": {},
   "source": [
    "# Tkinter Basic Exercise"
   ]
  },
  {
   "cell_type": "markdown",
   "id": "6a2336a9-bd3a-45e9-9dd0-c5c4480c3f98",
   "metadata": {},
   "source": [
    "Write a Python program to design a simple calculator application using Tkinter with buttons for numbers and arithmetic operations."
   ]
  },
  {
   "cell_type": "code",
   "execution_count": 113,
   "id": "64d21fc2-5631-45c0-82b5-ecc43707594a",
   "metadata": {},
   "outputs": [],
   "source": [
    "import tkinter as tk\n",
    "\n",
    "parent = tk.Tk()\n",
    "parent.title(\"Window with Background Color\")\n",
    "parent.configure(bg=\"lightblue\")  \n",
    "\n",
    "parent.mainloop()\n"
   ]
  },
  {
   "cell_type": "markdown",
   "id": "319020e2-b07b-4783-89d6-c736200f4a46",
   "metadata": {},
   "source": [
    "Write a Python program to design a simple calculator application using Tkinter with buttons for numbers and arithmetic operations."
   ]
  },
  {
   "cell_type": "code",
   "execution_count": 115,
   "id": "fed36824-2ba4-4bc4-955a-07d124a9908a",
   "metadata": {},
   "outputs": [],
   "source": [
    "import tkinter as tk\n",
    "\n",
    "def update_display(value):\n",
    "    current_text = display_var.get()\n",
    "    if current_text == \"0\":\n",
    "        display_var.set(value)\n",
    "    else:\n",
    "        display_var.set(current_text + value)\n",
    "\n",
    "def clear_display():\n",
    "    display_var.set(\"0\")\n",
    "\n",
    "def calculate_result():\n",
    "    try:\n",
    "        result = eval(display_var.get())\n",
    "        display_var.set(result)\n",
    "    except Exception as e:\n",
    "        display_var.set(\"Error\")\n",
    "\n",
    "parent = tk.Tk()\n",
    "parent.title(\"Calculator\")\n",
    "parent.geometry('512x512')\n",
    "\n",
    "display_var = tk.StringVar()\n",
    "display_var.set(\"0\")\n",
    "\n",
    "display_label = tk.Label(parent, textvariable=display_var, font=(\"Arial\", 24), anchor=\"e\", bg=\"lightgray\", padx=10, pady=10)\n",
    "display_label.grid(row=0, column=0, columnspan=4)\n",
    "\n",
    "button_layout = [\n",
    "    (\"7\", 1, 0), (\"8\", 1, 1), (\"9\", 1, 2), (\"/\", 1, 3),\n",
    "    (\"4\", 2, 0), (\"5\", 2, 1), (\"6\", 2, 2), (\"*\", 2, 3),\n",
    "    (\"1\", 3, 0), (\"2\", 3, 1), (\"3\", 3, 2), (\"-\", 3, 3),\n",
    "    (\"0\", 4, 0), (\".\", 4, 1), (\"=\", 4, 2), (\"+\", 4, 3),\n",
    "]\n",
    "\n",
    "for (text, row, col) in button_layout:\n",
    "    button = tk.Button(parent, text=text, padx=20, pady=20, font=(\"Arial\", 18),\n",
    "                       command=lambda t=text: update_display(t) if t != \"=\" else calculate_result())\n",
    "    button.grid(row=row, column=col)\n",
    "\n",
    "clear_button = tk.Button(parent, text=\"C\", padx=20, pady=20, font=(\"Arial\", 18), command=clear_display)\n",
    "clear_button.grid(row=5, column=0, columnspan=3)\n",
    "\n",
    "parent.mainloop()\n"
   ]
  },
  {
   "cell_type": "markdown",
   "id": "da294e14-bdd6-4d6d-a161-33b12aeb7393",
   "metadata": {},
   "source": [
    "Write a Python program that implements a Tkinter-based timer application that counts down from a specified time when started."
   ]
  },
  {
   "cell_type": "code",
   "execution_count": 119,
   "id": "d8879d36-842e-47b0-84dc-3228cecb2cdd",
   "metadata": {},
   "outputs": [],
   "source": [
    "import tkinter as tk\n",
    "from tkinter import ttk\n",
    "\n",
    "def start_timer():\n",
    "    global remaining_time\n",
    "    try:\n",
    "        minutes = int(minutes_entry.get())\n",
    "        seconds = int(seconds_entry.get())\n",
    "        remaining_time = minutes * 60 + seconds\n",
    "        update_timer()\n",
    "        start_button.config(state=\"disabled\")\n",
    "        stop_button.config(state=\"active\")\n",
    "    except ValueError:\n",
    "        pass\n",
    "\n",
    "def update_timer():\n",
    "    global remaining_time\n",
    "    if remaining_time > 0:\n",
    "        minutes = remaining_time // 60\n",
    "        seconds = remaining_time % 60\n",
    "        timer_label.config(text=f\"{minutes:02d}:{seconds:02d}\")\n",
    "        remaining_time -= 1\n",
    "        parent.after(1000, update_timer)  # Update every 1000 milliseconds (1 second)\n",
    "    else:\n",
    "        timer_label.config(text=\"00:00\")\n",
    "        start_button.config(state=\"active\")\n",
    "        stop_button.config(state=\"disabled\")\n",
    "\n",
    "def stop_timer():\n",
    "    global remaining_time\n",
    "    remaining_time = 0\n",
    "    timer_label.config(text=\"00:00\")\n",
    "    start_button.config(state=\"active\")\n",
    "    stop_button.config(state=\"disabled\")\n",
    "\n",
    "parent = tk.Tk()\n",
    "parent.title(\"Timer Application\")\n",
    "\n",
    "minutes_label = tk.Label(parent, text=\"Minutes:\")\n",
    "minutes_label.grid(row=0, column=0)\n",
    "minutes_entry = tk.Entry(parent)\n",
    "minutes_entry.grid(row=0, column=1)\n",
    "minutes_entry.insert(0, \"0\")\n",
    "seconds_label = tk.Label(parent, text=\"Seconds:\")\n",
    "seconds_label.grid(row=1, column=0)\n",
    "seconds_entry = tk.Entry(parent)\n",
    "seconds_entry.grid(row=1, column=1)\n",
    "seconds_entry.insert(0, \"0\")\n",
    "\n",
    "timer_label = tk.Label(parent, text=\"00:00\", font=(\"Helvetica\", 48))\n",
    "timer_label.grid(row=2, columnspan=2)\n",
    "\n",
    "start_button = ttk.Button(parent, text=\"Start\", command=start_timer)\n",
    "start_button.grid(row=3, column=0)\n",
    "stop_button = ttk.Button(parent, text=\"Stop\", command=stop_timer, state=\"disabled\")\n",
    "stop_button.grid(row=3, column=1)\n",
    "\n",
    "remaining_time = 0\n",
    "\n",
    "parent.mainloop()\n"
   ]
  },
  {
   "cell_type": "markdown",
   "id": "bc7cfbf2-8f8d-46ad-8bea-2ebc7a417313",
   "metadata": {},
   "source": [
    "# Python Tkinter layout management "
   ]
  },
  {
   "cell_type": "markdown",
   "id": "d8026cc1-21ce-4dcd-b1ef-4eeb87223da7",
   "metadata": {},
   "source": [
    "Write a Python program that designs a simple login form with labels and Entry widgets, arranging them in a grid using the Grid geometry manager."
   ]
  },
  {
   "cell_type": "code",
   "execution_count": 120,
   "id": "c00448a2-8e8c-4f99-894b-8f05984bd7b0",
   "metadata": {},
   "outputs": [],
   "source": [
    "import tkinter as tk\n",
    "\n",
    "def login():\n",
    "    username = username_entry.get()\n",
    "    password = password_entry.get()\n",
    "\n",
    "    if username == \"user1\" and password == \"abcd123\":\n",
    "        login_status.config(text=\"Login successful\", fg=\"green\")\n",
    "    else:\n",
    "        login_status.config(text=\"Login failed. Try again.\", fg=\"red\")\n",
    "\n",
    "parent = tk.Tk()\n",
    "parent.title(\"Login Form\")\n",
    "\n",
    "username_label = tk.Label(parent, text=\"Username:\")\n",
    "password_label = tk.Label(parent, text=\"Password:\")\n",
    "username_entry = tk.Entry(parent)\n",
    "password_entry = tk.Entry(parent, show=\"*\")  # Show '*' for password entry\n",
    "\n",
    "login_button = tk.Button(parent, text=\"Login\", command=login)\n",
    "\n",
    "login_status = tk.Label(parent, text=\"\", fg=\"black\")\n",
    "\n",
    "username_label.grid(row=0, column=0, padx=10, pady=5, sticky=\"E\")\n",
    "username_entry.grid(row=0, column=1, padx=10, pady=5)\n",
    "password_label.grid(row=1, column=0, padx=10, pady=5, sticky=\"E\")\n",
    "password_entry.grid(row=1, column=1, padx=10, pady=5)\n",
    "login_button.grid(row=2, column=0, columnspan=2, padx=10, pady=10)\n",
    "login_status.grid(row=3, column=0, columnspan=2, padx=10, pady=5)\n",
    "\n",
    "parent.mainloop()\n"
   ]
  },
  {
   "cell_type": "markdown",
   "id": "4b215441-0024-473b-a903-75e88c860cda",
   "metadata": {},
   "source": [
    "Write a Python program that implements a seating reservation system for an auditorium, arranging seat buttons in a grid layout."
   ]
  },
  {
   "cell_type": "code",
   "execution_count": 133,
   "id": "089a2b7f-ef53-46d4-bbb9-3d88bc0e84c2",
   "metadata": {},
   "outputs": [
    {
     "name": "stdout",
     "output_type": "stream",
     "text": [
      "Reserved Seat 1-1\n",
      "Reserved Seat 1-2\n",
      "Reserved Seat 1-3\n",
      "Seat 1-1 is already reserved.\n",
      "Seat 1-2 is already reserved.\n",
      "Seat 1-3 is already reserved.\n",
      "Seat 1-1 is already reserved.\n",
      "Reserved Seat 2-1\n",
      "Seat 2-1 is already reserved.\n"
     ]
    }
   ],
   "source": [
    "import tkinter as tk\n",
    "\n",
    "class AuditoriumReservationSystem:\n",
    "    def __init__(self, parent):\n",
    "        self.parent = parent\n",
    "        self.parent.title(\"Auditorium Reservation\")\n",
    "        # self.button_state = \"Normal\"\n",
    "\n",
    "        # Auditorium layout (number of rows and columns)\n",
    "        self.rows = 5\n",
    "        self.columns = 6\n",
    "\n",
    "        # Create a Frame to hold seat buttons\n",
    "        self.seating_frame = tk.Frame(parent)\n",
    "        self.seating_frame.pack()\n",
    "\n",
    "        # Create and display seat buttons in a grid\n",
    "        self.create_seats()\n",
    "\n",
    "    def create_seats(self):\n",
    "        self.seat_buttons = []\n",
    "\n",
    "        for row in range(self.rows):\n",
    "            seat_row = []\n",
    "            for col in range(self.columns):\n",
    "                seat_button = tk.Button(self.seating_frame, text=f\"Seat {row+1}-{col+1}\", width=8, height=2, command=lambda r=row, c=col: self.reserve_seat(r, c))\n",
    "                seat_button.grid(row=row, column=col, padx=5, pady=5)\n",
    "                # seat_row.append(seat_button)\n",
    "                seat_row.append({seat_button : \"Normal\"})\n",
    "            self.seat_buttons.append(seat_row)\n",
    "\n",
    "    def reserve_seat(self, row, col):\n",
    "        seat_button = self.seat_buttons[row][col]\n",
    "        for k,v in seat_button.items():\n",
    "            if v == \"Normal\":\n",
    "                k.config(bg = 'lightgreen')\n",
    "                print(f\"Reserved Seat {row+1}-{col+1}\")\n",
    "                self.seat_buttons[row][col][k] = \"Disabled\"\n",
    "            else:\n",
    "                print(f\"Seat {row+1}-{col+1} is already reserved.\")\n",
    "        \n",
    "        # if seat_button['state'] == 'normal':\n",
    "        #     seat_button.configure(bg='lightgreen', state='disabled')\n",
    "        #     print(f\"Reserved Seat {row+1}-{col+1}\")\n",
    "        # else:\n",
    "        #     print(f\"Seat {row+1}-{col+1} is already reserved.\")\n",
    "\n",
    "if __name__ == \"__main__\":\n",
    "    parent = tk.Tk()\n",
    "    app = AuditoriumReservationSystem(parent)\n",
    "    parent.mainloop()\n"
   ]
  },
  {
   "cell_type": "markdown",
   "id": "5d4230e1-0507-4c42-971c-86d745f7c8c7",
   "metadata": {},
   "source": [
    "# Python Tkinter widgets"
   ]
  },
  {
   "cell_type": "markdown",
   "id": "1eb856a8-4574-4678-8d39-ebca725316f2",
   "metadata": {},
   "source": [
    "Write a Python GUI program to add a canvas in your application using tkinter module."
   ]
  },
  {
   "cell_type": "code",
   "execution_count": 147,
   "id": "96cb69a4-d681-4249-a203-1ff38ff27216",
   "metadata": {},
   "outputs": [],
   "source": [
    "import tkinter as tk \n",
    "\n",
    "parent = tk.Tk() \n",
    "parent.title(\"Canvas\")\n",
    "parent.geometry('512x512')\n",
    "\n",
    "canvas_width = 100\n",
    "canvas_height = 80\n",
    "\n",
    "w = tk.Canvas(parent, \n",
    "           width=canvas_width,\n",
    "           height=canvas_height)\n",
    "w.pack()\n",
    "\n",
    "y = int(canvas_height / 2)\n",
    "# w.create_line(0, y, canvas_width, y, fill=\"#476042\")\n",
    "\n",
    "w.create_rectangle(10,30,60,80, fill='lightblue')\n",
    "\n",
    "# Create a polygon by defining multiple points\n",
    "# This polygon will create a rectangle (as two lines along the width of the canvas)\n",
    "# w.create_polygon(0, 0, canvas_width, 0, canvas_width, canvas_height, 0, canvas_height, fill='lightblue')\n",
    "\n",
    "parent.mainloop()\n"
   ]
  },
  {
   "cell_type": "markdown",
   "id": "f910a5d3-3c5c-464c-9108-84376fb09879",
   "metadata": {},
   "source": [
    "Write a Python GUI program to create a Date Entry widget for selecting a date using tkinter module."
   ]
  },
  {
   "cell_type": "code",
   "execution_count": 150,
   "id": "dc7e2d41-48fd-475c-b0e2-baf7a1fadfbd",
   "metadata": {},
   "outputs": [],
   "source": [
    "import tkinter as tk\n",
    "from tkcalendar import DateEntry\n",
    "\n",
    "def get_selected_date():\n",
    "    selected_date = cal.get_date()\n",
    "    selected_date_label.config(text=f\"Selected Date: {selected_date}\")\n",
    "\n",
    "parent = tk.Tk()\n",
    "parent.title(\"Date Entry Example\")\n",
    "parent.geometry('512x512')\n",
    "\n",
    "# Create a Date Entry widget\n",
    "cal = DateEntry(parent, width=12, background=\"darkblue\", foreground=\"white\", borderwidth=2)\n",
    "cal.pack(padx=10, pady=10)\n",
    "\n",
    "# Create a button to get the selected date\n",
    "get_date_button = tk.Button(parent, text=\"Get Selected Date\", command=get_selected_date)\n",
    "get_date_button.pack(pady=10)\n",
    "# Create a label to display the selected date\n",
    "selected_date_label = tk.Label(parent, text=\"\", font=(\"Helvetica\", 12))\n",
    "selected_date_label.pack()\n",
    "parent.mainloop()\n"
   ]
  },
  {
   "cell_type": "markdown",
   "id": "d3b666ef-eb44-4f7b-aa84-6498c00bac54",
   "metadata": {},
   "source": [
    "Write a Python GUI program to create a Message widget for displaying multi-line text with word wrapping using tkinter module."
   ]
  },
  {
   "cell_type": "code",
   "execution_count": 151,
   "id": "25849441-bd04-49f8-9765-f5b96f521ae1",
   "metadata": {},
   "outputs": [],
   "source": [
    "import tkinter as tk\n",
    "\n",
    "parent = tk.Tk()\n",
    "parent.title(\"Message Widget Example\")\n",
    "\n",
    "message = tk.Message(parent, text=\"This is a multi-line text message widget. It automatically wraps text to fit within the specified width. Write a Python GUI program to create a Message widget for displaying multi-line text with word wrapping using tkinter module.\", width=200)\n",
    "message.pack(padx=20, pady=20)\n",
    "parent.mainloop()\n"
   ]
  },
  {
   "cell_type": "markdown",
   "id": "97315e70-61ac-4493-9e4c-bdb7e7e26257",
   "metadata": {},
   "source": [
    "Write a Python  GUI program to create a Colorchooser widget to select a color using tkinter module."
   ]
  },
  {
   "cell_type": "code",
   "execution_count": 153,
   "id": "008eb52b-d104-4d84-a7b9-81e8a412ae82",
   "metadata": {},
   "outputs": [],
   "source": [
    "import tkinter as tk\n",
    "from tkinter import colorchooser\n",
    "\n",
    "def choose_color():\n",
    "    color = colorchooser.askcolor(title=\"Select a Color\")\n",
    "    if color[1]:\n",
    "        selected_color_label.config(text=f\"Selected Color: {color[1]}\")\n",
    "        color_frame.config(bg=color[1])\n",
    "\n",
    "parent = tk.Tk()\n",
    "parent.title(\"Colorchooser Example\")\n",
    "\n",
    "choose_color_button = tk.Button(parent, text=\"Choose a Color\", command=choose_color)\n",
    "choose_color_button.pack(padx=20, pady=20)\n",
    "\n",
    "selected_color_label = tk.Label(parent, text=\"Selected Color:\", font=(\"Helvetica\", 10))\n",
    "selected_color_label.pack()\n",
    "\n",
    "color_frame = tk.Frame(parent, width=100, height=50)\n",
    "color_frame.pack(padx=20, pady=20)\n",
    "\n",
    "parent.mainloop()\n"
   ]
  },
  {
   "cell_type": "markdown",
   "id": "b46e8b4f-7d0d-4855-8c45-39e0e98af081",
   "metadata": {},
   "source": [
    "# Tkinter dialogs and file handling"
   ]
  },
  {
   "cell_type": "markdown",
   "id": "fc818d69-a70d-4e1e-8f1f-c10b480ca307",
   "metadata": {},
   "source": [
    "Write a Python program that displays a simple information dialog using Tkinter."
   ]
  },
  {
   "cell_type": "code",
   "execution_count": 154,
   "id": "1180953d-748f-4c61-9682-9d463f57a442",
   "metadata": {},
   "outputs": [],
   "source": [
    "import tkinter as tk\n",
    "from tkinter import messagebox\n",
    "\n",
    "def show_info_dialog():\n",
    "    messagebox.showinfo(\"Information\", \"This is a simple information dialog.\")\n",
    "    \n",
    "root = tk.Tk()\n",
    "root.title(\"Information Dialog Example\")\n",
    "\n",
    "info_button = tk.Button(root, text=\"Show Info Dialog\", command=show_info_dialog)\n",
    "info_button.pack(padx=20, pady=20)\n",
    "root.mainloop()\n"
   ]
  },
  {
   "cell_type": "markdown",
   "id": "6851a973-997b-4516-bbcd-ad59342dd744",
   "metadata": {},
   "source": [
    " Write a Python program using Tkinter, that implements a confirmation dialog that asks the user if they want to save changes before exiting the application."
   ]
  },
  {
   "cell_type": "code",
   "execution_count": 156,
   "id": "81af617d-c29b-4a19-b08b-7fdb3693c5e0",
   "metadata": {},
   "outputs": [],
   "source": [
    "import tkinter as tk\n",
    "from tkinter import messagebox\n",
    "\n",
    "def confirm_exit():\n",
    "    response = messagebox.askyesnocancel(\"Confirm Exit\", \"Want to save changes before exiting?\")\n",
    "    if response is None:\n",
    "        return\n",
    "    elif response:        \n",
    "        save_changes()  \n",
    "    root.destroy()\n",
    "\n",
    "def save_changes():\n",
    "        messagebox.showinfo(\"Saved\", \"Saved successfully!\")\n",
    "\n",
    "root = tk.Tk()\n",
    "root.title(\"Exit Example\")\n",
    "exit_button = tk.Button(root, text=\"Exit\", command=confirm_exit)\n",
    "exit_button.pack(padx=20, pady=20)\n",
    "root.mainloop()\n"
   ]
  },
  {
   "cell_type": "markdown",
   "id": "179ccffd-cf91-4607-811e-7c5fc4a85cdc",
   "metadata": {},
   "source": [
    "Write a Python program that creates a file explorer application that displays the list of files and directories in a selected folder using Tkinter."
   ]
  },
  {
   "cell_type": "code",
   "execution_count": 158,
   "id": "cd278f05-02ad-4dae-8de4-840263972ef4",
   "metadata": {},
   "outputs": [],
   "source": [
    "import tkinter as tk\n",
    "from tkinter import filedialog\n",
    "import os\n",
    "\n",
    "def open_folder_dialog():\n",
    "    folder_path = filedialog.askdirectory(title=\"Select a Folder\")\n",
    "    if folder_path:\n",
    "        display_folder_contents(folder_path)\n",
    "\n",
    "def display_folder_contents(folder_path):\n",
    "    try:\n",
    "        folder_contents = os.listdir(folder_path)\n",
    "        listbox.delete(0, tk.END)  # Clear the current list\n",
    "\n",
    "        for item in folder_contents:\n",
    "            listbox.insert(tk.END, item)\n",
    "\n",
    "    except Exception as e:\n",
    "        listbox.delete(0, tk.END)  # Clear the current list\n",
    "        listbox.insert(tk.END, f\"Error: {str(e)}\")\n",
    "\n",
    "parent = tk.Tk()\n",
    "parent.title(\"File Explorer\")\n",
    "parent.geometry('512x512')\n",
    "\n",
    "open_button = tk.Button(parent, text=\"Open Folder\", command=open_folder_dialog)\n",
    "open_button.pack(padx=20, pady=20)\n",
    "listbox = tk.Listbox(parent, height=15, width=40)\n",
    "listbox.pack(padx=20, pady=20)\n",
    "parent.mainloop()\n"
   ]
  },
  {
   "cell_type": "markdown",
   "id": "ebcb2c7a-6c0b-42fb-b702-93daadc2cbc7",
   "metadata": {},
   "source": [
    "# Tkinter events and event handling"
   ]
  },
  {
   "cell_type": "markdown",
   "id": "c933e6f8-dc1b-46f1-a7d9-202131102e7d",
   "metadata": {},
   "source": [
    "Write a Python program that displays a button using Tkinter. When the button is clicked, display a message box with the message."
   ]
  },
  {
   "cell_type": "code",
   "execution_count": 160,
   "id": "59dfd112-26b0-4639-b6e0-4b7d7852cb75",
   "metadata": {},
   "outputs": [],
   "source": [
    "import tkinter as tk\n",
    "from tkinter import messagebox\n",
    "\n",
    "def show_message_box():\n",
    "    messagebox.showinfo(\"Message\", \"Button Clicked!\")\n",
    "\n",
    "root = tk.Tk()\n",
    "root.title(\"Message Box Example\")\n",
    "\n",
    "button = tk.Button(root, text=\"Click here to display a message\", command=show_message_box)\n",
    "button.pack(padx=20, pady=20)\n",
    "\n",
    "root.mainloop()\n"
   ]
  },
  {
   "cell_type": "markdown",
   "id": "37cb4571-ae21-49f3-a1d8-b813cc3b872f",
   "metadata": {},
   "source": [
    "Write a Python program that allows users to input their name into a Tkinter Entry widget. When they press Enter or click a button, display a message with their name."
   ]
  },
  {
   "cell_type": "code",
   "execution_count": 167,
   "id": "ac20eb8f-010b-4fdb-af0b-e430dade9633",
   "metadata": {},
   "outputs": [],
   "source": [
    "import tkinter as tk\n",
    "\n",
    "def display_name():\n",
    "    name = name_entry.get()  \n",
    "    if name:\n",
    "        message_label.config(text=f\"Hello, {name}!\")\n",
    "\n",
    "root = tk.Tk()\n",
    "root.title(\"Name Input\")\n",
    "root.geometry('512x512')\n",
    "\n",
    "instruction_label = tk.Label(root, text=\"Input your name:\")\n",
    "instruction_label.pack(pady=10)\n",
    "\n",
    "name_entry = tk.Entry(root)\n",
    "name_entry.pack(pady=5)\n",
    "\n",
    "submit_button = tk.Button(root, text=\"Submit\", command=display_name)\n",
    "submit_button.pack(pady=10)\n",
    "\n",
    "message_label = tk.Label(root, text=\"\", font=(\"Helvetica\", 16))\n",
    "message_label.pack()\n",
    "\n",
    "root.bind(\"<Return>\", lambda event=None: display_name())\n",
    "\n",
    "root.mainloop()\n"
   ]
  },
  {
   "cell_type": "code",
   "execution_count": null,
   "id": "4f6f9826-2a0f-4619-b54b-ee939270ead4",
   "metadata": {},
   "outputs": [],
   "source": []
  },
  {
   "cell_type": "code",
   "execution_count": null,
   "id": "2d574eb5-cdbc-4a98-a759-42dff96b1801",
   "metadata": {},
   "outputs": [],
   "source": []
  }
 ],
 "metadata": {
  "kernelspec": {
   "display_name": "Python 3 (ipykernel)",
   "language": "python",
   "name": "python3"
  },
  "language_info": {
   "codemirror_mode": {
    "name": "ipython",
    "version": 3
   },
   "file_extension": ".py",
   "mimetype": "text/x-python",
   "name": "python",
   "nbconvert_exporter": "python",
   "pygments_lexer": "ipython3",
   "version": "3.12.7"
  }
 },
 "nbformat": 4,
 "nbformat_minor": 5
}
