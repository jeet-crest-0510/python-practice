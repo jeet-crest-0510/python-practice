{
 "cells": [
  {
   "cell_type": "markdown",
   "id": "96bb075c-a4a9-4405-a19a-a1c2f7cda65e",
   "metadata": {},
   "source": [
    "Write a Python program for binary search of an ordered list."
   ]
  },
  {
   "cell_type": "code",
   "execution_count": 1,
   "id": "6515a71d-b1df-45bd-a8b9-e1fee3bca9f9",
   "metadata": {},
   "outputs": [],
   "source": [
    "arr = [10, 20, 30, 40, 45, 50, 55, 60]"
   ]
  },
  {
   "cell_type": "code",
   "execution_count": 2,
   "id": "d392eb7b-5f0a-42d8-ac87-abab5a4d71f8",
   "metadata": {},
   "outputs": [],
   "source": [
    "def binary_search_recursive(arr, element, low = 0, high = len(arr)):\n",
    "\n",
    "    if low > high:\n",
    "        return -1\n",
    "\n",
    "    mid = (low + high) // 2\n",
    "    \n",
    "    if arr[mid] == element:\n",
    "        return mid\n",
    "    elif arr[mid] < element:\n",
    "        return binary_search_recursive(arr, element, mid+1, high)\n",
    "    else:\n",
    "        return binary_search_recursive(arr, element, low, mid-1)"
   ]
  },
  {
   "cell_type": "code",
   "execution_count": 3,
   "id": "b8b67eca-4cd8-41f3-8aa3-fc8687562413",
   "metadata": {},
   "outputs": [
    {
     "name": "stdout",
     "output_type": "stream",
     "text": [
      "Element 55 is present at index 6\n"
     ]
    }
   ],
   "source": [
    "search = 55\n",
    "\n",
    "index = binary_search_recursive(arr, search)\n",
    "\n",
    "if index == -1:\n",
    "    print(\"Element not found\")\n",
    "else:\n",
    "    print(f'Element {search} is present at index {index}')"
   ]
  },
  {
   "cell_type": "markdown",
   "id": "dc2dfc82-33d2-4845-a560-677da2056804",
   "metadata": {},
   "source": [
    "Write a Python program to sort a list of elements using the insertion sort algorithm."
   ]
  },
  {
   "cell_type": "code",
   "execution_count": 4,
   "id": "145f48bf-117a-437b-904c-b96f851045c8",
   "metadata": {},
   "outputs": [],
   "source": [
    "def insertion_sort(arr):\n",
    "\n",
    "    for i in range(len(arr) - 1):\n",
    "        if arr[i] > arr[i+1]:\n",
    "            j=i\n",
    "            while j>=0 and arr[j] > arr[j+1]:\n",
    "                arr[j], arr[j+1] = arr[j+1], arr[j]\n",
    "                j -= 1\n",
    "    return arr"
   ]
  },
  {
   "cell_type": "code",
   "execution_count": 5,
   "id": "390de02b-44f5-4872-b6e1-877cb4039302",
   "metadata": {},
   "outputs": [
    {
     "name": "stdout",
     "output_type": "stream",
     "text": [
      "Array is: [5, 4, 2, 7, 1]\n",
      "Sorted Array is: [1, 2, 4, 5, 7]\n"
     ]
    }
   ],
   "source": [
    "arr = [5,4,2,7,1]\n",
    "print(f'Array is: {arr}')\n",
    "\n",
    "s = insertion_sort(arr)\n",
    "print(f'Sorted Array is: {s}')"
   ]
  },
  {
   "cell_type": "markdown",
   "id": "e6826783-3526-42f5-8279-a2780433efde",
   "metadata": {},
   "source": [
    "Write a Python program to delete a specific item from a given doubly linked list."
   ]
  },
  {
   "cell_type": "code",
   "execution_count": 6,
   "id": "98f3e3a6-3e92-4b9c-b3eb-e3d527a3bfaf",
   "metadata": {},
   "outputs": [],
   "source": [
    "class Node:\n",
    "    def __init__(self, data):\n",
    "        self.data = data\n",
    "        self.next = None\n",
    "        self.prev = None"
   ]
  },
  {
   "cell_type": "code",
   "execution_count": 8,
   "id": "244bb04d-1b59-4c11-8fcf-585c832376b5",
   "metadata": {},
   "outputs": [],
   "source": [
    "class DoublyLinkedList:\n",
    "    def __init__(self):\n",
    "        self.head = None\n",
    "        \n",
    "    def forward_traversal(self):\n",
    "        curr = self.head\n",
    "        while curr is not None:\n",
    "            print(curr.data, end=\" \")\n",
    "            curr = curr.next\n",
    "        print()\n",
    "        \n",
    "    def delete_item(self, item):\n",
    "        if self.head == None:\n",
    "            return f\"Item {item} doesn't Exist\"\n",
    "            \n",
    "        temp = self.head\n",
    "        prev1 = None\n",
    "\n",
    "        if temp.data == item:\n",
    "            self.head = temp.next\n",
    "            temp.prev = None\n",
    "            del temp\n",
    "            return f\" Item {item} Deleted Successfully!!\"\n",
    "        \n",
    "        while temp:\n",
    "            if temp.data == item:\n",
    "                prev1.next = temp.next\n",
    "                temp.next.prev = prev1\n",
    "                del temp\n",
    "                return f\" Item {item} Deleted Successfully!!\"\n",
    "            prev1 = temp\n",
    "            temp = temp.next\n",
    "            \n",
    "        return f\"Item {item} doesn't Exist\"\n"
   ]
  },
  {
   "cell_type": "code",
   "execution_count": 9,
   "id": "4a2c6e5f-dabd-4ba8-a6d1-89a76a600a00",
   "metadata": {},
   "outputs": [],
   "source": [
    "dl = DoublyLinkedList()"
   ]
  },
  {
   "cell_type": "code",
   "execution_count": 10,
   "id": "f5ca85e4-17e9-41e6-b287-66d0cc68f9b1",
   "metadata": {},
   "outputs": [],
   "source": [
    "first = Node(1)\n",
    "second = Node(2)\n",
    "third = Node(3)\n",
    "fourth = Node(4)\n",
    "fifth = Node(5)"
   ]
  },
  {
   "cell_type": "code",
   "execution_count": 12,
   "id": "912f5fb7-f285-4e9b-88c5-9d0b5a7e0683",
   "metadata": {},
   "outputs": [],
   "source": [
    "dl.head = first"
   ]
  },
  {
   "cell_type": "code",
   "execution_count": 13,
   "id": "8c2a7b6e-2571-44e0-a8fa-f80fa5a6a5f6",
   "metadata": {},
   "outputs": [],
   "source": [
    "first.next = second\n",
    "second.next = third\n",
    "third.next = fourth\n",
    "fourth.next = fifth"
   ]
  },
  {
   "cell_type": "code",
   "execution_count": 14,
   "id": "c03b6990-51ad-4268-915e-2c83f8f3e873",
   "metadata": {},
   "outputs": [],
   "source": [
    "second.prev = first\n",
    "third.prev = second\n",
    "fourth.prev = third\n",
    "fifth.prev = fourth"
   ]
  },
  {
   "cell_type": "code",
   "execution_count": 15,
   "id": "3bd1dd36-f7e1-4012-a8ce-30206440977c",
   "metadata": {},
   "outputs": [
    {
     "name": "stdout",
     "output_type": "stream",
     "text": [
      "1 2 3 4 5 \n"
     ]
    }
   ],
   "source": [
    "dl.forward_traversal()"
   ]
  },
  {
   "cell_type": "code",
   "execution_count": 16,
   "id": "60a19f69-ec9d-411d-a36b-25870ffde301",
   "metadata": {},
   "outputs": [
    {
     "data": {
      "text/plain": [
       "' Item 2 Deleted Successfully!!'"
      ]
     },
     "execution_count": 16,
     "metadata": {},
     "output_type": "execute_result"
    }
   ],
   "source": [
    "dl.delete_item(2)"
   ]
  },
  {
   "cell_type": "code",
   "execution_count": 17,
   "id": "674f7d5f-7877-4453-ae06-5dda43c4d2fe",
   "metadata": {},
   "outputs": [
    {
     "name": "stdout",
     "output_type": "stream",
     "text": [
      "1 3 4 5 \n"
     ]
    }
   ],
   "source": [
    "dl.forward_traversal()"
   ]
  },
  {
   "cell_type": "code",
   "execution_count": 18,
   "id": "db77a972-a396-4ad8-87db-395c56ef6754",
   "metadata": {},
   "outputs": [
    {
     "data": {
      "text/plain": [
       "' Item 1 Deleted Successfully!!'"
      ]
     },
     "execution_count": 18,
     "metadata": {},
     "output_type": "execute_result"
    }
   ],
   "source": [
    "dl.delete_item(1)"
   ]
  },
  {
   "cell_type": "code",
   "execution_count": 19,
   "id": "a31bfc7f-f747-46fd-9536-cc549df98229",
   "metadata": {},
   "outputs": [
    {
     "name": "stdout",
     "output_type": "stream",
     "text": [
      "3 4 5 \n"
     ]
    }
   ],
   "source": [
    "dl.forward_traversal()"
   ]
  },
  {
   "cell_type": "markdown",
   "id": "dea7a46b-e781-4dd6-9545-d2d08dae85c7",
   "metadata": {},
   "source": [
    "Write a Python program to create a Balanced Binary Search Tree (BST) using an array of elements where array elements are sorted in ascending order."
   ]
  },
  {
   "cell_type": "code",
   "execution_count": 69,
   "id": "7dbca0b2-2d21-422e-8908-7c2855da6cbb",
   "metadata": {},
   "outputs": [],
   "source": [
    "class TreeNode:\n",
    "    def __init__(self, data):\n",
    "        self.data = data\n",
    "        self.left = None\n",
    "        self.right = None\n",
    "\n",
    "def arr_to_bst(arr):\n",
    "    if not arr:\n",
    "        return None\n",
    "    mid = len(arr) // 2\n",
    "    node = TreeNode(arr[mid])\n",
    "    print(arr[mid])\n",
    "    node.left = arr_to_bst(arr[:mid])\n",
    "    node.right = arr_to_bst(arr[mid+1:])\n",
    "    return node\n",
    "\n",
    "def inorder(node):\n",
    "    if not node:\n",
    "        return None\n",
    "    inorder(node.left)\n",
    "    print(node.data, end=\" \")\n",
    "    inorder(node.right)\n",
    "\n",
    "def preorder(node):\n",
    "    if not node:\n",
    "        return\n",
    "    print(node.data, end=\" \")\n",
    "    preorder(node.left)\n",
    "    preorder(node.right)\n",
    "\n",
    "def postorder(node):\n",
    "    if not node:\n",
    "        return None\n",
    "    postorder(node.left)\n",
    "    postorder(node.right)\n",
    "    print(node.data, end=\" \")"
   ]
  },
  {
   "cell_type": "code",
   "execution_count": 70,
   "id": "1a1154d5-1cee-4e00-96ce-42ba78568efa",
   "metadata": {},
   "outputs": [],
   "source": [
    "arr = [1,2,3,4,5,6,7]"
   ]
  },
  {
   "cell_type": "code",
   "execution_count": 71,
   "id": "c540d2d6-2b4f-4543-8953-3c20457f96eb",
   "metadata": {},
   "outputs": [
    {
     "name": "stdout",
     "output_type": "stream",
     "text": [
      "4\n",
      "2\n",
      "1\n",
      "3\n",
      "6\n",
      "5\n",
      "7\n"
     ]
    }
   ],
   "source": [
    "node = arr_to_bst(arr)"
   ]
  },
  {
   "cell_type": "code",
   "execution_count": 72,
   "id": "77f62cb8-983c-48e3-865f-0a1b40f291d2",
   "metadata": {},
   "outputs": [
    {
     "data": {
      "text/plain": [
       "<__main__.TreeNode at 0x13624663800>"
      ]
     },
     "execution_count": 72,
     "metadata": {},
     "output_type": "execute_result"
    }
   ],
   "source": [
    "node"
   ]
  },
  {
   "cell_type": "code",
   "execution_count": 73,
   "id": "b287efa0-e1e8-43f6-80cb-3f8d9555f1e4",
   "metadata": {},
   "outputs": [
    {
     "name": "stdout",
     "output_type": "stream",
     "text": [
      "Inorder Traversal:\n",
      "1 2 3 4 5 6 7 \n",
      "Preorder Traversal:\n",
      "4 2 1 3 6 5 7 \n",
      "Postorder Traversal:\n",
      "1 3 2 5 7 6 4 "
     ]
    }
   ],
   "source": [
    "print(\"Inorder Traversal:\")\n",
    "inorder(node)\n",
    "print(\"\\nPreorder Traversal:\")\n",
    "preorder(node)\n",
    "print(\"\\nPostorder Traversal:\")\n",
    "postorder(node)"
   ]
  },
  {
   "cell_type": "markdown",
   "id": "a35ca0d7-54b8-469e-9253-895e64e45359",
   "metadata": {},
   "source": [
    "Write a Python program to find the kth smallest element in a given binary search tree."
   ]
  },
  {
   "cell_type": "code",
   "execution_count": 76,
   "id": "348d8ec4-1324-4117-b03a-574d0a232efa",
   "metadata": {},
   "outputs": [
    {
     "name": "stdout",
     "output_type": "stream",
     "text": [
      "5\n",
      "7\n"
     ]
    }
   ],
   "source": [
    "class TreeNode:\n",
    "    def __init__(self, x):\n",
    "        self.val = x\n",
    "        self.left = None\n",
    "        self.right = None\n",
    "\n",
    "def kth_smallest(root, k):\n",
    "    stack = []\n",
    "    while root or stack:\n",
    "        while root:\n",
    "            stack.append(root)\n",
    "            root = root.left\n",
    "        root = stack.pop()\n",
    "        k -= 1\n",
    "        if k == 0:\n",
    "            break\n",
    "        root = root.right\n",
    "    return root.val\n",
    "\n",
    "root = TreeNode(8)  \n",
    "root.left = TreeNode(5)  \n",
    "root.right = TreeNode(14) \n",
    "root.left.left = TreeNode(4)  \n",
    "root.left.right = TreeNode(6) \n",
    "root.right.left = TreeNode(8)  \n",
    "root.left.right.right = TreeNode(7)  \n",
    "root.right.right = TreeNode(24) \n",
    "root.right.right.left = TreeNode(22)  \n",
    "\n",
    "print(kth_smallest(root, 2))\n",
    "print(kth_smallest(root, 4))\n"
   ]
  },
  {
   "cell_type": "code",
   "execution_count": null,
   "id": "901253ab-a1f4-4894-876a-4fa5def934b3",
   "metadata": {},
   "outputs": [],
   "source": []
  }
 ],
 "metadata": {
  "kernelspec": {
   "display_name": "Python 3 (ipykernel)",
   "language": "python",
   "name": "python3"
  },
  "language_info": {
   "codemirror_mode": {
    "name": "ipython",
    "version": 3
   },
   "file_extension": ".py",
   "mimetype": "text/x-python",
   "name": "python",
   "nbconvert_exporter": "python",
   "pygments_lexer": "ipython3",
   "version": "3.12.7"
  }
 },
 "nbformat": 4,
 "nbformat_minor": 5
}
