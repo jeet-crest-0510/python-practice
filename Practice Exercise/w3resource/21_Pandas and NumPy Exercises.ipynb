{
 "cells": [
  {
   "cell_type": "markdown",
   "id": "4f737e18-0fb0-4b3a-b2bc-25757431e659",
   "metadata": {},
   "source": [
    "\n",
    "Create a DataFrame from a NumPy array with custom column names."
   ]
  },
  {
   "cell_type": "code",
   "execution_count": 1,
   "id": "e0612a3c-1a0e-42d0-ab4c-b2ee515c5278",
   "metadata": {},
   "outputs": [],
   "source": [
    "import pandas as pd\n",
    "import numpy as np"
   ]
  },
  {
   "cell_type": "code",
   "execution_count": 2,
   "id": "4f310265-3d2a-4d95-a207-a976d3e0e3d8",
   "metadata": {},
   "outputs": [
    {
     "name": "stdout",
     "output_type": "stream",
     "text": [
      "   Column1  Column2  Column3\n",
      "0        1        2        3\n",
      "1        4        5        6\n",
      "2        7        8        9\n"
     ]
    }
   ],
   "source": [
    "numpy_array = np.array([[1, 2, 3], [4, 5, 6], [7, 8, 9]])\n",
    "\n",
    "column_names = ['Column1', 'Column2', 'Column3']\n",
    "\n",
    "df = pd.DataFrame(data=numpy_array, columns=column_names)\n",
    "\n",
    "print(df)\n"
   ]
  },
  {
   "cell_type": "markdown",
   "id": "a1ce7a65-2b1a-41e3-9050-21ae83545c33",
   "metadata": {},
   "source": [
    "Extract the date and time components from a DateTime column."
   ]
  },
  {
   "cell_type": "code",
   "execution_count": 3,
   "id": "52de308e-2dcf-494b-8c30-4cfc51c93554",
   "metadata": {},
   "outputs": [
    {
     "name": "stdout",
     "output_type": "stream",
     "text": [
      "             DateTime        Date      Time\n",
      "0 2012-01-01 08:30:00  2012-01-01  08:30:00\n",
      "1 2012-01-02 12:45:00  2012-01-02  12:45:00\n",
      "2 2012-01-03 18:15:00  2012-01-03  18:15:00\n"
     ]
    }
   ],
   "source": [
    "data = {'DateTime': ['2012-01-01 08:30:00', '2012-01-02 12:45:00', '2012-01-03 18:15:00']}\n",
    "df = pd.DataFrame(data)\n",
    "\n",
    "df['DateTime'] = pd.to_datetime(df['DateTime'])\n",
    "\n",
    "df['Date'] = df['DateTime'].dt.date\n",
    "df['Time'] = df['DateTime'].dt.time\n",
    "\n",
    "print(df)"
   ]
  },
  {
   "cell_type": "markdown",
   "id": "63712b26-4803-491b-bd96-529cf6bb3d70",
   "metadata": {},
   "source": [
    " Resample time-series data in a DataFrame.\n"
   ]
  },
  {
   "cell_type": "code",
   "execution_count": 4,
   "id": "c89fda3a-d1d3-4388-a480-b640c20530ca",
   "metadata": {},
   "outputs": [
    {
     "name": "stdout",
     "output_type": "stream",
     "text": [
      "DatetimeIndex(['2012-01-01', '2012-01-02', '2012-01-03', '2012-01-04',\n",
      "               '2012-01-05', '2012-01-06', '2012-01-07', '2012-01-08',\n",
      "               '2012-01-09', '2012-01-10'],\n",
      "              dtype='datetime64[ns]', freq='D')\n",
      "{'Value': [10, 15, 20, 25, 30, 35, 40, 45, 50, 55]}\n"
     ]
    }
   ],
   "source": [
    "date_rng = pd.date_range(start='2012-01-01', end='2012-01-10', freq='D')\n",
    "data = {'Value': [10, 15, 20, 25, 30, 35, 40, 45, 50, 55]}\n",
    "df = pd.DataFrame(data, index=date_rng)\n",
    "\n",
    "print(date_rng)\n",
    "print(data)"
   ]
  },
  {
   "cell_type": "code",
   "execution_count": 5,
   "id": "ca333a08-bd78-463f-8b2d-31795d5cacb1",
   "metadata": {},
   "outputs": [
    {
     "name": "stdout",
     "output_type": "stream",
     "text": [
      "Original DataFrame:\n",
      "            Value\n",
      "2012-01-01     10\n",
      "2012-01-02     15\n",
      "2012-01-03     20\n",
      "2012-01-04     25\n",
      "2012-01-05     30\n",
      "2012-01-06     35\n",
      "2012-01-07     40\n",
      "2012-01-08     45\n",
      "2012-01-09     50\n",
      "2012-01-10     55\n",
      "\n",
      "Resampled DataFrame:\n",
      "            Value\n",
      "2012-01-01   10.0\n",
      "2012-01-08   30.0\n",
      "2012-01-15   52.5\n"
     ]
    }
   ],
   "source": [
    "resampled_df = df.resample('W').mean()\n",
    "\n",
    "print(\"Original DataFrame:\")\n",
    "print(df)\n",
    "\n",
    "print(\"\\nResampled DataFrame:\")\n",
    "print(resampled_df)"
   ]
  },
  {
   "cell_type": "markdown",
   "id": "b77ab4a0-1ee2-4026-8a57-474093f59200",
   "metadata": {},
   "source": [
    " Perform a cross-tabulation between two columns in a DataFrame."
   ]
  },
  {
   "cell_type": "code",
   "execution_count": 6,
   "id": "85f3f1ce-1f9f-4f24-aaca-ee341208b0b6",
   "metadata": {},
   "outputs": [
    {
     "name": "stdout",
     "output_type": "stream",
     "text": [
      "Value     10  15  20  25  30  35  40  45  50  55\n",
      "Category                                        \n",
      "A          1   0   1   0   0   1   0   0   0   1\n",
      "B          0   1   0   1   0   0   0   0   1   0\n",
      "C          0   0   0   0   1   0   1   1   0   0\n"
     ]
    }
   ],
   "source": [
    "data = {'Category': ['A', 'B', 'A', 'B', 'C', 'A', 'C', 'C', 'B', 'A'],\n",
    "        'Value': [10, 15, 20, 25, 30, 35, 40, 45, 50, 55]}\n",
    "\n",
    "df = pd.DataFrame(data)\n",
    "\n",
    "cross_tab = pd.crosstab(df['Category'], df['Value'])\n",
    "\n",
    "print(cross_tab)\n"
   ]
  },
  {
   "cell_type": "code",
   "execution_count": null,
   "id": "685c2d73-33ef-4e83-a9e8-1c581ac92b2b",
   "metadata": {},
   "outputs": [],
   "source": []
  }
 ],
 "metadata": {
  "kernelspec": {
   "display_name": "Python 3 (ipykernel)",
   "language": "python",
   "name": "python3"
  },
  "language_info": {
   "codemirror_mode": {
    "name": "ipython",
    "version": 3
   },
   "file_extension": ".py",
   "mimetype": "text/x-python",
   "name": "python",
   "nbconvert_exporter": "python",
   "pygments_lexer": "ipython3",
   "version": "3.12.7"
  }
 },
 "nbformat": 4,
 "nbformat_minor": 5
}
