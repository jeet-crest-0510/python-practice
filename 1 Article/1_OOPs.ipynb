{
 "cells": [
  {
   "cell_type": "markdown",
   "id": "911eb466-4ebf-4ff1-8c50-3a1e295b367d",
   "metadata": {
    "jp-MarkdownHeadingCollapsed": true
   },
   "source": [
    "# Class and Object"
   ]
  },
  {
   "cell_type": "code",
   "execution_count": 6,
   "id": "d74df3e9-46fc-4249-80f2-18c46f2d379e",
   "metadata": {},
   "outputs": [
    {
     "name": "stdout",
     "output_type": "stream",
     "text": [
      "Config is: i7, 16GB Ram, 512GB Rom\n"
     ]
    }
   ],
   "source": [
    "class Computer:\n",
    "\n",
    "    #Constructor for Initializing\n",
    "    def __init__(self, cpu, ram):\n",
    "        self.cpu = cpu\n",
    "        self.ram = ram\n",
    "        \n",
    "    def config(self):\n",
    "        print(f\"Config is: {self.cpu}, {self.ram}GB Ram, 512GB Rom\")\n",
    "\n",
    "comp1 = Computer('i7',16)\n",
    "comp1.config()"
   ]
  },
  {
   "cell_type": "code",
   "execution_count": 7,
   "id": "85c641e3-ae90-4d5c-ac88-c089074eb2c6",
   "metadata": {},
   "outputs": [
    {
     "data": {
      "text/plain": [
       "__main__.Computer"
      ]
     },
     "execution_count": 7,
     "metadata": {},
     "output_type": "execute_result"
    }
   ],
   "source": [
    "type(comp1)"
   ]
  },
  {
   "cell_type": "code",
   "execution_count": 8,
   "id": "43c3c987-a8cb-47fa-9d49-389729e692b7",
   "metadata": {},
   "outputs": [
    {
     "name": "stdout",
     "output_type": "stream",
     "text": [
      "Config is: i7, 16GB Ram, 512GB Rom\n"
     ]
    }
   ],
   "source": [
    "comp1.config()"
   ]
  },
  {
   "cell_type": "code",
   "execution_count": 9,
   "id": "8ace8ad2-7d5f-4034-ab9c-1365c1bab8b1",
   "metadata": {},
   "outputs": [
    {
     "name": "stdout",
     "output_type": "stream",
     "text": [
      "Config is: i7, 16GB Ram, 512GB Rom\n"
     ]
    }
   ],
   "source": [
    "Computer.config(comp1)"
   ]
  },
  {
   "cell_type": "code",
   "execution_count": 10,
   "id": "5b1c435a-61dd-4461-be97-ea1c0cf2b577",
   "metadata": {},
   "outputs": [],
   "source": [
    "class Person:\n",
    "    def __init__(self, name, age):\n",
    "        self.name = name\n",
    "        self.age = age\n",
    "    def compare(obj1, obj2):\n",
    "        if obj1.age == obj2.age:\n",
    "            return True\n",
    "        else:\n",
    "            return False"
   ]
  },
  {
   "cell_type": "code",
   "execution_count": 11,
   "id": "bb8e1efe-5239-4744-83a6-df4018dc1f8e",
   "metadata": {},
   "outputs": [],
   "source": [
    "p1 = Person('jeet', 21)\n",
    "p2 = Person('jay',21)"
   ]
  },
  {
   "cell_type": "code",
   "execution_count": 12,
   "id": "cad5a170-7f38-41b9-a9af-a8299cedba89",
   "metadata": {},
   "outputs": [
    {
     "data": {
      "text/plain": [
       "1901700894256"
      ]
     },
     "execution_count": 12,
     "metadata": {},
     "output_type": "execute_result"
    }
   ],
   "source": [
    "id(p1)"
   ]
  },
  {
   "cell_type": "code",
   "execution_count": 13,
   "id": "04e91f58-e736-47af-94f5-69b2e7e4f324",
   "metadata": {},
   "outputs": [
    {
     "data": {
      "text/plain": [
       "1901706608368"
      ]
     },
     "execution_count": 13,
     "metadata": {},
     "output_type": "execute_result"
    }
   ],
   "source": [
    "id(p2)"
   ]
  },
  {
   "cell_type": "code",
   "execution_count": 14,
   "id": "df5dffe6-2356-47e7-be33-8f7fa2421f05",
   "metadata": {},
   "outputs": [
    {
     "data": {
      "text/plain": [
       "True"
      ]
     },
     "execution_count": 14,
     "metadata": {},
     "output_type": "execute_result"
    }
   ],
   "source": [
    "p1.compare(p2)"
   ]
  },
  {
   "cell_type": "code",
   "execution_count": 15,
   "id": "e80e488e-948b-4ca2-95ba-4d9791a13830",
   "metadata": {},
   "outputs": [],
   "source": [
    "p2.age = 22"
   ]
  },
  {
   "cell_type": "code",
   "execution_count": 16,
   "id": "e62bcf2a-b9ab-43de-a9c9-39b7a635e372",
   "metadata": {},
   "outputs": [
    {
     "data": {
      "text/plain": [
       "False"
      ]
     },
     "execution_count": 16,
     "metadata": {},
     "output_type": "execute_result"
    }
   ],
   "source": [
    "p1.compare(p2)"
   ]
  },
  {
   "cell_type": "markdown",
   "id": "2dd1c80e-9d9d-4d58-8000-844f614dfc88",
   "metadata": {
    "jp-MarkdownHeadingCollapsed": true
   },
   "source": [
    "# Variables and Method"
   ]
  },
  {
   "cell_type": "code",
   "execution_count": 32,
   "id": "679bc25c-d408-4f47-acea-4a70747559f0",
   "metadata": {},
   "outputs": [],
   "source": [
    "class Student:\n",
    "\n",
    "    #Class Variables\n",
    "    school = 'GNSE'\n",
    "    \n",
    "    def __init__(self, name, m1, m2):\n",
    "        #Instance Variables\n",
    "        self.name = name\n",
    "        self.m1 = m1\n",
    "        self.m2 = m2\n",
    "\n",
    "    #Instance Method\n",
    "    def avg(self):\n",
    "        return (self.m1 + self.m2)/2\n",
    "\n",
    "    #Class Method\n",
    "    @classmethod\n",
    "    def info(c):\n",
    "        return c.school\n",
    "\n",
    "    #Static Method\n",
    "    @staticmethod\n",
    "    def details():\n",
    "        print('This is Static Method in Student Class')"
   ]
  },
  {
   "cell_type": "code",
   "execution_count": 33,
   "id": "ec9cf40d-2573-42d7-9485-4fc2d2313509",
   "metadata": {},
   "outputs": [],
   "source": [
    "s1 = Student('Jeet',80,86)\n",
    "s2 = Student('Jay', 90, 95)"
   ]
  },
  {
   "cell_type": "code",
   "execution_count": 34,
   "id": "a8eec931-76e5-4c40-8d92-33c40d978285",
   "metadata": {},
   "outputs": [
    {
     "name": "stdout",
     "output_type": "stream",
     "text": [
      "S1: 83.0\n",
      "S2: 92.5\n"
     ]
    }
   ],
   "source": [
    "print(f'S1: {s1.avg()}')\n",
    "print(f'S2: {s2.avg()}')"
   ]
  },
  {
   "cell_type": "code",
   "execution_count": 35,
   "id": "632b1a47-880f-4aa2-b828-cdcc5e4da976",
   "metadata": {},
   "outputs": [
    {
     "data": {
      "text/plain": [
       "'GNSE'"
      ]
     },
     "execution_count": 35,
     "metadata": {},
     "output_type": "execute_result"
    }
   ],
   "source": [
    "Student.info()"
   ]
  },
  {
   "cell_type": "code",
   "execution_count": 36,
   "id": "2a9a6c26-4a34-4020-abb6-f9cfee482b0b",
   "metadata": {},
   "outputs": [
    {
     "name": "stdout",
     "output_type": "stream",
     "text": [
      "This is Static Method in Student Class\n"
     ]
    }
   ],
   "source": [
    "Student.details()"
   ]
  },
  {
   "cell_type": "markdown",
   "id": "ec490445-8fb3-4ada-b826-4599cb730912",
   "metadata": {
    "jp-MarkdownHeadingCollapsed": true
   },
   "source": [
    "# Inner Class"
   ]
  },
  {
   "cell_type": "code",
   "execution_count": 43,
   "id": "70f64321-7426-4283-927b-18e5e91aeecf",
   "metadata": {},
   "outputs": [],
   "source": [
    "class Student:\n",
    "    def __init__(self,name,brand = 'HP'):\n",
    "        self.name =name\n",
    "        self.lap = self.Laptop(brand)\n",
    "        \n",
    "    def show(self):\n",
    "        print(self.name)\n",
    "        self.lap.show()\n",
    "        \n",
    "    class Laptop:\n",
    "        def __init__(self, brand = 'HP'):\n",
    "            self.brand = brand\n",
    "            self.cpu = 'i5'\n",
    "            \n",
    "        def show(self):\n",
    "            print(self.brand + \" \" + self.cpu)\n",
    "            "
   ]
  },
  {
   "cell_type": "code",
   "execution_count": 44,
   "id": "8e99e4e9-b28f-4628-abd7-5196de48cd0d",
   "metadata": {},
   "outputs": [],
   "source": [
    "s1 = Student('Jeet')"
   ]
  },
  {
   "cell_type": "code",
   "execution_count": 45,
   "id": "a6421a5a-ae40-4dda-848c-32a79f162376",
   "metadata": {},
   "outputs": [
    {
     "name": "stdout",
     "output_type": "stream",
     "text": [
      "Jeet\n",
      "HP i5\n"
     ]
    }
   ],
   "source": [
    "s1.show()"
   ]
  },
  {
   "cell_type": "code",
   "execution_count": 46,
   "id": "16f77a81-d188-4e92-9f14-7c60dea422bd",
   "metadata": {},
   "outputs": [
    {
     "data": {
      "text/plain": [
       "'Jeet'"
      ]
     },
     "execution_count": 46,
     "metadata": {},
     "output_type": "execute_result"
    }
   ],
   "source": [
    "s1.name"
   ]
  },
  {
   "cell_type": "code",
   "execution_count": 47,
   "id": "3f78eb5e-799b-4c69-811a-80e310e10974",
   "metadata": {},
   "outputs": [
    {
     "data": {
      "text/plain": [
       "'HP'"
      ]
     },
     "execution_count": 47,
     "metadata": {},
     "output_type": "execute_result"
    }
   ],
   "source": [
    "s1.lap.brand"
   ]
  },
  {
   "cell_type": "code",
   "execution_count": 48,
   "id": "fe083620-c538-42d6-a1f2-3f5825cba6bc",
   "metadata": {},
   "outputs": [
    {
     "data": {
      "text/plain": [
       "'i5'"
      ]
     },
     "execution_count": 48,
     "metadata": {},
     "output_type": "execute_result"
    }
   ],
   "source": [
    "s1.lap.cpu"
   ]
  },
  {
   "cell_type": "code",
   "execution_count": 49,
   "id": "9f3d75b8-a0ca-40f4-8696-96b65172cd0f",
   "metadata": {},
   "outputs": [
    {
     "name": "stdout",
     "output_type": "stream",
     "text": [
      "HP i5\n"
     ]
    }
   ],
   "source": [
    "s1.lap.show()"
   ]
  },
  {
   "cell_type": "code",
   "execution_count": 50,
   "id": "2a603d73-96a7-435b-886a-4e9cb2f91896",
   "metadata": {},
   "outputs": [],
   "source": [
    "lap1 = s1.lap"
   ]
  },
  {
   "cell_type": "code",
   "execution_count": 51,
   "id": "53afa990-f96b-4ad0-9328-d10f4600f27d",
   "metadata": {},
   "outputs": [
    {
     "name": "stdout",
     "output_type": "stream",
     "text": [
      "HP i5\n"
     ]
    }
   ],
   "source": [
    "lap1.show()"
   ]
  },
  {
   "cell_type": "code",
   "execution_count": 52,
   "id": "c67ffcf2-1dbf-4d33-9039-98af05165736",
   "metadata": {},
   "outputs": [],
   "source": [
    "s2 = Student('JEET','Lenovo')"
   ]
  },
  {
   "cell_type": "code",
   "execution_count": 53,
   "id": "f230c895-d38c-4f59-a971-120339e08ffc",
   "metadata": {},
   "outputs": [
    {
     "name": "stdout",
     "output_type": "stream",
     "text": [
      "JEET\n",
      "Lenovo i5\n"
     ]
    }
   ],
   "source": [
    "s2.show()"
   ]
  },
  {
   "cell_type": "code",
   "execution_count": 54,
   "id": "05432c60-b45a-46e8-bff1-6ebbcace9b6d",
   "metadata": {},
   "outputs": [],
   "source": [
    "s = Student.Laptop()"
   ]
  },
  {
   "cell_type": "code",
   "execution_count": 55,
   "id": "24bec780-696e-41fe-b065-909cf01cac82",
   "metadata": {},
   "outputs": [
    {
     "name": "stdout",
     "output_type": "stream",
     "text": [
      "HP i5\n"
     ]
    }
   ],
   "source": [
    "s.show()"
   ]
  },
  {
   "cell_type": "code",
   "execution_count": 56,
   "id": "8e6d2028-a0c0-4e3d-98b7-5eb73e721e6c",
   "metadata": {},
   "outputs": [
    {
     "data": {
      "text/plain": [
       "'HP'"
      ]
     },
     "execution_count": 56,
     "metadata": {},
     "output_type": "execute_result"
    }
   ],
   "source": [
    "s.brand"
   ]
  },
  {
   "cell_type": "markdown",
   "id": "b1557cf7-676b-4f2c-8704-85cd3e1020d8",
   "metadata": {
    "jp-MarkdownHeadingCollapsed": true
   },
   "source": [
    "# Inheritance"
   ]
  },
  {
   "cell_type": "code",
   "execution_count": 60,
   "id": "8f84a36a-f37e-4a8f-b843-3c04e070c46d",
   "metadata": {},
   "outputs": [],
   "source": [
    "class A:\n",
    "    def __init__(self):\n",
    "        print('Init A')\n",
    "        \n",
    "    def feature1(self):\n",
    "        print('Feature1 A')\n",
    "        \n",
    "class B(A):\n",
    "    def __init__(self):\n",
    "        print('Init B')\n",
    "        \n",
    "    def feature2(Self):\n",
    "        print('Feature2 B')"
   ]
  },
  {
   "cell_type": "code",
   "execution_count": 61,
   "id": "8c1e7d76-2531-4794-81c3-1d43acba2aa9",
   "metadata": {},
   "outputs": [
    {
     "name": "stdout",
     "output_type": "stream",
     "text": [
      "Init A\n",
      "Feature1 A\n"
     ]
    }
   ],
   "source": [
    "a = A()\n",
    "a.feature1()"
   ]
  },
  {
   "cell_type": "code",
   "execution_count": 62,
   "id": "4f33d664-1024-4f5c-b157-69263c89efb6",
   "metadata": {},
   "outputs": [
    {
     "name": "stdout",
     "output_type": "stream",
     "text": [
      "Init B\n",
      "Feature1 A\n",
      "Feature2 B\n"
     ]
    }
   ],
   "source": [
    "b = B()\n",
    "b.feature1()\n",
    "b.feature2()"
   ]
  },
  {
   "cell_type": "code",
   "execution_count": 76,
   "id": "b13697cd-40e4-42b7-84d5-c168f6330820",
   "metadata": {},
   "outputs": [],
   "source": [
    "class A:\n",
    "    def __init__(self):\n",
    "        print('Init A')\n",
    "        \n",
    "    def feature1(self):\n",
    "        print('Feature1 A')\n",
    "        \n",
    "class B:\n",
    "    def __init__(self):\n",
    "        print('Init B')\n",
    "        \n",
    "    def feature2(Self):\n",
    "        print('Feature2 B')\n",
    "\n",
    "class C(A,B):\n",
    "    def feature1(self):\n",
    "        print('Feature1 C')"
   ]
  },
  {
   "cell_type": "code",
   "execution_count": 77,
   "id": "a12e1dd2-db52-4f6b-aa3c-1e7cd0629db3",
   "metadata": {},
   "outputs": [
    {
     "name": "stdout",
     "output_type": "stream",
     "text": [
      "Init A\n",
      "Feature1 C\n"
     ]
    }
   ],
   "source": [
    "c = C()\n",
    "c.feature1()"
   ]
  },
  {
   "cell_type": "code",
   "execution_count": 88,
   "id": "be09f139-7f87-4428-9eef-fa23664efd23",
   "metadata": {},
   "outputs": [],
   "source": [
    "class A:\n",
    "    def __init__(self):\n",
    "        print('Init A')\n",
    "        \n",
    "    def feature1(self):\n",
    "        print('Feature1 A')\n",
    "        \n",
    "class B:\n",
    "    def __init__(self):\n",
    "        print('Init B')\n",
    "        \n",
    "    def feature2(Self):\n",
    "        print('Feature2 B')\n",
    "\n",
    "class C(A,B):\n",
    "    def __init__(self):\n",
    "        #super().__init__()\n",
    "        print('Init C')\n",
    "        super().__init__()\n",
    "        super().__init__()\n",
    "        \n",
    "    def feature3(self):\n",
    "        super().feature1()\n",
    "        print('Feature3 C')"
   ]
  },
  {
   "cell_type": "code",
   "execution_count": 89,
   "id": "4a8f1bfe-3f3c-4d2b-9314-9720c29da127",
   "metadata": {},
   "outputs": [
    {
     "name": "stdout",
     "output_type": "stream",
     "text": [
      "Init C\n",
      "Init A\n",
      "Init A\n"
     ]
    }
   ],
   "source": [
    "c = C()"
   ]
  },
  {
   "cell_type": "code",
   "execution_count": 90,
   "id": "79a2a150-4e74-4b79-ba1a-2ca59865b2f7",
   "metadata": {},
   "outputs": [
    {
     "name": "stdout",
     "output_type": "stream",
     "text": [
      "Feature1 A\n",
      "Feature3 C\n"
     ]
    }
   ],
   "source": [
    "c.feature3()"
   ]
  },
  {
   "cell_type": "code",
   "execution_count": 91,
   "id": "71ce23d0-6d00-49e8-a97c-b0c01fa281f3",
   "metadata": {},
   "outputs": [],
   "source": [
    "class A:\n",
    "    def __init__(self):\n",
    "        print('Init A')\n",
    "        \n",
    "    def feature1(self):\n",
    "        print('Feature1 A')\n",
    "        \n",
    "class B:\n",
    "    def __init__(self):\n",
    "        print('Init B')\n",
    "        \n",
    "    def feature2(Self):\n",
    "        print('Feature2 B')\n",
    "\n",
    "class C(A,B):\n",
    "    def __init__(self):\n",
    "        #super().__init__()\n",
    "        print('Init C')\n",
    "        \n",
    "    def feature1(self):\n",
    "        super().feature1()\n",
    "        print('Feature1 C')"
   ]
  },
  {
   "cell_type": "code",
   "execution_count": 92,
   "id": "ed9e0bce-6026-4846-99ef-d843f9cc9879",
   "metadata": {},
   "outputs": [
    {
     "name": "stdout",
     "output_type": "stream",
     "text": [
      "Init C\n"
     ]
    }
   ],
   "source": [
    "c = C()"
   ]
  },
  {
   "cell_type": "code",
   "execution_count": 93,
   "id": "e3e1ae11-9cab-45fc-8a08-73c0419ec9a2",
   "metadata": {},
   "outputs": [
    {
     "name": "stdout",
     "output_type": "stream",
     "text": [
      "Feature2 B\n"
     ]
    }
   ],
   "source": [
    "c.feature2()"
   ]
  },
  {
   "cell_type": "code",
   "execution_count": 94,
   "id": "0ccbbdbc-298f-4c12-91f2-a6df54043216",
   "metadata": {},
   "outputs": [
    {
     "name": "stdout",
     "output_type": "stream",
     "text": [
      "Feature1 A\n",
      "Feature1 C\n"
     ]
    }
   ],
   "source": [
    "c.feature1()"
   ]
  },
  {
   "cell_type": "markdown",
   "id": "709fc557-5cb3-4a23-b34a-5e68e4f7a892",
   "metadata": {},
   "source": [
    "# Polymorphism"
   ]
  },
  {
   "cell_type": "code",
   "execution_count": 97,
   "id": "12fb85c2-46c7-48cc-8dce-84e86061a0db",
   "metadata": {},
   "outputs": [],
   "source": [
    "# Duck Typing\n",
    "\n",
    "class PyCharm:\n",
    "    def execute(self):\n",
    "        print('Compiling and running in PyCharm')\n",
    "\n",
    "class VsCode:\n",
    "    def execute(self):\n",
    "        print('Compiling and running in VsCode')\n",
    "\n",
    "class Laptop:\n",
    "    def code(self, ide):\n",
    "        ide.execute()"
   ]
  },
  {
   "cell_type": "code",
   "execution_count": 98,
   "id": "a7bfb2d9-4cbf-48d1-8514-717b96beef9f",
   "metadata": {},
   "outputs": [
    {
     "name": "stdout",
     "output_type": "stream",
     "text": [
      "Compiling and running in PyCharm\n",
      "Compiling and running in VsCode\n"
     ]
    }
   ],
   "source": [
    "ide1 = PyCharm()\n",
    "ide2 = VsCode()\n",
    "\n",
    "lap1 = Laptop()\n",
    "lap1.code(ide1)\n",
    "lap1.code(ide2)"
   ]
  },
  {
   "cell_type": "code",
   "execution_count": 99,
   "id": "a932a1dd-ad2f-4b25-a097-a3fc6a412402",
   "metadata": {},
   "outputs": [],
   "source": [
    "# Operator Overloading\n",
    "\n",
    "class Student:\n",
    "    \n",
    "    def __init__(self,a,b):\n",
    "        self.a = a\n",
    "        self.b = b\n",
    "        \n",
    "    def __add__(self, other):\n",
    "        a = self.a + other.a\n",
    "        b = self.b + other.b\n",
    "        s = Student(a,b)\n",
    "        return s"
   ]
  },
  {
   "cell_type": "code",
   "execution_count": 100,
   "id": "8f0c1b7e-84a1-4314-8468-929b0c9c1aca",
   "metadata": {},
   "outputs": [],
   "source": [
    "s1 = Student(10,20)\n",
    "s2 = Student(100,200)"
   ]
  },
  {
   "cell_type": "code",
   "execution_count": 101,
   "id": "46fabba2-44ee-4546-8627-0ed3bc7bb646",
   "metadata": {},
   "outputs": [],
   "source": [
    "s3 = s1+s2"
   ]
  },
  {
   "cell_type": "code",
   "execution_count": 102,
   "id": "4103ef26-0d16-4313-8ffe-2aaaa6469000",
   "metadata": {},
   "outputs": [
    {
     "data": {
      "text/plain": [
       "110"
      ]
     },
     "execution_count": 102,
     "metadata": {},
     "output_type": "execute_result"
    }
   ],
   "source": [
    "s3.a"
   ]
  },
  {
   "cell_type": "code",
   "execution_count": 103,
   "id": "d931cb5e-225e-4c8d-9561-3093a0f95217",
   "metadata": {},
   "outputs": [
    {
     "data": {
      "text/plain": [
       "30"
      ]
     },
     "execution_count": 103,
     "metadata": {},
     "output_type": "execute_result"
    }
   ],
   "source": [
    "# Method Overloading\n",
    "\n",
    "class Sum:\n",
    "    def sum(self, a=None, b= None):\n",
    "        if a!=None and b!=None:\n",
    "            s = a+b\n",
    "        else:\n",
    "            s = a\n",
    "        return s\n",
    "\n",
    "s = Sum()\n",
    "s.sum(10,20)"
   ]
  },
  {
   "cell_type": "code",
   "execution_count": 104,
   "id": "c328cb94-b48e-42bc-82b5-a6b6fbdc09d0",
   "metadata": {},
   "outputs": [
    {
     "data": {
      "text/plain": [
       "10"
      ]
     },
     "execution_count": 104,
     "metadata": {},
     "output_type": "execute_result"
    }
   ],
   "source": [
    "s.sum(10)"
   ]
  },
  {
   "cell_type": "code",
   "execution_count": 105,
   "id": "1e13b6b5-f9e6-4761-81f5-473775d8ac32",
   "metadata": {},
   "outputs": [
    {
     "name": "stdout",
     "output_type": "stream",
     "text": [
      "This is Child\n"
     ]
    }
   ],
   "source": [
    "# Method Overriding\n",
    "\n",
    "class Parent:\n",
    "    def info(self):\n",
    "        print('This is Parent')\n",
    "\n",
    "class Child(Parent):\n",
    "    def info(Self):\n",
    "        print('This is Child')\n",
    "\n",
    "c = Child()\n",
    "c.info()"
   ]
  },
  {
   "cell_type": "code",
   "execution_count": 106,
   "id": "74a5b68e-6993-4edf-8071-ca44d80ada17",
   "metadata": {},
   "outputs": [
    {
     "name": "stdout",
     "output_type": "stream",
     "text": [
      "This is Parent\n"
     ]
    }
   ],
   "source": [
    "p = Parent()\n",
    "p.info()"
   ]
  },
  {
   "cell_type": "code",
   "execution_count": null,
   "id": "ab9816c1-2d1e-42ac-84fc-89e5eed691b7",
   "metadata": {},
   "outputs": [],
   "source": []
  }
 ],
 "metadata": {
  "kernelspec": {
   "display_name": "Python 3 (ipykernel)",
   "language": "python",
   "name": "python3"
  },
  "language_info": {
   "codemirror_mode": {
    "name": "ipython",
    "version": 3
   },
   "file_extension": ".py",
   "mimetype": "text/x-python",
   "name": "python",
   "nbconvert_exporter": "python",
   "pygments_lexer": "ipython3",
   "version": "3.12.7"
  }
 },
 "nbformat": 4,
 "nbformat_minor": 5
}
